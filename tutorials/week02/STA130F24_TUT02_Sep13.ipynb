{
 "cells": [
  {
   "cell_type": "markdown",
   "id": "14b74968",
   "metadata": {},
   "source": [
    "# STA130 TUT 02 (Sep13)<br><br> 👨‍💻 👩🏻‍💻 <u>Coding with data types, for loops, and logical control <u>\n"
   ]
  },
  {
   "cell_type": "markdown",
   "id": "9047160dfd885818",
   "metadata": {},
   "source": [
    "\n",
    "## ♻️ 📚 Review / Questions [15 minutes]\n",
    "1. Follow up questions and clarifications regarding regarding **notebooks, markdown, ChatBots, or `Python` code** previously introduced in the Sep06 TUT and Sep09 LEC \n",
    "\n",
    "    > We're continuing to dive into using **notebooks, markdown, and `Python`** as a tool: building comfort and capability working with **ChatBots** to leverage `Python` code is the objective of the current phase of the course..."
   ]
  },
  {
   "cell_type": "markdown",
   "id": "7b6f2d524b9e6c7e",
   "metadata": {},
   "source": [
    "## 🚧 🏗️ Demo (using Jupyter Notebook and ChatBots) [50 minutes]\n",
    "1. **[25 of the 50 minutes]** Demonstrate some traditional `python` coding structures<br><br>\n",
    "\n",
    "    1. `tuple()`, `list()`, versus `dict()` # immutable, mutable, key-value pairs<br><br>\n",
    "    \n",
    "    2. Some `NumPy` functions:<br><br>\n",
    "    \n",
    "        1. `import numpy as np`\n",
    "        2. `np.array() # a faster list`\n",
    "        3. `np.random.choice([1,2,3])`<br><br>\n",
    "        \n",
    "    3. `for i in range(n)` and `for i,x in enumerate(a_list)` and `print()`<br><br>\n",
    "    \n",
    "    4. `if`/`else` conditional statements [perhaps with `x in b_list` or `i % 2 == 0` treat evens/odds differently... this is sort of like the infamous \"FizzBuzz\" problem that some people [can't complete](https://www.quora.com/On-average-what-is-the-proportion-of-applicants-that-cannot-pass-a-simple-FizzBuzz-test-based-on-your-personal-experience-or-on-facts) as part of a coding interview challenge]\n",
    "    \n",
    "        > At least note the \"similarity\" to `try`/`except`/`pass` since it is used in the demo code below\n",
    "        \n",
    "2. **[5 of the 50 minutes]** Review the [Monty Hall problem](../CHATLOG/wk2/GPT/SLS/00001_gpt3p5_MonteHall_ProblemExplanation_v1.md)<br><br>\n",
    "\n",
    "3. **[5 of the 50 minutes]** Examine which of the above coding structures are used (and not used) in the Monty Hall simulation below<br><br>\n",
    "\n",
    "    1. **[15 of the 50 minutes]** Use the remaining time to, start a demonstration of using a ChatBot to (a) understand what the code below is doing, and (b) suggest an improved streamlined version of the `for` loop simulation code that might be easier to explain and understand<br><br>\n",
    "    \n",
    "        1. ChatGPT version 3.5 [was very effective](../CHATLOG/wk2/GPT/SLS/00003_gpt3p5_MonteHall_CodeDiscussion_v1.md) for (b), while Copilot \"creative mode\" [was shockingly bad](../CHATLOG/wk2/COP/SLS/00001_creative_MonteHall_CodeDiscussion_v1.md) for (b) \n",
    "        2. Copilot \"precise mode\" initially struggled [but was eventually effective](../CHATLOG/wk2/COP/SLS/00002_concise_MonteHall_CodeDiscussion_v2.md) with some helpful guidance for (b)\n"
   ]
  },
  {
   "cell_type": "code",
   "execution_count": null,
   "id": "20e8c519ed45cbfb",
   "metadata": {},
   "outputs": [],
   "source": [
    "# Cell to demo what the above code does\n"
   ]
  },
  {
   "cell_type": "code",
   "execution_count": null,
   "id": "58f70b99",
   "metadata": {},
   "outputs": [],
   "source": [
    "# Add more code cells to keep a record of the demos\n"
   ]
  },
  {
   "cell_type": "code",
   "execution_count": 1,
   "id": "d9cfb02869afc350",
   "metadata": {
    "ExecuteTime": {
     "end_time": "2024-05-15T21:54:31.981069Z",
     "start_time": "2024-05-15T21:54:30.771611Z"
    }
   },
   "outputs": [
    {
     "data": {
      "text/plain": [
       "0.66777"
      ]
     },
     "execution_count": 1,
     "metadata": {},
     "output_type": "execute_result"
    }
   ],
   "source": [
    "# Monte Hall Simulation Code -- not the only way to code this, but it's what Prof. Schwartz came up with...\n",
    "\n",
    "import numpy as np\n",
    "all_door_options = (1,2,3)  # tuple\n",
    "my_door_choice = 1  # 1,2,3\n",
    "i_won = 0\n",
    "reps = 100000\n",
    "for i in range(reps):\n",
    "    secret_winning_door = np.random.choice(all_door_options)\n",
    "    all_door_options_list = list(all_door_options)\n",
    "    # take the secret_winning_door, so we don't show it as a \"goat\" losing door\n",
    "    all_door_options_list.remove(secret_winning_door)\n",
    "    try:\n",
    "        # if my_door_choice was secret_winning_door then it's already removed\n",
    "        all_door_options_list.remove(my_door_choice)\n",
    "    except:\n",
    "        pass\n",
    "    # show a \"goat\" losing door and remove it\n",
    "    goat_door_reveal = np.random.choice(all_door_options_list)\n",
    "    all_door_options_list.remove(goat_door_reveal)\n",
    "\n",
    "    # put the secret_winning_door back in if it wasn't our choice\n",
    "    # we previously removed it, so it would be shown as a  \"goat\" losing door\n",
    "    if secret_winning_door != my_door_choice:\n",
    "        all_door_options_list.append(secret_winning_door)\n",
    "    # if secret_winning_door was our choice then all that's left in the list is a \"goat\" losing door\n",
    "    # if secret_winning_door wasn't our choice then it's all that will be left in the list\n",
    "\n",
    "    # swap strategy\n",
    "    my_door_choice = all_door_options_list[0]\n",
    "\n",
    "    if my_door_choice == secret_winning_door:\n",
    "        i_won += 1\n",
    "\n",
    "i_won/reps"
   ]
  },
  {
   "cell_type": "markdown",
   "id": "b1985697e415697b",
   "metadata": {},
   "source": [
    "## 💬 🗣️ Communication [35 minutes]\n",
    "\n",
    "> I asked a ChatBot to create a group activity for you that was related to decision-making under uncertainty using probability, and it produced the following questions... \n",
    "> *This is a little bit like the suggestion in the \"Afterward\" of Homework last weeks to ask a ChatBot to suggest and explain some other \"unintuitive surprising statistics paradoxes\" (besides the \"World War 2 Plane\" and \"Monte Hall\" problems)*\n",
    " \n",
    "1. **[15 of the 35 minutes]** Break into 5 new groups of 4-5, and assign the following 5 questions to the 5 groups. [Consider allowing students to preferentially select which group they join by calling for volunteers for each prompt.] *For each of the prompts, the groups will consider the pros and cons of two options, the potential impact of a decision to persue one of the options, and how they take into account how uncertainty influences their thinking about the options.*<br><br>\n",
    "\n",
    "    1. Stock Investment Strategy: Students are investors trying to maximize their returns in the stock market. They must decide between two investment strategies: \"diversified portfolio\" or \"focused portfolio.\" Each strategy has different probabilities of success based on market conditions.<br><br>\n",
    "    \n",
    "        1. Diversified Portfolio: Spread investments across multiple industries.\n",
    "        2. Focused Portfolio: Concentrate investments in a few high-potential stocks.<br><br>\n",
    "        \n",
    "    2. Healthcare Treatment Decision: Students are healthcare professionals deciding between two treatment options for a patient's condition. Each treatment has different success rates and potential side effects.<br><br>\n",
    "    \n",
    "        1. Treatment A: High success rate but moderate side effects.\n",
    "        2. Treatment B: Lower success rate but minimal side effects.<br><br>\n",
    "        \n",
    "    3. Sports Team Strategy: Students are coaches of a sports team planning their game strategy. They must decide between two tactics: \"offensive strategy\" or \"defensive strategy.\" Each strategy has different probabilities of winning based on the opponent's strengths and weaknesses.<br><br>\n",
    "    \n",
    "        1. Offensive Strategy: Focus on scoring goals/points aggressively.\n",
    "        2. Defensive Strategy: Prioritize defense to prevent the opponent from scoring.<br><br>\n",
    "        \n",
    "    4. Career Path Decision: Students are recent graduates deciding between two career paths: \"corporate job\" or \"entrepreneurship.\" Each path has different probabilities of success and factors to consider, such as job security, income potential, and work-life balance.<br><br>\n",
    "    \n",
    "        1. Corporate Job: Stable income but limited growth opportunities.\n",
    "        2. Entrepreneurship: Higher potential for success but greater risk and uncertainty.<br><br>\n",
    "        \n",
    "    5. Environmental Conservation Strategy: Students are environmental activists advocating for conservation efforts in a wildlife reserve. They must decide between two conservation strategies: \"habitat preservation\" or \"species reintroduction.\" Each strategy has different probabilities of achieving long-term sustainability for the ecosystem.<br><br>\n",
    "    \n",
    "        1. Habitat Preservation: Protect existing habitats from human encroachment.\n",
    "        2. Species Reintroduction: Reintroduce endangered species to restore ecological balance.<br><br>\n",
    "\n",
    "2. **[20 of the 35 minutes]** Each group prepares a brief (approximately 3 minute) summary outlining their decision and the rationale behind it. Groups should address the expected outcomes, the risks involved, and why they believe their choice is the best in light of their characterization of the degree uncertainty present in their context. If time permits, engaging in some (students or TA) Q&A seeking clarification or challenging group decisions would be ideal."
   ]
  }
 ],
 "metadata": {
  "kernelspec": {
   "display_name": "Python 3 (ipykernel)",
   "language": "python",
   "name": "python3"
  },
  "language_info": {
   "codemirror_mode": {
    "name": "ipython",
    "version": 3
   },
   "file_extension": ".py",
   "mimetype": "text/x-python",
   "name": "python",
   "nbconvert_exporter": "python",
   "pygments_lexer": "ipython3",
   "version": "3.9.5"
  }
 },
 "nbformat": 4,
 "nbformat_minor": 5
}
