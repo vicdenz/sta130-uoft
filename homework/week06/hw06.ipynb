{
 "cells": [
  {
   "cell_type": "markdown",
   "metadata": {},
   "source": [
    "# STA130 Week 06 Homework\n",
    "***\n",
    "#### **Author**: David Daniliuc<br>**Created**: Sun Nov. 3, 2024\n",
    "\n",
    "> **ChatBot summaries can be found at the bottom of the page.**"
   ]
  },
  {
   "cell_type": "markdown",
   "metadata": {},
   "source": [
    "### 1. Explain the theoretical Simple Linear Regression model in your own words by describing its components (of predictor and outcome variables, slope and intercept coefficients, and an error term) and how they combine to form a sample from normal distribution; then, create *python* code explicitly demonstrating your explanation using *numpy* and *scipy.stats*."
   ]
  },
  {
   "cell_type": "markdown",
   "metadata": {},
   "source": []
  },
  {
   "cell_type": "markdown",
   "metadata": {},
   "source": [
    "### 14. Have you reviewed the course wiki-textbook and interacted with a ChatBot (or, if that wasn't sufficient, real people in the course piazza discussion board or TA office hours) to help you understand all the material in the tutorial and lecture that you didn't quite follow when you first saw it?"
   ]
  },
  {
   "cell_type": "markdown",
   "metadata": {},
   "source": [
    "This week, I started to use the STA130 ChatBot for the homework and to study difficult topics such as hypothesis testing and p-values. The STA130 ChatBot was extremely helpful compared to ChatGPT, and gave meaningful explanations and examples."
   ]
  },
  {
   "cell_type": "markdown",
   "metadata": {},
   "source": [
    "***\n",
    "### ChatBot Homework Session Summaries\n",
    "> **Question 1:**\n",
    "> \n",
    "> The conversation started with a request to simplify an explanation about null hypotheses. The simplified response explained that statistically testable ideas are quantifiable and measurable, enabling analysis with data. A good null hypothesis should be specific, testable, and falsifiable. This helps to evaluate the evidence against a scenario where there's \"no effect\". The conversation clarified the difference between a null hypothesis ($H_0$) and an alternative hypothesis ($H_A$): $H_0$ is presumed true until sufficient evidence suggests otherwise, while $H_A$ simply asserts that $H_0$ is not true.\n",
    "The discussion then emphasized the importance of considering the average effect on the population. When testing a drug's effect on blood pressure, for example, the null hypothesis should focus on whether the average change in blood pressure for the population taking the drug is different from zero, rather than proving the drug has no effect on anyone.\n",
    "The conversation stressed the difference between population parameters and sample statistics. Population parameters describe the whole population (like the average change in blood pressure for everyone who might take the drug), while sample statistics are calculated from a subset of that population and are subject to variability. Hypothesis testing uses sample statistics to draw conclusions about population parameters. The aim is to determine if the observed sample statistic provides strong enough evidence to reject the null hypothesis about the population parameter.\n",
    "> \n",
    "> **Question 2:**\n",
    "> \n",
    "> The conversation began by trying to simplify an explanation about the sentence from the video, \"It is important to note that outcomes of tests refer to the population parameter, rather than the sample statistic! As such, the result that we get is for the population.\" This explanation used the example of height of students at the University of Toronto to illustrate the difference between individual observations from a sample ($x_i$'s), the sample mean ($\\bar{x}$), the population mean ($\\mu$ ), and the hypothesized population mean under the null hypothesis ($\\mu_0$). The conversation then attempted to further simplify this explanation, aiming for a concise 3-4 sentence summary.\n",
    "Next, the conversation sought clarification about the definition of $x_i$'s, $\\bar{x}$, $\\mu$, and $\\mu_0$, requesting definitions without examples and specifying whether each term relates to the sample or population. After providing the definitions, the conversation confirmed the correctness of the following statement about the sentence from the video:\n",
    "Hypothesis tests aim to make inferences about population parameters such as the population mean (represented as $\\mu$). We use the sample mean (represented as $\\bar{x}$) as evidence to make decisions about the null hypothesis ($H_0$), which is a statement about the population parameters ($\\mu_0$ represents the hypothesized population mean under $H_0$). The outcome of a hypothesis test helps us decide if our sample provides strong enough evidence to reject $H_0$. Importantly, the result of a hypothesis test is applied to the whole population, not just the specific individuals within our sample.\n",
    "Finally, the conversation confirmed the accuracy of the explanation and suggested adding a definition of the p-value for further clarity.\n",
    "> \n",
    "> **Question 3:**\n",
    "> \n",
    "> When calculating a p-value, we \"imagine a world where the null hypothesis is true\" because the p-value is defined as the probability of observing a statistic as or more extreme than the observed statistic if the null hypothesis is true. This means we need to consider what the distribution of the test statistic would look like if the null hypothesis were actually true.\n",
    "To do this, we simulate the sampling distribution of the statistic under the null hypothesis. As discussed in our previous conversation, the null hypothesis is a statement about the population parameter we're interested in. For example, if we are testing whether a vaccine has an effect on patient health, our null hypothesis might be that the vaccine has no effect on average ($\\mu=0$). This implies that any observed improvements or reductions in health scores are simply due to random chance.\n",
    "To \"imagine\" this world where the null hypothesis is true, we simulate a large number of samples under the assumption that the null hypothesis is correct. For our vaccine example, we might simulate the distribution of the proportion of patients who improve after receiving the vaccine, assuming that the vaccine has no effect and the improvements are purely random. This simulated distribution represents the variability we would expect to see in the test statistic if the null hypothesis were true.\n",
    "We then compare the observed statistic from our actual sample to this simulated distribution. The p-value is calculated as the proportion of simulated statistics that are as or more extreme than the observed statistic. If the p-value is small, it means that our observed statistic is unlikely to have occurred if the null hypothesis were true. This provides evidence against the null hypothesis and suggests that the observed effect (e.g., improvement in patient health after taking the vaccine) is not simply due to random chance.\n",
    ">\n",
    "> **Question 4:**\n",
    "> \n",
    "> A smaller p-value suggests that the null hypothesis is less likely to be true. This is because the p-value represents the probability of observing a test statistic as extreme as the one obtained from the sample data, if the null hypothesis were actually true.\n",
    "As discussed in our previous conversation, to calculate a p-value, we first need to simulate the sampling distribution of the test statistic under the null hypothesis. This distribution shows us the range of values we would expect to see for the test statistic (a numerical summary of our sample data) if the null hypothesis accurately described the population.\n",
    "> Here's how the logic works:\n",
    "> - Imagine the null hypothesis is true: We start by assuming that the null hypothesis is indeed correct.\n",
    "> - Consider the sampling distribution: We then generate the sampling distribution of the test statistic, which represents the variability we would expect to observe in the test statistic if the null hypothesis were true.\n",
    "> - Compare the observed test statistic: We then compare our actual observed test statistic (calculated from our sample data) to this simulated distribution.\n",
    "> - Determine the p-value: The p-value is the proportion of simulated test statistics that are as or more extreme than our observed test statistic.\n",
    "Now, if the p-value is small:\n",
    "> - Improbable outcome: It means that our observed test statistic is quite unusual and would be very unlikely to occur if the null hypothesis were true.\n",
    "> - Evidence against the null: This suggests that our sample data is not consistent with the null hypothesis, providing evidence against it. The smaller the p-value, the more improbable our observed data becomes under the assumption that the null hypothesis is true, making the null hypothesis look increasingly \"suspicious\" or \"ridiculous.\"\n",
    "> \n",
    "> For example:\n",
    "Imagine we're testing a new drug, and our null hypothesis is that the drug has no effect on patient health. If our analysis yields a very small p-value, it suggests that the observed improvement in patient health after taking the drug is highly unlikely to have occurred simply by chance. This makes the null hypothesis (that the drug has no effect) seem less plausible.\n",
    "Key Takeaway:\n",
    "The p-value does not prove that the null hypothesis is false. It simply quantifies the strength of evidence against the null hypothesis. A small p-value provides stronger evidence against the null hypothesis, leading us to question its validity and consider alternative explanations for our observations.\n",
    ">\n",
    "> **Question 7:**\n",
    "> \n",
    "> You asked about adapting Week 5 Tutorial Demo II, which covers the vaccine data analysis, to calculate a p-value for a one-sided hypothesis test. Let's break down the necessary modifications and how they affect the interpretation of the results.\n",
    "Understanding Demo II and Hypothesis Testing\n",
    "Demo II in the Week 5 Tutorial introduces the concept of hypothesis testing using a simulation approach. It aims to evaluate a null hypothesis about a population parameter based on a sample statistic.\n",
    "Hypothesis testing is a statistical method that uses sample data to draw inferences about a population. The process involves formulating two hypotheses:\n",
    "> - Null hypothesis (H0): A statement of no effect or no difference.\n",
    "> - Alternative hypothesis (HA): A statement that contradicts the null hypothesis, suggesting an effect or difference.\n",
    "> \n",
    "> The goal is to determine whether the observed data provides enough evidence to reject the null hypothesis in favor of the alternative hypothesis.\n",
    "One-Sided vs. Two-Sided Tests\n",
    "Demo II originally uses a two-sided hypothesis test, which considers deviations from the null hypothesis in both directions. In the context of the vaccine data, a two-sided test would look for any difference in health scores, whether positive or negative, after receiving the vaccine.\n",
    "However, your query focuses on a one-sided hypothesis test. This type of test seeks evidence for an effect in a specific direction. For example, in the vaccine case, you might only be interested in whether the vaccine leads to an improvement in health scores.\n",
    "Modifying the Code\n",
    "The core modification lies in how you define \"as or more extreme\" when calculating the p-value.\n",
    "In a two-sided test, you would compare the absolute differences between the simulated test statistics and the hypothesized parameter value.\n",
    "In a one-sided test, you focus only on the direction of interest. For the vaccine example where you are looking for improvement, you would only consider simulated proportions of positive health changes that are greater than or equal to the observed proportion in the actual sample data.\n",
    "As we discussed in our conversation history, this change in focus means you only need to consider one tail of the sampling distribution when calculating the p-value. The code becomes simpler, and the resulting one-sided p-value is typically smaller than the two-sided p-value.\n",
    "Interpretation of Results\n",
    "A small one-sided p-value provides strong evidence against the null hypothesis in the specific direction of interest. For the vaccine example, this would mean that the observed improvement in health scores is unlikely due to random chance and provides evidence that the vaccine might indeed be effective.\n",
    "A large one-sided p-value, however, does not prove the null hypothesis. Instead, it suggests that the observed data does not provide enough evidence to reject the null hypothesis, meaning the observed improvement might be due to chance alone.\n",
    "Relating to Confidence Intervals\n",
    "As noted in the sources, hypothesis testing and confidence intervals are interconnected. A two-sided hypothesis test at a given significance level is equivalent to checking if the hypothesized parameter value falls within a corresponding confidence interval.\n",
    "In a one-sided test, you can think of it as constructing a one-sided confidence interval. For instance, if you are testing for improvement, you are essentially looking at the lower bound of the confidence interval. If the hypothesized value falls below this lower bound, you reject the null hypothesis, suggesting a positive effect."
   ]
  }
 ],
 "metadata": {
  "kernelspec": {
   "display_name": "Python 3",
   "language": "python",
   "name": "python3"
  },
  "language_info": {
   "codemirror_mode": {
    "name": "ipython",
    "version": 3
   },
   "file_extension": ".py",
   "mimetype": "text/x-python",
   "name": "python",
   "nbconvert_exporter": "python",
   "pygments_lexer": "ipython3",
   "version": "3.12.4"
  }
 },
 "nbformat": 4,
 "nbformat_minor": 2
}
