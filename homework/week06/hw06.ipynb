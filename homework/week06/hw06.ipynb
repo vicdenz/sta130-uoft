{
 "cells": [
  {
   "cell_type": "markdown",
   "metadata": {},
   "source": [
    "# STA130 Week 06 Homework\n",
    "***\n",
    "#### **Author**: David Daniliuc<br>**Created**: Sun Nov. 3, 2024\n",
    "\n",
    "> **ChatBot summaries can be found at the bottom of the page.**"
   ]
  },
  {
   "cell_type": "markdown",
   "metadata": {},
   "source": [
    "### 1. Explain the theoretical Simple Linear Regression model in your own words by describing its components (of predictor and outcome variables, slope and intercept coefficients, and an error term) and how they combine to form a sample from normal distribution; then, create *python* code explicitly demonstrating your explanation using *numpy* and *scipy.stats*."
   ]
  },
  {
   "cell_type": "markdown",
   "metadata": {},
   "source": []
  },
  {
   "cell_type": "markdown",
   "metadata": {},
   "source": [
    "### 14. Have you reviewed the course wiki-textbook and interacted with a ChatBot (or, if that wasn't sufficient, real people in the course piazza discussion board or TA office hours) to help you understand all the material in the tutorial and lecture that you didn't quite follow when you first saw it?"
   ]
  },
  {
   "cell_type": "markdown",
   "metadata": {},
   "source": [
    "This week, I started to use the STA130 ChatBot for the homework and to study difficult topics such as hypothesis testing and p-values. The STA130 ChatBot was extremely helpful compared to ChatGPT, and gave meaningful explanations and examples."
   ]
  },
  {
   "cell_type": "markdown",
   "metadata": {},
   "source": [
    "***\n",
    "### ChatBot Homework Session Summaries\n",
    "> **Question 1:**\n",
    "> \n",
    "> The conversation started with a request to simplify an explanation about null hypotheses. The simplified response explained that statistically testable ideas are quantifiable and measurable, enabling analysis with data. A good null hypothesis should be specific, testable, and falsifiable. This helps to evaluate the evidence against a scenario where there's \"no effect\". The conversation clarified the difference between a null hypothesis ($H_0$) and an alternative hypothesis ($H_A$): $H_0$ is presumed true until sufficient evidence suggests otherwise, while $H_A$ simply asserts that $H_0$ is not true.\n",
    "The discussion then emphasized the importance of considering the average effect on the population. When testing a drug's effect on blood pressure, for example, the null hypothesis should focus on whether the average change in blood pressure for the population taking the drug is different from zero, rather than proving the drug has no effect on anyone.\n",
    "The conversation stressed the difference between population parameters and sample statistics. Population parameters describe the whole population (like the average change in blood pressure for everyone who might take the drug), while sample statistics are calculated from a subset of that population and are subject to variability. Hypothesis testing uses sample statistics to draw conclusions about population parameters. The aim is to determine if the observed sample statistic provides strong enough evidence to reject the null hypothesis about the population parameter.\n",
    "> \n",
    "> **Question 2:**\n",
    "> \n",
    "> The conversation began by trying to simplify an explanation about the sentence from the video, \"It is important to note that outcomes of tests refer to the population parameter, rather than the sample statistic! As such, the result that we get is for the population.\" This explanation used the example of height of students at the University of Toronto to illustrate the difference between individual observations from a sample ($x_i$'s), the sample mean ($\\bar{x}$), the population mean ($\\mu$ ), and the hypothesized population mean under the null hypothesis ($\\mu_0$). The conversation then attempted to further simplify this explanation, aiming for a concise 3-4 sentence summary.\n",
    "Next, the conversation sought clarification about the definition of $x_i$'s, $\\bar{x}$, $\\mu$, and $\\mu_0$, requesting definitions without examples and specifying whether each term relates to the sample or population. After providing the definitions, the conversation confirmed the correctness of the following statement about the sentence from the video:\n",
    "Hypothesis tests aim to make inferences about population parameters such as the population mean (represented as $\\mu$). We use the sample mean (represented as $\\bar{x}$) as evidence to make decisions about the null hypothesis ($H_0$), which is a statement about the population parameters ($\\mu_0$ represents the hypothesized population mean under $H_0$). The outcome of a hypothesis test helps us decide if our sample provides strong enough evidence to reject $H_0$. Importantly, the result of a hypothesis test is applied to the whole population, not just the specific individuals within our sample.\n",
    "Finally, the conversation confirmed the accuracy of the explanation and suggested adding a definition of the p-value for further clarity."
   ]
  }
 ],
 "metadata": {
  "kernelspec": {
   "display_name": "Python 3",
   "language": "python",
   "name": "python3"
  },
  "language_info": {
   "codemirror_mode": {
    "name": "ipython",
    "version": 3
   },
   "file_extension": ".py",
   "mimetype": "text/x-python",
   "name": "python",
   "nbconvert_exporter": "python",
   "pygments_lexer": "ipython3",
   "version": "3.12.4"
  }
 },
 "nbformat": 4,
 "nbformat_minor": 2
}
