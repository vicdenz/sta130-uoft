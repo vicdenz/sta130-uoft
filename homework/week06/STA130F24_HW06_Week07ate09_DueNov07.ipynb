{
 "cells": [
  {
   "cell_type": "markdown",
   "id": "6cd8c93b",
   "metadata": {},
   "source": [
    "# STA130 Homework 06\n",
    "\n",
    "Please see the course [wiki-textbook](https://github.com/pointOfive/STA130_ChatGPT/wiki) for the list of topics covered in this homework assignment, and a list of topics that might appear during ChatBot conversations which are \"out of scope\" for the purposes of this homework assignment (and hence can be safely ignored if encountered)"
   ]
  },
  {
   "cell_type": "markdown",
   "id": "991dc719",
   "metadata": {},
   "source": [
    "<details class=\"details-example\">\n",
    "    <summary style=\"color:blue\"><u>Introduction</u></summary>\n",
    "\n",
    "A reasonable characterization of STA130 Homework is that it simply defines a weekly reading comprehension assignment. \n",
    "Indeed, STA130 Homework essentially boils down to completing various understanding confirmation exercises oriented around coding and writing tasks.\n",
    "However, rather than reading a textbook, STA130 Homework is based on ChatBots so students can interactively follow up to clarify questions or confusion that they may still have regarding learning objective assignments.\n",
    "\n",
    "> Communication is a fundamental skill underlying statistics and data science, so STA130 Homework based on ChatBots helps practice effective two-way communication as part of a \"realistic\" dialogue activity supporting underlying conceptual understanding building. \n",
    "\n",
    "It will likely become increasingly tempting to rely on ChatBots to \"do the work for you\". But when you find yourself frustrated with a ChatBots inability to give you the results you're looking for, this is a \"hint\" that you've become overreliant on the ChatBots. Your objective should not be to have ChatBots \"do the work for you\", but to use ChatBots to help you build your understanding so you can efficiently leverage ChatBots (and other resources) to help you work more efficiently.<br><br>\n",
    "\n",
    "</details>\n",
    "\n",
    "<details class=\"details-example\">\n",
    "    <summary style=\"color:blue\"><u>Instructions</u></summary>\n",
    "\n",
    "1. Code and write all your answers (for both the \"Prelecture\" and \"Postlecture\" HW) in a python notebook (in code and markdown cells) \n",
    "    \n",
    "    > It is *suggested but not mandatory* that you complete the \"Prelecture\" HW prior to the Monday LEC since (a) all HW is due at the same time; but, (b) completing some of the HW early will mean better readiness for LEC and less of a \"procrastentation cruch\" towards the end of the week...\n",
    "    \n",
    "2. Paste summaries of your ChatBot sessions (including link(s) to chat log histories if you're using ChatGPT) within your notebook\n",
    "    \n",
    "    > Create summaries of your ChatBot sessions by using concluding prompts such as \"Please provide a summary of our exchanges here so I can submit them as a record of our interactions as part of a homework assignment\" or, \"Please provide me with the final working verson of the code that we created together\"\n",
    "    \n",
    "3. Save your python jupyter notebook in your own account and \"repo\" on [github.com](github.com) and submit a link to that notebook though Quercus for assignment marking<br><br>\n",
    "\n",
    "</details>\n",
    "\n",
    "<details class=\"details-example\">\n",
    "    <summary style=\"color:blue\"><u>Prompt Engineering?</u></summary>\n",
    "\n",
    "The questions (as copy-pasted prompts) are designed to initialize appropriate ChatBot conversations which can be explored in the manner of an interactive and dynamic textbook; but, it is nonetheless **strongly recommendated** that your rephrase the questions in a way that you find natural to ensure a clear understanding of the question. Given sensible prompts the represent a question well, the two primary challenges observed to arise from ChatBots are \n",
    "\n",
    "1. conversations going beyond the intended scope of the material addressed by the question; and, \n",
    "2. unrecoverable confusion as a result of sequential layers logial inquiry that cannot be resolved. \n",
    "\n",
    "In the case of the former (1), adding constraints specifying the limits of considerations of interest tends to be helpful; whereas, the latter (2) is often the result of initial prompting that leads to poor developments in navigating the material, which are likely just best resolve by a \"hard reset\" with a new initial approach to prompting.  Indeed, this is exactly the behavior [hardcoded into copilot](https://answers.microsoft.com/en-us/bing/forum/all/is-this-even-normal/0b6dcab3-7d6c-4373-8efe-d74158af3c00)...\n",
    "\n",
    "</details>\n",
    "\n",
    "### Marking Rubric (which may award partial credit) \n",
    "\n",
    "- [0.1 points]: All relevant ChatBot summaries [including link(s) to chat log histories if you're using ChatGPT] are reported within the notebook\n",
    "- [0.2 points]: Evaluation of correctness and clarity in written communication for Question \"3\"\n",
    "- [0.2 points]: Evaluation of correctness and clarity in written communication for Question \"4\"\n",
    "- [0.3 points]: Evaluation of submitted work and conclusions for Question \"9\"\n",
    "- [0.2 points]: Evaluation of written communication of the \"big picture\" differences and correct evidence assessement for Question \"11\"\n"
   ]
  },
  {
   "cell_type": "markdown",
   "id": "a326d8bb",
   "metadata": {},
   "source": [
    "### \"Prelecture\" versus \"Postlecture\" HW? \n",
    "\n",
    "#### *Your HW submission is due prior to the Nov08 TUT on Friday after you return from Reading Week; however, this homework assignment is longer since it covers material from both the Oct21 and Nov04 LEC (rather than a single LEC); so, we'll brake the assignment into \"Week of Oct21\" and \"Week of Nov04\" HW and it will be due prior to the Nov08 TUT*\n"
   ]
  },
  {
   "cell_type": "markdown",
   "id": "d821fd86",
   "metadata": {},
   "source": [
    "## \"Week of Oct21\" HW [*due prior to the Nov08 TUT*]\n",
    "\n",
    "1. Explain the theoretical **Simple Linear Regression** model in your own words by describing its components (of predictor and outcome variables, slope and intercept coefficients, and an error term) and how they combine to form a sample from **normal distribution**; then, (working with a ChatBot if needed) create `python` code explicitly demonstrating your explanation using `numpy` and `scipy.stats`<br><br>\n",
    "\n",
    "    <details class=\"details-example\"><summary style=\"color:blue\"><u>Further Guidance</u></summary>\n",
    "    \n",
    "    > Your answer can be quite concise and will likely just address the \"mathematical\" and \"statistical\" aspects of the process of a **Simple Linear Model** specification, perhaps giving an intuitive interpretation summary of the result as a whole<br><br>\n",
    "    > \n",
    "    > 1. Your code could be based on values for `n`, `x`, `beta0`, `beta1`, and `sigma`; and, then create the `errors` and `y`<br><br>\n",
    "    > \n",
    "    > 2. The predictors $x_i$ can be fixed arbitrarily to start the process (perhaps sampled using `stats.uniform`), and they are conceptually different from the creation of **error** (or **noise**) terms $\\epsilon_i$ which are sampled from a **normal distribution** (with some aribtrarily *a priori* chosen **standard deviation** `scale` parameter $\\sigma$) which are then combined with $x_i$ through the **Simple Linear Model** equation (based on aribtrarily *a priori* chosen **slope** and **intercept coefficients**) to produce the $y_i$ outcomes<br><br>\n",
    "    > \n",
    "    > 3. It should be fairly easy to visualize the \"a + bx\" line defined by the **Simple Linear Model** equation, and some **simulated** data points around the line in a `plotly` figure using the help of a ChatBot\n",
    "    > \n",
    "    > If you use a ChatBot (as expected for this problem), **don't forget to ask for summaries of your ChatBot session(s) and paste these into your homework notebook (including link(s) to chat log histories if you're using ChatGPT)**\n",
    "    >\n",
    "    > \n",
    "    > **Question Scope Warning:** *Be careful when using a ChatBot to help you with creating an example dataset and coding up a visualization though, because it might suggest creating (and visualizing) a fitted model for to your data (rather than the theoretical model); but, this is not what this question is asking you to demonstrate*. This question is not asking about how to produce a fitted **Simple Linear Regression** model or explain how model **slope** and **intercept coefficients** are calculated (e.g., using \"ordinary least squares\" or analytical equations to estimate the **coefficients**  for an observed dataset) \n",
    "    > ```python\n",
    "    > # There are two distinct ways to use `plotly` here\n",
    "    >\n",
    "    > import plotly.express as px\n",
    "    > px.scatter(df, x='x',  y='y', color='Data', \n",
    "    >            trendline='ols', title='y vs. x')\n",
    "    >        \n",
    "    > import plotly.graph_objects as go\n",
    "    > fig = go.Figure()\n",
    "    > fig.add_trace(go.Scatter(x=x, y=y, mode='markers', name='Data'))\n",
    "    > \n",
    "    > # The latter is preferable since `trendline='ols'` in the former \n",
    "    > # creates a fitted model for the data and adds it to the figure\n",
    "    > ```\n",
    "    \n",
    "    </details><br>\n",
    "\n",
    "2. Continuing the previous question... (working with a ChatBot if needed) use a dataset **simulated** from your theoretical **Simple Linear Regression** model to demonstrate how to create and visualize a fitted **Simple Linear Regression** model using `pandas` and `import statsmodels.formula.api as smf`<br><br>\n",
    "\n",
    "    <details class=\"details-example\"><summary style=\"color:blue\"><u>Further Guidance</u></summary>\n",
    "        \n",
    "    > 1. Combine the **simulated** `x` and `y` into a `pandas` data frame object named `df` with the column names \"x\" and \"y\"<br><br>\n",
    "    > \n",
    "    > 2. Replace the inline question comments below with their answers (working with a ChatBot if needed)\n",
    "    >\n",
    "    > ```python\n",
    "    > import statsmodels.formula.api as smf  # what is this library for?\n",
    "    > import plotly.express as px  # this is a ploting library\n",
    "    >\n",
    "    > # what are the following two steps doing?\n",
    "    > model_data_specification = smf.ols(\"y~x\", data=df) \n",
    "    > fitted_model = model_data_specification.fit() \n",
    "    >\n",
    "    > # what do each of the following provide?\n",
    "    > fitted_model.summary()  # simple explanation? \n",
    "    > fitted_model.summary().tables[1]  # simple explanation?\n",
    "    > fitted_model.params  # simple explanation?\n",
    "    > fitted_model.params.values  # simple explanation?\n",
    "    > fitted_model.rsquared  # simple explanation?\n",
    "    >\n",
    "    > # what two things does this add onto the figure?\n",
    "    > df['Data'] = 'Data' # hack to add data to legend \n",
    "    > fig = px.scatter(df, x='x',  y='y', color='Data', \n",
    "    >                  trendline='ols', title='y vs. x')\n",
    "    >\n",
    "    > # This is essentially what above `trendline='ols'` does\n",
    "    > fig.add_scatter(x=df['x'], y=fitted_model.fittedvalues,\n",
    "    >                 line=dict(color='blue'), name=\"trendline='ols'\")\n",
    "    > \n",
    "    > fig.show() # USE `fig.show(renderer=\"png\")` FOR ALL GitHub and MarkUs SUBMISSIONS\n",
    "    > ```\n",
    "    >\n",
    "    > The plotting here uses the `plotly.express` form `fig.add_scatter(x=x, y=y)` rather than the `plotly.graph_objects` form `fig.add_trace(go.Scatter(x=x, y=y))`. The difference between these two was noted in the \"Further Guidance\" comments in the previous question; but, the preference for the former in this case is because `px` allows us to access `trendline='ols'` through `px.scatter(df, x='x',  y='y', trendline='ols')`\n",
    "\n",
    "    </details><br>\n",
    "\n",
    "3. Continuing the previous questions... (working with a ChatBot if needed) add the line from Question 1 on the figure of Question 2 and explain the difference between the nature of the two lines in your own words<br><br>\n",
    "\n",
    "    <details class=\"details-example\"><summary style=\"color:blue\"><u>Further Guidance</u></summary>\n",
    "\n",
    "    > This question is effectively asking you to explain what the combined code you produced for Questions 1 and 2 is trying to demonstrate overall. If you're working with a ChatBot (as expected), giving these two sets of code as context, and asking what the purpose of comparing these lines could be would be a way to get some help in formulating your answer\n",
    "    > \n",
    "    > The graphical visualization aspect of this question could be accomplished by appending the following code to the code provided in Question 2.\n",
    "    > \n",
    "    > ```python\n",
    "    > # what does this add onto the figure in constrast to `trendline='ols'`?\n",
    "    > x_range = np.array([df['x'].min(), df['x'].max()])\n",
    "    > # beta0 and beta1 are assumed to be defined\n",
    "    > y_line = beta0 + beta1 * x_range\n",
    "    > fig.add_scatter(x=x_range, y=y_line, mode='lines',\n",
    "    >                 name=str(beta0)+' + '+str(beta1)+' * x', \n",
    "    >                 line=dict(dash='dot', color='orange'))\n",
    "    >\n",
    "    > fig.show() # USE `fig.show(renderer=\"png\")` FOR ALL GitHub and MarkUs SUBMISSIONS\n",
    "    > ```\n",
    "    > \n",
    "    > *The right way to interactively \"see\" the answer to this question is to repeatedly create different dataset **simulations** using your theoretical model and the corresponding fitted models, and repeatedly visualize the data and the two lines over and over... this would be as easy as rerunning a single cell containing your simulation and visualization code...*\n",
    "    \n",
    "    </details><br>\n",
    " \n",
    "4. Continuing the previous questions... (working with a ChatBot if needed) explain how `fitted_model.fittedvalues` are derived on the basis of `fitted_model.summary().tables[1]` (or more specifically  `fitted_model.params` or `fitted_model.params.values`)<br><br>\n",
    "\n",
    "    <details class=\"details-example\"><summary style=\"color:blue\"><u>Further Guidance</u></summary>\n",
    "\n",
    "    > The previous questions used code to explore the distinction between theoretical (true) $Y_i = \\beta_0 + \\beta_1 x_i + \\epsilon_i [\\text{where } \\epsilon_i \\sim \\mathcal{N}(0, \\sigma)]$ and fitted (estimated) $\\hat{y}_i = \\hat{\\beta}_0 + \\hat{\\beta}_1 x_i$ **Simple Linear Regression** models\n",
    "    >\n",
    "    > This question asks you to explicitly illustrate what the latter fitted **Simple Linear Regression** model $\\hat{y}_i = \\hat{\\beta}_0 + \\hat{\\beta}_1 x_i$ is (in contrast to the linear equation of the theoretical model)\n",
    "\n",
    "    </details><br>\n",
    "\n",
    "5. Building on the previous questions... (working with a ChatBot if needed) explain concisely in your own words what line is chosen for the fitted model based on observed data using the \"ordinary least squares\" method (as is done by `trendline='ols'` and `smf.ols(...).fit()`) and why it requires \"squares\"<br><br>\n",
    "    \n",
    "    <details class=\"details-example\"><summary style=\"color:blue\"><u>Further Guidance</u></summary>\n",
    "    \n",
    "    > This question addresses the use of **residuals** $\\text{e}_i = \\hat \\epsilon_i = y_i - \\hat y_i$ (in contrast to the **error** terms $\\epsilon_i$ of the theoretical model), and particularly, asks for an explanation based on the following visualization\n",
    "    >\n",
    "    > ```python \n",
    "    > import scipy.stats as stats\n",
    "    > import pandas as pd\n",
    "    > import statsmodels.formula.api as smf\n",
    "    > import plotly.express as px\n",
    "    > \n",
    "    > n,x_min,x_range,beta0,beta1,sigma = 20,5,5,2,3,5\n",
    "    > x = stats.uniform(x_min, x_range).rvs(size=n)\n",
    "    > errors = stats.norm(loc=0, scale=sigma).rvs(size=n)\n",
    "    > y = beta0 + beta1 * x + errors\n",
    "    > \n",
    "    > df = pd.DataFrame({'x': x, 'y': y})\n",
    "    > model_data_specification = smf.ols(\"y~x\", data=df) \n",
    "    > fitted_model = model_data_specification.fit() \n",
    "    > \n",
    "    > df['Data'] = 'Data' # hack to add data to legend \n",
    "    > fig = px.scatter(df, x='x',  y='y', color='Data', \n",
    "    >                  trendline='ols', title='y vs. x')\n",
    "    > \n",
    "    > # This is what `trendline='ols'` is\n",
    "    > fig.add_scatter(x=df['x'], y=fitted_model.fittedvalues,\n",
    "    >                 line=dict(color='blue'), name=\"trendline='ols'\")\n",
    "    > \n",
    "    > x_range = np.array([df['x'].min(), df['x'].max()])\n",
    "    > y_line = beta0 + beta1 * x_range\n",
    "    > fig.add_scatter(x=x_range, y=y_line, mode='lines',\n",
    "    >                 name=str(beta0)+' + '+str(beta1)+' * x', \n",
    "    >                 line=dict(dash='dot', color='orange'))\n",
    "    > \n",
    "    > # Add vertical lines for residuals\n",
    "    > for i in range(len(df)):\n",
    "    >     fig.add_scatter(x=[df['x'][i], df['x'][i]],\n",
    "    >                     y=[fitted_model.fittedvalues[i], df['y'][i]],\n",
    "    >                     mode='lines',\n",
    "    >                     line=dict(color='red', dash='dash'),\n",
    "    >                     showlegend=False)\n",
    "    >     \n",
    "    > # Add horizontal line at y-bar\n",
    "    > fig.add_scatter(x=x_range, y=[df['y'].mean()]*2, mode='lines',\n",
    "    >                 line=dict(color='black', dash='dot'), name='y-bar')\n",
    "    > \n",
    "    > fig.show() # USE `fig.show(renderer=\"png\")` FOR ALL GitHub and MarkUs SUBMISSIONS\n",
    "    > ```\n",
    "    >\n",
    "    > **Question Scope Warning**: we are not looking for any explanation realted to the mathematical equations for the line chosen for the **Simple Linear Regression** model by the \"ordinary least squares\" method, which happen to be\n",
    "    > \n",
    "    > $$\\hat \\beta_1 = r_{xy}\\frac{s_y}{s_x} \\quad \\text{ and } \\quad  \\hat\\beta_0 = \\bar {y}-\\hat \\beta_1\\bar {x}$$\n",
    "    >\n",
    "    > where $r_{xy}$ is the **correlation** between $x$ and $y$ and $s_y$ and $s_x$ are their **sample standard deviations**\n",
    "    \n",
    "    </details><br>\n",
    "    \n",
    "5. Building on the previous questions... confirm that the following explain what the two `np.corrcoef...` expressions capture, why the final expression can be interpreted as \"the proportion of variation in (outcome) y explained by the model (fitted_model.fittedvalues)\", and therefore why `fitted_model.rsquared` can be interpreted as a measure of the accuracy of the model<br><br>\n",
    "\n",
    "    1. `fitted_model.rsquared`\n",
    "    2. `np.corrcoef(y,x)[0,1]**2`\n",
    "    3. `np.corrcoef(y,fitted_model.fittedvalues)[0,1]**2`\n",
    "    4. `1-((y-fitted_model.fittedvalues)**2).sum()/((y-y.mean())**2).sum()`<br><br>\n",
    "\n",
    "    <details class=\"details-example\"><summary style=\"color:blue\"><u>Further Guidance</u></summary>\n",
    "    \n",
    "    > **R-squared** is the \"the proportion of variation in (outcome) $y$ explained by the model ($\\hat y_i$)\" and is defined as\n",
    "    >\n",
    "    > $R^2 = 1 - \\frac{\\sum_{i=1}^n(y_i-\\hat y)^2}{\\sum_{i=1}^n(y_i-\\bar y)^2}$\n",
    "    >\n",
    "    > The visuzation provided in the previous problem can be used to consider $(y_i-\\bar y)^2$ as the squared distance of the $y_i$ to their sample average $\\bar y$ as opposed to the squared **residuals** $(y_i-\\hat y)^2$ which is the squared distance of the $y_i$ to their fitted (predicted) values $y_i$.\n",
    "    </details><br>\n",
    "    \n",
    "7. Indicate a couple of the assumptions of the **Simple Linear Regression** model specification do not seem compatible with the example data below\n",
    " "
   ]
  },
  {
   "cell_type": "code",
   "execution_count": 244,
   "id": "ec7fda0d",
   "metadata": {},
   "outputs": [
    {
     "data": {
      "application/vnd.plotly.v1+json": {
       "config": {
        "plotlyServerURL": "https://plot.ly"
       },
       "data": [
        {
         "hovertemplate": "Amount of Fertilizer (kg) (x)=%{x}<br>Crop Yield (tons) (y)=%{y}<extra></extra>",
         "legendgroup": "",
         "marker": {
          "color": "#636efa",
          "symbol": "circle"
         },
         "mode": "markers",
         "name": "",
         "orientation": "v",
         "showlegend": false,
         "type": "scatter",
         "x": [
          1,
          1.2,
          1.4,
          1.6,
          1.8,
          2,
          2.2,
          2.4,
          2.6,
          2.8,
          3,
          3.2,
          3.4,
          3.6,
          3.8,
          4,
          4.2,
          4.4,
          4.6,
          4.8,
          5,
          5.2,
          5.4,
          5.6,
          5.8,
          6,
          6.2,
          6.4,
          6.6,
          6.8,
          7,
          7.2,
          7.4,
          7.6,
          7.8,
          8,
          8.2,
          8.4,
          8.6,
          8.8,
          9,
          9.2,
          9.4,
          9.6
         ],
         "xaxis": "x",
         "y": [
          18.7,
          16.9,
          16.1,
          13.4,
          48.4,
          51.9,
          31.8,
          51.3,
          63.9,
          50.6,
          58.7,
          82.4,
          66.7,
          81.2,
          96.5,
          112.2,
          132.5,
          119.8,
          127.7,
          136.3,
          148.5,
          169.4,
          177.9,
          186.7,
          198.1,
          215.7,
          230.7,
          250.4,
          258,
          267.8,
          320.4,
          302,
          307.2,
          331.5,
          375.3,
          403.4,
          393.5,
          434.9,
          431.9,
          451.1,
          491.2,
          546.8,
          546.4,
          558.9
         ],
         "yaxis": "y"
        },
        {
         "hovertemplate": "<b>OLS trendline</b><br>Crop Yield (tons) (y) = 62.3653 * Amount of Fertilizer (kg) (x) + -117.475<br>R<sup>2</sup>=0.940931<br><br>Amount of Fertilizer (kg) (x)=%{x}<br>Crop Yield (tons) (y)=%{y} <b>(trend)</b><extra></extra>",
         "legendgroup": "",
         "marker": {
          "color": "#636efa",
          "symbol": "circle"
         },
         "mode": "lines",
         "name": "",
         "showlegend": false,
         "type": "scatter",
         "x": [
          1,
          1.2,
          1.4,
          1.6,
          1.8,
          2,
          2.2,
          2.4,
          2.6,
          2.8,
          3,
          3.2,
          3.4,
          3.6,
          3.8,
          4,
          4.2,
          4.4,
          4.6,
          4.8,
          5,
          5.2,
          5.4,
          5.6,
          5.8,
          6,
          6.2,
          6.4,
          6.6,
          6.8,
          7,
          7.2,
          7.4,
          7.6,
          7.8,
          8,
          8.2,
          8.4,
          8.6,
          8.8,
          9,
          9.2,
          9.4,
          9.6
         ],
         "xaxis": "x",
         "y": [
          -55.109393939393996,
          -42.6363354474983,
          -30.163276955602598,
          -17.690218463706884,
          -5.217159971811185,
          7.255898520084514,
          19.728957011980228,
          32.20201550387591,
          44.675073995771626,
          57.14813248766731,
          69.62119097956302,
          82.09424947145874,
          94.56730796335442,
          107.04036645525014,
          119.51342494714582,
          131.98648343904154,
          144.45954193093723,
          156.93260042283296,
          169.40565891472863,
          181.87871740662433,
          194.35177589852003,
          206.82483439041576,
          219.29789288231146,
          231.77095137420713,
          244.24400986610286,
          256.7170683579985,
          269.1901268498943,
          281.66318534179,
          294.1362438336856,
          306.6093023255814,
          319.0823608174771,
          331.5554193093728,
          344.0284778012685,
          356.5015362931642,
          368.9745947850599,
          381.4476532769556,
          393.9207117688512,
          406.393770260747,
          418.8668287526427,
          431.33988724453843,
          443.8129457364341,
          456.2860042283298,
          468.75906272022553,
          481.23212121212117
         ],
         "yaxis": "y"
        },
        {
         "alignmentgroup": "True",
         "bingroup": "x",
         "hovertemplate": "Residuals=%{x}<br>count=%{y}<extra></extra>",
         "legendgroup": "",
         "marker": {
          "color": "#636efa",
          "pattern": {
           "shape": ""
          }
         },
         "name": "",
         "nbinsx": 10,
         "offsetgroup": "",
         "orientation": "v",
         "showlegend": false,
         "type": "histogram",
         "x": [
          73.80939393939391,
          59.536335447498224,
          46.26327695560253,
          31.09021846370681,
          53.61715997181111,
          44.64410147991541,
          12.071042988019702,
          19.097984496124027,
          19.2249260042283,
          -6.548132487667367,
          -10.921190979563093,
          0.30575052854121054,
          -27.86730796335449,
          -25.84036645525019,
          -23.013424947145893,
          -19.78648343904159,
          -11.95954193093732,
          -37.13260042283302,
          -41.70565891472866,
          -45.57871740662435,
          -45.85177589852012,
          -37.42483439041581,
          -41.39789288231151,
          -45.07095137420717,
          -46.14400986610292,
          -41.01706835799865,
          -38.49012684989435,
          -31.263185341790034,
          -36.136243833685626,
          -38.80930232558143,
          1.3176391825228393,
          -29.555419309372837,
          -36.82847780126855,
          -25.001536293164236,
          6.325405214940076,
          21.952346723044343,
          -0.42071176885121986,
          28.506229739252944,
          13.033171247357359,
          19.76011275546159,
          47.38705426356586,
          90.51399577167024,
          77.64093727977445,
          77.66787878787886
         ],
         "xaxis": "x2",
         "yaxis": "y2"
        }
       ],
       "layout": {
        "annotations": [
         {
          "font": {
           "size": 16
          },
          "showarrow": false,
          "text": "Crop Yield vs. Amount of Fertilizer",
          "x": 0.225,
          "xanchor": "center",
          "xref": "paper",
          "y": 1,
          "yanchor": "bottom",
          "yref": "paper"
         },
         {
          "font": {
           "size": 16
          },
          "showarrow": false,
          "text": "Histogram of Residuals",
          "x": 0.775,
          "xanchor": "center",
          "xref": "paper",
          "y": 1,
          "yanchor": "bottom",
          "yref": "paper"
         }
        ],
        "barmode": "overlay",
        "legend": {
         "title": {}
        },
        "showlegend": false,
        "template": {
         "data": {
          "bar": [
           {
            "error_x": {
             "color": "#2a3f5f"
            },
            "error_y": {
             "color": "#2a3f5f"
            },
            "marker": {
             "line": {
              "color": "#E5ECF6",
              "width": 0.5
             },
             "pattern": {
              "fillmode": "overlay",
              "size": 10,
              "solidity": 0.2
             }
            },
            "type": "bar"
           }
          ],
          "barpolar": [
           {
            "marker": {
             "line": {
              "color": "#E5ECF6",
              "width": 0.5
             },
             "pattern": {
              "fillmode": "overlay",
              "size": 10,
              "solidity": 0.2
             }
            },
            "type": "barpolar"
           }
          ],
          "carpet": [
           {
            "aaxis": {
             "endlinecolor": "#2a3f5f",
             "gridcolor": "white",
             "linecolor": "white",
             "minorgridcolor": "white",
             "startlinecolor": "#2a3f5f"
            },
            "baxis": {
             "endlinecolor": "#2a3f5f",
             "gridcolor": "white",
             "linecolor": "white",
             "minorgridcolor": "white",
             "startlinecolor": "#2a3f5f"
            },
            "type": "carpet"
           }
          ],
          "choropleth": [
           {
            "colorbar": {
             "outlinewidth": 0,
             "ticks": ""
            },
            "type": "choropleth"
           }
          ],
          "contour": [
           {
            "colorbar": {
             "outlinewidth": 0,
             "ticks": ""
            },
            "colorscale": [
             [
              0,
              "#0d0887"
             ],
             [
              0.1111111111111111,
              "#46039f"
             ],
             [
              0.2222222222222222,
              "#7201a8"
             ],
             [
              0.3333333333333333,
              "#9c179e"
             ],
             [
              0.4444444444444444,
              "#bd3786"
             ],
             [
              0.5555555555555556,
              "#d8576b"
             ],
             [
              0.6666666666666666,
              "#ed7953"
             ],
             [
              0.7777777777777778,
              "#fb9f3a"
             ],
             [
              0.8888888888888888,
              "#fdca26"
             ],
             [
              1,
              "#f0f921"
             ]
            ],
            "type": "contour"
           }
          ],
          "contourcarpet": [
           {
            "colorbar": {
             "outlinewidth": 0,
             "ticks": ""
            },
            "type": "contourcarpet"
           }
          ],
          "heatmap": [
           {
            "colorbar": {
             "outlinewidth": 0,
             "ticks": ""
            },
            "colorscale": [
             [
              0,
              "#0d0887"
             ],
             [
              0.1111111111111111,
              "#46039f"
             ],
             [
              0.2222222222222222,
              "#7201a8"
             ],
             [
              0.3333333333333333,
              "#9c179e"
             ],
             [
              0.4444444444444444,
              "#bd3786"
             ],
             [
              0.5555555555555556,
              "#d8576b"
             ],
             [
              0.6666666666666666,
              "#ed7953"
             ],
             [
              0.7777777777777778,
              "#fb9f3a"
             ],
             [
              0.8888888888888888,
              "#fdca26"
             ],
             [
              1,
              "#f0f921"
             ]
            ],
            "type": "heatmap"
           }
          ],
          "heatmapgl": [
           {
            "colorbar": {
             "outlinewidth": 0,
             "ticks": ""
            },
            "colorscale": [
             [
              0,
              "#0d0887"
             ],
             [
              0.1111111111111111,
              "#46039f"
             ],
             [
              0.2222222222222222,
              "#7201a8"
             ],
             [
              0.3333333333333333,
              "#9c179e"
             ],
             [
              0.4444444444444444,
              "#bd3786"
             ],
             [
              0.5555555555555556,
              "#d8576b"
             ],
             [
              0.6666666666666666,
              "#ed7953"
             ],
             [
              0.7777777777777778,
              "#fb9f3a"
             ],
             [
              0.8888888888888888,
              "#fdca26"
             ],
             [
              1,
              "#f0f921"
             ]
            ],
            "type": "heatmapgl"
           }
          ],
          "histogram": [
           {
            "marker": {
             "pattern": {
              "fillmode": "overlay",
              "size": 10,
              "solidity": 0.2
             }
            },
            "type": "histogram"
           }
          ],
          "histogram2d": [
           {
            "colorbar": {
             "outlinewidth": 0,
             "ticks": ""
            },
            "colorscale": [
             [
              0,
              "#0d0887"
             ],
             [
              0.1111111111111111,
              "#46039f"
             ],
             [
              0.2222222222222222,
              "#7201a8"
             ],
             [
              0.3333333333333333,
              "#9c179e"
             ],
             [
              0.4444444444444444,
              "#bd3786"
             ],
             [
              0.5555555555555556,
              "#d8576b"
             ],
             [
              0.6666666666666666,
              "#ed7953"
             ],
             [
              0.7777777777777778,
              "#fb9f3a"
             ],
             [
              0.8888888888888888,
              "#fdca26"
             ],
             [
              1,
              "#f0f921"
             ]
            ],
            "type": "histogram2d"
           }
          ],
          "histogram2dcontour": [
           {
            "colorbar": {
             "outlinewidth": 0,
             "ticks": ""
            },
            "colorscale": [
             [
              0,
              "#0d0887"
             ],
             [
              0.1111111111111111,
              "#46039f"
             ],
             [
              0.2222222222222222,
              "#7201a8"
             ],
             [
              0.3333333333333333,
              "#9c179e"
             ],
             [
              0.4444444444444444,
              "#bd3786"
             ],
             [
              0.5555555555555556,
              "#d8576b"
             ],
             [
              0.6666666666666666,
              "#ed7953"
             ],
             [
              0.7777777777777778,
              "#fb9f3a"
             ],
             [
              0.8888888888888888,
              "#fdca26"
             ],
             [
              1,
              "#f0f921"
             ]
            ],
            "type": "histogram2dcontour"
           }
          ],
          "mesh3d": [
           {
            "colorbar": {
             "outlinewidth": 0,
             "ticks": ""
            },
            "type": "mesh3d"
           }
          ],
          "parcoords": [
           {
            "line": {
             "colorbar": {
              "outlinewidth": 0,
              "ticks": ""
             }
            },
            "type": "parcoords"
           }
          ],
          "pie": [
           {
            "automargin": true,
            "type": "pie"
           }
          ],
          "scatter": [
           {
            "fillpattern": {
             "fillmode": "overlay",
             "size": 10,
             "solidity": 0.2
            },
            "type": "scatter"
           }
          ],
          "scatter3d": [
           {
            "line": {
             "colorbar": {
              "outlinewidth": 0,
              "ticks": ""
             }
            },
            "marker": {
             "colorbar": {
              "outlinewidth": 0,
              "ticks": ""
             }
            },
            "type": "scatter3d"
           }
          ],
          "scattercarpet": [
           {
            "marker": {
             "colorbar": {
              "outlinewidth": 0,
              "ticks": ""
             }
            },
            "type": "scattercarpet"
           }
          ],
          "scattergeo": [
           {
            "marker": {
             "colorbar": {
              "outlinewidth": 0,
              "ticks": ""
             }
            },
            "type": "scattergeo"
           }
          ],
          "scattergl": [
           {
            "marker": {
             "colorbar": {
              "outlinewidth": 0,
              "ticks": ""
             }
            },
            "type": "scattergl"
           }
          ],
          "scattermapbox": [
           {
            "marker": {
             "colorbar": {
              "outlinewidth": 0,
              "ticks": ""
             }
            },
            "type": "scattermapbox"
           }
          ],
          "scatterpolar": [
           {
            "marker": {
             "colorbar": {
              "outlinewidth": 0,
              "ticks": ""
             }
            },
            "type": "scatterpolar"
           }
          ],
          "scatterpolargl": [
           {
            "marker": {
             "colorbar": {
              "outlinewidth": 0,
              "ticks": ""
             }
            },
            "type": "scatterpolargl"
           }
          ],
          "scatterternary": [
           {
            "marker": {
             "colorbar": {
              "outlinewidth": 0,
              "ticks": ""
             }
            },
            "type": "scatterternary"
           }
          ],
          "surface": [
           {
            "colorbar": {
             "outlinewidth": 0,
             "ticks": ""
            },
            "colorscale": [
             [
              0,
              "#0d0887"
             ],
             [
              0.1111111111111111,
              "#46039f"
             ],
             [
              0.2222222222222222,
              "#7201a8"
             ],
             [
              0.3333333333333333,
              "#9c179e"
             ],
             [
              0.4444444444444444,
              "#bd3786"
             ],
             [
              0.5555555555555556,
              "#d8576b"
             ],
             [
              0.6666666666666666,
              "#ed7953"
             ],
             [
              0.7777777777777778,
              "#fb9f3a"
             ],
             [
              0.8888888888888888,
              "#fdca26"
             ],
             [
              1,
              "#f0f921"
             ]
            ],
            "type": "surface"
           }
          ],
          "table": [
           {
            "cells": {
             "fill": {
              "color": "#EBF0F8"
             },
             "line": {
              "color": "white"
             }
            },
            "header": {
             "fill": {
              "color": "#C8D4E3"
             },
             "line": {
              "color": "white"
             }
            },
            "type": "table"
           }
          ]
         },
         "layout": {
          "annotationdefaults": {
           "arrowcolor": "#2a3f5f",
           "arrowhead": 0,
           "arrowwidth": 1
          },
          "autotypenumbers": "strict",
          "coloraxis": {
           "colorbar": {
            "outlinewidth": 0,
            "ticks": ""
           }
          },
          "colorscale": {
           "diverging": [
            [
             0,
             "#8e0152"
            ],
            [
             0.1,
             "#c51b7d"
            ],
            [
             0.2,
             "#de77ae"
            ],
            [
             0.3,
             "#f1b6da"
            ],
            [
             0.4,
             "#fde0ef"
            ],
            [
             0.5,
             "#f7f7f7"
            ],
            [
             0.6,
             "#e6f5d0"
            ],
            [
             0.7,
             "#b8e186"
            ],
            [
             0.8,
             "#7fbc41"
            ],
            [
             0.9,
             "#4d9221"
            ],
            [
             1,
             "#276419"
            ]
           ],
           "sequential": [
            [
             0,
             "#0d0887"
            ],
            [
             0.1111111111111111,
             "#46039f"
            ],
            [
             0.2222222222222222,
             "#7201a8"
            ],
            [
             0.3333333333333333,
             "#9c179e"
            ],
            [
             0.4444444444444444,
             "#bd3786"
            ],
            [
             0.5555555555555556,
             "#d8576b"
            ],
            [
             0.6666666666666666,
             "#ed7953"
            ],
            [
             0.7777777777777778,
             "#fb9f3a"
            ],
            [
             0.8888888888888888,
             "#fdca26"
            ],
            [
             1,
             "#f0f921"
            ]
           ],
           "sequentialminus": [
            [
             0,
             "#0d0887"
            ],
            [
             0.1111111111111111,
             "#46039f"
            ],
            [
             0.2222222222222222,
             "#7201a8"
            ],
            [
             0.3333333333333333,
             "#9c179e"
            ],
            [
             0.4444444444444444,
             "#bd3786"
            ],
            [
             0.5555555555555556,
             "#d8576b"
            ],
            [
             0.6666666666666666,
             "#ed7953"
            ],
            [
             0.7777777777777778,
             "#fb9f3a"
            ],
            [
             0.8888888888888888,
             "#fdca26"
            ],
            [
             1,
             "#f0f921"
            ]
           ]
          },
          "colorway": [
           "#636efa",
           "#EF553B",
           "#00cc96",
           "#ab63fa",
           "#FFA15A",
           "#19d3f3",
           "#FF6692",
           "#B6E880",
           "#FF97FF",
           "#FECB52"
          ],
          "font": {
           "color": "#2a3f5f"
          },
          "geo": {
           "bgcolor": "white",
           "lakecolor": "white",
           "landcolor": "#E5ECF6",
           "showlakes": true,
           "showland": true,
           "subunitcolor": "white"
          },
          "hoverlabel": {
           "align": "left"
          },
          "hovermode": "closest",
          "mapbox": {
           "style": "light"
          },
          "paper_bgcolor": "white",
          "plot_bgcolor": "#E5ECF6",
          "polar": {
           "angularaxis": {
            "gridcolor": "white",
            "linecolor": "white",
            "ticks": ""
           },
           "bgcolor": "#E5ECF6",
           "radialaxis": {
            "gridcolor": "white",
            "linecolor": "white",
            "ticks": ""
           }
          },
          "scene": {
           "xaxis": {
            "backgroundcolor": "#E5ECF6",
            "gridcolor": "white",
            "gridwidth": 2,
            "linecolor": "white",
            "showbackground": true,
            "ticks": "",
            "zerolinecolor": "white"
           },
           "yaxis": {
            "backgroundcolor": "#E5ECF6",
            "gridcolor": "white",
            "gridwidth": 2,
            "linecolor": "white",
            "showbackground": true,
            "ticks": "",
            "zerolinecolor": "white"
           },
           "zaxis": {
            "backgroundcolor": "#E5ECF6",
            "gridcolor": "white",
            "gridwidth": 2,
            "linecolor": "white",
            "showbackground": true,
            "ticks": "",
            "zerolinecolor": "white"
           }
          },
          "shapedefaults": {
           "line": {
            "color": "#2a3f5f"
           }
          },
          "ternary": {
           "aaxis": {
            "gridcolor": "white",
            "linecolor": "white",
            "ticks": ""
           },
           "baxis": {
            "gridcolor": "white",
            "linecolor": "white",
            "ticks": ""
           },
           "bgcolor": "#E5ECF6",
           "caxis": {
            "gridcolor": "white",
            "linecolor": "white",
            "ticks": ""
           }
          },
          "title": {
           "x": 0.05
          },
          "xaxis": {
           "automargin": true,
           "gridcolor": "white",
           "linecolor": "white",
           "ticks": "",
           "title": {
            "standoff": 15
           },
           "zerolinecolor": "white",
           "zerolinewidth": 2
          },
          "yaxis": {
           "automargin": true,
           "gridcolor": "white",
           "linecolor": "white",
           "ticks": "",
           "title": {
            "standoff": 15
           },
           "zerolinecolor": "white",
           "zerolinewidth": 2
          }
         }
        },
        "title": {
         "text": "Scatter Plot and Histogram of Residuals"
        },
        "xaxis": {
         "anchor": "y",
         "domain": [
          0,
          0.45
         ],
         "title": {
          "text": "Amount of Fertilizer (kg)"
         }
        },
        "xaxis2": {
         "anchor": "y2",
         "domain": [
          0.55,
          1
         ],
         "title": {
          "text": "Residuals"
         }
        },
        "yaxis": {
         "anchor": "x",
         "domain": [
          0,
          1
         ],
         "title": {
          "text": "Crop Yield (tons)"
         }
        },
        "yaxis2": {
         "anchor": "x2",
         "domain": [
          0,
          1
         ],
         "title": {
          "text": "Frequency"
         }
        }
       }
      },
      "text/html": [
       "<div>                            <div id=\"afacce93-4c47-4c85-add7-f1573db04186\" class=\"plotly-graph-div\" style=\"height:525px; width:100%;\"></div>            <script type=\"text/javascript\">                require([\"plotly\"], function(Plotly) {                    window.PLOTLYENV=window.PLOTLYENV || {};                                    if (document.getElementById(\"afacce93-4c47-4c85-add7-f1573db04186\")) {                    Plotly.newPlot(                        \"afacce93-4c47-4c85-add7-f1573db04186\",                        [{\"hovertemplate\":\"Amount of Fertilizer (kg) (x)=%{x}\\u003cbr\\u003eCrop Yield (tons) (y)=%{y}\\u003cextra\\u003e\\u003c\\u002fextra\\u003e\",\"legendgroup\":\"\",\"marker\":{\"color\":\"#636efa\",\"symbol\":\"circle\"},\"mode\":\"markers\",\"name\":\"\",\"orientation\":\"v\",\"showlegend\":false,\"x\":[1.0,1.2,1.4,1.6,1.8,2.0,2.2,2.4,2.6,2.8,3.0,3.2,3.4,3.6,3.8,4.0,4.2,4.4,4.6,4.8,5.0,5.2,5.4,5.6,5.8,6.0,6.2,6.4,6.6,6.8,7.0,7.2,7.4,7.6,7.8,8.0,8.2,8.4,8.6,8.8,9.0,9.2,9.4,9.6],\"xaxis\":\"x\",\"y\":[18.7,16.9,16.1,13.4,48.4,51.9,31.8,51.3,63.9,50.6,58.7,82.4,66.7,81.2,96.5,112.2,132.5,119.8,127.7,136.3,148.5,169.4,177.9,186.7,198.1,215.7,230.7,250.4,258.0,267.8,320.4,302.0,307.2,331.5,375.3,403.4,393.5,434.9,431.9,451.1,491.2,546.8,546.4,558.9],\"yaxis\":\"y\",\"type\":\"scatter\"},{\"hovertemplate\":\"\\u003cb\\u003eOLS trendline\\u003c\\u002fb\\u003e\\u003cbr\\u003eCrop Yield (tons) (y) = 62.3653 * Amount of Fertilizer (kg) (x) + -117.475\\u003cbr\\u003eR\\u003csup\\u003e2\\u003c\\u002fsup\\u003e=0.940931\\u003cbr\\u003e\\u003cbr\\u003eAmount of Fertilizer (kg) (x)=%{x}\\u003cbr\\u003eCrop Yield (tons) (y)=%{y} \\u003cb\\u003e(trend)\\u003c\\u002fb\\u003e\\u003cextra\\u003e\\u003c\\u002fextra\\u003e\",\"legendgroup\":\"\",\"marker\":{\"color\":\"#636efa\",\"symbol\":\"circle\"},\"mode\":\"lines\",\"name\":\"\",\"showlegend\":false,\"x\":[1.0,1.2,1.4,1.6,1.8,2.0,2.2,2.4,2.6,2.8,3.0,3.2,3.4,3.6,3.8,4.0,4.2,4.4,4.6,4.8,5.0,5.2,5.4,5.6,5.8,6.0,6.2,6.4,6.6,6.8,7.0,7.2,7.4,7.6,7.8,8.0,8.2,8.4,8.6,8.8,9.0,9.2,9.4,9.6],\"xaxis\":\"x\",\"y\":[-55.109393939393996,-42.6363354474983,-30.163276955602598,-17.690218463706884,-5.217159971811185,7.255898520084514,19.728957011980228,32.20201550387591,44.675073995771626,57.14813248766731,69.62119097956302,82.09424947145874,94.56730796335442,107.04036645525014,119.51342494714582,131.98648343904154,144.45954193093723,156.93260042283296,169.40565891472863,181.87871740662433,194.35177589852003,206.82483439041576,219.29789288231146,231.77095137420713,244.24400986610286,256.7170683579985,269.1901268498943,281.66318534179,294.1362438336856,306.6093023255814,319.0823608174771,331.5554193093728,344.0284778012685,356.5015362931642,368.9745947850599,381.4476532769556,393.9207117688512,406.393770260747,418.8668287526427,431.33988724453843,443.8129457364341,456.2860042283298,468.75906272022553,481.23212121212117],\"yaxis\":\"y\",\"type\":\"scatter\"},{\"alignmentgroup\":\"True\",\"bingroup\":\"x\",\"hovertemplate\":\"Residuals=%{x}\\u003cbr\\u003ecount=%{y}\\u003cextra\\u003e\\u003c\\u002fextra\\u003e\",\"legendgroup\":\"\",\"marker\":{\"color\":\"#636efa\",\"pattern\":{\"shape\":\"\"}},\"name\":\"\",\"nbinsx\":10,\"offsetgroup\":\"\",\"orientation\":\"v\",\"showlegend\":false,\"x\":[73.80939393939391,59.536335447498224,46.26327695560253,31.09021846370681,53.61715997181111,44.64410147991541,12.071042988019702,19.097984496124027,19.2249260042283,-6.548132487667367,-10.921190979563093,0.30575052854121054,-27.86730796335449,-25.84036645525019,-23.013424947145893,-19.78648343904159,-11.95954193093732,-37.13260042283302,-41.70565891472866,-45.57871740662435,-45.85177589852012,-37.42483439041581,-41.39789288231151,-45.07095137420717,-46.14400986610292,-41.01706835799865,-38.49012684989435,-31.263185341790034,-36.136243833685626,-38.80930232558143,1.3176391825228393,-29.555419309372837,-36.82847780126855,-25.001536293164236,6.325405214940076,21.952346723044343,-0.42071176885121986,28.506229739252944,13.033171247357359,19.76011275546159,47.38705426356586,90.51399577167024,77.64093727977445,77.66787878787886],\"xaxis\":\"x2\",\"yaxis\":\"y2\",\"type\":\"histogram\"}],                        {\"template\":{\"data\":{\"histogram2dcontour\":[{\"type\":\"histogram2dcontour\",\"colorbar\":{\"outlinewidth\":0,\"ticks\":\"\"},\"colorscale\":[[0.0,\"#0d0887\"],[0.1111111111111111,\"#46039f\"],[0.2222222222222222,\"#7201a8\"],[0.3333333333333333,\"#9c179e\"],[0.4444444444444444,\"#bd3786\"],[0.5555555555555556,\"#d8576b\"],[0.6666666666666666,\"#ed7953\"],[0.7777777777777778,\"#fb9f3a\"],[0.8888888888888888,\"#fdca26\"],[1.0,\"#f0f921\"]]}],\"choropleth\":[{\"type\":\"choropleth\",\"colorbar\":{\"outlinewidth\":0,\"ticks\":\"\"}}],\"histogram2d\":[{\"type\":\"histogram2d\",\"colorbar\":{\"outlinewidth\":0,\"ticks\":\"\"},\"colorscale\":[[0.0,\"#0d0887\"],[0.1111111111111111,\"#46039f\"],[0.2222222222222222,\"#7201a8\"],[0.3333333333333333,\"#9c179e\"],[0.4444444444444444,\"#bd3786\"],[0.5555555555555556,\"#d8576b\"],[0.6666666666666666,\"#ed7953\"],[0.7777777777777778,\"#fb9f3a\"],[0.8888888888888888,\"#fdca26\"],[1.0,\"#f0f921\"]]}],\"heatmap\":[{\"type\":\"heatmap\",\"colorbar\":{\"outlinewidth\":0,\"ticks\":\"\"},\"colorscale\":[[0.0,\"#0d0887\"],[0.1111111111111111,\"#46039f\"],[0.2222222222222222,\"#7201a8\"],[0.3333333333333333,\"#9c179e\"],[0.4444444444444444,\"#bd3786\"],[0.5555555555555556,\"#d8576b\"],[0.6666666666666666,\"#ed7953\"],[0.7777777777777778,\"#fb9f3a\"],[0.8888888888888888,\"#fdca26\"],[1.0,\"#f0f921\"]]}],\"heatmapgl\":[{\"type\":\"heatmapgl\",\"colorbar\":{\"outlinewidth\":0,\"ticks\":\"\"},\"colorscale\":[[0.0,\"#0d0887\"],[0.1111111111111111,\"#46039f\"],[0.2222222222222222,\"#7201a8\"],[0.3333333333333333,\"#9c179e\"],[0.4444444444444444,\"#bd3786\"],[0.5555555555555556,\"#d8576b\"],[0.6666666666666666,\"#ed7953\"],[0.7777777777777778,\"#fb9f3a\"],[0.8888888888888888,\"#fdca26\"],[1.0,\"#f0f921\"]]}],\"contourcarpet\":[{\"type\":\"contourcarpet\",\"colorbar\":{\"outlinewidth\":0,\"ticks\":\"\"}}],\"contour\":[{\"type\":\"contour\",\"colorbar\":{\"outlinewidth\":0,\"ticks\":\"\"},\"colorscale\":[[0.0,\"#0d0887\"],[0.1111111111111111,\"#46039f\"],[0.2222222222222222,\"#7201a8\"],[0.3333333333333333,\"#9c179e\"],[0.4444444444444444,\"#bd3786\"],[0.5555555555555556,\"#d8576b\"],[0.6666666666666666,\"#ed7953\"],[0.7777777777777778,\"#fb9f3a\"],[0.8888888888888888,\"#fdca26\"],[1.0,\"#f0f921\"]]}],\"surface\":[{\"type\":\"surface\",\"colorbar\":{\"outlinewidth\":0,\"ticks\":\"\"},\"colorscale\":[[0.0,\"#0d0887\"],[0.1111111111111111,\"#46039f\"],[0.2222222222222222,\"#7201a8\"],[0.3333333333333333,\"#9c179e\"],[0.4444444444444444,\"#bd3786\"],[0.5555555555555556,\"#d8576b\"],[0.6666666666666666,\"#ed7953\"],[0.7777777777777778,\"#fb9f3a\"],[0.8888888888888888,\"#fdca26\"],[1.0,\"#f0f921\"]]}],\"mesh3d\":[{\"type\":\"mesh3d\",\"colorbar\":{\"outlinewidth\":0,\"ticks\":\"\"}}],\"scatter\":[{\"fillpattern\":{\"fillmode\":\"overlay\",\"size\":10,\"solidity\":0.2},\"type\":\"scatter\"}],\"parcoords\":[{\"type\":\"parcoords\",\"line\":{\"colorbar\":{\"outlinewidth\":0,\"ticks\":\"\"}}}],\"scatterpolargl\":[{\"type\":\"scatterpolargl\",\"marker\":{\"colorbar\":{\"outlinewidth\":0,\"ticks\":\"\"}}}],\"bar\":[{\"error_x\":{\"color\":\"#2a3f5f\"},\"error_y\":{\"color\":\"#2a3f5f\"},\"marker\":{\"line\":{\"color\":\"#E5ECF6\",\"width\":0.5},\"pattern\":{\"fillmode\":\"overlay\",\"size\":10,\"solidity\":0.2}},\"type\":\"bar\"}],\"scattergeo\":[{\"type\":\"scattergeo\",\"marker\":{\"colorbar\":{\"outlinewidth\":0,\"ticks\":\"\"}}}],\"scatterpolar\":[{\"type\":\"scatterpolar\",\"marker\":{\"colorbar\":{\"outlinewidth\":0,\"ticks\":\"\"}}}],\"histogram\":[{\"marker\":{\"pattern\":{\"fillmode\":\"overlay\",\"size\":10,\"solidity\":0.2}},\"type\":\"histogram\"}],\"scattergl\":[{\"type\":\"scattergl\",\"marker\":{\"colorbar\":{\"outlinewidth\":0,\"ticks\":\"\"}}}],\"scatter3d\":[{\"type\":\"scatter3d\",\"line\":{\"colorbar\":{\"outlinewidth\":0,\"ticks\":\"\"}},\"marker\":{\"colorbar\":{\"outlinewidth\":0,\"ticks\":\"\"}}}],\"scattermapbox\":[{\"type\":\"scattermapbox\",\"marker\":{\"colorbar\":{\"outlinewidth\":0,\"ticks\":\"\"}}}],\"scatterternary\":[{\"type\":\"scatterternary\",\"marker\":{\"colorbar\":{\"outlinewidth\":0,\"ticks\":\"\"}}}],\"scattercarpet\":[{\"type\":\"scattercarpet\",\"marker\":{\"colorbar\":{\"outlinewidth\":0,\"ticks\":\"\"}}}],\"carpet\":[{\"aaxis\":{\"endlinecolor\":\"#2a3f5f\",\"gridcolor\":\"white\",\"linecolor\":\"white\",\"minorgridcolor\":\"white\",\"startlinecolor\":\"#2a3f5f\"},\"baxis\":{\"endlinecolor\":\"#2a3f5f\",\"gridcolor\":\"white\",\"linecolor\":\"white\",\"minorgridcolor\":\"white\",\"startlinecolor\":\"#2a3f5f\"},\"type\":\"carpet\"}],\"table\":[{\"cells\":{\"fill\":{\"color\":\"#EBF0F8\"},\"line\":{\"color\":\"white\"}},\"header\":{\"fill\":{\"color\":\"#C8D4E3\"},\"line\":{\"color\":\"white\"}},\"type\":\"table\"}],\"barpolar\":[{\"marker\":{\"line\":{\"color\":\"#E5ECF6\",\"width\":0.5},\"pattern\":{\"fillmode\":\"overlay\",\"size\":10,\"solidity\":0.2}},\"type\":\"barpolar\"}],\"pie\":[{\"automargin\":true,\"type\":\"pie\"}]},\"layout\":{\"autotypenumbers\":\"strict\",\"colorway\":[\"#636efa\",\"#EF553B\",\"#00cc96\",\"#ab63fa\",\"#FFA15A\",\"#19d3f3\",\"#FF6692\",\"#B6E880\",\"#FF97FF\",\"#FECB52\"],\"font\":{\"color\":\"#2a3f5f\"},\"hovermode\":\"closest\",\"hoverlabel\":{\"align\":\"left\"},\"paper_bgcolor\":\"white\",\"plot_bgcolor\":\"#E5ECF6\",\"polar\":{\"bgcolor\":\"#E5ECF6\",\"angularaxis\":{\"gridcolor\":\"white\",\"linecolor\":\"white\",\"ticks\":\"\"},\"radialaxis\":{\"gridcolor\":\"white\",\"linecolor\":\"white\",\"ticks\":\"\"}},\"ternary\":{\"bgcolor\":\"#E5ECF6\",\"aaxis\":{\"gridcolor\":\"white\",\"linecolor\":\"white\",\"ticks\":\"\"},\"baxis\":{\"gridcolor\":\"white\",\"linecolor\":\"white\",\"ticks\":\"\"},\"caxis\":{\"gridcolor\":\"white\",\"linecolor\":\"white\",\"ticks\":\"\"}},\"coloraxis\":{\"colorbar\":{\"outlinewidth\":0,\"ticks\":\"\"}},\"colorscale\":{\"sequential\":[[0.0,\"#0d0887\"],[0.1111111111111111,\"#46039f\"],[0.2222222222222222,\"#7201a8\"],[0.3333333333333333,\"#9c179e\"],[0.4444444444444444,\"#bd3786\"],[0.5555555555555556,\"#d8576b\"],[0.6666666666666666,\"#ed7953\"],[0.7777777777777778,\"#fb9f3a\"],[0.8888888888888888,\"#fdca26\"],[1.0,\"#f0f921\"]],\"sequentialminus\":[[0.0,\"#0d0887\"],[0.1111111111111111,\"#46039f\"],[0.2222222222222222,\"#7201a8\"],[0.3333333333333333,\"#9c179e\"],[0.4444444444444444,\"#bd3786\"],[0.5555555555555556,\"#d8576b\"],[0.6666666666666666,\"#ed7953\"],[0.7777777777777778,\"#fb9f3a\"],[0.8888888888888888,\"#fdca26\"],[1.0,\"#f0f921\"]],\"diverging\":[[0,\"#8e0152\"],[0.1,\"#c51b7d\"],[0.2,\"#de77ae\"],[0.3,\"#f1b6da\"],[0.4,\"#fde0ef\"],[0.5,\"#f7f7f7\"],[0.6,\"#e6f5d0\"],[0.7,\"#b8e186\"],[0.8,\"#7fbc41\"],[0.9,\"#4d9221\"],[1,\"#276419\"]]},\"xaxis\":{\"gridcolor\":\"white\",\"linecolor\":\"white\",\"ticks\":\"\",\"title\":{\"standoff\":15},\"zerolinecolor\":\"white\",\"automargin\":true,\"zerolinewidth\":2},\"yaxis\":{\"gridcolor\":\"white\",\"linecolor\":\"white\",\"ticks\":\"\",\"title\":{\"standoff\":15},\"zerolinecolor\":\"white\",\"automargin\":true,\"zerolinewidth\":2},\"scene\":{\"xaxis\":{\"backgroundcolor\":\"#E5ECF6\",\"gridcolor\":\"white\",\"linecolor\":\"white\",\"showbackground\":true,\"ticks\":\"\",\"zerolinecolor\":\"white\",\"gridwidth\":2},\"yaxis\":{\"backgroundcolor\":\"#E5ECF6\",\"gridcolor\":\"white\",\"linecolor\":\"white\",\"showbackground\":true,\"ticks\":\"\",\"zerolinecolor\":\"white\",\"gridwidth\":2},\"zaxis\":{\"backgroundcolor\":\"#E5ECF6\",\"gridcolor\":\"white\",\"linecolor\":\"white\",\"showbackground\":true,\"ticks\":\"\",\"zerolinecolor\":\"white\",\"gridwidth\":2}},\"shapedefaults\":{\"line\":{\"color\":\"#2a3f5f\"}},\"annotationdefaults\":{\"arrowcolor\":\"#2a3f5f\",\"arrowhead\":0,\"arrowwidth\":1},\"geo\":{\"bgcolor\":\"white\",\"landcolor\":\"#E5ECF6\",\"subunitcolor\":\"white\",\"showland\":true,\"showlakes\":true,\"lakecolor\":\"white\"},\"title\":{\"x\":0.05},\"mapbox\":{\"style\":\"light\"}}},\"xaxis\":{\"anchor\":\"y\",\"domain\":[0.0,0.45],\"title\":{\"text\":\"Amount of Fertilizer (kg)\"}},\"yaxis\":{\"anchor\":\"x\",\"domain\":[0.0,1.0],\"title\":{\"text\":\"Crop Yield (tons)\"}},\"xaxis2\":{\"anchor\":\"y2\",\"domain\":[0.55,1.0],\"title\":{\"text\":\"Residuals\"}},\"yaxis2\":{\"anchor\":\"x2\",\"domain\":[0.0,1.0],\"title\":{\"text\":\"Frequency\"}},\"annotations\":[{\"font\":{\"size\":16},\"showarrow\":false,\"text\":\"Crop Yield vs. Amount of Fertilizer\",\"x\":0.225,\"xanchor\":\"center\",\"xref\":\"paper\",\"y\":1.0,\"yanchor\":\"bottom\",\"yref\":\"paper\"},{\"font\":{\"size\":16},\"showarrow\":false,\"text\":\"Histogram of Residuals\",\"x\":0.775,\"xanchor\":\"center\",\"xref\":\"paper\",\"y\":1.0,\"yanchor\":\"bottom\",\"yref\":\"paper\"}],\"title\":{\"text\":\"Scatter Plot and Histogram of Residuals\"},\"showlegend\":false,\"barmode\":\"overlay\",\"legend\":{\"title\":{}}},                        {\"responsive\": true}                    ).then(function(){\n",
       "                            \n",
       "var gd = document.getElementById('afacce93-4c47-4c85-add7-f1573db04186');\n",
       "var x = new MutationObserver(function (mutations, observer) {{\n",
       "        var display = window.getComputedStyle(gd).display;\n",
       "        if (!display || display === 'none') {{\n",
       "            console.log([gd, 'removed!']);\n",
       "            Plotly.purge(gd);\n",
       "            observer.disconnect();\n",
       "        }}\n",
       "}});\n",
       "\n",
       "// Listen for the removal of the full notebook cells\n",
       "var notebookContainer = gd.closest('#notebook-container');\n",
       "if (notebookContainer) {{\n",
       "    x.observe(notebookContainer, {childList: true});\n",
       "}}\n",
       "\n",
       "// Listen for the clearing of the current output cell\n",
       "var outputEl = gd.closest('.output');\n",
       "if (outputEl) {{\n",
       "    x.observe(outputEl, {childList: true});\n",
       "}}\n",
       "\n",
       "                        })                };                });            </script>        </div>"
      ]
     },
     "metadata": {},
     "output_type": "display_data"
    }
   ],
   "source": [
    "import pandas as pd\n",
    "from scipy import stats\n",
    "import plotly.express as px\n",
    "from plotly.subplots import make_subplots\n",
    "\n",
    "# This data shows the relationship between the amount of fertilizer used and crop yield\n",
    "data = {'Amount of Fertilizer (kg) (x)': [1, 1.2, 1.4, 1.6, 1.8, 2, 2.2, 2.4, 2.6, \n",
    "                                          2.8, 3, 3.2, 3.4, 3.6, 3.8, 4, 4.2, 4.4, \n",
    "                                          4.6, 4.8, 5, 5.2, 5.4, 5.6, 5.8, 6, 6.2, \n",
    "                                          6.4, 6.6, 6.8, 7, 7.2, 7.4, 7.6, 7.8, 8, \n",
    "                                          8.2, 8.4, 8.6, 8.8,9, 9.2, 9.4, 9.6],\n",
    "        'Crop Yield (tons) (y)': [18.7, 16.9, 16.1, 13.4, 48.4, 51.9, 31.8, 51.3, \n",
    "                                  63.9, 50.6, 58.7, 82.4, 66.7, 81.2, 96.5, 112.2, \n",
    "                                  132.5, 119.8, 127.7, 136.3, 148.5, 169.4, 177.9, \n",
    "                                  186.7, 198.1, 215.7, 230.7, 250.4, 258. , 267.8, \n",
    "                                  320.4, 302. , 307.2, 331.5, 375.3, 403.4, 393.5,\n",
    "                                  434.9, 431.9, 451.1, 491.2, 546.8, 546.4, 558.9]}\n",
    "df = pd.DataFrame(data)\n",
    "fig1 = px.scatter(df, x='Amount of Fertilizer (kg) (x)', y='Crop Yield (tons) (y)',\n",
    "                  trendline='ols', title='Crop Yield vs. Amount of Fertilizer')\n",
    "\n",
    "# Perform linear regression using scipy.stats\n",
    "slope, intercept, r_value, p_value, std_err = \\\n",
    "    stats.linregress(df['Amount of Fertilizer (kg) (x)'], df['Crop Yield (tons) (y)'])\n",
    "# Predict the values and calculate residuals\n",
    "y_hat = intercept + slope * df['Amount of Fertilizer (kg) (x)']\n",
    "residuals = df['Crop Yield (tons) (y)'] - y_hat\n",
    "df['Residuals'] = residuals\n",
    "fig2 = px.histogram(df, x='Residuals', nbins=10, title='Histogram of Residuals',\n",
    "                    labels={'Residuals': 'Residuals'})\n",
    "\n",
    "fig = make_subplots(rows=1, cols=2,\n",
    "                    subplot_titles=('Crop Yield vs. Amount of Fertilizer', \n",
    "                                    'Histogram of Residuals'))\n",
    "for trace in fig1.data:\n",
    "    fig.add_trace(trace, row=1, col=1)\n",
    "for trace in fig2.data:\n",
    "    fig.add_trace(trace, row=1, col=2)\n",
    "fig.update_layout(title='Scatter Plot and Histogram of Residuals',\n",
    "    xaxis_title='Amount of Fertilizer (kg)', yaxis_title='Crop Yield (tons)',\n",
    "    xaxis2_title='Residuals', yaxis2_title='Frequency', showlegend=False)\n",
    "\n",
    "fig.show() # USE `fig.show(renderer=\"png\")` FOR ALL GitHub and MarkUs SUBMISSIONS"
   ]
  },
  {
   "cell_type": "markdown",
   "id": "a977ba64",
   "metadata": {},
   "source": [
    "## \"Week of Nov04\" HW [due prior to the Nov08 TUT]\n",
    "\n",
    "#### In place of the \"Project\" format we introduced for the previous weeks HW, the remaining questions will be a collection of exercises based around the following data\n",
    "\n",
    "> The details of the LOWESS Trendline shown below are not a part of the intended scope of the activities here, but it is included since it is suggestive of the questions we will consider and address here\n"
   ]
  },
  {
   "cell_type": "code",
   "execution_count": 301,
   "id": "a29449cd",
   "metadata": {},
   "outputs": [
    {
     "data": {
      "application/vnd.plotly.v1+json": {
       "config": {
        "plotlyServerURL": "https://plot.ly"
       },
       "data": [
        {
         "hovertemplate": "waiting=%{x}<br>duration=%{y}<extra></extra>",
         "legendgroup": "",
         "marker": {
          "color": "#636efa",
          "symbol": "circle"
         },
         "mode": "markers",
         "name": "",
         "orientation": "v",
         "showlegend": false,
         "type": "scatter",
         "x": [
          79,
          54,
          74,
          62,
          85,
          55,
          88,
          85,
          51,
          85,
          54,
          84,
          78,
          47,
          83,
          52,
          62,
          84,
          52,
          79,
          51,
          47,
          78,
          69,
          74,
          83,
          55,
          76,
          78,
          79,
          73,
          77,
          66,
          80,
          74,
          52,
          48,
          80,
          59,
          90,
          80,
          58,
          84,
          58,
          73,
          83,
          64,
          53,
          82,
          59,
          75,
          90,
          54,
          80,
          54,
          83,
          71,
          64,
          77,
          81,
          59,
          84,
          48,
          82,
          60,
          92,
          78,
          78,
          65,
          73,
          82,
          56,
          79,
          71,
          62,
          76,
          60,
          78,
          76,
          83,
          75,
          82,
          70,
          65,
          73,
          88,
          76,
          80,
          48,
          86,
          60,
          90,
          50,
          78,
          63,
          72,
          84,
          75,
          51,
          82,
          62,
          88,
          49,
          83,
          81,
          47,
          84,
          52,
          86,
          81,
          75,
          59,
          89,
          79,
          59,
          81,
          50,
          85,
          59,
          87,
          53,
          69,
          77,
          56,
          88,
          81,
          45,
          82,
          55,
          90,
          45,
          83,
          56,
          89,
          46,
          82,
          51,
          86,
          53,
          79,
          81,
          60,
          82,
          77,
          76,
          59,
          80,
          49,
          96,
          53,
          77,
          77,
          65,
          81,
          71,
          70,
          81,
          93,
          53,
          89,
          45,
          86,
          58,
          78,
          66,
          76,
          63,
          88,
          52,
          93,
          49,
          57,
          77,
          68,
          81,
          81,
          73,
          50,
          85,
          74,
          55,
          77,
          83,
          83,
          51,
          78,
          84,
          46,
          83,
          55,
          81,
          57,
          76,
          84,
          77,
          81,
          87,
          77,
          51,
          78,
          60,
          82,
          91,
          53,
          78,
          46,
          77,
          84,
          49,
          83,
          71,
          80,
          49,
          75,
          64,
          76,
          53,
          94,
          55,
          76,
          50,
          82,
          54,
          75,
          78,
          79,
          78,
          78,
          70,
          79,
          70,
          54,
          86,
          50,
          90,
          54,
          54,
          77,
          79,
          64,
          75,
          47,
          86,
          63,
          85,
          82,
          57,
          82,
          67,
          74,
          54,
          83,
          73,
          73,
          88,
          80,
          71,
          83,
          56,
          79,
          78,
          84,
          58,
          83,
          43,
          60,
          75,
          81,
          46,
          90,
          46,
          74
         ],
         "xaxis": "x",
         "y": [
          3.6,
          1.8,
          3.333,
          2.283,
          4.533,
          2.883,
          4.7,
          3.6,
          1.95,
          4.35,
          1.833,
          3.917,
          4.2,
          1.75,
          4.7,
          2.167,
          1.75,
          4.8,
          1.6,
          4.25,
          1.8,
          1.75,
          3.45,
          3.0669999999999997,
          4.533,
          3.6,
          1.967,
          4.083,
          3.85,
          4.433,
          4.3,
          4.467,
          3.367,
          4.033,
          3.833,
          2.017,
          1.867,
          4.833,
          1.833,
          4.783,
          4.35,
          1.883,
          4.567,
          1.75,
          4.533,
          3.3169999999999997,
          3.833,
          2.1,
          4.633,
          2,
          4.8,
          4.716,
          1.833,
          4.833,
          1.733,
          4.883,
          3.717,
          1.6669999999999998,
          4.567,
          4.317,
          2.233,
          4.5,
          1.75,
          4.8,
          1.817,
          4.4,
          4.167,
          4.7,
          2.0669999999999997,
          4.7,
          4.033,
          1.967,
          4.5,
          4,
          1.983,
          5.067,
          2.017,
          4.567,
          3.883,
          3.6,
          4.133,
          4.333,
          4.1,
          2.633,
          4.067,
          4.933,
          3.95,
          4.5169999999999995,
          2.167,
          4,
          2.2,
          4.333,
          1.867,
          4.817,
          1.833,
          4.3,
          4.667,
          3.75,
          1.867,
          4.9,
          2.483,
          4.367,
          2.1,
          4.5,
          4.05,
          1.867,
          4.7,
          1.783,
          4.85,
          3.683,
          4.7330000000000005,
          2.3,
          4.9,
          4.417,
          1.7,
          4.633,
          2.3169999999999997,
          4.6,
          1.817,
          4.417,
          2.617,
          4.067,
          4.25,
          1.967,
          4.6,
          3.767,
          1.917,
          4.5,
          2.267,
          4.65,
          1.867,
          4.167,
          2.8,
          4.333,
          1.833,
          4.383,
          1.883,
          4.933,
          2.033,
          3.733,
          4.2330000000000005,
          2.233,
          4.533,
          4.817,
          4.333,
          1.983,
          4.633,
          2.017,
          5.1,
          1.8,
          5.033,
          4,
          2.4,
          4.6,
          3.5669999999999997,
          4,
          4.5,
          4.083,
          1.8,
          3.967,
          2.2,
          4.15,
          2,
          3.833,
          3.5,
          4.583,
          2.367,
          5,
          1.933,
          4.617,
          1.917,
          2.083,
          4.583,
          3.333,
          4.167,
          4.333,
          4.5,
          2.417,
          4,
          4.167,
          1.883,
          4.583,
          4.25,
          3.767,
          2.033,
          4.433,
          4.083,
          1.833,
          4.417,
          2.1830000000000003,
          4.8,
          1.833,
          4.8,
          4.1,
          3.966,
          4.2330000000000005,
          3.5,
          4.3660000000000005,
          2.25,
          4.667,
          2.1,
          4.35,
          4.133,
          1.867,
          4.6,
          1.783,
          4.367,
          3.85,
          1.933,
          4.5,
          2.383,
          4.7,
          1.867,
          3.833,
          3.417,
          4.2330000000000005,
          2.4,
          4.8,
          2,
          4.15,
          1.867,
          4.2669999999999995,
          1.75,
          4.4830000000000005,
          4,
          4.117,
          4.083,
          4.2669999999999995,
          3.917,
          4.55,
          4.083,
          2.417,
          4.183,
          2.217,
          4.45,
          1.883,
          1.85,
          4.283,
          3.95,
          2.333,
          4.15,
          2.35,
          4.933,
          2.9,
          4.583,
          3.833,
          2.083,
          4.367,
          2.133,
          4.35,
          2.2,
          4.45,
          3.5669999999999997,
          4.5,
          4.15,
          3.817,
          3.917,
          4.45,
          2,
          4.283,
          4.7669999999999995,
          4.533,
          1.85,
          4.25,
          1.983,
          2.25,
          4.75,
          4.117,
          2.15,
          4.417,
          1.817,
          4.467
         ],
         "yaxis": "y"
        },
        {
         "hovertemplate": "<b>OLS trendline</b><br>duration = 0.0756279 * waiting + -1.87402<br>R<sup>2</sup>=0.811461<br><br>waiting=%{x}<br>duration=%{y} <b>(trend)</b><extra></extra>",
         "legendgroup": "",
         "marker": {
          "color": "#636efa",
          "symbol": "circle"
         },
         "mode": "lines",
         "name": "",
         "showlegend": false,
         "type": "scatter",
         "x": [
          43,
          45,
          45,
          45,
          46,
          46,
          46,
          46,
          46,
          47,
          47,
          47,
          47,
          48,
          48,
          48,
          49,
          49,
          49,
          49,
          49,
          50,
          50,
          50,
          50,
          50,
          51,
          51,
          51,
          51,
          51,
          51,
          52,
          52,
          52,
          52,
          52,
          53,
          53,
          53,
          53,
          53,
          53,
          53,
          54,
          54,
          54,
          54,
          54,
          54,
          54,
          54,
          54,
          55,
          55,
          55,
          55,
          55,
          55,
          56,
          56,
          56,
          56,
          57,
          57,
          57,
          58,
          58,
          58,
          58,
          59,
          59,
          59,
          59,
          59,
          59,
          59,
          60,
          60,
          60,
          60,
          60,
          60,
          62,
          62,
          62,
          62,
          63,
          63,
          63,
          64,
          64,
          64,
          64,
          65,
          65,
          65,
          66,
          66,
          67,
          68,
          69,
          69,
          70,
          70,
          70,
          70,
          71,
          71,
          71,
          71,
          71,
          72,
          73,
          73,
          73,
          73,
          73,
          73,
          73,
          74,
          74,
          74,
          74,
          74,
          74,
          75,
          75,
          75,
          75,
          75,
          75,
          75,
          75,
          76,
          76,
          76,
          76,
          76,
          76,
          76,
          76,
          76,
          77,
          77,
          77,
          77,
          77,
          77,
          77,
          77,
          77,
          77,
          77,
          77,
          78,
          78,
          78,
          78,
          78,
          78,
          78,
          78,
          78,
          78,
          78,
          78,
          78,
          78,
          78,
          79,
          79,
          79,
          79,
          79,
          79,
          79,
          79,
          79,
          79,
          80,
          80,
          80,
          80,
          80,
          80,
          80,
          80,
          81,
          81,
          81,
          81,
          81,
          81,
          81,
          81,
          81,
          81,
          81,
          81,
          81,
          82,
          82,
          82,
          82,
          82,
          82,
          82,
          82,
          82,
          82,
          82,
          82,
          83,
          83,
          83,
          83,
          83,
          83,
          83,
          83,
          83,
          83,
          83,
          83,
          83,
          83,
          84,
          84,
          84,
          84,
          84,
          84,
          84,
          84,
          84,
          84,
          85,
          85,
          85,
          85,
          85,
          85,
          86,
          86,
          86,
          86,
          86,
          86,
          87,
          87,
          88,
          88,
          88,
          88,
          88,
          88,
          89,
          89,
          89,
          90,
          90,
          90,
          90,
          90,
          90,
          91,
          92,
          93,
          93,
          94,
          96
         ],
         "xaxis": "x",
         "y": [
          1.3779857755193576,
          1.5292416714230832,
          1.5292416714230832,
          1.5292416714230832,
          1.6048696193749459,
          1.6048696193749459,
          1.6048696193749459,
          1.6048696193749459,
          1.6048696193749459,
          1.6804975673268088,
          1.6804975673268088,
          1.6804975673268088,
          1.6804975673268088,
          1.7561255152786714,
          1.7561255152786714,
          1.7561255152786714,
          1.8317534632305341,
          1.8317534632305341,
          1.8317534632305341,
          1.8317534632305341,
          1.8317534632305341,
          1.907381411182397,
          1.907381411182397,
          1.907381411182397,
          1.907381411182397,
          1.907381411182397,
          1.9830093591342597,
          1.9830093591342597,
          1.9830093591342597,
          1.9830093591342597,
          1.9830093591342597,
          1.9830093591342597,
          2.0586373070861224,
          2.0586373070861224,
          2.0586373070861224,
          2.0586373070861224,
          2.0586373070861224,
          2.134265255037985,
          2.134265255037985,
          2.134265255037985,
          2.134265255037985,
          2.134265255037985,
          2.134265255037985,
          2.134265255037985,
          2.209893202989848,
          2.209893202989848,
          2.209893202989848,
          2.209893202989848,
          2.209893202989848,
          2.209893202989848,
          2.209893202989848,
          2.209893202989848,
          2.209893202989848,
          2.285521150941711,
          2.285521150941711,
          2.285521150941711,
          2.285521150941711,
          2.285521150941711,
          2.285521150941711,
          2.3611490988935735,
          2.3611490988935735,
          2.3611490988935735,
          2.3611490988935735,
          2.436777046845436,
          2.436777046845436,
          2.436777046845436,
          2.512404994797299,
          2.512404994797299,
          2.512404994797299,
          2.512404994797299,
          2.588032942749162,
          2.588032942749162,
          2.588032942749162,
          2.588032942749162,
          2.588032942749162,
          2.588032942749162,
          2.588032942749162,
          2.6636608907010246,
          2.6636608907010246,
          2.6636608907010246,
          2.6636608907010246,
          2.6636608907010246,
          2.6636608907010246,
          2.81491678660475,
          2.81491678660475,
          2.81491678660475,
          2.81491678660475,
          2.8905447345566126,
          2.8905447345566126,
          2.8905447345566126,
          2.9661726825084758,
          2.9661726825084758,
          2.9661726825084758,
          2.9661726825084758,
          3.0418006304603384,
          3.0418006304603384,
          3.0418006304603384,
          3.117428578412201,
          3.117428578412201,
          3.193056526364064,
          3.2686844743159265,
          3.344312422267789,
          3.344312422267789,
          3.4199403702196522,
          3.4199403702196522,
          3.4199403702196522,
          3.4199403702196522,
          3.495568318171515,
          3.495568318171515,
          3.495568318171515,
          3.495568318171515,
          3.495568318171515,
          3.5711962661233776,
          3.6468242140752403,
          3.6468242140752403,
          3.6468242140752403,
          3.6468242140752403,
          3.6468242140752403,
          3.6468242140752403,
          3.6468242140752403,
          3.722452162027103,
          3.722452162027103,
          3.722452162027103,
          3.722452162027103,
          3.722452162027103,
          3.722452162027103,
          3.798080109978966,
          3.798080109978966,
          3.798080109978966,
          3.798080109978966,
          3.798080109978966,
          3.798080109978966,
          3.798080109978966,
          3.798080109978966,
          3.8737080579308287,
          3.8737080579308287,
          3.8737080579308287,
          3.8737080579308287,
          3.8737080579308287,
          3.8737080579308287,
          3.8737080579308287,
          3.8737080579308287,
          3.8737080579308287,
          3.9493360058826914,
          3.9493360058826914,
          3.9493360058826914,
          3.9493360058826914,
          3.9493360058826914,
          3.9493360058826914,
          3.9493360058826914,
          3.9493360058826914,
          3.9493360058826914,
          3.9493360058826914,
          3.9493360058826914,
          3.9493360058826914,
          4.024963953834554,
          4.024963953834554,
          4.024963953834554,
          4.024963953834554,
          4.024963953834554,
          4.024963953834554,
          4.024963953834554,
          4.024963953834554,
          4.024963953834554,
          4.024963953834554,
          4.024963953834554,
          4.024963953834554,
          4.024963953834554,
          4.024963953834554,
          4.024963953834554,
          4.100591901786417,
          4.100591901786417,
          4.100591901786417,
          4.100591901786417,
          4.100591901786417,
          4.100591901786417,
          4.100591901786417,
          4.100591901786417,
          4.100591901786417,
          4.100591901786417,
          4.176219849738279,
          4.176219849738279,
          4.176219849738279,
          4.176219849738279,
          4.176219849738279,
          4.176219849738279,
          4.176219849738279,
          4.176219849738279,
          4.251847797690142,
          4.251847797690142,
          4.251847797690142,
          4.251847797690142,
          4.251847797690142,
          4.251847797690142,
          4.251847797690142,
          4.251847797690142,
          4.251847797690142,
          4.251847797690142,
          4.251847797690142,
          4.251847797690142,
          4.251847797690142,
          4.327475745642005,
          4.327475745642005,
          4.327475745642005,
          4.327475745642005,
          4.327475745642005,
          4.327475745642005,
          4.327475745642005,
          4.327475745642005,
          4.327475745642005,
          4.327475745642005,
          4.327475745642005,
          4.327475745642005,
          4.403103693593868,
          4.403103693593868,
          4.403103693593868,
          4.403103693593868,
          4.403103693593868,
          4.403103693593868,
          4.403103693593868,
          4.403103693593868,
          4.403103693593868,
          4.403103693593868,
          4.403103693593868,
          4.403103693593868,
          4.403103693593868,
          4.403103693593868,
          4.478731641545731,
          4.478731641545731,
          4.478731641545731,
          4.478731641545731,
          4.478731641545731,
          4.478731641545731,
          4.478731641545731,
          4.478731641545731,
          4.478731641545731,
          4.478731641545731,
          4.554359589497594,
          4.554359589497594,
          4.554359589497594,
          4.554359589497594,
          4.554359589497594,
          4.554359589497594,
          4.629987537449456,
          4.629987537449456,
          4.629987537449456,
          4.629987537449456,
          4.629987537449456,
          4.629987537449456,
          4.705615485401319,
          4.705615485401319,
          4.781243433353182,
          4.781243433353182,
          4.781243433353182,
          4.781243433353182,
          4.781243433353182,
          4.781243433353182,
          4.856871381305044,
          4.856871381305044,
          4.856871381305044,
          4.932499329256907,
          4.932499329256907,
          4.932499329256907,
          4.932499329256907,
          4.932499329256907,
          4.932499329256907,
          5.00812727720877,
          5.083755225160632,
          5.159383173112495,
          5.159383173112495,
          5.235011121064359,
          5.386267016968084
         ],
         "yaxis": "y"
        },
        {
         "mode": "lines",
         "name": "LOWESS Trendline",
         "type": "scatter",
         "x": [
          43,
          45,
          45,
          45,
          46,
          46,
          46,
          46,
          46,
          47,
          47,
          47,
          47,
          48,
          48,
          48,
          49,
          49,
          49,
          49,
          49,
          50,
          50,
          50,
          50,
          50,
          51,
          51,
          51,
          51,
          51,
          51,
          52,
          52,
          52,
          52,
          52,
          53,
          53,
          53,
          53,
          53,
          53,
          53,
          54,
          54,
          54,
          54,
          54,
          54,
          54,
          54,
          54,
          55,
          55,
          55,
          55,
          55,
          55,
          56,
          56,
          56,
          56,
          57,
          57,
          57,
          58,
          58,
          58,
          58,
          59,
          59,
          59,
          59,
          59,
          59,
          59,
          60,
          60,
          60,
          60,
          60,
          60,
          62,
          62,
          62,
          62,
          63,
          63,
          63,
          64,
          64,
          64,
          64,
          65,
          65,
          65,
          66,
          66,
          67,
          68,
          69,
          69,
          70,
          70,
          70,
          70,
          71,
          71,
          71,
          71,
          71,
          72,
          73,
          73,
          73,
          73,
          73,
          73,
          73,
          74,
          74,
          74,
          74,
          74,
          74,
          75,
          75,
          75,
          75,
          75,
          75,
          75,
          75,
          76,
          76,
          76,
          76,
          76,
          76,
          76,
          76,
          76,
          77,
          77,
          77,
          77,
          77,
          77,
          77,
          77,
          77,
          77,
          77,
          77,
          78,
          78,
          78,
          78,
          78,
          78,
          78,
          78,
          78,
          78,
          78,
          78,
          78,
          78,
          78,
          79,
          79,
          79,
          79,
          79,
          79,
          79,
          79,
          79,
          79,
          80,
          80,
          80,
          80,
          80,
          80,
          80,
          80,
          81,
          81,
          81,
          81,
          81,
          81,
          81,
          81,
          81,
          81,
          81,
          81,
          81,
          82,
          82,
          82,
          82,
          82,
          82,
          82,
          82,
          82,
          82,
          82,
          82,
          83,
          83,
          83,
          83,
          83,
          83,
          83,
          83,
          83,
          83,
          83,
          83,
          83,
          83,
          84,
          84,
          84,
          84,
          84,
          84,
          84,
          84,
          84,
          84,
          85,
          85,
          85,
          85,
          85,
          85,
          86,
          86,
          86,
          86,
          86,
          86,
          87,
          87,
          88,
          88,
          88,
          88,
          88,
          88,
          89,
          89,
          89,
          90,
          90,
          90,
          90,
          90,
          90,
          91,
          92,
          93,
          93,
          94,
          96
         ],
         "y": [
          1.9186521424072736,
          1.9344096504953983,
          1.9344096504953983,
          1.9344096504953983,
          1.9421058219420788,
          1.9421058219420788,
          1.9421058219420788,
          1.9421058219420788,
          1.9421058219420788,
          1.9492820922680143,
          1.9492820922680143,
          1.9492820922680143,
          1.9492820922680143,
          1.955860730269182,
          1.955860730269182,
          1.955860730269182,
          1.9621813692418961,
          1.9621813692418961,
          1.9621813692418961,
          1.9621813692418961,
          1.9621813692418961,
          1.9694089979817238,
          1.9694089979817238,
          1.9694089979817238,
          1.9694089979817238,
          1.9694089979817238,
          1.979785009796234,
          1.979785009796234,
          1.979785009796234,
          1.979785009796234,
          1.979785009796234,
          1.979785009796234,
          1.9897143208350283,
          1.9897143208350283,
          1.9897143208350283,
          1.9897143208350283,
          1.9897143208350283,
          1.9952876010759686,
          1.9952876010759686,
          1.9952876010759686,
          1.9952876010759686,
          1.9952876010759686,
          1.9952876010759686,
          1.9952876010759686,
          1.9936488499343472,
          1.9936488499343472,
          1.9936488499343472,
          1.9936488499343472,
          1.9936488499343472,
          1.9936488499343472,
          1.9936488499343472,
          1.9936488499343472,
          1.9936488499343472,
          1.9939340237936416,
          1.9939340237936416,
          1.9939340237936416,
          1.9939340237936416,
          1.9939340237936416,
          1.9939340237936416,
          1.9998045945748544,
          1.9998045945748544,
          1.9998045945748544,
          1.9998045945748544,
          2.0139370252003537,
          2.0139370252003537,
          2.0139370252003537,
          2.038699058321958,
          2.038699058321958,
          2.038699058321958,
          2.038699058321958,
          2.0955741372199945,
          2.0955741372199945,
          2.0955741372199945,
          2.0955741372199945,
          2.0955741372199945,
          2.0955741372199945,
          2.0955741372199945,
          2.15790040400225,
          2.15790040400225,
          2.15790040400225,
          2.15790040400225,
          2.15790040400225,
          2.15790040400225,
          2.3835891777063543,
          2.3835891777063543,
          2.3835891777063543,
          2.3835891777063543,
          2.5443765773188125,
          2.5443765773188125,
          2.5443765773188125,
          2.73947810746056,
          2.73947810746056,
          2.73947810746056,
          2.73947810746056,
          2.9029176379088346,
          2.9029176379088346,
          2.9029176379088346,
          3.0536582526902225,
          3.0536582526902225,
          3.214763931658724,
          3.380303575331187,
          3.578685526510169,
          3.578685526510169,
          3.78491361157182,
          3.78491361157182,
          3.78491361157182,
          3.78491361157182,
          3.9459220045987817,
          3.9459220045987817,
          3.9459220045987817,
          3.9459220045987817,
          3.9459220045987817,
          4.074872475833161,
          4.179011278635361,
          4.179011278635361,
          4.179011278635361,
          4.179011278635361,
          4.179011278635361,
          4.179011278635361,
          4.179011278635361,
          4.253073995783933,
          4.253073995783933,
          4.253073995783933,
          4.253073995783933,
          4.253073995783933,
          4.253073995783933,
          4.318817611181019,
          4.318817611181019,
          4.318817611181019,
          4.318817611181019,
          4.318817611181019,
          4.318817611181019,
          4.318817611181019,
          4.318817611181019,
          4.331656770327061,
          4.331656770327061,
          4.331656770327061,
          4.331656770327061,
          4.331656770327061,
          4.331656770327061,
          4.331656770327061,
          4.331656770327061,
          4.331656770327061,
          4.346858683186568,
          4.346858683186568,
          4.346858683186568,
          4.346858683186568,
          4.346858683186568,
          4.346858683186568,
          4.346858683186568,
          4.346858683186568,
          4.346858683186568,
          4.346858683186568,
          4.346858683186568,
          4.346858683186568,
          4.341189350470712,
          4.341189350470712,
          4.341189350470712,
          4.341189350470712,
          4.341189350470712,
          4.341189350470712,
          4.341189350470712,
          4.341189350470712,
          4.341189350470712,
          4.341189350470712,
          4.341189350470712,
          4.341189350470712,
          4.341189350470712,
          4.341189350470712,
          4.341189350470712,
          4.336785127256829,
          4.336785127256829,
          4.336785127256829,
          4.336785127256829,
          4.336785127256829,
          4.336785127256829,
          4.336785127256829,
          4.336785127256829,
          4.336785127256829,
          4.336785127256829,
          4.332304008228883,
          4.332304008228883,
          4.332304008228883,
          4.332304008228883,
          4.332304008228883,
          4.332304008228883,
          4.332304008228883,
          4.332304008228883,
          4.351533317269227,
          4.351533317269227,
          4.351533317269227,
          4.351533317269227,
          4.351533317269227,
          4.351533317269227,
          4.351533317269227,
          4.351533317269227,
          4.351533317269227,
          4.351533317269227,
          4.351533317269227,
          4.351533317269227,
          4.351533317269227,
          4.353914954332693,
          4.353914954332693,
          4.353914954332693,
          4.353914954332693,
          4.353914954332693,
          4.353914954332693,
          4.353914954332693,
          4.353914954332693,
          4.353914954332693,
          4.353914954332693,
          4.353914954332693,
          4.353914954332693,
          4.363081724880584,
          4.363081724880584,
          4.363081724880584,
          4.363081724880584,
          4.363081724880584,
          4.363081724880584,
          4.363081724880584,
          4.363081724880584,
          4.363081724880584,
          4.363081724880584,
          4.363081724880584,
          4.363081724880584,
          4.363081724880584,
          4.363081724880584,
          4.382656567443482,
          4.382656567443482,
          4.382656567443482,
          4.382656567443482,
          4.382656567443482,
          4.382656567443482,
          4.382656567443482,
          4.382656567443482,
          4.382656567443482,
          4.382656567443482,
          4.409438439144791,
          4.409438439144791,
          4.409438439144791,
          4.409438439144791,
          4.409438439144791,
          4.409438439144791,
          4.445252114142222,
          4.445252114142222,
          4.445252114142222,
          4.445252114142222,
          4.445252114142222,
          4.445252114142222,
          4.463727351843721,
          4.463727351843721,
          4.479656149960104,
          4.479656149960104,
          4.479656149960104,
          4.479656149960104,
          4.479656149960104,
          4.479656149960104,
          4.485016934824074,
          4.485016934824074,
          4.485016934824074,
          4.5068825121334095,
          4.5068825121334095,
          4.5068825121334095,
          4.5068825121334095,
          4.5068825121334095,
          4.5068825121334095,
          4.542260097039802,
          4.577490663638206,
          4.610400813055556,
          4.610400813055556,
          4.6420943883511905,
          4.709228776366158
         ]
        }
       ],
       "layout": {
        "legend": {
         "tracegroupgap": 0
        },
        "template": {
         "data": {
          "bar": [
           {
            "error_x": {
             "color": "#2a3f5f"
            },
            "error_y": {
             "color": "#2a3f5f"
            },
            "marker": {
             "line": {
              "color": "#E5ECF6",
              "width": 0.5
             },
             "pattern": {
              "fillmode": "overlay",
              "size": 10,
              "solidity": 0.2
             }
            },
            "type": "bar"
           }
          ],
          "barpolar": [
           {
            "marker": {
             "line": {
              "color": "#E5ECF6",
              "width": 0.5
             },
             "pattern": {
              "fillmode": "overlay",
              "size": 10,
              "solidity": 0.2
             }
            },
            "type": "barpolar"
           }
          ],
          "carpet": [
           {
            "aaxis": {
             "endlinecolor": "#2a3f5f",
             "gridcolor": "white",
             "linecolor": "white",
             "minorgridcolor": "white",
             "startlinecolor": "#2a3f5f"
            },
            "baxis": {
             "endlinecolor": "#2a3f5f",
             "gridcolor": "white",
             "linecolor": "white",
             "minorgridcolor": "white",
             "startlinecolor": "#2a3f5f"
            },
            "type": "carpet"
           }
          ],
          "choropleth": [
           {
            "colorbar": {
             "outlinewidth": 0,
             "ticks": ""
            },
            "type": "choropleth"
           }
          ],
          "contour": [
           {
            "colorbar": {
             "outlinewidth": 0,
             "ticks": ""
            },
            "colorscale": [
             [
              0,
              "#0d0887"
             ],
             [
              0.1111111111111111,
              "#46039f"
             ],
             [
              0.2222222222222222,
              "#7201a8"
             ],
             [
              0.3333333333333333,
              "#9c179e"
             ],
             [
              0.4444444444444444,
              "#bd3786"
             ],
             [
              0.5555555555555556,
              "#d8576b"
             ],
             [
              0.6666666666666666,
              "#ed7953"
             ],
             [
              0.7777777777777778,
              "#fb9f3a"
             ],
             [
              0.8888888888888888,
              "#fdca26"
             ],
             [
              1,
              "#f0f921"
             ]
            ],
            "type": "contour"
           }
          ],
          "contourcarpet": [
           {
            "colorbar": {
             "outlinewidth": 0,
             "ticks": ""
            },
            "type": "contourcarpet"
           }
          ],
          "heatmap": [
           {
            "colorbar": {
             "outlinewidth": 0,
             "ticks": ""
            },
            "colorscale": [
             [
              0,
              "#0d0887"
             ],
             [
              0.1111111111111111,
              "#46039f"
             ],
             [
              0.2222222222222222,
              "#7201a8"
             ],
             [
              0.3333333333333333,
              "#9c179e"
             ],
             [
              0.4444444444444444,
              "#bd3786"
             ],
             [
              0.5555555555555556,
              "#d8576b"
             ],
             [
              0.6666666666666666,
              "#ed7953"
             ],
             [
              0.7777777777777778,
              "#fb9f3a"
             ],
             [
              0.8888888888888888,
              "#fdca26"
             ],
             [
              1,
              "#f0f921"
             ]
            ],
            "type": "heatmap"
           }
          ],
          "heatmapgl": [
           {
            "colorbar": {
             "outlinewidth": 0,
             "ticks": ""
            },
            "colorscale": [
             [
              0,
              "#0d0887"
             ],
             [
              0.1111111111111111,
              "#46039f"
             ],
             [
              0.2222222222222222,
              "#7201a8"
             ],
             [
              0.3333333333333333,
              "#9c179e"
             ],
             [
              0.4444444444444444,
              "#bd3786"
             ],
             [
              0.5555555555555556,
              "#d8576b"
             ],
             [
              0.6666666666666666,
              "#ed7953"
             ],
             [
              0.7777777777777778,
              "#fb9f3a"
             ],
             [
              0.8888888888888888,
              "#fdca26"
             ],
             [
              1,
              "#f0f921"
             ]
            ],
            "type": "heatmapgl"
           }
          ],
          "histogram": [
           {
            "marker": {
             "pattern": {
              "fillmode": "overlay",
              "size": 10,
              "solidity": 0.2
             }
            },
            "type": "histogram"
           }
          ],
          "histogram2d": [
           {
            "colorbar": {
             "outlinewidth": 0,
             "ticks": ""
            },
            "colorscale": [
             [
              0,
              "#0d0887"
             ],
             [
              0.1111111111111111,
              "#46039f"
             ],
             [
              0.2222222222222222,
              "#7201a8"
             ],
             [
              0.3333333333333333,
              "#9c179e"
             ],
             [
              0.4444444444444444,
              "#bd3786"
             ],
             [
              0.5555555555555556,
              "#d8576b"
             ],
             [
              0.6666666666666666,
              "#ed7953"
             ],
             [
              0.7777777777777778,
              "#fb9f3a"
             ],
             [
              0.8888888888888888,
              "#fdca26"
             ],
             [
              1,
              "#f0f921"
             ]
            ],
            "type": "histogram2d"
           }
          ],
          "histogram2dcontour": [
           {
            "colorbar": {
             "outlinewidth": 0,
             "ticks": ""
            },
            "colorscale": [
             [
              0,
              "#0d0887"
             ],
             [
              0.1111111111111111,
              "#46039f"
             ],
             [
              0.2222222222222222,
              "#7201a8"
             ],
             [
              0.3333333333333333,
              "#9c179e"
             ],
             [
              0.4444444444444444,
              "#bd3786"
             ],
             [
              0.5555555555555556,
              "#d8576b"
             ],
             [
              0.6666666666666666,
              "#ed7953"
             ],
             [
              0.7777777777777778,
              "#fb9f3a"
             ],
             [
              0.8888888888888888,
              "#fdca26"
             ],
             [
              1,
              "#f0f921"
             ]
            ],
            "type": "histogram2dcontour"
           }
          ],
          "mesh3d": [
           {
            "colorbar": {
             "outlinewidth": 0,
             "ticks": ""
            },
            "type": "mesh3d"
           }
          ],
          "parcoords": [
           {
            "line": {
             "colorbar": {
              "outlinewidth": 0,
              "ticks": ""
             }
            },
            "type": "parcoords"
           }
          ],
          "pie": [
           {
            "automargin": true,
            "type": "pie"
           }
          ],
          "scatter": [
           {
            "fillpattern": {
             "fillmode": "overlay",
             "size": 10,
             "solidity": 0.2
            },
            "type": "scatter"
           }
          ],
          "scatter3d": [
           {
            "line": {
             "colorbar": {
              "outlinewidth": 0,
              "ticks": ""
             }
            },
            "marker": {
             "colorbar": {
              "outlinewidth": 0,
              "ticks": ""
             }
            },
            "type": "scatter3d"
           }
          ],
          "scattercarpet": [
           {
            "marker": {
             "colorbar": {
              "outlinewidth": 0,
              "ticks": ""
             }
            },
            "type": "scattercarpet"
           }
          ],
          "scattergeo": [
           {
            "marker": {
             "colorbar": {
              "outlinewidth": 0,
              "ticks": ""
             }
            },
            "type": "scattergeo"
           }
          ],
          "scattergl": [
           {
            "marker": {
             "colorbar": {
              "outlinewidth": 0,
              "ticks": ""
             }
            },
            "type": "scattergl"
           }
          ],
          "scattermapbox": [
           {
            "marker": {
             "colorbar": {
              "outlinewidth": 0,
              "ticks": ""
             }
            },
            "type": "scattermapbox"
           }
          ],
          "scatterpolar": [
           {
            "marker": {
             "colorbar": {
              "outlinewidth": 0,
              "ticks": ""
             }
            },
            "type": "scatterpolar"
           }
          ],
          "scatterpolargl": [
           {
            "marker": {
             "colorbar": {
              "outlinewidth": 0,
              "ticks": ""
             }
            },
            "type": "scatterpolargl"
           }
          ],
          "scatterternary": [
           {
            "marker": {
             "colorbar": {
              "outlinewidth": 0,
              "ticks": ""
             }
            },
            "type": "scatterternary"
           }
          ],
          "surface": [
           {
            "colorbar": {
             "outlinewidth": 0,
             "ticks": ""
            },
            "colorscale": [
             [
              0,
              "#0d0887"
             ],
             [
              0.1111111111111111,
              "#46039f"
             ],
             [
              0.2222222222222222,
              "#7201a8"
             ],
             [
              0.3333333333333333,
              "#9c179e"
             ],
             [
              0.4444444444444444,
              "#bd3786"
             ],
             [
              0.5555555555555556,
              "#d8576b"
             ],
             [
              0.6666666666666666,
              "#ed7953"
             ],
             [
              0.7777777777777778,
              "#fb9f3a"
             ],
             [
              0.8888888888888888,
              "#fdca26"
             ],
             [
              1,
              "#f0f921"
             ]
            ],
            "type": "surface"
           }
          ],
          "table": [
           {
            "cells": {
             "fill": {
              "color": "#EBF0F8"
             },
             "line": {
              "color": "white"
             }
            },
            "header": {
             "fill": {
              "color": "#C8D4E3"
             },
             "line": {
              "color": "white"
             }
            },
            "type": "table"
           }
          ]
         },
         "layout": {
          "annotationdefaults": {
           "arrowcolor": "#2a3f5f",
           "arrowhead": 0,
           "arrowwidth": 1
          },
          "autotypenumbers": "strict",
          "coloraxis": {
           "colorbar": {
            "outlinewidth": 0,
            "ticks": ""
           }
          },
          "colorscale": {
           "diverging": [
            [
             0,
             "#8e0152"
            ],
            [
             0.1,
             "#c51b7d"
            ],
            [
             0.2,
             "#de77ae"
            ],
            [
             0.3,
             "#f1b6da"
            ],
            [
             0.4,
             "#fde0ef"
            ],
            [
             0.5,
             "#f7f7f7"
            ],
            [
             0.6,
             "#e6f5d0"
            ],
            [
             0.7,
             "#b8e186"
            ],
            [
             0.8,
             "#7fbc41"
            ],
            [
             0.9,
             "#4d9221"
            ],
            [
             1,
             "#276419"
            ]
           ],
           "sequential": [
            [
             0,
             "#0d0887"
            ],
            [
             0.1111111111111111,
             "#46039f"
            ],
            [
             0.2222222222222222,
             "#7201a8"
            ],
            [
             0.3333333333333333,
             "#9c179e"
            ],
            [
             0.4444444444444444,
             "#bd3786"
            ],
            [
             0.5555555555555556,
             "#d8576b"
            ],
            [
             0.6666666666666666,
             "#ed7953"
            ],
            [
             0.7777777777777778,
             "#fb9f3a"
            ],
            [
             0.8888888888888888,
             "#fdca26"
            ],
            [
             1,
             "#f0f921"
            ]
           ],
           "sequentialminus": [
            [
             0,
             "#0d0887"
            ],
            [
             0.1111111111111111,
             "#46039f"
            ],
            [
             0.2222222222222222,
             "#7201a8"
            ],
            [
             0.3333333333333333,
             "#9c179e"
            ],
            [
             0.4444444444444444,
             "#bd3786"
            ],
            [
             0.5555555555555556,
             "#d8576b"
            ],
            [
             0.6666666666666666,
             "#ed7953"
            ],
            [
             0.7777777777777778,
             "#fb9f3a"
            ],
            [
             0.8888888888888888,
             "#fdca26"
            ],
            [
             1,
             "#f0f921"
            ]
           ]
          },
          "colorway": [
           "#636efa",
           "#EF553B",
           "#00cc96",
           "#ab63fa",
           "#FFA15A",
           "#19d3f3",
           "#FF6692",
           "#B6E880",
           "#FF97FF",
           "#FECB52"
          ],
          "font": {
           "color": "#2a3f5f"
          },
          "geo": {
           "bgcolor": "white",
           "lakecolor": "white",
           "landcolor": "#E5ECF6",
           "showlakes": true,
           "showland": true,
           "subunitcolor": "white"
          },
          "hoverlabel": {
           "align": "left"
          },
          "hovermode": "closest",
          "mapbox": {
           "style": "light"
          },
          "paper_bgcolor": "white",
          "plot_bgcolor": "#E5ECF6",
          "polar": {
           "angularaxis": {
            "gridcolor": "white",
            "linecolor": "white",
            "ticks": ""
           },
           "bgcolor": "#E5ECF6",
           "radialaxis": {
            "gridcolor": "white",
            "linecolor": "white",
            "ticks": ""
           }
          },
          "scene": {
           "xaxis": {
            "backgroundcolor": "#E5ECF6",
            "gridcolor": "white",
            "gridwidth": 2,
            "linecolor": "white",
            "showbackground": true,
            "ticks": "",
            "zerolinecolor": "white"
           },
           "yaxis": {
            "backgroundcolor": "#E5ECF6",
            "gridcolor": "white",
            "gridwidth": 2,
            "linecolor": "white",
            "showbackground": true,
            "ticks": "",
            "zerolinecolor": "white"
           },
           "zaxis": {
            "backgroundcolor": "#E5ECF6",
            "gridcolor": "white",
            "gridwidth": 2,
            "linecolor": "white",
            "showbackground": true,
            "ticks": "",
            "zerolinecolor": "white"
           }
          },
          "shapedefaults": {
           "line": {
            "color": "#2a3f5f"
           }
          },
          "ternary": {
           "aaxis": {
            "gridcolor": "white",
            "linecolor": "white",
            "ticks": ""
           },
           "baxis": {
            "gridcolor": "white",
            "linecolor": "white",
            "ticks": ""
           },
           "bgcolor": "#E5ECF6",
           "caxis": {
            "gridcolor": "white",
            "linecolor": "white",
            "ticks": ""
           }
          },
          "title": {
           "x": 0.05
          },
          "xaxis": {
           "automargin": true,
           "gridcolor": "white",
           "linecolor": "white",
           "ticks": "",
           "title": {
            "standoff": 15
           },
           "zerolinecolor": "white",
           "zerolinewidth": 2
          },
          "yaxis": {
           "automargin": true,
           "gridcolor": "white",
           "linecolor": "white",
           "ticks": "",
           "title": {
            "standoff": 15
           },
           "zerolinecolor": "white",
           "zerolinewidth": 2
          }
         }
        },
        "title": {
         "text": "Old Faithful Geyser Eruptions"
        },
        "xaxis": {
         "anchor": "y",
         "domain": [
          0,
          1
         ],
         "title": {
          "text": "waiting"
         }
        },
        "yaxis": {
         "anchor": "x",
         "domain": [
          0,
          1
         ],
         "title": {
          "text": "duration"
         }
        }
       }
      },
      "text/html": [
       "<div>                            <div id=\"fdb206c3-abb3-4b02-893c-c997971ab2b1\" class=\"plotly-graph-div\" style=\"height:525px; width:100%;\"></div>            <script type=\"text/javascript\">                require([\"plotly\"], function(Plotly) {                    window.PLOTLYENV=window.PLOTLYENV || {};                                    if (document.getElementById(\"fdb206c3-abb3-4b02-893c-c997971ab2b1\")) {                    Plotly.newPlot(                        \"fdb206c3-abb3-4b02-893c-c997971ab2b1\",                        [{\"hovertemplate\":\"waiting=%{x}\\u003cbr\\u003eduration=%{y}\\u003cextra\\u003e\\u003c\\u002fextra\\u003e\",\"legendgroup\":\"\",\"marker\":{\"color\":\"#636efa\",\"symbol\":\"circle\"},\"mode\":\"markers\",\"name\":\"\",\"orientation\":\"v\",\"showlegend\":false,\"x\":[79,54,74,62,85,55,88,85,51,85,54,84,78,47,83,52,62,84,52,79,51,47,78,69,74,83,55,76,78,79,73,77,66,80,74,52,48,80,59,90,80,58,84,58,73,83,64,53,82,59,75,90,54,80,54,83,71,64,77,81,59,84,48,82,60,92,78,78,65,73,82,56,79,71,62,76,60,78,76,83,75,82,70,65,73,88,76,80,48,86,60,90,50,78,63,72,84,75,51,82,62,88,49,83,81,47,84,52,86,81,75,59,89,79,59,81,50,85,59,87,53,69,77,56,88,81,45,82,55,90,45,83,56,89,46,82,51,86,53,79,81,60,82,77,76,59,80,49,96,53,77,77,65,81,71,70,81,93,53,89,45,86,58,78,66,76,63,88,52,93,49,57,77,68,81,81,73,50,85,74,55,77,83,83,51,78,84,46,83,55,81,57,76,84,77,81,87,77,51,78,60,82,91,53,78,46,77,84,49,83,71,80,49,75,64,76,53,94,55,76,50,82,54,75,78,79,78,78,70,79,70,54,86,50,90,54,54,77,79,64,75,47,86,63,85,82,57,82,67,74,54,83,73,73,88,80,71,83,56,79,78,84,58,83,43,60,75,81,46,90,46,74],\"xaxis\":\"x\",\"y\":[3.6,1.8,3.333,2.283,4.533,2.883,4.7,3.6,1.95,4.35,1.833,3.917,4.2,1.75,4.7,2.167,1.75,4.8,1.6,4.25,1.8,1.75,3.45,3.0669999999999997,4.533,3.6,1.967,4.083,3.85,4.433,4.3,4.467,3.367,4.033,3.833,2.017,1.867,4.833,1.833,4.783,4.35,1.883,4.567,1.75,4.533,3.3169999999999997,3.833,2.1,4.633,2.0,4.8,4.716,1.833,4.833,1.733,4.883,3.717,1.6669999999999998,4.567,4.317,2.233,4.5,1.75,4.8,1.817,4.4,4.167,4.7,2.0669999999999997,4.7,4.033,1.967,4.5,4.0,1.983,5.067,2.017,4.567,3.883,3.6,4.133,4.333,4.1,2.633,4.067,4.933,3.95,4.5169999999999995,2.167,4.0,2.2,4.333,1.867,4.817,1.833,4.3,4.667,3.75,1.867,4.9,2.483,4.367,2.1,4.5,4.05,1.867,4.7,1.783,4.85,3.683,4.7330000000000005,2.3,4.9,4.417,1.7,4.633,2.3169999999999997,4.6,1.817,4.417,2.617,4.067,4.25,1.967,4.6,3.767,1.917,4.5,2.267,4.65,1.867,4.167,2.8,4.333,1.833,4.383,1.883,4.933,2.033,3.733,4.2330000000000005,2.233,4.533,4.817,4.333,1.983,4.633,2.017,5.1,1.8,5.033,4.0,2.4,4.6,3.5669999999999997,4.0,4.5,4.083,1.8,3.967,2.2,4.15,2.0,3.833,3.5,4.583,2.367,5.0,1.933,4.617,1.917,2.083,4.583,3.333,4.167,4.333,4.5,2.417,4.0,4.167,1.883,4.583,4.25,3.767,2.033,4.433,4.083,1.833,4.417,2.1830000000000003,4.8,1.833,4.8,4.1,3.966,4.2330000000000005,3.5,4.3660000000000005,2.25,4.667,2.1,4.35,4.133,1.867,4.6,1.783,4.367,3.85,1.933,4.5,2.383,4.7,1.867,3.833,3.417,4.2330000000000005,2.4,4.8,2.0,4.15,1.867,4.2669999999999995,1.75,4.4830000000000005,4.0,4.117,4.083,4.2669999999999995,3.917,4.55,4.083,2.417,4.183,2.217,4.45,1.883,1.85,4.283,3.95,2.333,4.15,2.35,4.933,2.9,4.583,3.833,2.083,4.367,2.133,4.35,2.2,4.45,3.5669999999999997,4.5,4.15,3.817,3.917,4.45,2.0,4.283,4.7669999999999995,4.533,1.85,4.25,1.983,2.25,4.75,4.117,2.15,4.417,1.817,4.467],\"yaxis\":\"y\",\"type\":\"scatter\"},{\"hovertemplate\":\"\\u003cb\\u003eOLS trendline\\u003c\\u002fb\\u003e\\u003cbr\\u003eduration = 0.0756279 * waiting + -1.87402\\u003cbr\\u003eR\\u003csup\\u003e2\\u003c\\u002fsup\\u003e=0.811461\\u003cbr\\u003e\\u003cbr\\u003ewaiting=%{x}\\u003cbr\\u003eduration=%{y} \\u003cb\\u003e(trend)\\u003c\\u002fb\\u003e\\u003cextra\\u003e\\u003c\\u002fextra\\u003e\",\"legendgroup\":\"\",\"marker\":{\"color\":\"#636efa\",\"symbol\":\"circle\"},\"mode\":\"lines\",\"name\":\"\",\"showlegend\":false,\"x\":[43,45,45,45,46,46,46,46,46,47,47,47,47,48,48,48,49,49,49,49,49,50,50,50,50,50,51,51,51,51,51,51,52,52,52,52,52,53,53,53,53,53,53,53,54,54,54,54,54,54,54,54,54,55,55,55,55,55,55,56,56,56,56,57,57,57,58,58,58,58,59,59,59,59,59,59,59,60,60,60,60,60,60,62,62,62,62,63,63,63,64,64,64,64,65,65,65,66,66,67,68,69,69,70,70,70,70,71,71,71,71,71,72,73,73,73,73,73,73,73,74,74,74,74,74,74,75,75,75,75,75,75,75,75,76,76,76,76,76,76,76,76,76,77,77,77,77,77,77,77,77,77,77,77,77,78,78,78,78,78,78,78,78,78,78,78,78,78,78,78,79,79,79,79,79,79,79,79,79,79,80,80,80,80,80,80,80,80,81,81,81,81,81,81,81,81,81,81,81,81,81,82,82,82,82,82,82,82,82,82,82,82,82,83,83,83,83,83,83,83,83,83,83,83,83,83,83,84,84,84,84,84,84,84,84,84,84,85,85,85,85,85,85,86,86,86,86,86,86,87,87,88,88,88,88,88,88,89,89,89,90,90,90,90,90,90,91,92,93,93,94,96],\"xaxis\":\"x\",\"y\":[1.3779857755193576,1.5292416714230832,1.5292416714230832,1.5292416714230832,1.6048696193749459,1.6048696193749459,1.6048696193749459,1.6048696193749459,1.6048696193749459,1.6804975673268088,1.6804975673268088,1.6804975673268088,1.6804975673268088,1.7561255152786714,1.7561255152786714,1.7561255152786714,1.8317534632305341,1.8317534632305341,1.8317534632305341,1.8317534632305341,1.8317534632305341,1.907381411182397,1.907381411182397,1.907381411182397,1.907381411182397,1.907381411182397,1.9830093591342597,1.9830093591342597,1.9830093591342597,1.9830093591342597,1.9830093591342597,1.9830093591342597,2.0586373070861224,2.0586373070861224,2.0586373070861224,2.0586373070861224,2.0586373070861224,2.134265255037985,2.134265255037985,2.134265255037985,2.134265255037985,2.134265255037985,2.134265255037985,2.134265255037985,2.209893202989848,2.209893202989848,2.209893202989848,2.209893202989848,2.209893202989848,2.209893202989848,2.209893202989848,2.209893202989848,2.209893202989848,2.285521150941711,2.285521150941711,2.285521150941711,2.285521150941711,2.285521150941711,2.285521150941711,2.3611490988935735,2.3611490988935735,2.3611490988935735,2.3611490988935735,2.436777046845436,2.436777046845436,2.436777046845436,2.512404994797299,2.512404994797299,2.512404994797299,2.512404994797299,2.588032942749162,2.588032942749162,2.588032942749162,2.588032942749162,2.588032942749162,2.588032942749162,2.588032942749162,2.6636608907010246,2.6636608907010246,2.6636608907010246,2.6636608907010246,2.6636608907010246,2.6636608907010246,2.81491678660475,2.81491678660475,2.81491678660475,2.81491678660475,2.8905447345566126,2.8905447345566126,2.8905447345566126,2.9661726825084758,2.9661726825084758,2.9661726825084758,2.9661726825084758,3.0418006304603384,3.0418006304603384,3.0418006304603384,3.117428578412201,3.117428578412201,3.193056526364064,3.2686844743159265,3.344312422267789,3.344312422267789,3.4199403702196522,3.4199403702196522,3.4199403702196522,3.4199403702196522,3.495568318171515,3.495568318171515,3.495568318171515,3.495568318171515,3.495568318171515,3.5711962661233776,3.6468242140752403,3.6468242140752403,3.6468242140752403,3.6468242140752403,3.6468242140752403,3.6468242140752403,3.6468242140752403,3.722452162027103,3.722452162027103,3.722452162027103,3.722452162027103,3.722452162027103,3.722452162027103,3.798080109978966,3.798080109978966,3.798080109978966,3.798080109978966,3.798080109978966,3.798080109978966,3.798080109978966,3.798080109978966,3.8737080579308287,3.8737080579308287,3.8737080579308287,3.8737080579308287,3.8737080579308287,3.8737080579308287,3.8737080579308287,3.8737080579308287,3.8737080579308287,3.9493360058826914,3.9493360058826914,3.9493360058826914,3.9493360058826914,3.9493360058826914,3.9493360058826914,3.9493360058826914,3.9493360058826914,3.9493360058826914,3.9493360058826914,3.9493360058826914,3.9493360058826914,4.024963953834554,4.024963953834554,4.024963953834554,4.024963953834554,4.024963953834554,4.024963953834554,4.024963953834554,4.024963953834554,4.024963953834554,4.024963953834554,4.024963953834554,4.024963953834554,4.024963953834554,4.024963953834554,4.024963953834554,4.100591901786417,4.100591901786417,4.100591901786417,4.100591901786417,4.100591901786417,4.100591901786417,4.100591901786417,4.100591901786417,4.100591901786417,4.100591901786417,4.176219849738279,4.176219849738279,4.176219849738279,4.176219849738279,4.176219849738279,4.176219849738279,4.176219849738279,4.176219849738279,4.251847797690142,4.251847797690142,4.251847797690142,4.251847797690142,4.251847797690142,4.251847797690142,4.251847797690142,4.251847797690142,4.251847797690142,4.251847797690142,4.251847797690142,4.251847797690142,4.251847797690142,4.327475745642005,4.327475745642005,4.327475745642005,4.327475745642005,4.327475745642005,4.327475745642005,4.327475745642005,4.327475745642005,4.327475745642005,4.327475745642005,4.327475745642005,4.327475745642005,4.403103693593868,4.403103693593868,4.403103693593868,4.403103693593868,4.403103693593868,4.403103693593868,4.403103693593868,4.403103693593868,4.403103693593868,4.403103693593868,4.403103693593868,4.403103693593868,4.403103693593868,4.403103693593868,4.478731641545731,4.478731641545731,4.478731641545731,4.478731641545731,4.478731641545731,4.478731641545731,4.478731641545731,4.478731641545731,4.478731641545731,4.478731641545731,4.554359589497594,4.554359589497594,4.554359589497594,4.554359589497594,4.554359589497594,4.554359589497594,4.629987537449456,4.629987537449456,4.629987537449456,4.629987537449456,4.629987537449456,4.629987537449456,4.705615485401319,4.705615485401319,4.781243433353182,4.781243433353182,4.781243433353182,4.781243433353182,4.781243433353182,4.781243433353182,4.856871381305044,4.856871381305044,4.856871381305044,4.932499329256907,4.932499329256907,4.932499329256907,4.932499329256907,4.932499329256907,4.932499329256907,5.00812727720877,5.083755225160632,5.159383173112495,5.159383173112495,5.235011121064359,5.386267016968084],\"yaxis\":\"y\",\"type\":\"scatter\"},{\"mode\":\"lines\",\"name\":\"LOWESS Trendline\",\"x\":[43.0,45.0,45.0,45.0,46.0,46.0,46.0,46.0,46.0,47.0,47.0,47.0,47.0,48.0,48.0,48.0,49.0,49.0,49.0,49.0,49.0,50.0,50.0,50.0,50.0,50.0,51.0,51.0,51.0,51.0,51.0,51.0,52.0,52.0,52.0,52.0,52.0,53.0,53.0,53.0,53.0,53.0,53.0,53.0,54.0,54.0,54.0,54.0,54.0,54.0,54.0,54.0,54.0,55.0,55.0,55.0,55.0,55.0,55.0,56.0,56.0,56.0,56.0,57.0,57.0,57.0,58.0,58.0,58.0,58.0,59.0,59.0,59.0,59.0,59.0,59.0,59.0,60.0,60.0,60.0,60.0,60.0,60.0,62.0,62.0,62.0,62.0,63.0,63.0,63.0,64.0,64.0,64.0,64.0,65.0,65.0,65.0,66.0,66.0,67.0,68.0,69.0,69.0,70.0,70.0,70.0,70.0,71.0,71.0,71.0,71.0,71.0,72.0,73.0,73.0,73.0,73.0,73.0,73.0,73.0,74.0,74.0,74.0,74.0,74.0,74.0,75.0,75.0,75.0,75.0,75.0,75.0,75.0,75.0,76.0,76.0,76.0,76.0,76.0,76.0,76.0,76.0,76.0,77.0,77.0,77.0,77.0,77.0,77.0,77.0,77.0,77.0,77.0,77.0,77.0,78.0,78.0,78.0,78.0,78.0,78.0,78.0,78.0,78.0,78.0,78.0,78.0,78.0,78.0,78.0,79.0,79.0,79.0,79.0,79.0,79.0,79.0,79.0,79.0,79.0,80.0,80.0,80.0,80.0,80.0,80.0,80.0,80.0,81.0,81.0,81.0,81.0,81.0,81.0,81.0,81.0,81.0,81.0,81.0,81.0,81.0,82.0,82.0,82.0,82.0,82.0,82.0,82.0,82.0,82.0,82.0,82.0,82.0,83.0,83.0,83.0,83.0,83.0,83.0,83.0,83.0,83.0,83.0,83.0,83.0,83.0,83.0,84.0,84.0,84.0,84.0,84.0,84.0,84.0,84.0,84.0,84.0,85.0,85.0,85.0,85.0,85.0,85.0,86.0,86.0,86.0,86.0,86.0,86.0,87.0,87.0,88.0,88.0,88.0,88.0,88.0,88.0,89.0,89.0,89.0,90.0,90.0,90.0,90.0,90.0,90.0,91.0,92.0,93.0,93.0,94.0,96.0],\"y\":[1.9186521424072736,1.9344096504953983,1.9344096504953983,1.9344096504953983,1.9421058219420788,1.9421058219420788,1.9421058219420788,1.9421058219420788,1.9421058219420788,1.9492820922680143,1.9492820922680143,1.9492820922680143,1.9492820922680143,1.955860730269182,1.955860730269182,1.955860730269182,1.9621813692418961,1.9621813692418961,1.9621813692418961,1.9621813692418961,1.9621813692418961,1.9694089979817238,1.9694089979817238,1.9694089979817238,1.9694089979817238,1.9694089979817238,1.979785009796234,1.979785009796234,1.979785009796234,1.979785009796234,1.979785009796234,1.979785009796234,1.9897143208350283,1.9897143208350283,1.9897143208350283,1.9897143208350283,1.9897143208350283,1.9952876010759686,1.9952876010759686,1.9952876010759686,1.9952876010759686,1.9952876010759686,1.9952876010759686,1.9952876010759686,1.9936488499343472,1.9936488499343472,1.9936488499343472,1.9936488499343472,1.9936488499343472,1.9936488499343472,1.9936488499343472,1.9936488499343472,1.9936488499343472,1.9939340237936416,1.9939340237936416,1.9939340237936416,1.9939340237936416,1.9939340237936416,1.9939340237936416,1.9998045945748544,1.9998045945748544,1.9998045945748544,1.9998045945748544,2.0139370252003537,2.0139370252003537,2.0139370252003537,2.038699058321958,2.038699058321958,2.038699058321958,2.038699058321958,2.0955741372199945,2.0955741372199945,2.0955741372199945,2.0955741372199945,2.0955741372199945,2.0955741372199945,2.0955741372199945,2.15790040400225,2.15790040400225,2.15790040400225,2.15790040400225,2.15790040400225,2.15790040400225,2.3835891777063543,2.3835891777063543,2.3835891777063543,2.3835891777063543,2.5443765773188125,2.5443765773188125,2.5443765773188125,2.73947810746056,2.73947810746056,2.73947810746056,2.73947810746056,2.9029176379088346,2.9029176379088346,2.9029176379088346,3.0536582526902225,3.0536582526902225,3.214763931658724,3.380303575331187,3.578685526510169,3.578685526510169,3.78491361157182,3.78491361157182,3.78491361157182,3.78491361157182,3.9459220045987817,3.9459220045987817,3.9459220045987817,3.9459220045987817,3.9459220045987817,4.074872475833161,4.179011278635361,4.179011278635361,4.179011278635361,4.179011278635361,4.179011278635361,4.179011278635361,4.179011278635361,4.253073995783933,4.253073995783933,4.253073995783933,4.253073995783933,4.253073995783933,4.253073995783933,4.318817611181019,4.318817611181019,4.318817611181019,4.318817611181019,4.318817611181019,4.318817611181019,4.318817611181019,4.318817611181019,4.331656770327061,4.331656770327061,4.331656770327061,4.331656770327061,4.331656770327061,4.331656770327061,4.331656770327061,4.331656770327061,4.331656770327061,4.346858683186568,4.346858683186568,4.346858683186568,4.346858683186568,4.346858683186568,4.346858683186568,4.346858683186568,4.346858683186568,4.346858683186568,4.346858683186568,4.346858683186568,4.346858683186568,4.341189350470712,4.341189350470712,4.341189350470712,4.341189350470712,4.341189350470712,4.341189350470712,4.341189350470712,4.341189350470712,4.341189350470712,4.341189350470712,4.341189350470712,4.341189350470712,4.341189350470712,4.341189350470712,4.341189350470712,4.336785127256829,4.336785127256829,4.336785127256829,4.336785127256829,4.336785127256829,4.336785127256829,4.336785127256829,4.336785127256829,4.336785127256829,4.336785127256829,4.332304008228883,4.332304008228883,4.332304008228883,4.332304008228883,4.332304008228883,4.332304008228883,4.332304008228883,4.332304008228883,4.351533317269227,4.351533317269227,4.351533317269227,4.351533317269227,4.351533317269227,4.351533317269227,4.351533317269227,4.351533317269227,4.351533317269227,4.351533317269227,4.351533317269227,4.351533317269227,4.351533317269227,4.353914954332693,4.353914954332693,4.353914954332693,4.353914954332693,4.353914954332693,4.353914954332693,4.353914954332693,4.353914954332693,4.353914954332693,4.353914954332693,4.353914954332693,4.353914954332693,4.363081724880584,4.363081724880584,4.363081724880584,4.363081724880584,4.363081724880584,4.363081724880584,4.363081724880584,4.363081724880584,4.363081724880584,4.363081724880584,4.363081724880584,4.363081724880584,4.363081724880584,4.363081724880584,4.382656567443482,4.382656567443482,4.382656567443482,4.382656567443482,4.382656567443482,4.382656567443482,4.382656567443482,4.382656567443482,4.382656567443482,4.382656567443482,4.409438439144791,4.409438439144791,4.409438439144791,4.409438439144791,4.409438439144791,4.409438439144791,4.445252114142222,4.445252114142222,4.445252114142222,4.445252114142222,4.445252114142222,4.445252114142222,4.463727351843721,4.463727351843721,4.479656149960104,4.479656149960104,4.479656149960104,4.479656149960104,4.479656149960104,4.479656149960104,4.485016934824074,4.485016934824074,4.485016934824074,4.5068825121334095,4.5068825121334095,4.5068825121334095,4.5068825121334095,4.5068825121334095,4.5068825121334095,4.542260097039802,4.577490663638206,4.610400813055556,4.610400813055556,4.6420943883511905,4.709228776366158],\"type\":\"scatter\"}],                        {\"template\":{\"data\":{\"histogram2dcontour\":[{\"type\":\"histogram2dcontour\",\"colorbar\":{\"outlinewidth\":0,\"ticks\":\"\"},\"colorscale\":[[0.0,\"#0d0887\"],[0.1111111111111111,\"#46039f\"],[0.2222222222222222,\"#7201a8\"],[0.3333333333333333,\"#9c179e\"],[0.4444444444444444,\"#bd3786\"],[0.5555555555555556,\"#d8576b\"],[0.6666666666666666,\"#ed7953\"],[0.7777777777777778,\"#fb9f3a\"],[0.8888888888888888,\"#fdca26\"],[1.0,\"#f0f921\"]]}],\"choropleth\":[{\"type\":\"choropleth\",\"colorbar\":{\"outlinewidth\":0,\"ticks\":\"\"}}],\"histogram2d\":[{\"type\":\"histogram2d\",\"colorbar\":{\"outlinewidth\":0,\"ticks\":\"\"},\"colorscale\":[[0.0,\"#0d0887\"],[0.1111111111111111,\"#46039f\"],[0.2222222222222222,\"#7201a8\"],[0.3333333333333333,\"#9c179e\"],[0.4444444444444444,\"#bd3786\"],[0.5555555555555556,\"#d8576b\"],[0.6666666666666666,\"#ed7953\"],[0.7777777777777778,\"#fb9f3a\"],[0.8888888888888888,\"#fdca26\"],[1.0,\"#f0f921\"]]}],\"heatmap\":[{\"type\":\"heatmap\",\"colorbar\":{\"outlinewidth\":0,\"ticks\":\"\"},\"colorscale\":[[0.0,\"#0d0887\"],[0.1111111111111111,\"#46039f\"],[0.2222222222222222,\"#7201a8\"],[0.3333333333333333,\"#9c179e\"],[0.4444444444444444,\"#bd3786\"],[0.5555555555555556,\"#d8576b\"],[0.6666666666666666,\"#ed7953\"],[0.7777777777777778,\"#fb9f3a\"],[0.8888888888888888,\"#fdca26\"],[1.0,\"#f0f921\"]]}],\"heatmapgl\":[{\"type\":\"heatmapgl\",\"colorbar\":{\"outlinewidth\":0,\"ticks\":\"\"},\"colorscale\":[[0.0,\"#0d0887\"],[0.1111111111111111,\"#46039f\"],[0.2222222222222222,\"#7201a8\"],[0.3333333333333333,\"#9c179e\"],[0.4444444444444444,\"#bd3786\"],[0.5555555555555556,\"#d8576b\"],[0.6666666666666666,\"#ed7953\"],[0.7777777777777778,\"#fb9f3a\"],[0.8888888888888888,\"#fdca26\"],[1.0,\"#f0f921\"]]}],\"contourcarpet\":[{\"type\":\"contourcarpet\",\"colorbar\":{\"outlinewidth\":0,\"ticks\":\"\"}}],\"contour\":[{\"type\":\"contour\",\"colorbar\":{\"outlinewidth\":0,\"ticks\":\"\"},\"colorscale\":[[0.0,\"#0d0887\"],[0.1111111111111111,\"#46039f\"],[0.2222222222222222,\"#7201a8\"],[0.3333333333333333,\"#9c179e\"],[0.4444444444444444,\"#bd3786\"],[0.5555555555555556,\"#d8576b\"],[0.6666666666666666,\"#ed7953\"],[0.7777777777777778,\"#fb9f3a\"],[0.8888888888888888,\"#fdca26\"],[1.0,\"#f0f921\"]]}],\"surface\":[{\"type\":\"surface\",\"colorbar\":{\"outlinewidth\":0,\"ticks\":\"\"},\"colorscale\":[[0.0,\"#0d0887\"],[0.1111111111111111,\"#46039f\"],[0.2222222222222222,\"#7201a8\"],[0.3333333333333333,\"#9c179e\"],[0.4444444444444444,\"#bd3786\"],[0.5555555555555556,\"#d8576b\"],[0.6666666666666666,\"#ed7953\"],[0.7777777777777778,\"#fb9f3a\"],[0.8888888888888888,\"#fdca26\"],[1.0,\"#f0f921\"]]}],\"mesh3d\":[{\"type\":\"mesh3d\",\"colorbar\":{\"outlinewidth\":0,\"ticks\":\"\"}}],\"scatter\":[{\"fillpattern\":{\"fillmode\":\"overlay\",\"size\":10,\"solidity\":0.2},\"type\":\"scatter\"}],\"parcoords\":[{\"type\":\"parcoords\",\"line\":{\"colorbar\":{\"outlinewidth\":0,\"ticks\":\"\"}}}],\"scatterpolargl\":[{\"type\":\"scatterpolargl\",\"marker\":{\"colorbar\":{\"outlinewidth\":0,\"ticks\":\"\"}}}],\"bar\":[{\"error_x\":{\"color\":\"#2a3f5f\"},\"error_y\":{\"color\":\"#2a3f5f\"},\"marker\":{\"line\":{\"color\":\"#E5ECF6\",\"width\":0.5},\"pattern\":{\"fillmode\":\"overlay\",\"size\":10,\"solidity\":0.2}},\"type\":\"bar\"}],\"scattergeo\":[{\"type\":\"scattergeo\",\"marker\":{\"colorbar\":{\"outlinewidth\":0,\"ticks\":\"\"}}}],\"scatterpolar\":[{\"type\":\"scatterpolar\",\"marker\":{\"colorbar\":{\"outlinewidth\":0,\"ticks\":\"\"}}}],\"histogram\":[{\"marker\":{\"pattern\":{\"fillmode\":\"overlay\",\"size\":10,\"solidity\":0.2}},\"type\":\"histogram\"}],\"scattergl\":[{\"type\":\"scattergl\",\"marker\":{\"colorbar\":{\"outlinewidth\":0,\"ticks\":\"\"}}}],\"scatter3d\":[{\"type\":\"scatter3d\",\"line\":{\"colorbar\":{\"outlinewidth\":0,\"ticks\":\"\"}},\"marker\":{\"colorbar\":{\"outlinewidth\":0,\"ticks\":\"\"}}}],\"scattermapbox\":[{\"type\":\"scattermapbox\",\"marker\":{\"colorbar\":{\"outlinewidth\":0,\"ticks\":\"\"}}}],\"scatterternary\":[{\"type\":\"scatterternary\",\"marker\":{\"colorbar\":{\"outlinewidth\":0,\"ticks\":\"\"}}}],\"scattercarpet\":[{\"type\":\"scattercarpet\",\"marker\":{\"colorbar\":{\"outlinewidth\":0,\"ticks\":\"\"}}}],\"carpet\":[{\"aaxis\":{\"endlinecolor\":\"#2a3f5f\",\"gridcolor\":\"white\",\"linecolor\":\"white\",\"minorgridcolor\":\"white\",\"startlinecolor\":\"#2a3f5f\"},\"baxis\":{\"endlinecolor\":\"#2a3f5f\",\"gridcolor\":\"white\",\"linecolor\":\"white\",\"minorgridcolor\":\"white\",\"startlinecolor\":\"#2a3f5f\"},\"type\":\"carpet\"}],\"table\":[{\"cells\":{\"fill\":{\"color\":\"#EBF0F8\"},\"line\":{\"color\":\"white\"}},\"header\":{\"fill\":{\"color\":\"#C8D4E3\"},\"line\":{\"color\":\"white\"}},\"type\":\"table\"}],\"barpolar\":[{\"marker\":{\"line\":{\"color\":\"#E5ECF6\",\"width\":0.5},\"pattern\":{\"fillmode\":\"overlay\",\"size\":10,\"solidity\":0.2}},\"type\":\"barpolar\"}],\"pie\":[{\"automargin\":true,\"type\":\"pie\"}]},\"layout\":{\"autotypenumbers\":\"strict\",\"colorway\":[\"#636efa\",\"#EF553B\",\"#00cc96\",\"#ab63fa\",\"#FFA15A\",\"#19d3f3\",\"#FF6692\",\"#B6E880\",\"#FF97FF\",\"#FECB52\"],\"font\":{\"color\":\"#2a3f5f\"},\"hovermode\":\"closest\",\"hoverlabel\":{\"align\":\"left\"},\"paper_bgcolor\":\"white\",\"plot_bgcolor\":\"#E5ECF6\",\"polar\":{\"bgcolor\":\"#E5ECF6\",\"angularaxis\":{\"gridcolor\":\"white\",\"linecolor\":\"white\",\"ticks\":\"\"},\"radialaxis\":{\"gridcolor\":\"white\",\"linecolor\":\"white\",\"ticks\":\"\"}},\"ternary\":{\"bgcolor\":\"#E5ECF6\",\"aaxis\":{\"gridcolor\":\"white\",\"linecolor\":\"white\",\"ticks\":\"\"},\"baxis\":{\"gridcolor\":\"white\",\"linecolor\":\"white\",\"ticks\":\"\"},\"caxis\":{\"gridcolor\":\"white\",\"linecolor\":\"white\",\"ticks\":\"\"}},\"coloraxis\":{\"colorbar\":{\"outlinewidth\":0,\"ticks\":\"\"}},\"colorscale\":{\"sequential\":[[0.0,\"#0d0887\"],[0.1111111111111111,\"#46039f\"],[0.2222222222222222,\"#7201a8\"],[0.3333333333333333,\"#9c179e\"],[0.4444444444444444,\"#bd3786\"],[0.5555555555555556,\"#d8576b\"],[0.6666666666666666,\"#ed7953\"],[0.7777777777777778,\"#fb9f3a\"],[0.8888888888888888,\"#fdca26\"],[1.0,\"#f0f921\"]],\"sequentialminus\":[[0.0,\"#0d0887\"],[0.1111111111111111,\"#46039f\"],[0.2222222222222222,\"#7201a8\"],[0.3333333333333333,\"#9c179e\"],[0.4444444444444444,\"#bd3786\"],[0.5555555555555556,\"#d8576b\"],[0.6666666666666666,\"#ed7953\"],[0.7777777777777778,\"#fb9f3a\"],[0.8888888888888888,\"#fdca26\"],[1.0,\"#f0f921\"]],\"diverging\":[[0,\"#8e0152\"],[0.1,\"#c51b7d\"],[0.2,\"#de77ae\"],[0.3,\"#f1b6da\"],[0.4,\"#fde0ef\"],[0.5,\"#f7f7f7\"],[0.6,\"#e6f5d0\"],[0.7,\"#b8e186\"],[0.8,\"#7fbc41\"],[0.9,\"#4d9221\"],[1,\"#276419\"]]},\"xaxis\":{\"gridcolor\":\"white\",\"linecolor\":\"white\",\"ticks\":\"\",\"title\":{\"standoff\":15},\"zerolinecolor\":\"white\",\"automargin\":true,\"zerolinewidth\":2},\"yaxis\":{\"gridcolor\":\"white\",\"linecolor\":\"white\",\"ticks\":\"\",\"title\":{\"standoff\":15},\"zerolinecolor\":\"white\",\"automargin\":true,\"zerolinewidth\":2},\"scene\":{\"xaxis\":{\"backgroundcolor\":\"#E5ECF6\",\"gridcolor\":\"white\",\"linecolor\":\"white\",\"showbackground\":true,\"ticks\":\"\",\"zerolinecolor\":\"white\",\"gridwidth\":2},\"yaxis\":{\"backgroundcolor\":\"#E5ECF6\",\"gridcolor\":\"white\",\"linecolor\":\"white\",\"showbackground\":true,\"ticks\":\"\",\"zerolinecolor\":\"white\",\"gridwidth\":2},\"zaxis\":{\"backgroundcolor\":\"#E5ECF6\",\"gridcolor\":\"white\",\"linecolor\":\"white\",\"showbackground\":true,\"ticks\":\"\",\"zerolinecolor\":\"white\",\"gridwidth\":2}},\"shapedefaults\":{\"line\":{\"color\":\"#2a3f5f\"}},\"annotationdefaults\":{\"arrowcolor\":\"#2a3f5f\",\"arrowhead\":0,\"arrowwidth\":1},\"geo\":{\"bgcolor\":\"white\",\"landcolor\":\"#E5ECF6\",\"subunitcolor\":\"white\",\"showland\":true,\"showlakes\":true,\"lakecolor\":\"white\"},\"title\":{\"x\":0.05},\"mapbox\":{\"style\":\"light\"}}},\"xaxis\":{\"anchor\":\"y\",\"domain\":[0.0,1.0],\"title\":{\"text\":\"waiting\"}},\"yaxis\":{\"anchor\":\"x\",\"domain\":[0.0,1.0],\"title\":{\"text\":\"duration\"}},\"legend\":{\"tracegroupgap\":0},\"title\":{\"text\":\"Old Faithful Geyser Eruptions\"}},                        {\"responsive\": true}                    ).then(function(){\n",
       "                            \n",
       "var gd = document.getElementById('fdb206c3-abb3-4b02-893c-c997971ab2b1');\n",
       "var x = new MutationObserver(function (mutations, observer) {{\n",
       "        var display = window.getComputedStyle(gd).display;\n",
       "        if (!display || display === 'none') {{\n",
       "            console.log([gd, 'removed!']);\n",
       "            Plotly.purge(gd);\n",
       "            observer.disconnect();\n",
       "        }}\n",
       "}});\n",
       "\n",
       "// Listen for the removal of the full notebook cells\n",
       "var notebookContainer = gd.closest('#notebook-container');\n",
       "if (notebookContainer) {{\n",
       "    x.observe(notebookContainer, {childList: true});\n",
       "}}\n",
       "\n",
       "// Listen for the clearing of the current output cell\n",
       "var outputEl = gd.closest('.output');\n",
       "if (outputEl) {{\n",
       "    x.observe(outputEl, {childList: true});\n",
       "}}\n",
       "\n",
       "                        })                };                });            </script>        </div>"
      ]
     },
     "metadata": {},
     "output_type": "display_data"
    }
   ],
   "source": [
    "import plotly.express as px\n",
    "import seaborn as sns\n",
    "import statsmodels.api as sm\n",
    "\n",
    "# The \"Classic\" Old Faithful Geyser dataset: ask a ChatBot for more details if desired\n",
    "old_faithful = sns.load_dataset('geyser')\n",
    "\n",
    "# Create a scatter plot with a Simple Linear Regression trendline\n",
    "fig = px.scatter(old_faithful, x='waiting', y='duration', \n",
    "                 title=\"Old Faithful Geyser Eruptions\", \n",
    "                 trendline='ols')#'lowess'\n",
    "\n",
    "# Add a smoothed LOWESS Trendline to the scatter plot\n",
    "lowess = sm.nonparametric.lowess  # Adjust 'frac' to change \"smoothness bandwidth\"\n",
    "smoothed = lowess(old_faithful['duration'], old_faithful['waiting'], frac=0.25)  \n",
    "smoothed_df = pd.DataFrame(smoothed, columns=['waiting', 'smoothed_duration'])\n",
    "fig.add_scatter(x=smoothed_df['waiting'], y=smoothed_df['smoothed_duration'], \n",
    "                mode='lines', name='LOWESS Trendline')\n",
    "\n",
    "fig.show() # USE `fig.show(renderer=\"png\")` FOR ALL GitHub and MarkUs SUBMISSIONS"
   ]
  },
  {
   "cell_type": "markdown",
   "id": "b0db85ec",
   "metadata": {},
   "source": [
    "8. Specify a **null hypothesis** of \"no linear association (on average)\" in terms of the relevant **parameter** of the **Simple Linear Regression** model, and use the code below to characterize the evidence in the data relative to the **null hypothesis** and interpret your subsequent beliefs regarding the Old Faithful Geyser dataset\n",
    "\n",
    "   > ```python\n",
    "   > import seaborn as sns\n",
    "   > import statsmodels.formula.api as smf\n",
    "   >\n",
    "   > # The \"Classic\" Old Faithful Geyser dataset\n",
    "   > old_faithful = sns.load_dataset('geyser')\n",
    "   > \n",
    "   > linear_for_specification = 'duration ~ waiting'\n",
    "   > model = smf.ols(linear_for_specification, data=old_faithful)\n",
    "   > fitted_model = model.fit()\n",
    "   > fitted_model.summary()\n",
    "   > ```"
   ]
  },
  {
   "cell_type": "markdown",
   "id": "bd719fef",
   "metadata": {},
   "source": [
    "9. As seen in the introductory figure above, if the delay of the geyser eruption since the previous geyser eruption exceeds approximately 63 minutes, there is a notable increase in the duration of the geyser eruption itself. In the figure below we therefore restrict the dataset to only short wait times. Within the context of only short wait times, is there evidence in the data for a relationship between duration and wait time in the same manner as in the full data set? Using the following code, characterize the evidence against the **null hypothesis** in the context of short wait times which are less than  `short_wait_limit` values of `62`, `64`, `66`.<br><br>\n",
    "\n",
    "    <details class=\"details-example\"><summary style=\"color:blue\"><u>Further Guidance</u></summary>\n",
    "\n",
    "    Remember that **Hypothesis Ttesting** is not a \"mathematical proof\"\n",
    "\n",
    "    1. We do not prove $H_0$ false, we instead give evidence against the $H_0$: \"We reject the null hypothesis with a p-value of XYZ, meaning we have ABC evidence against the null hypothesis\"\n",
    "    2. We do not prove $H_0$ is true, we instead do not have evidence to reject $H_0$: \"We fail to reject the null hypothesis with a p-value of XYZ\"<br><br>\n",
    "\n",
    "    |p-value|Evidence|\n",
    "    |-|-|\n",
    "    |$$p > 0.1$$|No evidence against the null hypothesis|\n",
    "    |$$0.1 \\ge p > 0.05$$|Weak evidence against the null hypothesis|\n",
    "    |$$0.05 \\ge p > 0.01$$|Moderate evidence against the null hypothesis|\n",
    "    |$$0.01 \\ge p > 0.001$$|Strong evidence against the null hypothesis|\n",
    "    |$$0.001 \\ge p$$|Very strong evidence against the null hypothesis|\n",
    "\n",
    "    </details>    "
   ]
  },
  {
   "cell_type": "code",
   "execution_count": 302,
   "id": "f0cd0ffd",
   "metadata": {},
   "outputs": [
    {
     "name": "stdout",
     "output_type": "stream",
     "text": [
      "==============================================================================\n",
      "                 coef    std err          t      P>|t|      [0.025      0.975]\n",
      "------------------------------------------------------------------------------\n",
      "Intercept      1.6401      0.309      5.306      0.000       1.025       2.255\n",
      "waiting        0.0069      0.006      1.188      0.238      -0.005       0.019\n",
      "==============================================================================\n"
     ]
    },
    {
     "data": {
      "application/vnd.plotly.v1+json": {
       "config": {
        "plotlyServerURL": "https://plot.ly"
       },
       "data": [
        {
         "hovertemplate": "waiting=%{x}<br>duration=%{y}<extra></extra>",
         "legendgroup": "",
         "marker": {
          "color": "#636efa",
          "symbol": "circle"
         },
         "mode": "markers",
         "name": "",
         "orientation": "v",
         "showlegend": false,
         "type": "scatter",
         "x": [
          54,
          55,
          51,
          54,
          47,
          52,
          52,
          51,
          47,
          55,
          52,
          48,
          59,
          58,
          58,
          53,
          59,
          54,
          54,
          59,
          48,
          60,
          56,
          60,
          48,
          60,
          50,
          51,
          49,
          47,
          52,
          59,
          59,
          50,
          59,
          53,
          56,
          45,
          55,
          45,
          56,
          46,
          51,
          53,
          60,
          59,
          49,
          53,
          53,
          45,
          58,
          52,
          49,
          57,
          50,
          55,
          51,
          46,
          55,
          57,
          51,
          60,
          53,
          46,
          49,
          49,
          53,
          55,
          50,
          54,
          54,
          50,
          54,
          54,
          47,
          57,
          54,
          56,
          58,
          43,
          60,
          46,
          46
         ],
         "xaxis": "x",
         "y": [
          1.8,
          2.883,
          1.95,
          1.833,
          1.75,
          2.167,
          1.6,
          1.8,
          1.75,
          1.967,
          2.017,
          1.867,
          1.833,
          1.883,
          1.75,
          2.1,
          2,
          1.833,
          1.733,
          2.233,
          1.75,
          1.817,
          1.967,
          2.017,
          2.167,
          2.2,
          1.867,
          1.867,
          2.1,
          1.867,
          1.783,
          2.3,
          1.7,
          2.3169999999999997,
          1.817,
          2.617,
          1.967,
          1.917,
          2.267,
          1.867,
          2.8,
          1.833,
          1.883,
          2.033,
          2.233,
          1.983,
          2.017,
          1.8,
          1.8,
          2.2,
          2,
          1.933,
          1.917,
          2.083,
          2.417,
          1.883,
          2.033,
          1.833,
          2.1830000000000003,
          1.833,
          2.25,
          2.1,
          1.867,
          1.783,
          1.933,
          1.867,
          2.4,
          2,
          1.867,
          1.75,
          2.417,
          2.217,
          1.883,
          1.85,
          2.35,
          2.083,
          2.2,
          2,
          1.85,
          1.983,
          2.25,
          2.15,
          1.817
         ],
         "yaxis": "y"
        },
        {
         "hovertemplate": "<b>OLS trendline</b><br>duration = 0.00691825 * waiting + 1.64008<br>R<sup>2</sup>=0.017113<br><br>waiting=%{x}<br>duration=%{y} <b>(trend)</b><extra></extra>",
         "legendgroup": "",
         "marker": {
          "color": "#636efa",
          "symbol": "circle"
         },
         "mode": "lines",
         "name": "",
         "showlegend": false,
         "type": "scatter",
         "x": [
          43,
          45,
          45,
          45,
          46,
          46,
          46,
          46,
          46,
          47,
          47,
          47,
          47,
          48,
          48,
          48,
          49,
          49,
          49,
          49,
          49,
          50,
          50,
          50,
          50,
          50,
          51,
          51,
          51,
          51,
          51,
          51,
          52,
          52,
          52,
          52,
          52,
          53,
          53,
          53,
          53,
          53,
          53,
          53,
          54,
          54,
          54,
          54,
          54,
          54,
          54,
          54,
          54,
          55,
          55,
          55,
          55,
          55,
          55,
          56,
          56,
          56,
          56,
          57,
          57,
          57,
          58,
          58,
          58,
          58,
          59,
          59,
          59,
          59,
          59,
          59,
          59,
          60,
          60,
          60,
          60,
          60,
          60
         ],
         "xaxis": "x",
         "y": [
          1.9375657137914635,
          1.9514022113624245,
          1.9514022113624245,
          1.9514022113624245,
          1.9583204601479052,
          1.9583204601479052,
          1.9583204601479052,
          1.9583204601479052,
          1.9583204601479052,
          1.9652387089333856,
          1.9652387089333856,
          1.9652387089333856,
          1.9652387089333856,
          1.9721569577188662,
          1.9721569577188662,
          1.9721569577188662,
          1.9790752065043469,
          1.9790752065043469,
          1.9790752065043469,
          1.9790752065043469,
          1.9790752065043469,
          1.9859934552898273,
          1.9859934552898273,
          1.9859934552898273,
          1.9859934552898273,
          1.9859934552898273,
          1.992911704075308,
          1.992911704075308,
          1.992911704075308,
          1.992911704075308,
          1.992911704075308,
          1.992911704075308,
          1.9998299528607886,
          1.9998299528607886,
          1.9998299528607886,
          1.9998299528607886,
          1.9998299528607886,
          2.006748201646269,
          2.006748201646269,
          2.006748201646269,
          2.006748201646269,
          2.006748201646269,
          2.006748201646269,
          2.006748201646269,
          2.01366645043175,
          2.01366645043175,
          2.01366645043175,
          2.01366645043175,
          2.01366645043175,
          2.01366645043175,
          2.01366645043175,
          2.01366645043175,
          2.01366645043175,
          2.0205846992172303,
          2.0205846992172303,
          2.0205846992172303,
          2.0205846992172303,
          2.0205846992172303,
          2.0205846992172303,
          2.0275029480027107,
          2.0275029480027107,
          2.0275029480027107,
          2.0275029480027107,
          2.0344211967881916,
          2.0344211967881916,
          2.0344211967881916,
          2.041339445573672,
          2.041339445573672,
          2.041339445573672,
          2.041339445573672,
          2.0482576943591524,
          2.0482576943591524,
          2.0482576943591524,
          2.0482576943591524,
          2.0482576943591524,
          2.0482576943591524,
          2.0482576943591524,
          2.0551759431446333,
          2.0551759431446333,
          2.0551759431446333,
          2.0551759431446333,
          2.0551759431446333,
          2.0551759431446333
         ],
         "yaxis": "y"
        }
       ],
       "layout": {
        "legend": {
         "tracegroupgap": 0
        },
        "template": {
         "data": {
          "bar": [
           {
            "error_x": {
             "color": "#2a3f5f"
            },
            "error_y": {
             "color": "#2a3f5f"
            },
            "marker": {
             "line": {
              "color": "#E5ECF6",
              "width": 0.5
             },
             "pattern": {
              "fillmode": "overlay",
              "size": 10,
              "solidity": 0.2
             }
            },
            "type": "bar"
           }
          ],
          "barpolar": [
           {
            "marker": {
             "line": {
              "color": "#E5ECF6",
              "width": 0.5
             },
             "pattern": {
              "fillmode": "overlay",
              "size": 10,
              "solidity": 0.2
             }
            },
            "type": "barpolar"
           }
          ],
          "carpet": [
           {
            "aaxis": {
             "endlinecolor": "#2a3f5f",
             "gridcolor": "white",
             "linecolor": "white",
             "minorgridcolor": "white",
             "startlinecolor": "#2a3f5f"
            },
            "baxis": {
             "endlinecolor": "#2a3f5f",
             "gridcolor": "white",
             "linecolor": "white",
             "minorgridcolor": "white",
             "startlinecolor": "#2a3f5f"
            },
            "type": "carpet"
           }
          ],
          "choropleth": [
           {
            "colorbar": {
             "outlinewidth": 0,
             "ticks": ""
            },
            "type": "choropleth"
           }
          ],
          "contour": [
           {
            "colorbar": {
             "outlinewidth": 0,
             "ticks": ""
            },
            "colorscale": [
             [
              0,
              "#0d0887"
             ],
             [
              0.1111111111111111,
              "#46039f"
             ],
             [
              0.2222222222222222,
              "#7201a8"
             ],
             [
              0.3333333333333333,
              "#9c179e"
             ],
             [
              0.4444444444444444,
              "#bd3786"
             ],
             [
              0.5555555555555556,
              "#d8576b"
             ],
             [
              0.6666666666666666,
              "#ed7953"
             ],
             [
              0.7777777777777778,
              "#fb9f3a"
             ],
             [
              0.8888888888888888,
              "#fdca26"
             ],
             [
              1,
              "#f0f921"
             ]
            ],
            "type": "contour"
           }
          ],
          "contourcarpet": [
           {
            "colorbar": {
             "outlinewidth": 0,
             "ticks": ""
            },
            "type": "contourcarpet"
           }
          ],
          "heatmap": [
           {
            "colorbar": {
             "outlinewidth": 0,
             "ticks": ""
            },
            "colorscale": [
             [
              0,
              "#0d0887"
             ],
             [
              0.1111111111111111,
              "#46039f"
             ],
             [
              0.2222222222222222,
              "#7201a8"
             ],
             [
              0.3333333333333333,
              "#9c179e"
             ],
             [
              0.4444444444444444,
              "#bd3786"
             ],
             [
              0.5555555555555556,
              "#d8576b"
             ],
             [
              0.6666666666666666,
              "#ed7953"
             ],
             [
              0.7777777777777778,
              "#fb9f3a"
             ],
             [
              0.8888888888888888,
              "#fdca26"
             ],
             [
              1,
              "#f0f921"
             ]
            ],
            "type": "heatmap"
           }
          ],
          "heatmapgl": [
           {
            "colorbar": {
             "outlinewidth": 0,
             "ticks": ""
            },
            "colorscale": [
             [
              0,
              "#0d0887"
             ],
             [
              0.1111111111111111,
              "#46039f"
             ],
             [
              0.2222222222222222,
              "#7201a8"
             ],
             [
              0.3333333333333333,
              "#9c179e"
             ],
             [
              0.4444444444444444,
              "#bd3786"
             ],
             [
              0.5555555555555556,
              "#d8576b"
             ],
             [
              0.6666666666666666,
              "#ed7953"
             ],
             [
              0.7777777777777778,
              "#fb9f3a"
             ],
             [
              0.8888888888888888,
              "#fdca26"
             ],
             [
              1,
              "#f0f921"
             ]
            ],
            "type": "heatmapgl"
           }
          ],
          "histogram": [
           {
            "marker": {
             "pattern": {
              "fillmode": "overlay",
              "size": 10,
              "solidity": 0.2
             }
            },
            "type": "histogram"
           }
          ],
          "histogram2d": [
           {
            "colorbar": {
             "outlinewidth": 0,
             "ticks": ""
            },
            "colorscale": [
             [
              0,
              "#0d0887"
             ],
             [
              0.1111111111111111,
              "#46039f"
             ],
             [
              0.2222222222222222,
              "#7201a8"
             ],
             [
              0.3333333333333333,
              "#9c179e"
             ],
             [
              0.4444444444444444,
              "#bd3786"
             ],
             [
              0.5555555555555556,
              "#d8576b"
             ],
             [
              0.6666666666666666,
              "#ed7953"
             ],
             [
              0.7777777777777778,
              "#fb9f3a"
             ],
             [
              0.8888888888888888,
              "#fdca26"
             ],
             [
              1,
              "#f0f921"
             ]
            ],
            "type": "histogram2d"
           }
          ],
          "histogram2dcontour": [
           {
            "colorbar": {
             "outlinewidth": 0,
             "ticks": ""
            },
            "colorscale": [
             [
              0,
              "#0d0887"
             ],
             [
              0.1111111111111111,
              "#46039f"
             ],
             [
              0.2222222222222222,
              "#7201a8"
             ],
             [
              0.3333333333333333,
              "#9c179e"
             ],
             [
              0.4444444444444444,
              "#bd3786"
             ],
             [
              0.5555555555555556,
              "#d8576b"
             ],
             [
              0.6666666666666666,
              "#ed7953"
             ],
             [
              0.7777777777777778,
              "#fb9f3a"
             ],
             [
              0.8888888888888888,
              "#fdca26"
             ],
             [
              1,
              "#f0f921"
             ]
            ],
            "type": "histogram2dcontour"
           }
          ],
          "mesh3d": [
           {
            "colorbar": {
             "outlinewidth": 0,
             "ticks": ""
            },
            "type": "mesh3d"
           }
          ],
          "parcoords": [
           {
            "line": {
             "colorbar": {
              "outlinewidth": 0,
              "ticks": ""
             }
            },
            "type": "parcoords"
           }
          ],
          "pie": [
           {
            "automargin": true,
            "type": "pie"
           }
          ],
          "scatter": [
           {
            "fillpattern": {
             "fillmode": "overlay",
             "size": 10,
             "solidity": 0.2
            },
            "type": "scatter"
           }
          ],
          "scatter3d": [
           {
            "line": {
             "colorbar": {
              "outlinewidth": 0,
              "ticks": ""
             }
            },
            "marker": {
             "colorbar": {
              "outlinewidth": 0,
              "ticks": ""
             }
            },
            "type": "scatter3d"
           }
          ],
          "scattercarpet": [
           {
            "marker": {
             "colorbar": {
              "outlinewidth": 0,
              "ticks": ""
             }
            },
            "type": "scattercarpet"
           }
          ],
          "scattergeo": [
           {
            "marker": {
             "colorbar": {
              "outlinewidth": 0,
              "ticks": ""
             }
            },
            "type": "scattergeo"
           }
          ],
          "scattergl": [
           {
            "marker": {
             "colorbar": {
              "outlinewidth": 0,
              "ticks": ""
             }
            },
            "type": "scattergl"
           }
          ],
          "scattermapbox": [
           {
            "marker": {
             "colorbar": {
              "outlinewidth": 0,
              "ticks": ""
             }
            },
            "type": "scattermapbox"
           }
          ],
          "scatterpolar": [
           {
            "marker": {
             "colorbar": {
              "outlinewidth": 0,
              "ticks": ""
             }
            },
            "type": "scatterpolar"
           }
          ],
          "scatterpolargl": [
           {
            "marker": {
             "colorbar": {
              "outlinewidth": 0,
              "ticks": ""
             }
            },
            "type": "scatterpolargl"
           }
          ],
          "scatterternary": [
           {
            "marker": {
             "colorbar": {
              "outlinewidth": 0,
              "ticks": ""
             }
            },
            "type": "scatterternary"
           }
          ],
          "surface": [
           {
            "colorbar": {
             "outlinewidth": 0,
             "ticks": ""
            },
            "colorscale": [
             [
              0,
              "#0d0887"
             ],
             [
              0.1111111111111111,
              "#46039f"
             ],
             [
              0.2222222222222222,
              "#7201a8"
             ],
             [
              0.3333333333333333,
              "#9c179e"
             ],
             [
              0.4444444444444444,
              "#bd3786"
             ],
             [
              0.5555555555555556,
              "#d8576b"
             ],
             [
              0.6666666666666666,
              "#ed7953"
             ],
             [
              0.7777777777777778,
              "#fb9f3a"
             ],
             [
              0.8888888888888888,
              "#fdca26"
             ],
             [
              1,
              "#f0f921"
             ]
            ],
            "type": "surface"
           }
          ],
          "table": [
           {
            "cells": {
             "fill": {
              "color": "#EBF0F8"
             },
             "line": {
              "color": "white"
             }
            },
            "header": {
             "fill": {
              "color": "#C8D4E3"
             },
             "line": {
              "color": "white"
             }
            },
            "type": "table"
           }
          ]
         },
         "layout": {
          "annotationdefaults": {
           "arrowcolor": "#2a3f5f",
           "arrowhead": 0,
           "arrowwidth": 1
          },
          "autotypenumbers": "strict",
          "coloraxis": {
           "colorbar": {
            "outlinewidth": 0,
            "ticks": ""
           }
          },
          "colorscale": {
           "diverging": [
            [
             0,
             "#8e0152"
            ],
            [
             0.1,
             "#c51b7d"
            ],
            [
             0.2,
             "#de77ae"
            ],
            [
             0.3,
             "#f1b6da"
            ],
            [
             0.4,
             "#fde0ef"
            ],
            [
             0.5,
             "#f7f7f7"
            ],
            [
             0.6,
             "#e6f5d0"
            ],
            [
             0.7,
             "#b8e186"
            ],
            [
             0.8,
             "#7fbc41"
            ],
            [
             0.9,
             "#4d9221"
            ],
            [
             1,
             "#276419"
            ]
           ],
           "sequential": [
            [
             0,
             "#0d0887"
            ],
            [
             0.1111111111111111,
             "#46039f"
            ],
            [
             0.2222222222222222,
             "#7201a8"
            ],
            [
             0.3333333333333333,
             "#9c179e"
            ],
            [
             0.4444444444444444,
             "#bd3786"
            ],
            [
             0.5555555555555556,
             "#d8576b"
            ],
            [
             0.6666666666666666,
             "#ed7953"
            ],
            [
             0.7777777777777778,
             "#fb9f3a"
            ],
            [
             0.8888888888888888,
             "#fdca26"
            ],
            [
             1,
             "#f0f921"
            ]
           ],
           "sequentialminus": [
            [
             0,
             "#0d0887"
            ],
            [
             0.1111111111111111,
             "#46039f"
            ],
            [
             0.2222222222222222,
             "#7201a8"
            ],
            [
             0.3333333333333333,
             "#9c179e"
            ],
            [
             0.4444444444444444,
             "#bd3786"
            ],
            [
             0.5555555555555556,
             "#d8576b"
            ],
            [
             0.6666666666666666,
             "#ed7953"
            ],
            [
             0.7777777777777778,
             "#fb9f3a"
            ],
            [
             0.8888888888888888,
             "#fdca26"
            ],
            [
             1,
             "#f0f921"
            ]
           ]
          },
          "colorway": [
           "#636efa",
           "#EF553B",
           "#00cc96",
           "#ab63fa",
           "#FFA15A",
           "#19d3f3",
           "#FF6692",
           "#B6E880",
           "#FF97FF",
           "#FECB52"
          ],
          "font": {
           "color": "#2a3f5f"
          },
          "geo": {
           "bgcolor": "white",
           "lakecolor": "white",
           "landcolor": "#E5ECF6",
           "showlakes": true,
           "showland": true,
           "subunitcolor": "white"
          },
          "hoverlabel": {
           "align": "left"
          },
          "hovermode": "closest",
          "mapbox": {
           "style": "light"
          },
          "paper_bgcolor": "white",
          "plot_bgcolor": "#E5ECF6",
          "polar": {
           "angularaxis": {
            "gridcolor": "white",
            "linecolor": "white",
            "ticks": ""
           },
           "bgcolor": "#E5ECF6",
           "radialaxis": {
            "gridcolor": "white",
            "linecolor": "white",
            "ticks": ""
           }
          },
          "scene": {
           "xaxis": {
            "backgroundcolor": "#E5ECF6",
            "gridcolor": "white",
            "gridwidth": 2,
            "linecolor": "white",
            "showbackground": true,
            "ticks": "",
            "zerolinecolor": "white"
           },
           "yaxis": {
            "backgroundcolor": "#E5ECF6",
            "gridcolor": "white",
            "gridwidth": 2,
            "linecolor": "white",
            "showbackground": true,
            "ticks": "",
            "zerolinecolor": "white"
           },
           "zaxis": {
            "backgroundcolor": "#E5ECF6",
            "gridcolor": "white",
            "gridwidth": 2,
            "linecolor": "white",
            "showbackground": true,
            "ticks": "",
            "zerolinecolor": "white"
           }
          },
          "shapedefaults": {
           "line": {
            "color": "#2a3f5f"
           }
          },
          "ternary": {
           "aaxis": {
            "gridcolor": "white",
            "linecolor": "white",
            "ticks": ""
           },
           "baxis": {
            "gridcolor": "white",
            "linecolor": "white",
            "ticks": ""
           },
           "bgcolor": "#E5ECF6",
           "caxis": {
            "gridcolor": "white",
            "linecolor": "white",
            "ticks": ""
           }
          },
          "title": {
           "x": 0.05
          },
          "xaxis": {
           "automargin": true,
           "gridcolor": "white",
           "linecolor": "white",
           "ticks": "",
           "title": {
            "standoff": 15
           },
           "zerolinecolor": "white",
           "zerolinewidth": 2
          },
          "yaxis": {
           "automargin": true,
           "gridcolor": "white",
           "linecolor": "white",
           "ticks": "",
           "title": {
            "standoff": 15
           },
           "zerolinecolor": "white",
           "zerolinewidth": 2
          }
         }
        },
        "title": {
         "text": "Old Faithful Geyser Eruptions for short wait times (<62)"
        },
        "xaxis": {
         "anchor": "y",
         "domain": [
          0,
          1
         ],
         "title": {
          "text": "waiting"
         }
        },
        "yaxis": {
         "anchor": "x",
         "domain": [
          0,
          1
         ],
         "title": {
          "text": "duration"
         }
        }
       }
      },
      "text/html": [
       "<div>                            <div id=\"875991e7-af74-4c2e-810b-c8c2cffa2dda\" class=\"plotly-graph-div\" style=\"height:525px; width:100%;\"></div>            <script type=\"text/javascript\">                require([\"plotly\"], function(Plotly) {                    window.PLOTLYENV=window.PLOTLYENV || {};                                    if (document.getElementById(\"875991e7-af74-4c2e-810b-c8c2cffa2dda\")) {                    Plotly.newPlot(                        \"875991e7-af74-4c2e-810b-c8c2cffa2dda\",                        [{\"hovertemplate\":\"waiting=%{x}\\u003cbr\\u003eduration=%{y}\\u003cextra\\u003e\\u003c\\u002fextra\\u003e\",\"legendgroup\":\"\",\"marker\":{\"color\":\"#636efa\",\"symbol\":\"circle\"},\"mode\":\"markers\",\"name\":\"\",\"orientation\":\"v\",\"showlegend\":false,\"x\":[54,55,51,54,47,52,52,51,47,55,52,48,59,58,58,53,59,54,54,59,48,60,56,60,48,60,50,51,49,47,52,59,59,50,59,53,56,45,55,45,56,46,51,53,60,59,49,53,53,45,58,52,49,57,50,55,51,46,55,57,51,60,53,46,49,49,53,55,50,54,54,50,54,54,47,57,54,56,58,43,60,46,46],\"xaxis\":\"x\",\"y\":[1.8,2.883,1.95,1.833,1.75,2.167,1.6,1.8,1.75,1.967,2.017,1.867,1.833,1.883,1.75,2.1,2.0,1.833,1.733,2.233,1.75,1.817,1.967,2.017,2.167,2.2,1.867,1.867,2.1,1.867,1.783,2.3,1.7,2.3169999999999997,1.817,2.617,1.967,1.917,2.267,1.867,2.8,1.833,1.883,2.033,2.233,1.983,2.017,1.8,1.8,2.2,2.0,1.933,1.917,2.083,2.417,1.883,2.033,1.833,2.1830000000000003,1.833,2.25,2.1,1.867,1.783,1.933,1.867,2.4,2.0,1.867,1.75,2.417,2.217,1.883,1.85,2.35,2.083,2.2,2.0,1.85,1.983,2.25,2.15,1.817],\"yaxis\":\"y\",\"type\":\"scatter\"},{\"hovertemplate\":\"\\u003cb\\u003eOLS trendline\\u003c\\u002fb\\u003e\\u003cbr\\u003eduration = 0.00691825 * waiting + 1.64008\\u003cbr\\u003eR\\u003csup\\u003e2\\u003c\\u002fsup\\u003e=0.017113\\u003cbr\\u003e\\u003cbr\\u003ewaiting=%{x}\\u003cbr\\u003eduration=%{y} \\u003cb\\u003e(trend)\\u003c\\u002fb\\u003e\\u003cextra\\u003e\\u003c\\u002fextra\\u003e\",\"legendgroup\":\"\",\"marker\":{\"color\":\"#636efa\",\"symbol\":\"circle\"},\"mode\":\"lines\",\"name\":\"\",\"showlegend\":false,\"x\":[43,45,45,45,46,46,46,46,46,47,47,47,47,48,48,48,49,49,49,49,49,50,50,50,50,50,51,51,51,51,51,51,52,52,52,52,52,53,53,53,53,53,53,53,54,54,54,54,54,54,54,54,54,55,55,55,55,55,55,56,56,56,56,57,57,57,58,58,58,58,59,59,59,59,59,59,59,60,60,60,60,60,60],\"xaxis\":\"x\",\"y\":[1.9375657137914635,1.9514022113624245,1.9514022113624245,1.9514022113624245,1.9583204601479052,1.9583204601479052,1.9583204601479052,1.9583204601479052,1.9583204601479052,1.9652387089333856,1.9652387089333856,1.9652387089333856,1.9652387089333856,1.9721569577188662,1.9721569577188662,1.9721569577188662,1.9790752065043469,1.9790752065043469,1.9790752065043469,1.9790752065043469,1.9790752065043469,1.9859934552898273,1.9859934552898273,1.9859934552898273,1.9859934552898273,1.9859934552898273,1.992911704075308,1.992911704075308,1.992911704075308,1.992911704075308,1.992911704075308,1.992911704075308,1.9998299528607886,1.9998299528607886,1.9998299528607886,1.9998299528607886,1.9998299528607886,2.006748201646269,2.006748201646269,2.006748201646269,2.006748201646269,2.006748201646269,2.006748201646269,2.006748201646269,2.01366645043175,2.01366645043175,2.01366645043175,2.01366645043175,2.01366645043175,2.01366645043175,2.01366645043175,2.01366645043175,2.01366645043175,2.0205846992172303,2.0205846992172303,2.0205846992172303,2.0205846992172303,2.0205846992172303,2.0205846992172303,2.0275029480027107,2.0275029480027107,2.0275029480027107,2.0275029480027107,2.0344211967881916,2.0344211967881916,2.0344211967881916,2.041339445573672,2.041339445573672,2.041339445573672,2.041339445573672,2.0482576943591524,2.0482576943591524,2.0482576943591524,2.0482576943591524,2.0482576943591524,2.0482576943591524,2.0482576943591524,2.0551759431446333,2.0551759431446333,2.0551759431446333,2.0551759431446333,2.0551759431446333,2.0551759431446333],\"yaxis\":\"y\",\"type\":\"scatter\"}],                        {\"template\":{\"data\":{\"histogram2dcontour\":[{\"type\":\"histogram2dcontour\",\"colorbar\":{\"outlinewidth\":0,\"ticks\":\"\"},\"colorscale\":[[0.0,\"#0d0887\"],[0.1111111111111111,\"#46039f\"],[0.2222222222222222,\"#7201a8\"],[0.3333333333333333,\"#9c179e\"],[0.4444444444444444,\"#bd3786\"],[0.5555555555555556,\"#d8576b\"],[0.6666666666666666,\"#ed7953\"],[0.7777777777777778,\"#fb9f3a\"],[0.8888888888888888,\"#fdca26\"],[1.0,\"#f0f921\"]]}],\"choropleth\":[{\"type\":\"choropleth\",\"colorbar\":{\"outlinewidth\":0,\"ticks\":\"\"}}],\"histogram2d\":[{\"type\":\"histogram2d\",\"colorbar\":{\"outlinewidth\":0,\"ticks\":\"\"},\"colorscale\":[[0.0,\"#0d0887\"],[0.1111111111111111,\"#46039f\"],[0.2222222222222222,\"#7201a8\"],[0.3333333333333333,\"#9c179e\"],[0.4444444444444444,\"#bd3786\"],[0.5555555555555556,\"#d8576b\"],[0.6666666666666666,\"#ed7953\"],[0.7777777777777778,\"#fb9f3a\"],[0.8888888888888888,\"#fdca26\"],[1.0,\"#f0f921\"]]}],\"heatmap\":[{\"type\":\"heatmap\",\"colorbar\":{\"outlinewidth\":0,\"ticks\":\"\"},\"colorscale\":[[0.0,\"#0d0887\"],[0.1111111111111111,\"#46039f\"],[0.2222222222222222,\"#7201a8\"],[0.3333333333333333,\"#9c179e\"],[0.4444444444444444,\"#bd3786\"],[0.5555555555555556,\"#d8576b\"],[0.6666666666666666,\"#ed7953\"],[0.7777777777777778,\"#fb9f3a\"],[0.8888888888888888,\"#fdca26\"],[1.0,\"#f0f921\"]]}],\"heatmapgl\":[{\"type\":\"heatmapgl\",\"colorbar\":{\"outlinewidth\":0,\"ticks\":\"\"},\"colorscale\":[[0.0,\"#0d0887\"],[0.1111111111111111,\"#46039f\"],[0.2222222222222222,\"#7201a8\"],[0.3333333333333333,\"#9c179e\"],[0.4444444444444444,\"#bd3786\"],[0.5555555555555556,\"#d8576b\"],[0.6666666666666666,\"#ed7953\"],[0.7777777777777778,\"#fb9f3a\"],[0.8888888888888888,\"#fdca26\"],[1.0,\"#f0f921\"]]}],\"contourcarpet\":[{\"type\":\"contourcarpet\",\"colorbar\":{\"outlinewidth\":0,\"ticks\":\"\"}}],\"contour\":[{\"type\":\"contour\",\"colorbar\":{\"outlinewidth\":0,\"ticks\":\"\"},\"colorscale\":[[0.0,\"#0d0887\"],[0.1111111111111111,\"#46039f\"],[0.2222222222222222,\"#7201a8\"],[0.3333333333333333,\"#9c179e\"],[0.4444444444444444,\"#bd3786\"],[0.5555555555555556,\"#d8576b\"],[0.6666666666666666,\"#ed7953\"],[0.7777777777777778,\"#fb9f3a\"],[0.8888888888888888,\"#fdca26\"],[1.0,\"#f0f921\"]]}],\"surface\":[{\"type\":\"surface\",\"colorbar\":{\"outlinewidth\":0,\"ticks\":\"\"},\"colorscale\":[[0.0,\"#0d0887\"],[0.1111111111111111,\"#46039f\"],[0.2222222222222222,\"#7201a8\"],[0.3333333333333333,\"#9c179e\"],[0.4444444444444444,\"#bd3786\"],[0.5555555555555556,\"#d8576b\"],[0.6666666666666666,\"#ed7953\"],[0.7777777777777778,\"#fb9f3a\"],[0.8888888888888888,\"#fdca26\"],[1.0,\"#f0f921\"]]}],\"mesh3d\":[{\"type\":\"mesh3d\",\"colorbar\":{\"outlinewidth\":0,\"ticks\":\"\"}}],\"scatter\":[{\"fillpattern\":{\"fillmode\":\"overlay\",\"size\":10,\"solidity\":0.2},\"type\":\"scatter\"}],\"parcoords\":[{\"type\":\"parcoords\",\"line\":{\"colorbar\":{\"outlinewidth\":0,\"ticks\":\"\"}}}],\"scatterpolargl\":[{\"type\":\"scatterpolargl\",\"marker\":{\"colorbar\":{\"outlinewidth\":0,\"ticks\":\"\"}}}],\"bar\":[{\"error_x\":{\"color\":\"#2a3f5f\"},\"error_y\":{\"color\":\"#2a3f5f\"},\"marker\":{\"line\":{\"color\":\"#E5ECF6\",\"width\":0.5},\"pattern\":{\"fillmode\":\"overlay\",\"size\":10,\"solidity\":0.2}},\"type\":\"bar\"}],\"scattergeo\":[{\"type\":\"scattergeo\",\"marker\":{\"colorbar\":{\"outlinewidth\":0,\"ticks\":\"\"}}}],\"scatterpolar\":[{\"type\":\"scatterpolar\",\"marker\":{\"colorbar\":{\"outlinewidth\":0,\"ticks\":\"\"}}}],\"histogram\":[{\"marker\":{\"pattern\":{\"fillmode\":\"overlay\",\"size\":10,\"solidity\":0.2}},\"type\":\"histogram\"}],\"scattergl\":[{\"type\":\"scattergl\",\"marker\":{\"colorbar\":{\"outlinewidth\":0,\"ticks\":\"\"}}}],\"scatter3d\":[{\"type\":\"scatter3d\",\"line\":{\"colorbar\":{\"outlinewidth\":0,\"ticks\":\"\"}},\"marker\":{\"colorbar\":{\"outlinewidth\":0,\"ticks\":\"\"}}}],\"scattermapbox\":[{\"type\":\"scattermapbox\",\"marker\":{\"colorbar\":{\"outlinewidth\":0,\"ticks\":\"\"}}}],\"scatterternary\":[{\"type\":\"scatterternary\",\"marker\":{\"colorbar\":{\"outlinewidth\":0,\"ticks\":\"\"}}}],\"scattercarpet\":[{\"type\":\"scattercarpet\",\"marker\":{\"colorbar\":{\"outlinewidth\":0,\"ticks\":\"\"}}}],\"carpet\":[{\"aaxis\":{\"endlinecolor\":\"#2a3f5f\",\"gridcolor\":\"white\",\"linecolor\":\"white\",\"minorgridcolor\":\"white\",\"startlinecolor\":\"#2a3f5f\"},\"baxis\":{\"endlinecolor\":\"#2a3f5f\",\"gridcolor\":\"white\",\"linecolor\":\"white\",\"minorgridcolor\":\"white\",\"startlinecolor\":\"#2a3f5f\"},\"type\":\"carpet\"}],\"table\":[{\"cells\":{\"fill\":{\"color\":\"#EBF0F8\"},\"line\":{\"color\":\"white\"}},\"header\":{\"fill\":{\"color\":\"#C8D4E3\"},\"line\":{\"color\":\"white\"}},\"type\":\"table\"}],\"barpolar\":[{\"marker\":{\"line\":{\"color\":\"#E5ECF6\",\"width\":0.5},\"pattern\":{\"fillmode\":\"overlay\",\"size\":10,\"solidity\":0.2}},\"type\":\"barpolar\"}],\"pie\":[{\"automargin\":true,\"type\":\"pie\"}]},\"layout\":{\"autotypenumbers\":\"strict\",\"colorway\":[\"#636efa\",\"#EF553B\",\"#00cc96\",\"#ab63fa\",\"#FFA15A\",\"#19d3f3\",\"#FF6692\",\"#B6E880\",\"#FF97FF\",\"#FECB52\"],\"font\":{\"color\":\"#2a3f5f\"},\"hovermode\":\"closest\",\"hoverlabel\":{\"align\":\"left\"},\"paper_bgcolor\":\"white\",\"plot_bgcolor\":\"#E5ECF6\",\"polar\":{\"bgcolor\":\"#E5ECF6\",\"angularaxis\":{\"gridcolor\":\"white\",\"linecolor\":\"white\",\"ticks\":\"\"},\"radialaxis\":{\"gridcolor\":\"white\",\"linecolor\":\"white\",\"ticks\":\"\"}},\"ternary\":{\"bgcolor\":\"#E5ECF6\",\"aaxis\":{\"gridcolor\":\"white\",\"linecolor\":\"white\",\"ticks\":\"\"},\"baxis\":{\"gridcolor\":\"white\",\"linecolor\":\"white\",\"ticks\":\"\"},\"caxis\":{\"gridcolor\":\"white\",\"linecolor\":\"white\",\"ticks\":\"\"}},\"coloraxis\":{\"colorbar\":{\"outlinewidth\":0,\"ticks\":\"\"}},\"colorscale\":{\"sequential\":[[0.0,\"#0d0887\"],[0.1111111111111111,\"#46039f\"],[0.2222222222222222,\"#7201a8\"],[0.3333333333333333,\"#9c179e\"],[0.4444444444444444,\"#bd3786\"],[0.5555555555555556,\"#d8576b\"],[0.6666666666666666,\"#ed7953\"],[0.7777777777777778,\"#fb9f3a\"],[0.8888888888888888,\"#fdca26\"],[1.0,\"#f0f921\"]],\"sequentialminus\":[[0.0,\"#0d0887\"],[0.1111111111111111,\"#46039f\"],[0.2222222222222222,\"#7201a8\"],[0.3333333333333333,\"#9c179e\"],[0.4444444444444444,\"#bd3786\"],[0.5555555555555556,\"#d8576b\"],[0.6666666666666666,\"#ed7953\"],[0.7777777777777778,\"#fb9f3a\"],[0.8888888888888888,\"#fdca26\"],[1.0,\"#f0f921\"]],\"diverging\":[[0,\"#8e0152\"],[0.1,\"#c51b7d\"],[0.2,\"#de77ae\"],[0.3,\"#f1b6da\"],[0.4,\"#fde0ef\"],[0.5,\"#f7f7f7\"],[0.6,\"#e6f5d0\"],[0.7,\"#b8e186\"],[0.8,\"#7fbc41\"],[0.9,\"#4d9221\"],[1,\"#276419\"]]},\"xaxis\":{\"gridcolor\":\"white\",\"linecolor\":\"white\",\"ticks\":\"\",\"title\":{\"standoff\":15},\"zerolinecolor\":\"white\",\"automargin\":true,\"zerolinewidth\":2},\"yaxis\":{\"gridcolor\":\"white\",\"linecolor\":\"white\",\"ticks\":\"\",\"title\":{\"standoff\":15},\"zerolinecolor\":\"white\",\"automargin\":true,\"zerolinewidth\":2},\"scene\":{\"xaxis\":{\"backgroundcolor\":\"#E5ECF6\",\"gridcolor\":\"white\",\"linecolor\":\"white\",\"showbackground\":true,\"ticks\":\"\",\"zerolinecolor\":\"white\",\"gridwidth\":2},\"yaxis\":{\"backgroundcolor\":\"#E5ECF6\",\"gridcolor\":\"white\",\"linecolor\":\"white\",\"showbackground\":true,\"ticks\":\"\",\"zerolinecolor\":\"white\",\"gridwidth\":2},\"zaxis\":{\"backgroundcolor\":\"#E5ECF6\",\"gridcolor\":\"white\",\"linecolor\":\"white\",\"showbackground\":true,\"ticks\":\"\",\"zerolinecolor\":\"white\",\"gridwidth\":2}},\"shapedefaults\":{\"line\":{\"color\":\"#2a3f5f\"}},\"annotationdefaults\":{\"arrowcolor\":\"#2a3f5f\",\"arrowhead\":0,\"arrowwidth\":1},\"geo\":{\"bgcolor\":\"white\",\"landcolor\":\"#E5ECF6\",\"subunitcolor\":\"white\",\"showland\":true,\"showlakes\":true,\"lakecolor\":\"white\"},\"title\":{\"x\":0.05},\"mapbox\":{\"style\":\"light\"}}},\"xaxis\":{\"anchor\":\"y\",\"domain\":[0.0,1.0],\"title\":{\"text\":\"waiting\"}},\"yaxis\":{\"anchor\":\"x\",\"domain\":[0.0,1.0],\"title\":{\"text\":\"duration\"}},\"legend\":{\"tracegroupgap\":0},\"title\":{\"text\":\"Old Faithful Geyser Eruptions for short wait times (\\u003c62)\"}},                        {\"responsive\": true}                    ).then(function(){\n",
       "                            \n",
       "var gd = document.getElementById('875991e7-af74-4c2e-810b-c8c2cffa2dda');\n",
       "var x = new MutationObserver(function (mutations, observer) {{\n",
       "        var display = window.getComputedStyle(gd).display;\n",
       "        if (!display || display === 'none') {{\n",
       "            console.log([gd, 'removed!']);\n",
       "            Plotly.purge(gd);\n",
       "            observer.disconnect();\n",
       "        }}\n",
       "}});\n",
       "\n",
       "// Listen for the removal of the full notebook cells\n",
       "var notebookContainer = gd.closest('#notebook-container');\n",
       "if (notebookContainer) {{\n",
       "    x.observe(notebookContainer, {childList: true});\n",
       "}}\n",
       "\n",
       "// Listen for the clearing of the current output cell\n",
       "var outputEl = gd.closest('.output');\n",
       "if (outputEl) {{\n",
       "    x.observe(outputEl, {childList: true});\n",
       "}}\n",
       "\n",
       "                        })                };                });            </script>        </div>"
      ]
     },
     "metadata": {},
     "output_type": "display_data"
    }
   ],
   "source": [
    "import plotly.express as px\n",
    "\n",
    "short_wait_limit = 62 # 64 # 66 #\n",
    "short_wait = old_faithful.waiting < short_wait_limit\n",
    "\n",
    "print(smf.ols('duration ~ waiting', data=old_faithful[short_wait]).fit().summary().tables[1])\n",
    "\n",
    "# Create a scatter plot with a linear regression trendline\n",
    "fig = px.scatter(old_faithful[short_wait], x='waiting', y='duration', \n",
    "                 title=\"Old Faithful Geyser Eruptions for short wait times (<\"+str(short_wait_limit)+\")\", \n",
    "                 trendline='ols')\n",
    "\n",
    "fig.show() # USE `fig.show(renderer=\"png\")` FOR ALL GitHub and MarkUs SUBMISSIONS"
   ]
  },
  {
   "cell_type": "markdown",
   "id": "009bfa79",
   "metadata": {},
   "source": [
    "10. Let's now consider just the (`n=160`) long wait times (as specified in the code below), and write code to<br><br> \n",
    "\n",
    "    1. create fitted **Simple Linear Regression** models for **boostrap samples** and collect and visualize the **bootstrapped sampling distribution** of the **fitted slope coefficients** of the fitted models;<br><br> \n",
    "    \n",
    "    2. **simulate** samples (of size `n=160`) from a **Simple Linear Regression** model that uses $\\beta_0 = 1.65$, $\\beta_1 = 0$, $\\sigma = 0.37$ along with the values of `waiting` for $x$ to create **simuations** of $y$ and use these collect and visualize the **sampling distribution** of the **fitted slope coefficients** under a **null hypothesis** assumption of \"no linear association (on average)\"; then,<br><br>\n",
    "    \n",
    "    3. report if $0$ contained within a 95\\% **bootstrapped confidence interval**; and if the **simulated p-value** matches `smf.ols('duration ~ waiting', data=old_faithful[long_wait]).fit().summary().tables[1]`?<br><br>\n",
    "\n",
    "    <details class=\"details-example\"><summary style=\"color:blue\"><u>Further Guidance</u></summary>\n",
    "\n",
    "    > You'll need to create `for` loops to repeatedly create fitted **Simple Linear Regression** models using different samples, collecting the **fitted slope coeffient** created in each `for` loop \"step\" in order to visualize the **simulated sampling distributions**<br><br>\n",
    "    > \n",
    "    > 1. A **bootstrapped sample** of the \"long wait times\" dataset can be created with `old_faithful[long_wait].sample(n=long_wait.sum(), replace=True)`<br><br>\n",
    "    >\n",
    "    > 2. A **simulated** version of the \"long wait times\" dataset can be created by first creating `old_faithful_simulation = old_faithful[long_wait].copy()` and then assigning the **simulated** it values with `old_faithful_simulation['duration'] = 1.65 + 0*old_faithful_simulation.waiting + stats.norm(loc=0, scale=0.235).rvs(size=long_wait.sum())` \n",
    "    >\n",
    "    >  The values $\\beta_0 = 1.65$ and $\\sigma = 0.37$ are chosen to match what is actually observed in the data, while $\\beta_1 = 0$ is chosen to reflect a **null hypothesis** assumption of \"no linear assocaition (on average)\"; and, make sure that you understand why it is that<br><br>\n",
    "    >\n",
    "    >\n",
    "    > 1. if `bootstrapped_slope_coefficients` is the `np.array` of your **bootstrapped slope coefficients** then `np.quantile(bootstrapped_slope_coefficients, [0.025, 0.975])` is a 95\\% **bootstrapped confidence interval**<br><br>\n",
    "    > \n",
    "    > 2. if `simulated_slope_coefficients` is the `np.array` of your **fitted slope coefficients** **simulated** under a **null hypothesis** \"no linear association (on average)\" then `(np.abs(simulated_slope_coefficients) >= smf.ols('duration ~ waiting', data=old_faithful[long_wait]).fit().params[1]).mean()` is the **p-value** for the **simulated** **simulated sampling distribution of the slope coeficients** under a **null hypothesis** \"no linear association (on average)\"\n",
    "    \n",
    "    </details>\n",
    "    "
   ]
  },
  {
   "cell_type": "code",
   "execution_count": 303,
   "id": "7c246ca4",
   "metadata": {},
   "outputs": [
    {
     "name": "stdout",
     "output_type": "stream",
     "text": [
      "==============================================================================\n",
      "                 coef    std err          t      P>|t|      [0.025      0.975]\n",
      "------------------------------------------------------------------------------\n",
      "Intercept      3.3520      0.476      7.049      0.000       2.413       4.291\n",
      "waiting        0.0122      0.006      2.091      0.038       0.001       0.024\n",
      "==============================================================================\n"
     ]
    },
    {
     "data": {
      "application/vnd.plotly.v1+json": {
       "config": {
        "plotlyServerURL": "https://plot.ly"
       },
       "data": [
        {
         "hovertemplate": "waiting=%{x}<br>duration=%{y}<extra></extra>",
         "legendgroup": "",
         "marker": {
          "color": "#636efa",
          "symbol": "circle"
         },
         "mode": "markers",
         "name": "",
         "orientation": "v",
         "showlegend": false,
         "type": "scatter",
         "x": [
          79,
          74,
          85,
          88,
          85,
          85,
          84,
          78,
          83,
          84,
          79,
          78,
          74,
          83,
          76,
          78,
          79,
          73,
          77,
          80,
          74,
          80,
          90,
          80,
          84,
          73,
          83,
          82,
          75,
          90,
          80,
          83,
          77,
          81,
          84,
          82,
          92,
          78,
          78,
          73,
          82,
          79,
          76,
          78,
          76,
          83,
          75,
          82,
          73,
          88,
          76,
          80,
          86,
          90,
          78,
          72,
          84,
          75,
          82,
          88,
          83,
          81,
          84,
          86,
          81,
          75,
          89,
          79,
          81,
          85,
          87,
          77,
          88,
          81,
          82,
          90,
          83,
          89,
          82,
          86,
          79,
          81,
          82,
          77,
          76,
          80,
          96,
          77,
          77,
          81,
          81,
          93,
          89,
          86,
          78,
          76,
          88,
          93,
          77,
          81,
          81,
          73,
          85,
          74,
          77,
          83,
          83,
          78,
          84,
          83,
          81,
          76,
          84,
          77,
          81,
          87,
          77,
          78,
          82,
          91,
          78,
          77,
          84,
          83,
          80,
          75,
          76,
          94,
          76,
          82,
          75,
          78,
          79,
          78,
          78,
          79,
          86,
          90,
          77,
          79,
          75,
          86,
          85,
          82,
          82,
          74,
          83,
          73,
          73,
          88,
          80,
          83,
          79,
          78,
          84,
          83,
          75,
          81,
          90,
          74
         ],
         "xaxis": "x",
         "y": [
          3.6,
          3.333,
          4.533,
          4.7,
          3.6,
          4.35,
          3.917,
          4.2,
          4.7,
          4.8,
          4.25,
          3.45,
          4.533,
          3.6,
          4.083,
          3.85,
          4.433,
          4.3,
          4.467,
          4.033,
          3.833,
          4.833,
          4.783,
          4.35,
          4.567,
          4.533,
          3.3169999999999997,
          4.633,
          4.8,
          4.716,
          4.833,
          4.883,
          4.567,
          4.317,
          4.5,
          4.8,
          4.4,
          4.167,
          4.7,
          4.7,
          4.033,
          4.5,
          5.067,
          4.567,
          3.883,
          3.6,
          4.133,
          4.333,
          4.067,
          4.933,
          3.95,
          4.5169999999999995,
          4,
          4.333,
          4.817,
          4.3,
          4.667,
          3.75,
          4.9,
          4.367,
          4.5,
          4.05,
          4.7,
          4.85,
          3.683,
          4.7330000000000005,
          4.9,
          4.417,
          4.633,
          4.6,
          4.417,
          4.25,
          4.6,
          3.767,
          4.5,
          4.65,
          4.167,
          4.333,
          4.383,
          4.933,
          3.733,
          4.2330000000000005,
          4.533,
          4.817,
          4.333,
          4.633,
          5.1,
          5.033,
          4,
          4.6,
          4.5,
          4.083,
          3.967,
          4.15,
          3.833,
          4.583,
          5,
          4.617,
          4.583,
          4.167,
          4.333,
          4.5,
          4,
          4.167,
          4.583,
          4.25,
          3.767,
          4.433,
          4.083,
          4.417,
          4.8,
          4.8,
          4.1,
          3.966,
          4.2330000000000005,
          3.5,
          4.3660000000000005,
          4.667,
          4.35,
          4.133,
          4.6,
          4.367,
          3.85,
          4.5,
          4.7,
          3.833,
          4.2330000000000005,
          4.8,
          4.15,
          4.2669999999999995,
          4.4830000000000005,
          4,
          4.117,
          4.083,
          4.2669999999999995,
          4.55,
          4.183,
          4.45,
          4.283,
          3.95,
          4.15,
          4.933,
          4.583,
          3.833,
          4.367,
          4.35,
          4.45,
          3.5669999999999997,
          4.5,
          4.15,
          3.817,
          4.45,
          4.283,
          4.7669999999999995,
          4.533,
          4.25,
          4.75,
          4.117,
          4.417,
          4.467
         ],
         "yaxis": "y"
        },
        {
         "hovertemplate": "<b>OLS trendline</b><br>duration = 0.012244 * waiting + 3.35195<br>R<sup>2</sup>=0.026925<br><br>waiting=%{x}<br>duration=%{y} <b>(trend)</b><extra></extra>",
         "legendgroup": "",
         "marker": {
          "color": "#636efa",
          "symbol": "circle"
         },
         "mode": "lines",
         "name": "",
         "showlegend": false,
         "type": "scatter",
         "x": [
          72,
          73,
          73,
          73,
          73,
          73,
          73,
          73,
          74,
          74,
          74,
          74,
          74,
          74,
          75,
          75,
          75,
          75,
          75,
          75,
          75,
          75,
          76,
          76,
          76,
          76,
          76,
          76,
          76,
          76,
          76,
          77,
          77,
          77,
          77,
          77,
          77,
          77,
          77,
          77,
          77,
          77,
          77,
          78,
          78,
          78,
          78,
          78,
          78,
          78,
          78,
          78,
          78,
          78,
          78,
          78,
          78,
          78,
          79,
          79,
          79,
          79,
          79,
          79,
          79,
          79,
          79,
          79,
          80,
          80,
          80,
          80,
          80,
          80,
          80,
          80,
          81,
          81,
          81,
          81,
          81,
          81,
          81,
          81,
          81,
          81,
          81,
          81,
          81,
          82,
          82,
          82,
          82,
          82,
          82,
          82,
          82,
          82,
          82,
          82,
          82,
          83,
          83,
          83,
          83,
          83,
          83,
          83,
          83,
          83,
          83,
          83,
          83,
          83,
          83,
          84,
          84,
          84,
          84,
          84,
          84,
          84,
          84,
          84,
          84,
          85,
          85,
          85,
          85,
          85,
          85,
          86,
          86,
          86,
          86,
          86,
          86,
          87,
          87,
          88,
          88,
          88,
          88,
          88,
          88,
          89,
          89,
          89,
          90,
          90,
          90,
          90,
          90,
          90,
          91,
          92,
          93,
          93,
          94,
          96
         ],
         "xaxis": "x",
         "y": [
          4.233522783508958,
          4.245766812955481,
          4.245766812955481,
          4.245766812955481,
          4.245766812955481,
          4.245766812955481,
          4.245766812955481,
          4.245766812955481,
          4.258010842402005,
          4.258010842402005,
          4.258010842402005,
          4.258010842402005,
          4.258010842402005,
          4.258010842402005,
          4.270254871848528,
          4.270254871848528,
          4.270254871848528,
          4.270254871848528,
          4.270254871848528,
          4.270254871848528,
          4.270254871848528,
          4.270254871848528,
          4.282498901295051,
          4.282498901295051,
          4.282498901295051,
          4.282498901295051,
          4.282498901295051,
          4.282498901295051,
          4.282498901295051,
          4.282498901295051,
          4.282498901295051,
          4.294742930741576,
          4.294742930741576,
          4.294742930741576,
          4.294742930741576,
          4.294742930741576,
          4.294742930741576,
          4.294742930741576,
          4.294742930741576,
          4.294742930741576,
          4.294742930741576,
          4.294742930741576,
          4.294742930741576,
          4.306986960188099,
          4.306986960188099,
          4.306986960188099,
          4.306986960188099,
          4.306986960188099,
          4.306986960188099,
          4.306986960188099,
          4.306986960188099,
          4.306986960188099,
          4.306986960188099,
          4.306986960188099,
          4.306986960188099,
          4.306986960188099,
          4.306986960188099,
          4.306986960188099,
          4.319230989634622,
          4.319230989634622,
          4.319230989634622,
          4.319230989634622,
          4.319230989634622,
          4.319230989634622,
          4.319230989634622,
          4.319230989634622,
          4.319230989634622,
          4.319230989634622,
          4.331475019081146,
          4.331475019081146,
          4.331475019081146,
          4.331475019081146,
          4.331475019081146,
          4.331475019081146,
          4.331475019081146,
          4.331475019081146,
          4.343719048527669,
          4.343719048527669,
          4.343719048527669,
          4.343719048527669,
          4.343719048527669,
          4.343719048527669,
          4.343719048527669,
          4.343719048527669,
          4.343719048527669,
          4.343719048527669,
          4.343719048527669,
          4.343719048527669,
          4.343719048527669,
          4.3559630779741925,
          4.3559630779741925,
          4.3559630779741925,
          4.3559630779741925,
          4.3559630779741925,
          4.3559630779741925,
          4.3559630779741925,
          4.3559630779741925,
          4.3559630779741925,
          4.3559630779741925,
          4.3559630779741925,
          4.3559630779741925,
          4.368207107420716,
          4.368207107420716,
          4.368207107420716,
          4.368207107420716,
          4.368207107420716,
          4.368207107420716,
          4.368207107420716,
          4.368207107420716,
          4.368207107420716,
          4.368207107420716,
          4.368207107420716,
          4.368207107420716,
          4.368207107420716,
          4.368207107420716,
          4.38045113686724,
          4.38045113686724,
          4.38045113686724,
          4.38045113686724,
          4.38045113686724,
          4.38045113686724,
          4.38045113686724,
          4.38045113686724,
          4.38045113686724,
          4.38045113686724,
          4.392695166313763,
          4.392695166313763,
          4.392695166313763,
          4.392695166313763,
          4.392695166313763,
          4.392695166313763,
          4.404939195760287,
          4.404939195760287,
          4.404939195760287,
          4.404939195760287,
          4.404939195760287,
          4.404939195760287,
          4.41718322520681,
          4.41718322520681,
          4.4294272546533335,
          4.4294272546533335,
          4.4294272546533335,
          4.4294272546533335,
          4.4294272546533335,
          4.4294272546533335,
          4.441671284099857,
          4.441671284099857,
          4.441671284099857,
          4.45391531354638,
          4.45391531354638,
          4.45391531354638,
          4.45391531354638,
          4.45391531354638,
          4.45391531354638,
          4.466159342992904,
          4.478403372439427,
          4.490647401885951,
          4.490647401885951,
          4.502891431332475,
          4.527379490225521
         ],
         "yaxis": "y"
        }
       ],
       "layout": {
        "legend": {
         "tracegroupgap": 0
        },
        "template": {
         "data": {
          "bar": [
           {
            "error_x": {
             "color": "#2a3f5f"
            },
            "error_y": {
             "color": "#2a3f5f"
            },
            "marker": {
             "line": {
              "color": "#E5ECF6",
              "width": 0.5
             },
             "pattern": {
              "fillmode": "overlay",
              "size": 10,
              "solidity": 0.2
             }
            },
            "type": "bar"
           }
          ],
          "barpolar": [
           {
            "marker": {
             "line": {
              "color": "#E5ECF6",
              "width": 0.5
             },
             "pattern": {
              "fillmode": "overlay",
              "size": 10,
              "solidity": 0.2
             }
            },
            "type": "barpolar"
           }
          ],
          "carpet": [
           {
            "aaxis": {
             "endlinecolor": "#2a3f5f",
             "gridcolor": "white",
             "linecolor": "white",
             "minorgridcolor": "white",
             "startlinecolor": "#2a3f5f"
            },
            "baxis": {
             "endlinecolor": "#2a3f5f",
             "gridcolor": "white",
             "linecolor": "white",
             "minorgridcolor": "white",
             "startlinecolor": "#2a3f5f"
            },
            "type": "carpet"
           }
          ],
          "choropleth": [
           {
            "colorbar": {
             "outlinewidth": 0,
             "ticks": ""
            },
            "type": "choropleth"
           }
          ],
          "contour": [
           {
            "colorbar": {
             "outlinewidth": 0,
             "ticks": ""
            },
            "colorscale": [
             [
              0,
              "#0d0887"
             ],
             [
              0.1111111111111111,
              "#46039f"
             ],
             [
              0.2222222222222222,
              "#7201a8"
             ],
             [
              0.3333333333333333,
              "#9c179e"
             ],
             [
              0.4444444444444444,
              "#bd3786"
             ],
             [
              0.5555555555555556,
              "#d8576b"
             ],
             [
              0.6666666666666666,
              "#ed7953"
             ],
             [
              0.7777777777777778,
              "#fb9f3a"
             ],
             [
              0.8888888888888888,
              "#fdca26"
             ],
             [
              1,
              "#f0f921"
             ]
            ],
            "type": "contour"
           }
          ],
          "contourcarpet": [
           {
            "colorbar": {
             "outlinewidth": 0,
             "ticks": ""
            },
            "type": "contourcarpet"
           }
          ],
          "heatmap": [
           {
            "colorbar": {
             "outlinewidth": 0,
             "ticks": ""
            },
            "colorscale": [
             [
              0,
              "#0d0887"
             ],
             [
              0.1111111111111111,
              "#46039f"
             ],
             [
              0.2222222222222222,
              "#7201a8"
             ],
             [
              0.3333333333333333,
              "#9c179e"
             ],
             [
              0.4444444444444444,
              "#bd3786"
             ],
             [
              0.5555555555555556,
              "#d8576b"
             ],
             [
              0.6666666666666666,
              "#ed7953"
             ],
             [
              0.7777777777777778,
              "#fb9f3a"
             ],
             [
              0.8888888888888888,
              "#fdca26"
             ],
             [
              1,
              "#f0f921"
             ]
            ],
            "type": "heatmap"
           }
          ],
          "heatmapgl": [
           {
            "colorbar": {
             "outlinewidth": 0,
             "ticks": ""
            },
            "colorscale": [
             [
              0,
              "#0d0887"
             ],
             [
              0.1111111111111111,
              "#46039f"
             ],
             [
              0.2222222222222222,
              "#7201a8"
             ],
             [
              0.3333333333333333,
              "#9c179e"
             ],
             [
              0.4444444444444444,
              "#bd3786"
             ],
             [
              0.5555555555555556,
              "#d8576b"
             ],
             [
              0.6666666666666666,
              "#ed7953"
             ],
             [
              0.7777777777777778,
              "#fb9f3a"
             ],
             [
              0.8888888888888888,
              "#fdca26"
             ],
             [
              1,
              "#f0f921"
             ]
            ],
            "type": "heatmapgl"
           }
          ],
          "histogram": [
           {
            "marker": {
             "pattern": {
              "fillmode": "overlay",
              "size": 10,
              "solidity": 0.2
             }
            },
            "type": "histogram"
           }
          ],
          "histogram2d": [
           {
            "colorbar": {
             "outlinewidth": 0,
             "ticks": ""
            },
            "colorscale": [
             [
              0,
              "#0d0887"
             ],
             [
              0.1111111111111111,
              "#46039f"
             ],
             [
              0.2222222222222222,
              "#7201a8"
             ],
             [
              0.3333333333333333,
              "#9c179e"
             ],
             [
              0.4444444444444444,
              "#bd3786"
             ],
             [
              0.5555555555555556,
              "#d8576b"
             ],
             [
              0.6666666666666666,
              "#ed7953"
             ],
             [
              0.7777777777777778,
              "#fb9f3a"
             ],
             [
              0.8888888888888888,
              "#fdca26"
             ],
             [
              1,
              "#f0f921"
             ]
            ],
            "type": "histogram2d"
           }
          ],
          "histogram2dcontour": [
           {
            "colorbar": {
             "outlinewidth": 0,
             "ticks": ""
            },
            "colorscale": [
             [
              0,
              "#0d0887"
             ],
             [
              0.1111111111111111,
              "#46039f"
             ],
             [
              0.2222222222222222,
              "#7201a8"
             ],
             [
              0.3333333333333333,
              "#9c179e"
             ],
             [
              0.4444444444444444,
              "#bd3786"
             ],
             [
              0.5555555555555556,
              "#d8576b"
             ],
             [
              0.6666666666666666,
              "#ed7953"
             ],
             [
              0.7777777777777778,
              "#fb9f3a"
             ],
             [
              0.8888888888888888,
              "#fdca26"
             ],
             [
              1,
              "#f0f921"
             ]
            ],
            "type": "histogram2dcontour"
           }
          ],
          "mesh3d": [
           {
            "colorbar": {
             "outlinewidth": 0,
             "ticks": ""
            },
            "type": "mesh3d"
           }
          ],
          "parcoords": [
           {
            "line": {
             "colorbar": {
              "outlinewidth": 0,
              "ticks": ""
             }
            },
            "type": "parcoords"
           }
          ],
          "pie": [
           {
            "automargin": true,
            "type": "pie"
           }
          ],
          "scatter": [
           {
            "fillpattern": {
             "fillmode": "overlay",
             "size": 10,
             "solidity": 0.2
            },
            "type": "scatter"
           }
          ],
          "scatter3d": [
           {
            "line": {
             "colorbar": {
              "outlinewidth": 0,
              "ticks": ""
             }
            },
            "marker": {
             "colorbar": {
              "outlinewidth": 0,
              "ticks": ""
             }
            },
            "type": "scatter3d"
           }
          ],
          "scattercarpet": [
           {
            "marker": {
             "colorbar": {
              "outlinewidth": 0,
              "ticks": ""
             }
            },
            "type": "scattercarpet"
           }
          ],
          "scattergeo": [
           {
            "marker": {
             "colorbar": {
              "outlinewidth": 0,
              "ticks": ""
             }
            },
            "type": "scattergeo"
           }
          ],
          "scattergl": [
           {
            "marker": {
             "colorbar": {
              "outlinewidth": 0,
              "ticks": ""
             }
            },
            "type": "scattergl"
           }
          ],
          "scattermapbox": [
           {
            "marker": {
             "colorbar": {
              "outlinewidth": 0,
              "ticks": ""
             }
            },
            "type": "scattermapbox"
           }
          ],
          "scatterpolar": [
           {
            "marker": {
             "colorbar": {
              "outlinewidth": 0,
              "ticks": ""
             }
            },
            "type": "scatterpolar"
           }
          ],
          "scatterpolargl": [
           {
            "marker": {
             "colorbar": {
              "outlinewidth": 0,
              "ticks": ""
             }
            },
            "type": "scatterpolargl"
           }
          ],
          "scatterternary": [
           {
            "marker": {
             "colorbar": {
              "outlinewidth": 0,
              "ticks": ""
             }
            },
            "type": "scatterternary"
           }
          ],
          "surface": [
           {
            "colorbar": {
             "outlinewidth": 0,
             "ticks": ""
            },
            "colorscale": [
             [
              0,
              "#0d0887"
             ],
             [
              0.1111111111111111,
              "#46039f"
             ],
             [
              0.2222222222222222,
              "#7201a8"
             ],
             [
              0.3333333333333333,
              "#9c179e"
             ],
             [
              0.4444444444444444,
              "#bd3786"
             ],
             [
              0.5555555555555556,
              "#d8576b"
             ],
             [
              0.6666666666666666,
              "#ed7953"
             ],
             [
              0.7777777777777778,
              "#fb9f3a"
             ],
             [
              0.8888888888888888,
              "#fdca26"
             ],
             [
              1,
              "#f0f921"
             ]
            ],
            "type": "surface"
           }
          ],
          "table": [
           {
            "cells": {
             "fill": {
              "color": "#EBF0F8"
             },
             "line": {
              "color": "white"
             }
            },
            "header": {
             "fill": {
              "color": "#C8D4E3"
             },
             "line": {
              "color": "white"
             }
            },
            "type": "table"
           }
          ]
         },
         "layout": {
          "annotationdefaults": {
           "arrowcolor": "#2a3f5f",
           "arrowhead": 0,
           "arrowwidth": 1
          },
          "autotypenumbers": "strict",
          "coloraxis": {
           "colorbar": {
            "outlinewidth": 0,
            "ticks": ""
           }
          },
          "colorscale": {
           "diverging": [
            [
             0,
             "#8e0152"
            ],
            [
             0.1,
             "#c51b7d"
            ],
            [
             0.2,
             "#de77ae"
            ],
            [
             0.3,
             "#f1b6da"
            ],
            [
             0.4,
             "#fde0ef"
            ],
            [
             0.5,
             "#f7f7f7"
            ],
            [
             0.6,
             "#e6f5d0"
            ],
            [
             0.7,
             "#b8e186"
            ],
            [
             0.8,
             "#7fbc41"
            ],
            [
             0.9,
             "#4d9221"
            ],
            [
             1,
             "#276419"
            ]
           ],
           "sequential": [
            [
             0,
             "#0d0887"
            ],
            [
             0.1111111111111111,
             "#46039f"
            ],
            [
             0.2222222222222222,
             "#7201a8"
            ],
            [
             0.3333333333333333,
             "#9c179e"
            ],
            [
             0.4444444444444444,
             "#bd3786"
            ],
            [
             0.5555555555555556,
             "#d8576b"
            ],
            [
             0.6666666666666666,
             "#ed7953"
            ],
            [
             0.7777777777777778,
             "#fb9f3a"
            ],
            [
             0.8888888888888888,
             "#fdca26"
            ],
            [
             1,
             "#f0f921"
            ]
           ],
           "sequentialminus": [
            [
             0,
             "#0d0887"
            ],
            [
             0.1111111111111111,
             "#46039f"
            ],
            [
             0.2222222222222222,
             "#7201a8"
            ],
            [
             0.3333333333333333,
             "#9c179e"
            ],
            [
             0.4444444444444444,
             "#bd3786"
            ],
            [
             0.5555555555555556,
             "#d8576b"
            ],
            [
             0.6666666666666666,
             "#ed7953"
            ],
            [
             0.7777777777777778,
             "#fb9f3a"
            ],
            [
             0.8888888888888888,
             "#fdca26"
            ],
            [
             1,
             "#f0f921"
            ]
           ]
          },
          "colorway": [
           "#636efa",
           "#EF553B",
           "#00cc96",
           "#ab63fa",
           "#FFA15A",
           "#19d3f3",
           "#FF6692",
           "#B6E880",
           "#FF97FF",
           "#FECB52"
          ],
          "font": {
           "color": "#2a3f5f"
          },
          "geo": {
           "bgcolor": "white",
           "lakecolor": "white",
           "landcolor": "#E5ECF6",
           "showlakes": true,
           "showland": true,
           "subunitcolor": "white"
          },
          "hoverlabel": {
           "align": "left"
          },
          "hovermode": "closest",
          "mapbox": {
           "style": "light"
          },
          "paper_bgcolor": "white",
          "plot_bgcolor": "#E5ECF6",
          "polar": {
           "angularaxis": {
            "gridcolor": "white",
            "linecolor": "white",
            "ticks": ""
           },
           "bgcolor": "#E5ECF6",
           "radialaxis": {
            "gridcolor": "white",
            "linecolor": "white",
            "ticks": ""
           }
          },
          "scene": {
           "xaxis": {
            "backgroundcolor": "#E5ECF6",
            "gridcolor": "white",
            "gridwidth": 2,
            "linecolor": "white",
            "showbackground": true,
            "ticks": "",
            "zerolinecolor": "white"
           },
           "yaxis": {
            "backgroundcolor": "#E5ECF6",
            "gridcolor": "white",
            "gridwidth": 2,
            "linecolor": "white",
            "showbackground": true,
            "ticks": "",
            "zerolinecolor": "white"
           },
           "zaxis": {
            "backgroundcolor": "#E5ECF6",
            "gridcolor": "white",
            "gridwidth": 2,
            "linecolor": "white",
            "showbackground": true,
            "ticks": "",
            "zerolinecolor": "white"
           }
          },
          "shapedefaults": {
           "line": {
            "color": "#2a3f5f"
           }
          },
          "ternary": {
           "aaxis": {
            "gridcolor": "white",
            "linecolor": "white",
            "ticks": ""
           },
           "baxis": {
            "gridcolor": "white",
            "linecolor": "white",
            "ticks": ""
           },
           "bgcolor": "#E5ECF6",
           "caxis": {
            "gridcolor": "white",
            "linecolor": "white",
            "ticks": ""
           }
          },
          "title": {
           "x": 0.05
          },
          "xaxis": {
           "automargin": true,
           "gridcolor": "white",
           "linecolor": "white",
           "ticks": "",
           "title": {
            "standoff": 15
           },
           "zerolinecolor": "white",
           "zerolinewidth": 2
          },
          "yaxis": {
           "automargin": true,
           "gridcolor": "white",
           "linecolor": "white",
           "ticks": "",
           "title": {
            "standoff": 15
           },
           "zerolinecolor": "white",
           "zerolinewidth": 2
          }
         }
        },
        "title": {
         "text": "Old Faithful Geyser Eruptions for short wait times (<62)"
        },
        "xaxis": {
         "anchor": "y",
         "domain": [
          0,
          1
         ],
         "title": {
          "text": "waiting"
         }
        },
        "yaxis": {
         "anchor": "x",
         "domain": [
          0,
          1
         ],
         "title": {
          "text": "duration"
         }
        }
       }
      },
      "text/html": [
       "<div>                            <div id=\"81c67e2b-a4bf-4f45-8185-c7c0d202ce07\" class=\"plotly-graph-div\" style=\"height:525px; width:100%;\"></div>            <script type=\"text/javascript\">                require([\"plotly\"], function(Plotly) {                    window.PLOTLYENV=window.PLOTLYENV || {};                                    if (document.getElementById(\"81c67e2b-a4bf-4f45-8185-c7c0d202ce07\")) {                    Plotly.newPlot(                        \"81c67e2b-a4bf-4f45-8185-c7c0d202ce07\",                        [{\"hovertemplate\":\"waiting=%{x}\\u003cbr\\u003eduration=%{y}\\u003cextra\\u003e\\u003c\\u002fextra\\u003e\",\"legendgroup\":\"\",\"marker\":{\"color\":\"#636efa\",\"symbol\":\"circle\"},\"mode\":\"markers\",\"name\":\"\",\"orientation\":\"v\",\"showlegend\":false,\"x\":[79,74,85,88,85,85,84,78,83,84,79,78,74,83,76,78,79,73,77,80,74,80,90,80,84,73,83,82,75,90,80,83,77,81,84,82,92,78,78,73,82,79,76,78,76,83,75,82,73,88,76,80,86,90,78,72,84,75,82,88,83,81,84,86,81,75,89,79,81,85,87,77,88,81,82,90,83,89,82,86,79,81,82,77,76,80,96,77,77,81,81,93,89,86,78,76,88,93,77,81,81,73,85,74,77,83,83,78,84,83,81,76,84,77,81,87,77,78,82,91,78,77,84,83,80,75,76,94,76,82,75,78,79,78,78,79,86,90,77,79,75,86,85,82,82,74,83,73,73,88,80,83,79,78,84,83,75,81,90,74],\"xaxis\":\"x\",\"y\":[3.6,3.333,4.533,4.7,3.6,4.35,3.917,4.2,4.7,4.8,4.25,3.45,4.533,3.6,4.083,3.85,4.433,4.3,4.467,4.033,3.833,4.833,4.783,4.35,4.567,4.533,3.3169999999999997,4.633,4.8,4.716,4.833,4.883,4.567,4.317,4.5,4.8,4.4,4.167,4.7,4.7,4.033,4.5,5.067,4.567,3.883,3.6,4.133,4.333,4.067,4.933,3.95,4.5169999999999995,4.0,4.333,4.817,4.3,4.667,3.75,4.9,4.367,4.5,4.05,4.7,4.85,3.683,4.7330000000000005,4.9,4.417,4.633,4.6,4.417,4.25,4.6,3.767,4.5,4.65,4.167,4.333,4.383,4.933,3.733,4.2330000000000005,4.533,4.817,4.333,4.633,5.1,5.033,4.0,4.6,4.5,4.083,3.967,4.15,3.833,4.583,5.0,4.617,4.583,4.167,4.333,4.5,4.0,4.167,4.583,4.25,3.767,4.433,4.083,4.417,4.8,4.8,4.1,3.966,4.2330000000000005,3.5,4.3660000000000005,4.667,4.35,4.133,4.6,4.367,3.85,4.5,4.7,3.833,4.2330000000000005,4.8,4.15,4.2669999999999995,4.4830000000000005,4.0,4.117,4.083,4.2669999999999995,4.55,4.183,4.45,4.283,3.95,4.15,4.933,4.583,3.833,4.367,4.35,4.45,3.5669999999999997,4.5,4.15,3.817,4.45,4.283,4.7669999999999995,4.533,4.25,4.75,4.117,4.417,4.467],\"yaxis\":\"y\",\"type\":\"scatter\"},{\"hovertemplate\":\"\\u003cb\\u003eOLS trendline\\u003c\\u002fb\\u003e\\u003cbr\\u003eduration = 0.012244 * waiting + 3.35195\\u003cbr\\u003eR\\u003csup\\u003e2\\u003c\\u002fsup\\u003e=0.026925\\u003cbr\\u003e\\u003cbr\\u003ewaiting=%{x}\\u003cbr\\u003eduration=%{y} \\u003cb\\u003e(trend)\\u003c\\u002fb\\u003e\\u003cextra\\u003e\\u003c\\u002fextra\\u003e\",\"legendgroup\":\"\",\"marker\":{\"color\":\"#636efa\",\"symbol\":\"circle\"},\"mode\":\"lines\",\"name\":\"\",\"showlegend\":false,\"x\":[72,73,73,73,73,73,73,73,74,74,74,74,74,74,75,75,75,75,75,75,75,75,76,76,76,76,76,76,76,76,76,77,77,77,77,77,77,77,77,77,77,77,77,78,78,78,78,78,78,78,78,78,78,78,78,78,78,78,79,79,79,79,79,79,79,79,79,79,80,80,80,80,80,80,80,80,81,81,81,81,81,81,81,81,81,81,81,81,81,82,82,82,82,82,82,82,82,82,82,82,82,83,83,83,83,83,83,83,83,83,83,83,83,83,83,84,84,84,84,84,84,84,84,84,84,85,85,85,85,85,85,86,86,86,86,86,86,87,87,88,88,88,88,88,88,89,89,89,90,90,90,90,90,90,91,92,93,93,94,96],\"xaxis\":\"x\",\"y\":[4.233522783508958,4.245766812955481,4.245766812955481,4.245766812955481,4.245766812955481,4.245766812955481,4.245766812955481,4.245766812955481,4.258010842402005,4.258010842402005,4.258010842402005,4.258010842402005,4.258010842402005,4.258010842402005,4.270254871848528,4.270254871848528,4.270254871848528,4.270254871848528,4.270254871848528,4.270254871848528,4.270254871848528,4.270254871848528,4.282498901295051,4.282498901295051,4.282498901295051,4.282498901295051,4.282498901295051,4.282498901295051,4.282498901295051,4.282498901295051,4.282498901295051,4.294742930741576,4.294742930741576,4.294742930741576,4.294742930741576,4.294742930741576,4.294742930741576,4.294742930741576,4.294742930741576,4.294742930741576,4.294742930741576,4.294742930741576,4.294742930741576,4.306986960188099,4.306986960188099,4.306986960188099,4.306986960188099,4.306986960188099,4.306986960188099,4.306986960188099,4.306986960188099,4.306986960188099,4.306986960188099,4.306986960188099,4.306986960188099,4.306986960188099,4.306986960188099,4.306986960188099,4.319230989634622,4.319230989634622,4.319230989634622,4.319230989634622,4.319230989634622,4.319230989634622,4.319230989634622,4.319230989634622,4.319230989634622,4.319230989634622,4.331475019081146,4.331475019081146,4.331475019081146,4.331475019081146,4.331475019081146,4.331475019081146,4.331475019081146,4.331475019081146,4.343719048527669,4.343719048527669,4.343719048527669,4.343719048527669,4.343719048527669,4.343719048527669,4.343719048527669,4.343719048527669,4.343719048527669,4.343719048527669,4.343719048527669,4.343719048527669,4.343719048527669,4.3559630779741925,4.3559630779741925,4.3559630779741925,4.3559630779741925,4.3559630779741925,4.3559630779741925,4.3559630779741925,4.3559630779741925,4.3559630779741925,4.3559630779741925,4.3559630779741925,4.3559630779741925,4.368207107420716,4.368207107420716,4.368207107420716,4.368207107420716,4.368207107420716,4.368207107420716,4.368207107420716,4.368207107420716,4.368207107420716,4.368207107420716,4.368207107420716,4.368207107420716,4.368207107420716,4.368207107420716,4.38045113686724,4.38045113686724,4.38045113686724,4.38045113686724,4.38045113686724,4.38045113686724,4.38045113686724,4.38045113686724,4.38045113686724,4.38045113686724,4.392695166313763,4.392695166313763,4.392695166313763,4.392695166313763,4.392695166313763,4.392695166313763,4.404939195760287,4.404939195760287,4.404939195760287,4.404939195760287,4.404939195760287,4.404939195760287,4.41718322520681,4.41718322520681,4.4294272546533335,4.4294272546533335,4.4294272546533335,4.4294272546533335,4.4294272546533335,4.4294272546533335,4.441671284099857,4.441671284099857,4.441671284099857,4.45391531354638,4.45391531354638,4.45391531354638,4.45391531354638,4.45391531354638,4.45391531354638,4.466159342992904,4.478403372439427,4.490647401885951,4.490647401885951,4.502891431332475,4.527379490225521],\"yaxis\":\"y\",\"type\":\"scatter\"}],                        {\"template\":{\"data\":{\"histogram2dcontour\":[{\"type\":\"histogram2dcontour\",\"colorbar\":{\"outlinewidth\":0,\"ticks\":\"\"},\"colorscale\":[[0.0,\"#0d0887\"],[0.1111111111111111,\"#46039f\"],[0.2222222222222222,\"#7201a8\"],[0.3333333333333333,\"#9c179e\"],[0.4444444444444444,\"#bd3786\"],[0.5555555555555556,\"#d8576b\"],[0.6666666666666666,\"#ed7953\"],[0.7777777777777778,\"#fb9f3a\"],[0.8888888888888888,\"#fdca26\"],[1.0,\"#f0f921\"]]}],\"choropleth\":[{\"type\":\"choropleth\",\"colorbar\":{\"outlinewidth\":0,\"ticks\":\"\"}}],\"histogram2d\":[{\"type\":\"histogram2d\",\"colorbar\":{\"outlinewidth\":0,\"ticks\":\"\"},\"colorscale\":[[0.0,\"#0d0887\"],[0.1111111111111111,\"#46039f\"],[0.2222222222222222,\"#7201a8\"],[0.3333333333333333,\"#9c179e\"],[0.4444444444444444,\"#bd3786\"],[0.5555555555555556,\"#d8576b\"],[0.6666666666666666,\"#ed7953\"],[0.7777777777777778,\"#fb9f3a\"],[0.8888888888888888,\"#fdca26\"],[1.0,\"#f0f921\"]]}],\"heatmap\":[{\"type\":\"heatmap\",\"colorbar\":{\"outlinewidth\":0,\"ticks\":\"\"},\"colorscale\":[[0.0,\"#0d0887\"],[0.1111111111111111,\"#46039f\"],[0.2222222222222222,\"#7201a8\"],[0.3333333333333333,\"#9c179e\"],[0.4444444444444444,\"#bd3786\"],[0.5555555555555556,\"#d8576b\"],[0.6666666666666666,\"#ed7953\"],[0.7777777777777778,\"#fb9f3a\"],[0.8888888888888888,\"#fdca26\"],[1.0,\"#f0f921\"]]}],\"heatmapgl\":[{\"type\":\"heatmapgl\",\"colorbar\":{\"outlinewidth\":0,\"ticks\":\"\"},\"colorscale\":[[0.0,\"#0d0887\"],[0.1111111111111111,\"#46039f\"],[0.2222222222222222,\"#7201a8\"],[0.3333333333333333,\"#9c179e\"],[0.4444444444444444,\"#bd3786\"],[0.5555555555555556,\"#d8576b\"],[0.6666666666666666,\"#ed7953\"],[0.7777777777777778,\"#fb9f3a\"],[0.8888888888888888,\"#fdca26\"],[1.0,\"#f0f921\"]]}],\"contourcarpet\":[{\"type\":\"contourcarpet\",\"colorbar\":{\"outlinewidth\":0,\"ticks\":\"\"}}],\"contour\":[{\"type\":\"contour\",\"colorbar\":{\"outlinewidth\":0,\"ticks\":\"\"},\"colorscale\":[[0.0,\"#0d0887\"],[0.1111111111111111,\"#46039f\"],[0.2222222222222222,\"#7201a8\"],[0.3333333333333333,\"#9c179e\"],[0.4444444444444444,\"#bd3786\"],[0.5555555555555556,\"#d8576b\"],[0.6666666666666666,\"#ed7953\"],[0.7777777777777778,\"#fb9f3a\"],[0.8888888888888888,\"#fdca26\"],[1.0,\"#f0f921\"]]}],\"surface\":[{\"type\":\"surface\",\"colorbar\":{\"outlinewidth\":0,\"ticks\":\"\"},\"colorscale\":[[0.0,\"#0d0887\"],[0.1111111111111111,\"#46039f\"],[0.2222222222222222,\"#7201a8\"],[0.3333333333333333,\"#9c179e\"],[0.4444444444444444,\"#bd3786\"],[0.5555555555555556,\"#d8576b\"],[0.6666666666666666,\"#ed7953\"],[0.7777777777777778,\"#fb9f3a\"],[0.8888888888888888,\"#fdca26\"],[1.0,\"#f0f921\"]]}],\"mesh3d\":[{\"type\":\"mesh3d\",\"colorbar\":{\"outlinewidth\":0,\"ticks\":\"\"}}],\"scatter\":[{\"fillpattern\":{\"fillmode\":\"overlay\",\"size\":10,\"solidity\":0.2},\"type\":\"scatter\"}],\"parcoords\":[{\"type\":\"parcoords\",\"line\":{\"colorbar\":{\"outlinewidth\":0,\"ticks\":\"\"}}}],\"scatterpolargl\":[{\"type\":\"scatterpolargl\",\"marker\":{\"colorbar\":{\"outlinewidth\":0,\"ticks\":\"\"}}}],\"bar\":[{\"error_x\":{\"color\":\"#2a3f5f\"},\"error_y\":{\"color\":\"#2a3f5f\"},\"marker\":{\"line\":{\"color\":\"#E5ECF6\",\"width\":0.5},\"pattern\":{\"fillmode\":\"overlay\",\"size\":10,\"solidity\":0.2}},\"type\":\"bar\"}],\"scattergeo\":[{\"type\":\"scattergeo\",\"marker\":{\"colorbar\":{\"outlinewidth\":0,\"ticks\":\"\"}}}],\"scatterpolar\":[{\"type\":\"scatterpolar\",\"marker\":{\"colorbar\":{\"outlinewidth\":0,\"ticks\":\"\"}}}],\"histogram\":[{\"marker\":{\"pattern\":{\"fillmode\":\"overlay\",\"size\":10,\"solidity\":0.2}},\"type\":\"histogram\"}],\"scattergl\":[{\"type\":\"scattergl\",\"marker\":{\"colorbar\":{\"outlinewidth\":0,\"ticks\":\"\"}}}],\"scatter3d\":[{\"type\":\"scatter3d\",\"line\":{\"colorbar\":{\"outlinewidth\":0,\"ticks\":\"\"}},\"marker\":{\"colorbar\":{\"outlinewidth\":0,\"ticks\":\"\"}}}],\"scattermapbox\":[{\"type\":\"scattermapbox\",\"marker\":{\"colorbar\":{\"outlinewidth\":0,\"ticks\":\"\"}}}],\"scatterternary\":[{\"type\":\"scatterternary\",\"marker\":{\"colorbar\":{\"outlinewidth\":0,\"ticks\":\"\"}}}],\"scattercarpet\":[{\"type\":\"scattercarpet\",\"marker\":{\"colorbar\":{\"outlinewidth\":0,\"ticks\":\"\"}}}],\"carpet\":[{\"aaxis\":{\"endlinecolor\":\"#2a3f5f\",\"gridcolor\":\"white\",\"linecolor\":\"white\",\"minorgridcolor\":\"white\",\"startlinecolor\":\"#2a3f5f\"},\"baxis\":{\"endlinecolor\":\"#2a3f5f\",\"gridcolor\":\"white\",\"linecolor\":\"white\",\"minorgridcolor\":\"white\",\"startlinecolor\":\"#2a3f5f\"},\"type\":\"carpet\"}],\"table\":[{\"cells\":{\"fill\":{\"color\":\"#EBF0F8\"},\"line\":{\"color\":\"white\"}},\"header\":{\"fill\":{\"color\":\"#C8D4E3\"},\"line\":{\"color\":\"white\"}},\"type\":\"table\"}],\"barpolar\":[{\"marker\":{\"line\":{\"color\":\"#E5ECF6\",\"width\":0.5},\"pattern\":{\"fillmode\":\"overlay\",\"size\":10,\"solidity\":0.2}},\"type\":\"barpolar\"}],\"pie\":[{\"automargin\":true,\"type\":\"pie\"}]},\"layout\":{\"autotypenumbers\":\"strict\",\"colorway\":[\"#636efa\",\"#EF553B\",\"#00cc96\",\"#ab63fa\",\"#FFA15A\",\"#19d3f3\",\"#FF6692\",\"#B6E880\",\"#FF97FF\",\"#FECB52\"],\"font\":{\"color\":\"#2a3f5f\"},\"hovermode\":\"closest\",\"hoverlabel\":{\"align\":\"left\"},\"paper_bgcolor\":\"white\",\"plot_bgcolor\":\"#E5ECF6\",\"polar\":{\"bgcolor\":\"#E5ECF6\",\"angularaxis\":{\"gridcolor\":\"white\",\"linecolor\":\"white\",\"ticks\":\"\"},\"radialaxis\":{\"gridcolor\":\"white\",\"linecolor\":\"white\",\"ticks\":\"\"}},\"ternary\":{\"bgcolor\":\"#E5ECF6\",\"aaxis\":{\"gridcolor\":\"white\",\"linecolor\":\"white\",\"ticks\":\"\"},\"baxis\":{\"gridcolor\":\"white\",\"linecolor\":\"white\",\"ticks\":\"\"},\"caxis\":{\"gridcolor\":\"white\",\"linecolor\":\"white\",\"ticks\":\"\"}},\"coloraxis\":{\"colorbar\":{\"outlinewidth\":0,\"ticks\":\"\"}},\"colorscale\":{\"sequential\":[[0.0,\"#0d0887\"],[0.1111111111111111,\"#46039f\"],[0.2222222222222222,\"#7201a8\"],[0.3333333333333333,\"#9c179e\"],[0.4444444444444444,\"#bd3786\"],[0.5555555555555556,\"#d8576b\"],[0.6666666666666666,\"#ed7953\"],[0.7777777777777778,\"#fb9f3a\"],[0.8888888888888888,\"#fdca26\"],[1.0,\"#f0f921\"]],\"sequentialminus\":[[0.0,\"#0d0887\"],[0.1111111111111111,\"#46039f\"],[0.2222222222222222,\"#7201a8\"],[0.3333333333333333,\"#9c179e\"],[0.4444444444444444,\"#bd3786\"],[0.5555555555555556,\"#d8576b\"],[0.6666666666666666,\"#ed7953\"],[0.7777777777777778,\"#fb9f3a\"],[0.8888888888888888,\"#fdca26\"],[1.0,\"#f0f921\"]],\"diverging\":[[0,\"#8e0152\"],[0.1,\"#c51b7d\"],[0.2,\"#de77ae\"],[0.3,\"#f1b6da\"],[0.4,\"#fde0ef\"],[0.5,\"#f7f7f7\"],[0.6,\"#e6f5d0\"],[0.7,\"#b8e186\"],[0.8,\"#7fbc41\"],[0.9,\"#4d9221\"],[1,\"#276419\"]]},\"xaxis\":{\"gridcolor\":\"white\",\"linecolor\":\"white\",\"ticks\":\"\",\"title\":{\"standoff\":15},\"zerolinecolor\":\"white\",\"automargin\":true,\"zerolinewidth\":2},\"yaxis\":{\"gridcolor\":\"white\",\"linecolor\":\"white\",\"ticks\":\"\",\"title\":{\"standoff\":15},\"zerolinecolor\":\"white\",\"automargin\":true,\"zerolinewidth\":2},\"scene\":{\"xaxis\":{\"backgroundcolor\":\"#E5ECF6\",\"gridcolor\":\"white\",\"linecolor\":\"white\",\"showbackground\":true,\"ticks\":\"\",\"zerolinecolor\":\"white\",\"gridwidth\":2},\"yaxis\":{\"backgroundcolor\":\"#E5ECF6\",\"gridcolor\":\"white\",\"linecolor\":\"white\",\"showbackground\":true,\"ticks\":\"\",\"zerolinecolor\":\"white\",\"gridwidth\":2},\"zaxis\":{\"backgroundcolor\":\"#E5ECF6\",\"gridcolor\":\"white\",\"linecolor\":\"white\",\"showbackground\":true,\"ticks\":\"\",\"zerolinecolor\":\"white\",\"gridwidth\":2}},\"shapedefaults\":{\"line\":{\"color\":\"#2a3f5f\"}},\"annotationdefaults\":{\"arrowcolor\":\"#2a3f5f\",\"arrowhead\":0,\"arrowwidth\":1},\"geo\":{\"bgcolor\":\"white\",\"landcolor\":\"#E5ECF6\",\"subunitcolor\":\"white\",\"showland\":true,\"showlakes\":true,\"lakecolor\":\"white\"},\"title\":{\"x\":0.05},\"mapbox\":{\"style\":\"light\"}}},\"xaxis\":{\"anchor\":\"y\",\"domain\":[0.0,1.0],\"title\":{\"text\":\"waiting\"}},\"yaxis\":{\"anchor\":\"x\",\"domain\":[0.0,1.0],\"title\":{\"text\":\"duration\"}},\"legend\":{\"tracegroupgap\":0},\"title\":{\"text\":\"Old Faithful Geyser Eruptions for short wait times (\\u003c62)\"}},                        {\"responsive\": true}                    ).then(function(){\n",
       "                            \n",
       "var gd = document.getElementById('81c67e2b-a4bf-4f45-8185-c7c0d202ce07');\n",
       "var x = new MutationObserver(function (mutations, observer) {{\n",
       "        var display = window.getComputedStyle(gd).display;\n",
       "        if (!display || display === 'none') {{\n",
       "            console.log([gd, 'removed!']);\n",
       "            Plotly.purge(gd);\n",
       "            observer.disconnect();\n",
       "        }}\n",
       "}});\n",
       "\n",
       "// Listen for the removal of the full notebook cells\n",
       "var notebookContainer = gd.closest('#notebook-container');\n",
       "if (notebookContainer) {{\n",
       "    x.observe(notebookContainer, {childList: true});\n",
       "}}\n",
       "\n",
       "// Listen for the clearing of the current output cell\n",
       "var outputEl = gd.closest('.output');\n",
       "if (outputEl) {{\n",
       "    x.observe(outputEl, {childList: true});\n",
       "}}\n",
       "\n",
       "                        })                };                });            </script>        </div>"
      ]
     },
     "metadata": {},
     "output_type": "display_data"
    }
   ],
   "source": [
    "import plotly.express as px\n",
    "\n",
    "long_wait_limit = 71\n",
    "long_wait = old_faithful.waiting > long_wait_limit\n",
    "\n",
    "print(smf.ols('duration ~ waiting', data=old_faithful[long_wait]).fit().summary().tables[1])\n",
    "\n",
    "# Create a scatter plot with a linear regression trendline\n",
    "fig = px.scatter(old_faithful[long_wait], x='waiting', y='duration', \n",
    "                 title=\"Old Faithful Geyser Eruptions for short wait times (<\"+str(short_wait_limit)+\")\", \n",
    "                 trendline='ols')\n",
    "\n",
    "fig.show() # USE `fig.show(renderer=\"png\")` FOR ALL GitHub and MarkUs SUBMISSIONS"
   ]
  },
  {
   "cell_type": "markdown",
   "id": "a1163d93",
   "metadata": {},
   "source": [
    "11. Since we've considered wait times of `<64` \"short\" and wait times of `>71` \"long\", let's instead just divide the data and insead call wait times of `<68` \"short\" and otherwise just call them \"long\". Consider the **Simple Linear Regression** model specification using an **indicator variable** of the wait time length where we use $k_i$ (rather than $x_i$) (to refer to the \"kind\" or \"katagory\" or \"kontrast\") column (that you may have noticed was already a part) of the original dataset \n",
    "\n",
    "    $$\\large Y_i = \\beta_{\\text{intercept}} + 1_{[\\text{\"long\"}]}(\\text{k_i})\\beta_{\\text{contrast}} + \\epsilon_i \\quad \\text{ where } \\quad \\epsilon_i \\sim \\mathcal N\\left(0, \\sigma\\right)$$\n",
    "    \n",
    "    and explain the \"big picture\" differences between this model specification and the previously considered model specifications and report the evidence against a **null hypothesis** of \"no difference between groups \"on average\") for the new **indicator variable** based model\n",
    "    \n",
    "    - `smf.ols('duration ~ waiting', data=old_faithful)`\n",
    "    - `smf.ols('duration ~ waiting', data=old_faithful[short_wait])`\n",
    "    - `smf.ols('duration ~ waiting', data=old_faithful[long_wait])`\n",
    "    "
   ]
  },
  {
   "cell_type": "code",
   "execution_count": 304,
   "id": "1efc4f93",
   "metadata": {},
   "outputs": [
    {
     "data": {
      "text/html": [
       "<table class=\"simpletable\">\n",
       "<tr>\n",
       "                        <td></td>                           <th>coef</th>     <th>std err</th>      <th>t</th>      <th>P>|t|</th>  <th>[0.025</th>    <th>0.975]</th>  \n",
       "</tr>\n",
       "<tr>\n",
       "  <th>Intercept</th>                                     <td>    2.0943</td> <td>    0.041</td> <td>   50.752</td> <td> 0.000</td> <td>    2.013</td> <td>    2.176</td>\n",
       "</tr>\n",
       "<tr>\n",
       "  <th>C(kind, Treatment(reference=\"short\"))[T.long]</th> <td>    2.2036</td> <td>    0.052</td> <td>   42.464</td> <td> 0.000</td> <td>    2.101</td> <td>    2.306</td>\n",
       "</tr>\n",
       "</table>"
      ],
      "text/latex": [
       "\\begin{center}\n",
       "\\begin{tabular}{lcccccc}\n",
       "\\toprule\n",
       "                                                       & \\textbf{coef} & \\textbf{std err} & \\textbf{t} & \\textbf{P$> |$t$|$} & \\textbf{[0.025} & \\textbf{0.975]}  \\\\\n",
       "\\midrule\n",
       "\\textbf{Intercept}                                     &       2.0943  &        0.041     &    50.752  &         0.000        &        2.013    &        2.176     \\\\\n",
       "\\textbf{C(kind, Treatment(reference=\"short\"))[T.long]} &       2.2036  &        0.052     &    42.464  &         0.000        &        2.101    &        2.306     \\\\\n",
       "\\bottomrule\n",
       "\\end{tabular}\n",
       "\\end{center}"
      ],
      "text/plain": [
       "<class 'statsmodels.iolib.table.SimpleTable'>"
      ]
     },
     "metadata": {},
     "output_type": "display_data"
    },
    {
     "data": {
      "application/vnd.plotly.v1+json": {
       "config": {
        "plotlyServerURL": "https://plot.ly"
       },
       "data": [
        {
         "alignmentgroup": "True",
         "hovertemplate": "kind=%{x}<br>duration=%{y}<extra></extra>",
         "legendgroup": "",
         "marker": {
          "color": "#636efa"
         },
         "name": "",
         "notched": false,
         "offsetgroup": "",
         "orientation": "v",
         "showlegend": false,
         "type": "box",
         "x": [
          "long",
          "short",
          "long",
          "short",
          "long",
          "short",
          "long",
          "long",
          "short",
          "long",
          "short",
          "long",
          "long",
          "short",
          "long",
          "short",
          "short",
          "long",
          "short",
          "long",
          "short",
          "short",
          "long",
          "long",
          "long",
          "long",
          "short",
          "long",
          "long",
          "long",
          "long",
          "long",
          "short",
          "long",
          "long",
          "short",
          "short",
          "long",
          "short",
          "long",
          "long",
          "short",
          "long",
          "short",
          "long",
          "long",
          "short",
          "short",
          "long",
          "short",
          "long",
          "long",
          "short",
          "long",
          "short",
          "long",
          "long",
          "short",
          "long",
          "long",
          "short",
          "long",
          "short",
          "long",
          "short",
          "long",
          "long",
          "long",
          "short",
          "long",
          "long",
          "short",
          "long",
          "long",
          "short",
          "long",
          "short",
          "long",
          "long",
          "long",
          "long",
          "long",
          "long",
          "short",
          "long",
          "long",
          "long",
          "long",
          "short",
          "long",
          "short",
          "long",
          "short",
          "long",
          "short",
          "long",
          "long",
          "long",
          "short",
          "long",
          "short",
          "long",
          "short",
          "long",
          "long",
          "short",
          "long",
          "short",
          "long",
          "long",
          "long",
          "short",
          "long",
          "long",
          "short",
          "long",
          "short",
          "long",
          "short",
          "long",
          "short",
          "long",
          "long",
          "short",
          "long",
          "long",
          "short",
          "long",
          "short",
          "long",
          "short",
          "long",
          "short",
          "long",
          "short",
          "long",
          "short",
          "long",
          "short",
          "long",
          "long",
          "short",
          "long",
          "long",
          "long",
          "short",
          "long",
          "short",
          "long",
          "short",
          "long",
          "long",
          "short",
          "long",
          "long",
          "long",
          "long",
          "long",
          "short",
          "long",
          "short",
          "long",
          "short",
          "long",
          "short",
          "long",
          "short",
          "long",
          "short",
          "long",
          "short",
          "short",
          "long",
          "long",
          "long",
          "long",
          "long",
          "short",
          "long",
          "long",
          "short",
          "long",
          "long",
          "long",
          "short",
          "long",
          "long",
          "short",
          "long",
          "short",
          "long",
          "short",
          "long",
          "long",
          "long",
          "long",
          "long",
          "long",
          "short",
          "long",
          "short",
          "long",
          "long",
          "short",
          "long",
          "short",
          "long",
          "long",
          "short",
          "long",
          "long",
          "long",
          "short",
          "long",
          "short",
          "long",
          "short",
          "long",
          "short",
          "long",
          "short",
          "long",
          "short",
          "long",
          "long",
          "long",
          "long",
          "long",
          "long",
          "long",
          "long",
          "short",
          "long",
          "short",
          "long",
          "short",
          "short",
          "long",
          "long",
          "short",
          "long",
          "short",
          "long",
          "short",
          "long",
          "long",
          "short",
          "long",
          "short",
          "long",
          "short",
          "long",
          "long",
          "long",
          "long",
          "long",
          "long",
          "long",
          "short",
          "long",
          "long",
          "long",
          "short",
          "long",
          "short",
          "short",
          "long",
          "long",
          "short",
          "long",
          "short",
          "long"
         ],
         "x0": " ",
         "xaxis": "x",
         "y": [
          3.6,
          1.8,
          3.333,
          2.283,
          4.533,
          2.883,
          4.7,
          3.6,
          1.95,
          4.35,
          1.833,
          3.917,
          4.2,
          1.75,
          4.7,
          2.167,
          1.75,
          4.8,
          1.6,
          4.25,
          1.8,
          1.75,
          3.45,
          3.0669999999999997,
          4.533,
          3.6,
          1.967,
          4.083,
          3.85,
          4.433,
          4.3,
          4.467,
          3.367,
          4.033,
          3.833,
          2.017,
          1.867,
          4.833,
          1.833,
          4.783,
          4.35,
          1.883,
          4.567,
          1.75,
          4.533,
          3.3169999999999997,
          3.833,
          2.1,
          4.633,
          2,
          4.8,
          4.716,
          1.833,
          4.833,
          1.733,
          4.883,
          3.717,
          1.6669999999999998,
          4.567,
          4.317,
          2.233,
          4.5,
          1.75,
          4.8,
          1.817,
          4.4,
          4.167,
          4.7,
          2.0669999999999997,
          4.7,
          4.033,
          1.967,
          4.5,
          4,
          1.983,
          5.067,
          2.017,
          4.567,
          3.883,
          3.6,
          4.133,
          4.333,
          4.1,
          2.633,
          4.067,
          4.933,
          3.95,
          4.5169999999999995,
          2.167,
          4,
          2.2,
          4.333,
          1.867,
          4.817,
          1.833,
          4.3,
          4.667,
          3.75,
          1.867,
          4.9,
          2.483,
          4.367,
          2.1,
          4.5,
          4.05,
          1.867,
          4.7,
          1.783,
          4.85,
          3.683,
          4.7330000000000005,
          2.3,
          4.9,
          4.417,
          1.7,
          4.633,
          2.3169999999999997,
          4.6,
          1.817,
          4.417,
          2.617,
          4.067,
          4.25,
          1.967,
          4.6,
          3.767,
          1.917,
          4.5,
          2.267,
          4.65,
          1.867,
          4.167,
          2.8,
          4.333,
          1.833,
          4.383,
          1.883,
          4.933,
          2.033,
          3.733,
          4.2330000000000005,
          2.233,
          4.533,
          4.817,
          4.333,
          1.983,
          4.633,
          2.017,
          5.1,
          1.8,
          5.033,
          4,
          2.4,
          4.6,
          3.5669999999999997,
          4,
          4.5,
          4.083,
          1.8,
          3.967,
          2.2,
          4.15,
          2,
          3.833,
          3.5,
          4.583,
          2.367,
          5,
          1.933,
          4.617,
          1.917,
          2.083,
          4.583,
          3.333,
          4.167,
          4.333,
          4.5,
          2.417,
          4,
          4.167,
          1.883,
          4.583,
          4.25,
          3.767,
          2.033,
          4.433,
          4.083,
          1.833,
          4.417,
          2.1830000000000003,
          4.8,
          1.833,
          4.8,
          4.1,
          3.966,
          4.2330000000000005,
          3.5,
          4.3660000000000005,
          2.25,
          4.667,
          2.1,
          4.35,
          4.133,
          1.867,
          4.6,
          1.783,
          4.367,
          3.85,
          1.933,
          4.5,
          2.383,
          4.7,
          1.867,
          3.833,
          3.417,
          4.2330000000000005,
          2.4,
          4.8,
          2,
          4.15,
          1.867,
          4.2669999999999995,
          1.75,
          4.4830000000000005,
          4,
          4.117,
          4.083,
          4.2669999999999995,
          3.917,
          4.55,
          4.083,
          2.417,
          4.183,
          2.217,
          4.45,
          1.883,
          1.85,
          4.283,
          3.95,
          2.333,
          4.15,
          2.35,
          4.933,
          2.9,
          4.583,
          3.833,
          2.083,
          4.367,
          2.133,
          4.35,
          2.2,
          4.45,
          3.5669999999999997,
          4.5,
          4.15,
          3.817,
          3.917,
          4.45,
          2,
          4.283,
          4.7669999999999995,
          4.533,
          1.85,
          4.25,
          1.983,
          2.25,
          4.75,
          4.117,
          2.15,
          4.417,
          1.817,
          4.467
         ],
         "y0": " ",
         "yaxis": "y"
        }
       ],
       "layout": {
        "boxmode": "group",
        "legend": {
         "tracegroupgap": 0
        },
        "template": {
         "data": {
          "bar": [
           {
            "error_x": {
             "color": "#2a3f5f"
            },
            "error_y": {
             "color": "#2a3f5f"
            },
            "marker": {
             "line": {
              "color": "#E5ECF6",
              "width": 0.5
             },
             "pattern": {
              "fillmode": "overlay",
              "size": 10,
              "solidity": 0.2
             }
            },
            "type": "bar"
           }
          ],
          "barpolar": [
           {
            "marker": {
             "line": {
              "color": "#E5ECF6",
              "width": 0.5
             },
             "pattern": {
              "fillmode": "overlay",
              "size": 10,
              "solidity": 0.2
             }
            },
            "type": "barpolar"
           }
          ],
          "carpet": [
           {
            "aaxis": {
             "endlinecolor": "#2a3f5f",
             "gridcolor": "white",
             "linecolor": "white",
             "minorgridcolor": "white",
             "startlinecolor": "#2a3f5f"
            },
            "baxis": {
             "endlinecolor": "#2a3f5f",
             "gridcolor": "white",
             "linecolor": "white",
             "minorgridcolor": "white",
             "startlinecolor": "#2a3f5f"
            },
            "type": "carpet"
           }
          ],
          "choropleth": [
           {
            "colorbar": {
             "outlinewidth": 0,
             "ticks": ""
            },
            "type": "choropleth"
           }
          ],
          "contour": [
           {
            "colorbar": {
             "outlinewidth": 0,
             "ticks": ""
            },
            "colorscale": [
             [
              0,
              "#0d0887"
             ],
             [
              0.1111111111111111,
              "#46039f"
             ],
             [
              0.2222222222222222,
              "#7201a8"
             ],
             [
              0.3333333333333333,
              "#9c179e"
             ],
             [
              0.4444444444444444,
              "#bd3786"
             ],
             [
              0.5555555555555556,
              "#d8576b"
             ],
             [
              0.6666666666666666,
              "#ed7953"
             ],
             [
              0.7777777777777778,
              "#fb9f3a"
             ],
             [
              0.8888888888888888,
              "#fdca26"
             ],
             [
              1,
              "#f0f921"
             ]
            ],
            "type": "contour"
           }
          ],
          "contourcarpet": [
           {
            "colorbar": {
             "outlinewidth": 0,
             "ticks": ""
            },
            "type": "contourcarpet"
           }
          ],
          "heatmap": [
           {
            "colorbar": {
             "outlinewidth": 0,
             "ticks": ""
            },
            "colorscale": [
             [
              0,
              "#0d0887"
             ],
             [
              0.1111111111111111,
              "#46039f"
             ],
             [
              0.2222222222222222,
              "#7201a8"
             ],
             [
              0.3333333333333333,
              "#9c179e"
             ],
             [
              0.4444444444444444,
              "#bd3786"
             ],
             [
              0.5555555555555556,
              "#d8576b"
             ],
             [
              0.6666666666666666,
              "#ed7953"
             ],
             [
              0.7777777777777778,
              "#fb9f3a"
             ],
             [
              0.8888888888888888,
              "#fdca26"
             ],
             [
              1,
              "#f0f921"
             ]
            ],
            "type": "heatmap"
           }
          ],
          "heatmapgl": [
           {
            "colorbar": {
             "outlinewidth": 0,
             "ticks": ""
            },
            "colorscale": [
             [
              0,
              "#0d0887"
             ],
             [
              0.1111111111111111,
              "#46039f"
             ],
             [
              0.2222222222222222,
              "#7201a8"
             ],
             [
              0.3333333333333333,
              "#9c179e"
             ],
             [
              0.4444444444444444,
              "#bd3786"
             ],
             [
              0.5555555555555556,
              "#d8576b"
             ],
             [
              0.6666666666666666,
              "#ed7953"
             ],
             [
              0.7777777777777778,
              "#fb9f3a"
             ],
             [
              0.8888888888888888,
              "#fdca26"
             ],
             [
              1,
              "#f0f921"
             ]
            ],
            "type": "heatmapgl"
           }
          ],
          "histogram": [
           {
            "marker": {
             "pattern": {
              "fillmode": "overlay",
              "size": 10,
              "solidity": 0.2
             }
            },
            "type": "histogram"
           }
          ],
          "histogram2d": [
           {
            "colorbar": {
             "outlinewidth": 0,
             "ticks": ""
            },
            "colorscale": [
             [
              0,
              "#0d0887"
             ],
             [
              0.1111111111111111,
              "#46039f"
             ],
             [
              0.2222222222222222,
              "#7201a8"
             ],
             [
              0.3333333333333333,
              "#9c179e"
             ],
             [
              0.4444444444444444,
              "#bd3786"
             ],
             [
              0.5555555555555556,
              "#d8576b"
             ],
             [
              0.6666666666666666,
              "#ed7953"
             ],
             [
              0.7777777777777778,
              "#fb9f3a"
             ],
             [
              0.8888888888888888,
              "#fdca26"
             ],
             [
              1,
              "#f0f921"
             ]
            ],
            "type": "histogram2d"
           }
          ],
          "histogram2dcontour": [
           {
            "colorbar": {
             "outlinewidth": 0,
             "ticks": ""
            },
            "colorscale": [
             [
              0,
              "#0d0887"
             ],
             [
              0.1111111111111111,
              "#46039f"
             ],
             [
              0.2222222222222222,
              "#7201a8"
             ],
             [
              0.3333333333333333,
              "#9c179e"
             ],
             [
              0.4444444444444444,
              "#bd3786"
             ],
             [
              0.5555555555555556,
              "#d8576b"
             ],
             [
              0.6666666666666666,
              "#ed7953"
             ],
             [
              0.7777777777777778,
              "#fb9f3a"
             ],
             [
              0.8888888888888888,
              "#fdca26"
             ],
             [
              1,
              "#f0f921"
             ]
            ],
            "type": "histogram2dcontour"
           }
          ],
          "mesh3d": [
           {
            "colorbar": {
             "outlinewidth": 0,
             "ticks": ""
            },
            "type": "mesh3d"
           }
          ],
          "parcoords": [
           {
            "line": {
             "colorbar": {
              "outlinewidth": 0,
              "ticks": ""
             }
            },
            "type": "parcoords"
           }
          ],
          "pie": [
           {
            "automargin": true,
            "type": "pie"
           }
          ],
          "scatter": [
           {
            "fillpattern": {
             "fillmode": "overlay",
             "size": 10,
             "solidity": 0.2
            },
            "type": "scatter"
           }
          ],
          "scatter3d": [
           {
            "line": {
             "colorbar": {
              "outlinewidth": 0,
              "ticks": ""
             }
            },
            "marker": {
             "colorbar": {
              "outlinewidth": 0,
              "ticks": ""
             }
            },
            "type": "scatter3d"
           }
          ],
          "scattercarpet": [
           {
            "marker": {
             "colorbar": {
              "outlinewidth": 0,
              "ticks": ""
             }
            },
            "type": "scattercarpet"
           }
          ],
          "scattergeo": [
           {
            "marker": {
             "colorbar": {
              "outlinewidth": 0,
              "ticks": ""
             }
            },
            "type": "scattergeo"
           }
          ],
          "scattergl": [
           {
            "marker": {
             "colorbar": {
              "outlinewidth": 0,
              "ticks": ""
             }
            },
            "type": "scattergl"
           }
          ],
          "scattermapbox": [
           {
            "marker": {
             "colorbar": {
              "outlinewidth": 0,
              "ticks": ""
             }
            },
            "type": "scattermapbox"
           }
          ],
          "scatterpolar": [
           {
            "marker": {
             "colorbar": {
              "outlinewidth": 0,
              "ticks": ""
             }
            },
            "type": "scatterpolar"
           }
          ],
          "scatterpolargl": [
           {
            "marker": {
             "colorbar": {
              "outlinewidth": 0,
              "ticks": ""
             }
            },
            "type": "scatterpolargl"
           }
          ],
          "scatterternary": [
           {
            "marker": {
             "colorbar": {
              "outlinewidth": 0,
              "ticks": ""
             }
            },
            "type": "scatterternary"
           }
          ],
          "surface": [
           {
            "colorbar": {
             "outlinewidth": 0,
             "ticks": ""
            },
            "colorscale": [
             [
              0,
              "#0d0887"
             ],
             [
              0.1111111111111111,
              "#46039f"
             ],
             [
              0.2222222222222222,
              "#7201a8"
             ],
             [
              0.3333333333333333,
              "#9c179e"
             ],
             [
              0.4444444444444444,
              "#bd3786"
             ],
             [
              0.5555555555555556,
              "#d8576b"
             ],
             [
              0.6666666666666666,
              "#ed7953"
             ],
             [
              0.7777777777777778,
              "#fb9f3a"
             ],
             [
              0.8888888888888888,
              "#fdca26"
             ],
             [
              1,
              "#f0f921"
             ]
            ],
            "type": "surface"
           }
          ],
          "table": [
           {
            "cells": {
             "fill": {
              "color": "#EBF0F8"
             },
             "line": {
              "color": "white"
             }
            },
            "header": {
             "fill": {
              "color": "#C8D4E3"
             },
             "line": {
              "color": "white"
             }
            },
            "type": "table"
           }
          ]
         },
         "layout": {
          "annotationdefaults": {
           "arrowcolor": "#2a3f5f",
           "arrowhead": 0,
           "arrowwidth": 1
          },
          "autotypenumbers": "strict",
          "coloraxis": {
           "colorbar": {
            "outlinewidth": 0,
            "ticks": ""
           }
          },
          "colorscale": {
           "diverging": [
            [
             0,
             "#8e0152"
            ],
            [
             0.1,
             "#c51b7d"
            ],
            [
             0.2,
             "#de77ae"
            ],
            [
             0.3,
             "#f1b6da"
            ],
            [
             0.4,
             "#fde0ef"
            ],
            [
             0.5,
             "#f7f7f7"
            ],
            [
             0.6,
             "#e6f5d0"
            ],
            [
             0.7,
             "#b8e186"
            ],
            [
             0.8,
             "#7fbc41"
            ],
            [
             0.9,
             "#4d9221"
            ],
            [
             1,
             "#276419"
            ]
           ],
           "sequential": [
            [
             0,
             "#0d0887"
            ],
            [
             0.1111111111111111,
             "#46039f"
            ],
            [
             0.2222222222222222,
             "#7201a8"
            ],
            [
             0.3333333333333333,
             "#9c179e"
            ],
            [
             0.4444444444444444,
             "#bd3786"
            ],
            [
             0.5555555555555556,
             "#d8576b"
            ],
            [
             0.6666666666666666,
             "#ed7953"
            ],
            [
             0.7777777777777778,
             "#fb9f3a"
            ],
            [
             0.8888888888888888,
             "#fdca26"
            ],
            [
             1,
             "#f0f921"
            ]
           ],
           "sequentialminus": [
            [
             0,
             "#0d0887"
            ],
            [
             0.1111111111111111,
             "#46039f"
            ],
            [
             0.2222222222222222,
             "#7201a8"
            ],
            [
             0.3333333333333333,
             "#9c179e"
            ],
            [
             0.4444444444444444,
             "#bd3786"
            ],
            [
             0.5555555555555556,
             "#d8576b"
            ],
            [
             0.6666666666666666,
             "#ed7953"
            ],
            [
             0.7777777777777778,
             "#fb9f3a"
            ],
            [
             0.8888888888888888,
             "#fdca26"
            ],
            [
             1,
             "#f0f921"
            ]
           ]
          },
          "colorway": [
           "#636efa",
           "#EF553B",
           "#00cc96",
           "#ab63fa",
           "#FFA15A",
           "#19d3f3",
           "#FF6692",
           "#B6E880",
           "#FF97FF",
           "#FECB52"
          ],
          "font": {
           "color": "#2a3f5f"
          },
          "geo": {
           "bgcolor": "white",
           "lakecolor": "white",
           "landcolor": "#E5ECF6",
           "showlakes": true,
           "showland": true,
           "subunitcolor": "white"
          },
          "hoverlabel": {
           "align": "left"
          },
          "hovermode": "closest",
          "mapbox": {
           "style": "light"
          },
          "paper_bgcolor": "white",
          "plot_bgcolor": "#E5ECF6",
          "polar": {
           "angularaxis": {
            "gridcolor": "white",
            "linecolor": "white",
            "ticks": ""
           },
           "bgcolor": "#E5ECF6",
           "radialaxis": {
            "gridcolor": "white",
            "linecolor": "white",
            "ticks": ""
           }
          },
          "scene": {
           "xaxis": {
            "backgroundcolor": "#E5ECF6",
            "gridcolor": "white",
            "gridwidth": 2,
            "linecolor": "white",
            "showbackground": true,
            "ticks": "",
            "zerolinecolor": "white"
           },
           "yaxis": {
            "backgroundcolor": "#E5ECF6",
            "gridcolor": "white",
            "gridwidth": 2,
            "linecolor": "white",
            "showbackground": true,
            "ticks": "",
            "zerolinecolor": "white"
           },
           "zaxis": {
            "backgroundcolor": "#E5ECF6",
            "gridcolor": "white",
            "gridwidth": 2,
            "linecolor": "white",
            "showbackground": true,
            "ticks": "",
            "zerolinecolor": "white"
           }
          },
          "shapedefaults": {
           "line": {
            "color": "#2a3f5f"
           }
          },
          "ternary": {
           "aaxis": {
            "gridcolor": "white",
            "linecolor": "white",
            "ticks": ""
           },
           "baxis": {
            "gridcolor": "white",
            "linecolor": "white",
            "ticks": ""
           },
           "bgcolor": "#E5ECF6",
           "caxis": {
            "gridcolor": "white",
            "linecolor": "white",
            "ticks": ""
           }
          },
          "title": {
           "x": 0.05
          },
          "xaxis": {
           "automargin": true,
           "gridcolor": "white",
           "linecolor": "white",
           "ticks": "",
           "title": {
            "standoff": 15
           },
           "zerolinecolor": "white",
           "zerolinewidth": 2
          },
          "yaxis": {
           "automargin": true,
           "gridcolor": "white",
           "linecolor": "white",
           "ticks": "",
           "title": {
            "standoff": 15
           },
           "zerolinecolor": "white",
           "zerolinewidth": 2
          }
         }
        },
        "title": {
         "text": "duration ~ kind"
        },
        "xaxis": {
         "anchor": "y",
         "categoryarray": [
          "short",
          "long"
         ],
         "categoryorder": "array",
         "domain": [
          0,
          1
         ],
         "title": {
          "text": "kind"
         }
        },
        "yaxis": {
         "anchor": "x",
         "domain": [
          0,
          1
         ],
         "title": {
          "text": "duration"
         }
        }
       }
      },
      "text/html": [
       "<div>                            <div id=\"96d984b0-1a31-4236-8770-a544306cc05f\" class=\"plotly-graph-div\" style=\"height:525px; width:100%;\"></div>            <script type=\"text/javascript\">                require([\"plotly\"], function(Plotly) {                    window.PLOTLYENV=window.PLOTLYENV || {};                                    if (document.getElementById(\"96d984b0-1a31-4236-8770-a544306cc05f\")) {                    Plotly.newPlot(                        \"96d984b0-1a31-4236-8770-a544306cc05f\",                        [{\"alignmentgroup\":\"True\",\"hovertemplate\":\"kind=%{x}\\u003cbr\\u003eduration=%{y}\\u003cextra\\u003e\\u003c\\u002fextra\\u003e\",\"legendgroup\":\"\",\"marker\":{\"color\":\"#636efa\"},\"name\":\"\",\"notched\":false,\"offsetgroup\":\"\",\"orientation\":\"v\",\"showlegend\":false,\"x\":[\"long\",\"short\",\"long\",\"short\",\"long\",\"short\",\"long\",\"long\",\"short\",\"long\",\"short\",\"long\",\"long\",\"short\",\"long\",\"short\",\"short\",\"long\",\"short\",\"long\",\"short\",\"short\",\"long\",\"long\",\"long\",\"long\",\"short\",\"long\",\"long\",\"long\",\"long\",\"long\",\"short\",\"long\",\"long\",\"short\",\"short\",\"long\",\"short\",\"long\",\"long\",\"short\",\"long\",\"short\",\"long\",\"long\",\"short\",\"short\",\"long\",\"short\",\"long\",\"long\",\"short\",\"long\",\"short\",\"long\",\"long\",\"short\",\"long\",\"long\",\"short\",\"long\",\"short\",\"long\",\"short\",\"long\",\"long\",\"long\",\"short\",\"long\",\"long\",\"short\",\"long\",\"long\",\"short\",\"long\",\"short\",\"long\",\"long\",\"long\",\"long\",\"long\",\"long\",\"short\",\"long\",\"long\",\"long\",\"long\",\"short\",\"long\",\"short\",\"long\",\"short\",\"long\",\"short\",\"long\",\"long\",\"long\",\"short\",\"long\",\"short\",\"long\",\"short\",\"long\",\"long\",\"short\",\"long\",\"short\",\"long\",\"long\",\"long\",\"short\",\"long\",\"long\",\"short\",\"long\",\"short\",\"long\",\"short\",\"long\",\"short\",\"long\",\"long\",\"short\",\"long\",\"long\",\"short\",\"long\",\"short\",\"long\",\"short\",\"long\",\"short\",\"long\",\"short\",\"long\",\"short\",\"long\",\"short\",\"long\",\"long\",\"short\",\"long\",\"long\",\"long\",\"short\",\"long\",\"short\",\"long\",\"short\",\"long\",\"long\",\"short\",\"long\",\"long\",\"long\",\"long\",\"long\",\"short\",\"long\",\"short\",\"long\",\"short\",\"long\",\"short\",\"long\",\"short\",\"long\",\"short\",\"long\",\"short\",\"short\",\"long\",\"long\",\"long\",\"long\",\"long\",\"short\",\"long\",\"long\",\"short\",\"long\",\"long\",\"long\",\"short\",\"long\",\"long\",\"short\",\"long\",\"short\",\"long\",\"short\",\"long\",\"long\",\"long\",\"long\",\"long\",\"long\",\"short\",\"long\",\"short\",\"long\",\"long\",\"short\",\"long\",\"short\",\"long\",\"long\",\"short\",\"long\",\"long\",\"long\",\"short\",\"long\",\"short\",\"long\",\"short\",\"long\",\"short\",\"long\",\"short\",\"long\",\"short\",\"long\",\"long\",\"long\",\"long\",\"long\",\"long\",\"long\",\"long\",\"short\",\"long\",\"short\",\"long\",\"short\",\"short\",\"long\",\"long\",\"short\",\"long\",\"short\",\"long\",\"short\",\"long\",\"long\",\"short\",\"long\",\"short\",\"long\",\"short\",\"long\",\"long\",\"long\",\"long\",\"long\",\"long\",\"long\",\"short\",\"long\",\"long\",\"long\",\"short\",\"long\",\"short\",\"short\",\"long\",\"long\",\"short\",\"long\",\"short\",\"long\"],\"x0\":\" \",\"xaxis\":\"x\",\"y\":[3.6,1.8,3.333,2.283,4.533,2.883,4.7,3.6,1.95,4.35,1.833,3.917,4.2,1.75,4.7,2.167,1.75,4.8,1.6,4.25,1.8,1.75,3.45,3.0669999999999997,4.533,3.6,1.967,4.083,3.85,4.433,4.3,4.467,3.367,4.033,3.833,2.017,1.867,4.833,1.833,4.783,4.35,1.883,4.567,1.75,4.533,3.3169999999999997,3.833,2.1,4.633,2.0,4.8,4.716,1.833,4.833,1.733,4.883,3.717,1.6669999999999998,4.567,4.317,2.233,4.5,1.75,4.8,1.817,4.4,4.167,4.7,2.0669999999999997,4.7,4.033,1.967,4.5,4.0,1.983,5.067,2.017,4.567,3.883,3.6,4.133,4.333,4.1,2.633,4.067,4.933,3.95,4.5169999999999995,2.167,4.0,2.2,4.333,1.867,4.817,1.833,4.3,4.667,3.75,1.867,4.9,2.483,4.367,2.1,4.5,4.05,1.867,4.7,1.783,4.85,3.683,4.7330000000000005,2.3,4.9,4.417,1.7,4.633,2.3169999999999997,4.6,1.817,4.417,2.617,4.067,4.25,1.967,4.6,3.767,1.917,4.5,2.267,4.65,1.867,4.167,2.8,4.333,1.833,4.383,1.883,4.933,2.033,3.733,4.2330000000000005,2.233,4.533,4.817,4.333,1.983,4.633,2.017,5.1,1.8,5.033,4.0,2.4,4.6,3.5669999999999997,4.0,4.5,4.083,1.8,3.967,2.2,4.15,2.0,3.833,3.5,4.583,2.367,5.0,1.933,4.617,1.917,2.083,4.583,3.333,4.167,4.333,4.5,2.417,4.0,4.167,1.883,4.583,4.25,3.767,2.033,4.433,4.083,1.833,4.417,2.1830000000000003,4.8,1.833,4.8,4.1,3.966,4.2330000000000005,3.5,4.3660000000000005,2.25,4.667,2.1,4.35,4.133,1.867,4.6,1.783,4.367,3.85,1.933,4.5,2.383,4.7,1.867,3.833,3.417,4.2330000000000005,2.4,4.8,2.0,4.15,1.867,4.2669999999999995,1.75,4.4830000000000005,4.0,4.117,4.083,4.2669999999999995,3.917,4.55,4.083,2.417,4.183,2.217,4.45,1.883,1.85,4.283,3.95,2.333,4.15,2.35,4.933,2.9,4.583,3.833,2.083,4.367,2.133,4.35,2.2,4.45,3.5669999999999997,4.5,4.15,3.817,3.917,4.45,2.0,4.283,4.7669999999999995,4.533,1.85,4.25,1.983,2.25,4.75,4.117,2.15,4.417,1.817,4.467],\"y0\":\" \",\"yaxis\":\"y\",\"type\":\"box\"}],                        {\"template\":{\"data\":{\"histogram2dcontour\":[{\"type\":\"histogram2dcontour\",\"colorbar\":{\"outlinewidth\":0,\"ticks\":\"\"},\"colorscale\":[[0.0,\"#0d0887\"],[0.1111111111111111,\"#46039f\"],[0.2222222222222222,\"#7201a8\"],[0.3333333333333333,\"#9c179e\"],[0.4444444444444444,\"#bd3786\"],[0.5555555555555556,\"#d8576b\"],[0.6666666666666666,\"#ed7953\"],[0.7777777777777778,\"#fb9f3a\"],[0.8888888888888888,\"#fdca26\"],[1.0,\"#f0f921\"]]}],\"choropleth\":[{\"type\":\"choropleth\",\"colorbar\":{\"outlinewidth\":0,\"ticks\":\"\"}}],\"histogram2d\":[{\"type\":\"histogram2d\",\"colorbar\":{\"outlinewidth\":0,\"ticks\":\"\"},\"colorscale\":[[0.0,\"#0d0887\"],[0.1111111111111111,\"#46039f\"],[0.2222222222222222,\"#7201a8\"],[0.3333333333333333,\"#9c179e\"],[0.4444444444444444,\"#bd3786\"],[0.5555555555555556,\"#d8576b\"],[0.6666666666666666,\"#ed7953\"],[0.7777777777777778,\"#fb9f3a\"],[0.8888888888888888,\"#fdca26\"],[1.0,\"#f0f921\"]]}],\"heatmap\":[{\"type\":\"heatmap\",\"colorbar\":{\"outlinewidth\":0,\"ticks\":\"\"},\"colorscale\":[[0.0,\"#0d0887\"],[0.1111111111111111,\"#46039f\"],[0.2222222222222222,\"#7201a8\"],[0.3333333333333333,\"#9c179e\"],[0.4444444444444444,\"#bd3786\"],[0.5555555555555556,\"#d8576b\"],[0.6666666666666666,\"#ed7953\"],[0.7777777777777778,\"#fb9f3a\"],[0.8888888888888888,\"#fdca26\"],[1.0,\"#f0f921\"]]}],\"heatmapgl\":[{\"type\":\"heatmapgl\",\"colorbar\":{\"outlinewidth\":0,\"ticks\":\"\"},\"colorscale\":[[0.0,\"#0d0887\"],[0.1111111111111111,\"#46039f\"],[0.2222222222222222,\"#7201a8\"],[0.3333333333333333,\"#9c179e\"],[0.4444444444444444,\"#bd3786\"],[0.5555555555555556,\"#d8576b\"],[0.6666666666666666,\"#ed7953\"],[0.7777777777777778,\"#fb9f3a\"],[0.8888888888888888,\"#fdca26\"],[1.0,\"#f0f921\"]]}],\"contourcarpet\":[{\"type\":\"contourcarpet\",\"colorbar\":{\"outlinewidth\":0,\"ticks\":\"\"}}],\"contour\":[{\"type\":\"contour\",\"colorbar\":{\"outlinewidth\":0,\"ticks\":\"\"},\"colorscale\":[[0.0,\"#0d0887\"],[0.1111111111111111,\"#46039f\"],[0.2222222222222222,\"#7201a8\"],[0.3333333333333333,\"#9c179e\"],[0.4444444444444444,\"#bd3786\"],[0.5555555555555556,\"#d8576b\"],[0.6666666666666666,\"#ed7953\"],[0.7777777777777778,\"#fb9f3a\"],[0.8888888888888888,\"#fdca26\"],[1.0,\"#f0f921\"]]}],\"surface\":[{\"type\":\"surface\",\"colorbar\":{\"outlinewidth\":0,\"ticks\":\"\"},\"colorscale\":[[0.0,\"#0d0887\"],[0.1111111111111111,\"#46039f\"],[0.2222222222222222,\"#7201a8\"],[0.3333333333333333,\"#9c179e\"],[0.4444444444444444,\"#bd3786\"],[0.5555555555555556,\"#d8576b\"],[0.6666666666666666,\"#ed7953\"],[0.7777777777777778,\"#fb9f3a\"],[0.8888888888888888,\"#fdca26\"],[1.0,\"#f0f921\"]]}],\"mesh3d\":[{\"type\":\"mesh3d\",\"colorbar\":{\"outlinewidth\":0,\"ticks\":\"\"}}],\"scatter\":[{\"fillpattern\":{\"fillmode\":\"overlay\",\"size\":10,\"solidity\":0.2},\"type\":\"scatter\"}],\"parcoords\":[{\"type\":\"parcoords\",\"line\":{\"colorbar\":{\"outlinewidth\":0,\"ticks\":\"\"}}}],\"scatterpolargl\":[{\"type\":\"scatterpolargl\",\"marker\":{\"colorbar\":{\"outlinewidth\":0,\"ticks\":\"\"}}}],\"bar\":[{\"error_x\":{\"color\":\"#2a3f5f\"},\"error_y\":{\"color\":\"#2a3f5f\"},\"marker\":{\"line\":{\"color\":\"#E5ECF6\",\"width\":0.5},\"pattern\":{\"fillmode\":\"overlay\",\"size\":10,\"solidity\":0.2}},\"type\":\"bar\"}],\"scattergeo\":[{\"type\":\"scattergeo\",\"marker\":{\"colorbar\":{\"outlinewidth\":0,\"ticks\":\"\"}}}],\"scatterpolar\":[{\"type\":\"scatterpolar\",\"marker\":{\"colorbar\":{\"outlinewidth\":0,\"ticks\":\"\"}}}],\"histogram\":[{\"marker\":{\"pattern\":{\"fillmode\":\"overlay\",\"size\":10,\"solidity\":0.2}},\"type\":\"histogram\"}],\"scattergl\":[{\"type\":\"scattergl\",\"marker\":{\"colorbar\":{\"outlinewidth\":0,\"ticks\":\"\"}}}],\"scatter3d\":[{\"type\":\"scatter3d\",\"line\":{\"colorbar\":{\"outlinewidth\":0,\"ticks\":\"\"}},\"marker\":{\"colorbar\":{\"outlinewidth\":0,\"ticks\":\"\"}}}],\"scattermapbox\":[{\"type\":\"scattermapbox\",\"marker\":{\"colorbar\":{\"outlinewidth\":0,\"ticks\":\"\"}}}],\"scatterternary\":[{\"type\":\"scatterternary\",\"marker\":{\"colorbar\":{\"outlinewidth\":0,\"ticks\":\"\"}}}],\"scattercarpet\":[{\"type\":\"scattercarpet\",\"marker\":{\"colorbar\":{\"outlinewidth\":0,\"ticks\":\"\"}}}],\"carpet\":[{\"aaxis\":{\"endlinecolor\":\"#2a3f5f\",\"gridcolor\":\"white\",\"linecolor\":\"white\",\"minorgridcolor\":\"white\",\"startlinecolor\":\"#2a3f5f\"},\"baxis\":{\"endlinecolor\":\"#2a3f5f\",\"gridcolor\":\"white\",\"linecolor\":\"white\",\"minorgridcolor\":\"white\",\"startlinecolor\":\"#2a3f5f\"},\"type\":\"carpet\"}],\"table\":[{\"cells\":{\"fill\":{\"color\":\"#EBF0F8\"},\"line\":{\"color\":\"white\"}},\"header\":{\"fill\":{\"color\":\"#C8D4E3\"},\"line\":{\"color\":\"white\"}},\"type\":\"table\"}],\"barpolar\":[{\"marker\":{\"line\":{\"color\":\"#E5ECF6\",\"width\":0.5},\"pattern\":{\"fillmode\":\"overlay\",\"size\":10,\"solidity\":0.2}},\"type\":\"barpolar\"}],\"pie\":[{\"automargin\":true,\"type\":\"pie\"}]},\"layout\":{\"autotypenumbers\":\"strict\",\"colorway\":[\"#636efa\",\"#EF553B\",\"#00cc96\",\"#ab63fa\",\"#FFA15A\",\"#19d3f3\",\"#FF6692\",\"#B6E880\",\"#FF97FF\",\"#FECB52\"],\"font\":{\"color\":\"#2a3f5f\"},\"hovermode\":\"closest\",\"hoverlabel\":{\"align\":\"left\"},\"paper_bgcolor\":\"white\",\"plot_bgcolor\":\"#E5ECF6\",\"polar\":{\"bgcolor\":\"#E5ECF6\",\"angularaxis\":{\"gridcolor\":\"white\",\"linecolor\":\"white\",\"ticks\":\"\"},\"radialaxis\":{\"gridcolor\":\"white\",\"linecolor\":\"white\",\"ticks\":\"\"}},\"ternary\":{\"bgcolor\":\"#E5ECF6\",\"aaxis\":{\"gridcolor\":\"white\",\"linecolor\":\"white\",\"ticks\":\"\"},\"baxis\":{\"gridcolor\":\"white\",\"linecolor\":\"white\",\"ticks\":\"\"},\"caxis\":{\"gridcolor\":\"white\",\"linecolor\":\"white\",\"ticks\":\"\"}},\"coloraxis\":{\"colorbar\":{\"outlinewidth\":0,\"ticks\":\"\"}},\"colorscale\":{\"sequential\":[[0.0,\"#0d0887\"],[0.1111111111111111,\"#46039f\"],[0.2222222222222222,\"#7201a8\"],[0.3333333333333333,\"#9c179e\"],[0.4444444444444444,\"#bd3786\"],[0.5555555555555556,\"#d8576b\"],[0.6666666666666666,\"#ed7953\"],[0.7777777777777778,\"#fb9f3a\"],[0.8888888888888888,\"#fdca26\"],[1.0,\"#f0f921\"]],\"sequentialminus\":[[0.0,\"#0d0887\"],[0.1111111111111111,\"#46039f\"],[0.2222222222222222,\"#7201a8\"],[0.3333333333333333,\"#9c179e\"],[0.4444444444444444,\"#bd3786\"],[0.5555555555555556,\"#d8576b\"],[0.6666666666666666,\"#ed7953\"],[0.7777777777777778,\"#fb9f3a\"],[0.8888888888888888,\"#fdca26\"],[1.0,\"#f0f921\"]],\"diverging\":[[0,\"#8e0152\"],[0.1,\"#c51b7d\"],[0.2,\"#de77ae\"],[0.3,\"#f1b6da\"],[0.4,\"#fde0ef\"],[0.5,\"#f7f7f7\"],[0.6,\"#e6f5d0\"],[0.7,\"#b8e186\"],[0.8,\"#7fbc41\"],[0.9,\"#4d9221\"],[1,\"#276419\"]]},\"xaxis\":{\"gridcolor\":\"white\",\"linecolor\":\"white\",\"ticks\":\"\",\"title\":{\"standoff\":15},\"zerolinecolor\":\"white\",\"automargin\":true,\"zerolinewidth\":2},\"yaxis\":{\"gridcolor\":\"white\",\"linecolor\":\"white\",\"ticks\":\"\",\"title\":{\"standoff\":15},\"zerolinecolor\":\"white\",\"automargin\":true,\"zerolinewidth\":2},\"scene\":{\"xaxis\":{\"backgroundcolor\":\"#E5ECF6\",\"gridcolor\":\"white\",\"linecolor\":\"white\",\"showbackground\":true,\"ticks\":\"\",\"zerolinecolor\":\"white\",\"gridwidth\":2},\"yaxis\":{\"backgroundcolor\":\"#E5ECF6\",\"gridcolor\":\"white\",\"linecolor\":\"white\",\"showbackground\":true,\"ticks\":\"\",\"zerolinecolor\":\"white\",\"gridwidth\":2},\"zaxis\":{\"backgroundcolor\":\"#E5ECF6\",\"gridcolor\":\"white\",\"linecolor\":\"white\",\"showbackground\":true,\"ticks\":\"\",\"zerolinecolor\":\"white\",\"gridwidth\":2}},\"shapedefaults\":{\"line\":{\"color\":\"#2a3f5f\"}},\"annotationdefaults\":{\"arrowcolor\":\"#2a3f5f\",\"arrowhead\":0,\"arrowwidth\":1},\"geo\":{\"bgcolor\":\"white\",\"landcolor\":\"#E5ECF6\",\"subunitcolor\":\"white\",\"showland\":true,\"showlakes\":true,\"lakecolor\":\"white\"},\"title\":{\"x\":0.05},\"mapbox\":{\"style\":\"light\"}}},\"xaxis\":{\"anchor\":\"y\",\"domain\":[0.0,1.0],\"title\":{\"text\":\"kind\"},\"categoryorder\":\"array\",\"categoryarray\":[\"short\",\"long\"]},\"yaxis\":{\"anchor\":\"x\",\"domain\":[0.0,1.0],\"title\":{\"text\":\"duration\"}},\"legend\":{\"tracegroupgap\":0},\"title\":{\"text\":\"duration ~ kind\"},\"boxmode\":\"group\"},                        {\"responsive\": true}                    ).then(function(){\n",
       "                            \n",
       "var gd = document.getElementById('96d984b0-1a31-4236-8770-a544306cc05f');\n",
       "var x = new MutationObserver(function (mutations, observer) {{\n",
       "        var display = window.getComputedStyle(gd).display;\n",
       "        if (!display || display === 'none') {{\n",
       "            console.log([gd, 'removed!']);\n",
       "            Plotly.purge(gd);\n",
       "            observer.disconnect();\n",
       "        }}\n",
       "}});\n",
       "\n",
       "// Listen for the removal of the full notebook cells\n",
       "var notebookContainer = gd.closest('#notebook-container');\n",
       "if (notebookContainer) {{\n",
       "    x.observe(notebookContainer, {childList: true});\n",
       "}}\n",
       "\n",
       "// Listen for the clearing of the current output cell\n",
       "var outputEl = gd.closest('.output');\n",
       "if (outputEl) {{\n",
       "    x.observe(outputEl, {childList: true});\n",
       "}}\n",
       "\n",
       "                        })                };                });            </script>        </div>"
      ]
     },
     "metadata": {},
     "output_type": "display_data"
    }
   ],
   "source": [
    "from IPython.display import display\n",
    "\n",
    "display(smf.ols('duration ~ C(kind, Treatment(reference=\"short\"))', data=old_faithful).fit().summary().tables[1])\n",
    "\n",
    "fig = px.box(old_faithful, x='kind', y='duration', \n",
    "             title='duration ~ kind',\n",
    "             category_orders={'kind': ['short', 'long']})\n",
    "fig.show() # USE `fig.show(renderer=\"png\")` FOR ALL GitHub and MarkUs SUBMISSIONS"
   ]
  },
  {
   "cell_type": "markdown",
   "id": "0f288839",
   "metadata": {},
   "source": [
    "12. As discussed in question 2 of the **Communication Activity #2** of the Oct25 TUT (addressing an **omitted** section of the TUT), the assumption in **Simple Linear Regression** that the **error** terms $\\epsilon_i \\sim \\mathcal N\\left(0, \\sigma\\right)$ is diagnostically assessed by evaluating distributional shape of the **residuals** $\\text{e}_i = \\hat \\epsilon_i = y_i - \\hat y_i$\n",
    "\n",
    "  Which of the histograms suggests plausibility of the assumption that the distribution of **error** terms is normal for each of the models, and why don't the other three?"
   ]
  },
  {
   "cell_type": "code",
   "execution_count": 313,
   "id": "337e3a5f",
   "metadata": {},
   "outputs": [
    {
     "data": {
      "application/vnd.plotly.v1+json": {
       "config": {
        "plotlyServerURL": "https://plot.ly"
       },
       "data": [
        {
         "histnorm": "probability density",
         "name": "<br>Model 1:<br>All Data using slope",
         "type": "histogram",
         "x": [
          -0.500591901786414,
          -0.4098932029898472,
          -0.38945216202710053,
          -0.5319167866047487,
          -0.02135958949758976,
          0.5974788490582901,
          -0.08124343335317796,
          -0.95435958949759,
          -0.033009359134259286,
          -0.20435958949759048,
          -0.3768932029898473,
          -0.5617316415457276,
          0.17503604616544877,
          0.06950243267319145,
          0.2968963064061354,
          0.1083626929138779,
          -1.0649167866047486,
          0.3212683584542724,
          -0.4586373070861218,
          0.14940809821358592,
          -0.1830093591342592,
          0.06950243267319145,
          -0.5749639538345512,
          -0.27731242226778763,
          0.8105478379728996,
          -0.8031036935938647,
          -0.31852115094170985,
          0.20929194206917412,
          -0.17496395383455132,
          0.33240809821358575,
          0.6531757859247618,
          0.5176639941173109,
          0.24957142158780066,
          -0.1432198497382764,
          0.11054783797289947,
          -0.04163730708612201,
          0.11087448472132877,
          0.6567801502617234,
          -0.7550329427491607,
          -0.14949932925690312,
          0.1737801502617229,
          -0.629404994797298,
          0.08826835845427272,
          -0.762404994797298,
          0.8861757859247623,
          -1.086103693593865,
          0.8668273174915262,
          -0.0342652550379845,
          0.3055242543579979,
          -0.5880329427491606,
          1.0019198900210364,
          -0.2164993292569033,
          -0.3768932029898473,
          0.6567801502617234,
          -0.47689320298984716,
          0.47989630640613523,
          0.22143168182848738,
          -1.2991726825084742,
          0.6176639941173114,
          0.06515220230986074,
          -0.35503294274916053,
          0.02126835845427255,
          -0.006125515278671223,
          0.4725242543579977,
          -0.8466608907010233,
          -0.6837552251606285,
          0.1420360461654484,
          0.6750360461654488,
          -0.9748006304603369,
          1.0531757859247621,
          -0.29447574564200174,
          -0.3941490988935725,
          0.3994080982135859,
          0.5044316818284873,
          -0.8319167866047485,
          1.193291942069174,
          -0.6466608907010234,
          0.5420360461654488,
          0.009291942069173942,
          -0.8031036935938647,
          0.3349198900210366,
          0.005524254357998082,
          0.6800596297803496,
          -0.40880063046033666,
          0.4201757859247621,
          0.1517565666468217,
          0.07629194206917411,
          0.3407801502617227,
          0.4108744847213286,
          -0.6299875374494528,
          -0.4636608907010231,
          -0.5994993292569033,
          -0.040381411182396576,
          0.7920360461654488,
          -1.0575447345566114,
          0.7288037338766244,
          0.18826835845427237,
          -0.04808010997896339,
          -0.11600935913425925,
          0.5725242543579983,
          -0.33191678660474855,
          -0.41424343335317815,
          0.2682465367694662,
          0.09689630640613522,
          -0.2018477976901396,
          0.18650243267319144,
          0.22126835845427273,
          -0.275637307086122,
          0.22001246255054685,
          -0.5688477976901396,
          0.9349198900210371,
          -0.2880329427491608,
          0.04312861869495954,
          0.31640809821358573,
          -0.8880329427491607,
          0.3811522023098606,
          0.40961858881760316,
          0.04564041050240952,
          -0.7710329427491607,
          -0.28861548540131565,
          0.4827347449620154,
          0.7226875777322128,
          0.30066399411731126,
          -0.3941490988935725,
          -0.1812434333531785,
          -0.4848477976901395,
          0.38775832857691683,
          0.1725242543579979,
          -0.01852115094171003,
          -0.28249932925690313,
          0.3377583285769168,
          -0.23610369359386496,
          0.4388509011064272,
          -0.5238713813050406,
          0.22813038062505409,
          0.055524254357997904,
          -0.10000935913425923,
          0.30301246255054703,
          -0.10126525503798467,
          -0.367591901786414,
          -0.01884779769013889,
          -0.4306608907010232,
          0.20552425435799826,
          0.8676639941173114,
          0.4592919420691741,
          -0.6050329427491605,
          0.45678015026172325,
          0.185246536769466,
          -0.2862670169680799,
          -0.33426525503798454,
          1.0836639941173116,
          0.05066399411731126,
          -0.6418006304603368,
          0.3481522023098602,
          0.07143168182848703,
          0.58005962978035,
          0.24815220230986057,
          -1.0763831731124913,
          -0.33426525503798454,
          -0.8898713813050407,
          0.670758328576917,
          -0.47998753744945244,
          -0.512404994797298,
          -0.19196395383455123,
          0.38257142158780066,
          0.7092919420691741,
          -0.5235447345566113,
          0.21875656664682186,
          -0.12563730708612186,
          -0.5423831731124915,
          0.08524653676946614,
          -0.3537770468454351,
          0.6336639941173114,
          0.0643155256840755,
          -0.08484779769013961,
          0.08115220230986075,
          0.853175785924762,
          0.5096185888176032,
          -0.5543595894975901,
          0.4445478379728991,
          -0.4025211509417099,
          0.6336639941173114,
          -0.15310369359386478,
          -0.6361036935938649,
          0.049990640865740676,
          0.4080360461654484,
          -0.39573164154572726,
          0.22813038062505409,
          0.01389630640613504,
          -0.10252115094170966,
          0.5481522023098604,
          -0.6037770468454353,
          0.9262919420691738,
          -0.3787316415457278,
          0.016663994117311454,
          -0.01884779769013889,
          -1.2056154854013155,
          0.4166639941173118,
          0.26699064086574076,
          0.6420360461654484,
          -0.5636608907010232,
          0.022524254357997542,
          -0.8751272772087662,
          -0.2672652550379846,
          0.5750360461654482,
          0.17813038062505404,
          0.41766399411731125,
          -0.6287316415457274,
          0.10124653676946616,
          0.09689630640613522,
          -1.1125683181715127,
          0.5237801502617234,
          0.0352465367694661,
          0.03491989002103679,
          0.4508273174915258,
          0.3592919420691745,
          0.2657347449620153,
          -0.43501112106435436,
          -0.28552115094170993,
          0.2762919420691743,
          -0.040381411182396576,
          -0.06047574564200264,
          -0.45989320298984726,
          0.6849198900210371,
          -0.02496395383455141,
          0.01640809821358591,
          0.058036046165448774,
          0.24203604616544805,
          0.4970596297803498,
          0.44940809821358574,
          0.6630596297803502,
          0.20710679701015255,
          -0.44698753744945297,
          0.3096185888176035,
          -0.4824993292569033,
          -0.32689320298984725,
          -0.35989320298984717,
          0.3336639941173116,
          -0.1505919017864139,
          -0.6331726825084738,
          0.35191989002103696,
          0.6695024326731915,
          0.30301246255054703,
          0.009455265443388594,
          0.028640410502410063,
          -0.4944757456420019,
          -0.3537770468454351,
          0.03952425435799789,
          -1.060056526364062,
          0.6275478379728989,
          -0.009893202989847083,
          0.0468963064061354,
          -0.07982421407523832,
          0.853175785924762,
          -0.6312434333531778,
          -0.3592198497382766,
          0.4214316818284871,
          0.0468963064061354,
          -0.3611490988935726,
          0.18240809821358628,
          0.742036046165448,
          0.054268358454272914,
          -0.6624049947972979,
          -0.15310369359386478,
          0.6050142244806422,
          -0.4136608907010233,
          0.9519198900210366,
          -0.13484779769013944,
          0.545130380625054,
          -0.5154993292569037,
          0.21213038062505407,
          0.7445478379728989
         ],
         "xaxis": "x",
         "xbins": {
          "end": 1.95,
          "size": 0.3,
          "start": -1.95
         },
         "yaxis": "y"
        },
        {
         "line": {
          "color": "black",
          "dash": "dot",
          "width": 2
         },
         "mode": "lines",
         "name": "Normal Distribution<br>(99.7% of its area)",
         "opacity": 0.5,
         "type": "scatter",
         "x": [
          -1.4867880403088833,
          -1.4767880403088833,
          -1.4667880403088833,
          -1.4567880403088833,
          -1.4467880403088833,
          -1.4367880403088833,
          -1.4267880403088833,
          -1.4167880403088833,
          -1.4067880403088833,
          -1.3967880403088833,
          -1.3867880403088833,
          -1.3767880403088832,
          -1.3667880403088832,
          -1.3567880403088832,
          -1.3467880403088832,
          -1.3367880403088832,
          -1.3267880403088832,
          -1.3167880403088832,
          -1.3067880403088832,
          -1.2967880403088832,
          -1.2867880403088832,
          -1.2767880403088832,
          -1.2667880403088831,
          -1.2567880403088831,
          -1.2467880403088831,
          -1.2367880403088831,
          -1.226788040308883,
          -1.216788040308883,
          -1.206788040308883,
          -1.196788040308883,
          -1.186788040308883,
          -1.176788040308883,
          -1.166788040308883,
          -1.156788040308883,
          -1.146788040308883,
          -1.136788040308883,
          -1.126788040308883,
          -1.116788040308883,
          -1.106788040308883,
          -1.096788040308883,
          -1.086788040308883,
          -1.076788040308883,
          -1.066788040308883,
          -1.056788040308883,
          -1.046788040308883,
          -1.036788040308883,
          -1.026788040308883,
          -1.016788040308883,
          -1.006788040308883,
          -0.9967880403088829,
          -0.9867880403088829,
          -0.9767880403088829,
          -0.9667880403088829,
          -0.9567880403088829,
          -0.9467880403088829,
          -0.9367880403088829,
          -0.9267880403088828,
          -0.9167880403088828,
          -0.9067880403088828,
          -0.8967880403088828,
          -0.8867880403088828,
          -0.8767880403088828,
          -0.8667880403088828,
          -0.8567880403088828,
          -0.8467880403088828,
          -0.8367880403088828,
          -0.8267880403088828,
          -0.8167880403088827,
          -0.8067880403088827,
          -0.7967880403088827,
          -0.7867880403088827,
          -0.7767880403088827,
          -0.7667880403088827,
          -0.7567880403088827,
          -0.7467880403088827,
          -0.7367880403088827,
          -0.7267880403088827,
          -0.7167880403088827,
          -0.7067880403088826,
          -0.6967880403088826,
          -0.6867880403088826,
          -0.6767880403088826,
          -0.6667880403088826,
          -0.6567880403088826,
          -0.6467880403088826,
          -0.6367880403088826,
          -0.6267880403088826,
          -0.6167880403088826,
          -0.6067880403088826,
          -0.5967880403088826,
          -0.5867880403088825,
          -0.5767880403088825,
          -0.5667880403088825,
          -0.5567880403088825,
          -0.5467880403088825,
          -0.5367880403088825,
          -0.5267880403088825,
          -0.5167880403088825,
          -0.5067880403088825,
          -0.49678804030888246,
          -0.48678804030888245,
          -0.47678804030888244,
          -0.46678804030888243,
          -0.4567880403088824,
          -0.4467880403088824,
          -0.4367880403088824,
          -0.4267880403088824,
          -0.4167880403088824,
          -0.4067880403088824,
          -0.3967880403088824,
          -0.38678804030888236,
          -0.37678804030888235,
          -0.36678804030888235,
          -0.35678804030888234,
          -0.34678804030888233,
          -0.3367880403088823,
          -0.3267880403088823,
          -0.3167880403088823,
          -0.3067880403088823,
          -0.2967880403088823,
          -0.2867880403088823,
          -0.27678804030888227,
          -0.26678804030888226,
          -0.25678804030888225,
          -0.24678804030888224,
          -0.23678804030888223,
          -0.22678804030888222,
          -0.2167880403088822,
          -0.2067880403088822,
          -0.1967880403088822,
          -0.1867880403088822,
          -0.17678804030888218,
          -0.16678804030888217,
          -0.15678804030888216,
          -0.14678804030888215,
          -0.13678804030888214,
          -0.12678804030888213,
          -0.11678804030888212,
          -0.10678804030888212,
          -0.0967880403088821,
          -0.0867880403088821,
          -0.07678804030888209,
          -0.06678804030888208,
          -0.05678804030888207,
          -0.04678804030888206,
          -0.03678804030888205,
          -0.026788040308882044,
          -0.016788040308882035,
          -0.006788040308882026,
          0.0032119596911179826,
          0.013211959691117992,
          0.023211959691118,
          0.03321195969111801,
          0.04321195969111802,
          0.05321195969111803,
          0.06321195969111804,
          0.07321195969111804,
          0.08321195969111805,
          0.09321195969111806,
          0.10321195969111807,
          0.11321195969111808,
          0.12321195969111809,
          0.1332119596911181,
          0.1432119596911181,
          0.15321195969111812,
          0.16321195969111812,
          0.17321195969111813,
          0.18321195969111814,
          0.19321195969111815,
          0.20321195969111816,
          0.21321195969111817,
          0.22321195969111818,
          0.2332119596911182,
          0.2432119596911182,
          0.2532119596911182,
          0.2632119596911182,
          0.2732119596911182,
          0.28321195969111823,
          0.29321195969111824,
          0.30321195969111825,
          0.31321195969111826,
          0.32321195969111827,
          0.3332119596911183,
          0.3432119596911183,
          0.3532119596911183,
          0.3632119596911183,
          0.3732119596911183,
          0.3832119596911183,
          0.39321195969111833,
          0.40321195969111834,
          0.41321195969111835,
          0.42321195969111836,
          0.43321195969111836,
          0.4432119596911184,
          0.4532119596911184,
          0.4632119596911184,
          0.4732119596911184,
          0.4832119596911184,
          0.4932119596911184,
          0.5032119596911184,
          0.5132119596911184,
          0.5232119596911184,
          0.5332119596911185,
          0.5432119596911185,
          0.5532119596911185,
          0.5632119596911185,
          0.5732119596911185,
          0.5832119596911185,
          0.5932119596911185,
          0.6032119596911185,
          0.6132119596911185,
          0.6232119596911185,
          0.6332119596911185,
          0.6432119596911186,
          0.6532119596911186,
          0.6632119596911186,
          0.6732119596911186,
          0.6832119596911186,
          0.6932119596911186,
          0.7032119596911186,
          0.7132119596911186,
          0.7232119596911186,
          0.7332119596911186,
          0.7432119596911186,
          0.7532119596911186,
          0.7632119596911187,
          0.7732119596911187,
          0.7832119596911187,
          0.7932119596911187,
          0.8032119596911187,
          0.8132119596911187,
          0.8232119596911187,
          0.8332119596911187,
          0.8432119596911187,
          0.8532119596911187,
          0.8632119596911187,
          0.8732119596911188,
          0.8832119596911188,
          0.8932119596911188,
          0.9032119596911188,
          0.9132119596911188,
          0.9232119596911188,
          0.9332119596911188,
          0.9432119596911188,
          0.9532119596911188,
          0.9632119596911188,
          0.9732119596911188,
          0.9832119596911189,
          0.9932119596911189,
          1.0032119596911189,
          1.0132119596911189,
          1.0232119596911189,
          1.033211959691119,
          1.043211959691119,
          1.053211959691119,
          1.063211959691119,
          1.073211959691119,
          1.083211959691119,
          1.093211959691119,
          1.103211959691119,
          1.113211959691119,
          1.123211959691119,
          1.133211959691119,
          1.143211959691119,
          1.153211959691119,
          1.163211959691119,
          1.173211959691119,
          1.183211959691119,
          1.193211959691119,
          1.203211959691119,
          1.213211959691119,
          1.223211959691119,
          1.233211959691119,
          1.243211959691119,
          1.253211959691119,
          1.263211959691119,
          1.273211959691119,
          1.2832119596911191,
          1.2932119596911191,
          1.3032119596911191,
          1.3132119596911191,
          1.3232119596911192,
          1.3332119596911192,
          1.3432119596911192,
          1.3532119596911192,
          1.3632119596911192,
          1.3732119596911192,
          1.3832119596911192,
          1.3932119596911192,
          1.4032119596911192,
          1.4132119596911192,
          1.4232119596911192,
          1.4332119596911193,
          1.4432119596911193,
          1.4532119596911193,
          1.4632119596911193,
          1.4732119596911193,
          1.4832119596911193
         ],
         "xaxis": "x",
         "y": [
          0.008942461786988713,
          0.009498562992670802,
          0.01008513933061956,
          0.010703580482900397,
          0.011355321544649936,
          0.012041843401162839,
          0.012764673032018288,
          0.01352538373703933,
          0.01432559527879199,
          0.015166973936257268,
          0.016051232464248395,
          0.016980129953100016,
          0.017955471583126086,
          0.01897910826832915,
          0.020052936183848263,
          0.021178896171655692,
          0.02235897301905483,
          0.023595194604595016,
          0.024889630906104222,
          0.026244392865646955,
          0.027661631106346365,
          0.02914353449616354,
          0.030692328553907324,
          0.03231027369295255,
          0.03399966329837667,
          0.03576282163348283,
          0.037602101571962324,
          0.03951988215226294,
          0.04151856595107024,
          0.043600576273177497,
          0.04576835415541658,
          0.04802435518274808,
          0.05037104611505948,
          0.05281090132370252,
          0.05534639903730706,
          0.057980017396942314,
          0.06071423032125679,
          0.0635515031828128,
          0.06649428829743897,
          0.06954502022905715,
          0.07270611091309256,
          0.0759799446022494,
          0.07936887263912537,
          0.08287520806084919,
          0.08650122004164595,
          0.09024912817997438,
          0.09412109663762568,
          0.09811922813893036,
          0.10224555783898089,
          0.10650204707054137,
          0.11089057698008593,
          0.11541294206416418,
          0.12007084361805662,
          0.12486588310942999,
          0.1297995554904418,
          0.13487324246246898,
          0.14008820570833996,
          0.14544558010763664,
          0.15094636695129407,
          0.1565914271723548,
          0.16238147461034053,
          0.16831706932726764,
          0.1743986109938609,
          0.18062633236500664,
          0.18700029286392894,
          0.19352037229496094,
          0.20018626470512865,
          0.20699747241504937,
          0.2139533002398728,
          0.2210528499211635,
          0.22829501479072678,
          0.23567847468741696,
          0.24320169114793727,
          0.25086290289254237,
          0.25866012162637697,
          0.2665911281769402,
          0.27465346898784077,
          0.2828444529886087,
          0.2911611488598521,
          0.299600382712489,
          0.3081587361991543,
          0.31683254507516345,
          0.3256178982256258,
          0.33451063717443164,
          0.34350635608988495,
          0.352600402300742,
          0.36178787733531126,
          0.37106363849510765,
          0.3804223009733173,
          0.38985824052702656,
          0.3993655967107999,
          0.40893827667776833,
          0.4185699595529062,
          0.4282541013816372,
          0.4379839406553326,
          0.4477525044136327,
          0.4575526149218654,
          0.4673768969201344,
          0.47721778543892657,
          0.4870675341743467,
          0.49691822441432026,
          0.5067617745053411,
          0.5165899498475639,
          0.5263943734042749,
          0.5361665367100101,
          0.545897811359854,
          0.5555794609607279,
          0.5652026535237911,
          0.574758474275426,
          0.5842379388626725,
          0.5936320069274155,
          0.6029315960221414,
          0.6121275958386311,
          0.6212108827196007,
          0.6301723344220123,
          0.6390028450995682,
          0.6476933404707855,
          0.6562347931380255,
          0.664618238021926,
          0.672834787874861,
          0.6808756488363424,
          0.6887321359926734,
          0.6963956889026789,
          0.7038578870509729,
          0.7111104651899729,
          0.7181453285317587,
          0.7249545677508694,
          0.731530473759272,
          0.7378655522149916,
          0.7439525377262846,
          0.7497844077137532,
          0.7553543958934462,
          0.7606560053447595,
          0.7656830211278525,
          0.7704295224163061,
          0.7748898941118983,
          0.7790588379096139,
          0.7829313827823867,
          0.7865028948565338,
          0.7897690866504301,
          0.792726025650643,
          0.7953701422015151,
          0.7976982366860434,
          0.7997074859778311,
          0.8013954491459041,
          0.802760072396254,
          0.8037996932361052,
          0.804513043849085,
          0.8048992536717069,
          0.8049578511638368,
          0.8046887647681025,
          0.8040923230555124,
          0.8031692540568713,
          0.8019206837818953,
          0.8003481339302432,
          0.7984535188009783,
          0.7962391414092463,
          0.7937076888211965,
          0.7908622267203747,
          0.7877061932209665,
          0.7842433919453702,
          0.7804779843856054,
          0.776414481570032,
          0.7720577350587345,
          0.767412927292729,
          0.7624855613238599,
          0.7572814499538683,
          0.7518067043126245,
          0.7460677219069269,
          0.7400711741725581,
          0.7338239935634794,
          0.7273333602130967,
          0.7206066882034767,
          0.7136516114792083,
          0.7064759694432949,
          0.6990877922730244,
          0.6914952859942031,
          0.6837068173524437,
          0.6757308985203747,
          0.6675761716796955,
          0.6592513935169161,
          0.6507654196714284,
          0.642127189174228,
          0.633345708915161,
          0.624430038176014,
          0.6153892732660875,
          0.6062325322961105,
          0.5969689401254662,
          0.5876076135167088,
          0.5781576465302654,
          0.5686280961910458,
          0.5590279684574168,
          0.5493662045216673,
          0.5396516674696744,
          0.5298931293260062,
          0.5200992585091592,
          0.5102786077200395,
          0.500439602285161,
          0.49059052897435557,
          0.48073952531108505,
          0.4708945693917068,
          0.4610634702282925,
          0.451253858627832,
          0.4414731786188823,
          0.43172867943494936,
          0.42202740806212646,
          0.4123762023567598,
          0.40278168473718046,
          0.3932502564518378,
          0.3837880924244859,
          0.37440113667544545,
          0.36509509831635456,
          0.3558754481142754,
          0.3467474156195215,
          0.3377159868501212,
          0.328785902524446,
          0.31996165683220673,
          0.31124749673276003,
          0.3026474217684736,
          0.29416518437978073,
          0.285804290707504,
          0.2775680018670543,
          0.26945933567821645,
          0.2614810688334109,
          0.2536357394865811,
          0.24592565024419114,
          0.2383528715392372,
          0.23091924536866767,
          0.22362638937418114,
          0.2164757012460207,
          0.20946836342910896,
          0.2026053481106671,
          0.19588742246833707,
          0.18931515415777092,
          0.18288891701866117,
          0.1766088969782734,
          0.17047509813168252,
          0.16448734897812223,
          0.15864530879312427,
          0.15294847411644436,
          0.14739618533614657,
          0.1419876333496418,
          0.1367218662829469,
          0.13159779624994436,
          0.12661420613397373,
          0.12176975637467838,
          0.1170629917436508,
          0.11249234809306986,
          0.10805615906220375,
          0.10375266272734855,
          0.09958000818149204,
          0.09553626203072714,
          0.09161941479518342,
          0.08782738720300498,
          0.08415803636666072,
          0.0806091618316418,
          0.07717851148836422,
          0.07386378733885952,
          0.07066265111059304,
          0.06757272971050138,
          0.06459162051308057,
          0.06171689647708445,
          0.058946111086108186,
          0.056276803109029175,
          0.053706501176957785,
          0.05123272817401103,
          0.048853005439862,
          0.04656485678263382,
          0.044365812301301495,
          0.042253412017333104,
          0.040225209315844425,
          0.03827877419705927,
          0.03641169633935632,
          0.03462158797564656,
          0.032906086585260064,
          0.03126285740392768,
          0.029689595754821788,
          0.028184029203971346,
          0.026743919543689192,
          0.02536706460794478,
          0.02405129992388319,
          0.022794500203932668,
          0.02159458068315717,
          0.02044949830669891,
          0.019357252772320505,
          0.01831588743319423,
          0.01732349006620235,
          0.016378193511104897,
          0.0154781761860022,
          0.014621662484569033,
          0.013806923060567551,
          0.013032275005156465,
          0.012296081922506674,
          0.011596753909209516,
          0.010932747442922943,
          0.010302565185646165,
          0.009704755706943567,
          0.009137913132357017
         ],
         "yaxis": "y"
        },
        {
         "histnorm": "probability density",
         "name": "<br>Model 2:<br>Short Wait Data",
         "type": "histogram",
         "x": [
          -0.21366645043174848,
          0.8624153007827706,
          -0.04291170407530709,
          -0.18066645043174856,
          -0.21523870893338493,
          0.16717004713921213,
          -0.3998299528607876,
          -0.192911704075307,
          -0.21523870893338493,
          -0.053584699217229304,
          0.01717004713921222,
          -0.10515695771886557,
          -0.21525769435915154,
          -0.15833944557367063,
          -0.29133944557367064,
          0.09325179835373199,
          -0.048257694359151504,
          -0.18066645043174856,
          -0.2806664504317484,
          0.1847423056408486,
          -0.22215695771886557,
          -0.23817594314463197,
          -0.06050294800270972,
          -0.03817594314463202,
          0.19484304228113425,
          0.14482405685536826,
          -0.11899345528982663,
          -0.12591170407530705,
          0.1209247934956541,
          -0.09823870893338493,
          -0.21682995286078777,
          0.2517423056408483,
          -0.34825769435915155,
          0.3310065447101731,
          -0.23125769435915156,
          0.6102517983537319,
          -0.06050294800270972,
          -0.03440221136242383,
          0.24641530078277052,
          -0.08440221136242387,
          0.77249705199729,
          -0.12532046014790454,
          -0.10991170407530704,
          0.026251798353731814,
          0.17782405685536817,
          -0.06525769435915141,
          0.03792479349565392,
          -0.20674820164626806,
          -0.20674820164626806,
          0.2485977886375763,
          -0.04133944557367064,
          -0.06682995286078763,
          -0.06207520650434595,
          0.04857880321180996,
          0.4310065447101732,
          -0.13758469921722938,
          0.040088295924692874,
          -0.12532046014790454,
          0.1624153007827709,
          -0.20142119678819026,
          0.25708829592469296,
          0.044824056855368166,
          -0.1397482016462681,
          -0.1753204601479046,
          -0.046075206504345934,
          -0.11207520650434599,
          0.3932517983537318,
          -0.020584699217229385,
          -0.11899345528982663,
          -0.2636664504317485,
          0.4033335495682513,
          0.23100654471017346,
          -0.13066645043174852,
          -0.16366645043174843,
          0.38476129106661516,
          0.04857880321180996,
          0.18633354956825166,
          -0.027502948002709804,
          -0.19133944557367055,
          0.04543428620853729,
          0.19482405685536808,
          0.1916795398520954,
          -0.14132046014790456
         ],
         "xaxis": "x2",
         "xbins": {
          "end": 1.9,
          "size": 0.2,
          "start": -1.9
         },
         "yaxis": "y2"
        },
        {
         "line": {
          "color": "black",
          "dash": "dot",
          "width": 2
         },
         "mode": "lines",
         "name": "Normal Distribution<br>(99.7% of its area)",
         "opacity": 0.5,
         "type": "scatter",
         "x": [
          -0.7101615934653972,
          -0.7001615934653972,
          -0.6901615934653972,
          -0.6801615934653972,
          -0.6701615934653972,
          -0.6601615934653972,
          -0.6501615934653971,
          -0.6401615934653971,
          -0.6301615934653971,
          -0.6201615934653971,
          -0.6101615934653971,
          -0.6001615934653971,
          -0.5901615934653971,
          -0.5801615934653971,
          -0.5701615934653971,
          -0.5601615934653971,
          -0.5501615934653971,
          -0.540161593465397,
          -0.530161593465397,
          -0.520161593465397,
          -0.510161593465397,
          -0.500161593465397,
          -0.490161593465397,
          -0.480161593465397,
          -0.470161593465397,
          -0.460161593465397,
          -0.45016159346539697,
          -0.44016159346539696,
          -0.43016159346539695,
          -0.42016159346539694,
          -0.41016159346539693,
          -0.4001615934653969,
          -0.3901615934653969,
          -0.3801615934653969,
          -0.3701615934653969,
          -0.3601615934653969,
          -0.3501615934653969,
          -0.34016159346539687,
          -0.33016159346539686,
          -0.32016159346539685,
          -0.31016159346539685,
          -0.30016159346539684,
          -0.2901615934653968,
          -0.2801615934653968,
          -0.2701615934653968,
          -0.2601615934653968,
          -0.2501615934653968,
          -0.24016159346539678,
          -0.23016159346539677,
          -0.22016159346539677,
          -0.21016159346539676,
          -0.20016159346539675,
          -0.19016159346539674,
          -0.18016159346539673,
          -0.17016159346539672,
          -0.1601615934653967,
          -0.1501615934653967,
          -0.1401615934653967,
          -0.13016159346539669,
          -0.12016159346539668,
          -0.11016159346539667,
          -0.10016159346539666,
          -0.09016159346539665,
          -0.08016159346539664,
          -0.07016159346539663,
          -0.06016159346539662,
          -0.050161593465396614,
          -0.040161593465396606,
          -0.030161593465396597,
          -0.020161593465396588,
          -0.010161593465396579,
          -0.00016159346539657005,
          0.009838406534603439,
          0.019838406534603448,
          0.029838406534603457,
          0.039838406534603465,
          0.049838406534603474,
          0.05983840653460348,
          0.06983840653460349,
          0.0798384065346035,
          0.08983840653460351,
          0.09983840653460352,
          0.10983840653460353,
          0.11983840653460354,
          0.12983840653460355,
          0.13983840653460355,
          0.14983840653460356,
          0.15983840653460357,
          0.16983840653460358,
          0.1798384065346036,
          0.1898384065346036,
          0.1998384065346036,
          0.20983840653460362,
          0.21983840653460363,
          0.22983840653460363,
          0.23983840653460364,
          0.24983840653460365,
          0.25983840653460366,
          0.26983840653460367,
          0.2798384065346037,
          0.2898384065346037,
          0.2998384065346037,
          0.3098384065346037,
          0.3198384065346037,
          0.3298384065346037,
          0.33983840653460373,
          0.34983840653460374,
          0.35983840653460375,
          0.36983840653460376,
          0.37983840653460377,
          0.3898384065346038,
          0.3998384065346038,
          0.4098384065346038,
          0.4198384065346038,
          0.4298384065346038,
          0.4398384065346038,
          0.44983840653460383,
          0.45983840653460384,
          0.46983840653460385,
          0.47983840653460386,
          0.48983840653460387,
          0.4998384065346039,
          0.5098384065346039,
          0.5198384065346039,
          0.5298384065346039,
          0.5398384065346039,
          0.5498384065346039,
          0.5598384065346039,
          0.5698384065346039,
          0.579838406534604,
          0.589838406534604,
          0.599838406534604,
          0.609838406534604,
          0.619838406534604,
          0.629838406534604,
          0.639838406534604,
          0.649838406534604,
          0.659838406534604,
          0.669838406534604,
          0.679838406534604,
          0.689838406534604,
          0.699838406534604,
          0.7098384065346041
         ],
         "xaxis": "x2",
         "y": [
          0.018721859022163317,
          0.02123246161292119,
          0.02403680306794362,
          0.027163019405407586,
          0.030641100780909005,
          0.03450290508318715,
          0.03878215559388431,
          0.043514420699332576,
          0.04873707362465409,
          0.054489230171214285,
          0.06081166248104839,
          0.06774668692948033,
          0.07533802436268026,
          0.08363063105291661,
          0.09267049894283959,
          0.10250442399281004,
          0.11317974173294676,
          0.12474402945432536,
          0.13724477485093375,
          0.15072901134394975,
          0.1652429207800938,
          0.18083140469259987,
          0.19753762584211412,
          0.2154025223098404,
          0.23446429698974247,
          0.2547578859128251,
          0.2763144094256915,
          0.29916061082815476,
          0.3233182876403132,
          0.3488037212072643,
          0.37562711084816985,
          0.4037920192040978,
          0.4332948358243688,
          0.4641242663426115,
          0.4962608548204867,
          0.5296765469688649,
          0.564334301983948,
          0.6001877606514299,
          0.637180977168868,
          0.6752482218102285,
          0.7143138611043218,
          0.7542923216199167,
          0.7950881427463274,
          0.8365961230332826,
          0.8787015637143608,
          0.9212806119932122,
          0.9642007055325319,
          1.0073211183660866,
          1.0504936071698736,
          1.0935631554976655,
          1.1363688122283,
          1.1787446191081723,
          1.2205206209245076,
          1.2615239505358347,
          1.3015799797385994,
          1.340513525785761,
          1.3781501023164968,
          1.4143172025267452,
          1.4488456016274656,
          1.4815706650184624,
          1.5123336481651932,
          1.5409829739161722,
          1.5673754729482297,
          1.5913775731815143,
          1.612866424367681,
          1.6317309446213815,
          1.6478727764315977,
          1.6612071406462972,
          1.6716635780587272,
          1.679186569520298,
          1.6837360269443316,
          1.685287649125071,
          1.6838331379530858,
          1.679380272335438,
          1.6719528388992784,
          1.6615904203425902,
          1.648348044067022,
          1.6322956954568162,
          1.613517701827263,
          1.5921119946297504,
          1.5681892589440591,
          1.5418719805901255,
          1.5132934023318028,
          1.482596401608094,
          1.4499323030000382,
          1.4154596392146856,
          1.3793428747358358,
          1.3417511064524843,
          1.3028567555321742,
          1.2628342645629302,
          1.2218588135530322,
          1.1801050677643974,
          1.1377459695775447,
          1.0949515856611391,
          1.051888019666209,
          1.0087163995051325,
          0.96559194703037,
          0.9226631366204044,
          0.8800709478333727,
          0.8379482159251186,
          0.7964190826699986,
          0.7555985485907327,
          0.7155921264175954,
          0.676495594375213,
          0.6383948467531679,
          0.6013658381683004,
          0.5654746169835205,
          0.5307774425191252,
          0.497320979984652,
          0.4651425664762811,
          0.43427054092846007,
          0.4047246305781726,
          0.3765163862934317,
          0.3496496590294417,
          0.3241211097000767,
          0.29992074488091525,
          0.27703247098391737,
          0.2554346598527365,
          0.23510071911075037,
          0.21599966103976795,
          0.1980966642644538,
          0.18135362305418298,
          0.16572967961894636,
          0.15118173535812177,
          0.13766493761004747,
          0.1251331390367793,
          0.11353932735341005,
          0.10283602366708439,
          0.09297564822054519,
          0.08391085283295706,
          0.07559481979217698,
          0.06798152737395592,
          0.06102598254213446,
          0.05468442171811042,
          0.04891448079697242,
          0.043675335831816875,
          0.038927816007749354,
          0.03463449068442803,
          0.030759732402804,
          0.02726975783049455,
          0.024132648663889072,
          0.021318354516817285,
          0.01879867980876978
         ],
         "yaxis": "y2"
        },
        {
         "histnorm": "probability density",
         "name": "<br>Model 3:<br>Long Wait Data",
         "type": "histogram",
         "x": [
          -0.7192309896346232,
          -0.9250108424020045,
          0.14030483368623603,
          0.27057274534666487,
          -0.7926951663137642,
          -0.04269516631376469,
          -0.46345113686724115,
          -0.10698696018809883,
          0.33179289257928346,
          0.41954886313275885,
          -0.06923098963462326,
          -0.8569869601880988,
          0.2749891575979957,
          -0.7682071074207166,
          -0.1994989012950521,
          -0.4569869601880989,
          0.11376901036537657,
          0.054233187044518516,
          0.172257069258424,
          -0.29847501908114626,
          -0.4250108424020045,
          0.5015249809188536,
          0.3290846864536183,
          0.018524980918853018,
          0.1865488631327592,
          0.28723318704451906,
          -1.051207107420717,
          0.27703692202580665,
          0.5297451281514709,
          0.26208468645361815,
          0.5015249809188536,
          0.5147928925792833,
          0.2722570692584245,
          -0.02671904852766982,
          0.11954886313275903,
          0.44403692202580647,
          -0.0784033724394293,
          -0.1399869601880992,
          0.39301303981190117,
          0.45423318704451887,
          -0.322963077974193,
          0.18076901036537674,
          0.7845010987049479,
          0.26001303981190116,
          -0.3994989012950523,
          -0.7682071074207166,
          -0.13725487184852891,
          -0.02296307797419317,
          -0.17876681295548114,
          0.5035727453466645,
          -0.3324989012950521,
          0.18552498091885283,
          -0.4049391957602877,
          -0.12091531354638185,
          0.5100130398119012,
          0.06647721649104188,
          0.28654886313275885,
          -0.5202548718485289,
          0.544036922025807,
          -0.06242725465333532,
          0.13179289257928328,
          -0.29371904852767017,
          0.3195488631327592,
          0.44506080423971195,
          -0.6607190485276702,
          0.4627451281514716,
          0.4583287159001417,
          0.09776901036537655,
          0.28928095147233,
          0.2073048336862353,
          -0.00018322520681124388,
          -0.04474293074157565,
          0.17057274534666433,
          -0.5767190485276701,
          0.14403692202580665,
          0.19608468645361832,
          -0.2012071074207169,
          -0.10867128409985849,
          0.027036922025806653,
          0.5280608042397121,
          -0.5862309896346232,
          -0.11071904852766945,
          0.177036922025807,
          0.5222570692584245,
          0.0505010987049479,
          0.3015249809188534,
          0.5726205097744757,
          0.7382570692584247,
          -0.29474293074157565,
          0.25628095147232965,
          0.15628095147233,
          -0.40764740188595283,
          -0.4746712840998586,
          -0.25493919576028734,
          -0.4739869601880988,
          0.3005010987049479,
          0.5705727453466647,
          0.12635259811404698,
          0.28825706925842454,
          -0.17671904852767018,
          -0.010719048527669806,
          0.2542331870445187,
          -0.39269516631376433,
          -0.09101084240200485,
          0.28825706925842454,
          -0.11820710742071672,
          -0.6012071074207168,
          0.12601303981190082,
          -0.2974511368672408,
          0.0487928925792831,
          0.45628095147232983,
          0.5175010987049475,
          -0.2804511368672413,
          -0.32874293074157546,
          -0.11071904852766945,
          -0.9171832252068111,
          0.0712570692584249,
          0.3600130398119008,
          -0.005963077974193709,
          -0.3331593429929054,
          0.29301303981190063,
          0.07225706925842434,
          -0.5304511368672409,
          0.13179289257928328,
          0.36852498091885355,
          -0.43725487184852874,
          -0.049498901295051745,
          0.29710856866752344,
          -0.13249890129505193,
          -0.0889630779741939,
          0.21274512815147162,
          -0.306986960188099,
          -0.20223098963462327,
          -0.22398696018809883,
          -0.03998696018809955,
          0.23076901036537656,
          -0.22193919576028787,
          -0.00391531354638186,
          -0.011742930741575286,
          -0.3692309896346231,
          -0.12025487184852857,
          0.5280608042397121,
          0.19030483368623585,
          -0.5229630779741932,
          0.01103692202580664,
          0.09198915759799497,
          0.08179289257928346,
          -0.6787668129554816,
          0.2542331870445187,
          -0.27942725465333496,
          -0.5144750190811465,
          0.08179289257928346,
          -0.0362309896346229,
          0.46001303981190045,
          0.1525488631327594,
          -0.11820710742071672,
          0.4797451281514711,
          -0.22671904852767,
          -0.03691531354638222,
          0.20898915759799497
         ],
         "xaxis": "x3",
         "xbins": {
          "end": 1.95,
          "size": 0.3,
          "start": -1.95
         },
         "yaxis": "y3"
        },
        {
         "line": {
          "color": "black",
          "dash": "dot",
          "width": 2
         },
         "mode": "lines",
         "name": "Normal Distribution<br>(99.7% of its area)",
         "opacity": 0.5,
         "type": "scatter",
         "x": [
          -1.1160581130630323,
          -1.1060581130630323,
          -1.0960581130630322,
          -1.0860581130630322,
          -1.0760581130630322,
          -1.0660581130630322,
          -1.0560581130630322,
          -1.0460581130630322,
          -1.0360581130630322,
          -1.0260581130630322,
          -1.0160581130630322,
          -1.0060581130630322,
          -0.9960581130630322,
          -0.9860581130630321,
          -0.9760581130630321,
          -0.9660581130630321,
          -0.9560581130630321,
          -0.9460581130630321,
          -0.9360581130630321,
          -0.9260581130630321,
          -0.9160581130630321,
          -0.9060581130630321,
          -0.8960581130630321,
          -0.8860581130630321,
          -0.876058113063032,
          -0.866058113063032,
          -0.856058113063032,
          -0.846058113063032,
          -0.836058113063032,
          -0.826058113063032,
          -0.816058113063032,
          -0.806058113063032,
          -0.796058113063032,
          -0.786058113063032,
          -0.776058113063032,
          -0.766058113063032,
          -0.756058113063032,
          -0.7460581130630319,
          -0.7360581130630319,
          -0.7260581130630319,
          -0.7160581130630319,
          -0.7060581130630319,
          -0.6960581130630319,
          -0.6860581130630319,
          -0.6760581130630319,
          -0.6660581130630319,
          -0.6560581130630319,
          -0.6460581130630318,
          -0.6360581130630318,
          -0.6260581130630318,
          -0.6160581130630318,
          -0.6060581130630318,
          -0.5960581130630318,
          -0.5860581130630318,
          -0.5760581130630318,
          -0.5660581130630318,
          -0.5560581130630318,
          -0.5460581130630318,
          -0.5360581130630317,
          -0.5260581130630317,
          -0.5160581130630317,
          -0.5060581130630317,
          -0.4960581130630317,
          -0.4860581130630317,
          -0.4760581130630317,
          -0.4660581130630317,
          -0.4560581130630317,
          -0.44605811306303167,
          -0.43605811306303166,
          -0.42605811306303165,
          -0.41605811306303164,
          -0.40605811306303163,
          -0.3960581130630316,
          -0.3860581130630316,
          -0.3760581130630316,
          -0.3660581130630316,
          -0.3560581130630316,
          -0.3460581130630316,
          -0.33605811306303157,
          -0.32605811306303156,
          -0.31605811306303155,
          -0.30605811306303154,
          -0.29605811306303154,
          -0.2860581130630315,
          -0.2760581130630315,
          -0.2660581130630315,
          -0.2560581130630315,
          -0.2460581130630315,
          -0.23605811306303148,
          -0.22605811306303147,
          -0.21605811306303147,
          -0.20605811306303146,
          -0.19605811306303145,
          -0.18605811306303144,
          -0.17605811306303143,
          -0.16605811306303142,
          -0.1560581130630314,
          -0.1460581130630314,
          -0.1360581130630314,
          -0.12605811306303139,
          -0.11605811306303138,
          -0.10605811306303137,
          -0.09605811306303136,
          -0.08605811306303135,
          -0.07605811306303134,
          -0.06605811306303133,
          -0.05605811306303132,
          -0.046058113063031314,
          -0.036058113063031305,
          -0.026058113063031296,
          -0.016058113063031287,
          -0.0060581130630312785,
          0.00394188693696873,
          0.01394188693696874,
          0.023941886936968748,
          0.03394188693696876,
          0.043941886936968766,
          0.053941886936968775,
          0.06394188693696878,
          0.07394188693696879,
          0.0839418869369688,
          0.09394188693696881,
          0.10394188693696882,
          0.11394188693696883,
          0.12394188693696884,
          0.13394188693696885,
          0.14394188693696885,
          0.15394188693696886,
          0.16394188693696887,
          0.17394188693696888,
          0.1839418869369689,
          0.1939418869369689,
          0.2039418869369689,
          0.21394188693696892,
          0.22394188693696893,
          0.23394188693696893,
          0.24394188693696894,
          0.25394188693696895,
          0.26394188693696896,
          0.27394188693696897,
          0.283941886936969,
          0.293941886936969,
          0.303941886936969,
          0.313941886936969,
          0.323941886936969,
          0.333941886936969,
          0.34394188693696903,
          0.35394188693696904,
          0.36394188693696905,
          0.37394188693696906,
          0.38394188693696907,
          0.3939418869369691,
          0.4039418869369691,
          0.4139418869369691,
          0.4239418869369691,
          0.4339418869369691,
          0.4439418869369691,
          0.45394188693696913,
          0.46394188693696914,
          0.47394188693696915,
          0.48394188693696916,
          0.49394188693696917,
          0.5039418869369692,
          0.5139418869369692,
          0.5239418869369692,
          0.5339418869369692,
          0.5439418869369692,
          0.5539418869369692,
          0.5639418869369692,
          0.5739418869369692,
          0.5839418869369692,
          0.5939418869369693,
          0.6039418869369693,
          0.6139418869369693,
          0.6239418869369693,
          0.6339418869369693,
          0.6439418869369693,
          0.6539418869369693,
          0.6639418869369693,
          0.6739418869369693,
          0.6839418869369693,
          0.6939418869369693,
          0.7039418869369694,
          0.7139418869369694,
          0.7239418869369694,
          0.7339418869369694,
          0.7439418869369694,
          0.7539418869369694,
          0.7639418869369694,
          0.7739418869369694,
          0.7839418869369694,
          0.7939418869369694,
          0.8039418869369694,
          0.8139418869369694,
          0.8239418869369695,
          0.8339418869369695,
          0.8439418869369695,
          0.8539418869369695,
          0.8639418869369695,
          0.8739418869369695,
          0.8839418869369695,
          0.8939418869369695,
          0.9039418869369695,
          0.9139418869369695,
          0.9239418869369695,
          0.9339418869369696,
          0.9439418869369696,
          0.9539418869369696,
          0.9639418869369696,
          0.9739418869369696,
          0.9839418869369696,
          0.9939418869369696,
          1.0039418869369696,
          1.0139418869369696,
          1.0239418869369696,
          1.0339418869369696,
          1.0439418869369697,
          1.0539418869369697,
          1.0639418869369697,
          1.0739418869369697,
          1.0839418869369697,
          1.0939418869369697,
          1.1039418869369697,
          1.1139418869369697
         ],
         "xaxis": "x3",
         "y": [
          0.011912950661076484,
          0.012908755285925838,
          0.013977696052724664,
          0.015124221070639755,
          0.01635297003704688,
          0.017668776003945785,
          0.01907666656233704,
          0.020581864391955133,
          0.022189787122835654,
          0.023906046454526056,
          0.02573644647835174,
          0.02768698114804931,
          0.029763830844297828,
          0.03197335797924129,
          0.03432210158802583,
          0.036816770855690135,
          0.039464237529474304,
          0.04227152716876214,
          0.045245809187469135,
          0.04839438564674207,
          0.0517246787593618,
          0.055244217071249935,
          0.05896062028997346,
          0.06288158273513271,
          0.06701485539099836,
          0.07136822654773375,
          0.07594950102399659,
          0.08076647797063706,
          0.08582692726259648,
          0.09113856449392752,
          0.09670902459909406,
          0.10254583413232413,
          0.10865638224575544,
          0.11504789041639937,
          0.1217273809814907,
          0.1287016445515687,
          0.1359772063805722,
          0.14356029178228616,
          0.15145679069258725,
          0.1596722214870259,
          0.1682116941733044,
          0.17707987308806955,
          0.18628093923707964,
          0.1958185524271436,
          0.20569581334718348,
          0.21591522576427186,
          0.2264786590084459,
          0.23738731092743656,
          0.2486416714990802,
          0.2602414872950292,
          0.27218572699436655,
          0.28447254814978856,
          0.2970992654120642,
          0.3100623204204621,
          0.32335725356767486,
          0.33697867784741503,
          0.35092025499126794,
          0.3651746740984953,
          0.379733632958275,
          0.39458782225830374,
          0.409726912866747,
          0.425139546366208,
          0.4408133290086795,
          0.45673482924937087,
          0.47288957900486694,
          0.4892620787673259,
          0.5058358066913883,
          0.5225932317542026,
          0.539515831071549,
          0.5565841114345209,
          0.5737776351117032,
          0.5910750499413444,
          0.6084541237167912,
          0.6258917828465127,
          0.6433641552475502,
          0.6608466174082923,
          0.6783138455332401,
          0.695739870659042,
          0.7130981376076836,
          0.7303615676194837,
          0.7475026244855998,
          0.7644933839772864,
          0.7813056063473035,
          0.7979108116578059,
          0.8142803576689315,
          0.8303855200032774,
          0.8461975742836743,
          0.8616878799252778,
          0.8768279652481271,
          0.891589613563106,
          0.9059449498728017,
          0.9198665278191911,
          0.9333274165024962,
          0.946301286790025,
          0.9587624967304174,
          0.9706861756875017,
          0.9820483068089818,
          0.9928258074484422,
          1.0029966071646845,
          1.0125397229301887,
          1.021435331190496,
          1.0296648364285232,
          1.0372109359021313,
          1.04405768023968,
          1.0501905295966558,
          1.0555964050966986,
          1.0602637353023359,
          1.064182497484342,
          1.067344253483726,
          1.0697421799867486,
          1.0713710930609368,
          1.0722274668286094,
          1.0723094461837592,
          1.0716168534880965,
          1.0701511892124258,
          1.0679156265201126,
          1.0649149998200094,
          1.0611557873466393,
          1.0566460878554924,
          1.0513955915507753,
          1.0454155453916862,
          1.0387187129510616,
          1.0313193290269196,
          1.023233049232784,
          1.0144768948166198,
          1.005069192980543,
          0.9950295129940837,
          0.9843785984125535,
          0.973138295728886,
          0.9613314798020886,
          0.9489819764181078,
          0.9361144823493789,
          0.9227544832875892,
          0.908928170030187,
          0.8946623533049141,
          0.8799843776181243,
          0.8649220345119143,
          0.8495034756121456,
          0.8337571258443626,
          0.8177115971874467,
          0.8013956033256983,
          0.7848378755489864,
          0.7680670802377476,
          0.7511117382550997,
          0.7340001465522482,
          0.7167603022758631,
          0.6994198296473383,
          0.6820059098639377,
          0.6645452142509609,
          0.6470638408723688,
          0.6295872547849576,
          0.6121402320983217,
          0.5947468079796521,
          0.5774302287190485,
          0.5602129079476199,
          0.5431163870773698,
          0.5261613000088557,
          0.5093673421300069,
          0.49275324360742656,
          0.4763367469501091,
          0.4601345888048835,
          0.4441624859231781,
          0.42843512521995347,
          0.4129661578279931,
          0.3977681970342168,
          0.38285281996939247,
          0.36823057290858563,
          0.35391098002697574,
          0.33990255544430314,
          0.3262128183812168,
          0.3128483112421775,
          0.2998146204323489,
          0.2871163997100505,
          0.27475739587185805,
          0.26274047656427024,
          0.2510676600139979,
          0.23974014646831832,
          0.22875835113753304,
          0.21812193843330477,
          0.2078298572994825,
          0.19788037743586878,
          0.18827112622018266,
          0.17899912613914565,
          0.17006083254608842,
          0.16145217156966865,
          0.15316857800611866,
          0.14520503303583115,
          0.1375561016139563,
          0.1302159693939474,
          0.12317847905257222,
          0.11643716589473327,
          0.10998529262642506,
          0.10381588319424508,
          0.09792175559998431,
          0.09229555360889087,
          0.08692977728017563,
          0.08181681225813463,
          0.07694895777186792,
          0.07231845330091453,
          0.06791750387315815,
          0.0637383039700562,
          0.05977306002255953,
          0.05601401148900189,
          0.05245345051371445,
          0.04908374017214656,
          0.04589733131482998,
          0.04288677802859635,
          0.040044751739046196,
          0.037364053983358445,
          0.034837627887130476,
          0.03245856838304962,
          0.03022013121282257,
          0.028115740756944587,
          0.026138996739579628,
          0.024283679858069212,
          0.022543756388399352,
          0.020913381819357653,
          0.019386903569121837,
          0.017958862838658468,
          0.01662399565660225,
          0.015377233170249914,
          0.014213701236967398,
          0.013128719369695414,
          0.012117799089371837
         ],
         "yaxis": "y3"
        },
        {
         "histnorm": "probability density",
         "name": "<br>Model 4:<br>All Data using indicator",
         "type": "histogram",
         "x": [
          -0.6979302325581398,
          -0.2943299999999993,
          -0.9649302325581397,
          0.18867000000000056,
          0.23506976744186048,
          0.7886700000000006,
          0.4020697674418603,
          -0.6979302325581398,
          -0.1443299999999994,
          0.05206976744185976,
          -0.2613299999999994,
          -0.38093023255814007,
          -0.09793023255813971,
          -0.34432999999999936,
          0.4020697674418603,
          0.07267000000000046,
          -0.34432999999999936,
          0.5020697674418599,
          -0.49432999999999927,
          -0.047930232558139885,
          -0.2943299999999993,
          -0.34432999999999936,
          -0.8479302325581397,
          -1.2309302325581402,
          0.23506976744186048,
          -0.6979302325581398,
          -0.12732999999999928,
          -0.2149302325581397,
          -0.4479302325581398,
          0.13506976744185994,
          0.0020697674418599377,
          0.16906976744185975,
          1.2726700000000006,
          -0.2649302325581395,
          -0.4649302325581397,
          -0.07732999999999945,
          -0.22732999999999937,
          0.5350697674418603,
          -0.2613299999999994,
          0.4850697674418605,
          0.05206976744185976,
          -0.21132999999999935,
          0.2690697674418603,
          -0.34432999999999936,
          0.23506976744186048,
          -0.9809302325581402,
          1.7386700000000008,
          0.00567000000000073,
          0.3350697674418601,
          -0.09432999999999936,
          0.5020697674418599,
          0.4180697674418603,
          -0.2613299999999994,
          0.5350697674418603,
          -0.36132999999999926,
          0.5850697674418601,
          -0.5809302325581398,
          -0.42732999999999954,
          0.2690697674418603,
          0.019069767441860286,
          0.13867000000000074,
          0.20206976744186012,
          -0.34432999999999936,
          0.5020697674418599,
          -0.2773299999999994,
          0.10206976744186047,
          -0.13093023255814007,
          0.4020697674418603,
          -0.027329999999999632,
          0.4020697674418603,
          -0.2649302325581395,
          -0.12732999999999928,
          0.20206976744186012,
          -0.2979302325581399,
          -0.11132999999999926,
          0.7690697674418603,
          -0.07732999999999945,
          0.2690697674418603,
          -0.4149302325581399,
          -0.6979302325581398,
          -0.16493023255813988,
          0.0350697674418603,
          -0.19793023255814024,
          0.5386700000000006,
          -0.23093023255813971,
          0.63506976744186,
          -0.3479302325581397,
          0.21906976744185958,
          0.07267000000000046,
          -0.2979302325581399,
          0.10567000000000082,
          0.0350697674418603,
          -0.22732999999999937,
          0.5190697674418603,
          -0.2613299999999994,
          0.0020697674418599377,
          0.36906976744185993,
          -0.5479302325581399,
          -0.22732999999999937,
          0.6020697674418605,
          0.38867000000000074,
          0.06906976744186011,
          0.00567000000000073,
          0.20206976744186012,
          -0.24793023255814006,
          -0.22732999999999937,
          0.4020697674418603,
          -0.31132999999999944,
          0.5520697674418598,
          -0.61493023255814,
          0.43506976744186066,
          0.20567000000000046,
          0.6020697674418605,
          0.11906976744185993,
          -0.3943299999999994,
          0.3350697674418601,
          0.22267000000000037,
          0.30206976744185976,
          -0.2773299999999994,
          0.11906976744185993,
          0.5226700000000006,
          -0.23093023255813971,
          -0.047930232558139885,
          -0.12732999999999928,
          0.30206976744185976,
          -0.53093023255814,
          -0.17732999999999932,
          0.20206976744186012,
          0.17267000000000055,
          0.35206976744186047,
          -0.22732999999999937,
          -0.13093023255814007,
          0.7056700000000005,
          0.0350697674418603,
          -0.2613299999999994,
          0.08506976744186012,
          -0.21132999999999935,
          0.63506976744186,
          -0.06132999999999944,
          -0.5649302325581398,
          -0.06493023255813934,
          0.13867000000000074,
          0.23506976744186048,
          0.5190697674418603,
          0.0350697674418603,
          -0.11132999999999926,
          0.3350697674418601,
          -0.07732999999999945,
          0.8020697674418598,
          -0.2943299999999993,
          0.7350697674418605,
          -0.2979302325581399,
          0.30567000000000055,
          0.30206976744185976,
          -0.7309302325581402,
          -0.2979302325581399,
          0.20206976744186012,
          -0.2149302325581397,
          -0.2943299999999993,
          -0.3309302325581398,
          0.10567000000000082,
          -0.14793023255813953,
          -0.09432999999999936,
          -0.4649302325581397,
          1.4056700000000006,
          0.2850697674418603,
          0.27267000000000063,
          0.7020697674418601,
          -0.1613299999999993,
          0.3190697674418601,
          -0.17732999999999932,
          -0.011329999999999174,
          0.2850697674418603,
          -0.9649302325581397,
          -0.13093023255814007,
          0.0350697674418603,
          0.20206976744186012,
          0.32267000000000046,
          -0.2979302325581399,
          -0.13093023255814007,
          -0.21132999999999935,
          0.2850697674418603,
          -0.047930232558139885,
          -0.53093023255814,
          -0.06132999999999944,
          0.13506976744185994,
          -0.2149302325581397,
          -0.2613299999999994,
          0.11906976744185993,
          0.08867000000000091,
          0.5020697674418599,
          -0.2613299999999994,
          0.5020697674418599,
          -0.19793023255814024,
          -0.3319302325581397,
          -0.06493023255813934,
          -0.7979302325581399,
          0.06806976744186066,
          0.15567000000000064,
          0.36906976744185993,
          0.00567000000000073,
          0.05206976744185976,
          -0.16493023255813988,
          -0.22732999999999937,
          0.30206976744185976,
          -0.31132999999999944,
          0.06906976744186011,
          -0.4479302325581398,
          -0.1613299999999993,
          0.20206976744186012,
          -1.9149302325581399,
          0.4020697674418603,
          -0.22732999999999937,
          -0.4649302325581397,
          1.3226700000000005,
          -0.06493023255813934,
          0.30567000000000055,
          0.5020697674418599,
          -0.09432999999999936,
          -0.14793023255813953,
          -0.22732999999999937,
          -0.030930232558140425,
          -0.34432999999999936,
          0.18506976744186066,
          -0.2979302325581399,
          -0.1809302325581399,
          -0.2149302325581397,
          -0.030930232558140425,
          -0.38093023255814007,
          0.25206976744185994,
          -0.2149302325581397,
          0.32267000000000046,
          -0.11493023255814006,
          0.12267000000000072,
          0.1520697674418603,
          -0.21132999999999935,
          -0.24432999999999927,
          -0.014930232558139522,
          -0.3479302325581397,
          0.23867000000000083,
          -0.14793023255813953,
          0.25567000000000073,
          0.63506976744186,
          0.8056700000000006,
          0.2850697674418603,
          -0.4649302325581397,
          -0.011329999999999174,
          0.06906976744186011,
          0.03867000000000065,
          0.05206976744185976,
          0.10567000000000082,
          0.1520697674418603,
          -0.7309302325581402,
          0.20206976744186012,
          -0.14793023255813953,
          -0.4809302325581397,
          -0.38093023255814007,
          0.1520697674418603,
          -0.09432999999999936,
          -0.014930232558139522,
          0.4690697674418596,
          0.23506976744186048,
          -0.24432999999999927,
          -0.047930232558139885,
          -0.11132999999999926,
          0.15567000000000064,
          0.4520697674418601,
          -0.1809302325581399,
          0.05567000000000055,
          0.11906976744185993,
          -0.2773299999999994,
          0.16906976744185975
         ],
         "xaxis": "x4",
         "xbins": {
          "end": 1.95,
          "size": 0.3,
          "start": -1.95
         },
         "yaxis": "y4"
        },
        {
         "line": {
          "color": "black",
          "dash": "dot",
          "width": 2
         },
         "mode": "lines",
         "name": "Normal Distribution<br>(99.7% of its area)",
         "opacity": 0.5,
         "type": "scatter",
         "x": [
          -1.2356963309582185,
          -1.2256963309582185,
          -1.2156963309582185,
          -1.2056963309582185,
          -1.1956963309582185,
          -1.1856963309582185,
          -1.1756963309582185,
          -1.1656963309582185,
          -1.1556963309582184,
          -1.1456963309582184,
          -1.1356963309582184,
          -1.1256963309582184,
          -1.1156963309582184,
          -1.1056963309582184,
          -1.0956963309582184,
          -1.0856963309582184,
          -1.0756963309582184,
          -1.0656963309582184,
          -1.0556963309582184,
          -1.0456963309582183,
          -1.0356963309582183,
          -1.0256963309582183,
          -1.0156963309582183,
          -1.0056963309582183,
          -0.9956963309582183,
          -0.9856963309582183,
          -0.9756963309582183,
          -0.9656963309582183,
          -0.9556963309582183,
          -0.9456963309582183,
          -0.9356963309582182,
          -0.9256963309582182,
          -0.9156963309582182,
          -0.9056963309582182,
          -0.8956963309582182,
          -0.8856963309582182,
          -0.8756963309582182,
          -0.8656963309582182,
          -0.8556963309582182,
          -0.8456963309582182,
          -0.8356963309582182,
          -0.8256963309582181,
          -0.8156963309582181,
          -0.8056963309582181,
          -0.7956963309582181,
          -0.7856963309582181,
          -0.7756963309582181,
          -0.7656963309582181,
          -0.7556963309582181,
          -0.7456963309582181,
          -0.7356963309582181,
          -0.7256963309582181,
          -0.715696330958218,
          -0.705696330958218,
          -0.695696330958218,
          -0.685696330958218,
          -0.675696330958218,
          -0.665696330958218,
          -0.655696330958218,
          -0.645696330958218,
          -0.635696330958218,
          -0.625696330958218,
          -0.615696330958218,
          -0.605696330958218,
          -0.595696330958218,
          -0.5856963309582179,
          -0.5756963309582179,
          -0.5656963309582179,
          -0.5556963309582179,
          -0.5456963309582179,
          -0.5356963309582179,
          -0.5256963309582179,
          -0.5156963309582179,
          -0.5056963309582179,
          -0.49569633095821786,
          -0.48569633095821785,
          -0.47569633095821784,
          -0.46569633095821783,
          -0.4556963309582178,
          -0.4456963309582178,
          -0.4356963309582178,
          -0.4256963309582178,
          -0.4156963309582178,
          -0.4056963309582178,
          -0.39569633095821777,
          -0.38569633095821776,
          -0.37569633095821775,
          -0.36569633095821774,
          -0.35569633095821773,
          -0.3456963309582177,
          -0.3356963309582177,
          -0.3256963309582177,
          -0.3156963309582177,
          -0.3056963309582177,
          -0.2956963309582177,
          -0.28569633095821767,
          -0.27569633095821766,
          -0.26569633095821765,
          -0.25569633095821764,
          -0.24569633095821763,
          -0.23569633095821763,
          -0.22569633095821762,
          -0.2156963309582176,
          -0.2056963309582176,
          -0.1956963309582176,
          -0.18569633095821758,
          -0.17569633095821757,
          -0.16569633095821756,
          -0.15569633095821755,
          -0.14569633095821755,
          -0.13569633095821754,
          -0.12569633095821753,
          -0.11569633095821752,
          -0.10569633095821751,
          -0.0956963309582175,
          -0.08569633095821749,
          -0.07569633095821748,
          -0.06569633095821747,
          -0.055696330958217466,
          -0.04569633095821746,
          -0.03569633095821745,
          -0.02569633095821744,
          -0.01569633095821743,
          -0.0056963309582174215,
          0.004303669041782587,
          0.014303669041782596,
          0.024303669041782605,
          0.034303669041782614,
          0.04430366904178262,
          0.05430366904178263,
          0.06430366904178264,
          0.07430366904178265,
          0.08430366904178266,
          0.09430366904178267,
          0.10430366904178268,
          0.11430366904178269,
          0.1243036690417827,
          0.1343036690417827,
          0.1443036690417827,
          0.15430366904178272,
          0.16430366904178273,
          0.17430366904178274,
          0.18430366904178275,
          0.19430366904178276,
          0.20430366904178276,
          0.21430366904178277,
          0.22430366904178278,
          0.2343036690417828,
          0.2443036690417828,
          0.2543036690417828,
          0.2643036690417828,
          0.2743036690417828,
          0.28430366904178284,
          0.29430366904178284,
          0.30430366904178285,
          0.31430366904178286,
          0.32430366904178287,
          0.3343036690417829,
          0.3443036690417829,
          0.3543036690417829,
          0.3643036690417829,
          0.3743036690417829,
          0.3843036690417829,
          0.39430366904178293,
          0.40430366904178294,
          0.41430366904178295,
          0.42430366904178296,
          0.43430366904178297,
          0.444303669041783,
          0.454303669041783,
          0.464303669041783,
          0.474303669041783,
          0.484303669041783,
          0.494303669041783,
          0.504303669041783,
          0.514303669041783,
          0.524303669041783,
          0.5343036690417831,
          0.5443036690417831,
          0.5543036690417831,
          0.5643036690417831,
          0.5743036690417831,
          0.5843036690417831,
          0.5943036690417831,
          0.6043036690417831,
          0.6143036690417831,
          0.6243036690417831,
          0.6343036690417831,
          0.6443036690417832,
          0.6543036690417832,
          0.6643036690417832,
          0.6743036690417832,
          0.6843036690417832,
          0.6943036690417832,
          0.7043036690417832,
          0.7143036690417832,
          0.7243036690417832,
          0.7343036690417832,
          0.7443036690417832,
          0.7543036690417833,
          0.7643036690417833,
          0.7743036690417833,
          0.7843036690417833,
          0.7943036690417833,
          0.8043036690417833,
          0.8143036690417833,
          0.8243036690417833,
          0.8343036690417833,
          0.8443036690417833,
          0.8543036690417833,
          0.8643036690417834,
          0.8743036690417834,
          0.8843036690417834,
          0.8943036690417834,
          0.9043036690417834,
          0.9143036690417834,
          0.9243036690417834,
          0.9343036690417834,
          0.9443036690417834,
          0.9543036690417834,
          0.9643036690417834,
          0.9743036690417834,
          0.9843036690417835,
          0.9943036690417835,
          1.0043036690417835,
          1.0143036690417835,
          1.0243036690417835,
          1.0343036690417835,
          1.0443036690417835,
          1.0543036690417835,
          1.0643036690417835,
          1.0743036690417835,
          1.0843036690417835,
          1.0943036690417836,
          1.1043036690417836,
          1.1143036690417836,
          1.1243036690417836,
          1.1343036690417836,
          1.1443036690417836,
          1.1543036690417836,
          1.1643036690417836,
          1.1743036690417836,
          1.1843036690417836,
          1.1943036690417836,
          1.2043036690417837,
          1.2143036690417837,
          1.2243036690417837,
          1.2343036690417837
         ],
         "xaxis": "x4",
         "y": [
          0.010759557103729535,
          0.011569046364750826,
          0.01243210730407195,
          0.01335168138017811,
          0.014330824962518167,
          0.01537271036365071,
          0.01648062659345876,
          0.017657979812295183,
          0.018908293459517656,
          0.020235208033555507,
          0.02164248049942659,
          0.023133983299499734,
          0.024713702943286727,
          0.026385738152150617,
          0.028154297535047373,
          0.030023696771778182,
          0.03199835528073113,
          0.034082792348736346,
          0.03628162270145783,
          0.03859955149370177,
          0.04104136870014084,
          0.043611942888241086,
          0.04631621435663786,
          0.049159187623840556,
          0.0521459232539559,
          0.05528152900810915,
          0.058571150312408504,
          0.06201996003564137,
          0.06563314757241308,
          0.06941590723012699,
          0.07337342592106827,
          0.07751087016387148,
          0.08183337240183293,
          0.08634601664885055,
          0.09105382347723433,
          0.09596173436522083,
          0.10107459542572315,
          0.10639714054164857,
          0.11193397393700392,
          0.11768955221695876,
          0.12366816591404119,
          0.12987392058167635,
          0.13631071748032103,
          0.14298223390548273,
          0.14989190321091334,
          0.15704289458421156,
          0.16443809263593145,
          0.17208007686705246,
          0.17997110108329442,
          0.18811307282822712,
          0.1965075329104115,
          0.2051556351028863,
          0.21405812609614913,
          0.2232153257883625,
          0.23262710799879927,
          0.24229288169251953,
          0.2522115728059085,
          0.2623816067639776,
          0.27280089178122663,
          0.28346680303835287,
          0.29437616782715303,
          0.3055252517555946,
          0.31690974610419104,
          0.3285247564235191,
          0.34036479246092566,
          0.35242375950219845,
          0.3646949512112017,
          0.3771710440472082,
          0.38984409333588327,
          0.40270553106561247,
          0.4157461654760952,
          0.4289561825008884,
          0.44232514911986365,
          0.4558420186713656,
          0.46949513816725397,
          0.4832722576469762,
          0.4971605415994009,
          0.5111465824733602,
          0.5252164162897237,
          0.5393555403594191,
          0.5535489331031281,
          0.567781075959485,
          0.5820359773595176,
          0.596297198735853,
          0.610547882525881,
          0.6247707821187247,
          0.6389482936864939,
          0.6530624898310061,
          0.6670951549679612,
          0.6810278223615133,
          0.6948418127133612,
          0.7085182742019052,
          0.7220382238587697,
          0.7353825901620986,
          0.7485322567185564,
          0.7614681068989532,
          0.7741710692859078,
          0.786622163786014,
          0.7988025482536133,
          0.8106935654685591,
          0.8222767903063033,
          0.8335340769352862,
          0.8444476058739918,
          0.8549999307381682,
          0.8651740245076323,
          0.8749533251417855,
          0.8843217803734797,
          0.8932638915122166,
          0.9017647560897949,
          0.9098101091844945,
          0.9173863632636554,
          0.9244806463890689,
          0.9310808386349579,
          0.9371756065744176,
          0.9427544356970338,
          0.9478076606279323,
          0.9523264930267245,
          0.9563030470536447,
          0.9597303622996033,
          0.9626024240868318,
          0.9649141810572506,
          0.9666615599765647,
          0.9678414776933646,
          0.9684518502040802,
          0.9684915987864832,
          0.9679606531764717,
          0.9668599517750414,
          0.965191438884589,
          0.962958058985941,
          0.9601637480796886,
          0.9568134221274658,
          0.9529129626406846,
          0.9484691994758613,
          0.9434898909069751,
          0.9379837010562434,
          0.9319601747752054,
          0.9254297100780391,
          0.9184035282385328,
          0.9108936416710578,
          0.9029128197241805,
          0.8944745525231901,
          0.8855930130047601,
          0.8762830172931636,
          0.8665599835729236,
          0.8564398896174535,
          0.8459392291371243,
          0.8350749671132721,
          0.8238644942869238,
          0.8123255809724556,
          0.8004763303670396,
          0.7883351315265459,
          0.7759206121775984,
          0.7632515915337288,
          0.7503470332810535,
          0.7372259988956559,
          0.7239076014508931,
          0.7104109600682186,
          0.6967551551598394,
          0.6829591846056592,
          0.6690419210005206,
          0.6550220701008269,
          0.6409181305921949,
          0.6267483552919685,
          0.6125307138922104,
          0.5982828573402613,
          0.5840220839451677,
          0.5697653072892588,
          0.5555290260149797,
          0.5413292955478027,
          0.5271817018066713,
          0.5131013369440879,
          0.49910277714861406,
          0.48520006253332226,
          0.47140667912462797,
          0.45773554295699576,
          0.4441989862703063,
          0.4308087457982106,
          0.4175759531276353,
          0.4045111271017757,
          0.39162416823143525,
          0.3789243550724863,
          0.36642034252055905,
          0.35412016196782625,
          0.34203122326097113,
          0.3301603183941147,
          0.3185136268656463,
          0.30709672262356663,
          0.2959145825201061,
          0.2849715961930451,
          0.2742715772883163,
          0.26381777593612854,
          0.2536128923909957,
          0.24365909174468792,
          0.23395801962021623,
          0.22451081875453277,
          0.21531814637762248,
          0.2063801922960993,
          0.19769669759025502,
          0.18926697383473018,
          0.1810899227545701,
          0.17316405623035258,
          0.1654875165683238,
          0.15805809695401607,
          0.15087326201062445,
          0.1439301683864636,
          0.13722568529908602,
          0.13075641496708415,
          0.1245187128642098,
          0.11850870773418011,
          0.11272232130839535,
          0.10715528767272281,
          0.1018031722335006,
          0.09666139023694373,
          0.09172522480017942,
          0.08698984441617674,
          0.08245031989884541,
          0.07810164073853663,
          0.07393873084207804,
          0.06995646363528601,
          0.06614967650961562,
          0.06251318459821072,
          0.05904179387009738,
          0.05573031353460776,
          0.05257356775131766,
          0.04956640664382685,
          0.046703716618593474,
          0.04398042999274786,
          0.04139153393735659,
          0.038932078744975646,
          0.036597185432522175,
          0.03438205269250874,
          0.03228196320751932,
          0.03029228934446298,
          0.02840849824662602,
          0.02662615634285407,
          0.02494093329433812,
          0.02334860540045774,
          0.021845058485955124,
          0.020426290292380852,
          0.019088412397271933,
          0.017827651684903672,
          0.016640351392703798,
          0.015522971757537928,
          0.014472090286079037,
          0.013484401673366305,
          0.012556717393447884,
          0.011685964985698096,
          0.01086918706000814
         ],
         "yaxis": "y4"
        }
       ],
       "layout": {
        "annotations": [
         {
          "font": {
           "size": 16
          },
          "showarrow": false,
          "text": "<br>Model 1:<br>All Data using slope",
          "x": 0.225,
          "xanchor": "center",
          "xref": "paper",
          "y": 1,
          "yanchor": "bottom",
          "yref": "paper"
         },
         {
          "font": {
           "size": 16
          },
          "showarrow": false,
          "text": "<br>Model 2:<br>Short Wait Data",
          "x": 0.775,
          "xanchor": "center",
          "xref": "paper",
          "y": 1,
          "yanchor": "bottom",
          "yref": "paper"
         },
         {
          "font": {
           "size": 16
          },
          "showarrow": false,
          "text": "<br>Model 3:<br>Long Wait Data",
          "x": 0.225,
          "xanchor": "center",
          "xref": "paper",
          "y": 0.375,
          "yanchor": "bottom",
          "yref": "paper"
         },
         {
          "font": {
           "size": 16
          },
          "showarrow": false,
          "text": "<br>Model 4:<br>All Data using indicator",
          "x": 0.775,
          "xanchor": "center",
          "xref": "paper",
          "y": 0.375,
          "yanchor": "bottom",
          "yref": "paper"
         }
        ],
        "template": {
         "data": {
          "bar": [
           {
            "error_x": {
             "color": "#2a3f5f"
            },
            "error_y": {
             "color": "#2a3f5f"
            },
            "marker": {
             "line": {
              "color": "#E5ECF6",
              "width": 0.5
             },
             "pattern": {
              "fillmode": "overlay",
              "size": 10,
              "solidity": 0.2
             }
            },
            "type": "bar"
           }
          ],
          "barpolar": [
           {
            "marker": {
             "line": {
              "color": "#E5ECF6",
              "width": 0.5
             },
             "pattern": {
              "fillmode": "overlay",
              "size": 10,
              "solidity": 0.2
             }
            },
            "type": "barpolar"
           }
          ],
          "carpet": [
           {
            "aaxis": {
             "endlinecolor": "#2a3f5f",
             "gridcolor": "white",
             "linecolor": "white",
             "minorgridcolor": "white",
             "startlinecolor": "#2a3f5f"
            },
            "baxis": {
             "endlinecolor": "#2a3f5f",
             "gridcolor": "white",
             "linecolor": "white",
             "minorgridcolor": "white",
             "startlinecolor": "#2a3f5f"
            },
            "type": "carpet"
           }
          ],
          "choropleth": [
           {
            "colorbar": {
             "outlinewidth": 0,
             "ticks": ""
            },
            "type": "choropleth"
           }
          ],
          "contour": [
           {
            "colorbar": {
             "outlinewidth": 0,
             "ticks": ""
            },
            "colorscale": [
             [
              0,
              "#0d0887"
             ],
             [
              0.1111111111111111,
              "#46039f"
             ],
             [
              0.2222222222222222,
              "#7201a8"
             ],
             [
              0.3333333333333333,
              "#9c179e"
             ],
             [
              0.4444444444444444,
              "#bd3786"
             ],
             [
              0.5555555555555556,
              "#d8576b"
             ],
             [
              0.6666666666666666,
              "#ed7953"
             ],
             [
              0.7777777777777778,
              "#fb9f3a"
             ],
             [
              0.8888888888888888,
              "#fdca26"
             ],
             [
              1,
              "#f0f921"
             ]
            ],
            "type": "contour"
           }
          ],
          "contourcarpet": [
           {
            "colorbar": {
             "outlinewidth": 0,
             "ticks": ""
            },
            "type": "contourcarpet"
           }
          ],
          "heatmap": [
           {
            "colorbar": {
             "outlinewidth": 0,
             "ticks": ""
            },
            "colorscale": [
             [
              0,
              "#0d0887"
             ],
             [
              0.1111111111111111,
              "#46039f"
             ],
             [
              0.2222222222222222,
              "#7201a8"
             ],
             [
              0.3333333333333333,
              "#9c179e"
             ],
             [
              0.4444444444444444,
              "#bd3786"
             ],
             [
              0.5555555555555556,
              "#d8576b"
             ],
             [
              0.6666666666666666,
              "#ed7953"
             ],
             [
              0.7777777777777778,
              "#fb9f3a"
             ],
             [
              0.8888888888888888,
              "#fdca26"
             ],
             [
              1,
              "#f0f921"
             ]
            ],
            "type": "heatmap"
           }
          ],
          "heatmapgl": [
           {
            "colorbar": {
             "outlinewidth": 0,
             "ticks": ""
            },
            "colorscale": [
             [
              0,
              "#0d0887"
             ],
             [
              0.1111111111111111,
              "#46039f"
             ],
             [
              0.2222222222222222,
              "#7201a8"
             ],
             [
              0.3333333333333333,
              "#9c179e"
             ],
             [
              0.4444444444444444,
              "#bd3786"
             ],
             [
              0.5555555555555556,
              "#d8576b"
             ],
             [
              0.6666666666666666,
              "#ed7953"
             ],
             [
              0.7777777777777778,
              "#fb9f3a"
             ],
             [
              0.8888888888888888,
              "#fdca26"
             ],
             [
              1,
              "#f0f921"
             ]
            ],
            "type": "heatmapgl"
           }
          ],
          "histogram": [
           {
            "marker": {
             "pattern": {
              "fillmode": "overlay",
              "size": 10,
              "solidity": 0.2
             }
            },
            "type": "histogram"
           }
          ],
          "histogram2d": [
           {
            "colorbar": {
             "outlinewidth": 0,
             "ticks": ""
            },
            "colorscale": [
             [
              0,
              "#0d0887"
             ],
             [
              0.1111111111111111,
              "#46039f"
             ],
             [
              0.2222222222222222,
              "#7201a8"
             ],
             [
              0.3333333333333333,
              "#9c179e"
             ],
             [
              0.4444444444444444,
              "#bd3786"
             ],
             [
              0.5555555555555556,
              "#d8576b"
             ],
             [
              0.6666666666666666,
              "#ed7953"
             ],
             [
              0.7777777777777778,
              "#fb9f3a"
             ],
             [
              0.8888888888888888,
              "#fdca26"
             ],
             [
              1,
              "#f0f921"
             ]
            ],
            "type": "histogram2d"
           }
          ],
          "histogram2dcontour": [
           {
            "colorbar": {
             "outlinewidth": 0,
             "ticks": ""
            },
            "colorscale": [
             [
              0,
              "#0d0887"
             ],
             [
              0.1111111111111111,
              "#46039f"
             ],
             [
              0.2222222222222222,
              "#7201a8"
             ],
             [
              0.3333333333333333,
              "#9c179e"
             ],
             [
              0.4444444444444444,
              "#bd3786"
             ],
             [
              0.5555555555555556,
              "#d8576b"
             ],
             [
              0.6666666666666666,
              "#ed7953"
             ],
             [
              0.7777777777777778,
              "#fb9f3a"
             ],
             [
              0.8888888888888888,
              "#fdca26"
             ],
             [
              1,
              "#f0f921"
             ]
            ],
            "type": "histogram2dcontour"
           }
          ],
          "mesh3d": [
           {
            "colorbar": {
             "outlinewidth": 0,
             "ticks": ""
            },
            "type": "mesh3d"
           }
          ],
          "parcoords": [
           {
            "line": {
             "colorbar": {
              "outlinewidth": 0,
              "ticks": ""
             }
            },
            "type": "parcoords"
           }
          ],
          "pie": [
           {
            "automargin": true,
            "type": "pie"
           }
          ],
          "scatter": [
           {
            "fillpattern": {
             "fillmode": "overlay",
             "size": 10,
             "solidity": 0.2
            },
            "type": "scatter"
           }
          ],
          "scatter3d": [
           {
            "line": {
             "colorbar": {
              "outlinewidth": 0,
              "ticks": ""
             }
            },
            "marker": {
             "colorbar": {
              "outlinewidth": 0,
              "ticks": ""
             }
            },
            "type": "scatter3d"
           }
          ],
          "scattercarpet": [
           {
            "marker": {
             "colorbar": {
              "outlinewidth": 0,
              "ticks": ""
             }
            },
            "type": "scattercarpet"
           }
          ],
          "scattergeo": [
           {
            "marker": {
             "colorbar": {
              "outlinewidth": 0,
              "ticks": ""
             }
            },
            "type": "scattergeo"
           }
          ],
          "scattergl": [
           {
            "marker": {
             "colorbar": {
              "outlinewidth": 0,
              "ticks": ""
             }
            },
            "type": "scattergl"
           }
          ],
          "scattermapbox": [
           {
            "marker": {
             "colorbar": {
              "outlinewidth": 0,
              "ticks": ""
             }
            },
            "type": "scattermapbox"
           }
          ],
          "scatterpolar": [
           {
            "marker": {
             "colorbar": {
              "outlinewidth": 0,
              "ticks": ""
             }
            },
            "type": "scatterpolar"
           }
          ],
          "scatterpolargl": [
           {
            "marker": {
             "colorbar": {
              "outlinewidth": 0,
              "ticks": ""
             }
            },
            "type": "scatterpolargl"
           }
          ],
          "scatterternary": [
           {
            "marker": {
             "colorbar": {
              "outlinewidth": 0,
              "ticks": ""
             }
            },
            "type": "scatterternary"
           }
          ],
          "surface": [
           {
            "colorbar": {
             "outlinewidth": 0,
             "ticks": ""
            },
            "colorscale": [
             [
              0,
              "#0d0887"
             ],
             [
              0.1111111111111111,
              "#46039f"
             ],
             [
              0.2222222222222222,
              "#7201a8"
             ],
             [
              0.3333333333333333,
              "#9c179e"
             ],
             [
              0.4444444444444444,
              "#bd3786"
             ],
             [
              0.5555555555555556,
              "#d8576b"
             ],
             [
              0.6666666666666666,
              "#ed7953"
             ],
             [
              0.7777777777777778,
              "#fb9f3a"
             ],
             [
              0.8888888888888888,
              "#fdca26"
             ],
             [
              1,
              "#f0f921"
             ]
            ],
            "type": "surface"
           }
          ],
          "table": [
           {
            "cells": {
             "fill": {
              "color": "#EBF0F8"
             },
             "line": {
              "color": "white"
             }
            },
            "header": {
             "fill": {
              "color": "#C8D4E3"
             },
             "line": {
              "color": "white"
             }
            },
            "type": "table"
           }
          ]
         },
         "layout": {
          "annotationdefaults": {
           "arrowcolor": "#2a3f5f",
           "arrowhead": 0,
           "arrowwidth": 1
          },
          "autotypenumbers": "strict",
          "coloraxis": {
           "colorbar": {
            "outlinewidth": 0,
            "ticks": ""
           }
          },
          "colorscale": {
           "diverging": [
            [
             0,
             "#8e0152"
            ],
            [
             0.1,
             "#c51b7d"
            ],
            [
             0.2,
             "#de77ae"
            ],
            [
             0.3,
             "#f1b6da"
            ],
            [
             0.4,
             "#fde0ef"
            ],
            [
             0.5,
             "#f7f7f7"
            ],
            [
             0.6,
             "#e6f5d0"
            ],
            [
             0.7,
             "#b8e186"
            ],
            [
             0.8,
             "#7fbc41"
            ],
            [
             0.9,
             "#4d9221"
            ],
            [
             1,
             "#276419"
            ]
           ],
           "sequential": [
            [
             0,
             "#0d0887"
            ],
            [
             0.1111111111111111,
             "#46039f"
            ],
            [
             0.2222222222222222,
             "#7201a8"
            ],
            [
             0.3333333333333333,
             "#9c179e"
            ],
            [
             0.4444444444444444,
             "#bd3786"
            ],
            [
             0.5555555555555556,
             "#d8576b"
            ],
            [
             0.6666666666666666,
             "#ed7953"
            ],
            [
             0.7777777777777778,
             "#fb9f3a"
            ],
            [
             0.8888888888888888,
             "#fdca26"
            ],
            [
             1,
             "#f0f921"
            ]
           ],
           "sequentialminus": [
            [
             0,
             "#0d0887"
            ],
            [
             0.1111111111111111,
             "#46039f"
            ],
            [
             0.2222222222222222,
             "#7201a8"
            ],
            [
             0.3333333333333333,
             "#9c179e"
            ],
            [
             0.4444444444444444,
             "#bd3786"
            ],
            [
             0.5555555555555556,
             "#d8576b"
            ],
            [
             0.6666666666666666,
             "#ed7953"
            ],
            [
             0.7777777777777778,
             "#fb9f3a"
            ],
            [
             0.8888888888888888,
             "#fdca26"
            ],
            [
             1,
             "#f0f921"
            ]
           ]
          },
          "colorway": [
           "#636efa",
           "#EF553B",
           "#00cc96",
           "#ab63fa",
           "#FFA15A",
           "#19d3f3",
           "#FF6692",
           "#B6E880",
           "#FF97FF",
           "#FECB52"
          ],
          "font": {
           "color": "#2a3f5f"
          },
          "geo": {
           "bgcolor": "white",
           "lakecolor": "white",
           "landcolor": "#E5ECF6",
           "showlakes": true,
           "showland": true,
           "subunitcolor": "white"
          },
          "hoverlabel": {
           "align": "left"
          },
          "hovermode": "closest",
          "mapbox": {
           "style": "light"
          },
          "paper_bgcolor": "white",
          "plot_bgcolor": "#E5ECF6",
          "polar": {
           "angularaxis": {
            "gridcolor": "white",
            "linecolor": "white",
            "ticks": ""
           },
           "bgcolor": "#E5ECF6",
           "radialaxis": {
            "gridcolor": "white",
            "linecolor": "white",
            "ticks": ""
           }
          },
          "scene": {
           "xaxis": {
            "backgroundcolor": "#E5ECF6",
            "gridcolor": "white",
            "gridwidth": 2,
            "linecolor": "white",
            "showbackground": true,
            "ticks": "",
            "zerolinecolor": "white"
           },
           "yaxis": {
            "backgroundcolor": "#E5ECF6",
            "gridcolor": "white",
            "gridwidth": 2,
            "linecolor": "white",
            "showbackground": true,
            "ticks": "",
            "zerolinecolor": "white"
           },
           "zaxis": {
            "backgroundcolor": "#E5ECF6",
            "gridcolor": "white",
            "gridwidth": 2,
            "linecolor": "white",
            "showbackground": true,
            "ticks": "",
            "zerolinecolor": "white"
           }
          },
          "shapedefaults": {
           "line": {
            "color": "#2a3f5f"
           }
          },
          "ternary": {
           "aaxis": {
            "gridcolor": "white",
            "linecolor": "white",
            "ticks": ""
           },
           "baxis": {
            "gridcolor": "white",
            "linecolor": "white",
            "ticks": ""
           },
           "bgcolor": "#E5ECF6",
           "caxis": {
            "gridcolor": "white",
            "linecolor": "white",
            "ticks": ""
           }
          },
          "title": {
           "x": 0.05
          },
          "xaxis": {
           "automargin": true,
           "gridcolor": "white",
           "linecolor": "white",
           "ticks": "",
           "title": {
            "standoff": 15
           },
           "zerolinecolor": "white",
           "zerolinewidth": 2
          },
          "yaxis": {
           "automargin": true,
           "gridcolor": "white",
           "linecolor": "white",
           "ticks": "",
           "title": {
            "standoff": 15
           },
           "zerolinecolor": "white",
           "zerolinewidth": 2
          }
         }
        },
        "title": {
         "text": "Histograms of Residuals from Different Models"
        },
        "xaxis": {
         "anchor": "y",
         "domain": [
          0,
          0.45
         ],
         "range": [
          -2,
          2
         ],
         "title": {
          "text": "n=272"
         }
        },
        "xaxis2": {
         "anchor": "y2",
         "domain": [
          0.55,
          1
         ],
         "range": [
          -2,
          2
         ],
         "title": {
          "text": "n=83"
         }
        },
        "xaxis3": {
         "anchor": "y3",
         "domain": [
          0,
          0.45
         ],
         "range": [
          -2,
          2
         ],
         "title": {
          "text": "n=160"
         }
        },
        "xaxis4": {
         "anchor": "y4",
         "domain": [
          0.55,
          1
         ],
         "range": [
          -2,
          2
         ],
         "title": {
          "text": "n=272"
         }
        },
        "yaxis": {
         "anchor": "x",
         "domain": [
          0.625,
          1
         ]
        },
        "yaxis2": {
         "anchor": "x2",
         "domain": [
          0.625,
          1
         ]
        },
        "yaxis3": {
         "anchor": "x3",
         "domain": [
          0,
          0.375
         ]
        },
        "yaxis4": {
         "anchor": "x4",
         "domain": [
          0,
          0.375
         ]
        }
       }
      },
      "text/html": [
       "<div>                            <div id=\"37a96d56-735b-4f11-9785-74f36c7fc3ec\" class=\"plotly-graph-div\" style=\"height:525px; width:100%;\"></div>            <script type=\"text/javascript\">                require([\"plotly\"], function(Plotly) {                    window.PLOTLYENV=window.PLOTLYENV || {};                                    if (document.getElementById(\"37a96d56-735b-4f11-9785-74f36c7fc3ec\")) {                    Plotly.newPlot(                        \"37a96d56-735b-4f11-9785-74f36c7fc3ec\",                        [{\"histnorm\":\"probability density\",\"name\":\"\\u003cbr\\u003eModel 1:\\u003cbr\\u003eAll Data using slope\",\"x\":[-0.500591901786414,-0.4098932029898472,-0.38945216202710053,-0.5319167866047487,-0.02135958949758976,0.5974788490582901,-0.08124343335317796,-0.95435958949759,-0.033009359134259286,-0.20435958949759048,-0.3768932029898473,-0.5617316415457276,0.17503604616544877,0.06950243267319145,0.2968963064061354,0.1083626929138779,-1.0649167866047486,0.3212683584542724,-0.4586373070861218,0.14940809821358592,-0.1830093591342592,0.06950243267319145,-0.5749639538345512,-0.27731242226778763,0.8105478379728996,-0.8031036935938647,-0.31852115094170985,0.20929194206917412,-0.17496395383455132,0.33240809821358575,0.6531757859247618,0.5176639941173109,0.24957142158780066,-0.1432198497382764,0.11054783797289947,-0.04163730708612201,0.11087448472132877,0.6567801502617234,-0.7550329427491607,-0.14949932925690312,0.1737801502617229,-0.629404994797298,0.08826835845427272,-0.762404994797298,0.8861757859247623,-1.086103693593865,0.8668273174915262,-0.0342652550379845,0.3055242543579979,-0.5880329427491606,1.0019198900210364,-0.2164993292569033,-0.3768932029898473,0.6567801502617234,-0.47689320298984716,0.47989630640613523,0.22143168182848738,-1.2991726825084742,0.6176639941173114,0.06515220230986074,-0.35503294274916053,0.02126835845427255,-0.006125515278671223,0.4725242543579977,-0.8466608907010233,-0.6837552251606285,0.1420360461654484,0.6750360461654488,-0.9748006304603369,1.0531757859247621,-0.29447574564200174,-0.3941490988935725,0.3994080982135859,0.5044316818284873,-0.8319167866047485,1.193291942069174,-0.6466608907010234,0.5420360461654488,0.009291942069173942,-0.8031036935938647,0.3349198900210366,0.005524254357998082,0.6800596297803496,-0.40880063046033666,0.4201757859247621,0.1517565666468217,0.07629194206917411,0.3407801502617227,0.4108744847213286,-0.6299875374494528,-0.4636608907010231,-0.5994993292569033,-0.040381411182396576,0.7920360461654488,-1.0575447345566114,0.7288037338766244,0.18826835845427237,-0.04808010997896339,-0.11600935913425925,0.5725242543579983,-0.33191678660474855,-0.41424343335317815,0.2682465367694662,0.09689630640613522,-0.2018477976901396,0.18650243267319144,0.22126835845427273,-0.275637307086122,0.22001246255054685,-0.5688477976901396,0.9349198900210371,-0.2880329427491608,0.04312861869495954,0.31640809821358573,-0.8880329427491607,0.3811522023098606,0.40961858881760316,0.04564041050240952,-0.7710329427491607,-0.28861548540131565,0.4827347449620154,0.7226875777322128,0.30066399411731126,-0.3941490988935725,-0.1812434333531785,-0.4848477976901395,0.38775832857691683,0.1725242543579979,-0.01852115094171003,-0.28249932925690313,0.3377583285769168,-0.23610369359386496,0.4388509011064272,-0.5238713813050406,0.22813038062505409,0.055524254357997904,-0.10000935913425923,0.30301246255054703,-0.10126525503798467,-0.367591901786414,-0.01884779769013889,-0.4306608907010232,0.20552425435799826,0.8676639941173114,0.4592919420691741,-0.6050329427491605,0.45678015026172325,0.185246536769466,-0.2862670169680799,-0.33426525503798454,1.0836639941173116,0.05066399411731126,-0.6418006304603368,0.3481522023098602,0.07143168182848703,0.58005962978035,0.24815220230986057,-1.0763831731124913,-0.33426525503798454,-0.8898713813050407,0.670758328576917,-0.47998753744945244,-0.512404994797298,-0.19196395383455123,0.38257142158780066,0.7092919420691741,-0.5235447345566113,0.21875656664682186,-0.12563730708612186,-0.5423831731124915,0.08524653676946614,-0.3537770468454351,0.6336639941173114,0.0643155256840755,-0.08484779769013961,0.08115220230986075,0.853175785924762,0.5096185888176032,-0.5543595894975901,0.4445478379728991,-0.4025211509417099,0.6336639941173114,-0.15310369359386478,-0.6361036935938649,0.049990640865740676,0.4080360461654484,-0.39573164154572726,0.22813038062505409,0.01389630640613504,-0.10252115094170966,0.5481522023098604,-0.6037770468454353,0.9262919420691738,-0.3787316415457278,0.016663994117311454,-0.01884779769013889,-1.2056154854013155,0.4166639941173118,0.26699064086574076,0.6420360461654484,-0.5636608907010232,0.022524254357997542,-0.8751272772087662,-0.2672652550379846,0.5750360461654482,0.17813038062505404,0.41766399411731125,-0.6287316415457274,0.10124653676946616,0.09689630640613522,-1.1125683181715127,0.5237801502617234,0.0352465367694661,0.03491989002103679,0.4508273174915258,0.3592919420691745,0.2657347449620153,-0.43501112106435436,-0.28552115094170993,0.2762919420691743,-0.040381411182396576,-0.06047574564200264,-0.45989320298984726,0.6849198900210371,-0.02496395383455141,0.01640809821358591,0.058036046165448774,0.24203604616544805,0.4970596297803498,0.44940809821358574,0.6630596297803502,0.20710679701015255,-0.44698753744945297,0.3096185888176035,-0.4824993292569033,-0.32689320298984725,-0.35989320298984717,0.3336639941173116,-0.1505919017864139,-0.6331726825084738,0.35191989002103696,0.6695024326731915,0.30301246255054703,0.009455265443388594,0.028640410502410063,-0.4944757456420019,-0.3537770468454351,0.03952425435799789,-1.060056526364062,0.6275478379728989,-0.009893202989847083,0.0468963064061354,-0.07982421407523832,0.853175785924762,-0.6312434333531778,-0.3592198497382766,0.4214316818284871,0.0468963064061354,-0.3611490988935726,0.18240809821358628,0.742036046165448,0.054268358454272914,-0.6624049947972979,-0.15310369359386478,0.6050142244806422,-0.4136608907010233,0.9519198900210366,-0.13484779769013944,0.545130380625054,-0.5154993292569037,0.21213038062505407,0.7445478379728989],\"xbins\":{\"end\":1.95,\"size\":0.3,\"start\":-1.95},\"type\":\"histogram\",\"xaxis\":\"x\",\"yaxis\":\"y\"},{\"line\":{\"color\":\"black\",\"dash\":\"dot\",\"width\":2},\"mode\":\"lines\",\"name\":\"Normal Distribution\\u003cbr\\u003e(99.7% of its area)\",\"opacity\":0.5,\"x\":[-1.4867880403088833,-1.4767880403088833,-1.4667880403088833,-1.4567880403088833,-1.4467880403088833,-1.4367880403088833,-1.4267880403088833,-1.4167880403088833,-1.4067880403088833,-1.3967880403088833,-1.3867880403088833,-1.3767880403088832,-1.3667880403088832,-1.3567880403088832,-1.3467880403088832,-1.3367880403088832,-1.3267880403088832,-1.3167880403088832,-1.3067880403088832,-1.2967880403088832,-1.2867880403088832,-1.2767880403088832,-1.2667880403088831,-1.2567880403088831,-1.2467880403088831,-1.2367880403088831,-1.226788040308883,-1.216788040308883,-1.206788040308883,-1.196788040308883,-1.186788040308883,-1.176788040308883,-1.166788040308883,-1.156788040308883,-1.146788040308883,-1.136788040308883,-1.126788040308883,-1.116788040308883,-1.106788040308883,-1.096788040308883,-1.086788040308883,-1.076788040308883,-1.066788040308883,-1.056788040308883,-1.046788040308883,-1.036788040308883,-1.026788040308883,-1.016788040308883,-1.006788040308883,-0.9967880403088829,-0.9867880403088829,-0.9767880403088829,-0.9667880403088829,-0.9567880403088829,-0.9467880403088829,-0.9367880403088829,-0.9267880403088828,-0.9167880403088828,-0.9067880403088828,-0.8967880403088828,-0.8867880403088828,-0.8767880403088828,-0.8667880403088828,-0.8567880403088828,-0.8467880403088828,-0.8367880403088828,-0.8267880403088828,-0.8167880403088827,-0.8067880403088827,-0.7967880403088827,-0.7867880403088827,-0.7767880403088827,-0.7667880403088827,-0.7567880403088827,-0.7467880403088827,-0.7367880403088827,-0.7267880403088827,-0.7167880403088827,-0.7067880403088826,-0.6967880403088826,-0.6867880403088826,-0.6767880403088826,-0.6667880403088826,-0.6567880403088826,-0.6467880403088826,-0.6367880403088826,-0.6267880403088826,-0.6167880403088826,-0.6067880403088826,-0.5967880403088826,-0.5867880403088825,-0.5767880403088825,-0.5667880403088825,-0.5567880403088825,-0.5467880403088825,-0.5367880403088825,-0.5267880403088825,-0.5167880403088825,-0.5067880403088825,-0.49678804030888246,-0.48678804030888245,-0.47678804030888244,-0.46678804030888243,-0.4567880403088824,-0.4467880403088824,-0.4367880403088824,-0.4267880403088824,-0.4167880403088824,-0.4067880403088824,-0.3967880403088824,-0.38678804030888236,-0.37678804030888235,-0.36678804030888235,-0.35678804030888234,-0.34678804030888233,-0.3367880403088823,-0.3267880403088823,-0.3167880403088823,-0.3067880403088823,-0.2967880403088823,-0.2867880403088823,-0.27678804030888227,-0.26678804030888226,-0.25678804030888225,-0.24678804030888224,-0.23678804030888223,-0.22678804030888222,-0.2167880403088822,-0.2067880403088822,-0.1967880403088822,-0.1867880403088822,-0.17678804030888218,-0.16678804030888217,-0.15678804030888216,-0.14678804030888215,-0.13678804030888214,-0.12678804030888213,-0.11678804030888212,-0.10678804030888212,-0.0967880403088821,-0.0867880403088821,-0.07678804030888209,-0.06678804030888208,-0.05678804030888207,-0.04678804030888206,-0.03678804030888205,-0.026788040308882044,-0.016788040308882035,-0.006788040308882026,0.0032119596911179826,0.013211959691117992,0.023211959691118,0.03321195969111801,0.04321195969111802,0.05321195969111803,0.06321195969111804,0.07321195969111804,0.08321195969111805,0.09321195969111806,0.10321195969111807,0.11321195969111808,0.12321195969111809,0.1332119596911181,0.1432119596911181,0.15321195969111812,0.16321195969111812,0.17321195969111813,0.18321195969111814,0.19321195969111815,0.20321195969111816,0.21321195969111817,0.22321195969111818,0.2332119596911182,0.2432119596911182,0.2532119596911182,0.2632119596911182,0.2732119596911182,0.28321195969111823,0.29321195969111824,0.30321195969111825,0.31321195969111826,0.32321195969111827,0.3332119596911183,0.3432119596911183,0.3532119596911183,0.3632119596911183,0.3732119596911183,0.3832119596911183,0.39321195969111833,0.40321195969111834,0.41321195969111835,0.42321195969111836,0.43321195969111836,0.4432119596911184,0.4532119596911184,0.4632119596911184,0.4732119596911184,0.4832119596911184,0.4932119596911184,0.5032119596911184,0.5132119596911184,0.5232119596911184,0.5332119596911185,0.5432119596911185,0.5532119596911185,0.5632119596911185,0.5732119596911185,0.5832119596911185,0.5932119596911185,0.6032119596911185,0.6132119596911185,0.6232119596911185,0.6332119596911185,0.6432119596911186,0.6532119596911186,0.6632119596911186,0.6732119596911186,0.6832119596911186,0.6932119596911186,0.7032119596911186,0.7132119596911186,0.7232119596911186,0.7332119596911186,0.7432119596911186,0.7532119596911186,0.7632119596911187,0.7732119596911187,0.7832119596911187,0.7932119596911187,0.8032119596911187,0.8132119596911187,0.8232119596911187,0.8332119596911187,0.8432119596911187,0.8532119596911187,0.8632119596911187,0.8732119596911188,0.8832119596911188,0.8932119596911188,0.9032119596911188,0.9132119596911188,0.9232119596911188,0.9332119596911188,0.9432119596911188,0.9532119596911188,0.9632119596911188,0.9732119596911188,0.9832119596911189,0.9932119596911189,1.0032119596911189,1.0132119596911189,1.0232119596911189,1.033211959691119,1.043211959691119,1.053211959691119,1.063211959691119,1.073211959691119,1.083211959691119,1.093211959691119,1.103211959691119,1.113211959691119,1.123211959691119,1.133211959691119,1.143211959691119,1.153211959691119,1.163211959691119,1.173211959691119,1.183211959691119,1.193211959691119,1.203211959691119,1.213211959691119,1.223211959691119,1.233211959691119,1.243211959691119,1.253211959691119,1.263211959691119,1.273211959691119,1.2832119596911191,1.2932119596911191,1.3032119596911191,1.3132119596911191,1.3232119596911192,1.3332119596911192,1.3432119596911192,1.3532119596911192,1.3632119596911192,1.3732119596911192,1.3832119596911192,1.3932119596911192,1.4032119596911192,1.4132119596911192,1.4232119596911192,1.4332119596911193,1.4432119596911193,1.4532119596911193,1.4632119596911193,1.4732119596911193,1.4832119596911193],\"y\":[0.008942461786988713,0.009498562992670802,0.01008513933061956,0.010703580482900397,0.011355321544649936,0.012041843401162839,0.012764673032018288,0.01352538373703933,0.01432559527879199,0.015166973936257268,0.016051232464248395,0.016980129953100016,0.017955471583126086,0.01897910826832915,0.020052936183848263,0.021178896171655692,0.02235897301905483,0.023595194604595016,0.024889630906104222,0.026244392865646955,0.027661631106346365,0.02914353449616354,0.030692328553907324,0.03231027369295255,0.03399966329837667,0.03576282163348283,0.037602101571962324,0.03951988215226294,0.04151856595107024,0.043600576273177497,0.04576835415541658,0.04802435518274808,0.05037104611505948,0.05281090132370252,0.05534639903730706,0.057980017396942314,0.06071423032125679,0.0635515031828128,0.06649428829743897,0.06954502022905715,0.07270611091309256,0.0759799446022494,0.07936887263912537,0.08287520806084919,0.08650122004164595,0.09024912817997438,0.09412109663762568,0.09811922813893036,0.10224555783898089,0.10650204707054137,0.11089057698008593,0.11541294206416418,0.12007084361805662,0.12486588310942999,0.1297995554904418,0.13487324246246898,0.14008820570833996,0.14544558010763664,0.15094636695129407,0.1565914271723548,0.16238147461034053,0.16831706932726764,0.1743986109938609,0.18062633236500664,0.18700029286392894,0.19352037229496094,0.20018626470512865,0.20699747241504937,0.2139533002398728,0.2210528499211635,0.22829501479072678,0.23567847468741696,0.24320169114793727,0.25086290289254237,0.25866012162637697,0.2665911281769402,0.27465346898784077,0.2828444529886087,0.2911611488598521,0.299600382712489,0.3081587361991543,0.31683254507516345,0.3256178982256258,0.33451063717443164,0.34350635608988495,0.352600402300742,0.36178787733531126,0.37106363849510765,0.3804223009733173,0.38985824052702656,0.3993655967107999,0.40893827667776833,0.4185699595529062,0.4282541013816372,0.4379839406553326,0.4477525044136327,0.4575526149218654,0.4673768969201344,0.47721778543892657,0.4870675341743467,0.49691822441432026,0.5067617745053411,0.5165899498475639,0.5263943734042749,0.5361665367100101,0.545897811359854,0.5555794609607279,0.5652026535237911,0.574758474275426,0.5842379388626725,0.5936320069274155,0.6029315960221414,0.6121275958386311,0.6212108827196007,0.6301723344220123,0.6390028450995682,0.6476933404707855,0.6562347931380255,0.664618238021926,0.672834787874861,0.6808756488363424,0.6887321359926734,0.6963956889026789,0.7038578870509729,0.7111104651899729,0.7181453285317587,0.7249545677508694,0.731530473759272,0.7378655522149916,0.7439525377262846,0.7497844077137532,0.7553543958934462,0.7606560053447595,0.7656830211278525,0.7704295224163061,0.7748898941118983,0.7790588379096139,0.7829313827823867,0.7865028948565338,0.7897690866504301,0.792726025650643,0.7953701422015151,0.7976982366860434,0.7997074859778311,0.8013954491459041,0.802760072396254,0.8037996932361052,0.804513043849085,0.8048992536717069,0.8049578511638368,0.8046887647681025,0.8040923230555124,0.8031692540568713,0.8019206837818953,0.8003481339302432,0.7984535188009783,0.7962391414092463,0.7937076888211965,0.7908622267203747,0.7877061932209665,0.7842433919453702,0.7804779843856054,0.776414481570032,0.7720577350587345,0.767412927292729,0.7624855613238599,0.7572814499538683,0.7518067043126245,0.7460677219069269,0.7400711741725581,0.7338239935634794,0.7273333602130967,0.7206066882034767,0.7136516114792083,0.7064759694432949,0.6990877922730244,0.6914952859942031,0.6837068173524437,0.6757308985203747,0.6675761716796955,0.6592513935169161,0.6507654196714284,0.642127189174228,0.633345708915161,0.624430038176014,0.6153892732660875,0.6062325322961105,0.5969689401254662,0.5876076135167088,0.5781576465302654,0.5686280961910458,0.5590279684574168,0.5493662045216673,0.5396516674696744,0.5298931293260062,0.5200992585091592,0.5102786077200395,0.500439602285161,0.49059052897435557,0.48073952531108505,0.4708945693917068,0.4610634702282925,0.451253858627832,0.4414731786188823,0.43172867943494936,0.42202740806212646,0.4123762023567598,0.40278168473718046,0.3932502564518378,0.3837880924244859,0.37440113667544545,0.36509509831635456,0.3558754481142754,0.3467474156195215,0.3377159868501212,0.328785902524446,0.31996165683220673,0.31124749673276003,0.3026474217684736,0.29416518437978073,0.285804290707504,0.2775680018670543,0.26945933567821645,0.2614810688334109,0.2536357394865811,0.24592565024419114,0.2383528715392372,0.23091924536866767,0.22362638937418114,0.2164757012460207,0.20946836342910896,0.2026053481106671,0.19588742246833707,0.18931515415777092,0.18288891701866117,0.1766088969782734,0.17047509813168252,0.16448734897812223,0.15864530879312427,0.15294847411644436,0.14739618533614657,0.1419876333496418,0.1367218662829469,0.13159779624994436,0.12661420613397373,0.12176975637467838,0.1170629917436508,0.11249234809306986,0.10805615906220375,0.10375266272734855,0.09958000818149204,0.09553626203072714,0.09161941479518342,0.08782738720300498,0.08415803636666072,0.0806091618316418,0.07717851148836422,0.07386378733885952,0.07066265111059304,0.06757272971050138,0.06459162051308057,0.06171689647708445,0.058946111086108186,0.056276803109029175,0.053706501176957785,0.05123272817401103,0.048853005439862,0.04656485678263382,0.044365812301301495,0.042253412017333104,0.040225209315844425,0.03827877419705927,0.03641169633935632,0.03462158797564656,0.032906086585260064,0.03126285740392768,0.029689595754821788,0.028184029203971346,0.026743919543689192,0.02536706460794478,0.02405129992388319,0.022794500203932668,0.02159458068315717,0.02044949830669891,0.019357252772320505,0.01831588743319423,0.01732349006620235,0.016378193511104897,0.0154781761860022,0.014621662484569033,0.013806923060567551,0.013032275005156465,0.012296081922506674,0.011596753909209516,0.010932747442922943,0.010302565185646165,0.009704755706943567,0.009137913132357017],\"type\":\"scatter\",\"xaxis\":\"x\",\"yaxis\":\"y\"},{\"histnorm\":\"probability density\",\"name\":\"\\u003cbr\\u003eModel 2:\\u003cbr\\u003eShort Wait Data\",\"x\":[-0.21366645043174848,0.8624153007827706,-0.04291170407530709,-0.18066645043174856,-0.21523870893338493,0.16717004713921213,-0.3998299528607876,-0.192911704075307,-0.21523870893338493,-0.053584699217229304,0.01717004713921222,-0.10515695771886557,-0.21525769435915154,-0.15833944557367063,-0.29133944557367064,0.09325179835373199,-0.048257694359151504,-0.18066645043174856,-0.2806664504317484,0.1847423056408486,-0.22215695771886557,-0.23817594314463197,-0.06050294800270972,-0.03817594314463202,0.19484304228113425,0.14482405685536826,-0.11899345528982663,-0.12591170407530705,0.1209247934956541,-0.09823870893338493,-0.21682995286078777,0.2517423056408483,-0.34825769435915155,0.3310065447101731,-0.23125769435915156,0.6102517983537319,-0.06050294800270972,-0.03440221136242383,0.24641530078277052,-0.08440221136242387,0.77249705199729,-0.12532046014790454,-0.10991170407530704,0.026251798353731814,0.17782405685536817,-0.06525769435915141,0.03792479349565392,-0.20674820164626806,-0.20674820164626806,0.2485977886375763,-0.04133944557367064,-0.06682995286078763,-0.06207520650434595,0.04857880321180996,0.4310065447101732,-0.13758469921722938,0.040088295924692874,-0.12532046014790454,0.1624153007827709,-0.20142119678819026,0.25708829592469296,0.044824056855368166,-0.1397482016462681,-0.1753204601479046,-0.046075206504345934,-0.11207520650434599,0.3932517983537318,-0.020584699217229385,-0.11899345528982663,-0.2636664504317485,0.4033335495682513,0.23100654471017346,-0.13066645043174852,-0.16366645043174843,0.38476129106661516,0.04857880321180996,0.18633354956825166,-0.027502948002709804,-0.19133944557367055,0.04543428620853729,0.19482405685536808,0.1916795398520954,-0.14132046014790456],\"xbins\":{\"end\":1.9,\"size\":0.2,\"start\":-1.9},\"type\":\"histogram\",\"xaxis\":\"x2\",\"yaxis\":\"y2\"},{\"line\":{\"color\":\"black\",\"dash\":\"dot\",\"width\":2},\"mode\":\"lines\",\"name\":\"Normal Distribution\\u003cbr\\u003e(99.7% of its area)\",\"opacity\":0.5,\"x\":[-0.7101615934653972,-0.7001615934653972,-0.6901615934653972,-0.6801615934653972,-0.6701615934653972,-0.6601615934653972,-0.6501615934653971,-0.6401615934653971,-0.6301615934653971,-0.6201615934653971,-0.6101615934653971,-0.6001615934653971,-0.5901615934653971,-0.5801615934653971,-0.5701615934653971,-0.5601615934653971,-0.5501615934653971,-0.540161593465397,-0.530161593465397,-0.520161593465397,-0.510161593465397,-0.500161593465397,-0.490161593465397,-0.480161593465397,-0.470161593465397,-0.460161593465397,-0.45016159346539697,-0.44016159346539696,-0.43016159346539695,-0.42016159346539694,-0.41016159346539693,-0.4001615934653969,-0.3901615934653969,-0.3801615934653969,-0.3701615934653969,-0.3601615934653969,-0.3501615934653969,-0.34016159346539687,-0.33016159346539686,-0.32016159346539685,-0.31016159346539685,-0.30016159346539684,-0.2901615934653968,-0.2801615934653968,-0.2701615934653968,-0.2601615934653968,-0.2501615934653968,-0.24016159346539678,-0.23016159346539677,-0.22016159346539677,-0.21016159346539676,-0.20016159346539675,-0.19016159346539674,-0.18016159346539673,-0.17016159346539672,-0.1601615934653967,-0.1501615934653967,-0.1401615934653967,-0.13016159346539669,-0.12016159346539668,-0.11016159346539667,-0.10016159346539666,-0.09016159346539665,-0.08016159346539664,-0.07016159346539663,-0.06016159346539662,-0.050161593465396614,-0.040161593465396606,-0.030161593465396597,-0.020161593465396588,-0.010161593465396579,-0.00016159346539657005,0.009838406534603439,0.019838406534603448,0.029838406534603457,0.039838406534603465,0.049838406534603474,0.05983840653460348,0.06983840653460349,0.0798384065346035,0.08983840653460351,0.09983840653460352,0.10983840653460353,0.11983840653460354,0.12983840653460355,0.13983840653460355,0.14983840653460356,0.15983840653460357,0.16983840653460358,0.1798384065346036,0.1898384065346036,0.1998384065346036,0.20983840653460362,0.21983840653460363,0.22983840653460363,0.23983840653460364,0.24983840653460365,0.25983840653460366,0.26983840653460367,0.2798384065346037,0.2898384065346037,0.2998384065346037,0.3098384065346037,0.3198384065346037,0.3298384065346037,0.33983840653460373,0.34983840653460374,0.35983840653460375,0.36983840653460376,0.37983840653460377,0.3898384065346038,0.3998384065346038,0.4098384065346038,0.4198384065346038,0.4298384065346038,0.4398384065346038,0.44983840653460383,0.45983840653460384,0.46983840653460385,0.47983840653460386,0.48983840653460387,0.4998384065346039,0.5098384065346039,0.5198384065346039,0.5298384065346039,0.5398384065346039,0.5498384065346039,0.5598384065346039,0.5698384065346039,0.579838406534604,0.589838406534604,0.599838406534604,0.609838406534604,0.619838406534604,0.629838406534604,0.639838406534604,0.649838406534604,0.659838406534604,0.669838406534604,0.679838406534604,0.689838406534604,0.699838406534604,0.7098384065346041],\"y\":[0.018721859022163317,0.02123246161292119,0.02403680306794362,0.027163019405407586,0.030641100780909005,0.03450290508318715,0.03878215559388431,0.043514420699332576,0.04873707362465409,0.054489230171214285,0.06081166248104839,0.06774668692948033,0.07533802436268026,0.08363063105291661,0.09267049894283959,0.10250442399281004,0.11317974173294676,0.12474402945432536,0.13724477485093375,0.15072901134394975,0.1652429207800938,0.18083140469259987,0.19753762584211412,0.2154025223098404,0.23446429698974247,0.2547578859128251,0.2763144094256915,0.29916061082815476,0.3233182876403132,0.3488037212072643,0.37562711084816985,0.4037920192040978,0.4332948358243688,0.4641242663426115,0.4962608548204867,0.5296765469688649,0.564334301983948,0.6001877606514299,0.637180977168868,0.6752482218102285,0.7143138611043218,0.7542923216199167,0.7950881427463274,0.8365961230332826,0.8787015637143608,0.9212806119932122,0.9642007055325319,1.0073211183660866,1.0504936071698736,1.0935631554976655,1.1363688122283,1.1787446191081723,1.2205206209245076,1.2615239505358347,1.3015799797385994,1.340513525785761,1.3781501023164968,1.4143172025267452,1.4488456016274656,1.4815706650184624,1.5123336481651932,1.5409829739161722,1.5673754729482297,1.5913775731815143,1.612866424367681,1.6317309446213815,1.6478727764315977,1.6612071406462972,1.6716635780587272,1.679186569520298,1.6837360269443316,1.685287649125071,1.6838331379530858,1.679380272335438,1.6719528388992784,1.6615904203425902,1.648348044067022,1.6322956954568162,1.613517701827263,1.5921119946297504,1.5681892589440591,1.5418719805901255,1.5132934023318028,1.482596401608094,1.4499323030000382,1.4154596392146856,1.3793428747358358,1.3417511064524843,1.3028567555321742,1.2628342645629302,1.2218588135530322,1.1801050677643974,1.1377459695775447,1.0949515856611391,1.051888019666209,1.0087163995051325,0.96559194703037,0.9226631366204044,0.8800709478333727,0.8379482159251186,0.7964190826699986,0.7555985485907327,0.7155921264175954,0.676495594375213,0.6383948467531679,0.6013658381683004,0.5654746169835205,0.5307774425191252,0.497320979984652,0.4651425664762811,0.43427054092846007,0.4047246305781726,0.3765163862934317,0.3496496590294417,0.3241211097000767,0.29992074488091525,0.27703247098391737,0.2554346598527365,0.23510071911075037,0.21599966103976795,0.1980966642644538,0.18135362305418298,0.16572967961894636,0.15118173535812177,0.13766493761004747,0.1251331390367793,0.11353932735341005,0.10283602366708439,0.09297564822054519,0.08391085283295706,0.07559481979217698,0.06798152737395592,0.06102598254213446,0.05468442171811042,0.04891448079697242,0.043675335831816875,0.038927816007749354,0.03463449068442803,0.030759732402804,0.02726975783049455,0.024132648663889072,0.021318354516817285,0.01879867980876978],\"type\":\"scatter\",\"xaxis\":\"x2\",\"yaxis\":\"y2\"},{\"histnorm\":\"probability density\",\"name\":\"\\u003cbr\\u003eModel 3:\\u003cbr\\u003eLong Wait Data\",\"x\":[-0.7192309896346232,-0.9250108424020045,0.14030483368623603,0.27057274534666487,-0.7926951663137642,-0.04269516631376469,-0.46345113686724115,-0.10698696018809883,0.33179289257928346,0.41954886313275885,-0.06923098963462326,-0.8569869601880988,0.2749891575979957,-0.7682071074207166,-0.1994989012950521,-0.4569869601880989,0.11376901036537657,0.054233187044518516,0.172257069258424,-0.29847501908114626,-0.4250108424020045,0.5015249809188536,0.3290846864536183,0.018524980918853018,0.1865488631327592,0.28723318704451906,-1.051207107420717,0.27703692202580665,0.5297451281514709,0.26208468645361815,0.5015249809188536,0.5147928925792833,0.2722570692584245,-0.02671904852766982,0.11954886313275903,0.44403692202580647,-0.0784033724394293,-0.1399869601880992,0.39301303981190117,0.45423318704451887,-0.322963077974193,0.18076901036537674,0.7845010987049479,0.26001303981190116,-0.3994989012950523,-0.7682071074207166,-0.13725487184852891,-0.02296307797419317,-0.17876681295548114,0.5035727453466645,-0.3324989012950521,0.18552498091885283,-0.4049391957602877,-0.12091531354638185,0.5100130398119012,0.06647721649104188,0.28654886313275885,-0.5202548718485289,0.544036922025807,-0.06242725465333532,0.13179289257928328,-0.29371904852767017,0.3195488631327592,0.44506080423971195,-0.6607190485276702,0.4627451281514716,0.4583287159001417,0.09776901036537655,0.28928095147233,0.2073048336862353,-0.00018322520681124388,-0.04474293074157565,0.17057274534666433,-0.5767190485276701,0.14403692202580665,0.19608468645361832,-0.2012071074207169,-0.10867128409985849,0.027036922025806653,0.5280608042397121,-0.5862309896346232,-0.11071904852766945,0.177036922025807,0.5222570692584245,0.0505010987049479,0.3015249809188534,0.5726205097744757,0.7382570692584247,-0.29474293074157565,0.25628095147232965,0.15628095147233,-0.40764740188595283,-0.4746712840998586,-0.25493919576028734,-0.4739869601880988,0.3005010987049479,0.5705727453466647,0.12635259811404698,0.28825706925842454,-0.17671904852767018,-0.010719048527669806,0.2542331870445187,-0.39269516631376433,-0.09101084240200485,0.28825706925842454,-0.11820710742071672,-0.6012071074207168,0.12601303981190082,-0.2974511368672408,0.0487928925792831,0.45628095147232983,0.5175010987049475,-0.2804511368672413,-0.32874293074157546,-0.11071904852766945,-0.9171832252068111,0.0712570692584249,0.3600130398119008,-0.005963077974193709,-0.3331593429929054,0.29301303981190063,0.07225706925842434,-0.5304511368672409,0.13179289257928328,0.36852498091885355,-0.43725487184852874,-0.049498901295051745,0.29710856866752344,-0.13249890129505193,-0.0889630779741939,0.21274512815147162,-0.306986960188099,-0.20223098963462327,-0.22398696018809883,-0.03998696018809955,0.23076901036537656,-0.22193919576028787,-0.00391531354638186,-0.011742930741575286,-0.3692309896346231,-0.12025487184852857,0.5280608042397121,0.19030483368623585,-0.5229630779741932,0.01103692202580664,0.09198915759799497,0.08179289257928346,-0.6787668129554816,0.2542331870445187,-0.27942725465333496,-0.5144750190811465,0.08179289257928346,-0.0362309896346229,0.46001303981190045,0.1525488631327594,-0.11820710742071672,0.4797451281514711,-0.22671904852767,-0.03691531354638222,0.20898915759799497],\"xbins\":{\"end\":1.95,\"size\":0.3,\"start\":-1.95},\"type\":\"histogram\",\"xaxis\":\"x3\",\"yaxis\":\"y3\"},{\"line\":{\"color\":\"black\",\"dash\":\"dot\",\"width\":2},\"mode\":\"lines\",\"name\":\"Normal Distribution\\u003cbr\\u003e(99.7% of its area)\",\"opacity\":0.5,\"x\":[-1.1160581130630323,-1.1060581130630323,-1.0960581130630322,-1.0860581130630322,-1.0760581130630322,-1.0660581130630322,-1.0560581130630322,-1.0460581130630322,-1.0360581130630322,-1.0260581130630322,-1.0160581130630322,-1.0060581130630322,-0.9960581130630322,-0.9860581130630321,-0.9760581130630321,-0.9660581130630321,-0.9560581130630321,-0.9460581130630321,-0.9360581130630321,-0.9260581130630321,-0.9160581130630321,-0.9060581130630321,-0.8960581130630321,-0.8860581130630321,-0.876058113063032,-0.866058113063032,-0.856058113063032,-0.846058113063032,-0.836058113063032,-0.826058113063032,-0.816058113063032,-0.806058113063032,-0.796058113063032,-0.786058113063032,-0.776058113063032,-0.766058113063032,-0.756058113063032,-0.7460581130630319,-0.7360581130630319,-0.7260581130630319,-0.7160581130630319,-0.7060581130630319,-0.6960581130630319,-0.6860581130630319,-0.6760581130630319,-0.6660581130630319,-0.6560581130630319,-0.6460581130630318,-0.6360581130630318,-0.6260581130630318,-0.6160581130630318,-0.6060581130630318,-0.5960581130630318,-0.5860581130630318,-0.5760581130630318,-0.5660581130630318,-0.5560581130630318,-0.5460581130630318,-0.5360581130630317,-0.5260581130630317,-0.5160581130630317,-0.5060581130630317,-0.4960581130630317,-0.4860581130630317,-0.4760581130630317,-0.4660581130630317,-0.4560581130630317,-0.44605811306303167,-0.43605811306303166,-0.42605811306303165,-0.41605811306303164,-0.40605811306303163,-0.3960581130630316,-0.3860581130630316,-0.3760581130630316,-0.3660581130630316,-0.3560581130630316,-0.3460581130630316,-0.33605811306303157,-0.32605811306303156,-0.31605811306303155,-0.30605811306303154,-0.29605811306303154,-0.2860581130630315,-0.2760581130630315,-0.2660581130630315,-0.2560581130630315,-0.2460581130630315,-0.23605811306303148,-0.22605811306303147,-0.21605811306303147,-0.20605811306303146,-0.19605811306303145,-0.18605811306303144,-0.17605811306303143,-0.16605811306303142,-0.1560581130630314,-0.1460581130630314,-0.1360581130630314,-0.12605811306303139,-0.11605811306303138,-0.10605811306303137,-0.09605811306303136,-0.08605811306303135,-0.07605811306303134,-0.06605811306303133,-0.05605811306303132,-0.046058113063031314,-0.036058113063031305,-0.026058113063031296,-0.016058113063031287,-0.0060581130630312785,0.00394188693696873,0.01394188693696874,0.023941886936968748,0.03394188693696876,0.043941886936968766,0.053941886936968775,0.06394188693696878,0.07394188693696879,0.0839418869369688,0.09394188693696881,0.10394188693696882,0.11394188693696883,0.12394188693696884,0.13394188693696885,0.14394188693696885,0.15394188693696886,0.16394188693696887,0.17394188693696888,0.1839418869369689,0.1939418869369689,0.2039418869369689,0.21394188693696892,0.22394188693696893,0.23394188693696893,0.24394188693696894,0.25394188693696895,0.26394188693696896,0.27394188693696897,0.283941886936969,0.293941886936969,0.303941886936969,0.313941886936969,0.323941886936969,0.333941886936969,0.34394188693696903,0.35394188693696904,0.36394188693696905,0.37394188693696906,0.38394188693696907,0.3939418869369691,0.4039418869369691,0.4139418869369691,0.4239418869369691,0.4339418869369691,0.4439418869369691,0.45394188693696913,0.46394188693696914,0.47394188693696915,0.48394188693696916,0.49394188693696917,0.5039418869369692,0.5139418869369692,0.5239418869369692,0.5339418869369692,0.5439418869369692,0.5539418869369692,0.5639418869369692,0.5739418869369692,0.5839418869369692,0.5939418869369693,0.6039418869369693,0.6139418869369693,0.6239418869369693,0.6339418869369693,0.6439418869369693,0.6539418869369693,0.6639418869369693,0.6739418869369693,0.6839418869369693,0.6939418869369693,0.7039418869369694,0.7139418869369694,0.7239418869369694,0.7339418869369694,0.7439418869369694,0.7539418869369694,0.7639418869369694,0.7739418869369694,0.7839418869369694,0.7939418869369694,0.8039418869369694,0.8139418869369694,0.8239418869369695,0.8339418869369695,0.8439418869369695,0.8539418869369695,0.8639418869369695,0.8739418869369695,0.8839418869369695,0.8939418869369695,0.9039418869369695,0.9139418869369695,0.9239418869369695,0.9339418869369696,0.9439418869369696,0.9539418869369696,0.9639418869369696,0.9739418869369696,0.9839418869369696,0.9939418869369696,1.0039418869369696,1.0139418869369696,1.0239418869369696,1.0339418869369696,1.0439418869369697,1.0539418869369697,1.0639418869369697,1.0739418869369697,1.0839418869369697,1.0939418869369697,1.1039418869369697,1.1139418869369697],\"y\":[0.011912950661076484,0.012908755285925838,0.013977696052724664,0.015124221070639755,0.01635297003704688,0.017668776003945785,0.01907666656233704,0.020581864391955133,0.022189787122835654,0.023906046454526056,0.02573644647835174,0.02768698114804931,0.029763830844297828,0.03197335797924129,0.03432210158802583,0.036816770855690135,0.039464237529474304,0.04227152716876214,0.045245809187469135,0.04839438564674207,0.0517246787593618,0.055244217071249935,0.05896062028997346,0.06288158273513271,0.06701485539099836,0.07136822654773375,0.07594950102399659,0.08076647797063706,0.08582692726259648,0.09113856449392752,0.09670902459909406,0.10254583413232413,0.10865638224575544,0.11504789041639937,0.1217273809814907,0.1287016445515687,0.1359772063805722,0.14356029178228616,0.15145679069258725,0.1596722214870259,0.1682116941733044,0.17707987308806955,0.18628093923707964,0.1958185524271436,0.20569581334718348,0.21591522576427186,0.2264786590084459,0.23738731092743656,0.2486416714990802,0.2602414872950292,0.27218572699436655,0.28447254814978856,0.2970992654120642,0.3100623204204621,0.32335725356767486,0.33697867784741503,0.35092025499126794,0.3651746740984953,0.379733632958275,0.39458782225830374,0.409726912866747,0.425139546366208,0.4408133290086795,0.45673482924937087,0.47288957900486694,0.4892620787673259,0.5058358066913883,0.5225932317542026,0.539515831071549,0.5565841114345209,0.5737776351117032,0.5910750499413444,0.6084541237167912,0.6258917828465127,0.6433641552475502,0.6608466174082923,0.6783138455332401,0.695739870659042,0.7130981376076836,0.7303615676194837,0.7475026244855998,0.7644933839772864,0.7813056063473035,0.7979108116578059,0.8142803576689315,0.8303855200032774,0.8461975742836743,0.8616878799252778,0.8768279652481271,0.891589613563106,0.9059449498728017,0.9198665278191911,0.9333274165024962,0.946301286790025,0.9587624967304174,0.9706861756875017,0.9820483068089818,0.9928258074484422,1.0029966071646845,1.0125397229301887,1.021435331190496,1.0296648364285232,1.0372109359021313,1.04405768023968,1.0501905295966558,1.0555964050966986,1.0602637353023359,1.064182497484342,1.067344253483726,1.0697421799867486,1.0713710930609368,1.0722274668286094,1.0723094461837592,1.0716168534880965,1.0701511892124258,1.0679156265201126,1.0649149998200094,1.0611557873466393,1.0566460878554924,1.0513955915507753,1.0454155453916862,1.0387187129510616,1.0313193290269196,1.023233049232784,1.0144768948166198,1.005069192980543,0.9950295129940837,0.9843785984125535,0.973138295728886,0.9613314798020886,0.9489819764181078,0.9361144823493789,0.9227544832875892,0.908928170030187,0.8946623533049141,0.8799843776181243,0.8649220345119143,0.8495034756121456,0.8337571258443626,0.8177115971874467,0.8013956033256983,0.7848378755489864,0.7680670802377476,0.7511117382550997,0.7340001465522482,0.7167603022758631,0.6994198296473383,0.6820059098639377,0.6645452142509609,0.6470638408723688,0.6295872547849576,0.6121402320983217,0.5947468079796521,0.5774302287190485,0.5602129079476199,0.5431163870773698,0.5261613000088557,0.5093673421300069,0.49275324360742656,0.4763367469501091,0.4601345888048835,0.4441624859231781,0.42843512521995347,0.4129661578279931,0.3977681970342168,0.38285281996939247,0.36823057290858563,0.35391098002697574,0.33990255544430314,0.3262128183812168,0.3128483112421775,0.2998146204323489,0.2871163997100505,0.27475739587185805,0.26274047656427024,0.2510676600139979,0.23974014646831832,0.22875835113753304,0.21812193843330477,0.2078298572994825,0.19788037743586878,0.18827112622018266,0.17899912613914565,0.17006083254608842,0.16145217156966865,0.15316857800611866,0.14520503303583115,0.1375561016139563,0.1302159693939474,0.12317847905257222,0.11643716589473327,0.10998529262642506,0.10381588319424508,0.09792175559998431,0.09229555360889087,0.08692977728017563,0.08181681225813463,0.07694895777186792,0.07231845330091453,0.06791750387315815,0.0637383039700562,0.05977306002255953,0.05601401148900189,0.05245345051371445,0.04908374017214656,0.04589733131482998,0.04288677802859635,0.040044751739046196,0.037364053983358445,0.034837627887130476,0.03245856838304962,0.03022013121282257,0.028115740756944587,0.026138996739579628,0.024283679858069212,0.022543756388399352,0.020913381819357653,0.019386903569121837,0.017958862838658468,0.01662399565660225,0.015377233170249914,0.014213701236967398,0.013128719369695414,0.012117799089371837],\"type\":\"scatter\",\"xaxis\":\"x3\",\"yaxis\":\"y3\"},{\"histnorm\":\"probability density\",\"name\":\"\\u003cbr\\u003eModel 4:\\u003cbr\\u003eAll Data using indicator\",\"x\":[-0.6979302325581398,-0.2943299999999993,-0.9649302325581397,0.18867000000000056,0.23506976744186048,0.7886700000000006,0.4020697674418603,-0.6979302325581398,-0.1443299999999994,0.05206976744185976,-0.2613299999999994,-0.38093023255814007,-0.09793023255813971,-0.34432999999999936,0.4020697674418603,0.07267000000000046,-0.34432999999999936,0.5020697674418599,-0.49432999999999927,-0.047930232558139885,-0.2943299999999993,-0.34432999999999936,-0.8479302325581397,-1.2309302325581402,0.23506976744186048,-0.6979302325581398,-0.12732999999999928,-0.2149302325581397,-0.4479302325581398,0.13506976744185994,0.0020697674418599377,0.16906976744185975,1.2726700000000006,-0.2649302325581395,-0.4649302325581397,-0.07732999999999945,-0.22732999999999937,0.5350697674418603,-0.2613299999999994,0.4850697674418605,0.05206976744185976,-0.21132999999999935,0.2690697674418603,-0.34432999999999936,0.23506976744186048,-0.9809302325581402,1.7386700000000008,0.00567000000000073,0.3350697674418601,-0.09432999999999936,0.5020697674418599,0.4180697674418603,-0.2613299999999994,0.5350697674418603,-0.36132999999999926,0.5850697674418601,-0.5809302325581398,-0.42732999999999954,0.2690697674418603,0.019069767441860286,0.13867000000000074,0.20206976744186012,-0.34432999999999936,0.5020697674418599,-0.2773299999999994,0.10206976744186047,-0.13093023255814007,0.4020697674418603,-0.027329999999999632,0.4020697674418603,-0.2649302325581395,-0.12732999999999928,0.20206976744186012,-0.2979302325581399,-0.11132999999999926,0.7690697674418603,-0.07732999999999945,0.2690697674418603,-0.4149302325581399,-0.6979302325581398,-0.16493023255813988,0.0350697674418603,-0.19793023255814024,0.5386700000000006,-0.23093023255813971,0.63506976744186,-0.3479302325581397,0.21906976744185958,0.07267000000000046,-0.2979302325581399,0.10567000000000082,0.0350697674418603,-0.22732999999999937,0.5190697674418603,-0.2613299999999994,0.0020697674418599377,0.36906976744185993,-0.5479302325581399,-0.22732999999999937,0.6020697674418605,0.38867000000000074,0.06906976744186011,0.00567000000000073,0.20206976744186012,-0.24793023255814006,-0.22732999999999937,0.4020697674418603,-0.31132999999999944,0.5520697674418598,-0.61493023255814,0.43506976744186066,0.20567000000000046,0.6020697674418605,0.11906976744185993,-0.3943299999999994,0.3350697674418601,0.22267000000000037,0.30206976744185976,-0.2773299999999994,0.11906976744185993,0.5226700000000006,-0.23093023255813971,-0.047930232558139885,-0.12732999999999928,0.30206976744185976,-0.53093023255814,-0.17732999999999932,0.20206976744186012,0.17267000000000055,0.35206976744186047,-0.22732999999999937,-0.13093023255814007,0.7056700000000005,0.0350697674418603,-0.2613299999999994,0.08506976744186012,-0.21132999999999935,0.63506976744186,-0.06132999999999944,-0.5649302325581398,-0.06493023255813934,0.13867000000000074,0.23506976744186048,0.5190697674418603,0.0350697674418603,-0.11132999999999926,0.3350697674418601,-0.07732999999999945,0.8020697674418598,-0.2943299999999993,0.7350697674418605,-0.2979302325581399,0.30567000000000055,0.30206976744185976,-0.7309302325581402,-0.2979302325581399,0.20206976744186012,-0.2149302325581397,-0.2943299999999993,-0.3309302325581398,0.10567000000000082,-0.14793023255813953,-0.09432999999999936,-0.4649302325581397,1.4056700000000006,0.2850697674418603,0.27267000000000063,0.7020697674418601,-0.1613299999999993,0.3190697674418601,-0.17732999999999932,-0.011329999999999174,0.2850697674418603,-0.9649302325581397,-0.13093023255814007,0.0350697674418603,0.20206976744186012,0.32267000000000046,-0.2979302325581399,-0.13093023255814007,-0.21132999999999935,0.2850697674418603,-0.047930232558139885,-0.53093023255814,-0.06132999999999944,0.13506976744185994,-0.2149302325581397,-0.2613299999999994,0.11906976744185993,0.08867000000000091,0.5020697674418599,-0.2613299999999994,0.5020697674418599,-0.19793023255814024,-0.3319302325581397,-0.06493023255813934,-0.7979302325581399,0.06806976744186066,0.15567000000000064,0.36906976744185993,0.00567000000000073,0.05206976744185976,-0.16493023255813988,-0.22732999999999937,0.30206976744185976,-0.31132999999999944,0.06906976744186011,-0.4479302325581398,-0.1613299999999993,0.20206976744186012,-1.9149302325581399,0.4020697674418603,-0.22732999999999937,-0.4649302325581397,1.3226700000000005,-0.06493023255813934,0.30567000000000055,0.5020697674418599,-0.09432999999999936,-0.14793023255813953,-0.22732999999999937,-0.030930232558140425,-0.34432999999999936,0.18506976744186066,-0.2979302325581399,-0.1809302325581399,-0.2149302325581397,-0.030930232558140425,-0.38093023255814007,0.25206976744185994,-0.2149302325581397,0.32267000000000046,-0.11493023255814006,0.12267000000000072,0.1520697674418603,-0.21132999999999935,-0.24432999999999927,-0.014930232558139522,-0.3479302325581397,0.23867000000000083,-0.14793023255813953,0.25567000000000073,0.63506976744186,0.8056700000000006,0.2850697674418603,-0.4649302325581397,-0.011329999999999174,0.06906976744186011,0.03867000000000065,0.05206976744185976,0.10567000000000082,0.1520697674418603,-0.7309302325581402,0.20206976744186012,-0.14793023255813953,-0.4809302325581397,-0.38093023255814007,0.1520697674418603,-0.09432999999999936,-0.014930232558139522,0.4690697674418596,0.23506976744186048,-0.24432999999999927,-0.047930232558139885,-0.11132999999999926,0.15567000000000064,0.4520697674418601,-0.1809302325581399,0.05567000000000055,0.11906976744185993,-0.2773299999999994,0.16906976744185975],\"xbins\":{\"end\":1.95,\"size\":0.3,\"start\":-1.95},\"type\":\"histogram\",\"xaxis\":\"x4\",\"yaxis\":\"y4\"},{\"line\":{\"color\":\"black\",\"dash\":\"dot\",\"width\":2},\"mode\":\"lines\",\"name\":\"Normal Distribution\\u003cbr\\u003e(99.7% of its area)\",\"opacity\":0.5,\"x\":[-1.2356963309582185,-1.2256963309582185,-1.2156963309582185,-1.2056963309582185,-1.1956963309582185,-1.1856963309582185,-1.1756963309582185,-1.1656963309582185,-1.1556963309582184,-1.1456963309582184,-1.1356963309582184,-1.1256963309582184,-1.1156963309582184,-1.1056963309582184,-1.0956963309582184,-1.0856963309582184,-1.0756963309582184,-1.0656963309582184,-1.0556963309582184,-1.0456963309582183,-1.0356963309582183,-1.0256963309582183,-1.0156963309582183,-1.0056963309582183,-0.9956963309582183,-0.9856963309582183,-0.9756963309582183,-0.9656963309582183,-0.9556963309582183,-0.9456963309582183,-0.9356963309582182,-0.9256963309582182,-0.9156963309582182,-0.9056963309582182,-0.8956963309582182,-0.8856963309582182,-0.8756963309582182,-0.8656963309582182,-0.8556963309582182,-0.8456963309582182,-0.8356963309582182,-0.8256963309582181,-0.8156963309582181,-0.8056963309582181,-0.7956963309582181,-0.7856963309582181,-0.7756963309582181,-0.7656963309582181,-0.7556963309582181,-0.7456963309582181,-0.7356963309582181,-0.7256963309582181,-0.715696330958218,-0.705696330958218,-0.695696330958218,-0.685696330958218,-0.675696330958218,-0.665696330958218,-0.655696330958218,-0.645696330958218,-0.635696330958218,-0.625696330958218,-0.615696330958218,-0.605696330958218,-0.595696330958218,-0.5856963309582179,-0.5756963309582179,-0.5656963309582179,-0.5556963309582179,-0.5456963309582179,-0.5356963309582179,-0.5256963309582179,-0.5156963309582179,-0.5056963309582179,-0.49569633095821786,-0.48569633095821785,-0.47569633095821784,-0.46569633095821783,-0.4556963309582178,-0.4456963309582178,-0.4356963309582178,-0.4256963309582178,-0.4156963309582178,-0.4056963309582178,-0.39569633095821777,-0.38569633095821776,-0.37569633095821775,-0.36569633095821774,-0.35569633095821773,-0.3456963309582177,-0.3356963309582177,-0.3256963309582177,-0.3156963309582177,-0.3056963309582177,-0.2956963309582177,-0.28569633095821767,-0.27569633095821766,-0.26569633095821765,-0.25569633095821764,-0.24569633095821763,-0.23569633095821763,-0.22569633095821762,-0.2156963309582176,-0.2056963309582176,-0.1956963309582176,-0.18569633095821758,-0.17569633095821757,-0.16569633095821756,-0.15569633095821755,-0.14569633095821755,-0.13569633095821754,-0.12569633095821753,-0.11569633095821752,-0.10569633095821751,-0.0956963309582175,-0.08569633095821749,-0.07569633095821748,-0.06569633095821747,-0.055696330958217466,-0.04569633095821746,-0.03569633095821745,-0.02569633095821744,-0.01569633095821743,-0.0056963309582174215,0.004303669041782587,0.014303669041782596,0.024303669041782605,0.034303669041782614,0.04430366904178262,0.05430366904178263,0.06430366904178264,0.07430366904178265,0.08430366904178266,0.09430366904178267,0.10430366904178268,0.11430366904178269,0.1243036690417827,0.1343036690417827,0.1443036690417827,0.15430366904178272,0.16430366904178273,0.17430366904178274,0.18430366904178275,0.19430366904178276,0.20430366904178276,0.21430366904178277,0.22430366904178278,0.2343036690417828,0.2443036690417828,0.2543036690417828,0.2643036690417828,0.2743036690417828,0.28430366904178284,0.29430366904178284,0.30430366904178285,0.31430366904178286,0.32430366904178287,0.3343036690417829,0.3443036690417829,0.3543036690417829,0.3643036690417829,0.3743036690417829,0.3843036690417829,0.39430366904178293,0.40430366904178294,0.41430366904178295,0.42430366904178296,0.43430366904178297,0.444303669041783,0.454303669041783,0.464303669041783,0.474303669041783,0.484303669041783,0.494303669041783,0.504303669041783,0.514303669041783,0.524303669041783,0.5343036690417831,0.5443036690417831,0.5543036690417831,0.5643036690417831,0.5743036690417831,0.5843036690417831,0.5943036690417831,0.6043036690417831,0.6143036690417831,0.6243036690417831,0.6343036690417831,0.6443036690417832,0.6543036690417832,0.6643036690417832,0.6743036690417832,0.6843036690417832,0.6943036690417832,0.7043036690417832,0.7143036690417832,0.7243036690417832,0.7343036690417832,0.7443036690417832,0.7543036690417833,0.7643036690417833,0.7743036690417833,0.7843036690417833,0.7943036690417833,0.8043036690417833,0.8143036690417833,0.8243036690417833,0.8343036690417833,0.8443036690417833,0.8543036690417833,0.8643036690417834,0.8743036690417834,0.8843036690417834,0.8943036690417834,0.9043036690417834,0.9143036690417834,0.9243036690417834,0.9343036690417834,0.9443036690417834,0.9543036690417834,0.9643036690417834,0.9743036690417834,0.9843036690417835,0.9943036690417835,1.0043036690417835,1.0143036690417835,1.0243036690417835,1.0343036690417835,1.0443036690417835,1.0543036690417835,1.0643036690417835,1.0743036690417835,1.0843036690417835,1.0943036690417836,1.1043036690417836,1.1143036690417836,1.1243036690417836,1.1343036690417836,1.1443036690417836,1.1543036690417836,1.1643036690417836,1.1743036690417836,1.1843036690417836,1.1943036690417836,1.2043036690417837,1.2143036690417837,1.2243036690417837,1.2343036690417837],\"y\":[0.010759557103729535,0.011569046364750826,0.01243210730407195,0.01335168138017811,0.014330824962518167,0.01537271036365071,0.01648062659345876,0.017657979812295183,0.018908293459517656,0.020235208033555507,0.02164248049942659,0.023133983299499734,0.024713702943286727,0.026385738152150617,0.028154297535047373,0.030023696771778182,0.03199835528073113,0.034082792348736346,0.03628162270145783,0.03859955149370177,0.04104136870014084,0.043611942888241086,0.04631621435663786,0.049159187623840556,0.0521459232539559,0.05528152900810915,0.058571150312408504,0.06201996003564137,0.06563314757241308,0.06941590723012699,0.07337342592106827,0.07751087016387148,0.08183337240183293,0.08634601664885055,0.09105382347723433,0.09596173436522083,0.10107459542572315,0.10639714054164857,0.11193397393700392,0.11768955221695876,0.12366816591404119,0.12987392058167635,0.13631071748032103,0.14298223390548273,0.14989190321091334,0.15704289458421156,0.16443809263593145,0.17208007686705246,0.17997110108329442,0.18811307282822712,0.1965075329104115,0.2051556351028863,0.21405812609614913,0.2232153257883625,0.23262710799879927,0.24229288169251953,0.2522115728059085,0.2623816067639776,0.27280089178122663,0.28346680303835287,0.29437616782715303,0.3055252517555946,0.31690974610419104,0.3285247564235191,0.34036479246092566,0.35242375950219845,0.3646949512112017,0.3771710440472082,0.38984409333588327,0.40270553106561247,0.4157461654760952,0.4289561825008884,0.44232514911986365,0.4558420186713656,0.46949513816725397,0.4832722576469762,0.4971605415994009,0.5111465824733602,0.5252164162897237,0.5393555403594191,0.5535489331031281,0.567781075959485,0.5820359773595176,0.596297198735853,0.610547882525881,0.6247707821187247,0.6389482936864939,0.6530624898310061,0.6670951549679612,0.6810278223615133,0.6948418127133612,0.7085182742019052,0.7220382238587697,0.7353825901620986,0.7485322567185564,0.7614681068989532,0.7741710692859078,0.786622163786014,0.7988025482536133,0.8106935654685591,0.8222767903063033,0.8335340769352862,0.8444476058739918,0.8549999307381682,0.8651740245076323,0.8749533251417855,0.8843217803734797,0.8932638915122166,0.9017647560897949,0.9098101091844945,0.9173863632636554,0.9244806463890689,0.9310808386349579,0.9371756065744176,0.9427544356970338,0.9478076606279323,0.9523264930267245,0.9563030470536447,0.9597303622996033,0.9626024240868318,0.9649141810572506,0.9666615599765647,0.9678414776933646,0.9684518502040802,0.9684915987864832,0.9679606531764717,0.9668599517750414,0.965191438884589,0.962958058985941,0.9601637480796886,0.9568134221274658,0.9529129626406846,0.9484691994758613,0.9434898909069751,0.9379837010562434,0.9319601747752054,0.9254297100780391,0.9184035282385328,0.9108936416710578,0.9029128197241805,0.8944745525231901,0.8855930130047601,0.8762830172931636,0.8665599835729236,0.8564398896174535,0.8459392291371243,0.8350749671132721,0.8238644942869238,0.8123255809724556,0.8004763303670396,0.7883351315265459,0.7759206121775984,0.7632515915337288,0.7503470332810535,0.7372259988956559,0.7239076014508931,0.7104109600682186,0.6967551551598394,0.6829591846056592,0.6690419210005206,0.6550220701008269,0.6409181305921949,0.6267483552919685,0.6125307138922104,0.5982828573402613,0.5840220839451677,0.5697653072892588,0.5555290260149797,0.5413292955478027,0.5271817018066713,0.5131013369440879,0.49910277714861406,0.48520006253332226,0.47140667912462797,0.45773554295699576,0.4441989862703063,0.4308087457982106,0.4175759531276353,0.4045111271017757,0.39162416823143525,0.3789243550724863,0.36642034252055905,0.35412016196782625,0.34203122326097113,0.3301603183941147,0.3185136268656463,0.30709672262356663,0.2959145825201061,0.2849715961930451,0.2742715772883163,0.26381777593612854,0.2536128923909957,0.24365909174468792,0.23395801962021623,0.22451081875453277,0.21531814637762248,0.2063801922960993,0.19769669759025502,0.18926697383473018,0.1810899227545701,0.17316405623035258,0.1654875165683238,0.15805809695401607,0.15087326201062445,0.1439301683864636,0.13722568529908602,0.13075641496708415,0.1245187128642098,0.11850870773418011,0.11272232130839535,0.10715528767272281,0.1018031722335006,0.09666139023694373,0.09172522480017942,0.08698984441617674,0.08245031989884541,0.07810164073853663,0.07393873084207804,0.06995646363528601,0.06614967650961562,0.06251318459821072,0.05904179387009738,0.05573031353460776,0.05257356775131766,0.04956640664382685,0.046703716618593474,0.04398042999274786,0.04139153393735659,0.038932078744975646,0.036597185432522175,0.03438205269250874,0.03228196320751932,0.03029228934446298,0.02840849824662602,0.02662615634285407,0.02494093329433812,0.02334860540045774,0.021845058485955124,0.020426290292380852,0.019088412397271933,0.017827651684903672,0.016640351392703798,0.015522971757537928,0.014472090286079037,0.013484401673366305,0.012556717393447884,0.011685964985698096,0.01086918706000814],\"type\":\"scatter\",\"xaxis\":\"x4\",\"yaxis\":\"y4\"}],                        {\"template\":{\"data\":{\"histogram2dcontour\":[{\"type\":\"histogram2dcontour\",\"colorbar\":{\"outlinewidth\":0,\"ticks\":\"\"},\"colorscale\":[[0.0,\"#0d0887\"],[0.1111111111111111,\"#46039f\"],[0.2222222222222222,\"#7201a8\"],[0.3333333333333333,\"#9c179e\"],[0.4444444444444444,\"#bd3786\"],[0.5555555555555556,\"#d8576b\"],[0.6666666666666666,\"#ed7953\"],[0.7777777777777778,\"#fb9f3a\"],[0.8888888888888888,\"#fdca26\"],[1.0,\"#f0f921\"]]}],\"choropleth\":[{\"type\":\"choropleth\",\"colorbar\":{\"outlinewidth\":0,\"ticks\":\"\"}}],\"histogram2d\":[{\"type\":\"histogram2d\",\"colorbar\":{\"outlinewidth\":0,\"ticks\":\"\"},\"colorscale\":[[0.0,\"#0d0887\"],[0.1111111111111111,\"#46039f\"],[0.2222222222222222,\"#7201a8\"],[0.3333333333333333,\"#9c179e\"],[0.4444444444444444,\"#bd3786\"],[0.5555555555555556,\"#d8576b\"],[0.6666666666666666,\"#ed7953\"],[0.7777777777777778,\"#fb9f3a\"],[0.8888888888888888,\"#fdca26\"],[1.0,\"#f0f921\"]]}],\"heatmap\":[{\"type\":\"heatmap\",\"colorbar\":{\"outlinewidth\":0,\"ticks\":\"\"},\"colorscale\":[[0.0,\"#0d0887\"],[0.1111111111111111,\"#46039f\"],[0.2222222222222222,\"#7201a8\"],[0.3333333333333333,\"#9c179e\"],[0.4444444444444444,\"#bd3786\"],[0.5555555555555556,\"#d8576b\"],[0.6666666666666666,\"#ed7953\"],[0.7777777777777778,\"#fb9f3a\"],[0.8888888888888888,\"#fdca26\"],[1.0,\"#f0f921\"]]}],\"heatmapgl\":[{\"type\":\"heatmapgl\",\"colorbar\":{\"outlinewidth\":0,\"ticks\":\"\"},\"colorscale\":[[0.0,\"#0d0887\"],[0.1111111111111111,\"#46039f\"],[0.2222222222222222,\"#7201a8\"],[0.3333333333333333,\"#9c179e\"],[0.4444444444444444,\"#bd3786\"],[0.5555555555555556,\"#d8576b\"],[0.6666666666666666,\"#ed7953\"],[0.7777777777777778,\"#fb9f3a\"],[0.8888888888888888,\"#fdca26\"],[1.0,\"#f0f921\"]]}],\"contourcarpet\":[{\"type\":\"contourcarpet\",\"colorbar\":{\"outlinewidth\":0,\"ticks\":\"\"}}],\"contour\":[{\"type\":\"contour\",\"colorbar\":{\"outlinewidth\":0,\"ticks\":\"\"},\"colorscale\":[[0.0,\"#0d0887\"],[0.1111111111111111,\"#46039f\"],[0.2222222222222222,\"#7201a8\"],[0.3333333333333333,\"#9c179e\"],[0.4444444444444444,\"#bd3786\"],[0.5555555555555556,\"#d8576b\"],[0.6666666666666666,\"#ed7953\"],[0.7777777777777778,\"#fb9f3a\"],[0.8888888888888888,\"#fdca26\"],[1.0,\"#f0f921\"]]}],\"surface\":[{\"type\":\"surface\",\"colorbar\":{\"outlinewidth\":0,\"ticks\":\"\"},\"colorscale\":[[0.0,\"#0d0887\"],[0.1111111111111111,\"#46039f\"],[0.2222222222222222,\"#7201a8\"],[0.3333333333333333,\"#9c179e\"],[0.4444444444444444,\"#bd3786\"],[0.5555555555555556,\"#d8576b\"],[0.6666666666666666,\"#ed7953\"],[0.7777777777777778,\"#fb9f3a\"],[0.8888888888888888,\"#fdca26\"],[1.0,\"#f0f921\"]]}],\"mesh3d\":[{\"type\":\"mesh3d\",\"colorbar\":{\"outlinewidth\":0,\"ticks\":\"\"}}],\"scatter\":[{\"fillpattern\":{\"fillmode\":\"overlay\",\"size\":10,\"solidity\":0.2},\"type\":\"scatter\"}],\"parcoords\":[{\"type\":\"parcoords\",\"line\":{\"colorbar\":{\"outlinewidth\":0,\"ticks\":\"\"}}}],\"scatterpolargl\":[{\"type\":\"scatterpolargl\",\"marker\":{\"colorbar\":{\"outlinewidth\":0,\"ticks\":\"\"}}}],\"bar\":[{\"error_x\":{\"color\":\"#2a3f5f\"},\"error_y\":{\"color\":\"#2a3f5f\"},\"marker\":{\"line\":{\"color\":\"#E5ECF6\",\"width\":0.5},\"pattern\":{\"fillmode\":\"overlay\",\"size\":10,\"solidity\":0.2}},\"type\":\"bar\"}],\"scattergeo\":[{\"type\":\"scattergeo\",\"marker\":{\"colorbar\":{\"outlinewidth\":0,\"ticks\":\"\"}}}],\"scatterpolar\":[{\"type\":\"scatterpolar\",\"marker\":{\"colorbar\":{\"outlinewidth\":0,\"ticks\":\"\"}}}],\"histogram\":[{\"marker\":{\"pattern\":{\"fillmode\":\"overlay\",\"size\":10,\"solidity\":0.2}},\"type\":\"histogram\"}],\"scattergl\":[{\"type\":\"scattergl\",\"marker\":{\"colorbar\":{\"outlinewidth\":0,\"ticks\":\"\"}}}],\"scatter3d\":[{\"type\":\"scatter3d\",\"line\":{\"colorbar\":{\"outlinewidth\":0,\"ticks\":\"\"}},\"marker\":{\"colorbar\":{\"outlinewidth\":0,\"ticks\":\"\"}}}],\"scattermapbox\":[{\"type\":\"scattermapbox\",\"marker\":{\"colorbar\":{\"outlinewidth\":0,\"ticks\":\"\"}}}],\"scatterternary\":[{\"type\":\"scatterternary\",\"marker\":{\"colorbar\":{\"outlinewidth\":0,\"ticks\":\"\"}}}],\"scattercarpet\":[{\"type\":\"scattercarpet\",\"marker\":{\"colorbar\":{\"outlinewidth\":0,\"ticks\":\"\"}}}],\"carpet\":[{\"aaxis\":{\"endlinecolor\":\"#2a3f5f\",\"gridcolor\":\"white\",\"linecolor\":\"white\",\"minorgridcolor\":\"white\",\"startlinecolor\":\"#2a3f5f\"},\"baxis\":{\"endlinecolor\":\"#2a3f5f\",\"gridcolor\":\"white\",\"linecolor\":\"white\",\"minorgridcolor\":\"white\",\"startlinecolor\":\"#2a3f5f\"},\"type\":\"carpet\"}],\"table\":[{\"cells\":{\"fill\":{\"color\":\"#EBF0F8\"},\"line\":{\"color\":\"white\"}},\"header\":{\"fill\":{\"color\":\"#C8D4E3\"},\"line\":{\"color\":\"white\"}},\"type\":\"table\"}],\"barpolar\":[{\"marker\":{\"line\":{\"color\":\"#E5ECF6\",\"width\":0.5},\"pattern\":{\"fillmode\":\"overlay\",\"size\":10,\"solidity\":0.2}},\"type\":\"barpolar\"}],\"pie\":[{\"automargin\":true,\"type\":\"pie\"}]},\"layout\":{\"autotypenumbers\":\"strict\",\"colorway\":[\"#636efa\",\"#EF553B\",\"#00cc96\",\"#ab63fa\",\"#FFA15A\",\"#19d3f3\",\"#FF6692\",\"#B6E880\",\"#FF97FF\",\"#FECB52\"],\"font\":{\"color\":\"#2a3f5f\"},\"hovermode\":\"closest\",\"hoverlabel\":{\"align\":\"left\"},\"paper_bgcolor\":\"white\",\"plot_bgcolor\":\"#E5ECF6\",\"polar\":{\"bgcolor\":\"#E5ECF6\",\"angularaxis\":{\"gridcolor\":\"white\",\"linecolor\":\"white\",\"ticks\":\"\"},\"radialaxis\":{\"gridcolor\":\"white\",\"linecolor\":\"white\",\"ticks\":\"\"}},\"ternary\":{\"bgcolor\":\"#E5ECF6\",\"aaxis\":{\"gridcolor\":\"white\",\"linecolor\":\"white\",\"ticks\":\"\"},\"baxis\":{\"gridcolor\":\"white\",\"linecolor\":\"white\",\"ticks\":\"\"},\"caxis\":{\"gridcolor\":\"white\",\"linecolor\":\"white\",\"ticks\":\"\"}},\"coloraxis\":{\"colorbar\":{\"outlinewidth\":0,\"ticks\":\"\"}},\"colorscale\":{\"sequential\":[[0.0,\"#0d0887\"],[0.1111111111111111,\"#46039f\"],[0.2222222222222222,\"#7201a8\"],[0.3333333333333333,\"#9c179e\"],[0.4444444444444444,\"#bd3786\"],[0.5555555555555556,\"#d8576b\"],[0.6666666666666666,\"#ed7953\"],[0.7777777777777778,\"#fb9f3a\"],[0.8888888888888888,\"#fdca26\"],[1.0,\"#f0f921\"]],\"sequentialminus\":[[0.0,\"#0d0887\"],[0.1111111111111111,\"#46039f\"],[0.2222222222222222,\"#7201a8\"],[0.3333333333333333,\"#9c179e\"],[0.4444444444444444,\"#bd3786\"],[0.5555555555555556,\"#d8576b\"],[0.6666666666666666,\"#ed7953\"],[0.7777777777777778,\"#fb9f3a\"],[0.8888888888888888,\"#fdca26\"],[1.0,\"#f0f921\"]],\"diverging\":[[0,\"#8e0152\"],[0.1,\"#c51b7d\"],[0.2,\"#de77ae\"],[0.3,\"#f1b6da\"],[0.4,\"#fde0ef\"],[0.5,\"#f7f7f7\"],[0.6,\"#e6f5d0\"],[0.7,\"#b8e186\"],[0.8,\"#7fbc41\"],[0.9,\"#4d9221\"],[1,\"#276419\"]]},\"xaxis\":{\"gridcolor\":\"white\",\"linecolor\":\"white\",\"ticks\":\"\",\"title\":{\"standoff\":15},\"zerolinecolor\":\"white\",\"automargin\":true,\"zerolinewidth\":2},\"yaxis\":{\"gridcolor\":\"white\",\"linecolor\":\"white\",\"ticks\":\"\",\"title\":{\"standoff\":15},\"zerolinecolor\":\"white\",\"automargin\":true,\"zerolinewidth\":2},\"scene\":{\"xaxis\":{\"backgroundcolor\":\"#E5ECF6\",\"gridcolor\":\"white\",\"linecolor\":\"white\",\"showbackground\":true,\"ticks\":\"\",\"zerolinecolor\":\"white\",\"gridwidth\":2},\"yaxis\":{\"backgroundcolor\":\"#E5ECF6\",\"gridcolor\":\"white\",\"linecolor\":\"white\",\"showbackground\":true,\"ticks\":\"\",\"zerolinecolor\":\"white\",\"gridwidth\":2},\"zaxis\":{\"backgroundcolor\":\"#E5ECF6\",\"gridcolor\":\"white\",\"linecolor\":\"white\",\"showbackground\":true,\"ticks\":\"\",\"zerolinecolor\":\"white\",\"gridwidth\":2}},\"shapedefaults\":{\"line\":{\"color\":\"#2a3f5f\"}},\"annotationdefaults\":{\"arrowcolor\":\"#2a3f5f\",\"arrowhead\":0,\"arrowwidth\":1},\"geo\":{\"bgcolor\":\"white\",\"landcolor\":\"#E5ECF6\",\"subunitcolor\":\"white\",\"showland\":true,\"showlakes\":true,\"lakecolor\":\"white\"},\"title\":{\"x\":0.05},\"mapbox\":{\"style\":\"light\"}}},\"xaxis\":{\"anchor\":\"y\",\"domain\":[0.0,0.45],\"title\":{\"text\":\"n=272\"},\"range\":[-2,2]},\"yaxis\":{\"anchor\":\"x\",\"domain\":[0.625,1.0]},\"xaxis2\":{\"anchor\":\"y2\",\"domain\":[0.55,1.0],\"title\":{\"text\":\"n=83\"},\"range\":[-2,2]},\"yaxis2\":{\"anchor\":\"x2\",\"domain\":[0.625,1.0]},\"xaxis3\":{\"anchor\":\"y3\",\"domain\":[0.0,0.45],\"title\":{\"text\":\"n=160\"},\"range\":[-2,2]},\"yaxis3\":{\"anchor\":\"x3\",\"domain\":[0.0,0.375]},\"xaxis4\":{\"anchor\":\"y4\",\"domain\":[0.55,1.0],\"title\":{\"text\":\"n=272\"},\"range\":[-2,2]},\"yaxis4\":{\"anchor\":\"x4\",\"domain\":[0.0,0.375]},\"annotations\":[{\"font\":{\"size\":16},\"showarrow\":false,\"text\":\"\\u003cbr\\u003eModel 1:\\u003cbr\\u003eAll Data using slope\",\"x\":0.225,\"xanchor\":\"center\",\"xref\":\"paper\",\"y\":1.0,\"yanchor\":\"bottom\",\"yref\":\"paper\"},{\"font\":{\"size\":16},\"showarrow\":false,\"text\":\"\\u003cbr\\u003eModel 2:\\u003cbr\\u003eShort Wait Data\",\"x\":0.775,\"xanchor\":\"center\",\"xref\":\"paper\",\"y\":1.0,\"yanchor\":\"bottom\",\"yref\":\"paper\"},{\"font\":{\"size\":16},\"showarrow\":false,\"text\":\"\\u003cbr\\u003eModel 3:\\u003cbr\\u003eLong Wait Data\",\"x\":0.225,\"xanchor\":\"center\",\"xref\":\"paper\",\"y\":0.375,\"yanchor\":\"bottom\",\"yref\":\"paper\"},{\"font\":{\"size\":16},\"showarrow\":false,\"text\":\"\\u003cbr\\u003eModel 4:\\u003cbr\\u003eAll Data using indicator\",\"x\":0.775,\"xanchor\":\"center\",\"xref\":\"paper\",\"y\":0.375,\"yanchor\":\"bottom\",\"yref\":\"paper\"}],\"title\":{\"text\":\"Histograms of Residuals from Different Models\"}},                        {\"responsive\": true}                    ).then(function(){\n",
       "                            \n",
       "var gd = document.getElementById('37a96d56-735b-4f11-9785-74f36c7fc3ec');\n",
       "var x = new MutationObserver(function (mutations, observer) {{\n",
       "        var display = window.getComputedStyle(gd).display;\n",
       "        if (!display || display === 'none') {{\n",
       "            console.log([gd, 'removed!']);\n",
       "            Plotly.purge(gd);\n",
       "            observer.disconnect();\n",
       "        }}\n",
       "}});\n",
       "\n",
       "// Listen for the removal of the full notebook cells\n",
       "var notebookContainer = gd.closest('#notebook-container');\n",
       "if (notebookContainer) {{\n",
       "    x.observe(notebookContainer, {childList: true});\n",
       "}}\n",
       "\n",
       "// Listen for the clearing of the current output cell\n",
       "var outputEl = gd.closest('.output');\n",
       "if (outputEl) {{\n",
       "    x.observe(outputEl, {childList: true});\n",
       "}}\n",
       "\n",
       "                        })                };                });            </script>        </div>"
      ]
     },
     "metadata": {},
     "output_type": "display_data"
    }
   ],
   "source": [
    "from plotly.subplots import make_subplots\n",
    "import plotly.graph_objects as go\n",
    "from scipy import stats\n",
    "\n",
    "model_residuals = {\n",
    "    '<br>Model 1:<br>All Data using slope': smf.ols('duration ~ waiting', data=old_faithful).fit().resid,\n",
    "    '<br>Model 2:<br>Short Wait Data': smf.ols('duration ~ waiting', data=old_faithful[short_wait]).fit().resid,\n",
    "    '<br>Model 3:<br>Long Wait Data': smf.ols('duration ~ waiting', data=old_faithful[long_wait]).fit().resid,\n",
    "    '<br>Model 4:<br>All Data using indicator': smf.ols('duration ~ C(kind, Treatment(reference=\"short\"))', data=old_faithful).fit().resid\n",
    "}\n",
    "\n",
    "fig = make_subplots(rows=2, cols=2, subplot_titles=list(model_residuals.keys()))\n",
    "for i, (title, resid) in enumerate(model_residuals.items()):\n",
    "\n",
    "    if i == 1:  # Apply different bins only to the second histogram (index 1)\n",
    "        bin_size = dict(start=-1.9, end=1.9, size=0.2)\n",
    "    else:\n",
    "        bin_size = dict(start=-1.95, end=1.95, size=0.3)\n",
    "\n",
    "    fig.add_trace(go.Histogram(x=resid, name=title, xbins=bin_size, histnorm='probability density'), \n",
    "                  row=int(i/2)+1, col=(i%2)+1)\n",
    "    fig.update_xaxes(title_text=\"n=\"+str(len(resid)), row=int(i/2)+1, col=(i%2)+1)    \n",
    "    \n",
    "    normal_range = np.arange(-3*resid.std(),3*resid.std(),0.01)\n",
    "    fig.add_trace(go.Scatter(x=normal_range, mode='lines', opacity=0.5,\n",
    "                             y=stats.norm(loc=0, scale=resid.std()).pdf(normal_range),\n",
    "                             line=dict(color='black', dash='dot', width=2),\n",
    "                             name='Normal Distribution<br>(99.7% of its area)'), \n",
    "                  row=int(i/2)+1, col=(i%2)+1)\n",
    "    \n",
    "fig.update_layout(title_text='Histograms of Residuals from Different Models')\n",
    "fig.update_xaxes(range=[-2,2])\n",
    "fig.show() # USE `fig.show(renderer=\"png\")` FOR ALL GitHub and MarkUs SUBMISSIONS"
   ]
  },
  {
   "cell_type": "markdown",
   "id": "06fe02c1",
   "metadata": {},
   "source": [
    "13. Since the \"short\" and \"long\" wait times are not \"before and after\" measurements there are not natural pairs on which to base differences; so, we can't do a \"one sample\" (paired differences) **hypothesis test**; but, we can do a proper \"two sample\" hypothesis testing using a **permuation test**; and, we could create a 95% **bootstrap confidence interval** for the difference in means of the two populations; namely,<br><br> \n",
    "\n",
    "    1. test $H_0: \\mu_{\\text{short}}=\\mu_{\\text{long}} \\quad \\text{no difference in duration between short and long groups}$ by \"shuffling\" the labels<br><br>\n",
    "    \n",
    "    2. provide `np.quantile(bootstrapped_mean_differences, [0.025, 0.975])` by repeatedly bootstrapping each each group and collecting the difference between the sample means\n",
    "    \n",
    "    and once you've finished (a) explain how the sampling approaches work for the two simulations, then (b) compare and contrast these two methods with the **indicator variable** based model approach used in Question 10, explaining how they're similar and different<br><br>\n",
    "    \n",
    "    <details class=\"details-example\"><summary style=\"color:blue\"><u>Further Guidance</u></summary>\n",
    "    \n",
    "    > You'll need to create `for` loops for repeated (shuffling simulation) **permutation** and (subgroup) **bootstrapping**, where<br><br> \n",
    "    >\n",
    "    > 1. \"shuffling\" for **permutation testing** is done like this `old_faithful.assign(kind_shuffled=old_faithful['kind'].sample(n=len(old_faithful), replace=False).values)#.groupby('kind').size()`; then, the **mean difference statistic** is then calculated using `.groupby('kind_shuffled')['duration'].mean().iloc[::-1].diff().values[1]` (so the **observed statistic** is `old_faithful.groupby('kind')['duration'].mean().iloc[::-1].diff().values[1]`<br><br>\n",
    "    > \n",
    "    > 2. \"two sample\" **bootstrapping** is done like this `old_faithful.groupby('kind').apply(lambda x: x.sample(n=len(x), replace=True)).reset_index(drop=True)#.groupby('kind').size()`; then, the **bootstrapped mean difference statistic** is then calculated using `.groupby('kind')['duration'].mean().iloc[::-1].diff().values[1]` (like the **observed statistic** except this is applied to the **bootstrapped** resampling of `old_faithful`)\n",
    "    \n",
    "    </details><br> \n",
    "        \n",
    "14. Have you reviewed the course [wiki-textbook](https://github.com/pointOfive/STA130_ChatGPT/wiki) and interacted with a ChatBot (or, if that wasn't sufficient, real people in the course piazza discussion board or TA office hours) to help you understand all the material in the tutorial and lecture that you didn't quite follow when you first saw it?<br><br>\n",
    "    \n",
    "    <details class=\"details-example\">\n",
    "    <summary style=\"color:blue\"><u>Further Guidance</u></summary>\n",
    "    <br><em>Just answering \"Yes\" or \"No\" or \"Somewhat\" or \"Mostly\" or whatever here is fine as this question isn't a part of the rubric; but, the midterm and final exams may ask questions that are based on the tutorial and lecture materials; and, your own skills will be limited by your familiarity with these materials (which will determine your ability to actually do actual things effectively with these skills... like the course project...)<br><br></em>\n",
    "    </details>    "
   ]
  },
  {
   "cell_type": "markdown",
   "id": "bc0639e8",
   "metadata": {},
   "source": [
    "# Recommended Additional Useful Activities [Optional]\n",
    "\n",
    "The \"Ethical Profesionalism Considerations\" and \"Current Course Project Capability Level\" sections below **are not a part of the required homework assignment**; rather, they are regular weekly guides covering (a) relevant considerations regarding professional and ethical conduct, and (b) the analysis steps for the STA130 course project that are feasible at the current stage of the course \n",
    "\n",
    "<br>\n",
    "<details class=\"details-example\">\n",
    "<summary style=\"color:blue\"><u>Ethical Professionalism Considerations</u></summary>\n",
    "\n",
    "The TUT and HW both addressed some of the assumptions used in **Simple Linear Regression**. The **p-values** provided by `statsmodels` via `smf.ols(...).fit()` depend on these assumptions, so if they are not (at least approximately) correct, the **p-values** (and any subsequent claims regarding the \"evidience against\" the **null hypothesis**) are not reliable. In light of this consideration, describe how you could diagnostically check the first three assumptions (given below) when using analyses based on **Simple Linear regression** model. From an Ethical and Professional perspective, do you think doing diagnostic checks on the assumptions of a **Simple Linear regression** model is something you can and should do whenever you're doing this kind of analysis? \n",
    "            \n",
    "> The first three assumptions associated with the **Simple Linear regression** model are that<br>\n",
    "> \n",
    "> 1. the $\\epsilon_i$ **errors** (sometimes referred to as the **noise**) are **normally distributed**\n",
    "> 2. the $\\epsilon_i$ **errors** are **homoscedastic** (so their distributional variance $\\sigma^2$ does not change as a function of $x_i$)\n",
    "> 3. the linear form is [at least reasonably approximately] \"true\" (in the sense that the above two remain [at least reasonably approximately] \"true\") so that then behavior of the $Y_i$ **outcomes** are represented/determined on average by the **linear equation**)<br>\n",
    "> \n",
    ">    and there are additional assumptions; but, a deeper reflection on these is \"beyond the scope\" of STA130; nonetheless, they are that<br><br>\n",
    "> 4. the $x_i$ **predictor variable** is **measured without error**\n",
    "> 5. and the $\\epsilon_i$ **errors** are **statistically independent** (so their values do not depend on each other)\n",
    "> 6. and the $\\epsilon_i$ **errors** are **unbiased** relative to the **expected value** of **outcome** $E[Y_i|x_i]=\\beta_0 + \\beta_1x_i$ (which is equivalently stated by saying that the mean of the **error distribution** is $0$, or again equivalently, that the **expected value** of the **errors** $E[\\epsilon_i] = 0$)\n",
    "    \n",
    "</details>\n",
    "\n",
    "<details class=\"details-example\">\n",
    "    <summary style=\"color:blue\"><u>Current Course Project Capability Level</u></summary>\n",
    "\n",
    "#### Remember to abide by the [data use agreement](https://static1.squarespace.com/static/60283c2e174c122f8ebe0f39/t/6239c284d610f76fed5a2e69/1647952517436/Data+Use+Agreement+for+the+Canadian+Social+Connection+Survey.pdf) at all times\n",
    "\n",
    "At this point in the course you should be able to do a **Simple Linear Regression** analysis for data from the Canadian Social Connection Survey data\n",
    "    \n",
    "1. Create and test a **null hypothesis** of no linear association \"on average\" for a couple of columns of interest in the Canadian Social Connection Survey data using **Simple Linear Regression**\n",
    "\n",
    "2. Use the **residuals** of a fitted **Simple Linear Regression** model to diagnostically assess some of the assumptions of the analysis\n",
    "\n",
    "3. Use an **indicator variable** based **Simple Linear Regression** model to compare two groups from the Canadian Social Connection Survey data\n",
    "\n",
    "4. Compare and contrast the results of an **indicator variable** based **Simple Linear Regression** model to analyses based on a **permutation test** and a **bootstrapped confidence interval**   \n",
    "    \n",
    "</details>    "
   ]
  },
  {
   "cell_type": "code",
   "execution_count": null,
   "id": "4b4a0b4d",
   "metadata": {},
   "outputs": [],
   "source": []
  }
 ],
 "metadata": {
  "kernelspec": {
   "display_name": "Python 3 (ipykernel)",
   "language": "python",
   "name": "python3"
  },
  "language_info": {
   "codemirror_mode": {
    "name": "ipython",
    "version": 3
   },
   "file_extension": ".py",
   "mimetype": "text/x-python",
   "name": "python",
   "nbconvert_exporter": "python",
   "pygments_lexer": "ipython3",
   "version": "3.11.4"
  }
 },
 "nbformat": 4,
 "nbformat_minor": 5
}
