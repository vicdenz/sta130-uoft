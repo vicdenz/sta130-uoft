{
 "cells": [
  {
   "cell_type": "markdown",
   "metadata": {},
   "source": [
    "# STA130 Week 02 Homework\n",
    "***\n",
    "#### **Author**: David Daniliuc<br>**Created**: Mon Sept. 16, 2024"
   ]
  },
  {
   "cell_type": "markdown",
   "metadata": {},
   "source": [
    "> #### Homework Chat Logs:\n",
    "> - Question 1-3: *https://chatgpt.com/share/66ec555f-54fc-8004-9bb2-026b1fa5bda1*\n",
    "> \n",
    "> - Question 4-5(part 1,2): *https://chatgpt.com/share/66ec5d1c-bad8-8004-82fd-18dd501e73cb*\n",
    "> \n",
    "> - Question 5(part 3): *https://chatgpt.com/share/66ec5e86-926c-8004-a0b3-b401cfe5daeb*\n",
    "> "
   ]
  },
  {
   "cell_type": "markdown",
   "metadata": {},
   "source": [
    "### 1. Begin (or restart) part \"3(a)\" of the **TUT Demo** and interact with a ChatBot to make sure you understand how each part the Monte Hall problem code above works."
   ]
  },
  {
   "cell_type": "markdown",
   "metadata": {},
   "source": [
    "ChatGPT told me *(umprompted)* that the code simulates 100,000 repetitions of the Monty Hall problem. First, it explained how the game works and the rules. Then, it broke down the code into section and explained each one line by line."
   ]
  },
  {
   "cell_type": "markdown",
   "metadata": {},
   "source": [
    "### 2. Extend your ChatBot sessions to now address part \"3(b)\" of the **TUT Demo** and interact with your ChatBot to see if it can suggest a simpler, more streamlined way to code up this *for* loop simulation so the process is more clear and easier to understand; then, describe any preferences you have in terms of readibility or explainability  between the original code and the code improvements suggested by the ChatBot."
   ]
  },
  {
   "cell_type": "markdown",
   "metadata": {},
   "source": [
    "ChatGPT was very effective at improving the `for loop`. However, I asked it to use `and` instead of `&` in conditional statements and to display the output as a decimal instead of as a percentage.\n",
    "\n",
    "Also, when running the code it gave me the following errors:\n",
    "```\n",
    "Cell In[1], line 16\n",
    " 13 # If switching, reveal a goat door and switch\n",
    " 14 if switch:\n",
    " 15     # Reveal a goat door (a door that's neither the chosen nor the winning door)\n",
    "---> 16     possible_goat_doors = all_door_options[(all_door_options != my_door_choice) and (all_door_options != secret_winning_door)]\n",
    " 17     goat_door_reveal = np.random.choice(possible_goat_doors)\n",
    " 19     # Switch to the remaining door\n",
    "\n",
    "ValueError: The truth value of an array with more than one element is ambiguous. Use a.any() or a.all()\n",
    "```\n",
    "\n",
    "When I asked ChatGPT what the error was, it told me that replacing `&` with `and` was incorrect and fixed the code. Interesting, that it didn't correct me the first thing when I asked for it to get changed."
   ]
  },
  {
   "cell_type": "markdown",
   "metadata": {},
   "source": [
    "### 3. Submit your preferred version of the Monty Hall problem that is verified to be running and working with a final printed output of the code; then, add code comments explaining the purpose of each line of the code."
   ]
  },
  {
   "cell_type": "code",
   "execution_count": null,
   "metadata": {},
   "outputs": [],
   "source": [
    "import numpy as np\n",
    "\n",
    "def monty_hall_simulation(reps=100000, switch=True):\n",
    "\t# Predefine doors options\n",
    "\tall_door_options = np.array([1, 2, 3])\n",
    "\tmy_door_choice = 1\n",
    "\ttimes_won = 0\n",
    "\n",
    "\tfor rep in range(reps):\n",
    "\t\t# Randomly select the winning door\n",
    "\t\tsecret_winning_door = np.random.choice(all_door_options)\n",
    "\n",
    "\t\t# If switching, reveal a goat door and switch\n",
    "\t\tif switch:\n",
    "\t\t\t# Reveal a goat door (a door that's neither the chosen nor the winning door)\n",
    "\t\t\t# Preforms 2 element-wise comparisons then an bitwise AND operation to remove my_door_choice and secret_winning_door from all_door_options\n",
    "\t\t\tpossible_goat_doors = all_door_options[(all_door_options != my_door_choice) & (all_door_options != secret_winning_door)]\n",
    "\n",
    "\t\t\tgoat_door_reveal = np.random.choice(possible_goat_doors)\n",
    "\n",
    "\t\t\t# Switch to the remaining door\n",
    "\t\t\t# Preforms 2 element-wise comparisons then an bitwise AND operation to remove my_door_choice and goat_door_reveal from all_door_options\n",
    "\t\t\tmy_door_choice = all_door_options[(all_door_options != my_door_choice) & (all_door_options != goat_door_reveal)]\n",
    "\n",
    "\t\t# Check if the new door is the winning door\n",
    "\t\tif my_door_choice == secret_winning_door:\n",
    "\t\t\ttimes_won += 1\n",
    "\n",
    "\treturn times_won / reps\n",
    "\n",
    "# Running the simulation\n",
    "win_rate = monty_hall_simulation()\n",
    "print(f\"Win rate when switching: {win_rate}\")"
   ]
  },
  {
   "cell_type": "markdown",
   "metadata": {},
   "source": [
    "Example output: `Win rate when switching: 0.66914`"
   ]
  },
  {
   "cell_type": "markdown",
   "metadata": {},
   "source": [
    "### 4. Watch the embedded video tutorial on Markov chains in the next Jupyter cell below to understand their application and relevance for ChatBots; then, after watching the video, start a new ChatBot session by prompting that you have code that creates a \"Markovian ChatBot\"; show it the first version of the \"Markovian ChatBot code\" below; and interact with the ChatBot session to make sure you understand how the original first version of the \"Markovian ChatBot code\" works."
   ]
  },
  {
   "cell_type": "markdown",
   "metadata": {},
   "source": [
    "***This is the summary of my ChatGPT session explaining the first version of the \"Markovian ChatBot\" (I was never asked how I will \"train\" the \"\"Markovian ChatBot\"):***\n",
    "\n",
    "\n",
    "A Markovian chatbot uses a probabilistic model where the next word in a sentence is chosen based on the current word. The provided code builds this model by:\n",
    "\n",
    "* Tracking how often each word appears (word_used).\n",
    "* Recording which words follow each word and how often (next_word). During response generation, the chatbot picks the next word based on these word-following frequencies, creating sentences that mimic the patterns in the training text."
   ]
  },
  {
   "cell_type": "markdown",
   "metadata": {},
   "source": [
    "### 5. Recreate (or resume) the previous ChatBot session from question \"4\" above, and now  prompt the ChatBot session that you have a couple extensions of the code to show it, and then show it each of the extentions of the \"Markovian ChatBot code\" below in turn"
   ]
  },
  {
   "cell_type": "markdown",
   "metadata": {},
   "source": [
    "##### 1. Without just supplying your ChatBot session with the answers, see if the ChatBot can figure out what the extensions in the code do; namely, making character specific Markov chains, and using bigrams (rather than just the previous word alone) dependency... prompt your ChatBot session with some hints if it's not seeming to \"get it\".\n",
    "\n",
    "##### 2. Interact with your ChatBot session to have it explain details of the code wherever you need help understanding what the code is doing and how it."
   ]
  },
  {
   "cell_type": "markdown",
   "metadata": {},
   "source": [
    "***First Extension***\n",
    "\n",
    "When given the first extension unprompted, ChatGPT was able to figure out that it was a \"second-order\" Markov Chain. ChatGPT effectively explained the code and the differences between the first version and this new extension. It even gave examples of how it works on small texts.\n",
    "\n",
    "***Second Extension***\n",
    "\n",
    "When given the second extension after the first, ChatGPT understood that it added another layer of complexity allowing for *character-specific dialogue generation*. Once again, it effectively explained the code and the differences between the 2 given extensions. It broke down the code into its key features and individually explained each section using variable names and simple terms to convey how it generates dialogue. Additionally, it gave examples using characters from Avatar: The Last Airbender."
   ]
  },
  {
   "cell_type": "markdown",
   "metadata": {},
   "source": [
    "##### 3. Start yet another new ChatBot session and first show the ChatBot the original \"Markovian ChatBot code\" below, and then tell ChatBot that you have an extension but this time just directly provide it the more complicated final extension without ever providing the intermediate extension code to the ChatBot session and see if it's still able to understand everything extension does; namely, making character specific Markov chains, and using bigrams (rather than just the previous word alone) dependency... prompt the ChatBot with some hints if it's not seeming to understand what you're getting at."
   ]
  },
  {
   "cell_type": "markdown",
   "metadata": {},
   "source": [
    "After giving the first version and the second extension, ChatGPT didn't fully understand what I was trying to do. I still have a good explanation of the code and how it differs from the first version; however, it didn't explain what the purpose of the code was and how it was a \"higher-order\" Markov Chain designed for *character-specific dialogue generation*. The explanation was much more technical and skipped over the theory behind the \"Markovian ChatBot\"."
   ]
  },
  {
   "cell_type": "markdown",
   "metadata": {},
   "source": [
    "### 6. Report on your experience interacting with ChatBots to understand the Monte Hall problem and \"Markovian ChatBot\" code\n",
    "\n",
    "1. Discuss how quickly the ChatBot was able to be helpful for each of the above questions, and if so, how?\n",
    "2. Discuss whether or not interacting with ChatBot to try to figure things out was frustrating or unhelpful, and if so, how?\n",
    "3. Based on your experiences to date (e.g., including using ChatBots to troubleshoot coding errors in the previous homework), provide an overall assessment evaluating the usefulness of ChatBots as tools to help you understand code."
   ]
  },
  {
   "cell_type": "markdown",
   "metadata": {},
   "source": [
    "Since I was already familiar with the Monte Hall problem, it wasn't too beneficial. However, ChatGPT was very helpful in understanding the \"Markovian ChatBot\" code and gave a very detailed and brief explanation. Interacting with ChatGPT is typically helpful but frustrating since it can't always know what specifically you are looking to know so gives a lot of information that isn't too specific to your needs. Even with a good prompt, it oftentimes resorts to long answers that are frustrating to deal with. Since I am already very familiar with programming, ChatGPT is only helpful to quickly understand small things here and there, such as the difference between `and` and `&` in the case of `np.array()`."
   ]
  },
  {
   "cell_type": "markdown",
   "metadata": {},
   "source": [
    "### 7. Reflect on your experience interacting with ChatBot and describe how your perception of AI-driven assistance tools in the context of learning coding, statistics, and data science has been evolving (or not) since joining the course.\n",
    "\n",
    "I have been using AI tools since they first became popular in the past few years so my opinions on them haven't changed too much. Using ChatGPT for this course has been a new learning opportunity to improve my prompt engineering and time management skills."
   ]
  },
  {
   "cell_type": "markdown",
   "metadata": {},
   "source": [
    "### 8. ChatBots consume text data available on the web or platforms, and thus represents a new way to \"search consensensus\" that condenses and summarizes mainstream human thought."
   ]
  },
  {
   "cell_type": "markdown",
   "metadata": {},
   "source": [
    "Skipped due to busy workload."
   ]
  },
  {
   "cell_type": "markdown",
   "metadata": {},
   "source": [
    "### 9. Have you reviewed the course [wiki-textbook](https://github.com/pointOfive/stat130chat130/wiki) and interacted with a ChatBot (or, if that wasn't sufficient, real people in the course piazza discussion board or TA office hours) to help you understand all the material in the tutorial and lecture that you didn't quite follow when you first saw it?<br>"
   ]
  },
  {
   "cell_type": "markdown",
   "metadata": {},
   "source": [
    "I have been using the *wiki-textbook* and ChatGPT to review material taught in lecture. In paticular, I have reviewed terms like `binomial distribution` and `multinomial distribution`."
   ]
  }
 ],
 "metadata": {
  "kernelspec": {
   "display_name": "Python 3",
   "language": "python",
   "name": "python3"
  },
  "language_info": {
   "codemirror_mode": {
    "name": "ipython",
    "version": 3
   },
   "file_extension": ".py",
   "mimetype": "text/x-python",
   "name": "python",
   "nbconvert_exporter": "python",
   "pygments_lexer": "ipython3",
   "version": "3.12.4"
  }
 },
 "nbformat": 4,
 "nbformat_minor": 2
}
