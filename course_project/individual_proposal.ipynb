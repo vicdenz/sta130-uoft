{
 "cells": [
  {
   "cell_type": "markdown",
   "metadata": {},
   "source": [
    "# STA130 Individual Course Project Proposals\n",
    "***\n",
    "#### **Author**: David Daniliuc<br>**Created**: Sat Nov. 2, 2024"
   ]
  },
  {
   "cell_type": "markdown",
   "metadata": {},
   "source": [
    "### Table Of Contents\n",
    "1. List of Distinct Analyses <br>\n",
    "&nbsp;&nbsp;&nbsp;&nbsp; a. Association Between Income Bracket and Life Satisfaction During the 2021 COVID-19 Lockdown. <br>\n",
    "&nbsp;&nbsp;&nbsp;&nbsp; b. Association Between Social Isolation and Cannabis Use During 2023<br>\n",
    "&nbsp;&nbsp;&nbsp;&nbsp; c. ??? <br>\n",
    "2. Important Statistical Considerations\n",
    "3. "
   ]
  },
  {
   "cell_type": "markdown",
   "metadata": {},
   "source": [
    "#### Analysis 1\n",
    "\n",
    "**Research Question:** Is there an association between income bracket and self-reported life satisfaction among Canadians during the 2021 Covid-19 lockdown?\n",
    "\n",
    "**Research Objective:** It is often assumed that individuals who are wealthy live much more happier and fulfilling lives. The purpose of this statistical analysis is to explore this assumption and examine its validity. Also, it is interesting to explore how the 2021 Covid-19 lockdown impacts the life satisfaction scores of people across different income brackets.\n",
    "\n",
    "**Variables:**\n",
    "- `WELLNESS_life_satisfaction` is a **ordinal categorical variable** from the 2021 cross-sectional survey. Responses are categorized into values ranging from `1` to `10`, where higher values indicate greater life satisfaction. Assessed by the following prompt *\"On a scale of 1 to 10, How do you feel about your life as a whole right now?\"*.\n",
    "\n",
    "- `DEMO_household_income` is a **ordinal categorical variable** from the 2021 cross-sectional survey. Responses are categorized into income brackets starting from `Under $5000` to `$200,000 or more` incrementing in units of `$5000` (e.g., `Under $5,000`, `$5,000 to $9,999`, `$10,000 to $14,999`). Assessed by the following prompt *\"What is your best estimate of your total household income received by all household members, from all sources, before taxes and deductions, during the year ending December 31, 2020? Note: Income can come from various sources such as from work, investments, pensions or government. Examples include Employment Insurance, Social Assistance, Child Tax Benefit and other income such as child support, spousal support (alimony) and rental income.\"*.\n",
    "\n",
    "**Visualizations:**\n",
    "- **Bar Graph** to visualize the distribution of `DEMO_household_income` responses. A **bar graph** is the most informative visualization tool to use with a **categorical variable** since it displays the number of values of each category as the height of a bar.\n",
    "\n",
    "- **Percentage Stacked Bar Graph** to visualize the distribution of `WELLNESS_life_satisfaction` responses within each category of `DEMO_household_income`. A **percentage stacked bar graph** is an effective tool for visualizing the relationship between two **categorical variable**, as it displays the relative percentage of each `WELLNESS_life_satisfaction` response within each `DEMO_household_income` response category. For each income bracket, the relative percentage bar segments are stacked, resulting in the height of the total bar to remains consistent. This allows for easy comparison across income brackets.\n",
    "\n",
    "**Analysis:**<br>\n",
    "From the 2021 cross-sectional survey data, $2260$ participants were selected out of the $3186$ valid participants. These participants were selected based on criteria derived from the analysis variables above. Next, we will perform a **Chi-Squared Test** to examine the association between the two categorical variables. We will pre-determine an **alpha significance level** of $0.05$. The **Chi-Squared Test** will assess whether there is a significant difference between the expected and observed frequencies in the contingency table constructed from these variables. The p-value from the **Chi-Squared Test** indicates the probability of observing a Chi-Squared statistic as or more extreme than the one calculated from our data. This p-value will be compared with our alpha significance level.\n",
    "\n",
    "**Assumptions:** Independent observations, mutually exclusive categories, random sampling, adequate sample size, and fixed row & column totals.\n",
    "\n",
    "**Hypotheses:**\n",
    "- Null Hypothesis ($H_0$): There is no association between income bracket and life satisfaction.\n",
    "- Alternative Hypothesis ($H_A$): There is an association between income bracket and life satisfaction.\n",
    "\n",
    "**Possible Results:**\n",
    "- *No statistically significant association:* $p\\text{-value} > 0.05$ (Fail to reject Null Hypothesis)\n",
    "- *Statistically significant association:* $p\\text{-value} \\leq 0.05$ (Reject Null Hypothesis)\n",
    "- *Moderate association:* $0.01 < p\\text{-value} \\leq 0.05$ (Moderate evidence against the Null Hypothesis)\n",
    "- *Strong association:* $p\\text{-value} \\leq 0.01$ (Strong evidence against the Null Hypothesis)\n",
    "\n",
    "Relevance to Question: These results will help us determine if income bracket is associated with life satisfaction among Canadians."
   ]
  },
  {
   "cell_type": "markdown",
   "metadata": {},
   "source": [
    "### Analysis 2\n",
    "\n",
    "**Research Question:** Is there a correlation between time spent with friends and cannabis use among Canadians in 2023?\n",
    "\n",
    "**Research Objective:** Social isolation has been associated with various health outcomes, including substance use. This analysis aims to examine whether time spent with friends impacts the frequency of cannabis use among Canadians. Exploring this relationship may provide insight into how social connectivity affects substance use behaviors.\n",
    "\n",
    "**Variables:**\n",
    "- `CONNECTION_social_time_friends_p7d` is a **continuous variable** representing the self-reported number of hours participants spent with friends over the past 7 days. Assessed by the following prompt *\"In the PAST WEEK, how many hours in total did you spend socializing with others from the following groups? - Friends\"*.\n",
    "\n",
    "- `SUBSTANCE_USE_drugs_cannabis` is an **ordinal categorical variable** measuring frequency of cannabis use in the past 6 months. Responses are categorized into income brackets starting from `Under $5000` to `$200,000 or more` incrementing in units of `$5000` (e.g., `Under $5,000`, `$5,000 to $9,999`, `$10,000 to $14,999`). Assessed by the following prompt *\"In the PAST SIX MONTHS, how often did you use the following substances? - Cannabis\"*.\n",
    "\n",
    "measuring frequency of cannabis use, categorized as follows: \"Not in the past six months,\" \"Less than monthly,\" \"Monthly,\" \"A few times a month,\" \"Weekly,\" \"A few times a week,\" and \"Daily or almost daily.\"\n",
    "\n",
    "**Visualizations:**\n",
    "- **Box Plot** with individual data points to display the distribution of time spent with friends across different categories of cannabis use. This visualization helps identify differences in social time across varying levels of cannabis use frequency.\n",
    "- **Scatter Plot with Regression Line** to observe the overall relationship between time spent with friends and cannabis use frequency, assisting in detecting linear trends or correlations.\n",
    "\n",
    "**Analysis:**  \n",
    "From the 2022 cross-sectional survey data, a subset of participants who provided information on both social time and cannabis use frequency was selected. First, we will calculate the **Spearman’s rank correlation** to assess the strength and direction of the relationship between these two variables. As Spearman’s correlation is non-parametric, it is appropriate for ordinal data like cannabis use frequency and accounts for non-linear associations. We will use an **alpha significance level** of $$0.05$$ to determine statistical significance.\n",
    "\n",
    "**Assumptions:** Independent observations, ordinal categorization for cannabis use, continuous variable for social time, random sampling, and no extreme outliers influencing correlation.\n",
    "\n",
    "**Hypotheses:**\n",
    "- Null Hypothesis ($$H_0$$): There is no correlation between time spent with friends and cannabis use frequency.\n",
    "- Alternative Hypothesis ($$H_A$$): There is a correlation between time spent with friends and cannabis use frequency.\n",
    "\n",
    "**Possible Results:**\n",
    "- *No statistically significant correlation:* $$p\\text{-value} > 0.05$$ (Fail to reject Null Hypothesis)\n",
    "- *Statistically significant correlation:* $$p\\text{-value} \\leq 0.05$$ (Reject Null Hypothesis)\n",
    "- *Moderate correlation:* $$0.01 < p\\text{-value} \\leq 0.05$$ (Moderate evidence against the Null Hypothesis)\n",
    "- *Strong correlation:* $$p\\text{-value} \\leq 0.01$$ (Strong evidence against the Null Hypothesis)\n",
    "\n",
    "**Relevance to Question:** These results will help us determine if social isolation is associated with cannabis use frequency, potentially informing interventions targeting social engagement as a factor in substance use prevention.\n"
   ]
  },
  {
   "cell_type": "markdown",
   "metadata": {},
   "source": [
    "#### Analysis 3 (EXAMPLE)\n",
    "\n",
    "**Research Question:** Is there an association between the time Canadians spend on social media and their self-reported negative body images in 2022?\n",
    "\n",
    "**Variables:**\n",
    "- `PSYCH_body_self_image_questionnaire_think_unattractive`: **ordinal variable** from the 2022 cross-sectional survey, assessing agreement with the statement *\"I think my body is unattractive.\"* through 5 categorical responses.\n",
    "- `CONNECTION_social_media_time_per_day`: Also **ordinal** and from the 2002 cross survey, assessing time spent oj social media with 6 categorical responses.\n",
    "\n",
    "**Visualizations:** `Bar plots` for both ordinal variables. Bar plots are useful for visualizing the distribution of ordinal responses, because they represent the count of values of each category as the height of a bar, providing an intuitive assessment.\n",
    "\n",
    "**Analysis:** Using data from the 2022 cross-sectional survey, we will perform **Fisher's Exact Test** on the contingency table constructed from the two variables. We will pre-determine an **alpha significance level of 0.05**. Due to the computational intensity of calculating each possible combination, we will utilize a **Monte Carlo simulation** to estimate the p-value accurately. This method involves generating a large number of simulated contingency tables under the null hypothesis. Our p-value is proportion of tables that are as or more extreme than the observed table. It will be compared with our alpha significance level.\n",
    "\n",
    "**Assumptions:** Independence of observations, Mutually exclusive categories, Random sampling, Independent observations and Fixed row & column totals.\n",
    "\n",
    "**Hypotheses:**\n",
    "- Null Hypothesis ($H_0$): There is no association between time spent on social media and negative body image.\n",
    "- Alternative Hypothesis ($H_A$): There is an association between time spent on social media and negative body image.\n",
    "\n",
    "**Possible Results;**\n",
    "- Statistically significant association: p-value <= 0.05. (Reject Null Hypothesis)\n",
    "- No statistically significant association: p-value > 0.05. (Fail to reject Null Hypothesis)\n",
    "\n",
    "**Relevance to Question:** These results will help us determine if time spent on social media is associated with negative body image among Canadians.\n"
   ]
  },
  {
   "cell_type": "markdown",
   "metadata": {},
   "source": [
    "### Analysis Guide\n",
    "\n",
    "Each student will individually suggest three (3) distinct analyses that they plan to use to explore the CSCS data\n",
    "1. Describe (a) the variables you plan to explore, and (b) the analysis you plan to perform\n",
    "2. Describe (a) the possible results your analysis may produce, and (b) how this could be relevant for the objectives of the course project\n",
    "3. Include your results if you have already completed an analysis\n",
    "\n",
    "<br>\n",
    "\n",
    "For each of the analyses you propose, you should include the following sections:\n",
    "- A clear statement of the specific research question you’ve formulated.\n",
    "\t- Here, based on the data that has been provided, you should think of what might be interesting to study.\n",
    "\t- Is there a population parameter that you would like to estimate?\n",
    "\t- Are you interested in the association of one (or more) variables on some outcome?\n",
    "- Describe the variables you plan to explore and how you plan on exploring them.\n",
    "\t- Here, it is important to also briefly discuss why you are choosing these variables.\n",
    "\t- What plots/visualizations or summary statistics might be useful? You should also include a brief justification of why each type of visualization would be appropriate.\n",
    "- Describe the analysis you plan to perform.\n",
    "\t- Based on the methods learned in class, you will have to choose one that is appropriate in answering your research question and describe how you would perform the analysis.\n",
    "\t- Note any assumptions that you feel may be relevant to the considerations of the analysis.\n",
    "- Make a hypothesis for the possible results your analysis may produce and describe how these results would be relevant in answering your research question. If you have completed an analysis, you may include your results.\n",
    "\t- Here, you do not actually need to perform the analysis to obtain full marks.\n",
    "\t- You should think about the data and the procedure and hypothesize on what you would expect to see—things may not happen as planned and that is okay!\n",
    "\t- It is generally good practice to relate your results back to your original research question."
   ]
  }
 ],
 "metadata": {
  "kernelspec": {
   "display_name": "Python 3",
   "language": "python",
   "name": "python3"
  },
  "language_info": {
   "codemirror_mode": {
    "name": "ipython",
    "version": 3
   },
   "file_extension": ".py",
   "mimetype": "text/x-python",
   "name": "python",
   "nbconvert_exporter": "python",
   "pygments_lexer": "ipython3",
   "version": "3.12.4"
  }
 },
 "nbformat": 4,
 "nbformat_minor": 2
}
