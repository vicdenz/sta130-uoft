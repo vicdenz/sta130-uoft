{
 "cells": [
  {
   "cell_type": "markdown",
   "metadata": {},
   "source": [
    "# STA130 Course Project - Analysis 3 Project Proposal\n",
    "***\n",
    "#### **Author**: David Daniliuc<br>**Created**: Sat Nov. 2, 2024\n",
    "\n",
    "*Jupyter Python Notebook for Analysis 2 testing and experimenting for the STA130 Course Project.* "
   ]
  },
  {
   "cell_type": "code",
   "execution_count": 8,
   "metadata": {},
   "outputs": [
    {
     "name": "stderr",
     "output_type": "stream",
     "text": [
      "/var/folders/b0/20_s9xf13p33yqxth9cv22380000gn/T/ipykernel_48540/2466574915.py:9: DtypeWarning: Columns (129,408,630,671,689,978,1001,1002,1006,1007,1008,1080,1113,1115,1116,1117,1118,1119,1120,1121,1124,1125,1126,1127,1128,1213,1214,1215,1216,1217,1218,1263,1266,1342,1343,1344,1345,1346,1347,1348,1349,1390,1391,1393,1439,1442,1463,1546,1549,1552,1555,1558,1561) have mixed types. Specify dtype option on import or set low_memory=False.\n",
      "  data = pd.read_csv(\"CSCS_data_anon.csv\", na_values=[\"9999\", \"\", \" \", \"Presented but no response\", \"NA\"])\n"
     ]
    }
   ],
   "source": [
    "\n",
    "# Import statements\n",
    "import pandas as pd\n",
    "import numpy as np\n",
    "import plotly.express as px\n",
    "import scipy.stats as stats\n",
    "\n",
    "# Read and import dataset\n",
    "cols = pd.read_csv(\"var_names.csv\")\n",
    "data = pd.read_csv(\"CSCS_data_anon.csv\", na_values=[\"9999\", \"\", \" \", \"Presented but no response\", \"NA\"])\n",
    "\n",
    "# Cleaning the data\n",
    "empty = (data.isna().sum() == data.shape[0])\n",
    "data = data[empty.index[~empty]] # keep non empty columns only\n",
    "\n",
    "data = data[data.REMOVE_case=='No'].copy()"
   ]
  },
  {
   "cell_type": "code",
   "execution_count": 9,
   "metadata": {},
   "outputs": [
    {
     "name": "stdout",
     "output_type": "stream",
     "text": [
      "(3186, 1779)\n",
      "(3078, 274)\n"
     ]
    }
   ],
   "source": [
    "data_cross_2021 = data[data.DATASET=='2021 Cross-Sectional'].copy()\n",
    "\n",
    "print(data_cross_2021.shape)\n",
    "\n",
    "# Remove rows with missing values\n",
    "data_cross_2021 = data_cross_2021.dropna(subset=['COVID_vaccinated', 'DEMO_age'])\n",
    "\n",
    "# Remove columns that have more missing values than missing_limit\n",
    "missing_limit = 1000\n",
    "keptColumns = data_cross_2021.isna().sum() < missing_limit\n",
    "keptColumns = keptColumns.index[keptColumns]\n",
    "data_cross_2021 = data_cross_2021[keptColumns].copy()\n",
    "\n",
    "print(data_cross_2021.shape)\n",
    "\n",
    "# # Calculate Z-scores\n",
    "# z_scores = stats.zscore(data_cross_2023['CONNECTION_social_time_friends_p7d'])\n",
    "# threshold = 3\n",
    "\n",
    "# # Filter out outliers based on Z-score\n",
    "# data_cross_2023 = data_cross_2023[(z_scores < threshold) & (z_scores > -threshold)]\n",
    "\n",
    "# print(data_cross_2023.shape)"
   ]
  },
  {
   "cell_type": "code",
   "execution_count": 10,
   "metadata": {},
   "outputs": [
    {
     "name": "stdout",
     "output_type": "stream",
     "text": [
      "['Yes, one dose' 'No' 'Yes, two doses']\n",
      "[30. 66. 27. 48. 50. 73. 42. 32. 51. 28. 23. 25. 52. 36. 35. 68. 63. 31.\n",
      " 44. 24. 33. 39. 19. 49. 37. 26. 67. 18. 21. 64. 59. 58. 62. 38. 61. 77.\n",
      " 53. 34. 56. 20. 55. 47. 22. 60. 54. 29. 69. 79. 70. 40. 16. 57. 43. 71.\n",
      " 46. 74. 65. 75. 45. 41. 76. 17. 72. 78. 80. 81. 89. 85. 82. 87. 83. 88.]\n"
     ]
    }
   ],
   "source": [
    "print(data_cross_2021['COVID_vaccinated'].unique())\n",
    "print(data_cross_2021['DEMO_age'].unique())"
   ]
  },
  {
   "cell_type": "code",
   "execution_count": 11,
   "metadata": {},
   "outputs": [
    {
     "ename": "NameError",
     "evalue": "name 'data_cross_2023' is not defined",
     "output_type": "error",
     "traceback": [
      "\u001b[0;31m---------------------------------------------------------------------------\u001b[0m",
      "\u001b[0;31mNameError\u001b[0m                                 Traceback (most recent call last)",
      "Cell \u001b[0;32mIn[11], line 15\u001b[0m\n\u001b[1;32m      6\u001b[0m cannabis_order \u001b[38;5;241m=\u001b[39m [\u001b[38;5;124m'\u001b[39m\u001b[38;5;124mNot in the past six months\u001b[39m\u001b[38;5;124m'\u001b[39m, \n\u001b[1;32m      7\u001b[0m                   \u001b[38;5;124m'\u001b[39m\u001b[38;5;124mLess than monthly\u001b[39m\u001b[38;5;124m'\u001b[39m, \n\u001b[1;32m      8\u001b[0m                   \u001b[38;5;124m'\u001b[39m\u001b[38;5;124mMonthly\u001b[39m\u001b[38;5;124m'\u001b[39m, \n\u001b[0;32m   (...)\u001b[0m\n\u001b[1;32m     11\u001b[0m                   \u001b[38;5;124m'\u001b[39m\u001b[38;5;124mA few times a week\u001b[39m\u001b[38;5;124m'\u001b[39m, \n\u001b[1;32m     12\u001b[0m                   \u001b[38;5;124m'\u001b[39m\u001b[38;5;124mDaily or almost daily\u001b[39m\u001b[38;5;124m'\u001b[39m]\n\u001b[1;32m     14\u001b[0m \u001b[38;5;66;03m# Create the box plot with flipped axes and ordered cannabis use\u001b[39;00m\n\u001b[0;32m---> 15\u001b[0m fig \u001b[38;5;241m=\u001b[39m px\u001b[38;5;241m.\u001b[39mbox(\u001b[43mdata_cross_2023\u001b[49m, \n\u001b[1;32m     16\u001b[0m              y\u001b[38;5;241m=\u001b[39m\u001b[38;5;124m'\u001b[39m\u001b[38;5;124mSUBSTANCE_USE_drugs_cannabis\u001b[39m\u001b[38;5;124m'\u001b[39m,  \u001b[38;5;66;03m# Cannabis use is on the y-axis\u001b[39;00m\n\u001b[1;32m     17\u001b[0m              x\u001b[38;5;241m=\u001b[39m\u001b[38;5;124m'\u001b[39m\u001b[38;5;124mCONNECTION_social_time_friends_p7d\u001b[39m\u001b[38;5;124m'\u001b[39m,  \u001b[38;5;66;03m# Time with friends is now on the x-axis\u001b[39;00m\n\u001b[1;32m     18\u001b[0m              title\u001b[38;5;241m=\u001b[39m\u001b[38;5;124m'\u001b[39m\u001b[38;5;124mBox Plot of Cannabis Use by Time with Friends\u001b[39m\u001b[38;5;124m'\u001b[39m,\n\u001b[1;32m     19\u001b[0m              labels\u001b[38;5;241m=\u001b[39m{\u001b[38;5;124m'\u001b[39m\u001b[38;5;124mCONNECTION_social_time_friends_p7d\u001b[39m\u001b[38;5;124m'\u001b[39m: \u001b[38;5;124m'\u001b[39m\u001b[38;5;124mTime with Friends (7 Days)\u001b[39m\u001b[38;5;124m'\u001b[39m, \n\u001b[1;32m     20\u001b[0m                      \u001b[38;5;124m'\u001b[39m\u001b[38;5;124mSUBSTANCE_USE_drugs_cannabis\u001b[39m\u001b[38;5;124m'\u001b[39m: \u001b[38;5;124m'\u001b[39m\u001b[38;5;124mCannabis Use\u001b[39m\u001b[38;5;124m'\u001b[39m},\n\u001b[1;32m     21\u001b[0m              category_orders\u001b[38;5;241m=\u001b[39m{\u001b[38;5;124m'\u001b[39m\u001b[38;5;124mSUBSTANCE_USE_drugs_cannabis\u001b[39m\u001b[38;5;124m'\u001b[39m: cannabis_order})  \u001b[38;5;66;03m# Sort by cannabis order\u001b[39;00m\n\u001b[1;32m     23\u001b[0m \u001b[38;5;66;03m# Add a scatter plot layer to show all individual data points\u001b[39;00m\n\u001b[1;32m     24\u001b[0m fig\u001b[38;5;241m.\u001b[39madd_trace(px\u001b[38;5;241m.\u001b[39mstrip(data_cross_2023, \n\u001b[1;32m     25\u001b[0m                         y\u001b[38;5;241m=\u001b[39m\u001b[38;5;124m'\u001b[39m\u001b[38;5;124mSUBSTANCE_USE_drugs_cannabis\u001b[39m\u001b[38;5;124m'\u001b[39m,  \u001b[38;5;66;03m# Cannabis use is on the y-axis\u001b[39;00m\n\u001b[1;32m     26\u001b[0m                         x\u001b[38;5;241m=\u001b[39m\u001b[38;5;124m'\u001b[39m\u001b[38;5;124mCONNECTION_social_time_friends_p7d\u001b[39m\u001b[38;5;124m'\u001b[39m,  \u001b[38;5;66;03m# Time with friends is on the x-axis\u001b[39;00m\n\u001b[1;32m     27\u001b[0m                         stripmode\u001b[38;5;241m=\u001b[39m\u001b[38;5;124m'\u001b[39m\u001b[38;5;124moverlay\u001b[39m\u001b[38;5;124m'\u001b[39m)\u001b[38;5;241m.\u001b[39mdata[\u001b[38;5;241m0\u001b[39m])  \u001b[38;5;66;03m# Only take the first trace of the strip plot\u001b[39;00m\n",
      "\u001b[0;31mNameError\u001b[0m: name 'data_cross_2023' is not defined"
     ]
    }
   ],
   "source": [
    "import pandas as pd\n",
    "import plotly.express as px\n",
    "import scipy.stats as stats\n",
    "\n",
    "# Define the ordered categories for cannabis use\n",
    "cannabis_order = ['Not in the past six months', \n",
    "                  'Less than monthly', \n",
    "                  'Monthly', \n",
    "                  'A few times a month', \n",
    "                  'Weekly', \n",
    "                  'A few times a week', \n",
    "                  'Daily or almost daily']\n",
    "\n",
    "# Create the box plot with flipped axes and ordered cannabis use\n",
    "fig = px.box(data_cross_2023, \n",
    "             y='SUBSTANCE_USE_drugs_cannabis',  # Cannabis use is on the y-axis\n",
    "             x='CONNECTION_social_time_friends_p7d',  # Time with friends is now on the x-axis\n",
    "             title='Box Plot of Cannabis Use by Time with Friends',\n",
    "             labels={'CONNECTION_social_time_friends_p7d': 'Time with Friends (7 Days)', \n",
    "                     'SUBSTANCE_USE_drugs_cannabis': 'Cannabis Use'},\n",
    "             category_orders={'SUBSTANCE_USE_drugs_cannabis': cannabis_order})  # Sort by cannabis order\n",
    "\n",
    "# Add a scatter plot layer to show all individual data points\n",
    "fig.add_trace(px.strip(data_cross_2023, \n",
    "                        y='SUBSTANCE_USE_drugs_cannabis',  # Cannabis use is on the y-axis\n",
    "                        x='CONNECTION_social_time_friends_p7d',  # Time with friends is on the x-axis\n",
    "                        stripmode='overlay').data[0])  # Only take the first trace of the strip plot\n",
    "\n",
    "# Show the figure\n",
    "fig.show()"
   ]
  },
  {
   "cell_type": "code",
   "execution_count": null,
   "metadata": {},
   "outputs": [
    {
     "name": "stdout",
     "output_type": "stream",
     "text": [
      "Spearman correlation: -0.04141044316098806, p-value: 0.4741382359798334\n",
      "Chi-Squared Test: chi2_stat = 104.85514565688923, p-value = 0.5677313987750348\n"
     ]
    }
   ],
   "source": [
    "import pandas as pd\n",
    "import plotly.express as px\n",
    "import scipy.stats as stats\n",
    "import statsmodels.api as sm\n",
    "\n",
    "# Define the ordered categories for cannabis use\n",
    "cannabis_order = ['Not in the past six months', \n",
    "                  'Less than monthly', \n",
    "                  'Monthly', \n",
    "                  'A few times a month', \n",
    "                  'Weekly', \n",
    "                  'A few times a week', \n",
    "                  'Daily or almost daily']\n",
    "\n",
    "# Convert cannabis use to a categorical variable\n",
    "data_cross_2023['SUBSTANCE_USE_drugs_cannabis'] = pd.Categorical(\n",
    "    data_cross_2023['SUBSTANCE_USE_drugs_cannabis'],\n",
    "    categories=cannabis_order,\n",
    "    ordered=True\n",
    ")\n",
    "\n",
    "# Calculate the Spearman correlation\n",
    "correlation, p_value = stats.spearmanr(data_cross_2023['SUBSTANCE_USE_drugs_cannabis'].cat.codes, \n",
    "                                        data_cross_2023['CONNECTION_social_time_friends_p7d'])\n",
    "\n",
    "print(f\"Spearman correlation: {correlation}, p-value: {p_value}\")\n",
    "\n",
    "\n",
    "# Chi-Squared Test\n",
    "contingency_table = pd.crosstab(data_cross_2023['SUBSTANCE_USE_drugs_cannabis'], \n",
    "                                 data_cross_2023['CONNECTION_social_time_friends_p7d'])\n",
    "chi2_stat, chi2_p, _, _ = stats.chi2_contingency(contingency_table)\n",
    "\n",
    "print(f\"Chi-Squared Test: chi2_stat = {chi2_stat}, p-value = {chi2_p}\")\n"
   ]
  }
 ],
 "metadata": {
  "kernelspec": {
   "display_name": "Python 3",
   "language": "python",
   "name": "python3"
  },
  "language_info": {
   "codemirror_mode": {
    "name": "ipython",
    "version": 3
   },
   "file_extension": ".py",
   "mimetype": "text/x-python",
   "name": "python",
   "nbconvert_exporter": "python",
   "pygments_lexer": "ipython3",
   "version": "3.12.4"
  }
 },
 "nbformat": 4,
 "nbformat_minor": 2
}
