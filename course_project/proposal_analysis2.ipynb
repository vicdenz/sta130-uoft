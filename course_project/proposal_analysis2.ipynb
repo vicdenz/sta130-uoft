{
 "cells": [
  {
   "cell_type": "markdown",
   "metadata": {},
   "source": [
    "# STA130 Course Project - Analysis 2 Project Proposal\n",
    "***\n",
    "#### **Author**: David Daniliuc<br>**Created**: Sat Nov. 2, 2024\n",
    "\n",
    "*Jupyter Python Notebook for Analysis 2 testing and experimenting for the STA130 Course Project.* "
   ]
  },
  {
   "cell_type": "code",
   "execution_count": 162,
   "metadata": {},
   "outputs": [
    {
     "name": "stderr",
     "output_type": "stream",
     "text": [
      "/var/folders/b0/20_s9xf13p33yqxth9cv22380000gn/T/ipykernel_3448/2466574915.py:9: DtypeWarning:\n",
      "\n",
      "Columns (129,408,630,671,689,978,1001,1002,1006,1007,1008,1080,1113,1115,1116,1117,1118,1119,1120,1121,1124,1125,1126,1127,1128,1213,1214,1215,1216,1217,1218,1263,1266,1342,1343,1344,1345,1346,1347,1348,1349,1390,1391,1393,1439,1442,1463,1546,1549,1552,1555,1558,1561) have mixed types. Specify dtype option on import or set low_memory=False.\n",
      "\n"
     ]
    }
   ],
   "source": [
    "\n",
    "# Import statements\n",
    "import pandas as pd\n",
    "import numpy as np\n",
    "import plotly.express as px\n",
    "import scipy.stats as stats\n",
    "\n",
    "# Read and import dataset\n",
    "cols = pd.read_csv(\"var_names.csv\")\n",
    "data = pd.read_csv(\"CSCS_data_anon.csv\", na_values=[\"9999\", \"\", \" \", \"Presented but no response\", \"NA\"])\n",
    "\n",
    "# Cleaning the data\n",
    "empty = (data.isna().sum() == data.shape[0])\n",
    "data = data[empty.index[~empty]] # keep non empty columns only\n",
    "\n",
    "data = data[data.REMOVE_case=='No'].copy()"
   ]
  },
  {
   "cell_type": "code",
   "execution_count": 163,
   "metadata": {},
   "outputs": [
    {
     "name": "stdout",
     "output_type": "stream",
     "text": [
      "(2936, 1779)\n",
      "(308, 1779)\n",
      "(301, 1779)\n"
     ]
    }
   ],
   "source": [
    "data_cross_2023 = data[data.DATASET=='2023 Cross-Sectional'].copy()\n",
    "\n",
    "print(data_cross_2023.shape)\n",
    "\n",
    "# Remove rows with missing values\n",
    "data_cross_2023 = data_cross_2023.dropna(subset=['SUBSTANCE_USE_drugs_cannabis', 'CONNECTION_social_time_friends_p7d'])\n",
    "\n",
    "# Remove columns that have more missing values than missing_limit\n",
    "missing_limit = 1000\n",
    "keptColumns = data_cross_2023.isna().sum() < missing_limit\n",
    "keptColumns = keptColumns.index[keptColumns]\n",
    "data_cross_2023 = data_cross_2023[keptColumns].copy()\n",
    "\n",
    "print(data_cross_2023.shape)\n",
    "\n",
    "# Calculate Z-scores\n",
    "z_scores = stats.zscore(data_cross_2023['CONNECTION_social_time_friends_p7d'])\n",
    "threshold = 3\n",
    "\n",
    "# Filter out outliers based on Z-score\n",
    "data_cross_2023 = data_cross_2023[(z_scores < threshold) & (z_scores > -threshold)]\n",
    "\n",
    "print(data_cross_2023.shape)"
   ]
  },
  {
   "cell_type": "code",
   "execution_count": 164,
   "metadata": {},
   "outputs": [
    {
     "data": {
      "application/vnd.plotly.v1+json": {
       "config": {
        "plotlyServerURL": "https://plot.ly"
       },
       "data": [
        {
         "alignmentgroup": "True",
         "hovertemplate": "Time with Friends (7 Days)=%{x}<br>Cannabis Use=%{y}<extra></extra>",
         "legendgroup": "",
         "marker": {
          "color": "#636efa"
         },
         "name": "",
         "notched": false,
         "offsetgroup": "",
         "orientation": "h",
         "showlegend": false,
         "type": "box",
         "x": [
          4,
          5,
          0,
          1,
          2,
          4,
          1,
          6,
          7,
          8,
          2,
          9,
          2,
          3,
          1,
          3,
          17,
          20,
          0,
          0,
          0,
          1,
          1,
          0,
          1,
          3,
          2,
          3,
          3,
          5,
          2,
          4,
          5,
          7,
          3,
          2,
          1,
          15,
          3,
          1,
          0,
          1,
          0,
          4,
          0,
          10,
          2,
          4,
          0,
          2,
          13,
          4,
          7,
          2,
          8,
          0,
          4,
          5,
          3,
          5,
          1,
          0,
          10,
          3,
          0,
          1,
          0,
          2,
          0,
          0,
          3,
          3,
          7,
          4,
          1,
          0,
          0,
          0,
          8,
          2,
          0,
          1,
          10,
          7,
          3,
          5,
          0,
          0,
          4,
          0,
          3,
          1,
          3,
          1,
          2,
          6,
          0,
          10,
          2,
          1,
          1,
          7,
          2,
          0,
          2,
          7,
          0,
          0,
          1,
          2,
          4,
          7,
          10,
          0,
          0,
          0,
          0,
          10,
          10,
          8,
          1,
          10,
          22,
          1,
          0,
          10,
          10,
          4,
          3,
          2,
          5,
          1,
          0,
          3,
          2,
          0,
          1,
          2,
          0,
          5,
          0,
          0,
          0,
          10,
          4,
          0,
          3,
          0,
          0,
          6,
          2,
          1,
          0,
          8,
          20,
          2,
          9,
          8,
          0,
          1,
          6,
          5,
          20,
          2,
          0,
          1,
          10,
          0,
          0,
          1,
          0,
          10,
          2,
          1,
          2,
          8,
          0,
          0,
          9,
          5,
          1,
          1,
          0,
          1,
          0,
          0,
          3,
          3,
          19,
          15,
          1,
          1,
          2,
          1,
          0,
          4,
          2,
          0,
          2,
          6,
          0,
          5,
          3,
          1,
          4,
          1,
          3,
          4,
          0,
          5,
          0,
          3,
          0,
          0,
          0,
          8,
          1,
          0,
          0,
          0,
          3,
          2,
          1,
          0,
          5,
          6,
          2,
          5,
          5,
          0,
          0,
          5,
          4,
          4,
          0,
          2,
          0,
          1,
          1,
          24,
          8,
          9,
          1,
          8,
          4,
          12,
          3,
          13,
          20,
          10,
          2,
          4,
          3,
          1,
          5,
          1,
          6,
          0,
          10,
          2,
          2,
          2,
          8,
          4,
          0,
          4,
          3,
          2,
          15,
          1,
          4,
          10,
          2,
          2,
          20,
          3,
          2,
          1,
          0,
          1,
          0,
          5,
          1,
          10,
          7,
          3,
          4,
          0,
          15,
          2,
          7,
          0,
          5,
          0,
          1,
          5,
          7,
          2,
          8,
          12,
          22
         ],
         "x0": " ",
         "xaxis": "x",
         "y": [
          "Not in the past six months",
          "Not in the past six months",
          "Not in the past six months",
          "Not in the past six months",
          "Not in the past six months",
          "Not in the past six months",
          "Not in the past six months",
          "Not in the past six months",
          "Daily or almost daily",
          "Not in the past six months",
          "Daily or almost daily",
          "Not in the past six months",
          "Not in the past six months",
          "Not in the past six months",
          "Not in the past six months",
          "Not in the past six months",
          "Daily or almost daily",
          "Not in the past six months",
          "A few times a week",
          "Not in the past six months",
          "Less than monthly",
          "Not in the past six months",
          "Not in the past six months",
          "Not in the past six months",
          "Not in the past six months",
          "Less than monthly",
          "Not in the past six months",
          "Not in the past six months",
          "Not in the past six months",
          "Not in the past six months",
          "Not in the past six months",
          "A few times a month",
          "Not in the past six months",
          "Daily or almost daily",
          "Not in the past six months",
          "Not in the past six months",
          "Not in the past six months",
          "Not in the past six months",
          "Not in the past six months",
          "Weekly",
          "Weekly",
          "Not in the past six months",
          "Daily or almost daily",
          "Not in the past six months",
          "Not in the past six months",
          "Not in the past six months",
          "Not in the past six months",
          "Not in the past six months",
          "Daily or almost daily",
          "Daily or almost daily",
          "Weekly",
          "Daily or almost daily",
          "Not in the past six months",
          "Less than monthly",
          "Not in the past six months",
          "Daily or almost daily",
          "Less than monthly",
          "Not in the past six months",
          "Not in the past six months",
          "Not in the past six months",
          "Not in the past six months",
          "A few times a month",
          "Not in the past six months",
          "Not in the past six months",
          "A few times a week",
          "Not in the past six months",
          "Less than monthly",
          "Not in the past six months",
          "Not in the past six months",
          "Not in the past six months",
          "Not in the past six months",
          "Daily or almost daily",
          "Daily or almost daily",
          "Not in the past six months",
          "Daily or almost daily",
          "Not in the past six months",
          "Not in the past six months",
          "Not in the past six months",
          "Not in the past six months",
          "Not in the past six months",
          "Not in the past six months",
          "Not in the past six months",
          "Less than monthly",
          "Not in the past six months",
          "A few times a week",
          "Weekly",
          "Less than monthly",
          "Not in the past six months",
          "Daily or almost daily",
          "Not in the past six months",
          "Less than monthly",
          "Not in the past six months",
          "Less than monthly",
          "Not in the past six months",
          "Not in the past six months",
          "Not in the past six months",
          "Not in the past six months",
          "Less than monthly",
          "A few times a week",
          "Not in the past six months",
          "Not in the past six months",
          "Not in the past six months",
          "Not in the past six months",
          "Not in the past six months",
          "Weekly",
          "Daily or almost daily",
          "Not in the past six months",
          "A few times a month",
          "Not in the past six months",
          "Not in the past six months",
          "Not in the past six months",
          "Not in the past six months",
          "Monthly",
          "Not in the past six months",
          "Not in the past six months",
          "Not in the past six months",
          "Not in the past six months",
          "Not in the past six months",
          "A few times a month",
          "Not in the past six months",
          "Not in the past six months",
          "Not in the past six months",
          "Daily or almost daily",
          "Not in the past six months",
          "A few times a week",
          "Not in the past six months",
          "Not in the past six months",
          "Less than monthly",
          "A few times a month",
          "Not in the past six months",
          "Not in the past six months",
          "Daily or almost daily",
          "Daily or almost daily",
          "Not in the past six months",
          "Not in the past six months",
          "Not in the past six months",
          "Not in the past six months",
          "Not in the past six months",
          "Not in the past six months",
          "Not in the past six months",
          "Not in the past six months",
          "Not in the past six months",
          "Not in the past six months",
          "A few times a month",
          "Not in the past six months",
          "Not in the past six months",
          "Not in the past six months",
          "A few times a month",
          "Daily or almost daily",
          "Not in the past six months",
          "Not in the past six months",
          "Not in the past six months",
          "Not in the past six months",
          "Not in the past six months",
          "Not in the past six months",
          "Not in the past six months",
          "Not in the past six months",
          "Not in the past six months",
          "Not in the past six months",
          "Monthly",
          "Not in the past six months",
          "Not in the past six months",
          "Not in the past six months",
          "Not in the past six months",
          "Not in the past six months",
          "Not in the past six months",
          "Not in the past six months",
          "Not in the past six months",
          "Not in the past six months",
          "Daily or almost daily",
          "Not in the past six months",
          "Not in the past six months",
          "Not in the past six months",
          "Not in the past six months",
          "Not in the past six months",
          "Not in the past six months",
          "Not in the past six months",
          "Less than monthly",
          "Not in the past six months",
          "Not in the past six months",
          "Not in the past six months",
          "Not in the past six months",
          "Not in the past six months",
          "A few times a week",
          "Not in the past six months",
          "Not in the past six months",
          "Not in the past six months",
          "Not in the past six months",
          "Not in the past six months",
          "Daily or almost daily",
          "Not in the past six months",
          "Not in the past six months",
          "Not in the past six months",
          "Not in the past six months",
          "Less than monthly",
          "Weekly",
          "Daily or almost daily",
          "Not in the past six months",
          "Not in the past six months",
          "Not in the past six months",
          "Not in the past six months",
          "Not in the past six months",
          "Not in the past six months",
          "Not in the past six months",
          "Not in the past six months",
          "Not in the past six months",
          "Daily or almost daily",
          "Not in the past six months",
          "Not in the past six months",
          "Not in the past six months",
          "Not in the past six months",
          "Not in the past six months",
          "Not in the past six months",
          "Less than monthly",
          "Not in the past six months",
          "Not in the past six months",
          "Not in the past six months",
          "Less than monthly",
          "Not in the past six months",
          "Not in the past six months",
          "Not in the past six months",
          "Not in the past six months",
          "Daily or almost daily",
          "Not in the past six months",
          "Not in the past six months",
          "Not in the past six months",
          "Not in the past six months",
          "Daily or almost daily",
          "Not in the past six months",
          "Less than monthly",
          "Daily or almost daily",
          "A few times a week",
          "Not in the past six months",
          "Not in the past six months",
          "Less than monthly",
          "Not in the past six months",
          "Not in the past six months",
          "Not in the past six months",
          "Not in the past six months",
          "Not in the past six months",
          "Not in the past six months",
          "Not in the past six months",
          "Monthly",
          "Not in the past six months",
          "Not in the past six months",
          "Not in the past six months",
          "Less than monthly",
          "Not in the past six months",
          "Not in the past six months",
          "Daily or almost daily",
          "Not in the past six months",
          "Less than monthly",
          "Not in the past six months",
          "Less than monthly",
          "Not in the past six months",
          "Not in the past six months",
          "Not in the past six months",
          "Not in the past six months",
          "Not in the past six months",
          "Not in the past six months",
          "Not in the past six months",
          "Not in the past six months",
          "Not in the past six months",
          "Not in the past six months",
          "Less than monthly",
          "Not in the past six months",
          "Daily or almost daily",
          "Not in the past six months",
          "A few times a month",
          "Not in the past six months",
          "Not in the past six months",
          "Not in the past six months",
          "Not in the past six months",
          "Daily or almost daily",
          "Not in the past six months",
          "Not in the past six months",
          "Weekly",
          "Not in the past six months",
          "Not in the past six months",
          "Less than monthly",
          "Not in the past six months",
          "Not in the past six months",
          "Not in the past six months",
          "Not in the past six months",
          "Not in the past six months",
          "Not in the past six months",
          "Weekly",
          "Daily or almost daily",
          "Not in the past six months",
          "Daily or almost daily",
          "Not in the past six months",
          "Not in the past six months",
          "Not in the past six months",
          "Not in the past six months",
          "Less than monthly",
          "Not in the past six months",
          "Not in the past six months",
          "Not in the past six months",
          "Not in the past six months",
          "Less than monthly",
          "Not in the past six months"
         ],
         "y0": " ",
         "yaxis": "y"
        },
        {
         "alignmentgroup": "True",
         "boxpoints": "all",
         "fillcolor": "rgba(255,255,255,0)",
         "hoveron": "points",
         "hovertemplate": "CONNECTION_social_time_friends_p7d=%{x}<br>SUBSTANCE_USE_drugs_cannabis=%{y}<extra></extra>",
         "legendgroup": "",
         "line": {
          "color": "rgba(255,255,255,0)"
         },
         "marker": {
          "color": "#636efa"
         },
         "name": "",
         "offsetgroup": "",
         "orientation": "h",
         "pointpos": 0,
         "showlegend": false,
         "type": "box",
         "x": [
          4,
          5,
          0,
          1,
          2,
          4,
          1,
          6,
          7,
          8,
          2,
          9,
          2,
          3,
          1,
          3,
          17,
          20,
          0,
          0,
          0,
          1,
          1,
          0,
          1,
          3,
          2,
          3,
          3,
          5,
          2,
          4,
          5,
          7,
          3,
          2,
          1,
          15,
          3,
          1,
          0,
          1,
          0,
          4,
          0,
          10,
          2,
          4,
          0,
          2,
          13,
          4,
          7,
          2,
          8,
          0,
          4,
          5,
          3,
          5,
          1,
          0,
          10,
          3,
          0,
          1,
          0,
          2,
          0,
          0,
          3,
          3,
          7,
          4,
          1,
          0,
          0,
          0,
          8,
          2,
          0,
          1,
          10,
          7,
          3,
          5,
          0,
          0,
          4,
          0,
          3,
          1,
          3,
          1,
          2,
          6,
          0,
          10,
          2,
          1,
          1,
          7,
          2,
          0,
          2,
          7,
          0,
          0,
          1,
          2,
          4,
          7,
          10,
          0,
          0,
          0,
          0,
          10,
          10,
          8,
          1,
          10,
          22,
          1,
          0,
          10,
          10,
          4,
          3,
          2,
          5,
          1,
          0,
          3,
          2,
          0,
          1,
          2,
          0,
          5,
          0,
          0,
          0,
          10,
          4,
          0,
          3,
          0,
          0,
          6,
          2,
          1,
          0,
          8,
          20,
          2,
          9,
          8,
          0,
          1,
          6,
          5,
          20,
          2,
          0,
          1,
          10,
          0,
          0,
          1,
          0,
          10,
          2,
          1,
          2,
          8,
          0,
          0,
          9,
          5,
          1,
          1,
          0,
          1,
          0,
          0,
          3,
          3,
          19,
          15,
          1,
          1,
          2,
          1,
          0,
          4,
          2,
          0,
          2,
          6,
          0,
          5,
          3,
          1,
          4,
          1,
          3,
          4,
          0,
          5,
          0,
          3,
          0,
          0,
          0,
          8,
          1,
          0,
          0,
          0,
          3,
          2,
          1,
          0,
          5,
          6,
          2,
          5,
          5,
          0,
          0,
          5,
          4,
          4,
          0,
          2,
          0,
          1,
          1,
          24,
          8,
          9,
          1,
          8,
          4,
          12,
          3,
          13,
          20,
          10,
          2,
          4,
          3,
          1,
          5,
          1,
          6,
          0,
          10,
          2,
          2,
          2,
          8,
          4,
          0,
          4,
          3,
          2,
          15,
          1,
          4,
          10,
          2,
          2,
          20,
          3,
          2,
          1,
          0,
          1,
          0,
          5,
          1,
          10,
          7,
          3,
          4,
          0,
          15,
          2,
          7,
          0,
          5,
          0,
          1,
          5,
          7,
          2,
          8,
          12,
          22
         ],
         "x0": " ",
         "xaxis": "x",
         "y": [
          "Not in the past six months",
          "Not in the past six months",
          "Not in the past six months",
          "Not in the past six months",
          "Not in the past six months",
          "Not in the past six months",
          "Not in the past six months",
          "Not in the past six months",
          "Daily or almost daily",
          "Not in the past six months",
          "Daily or almost daily",
          "Not in the past six months",
          "Not in the past six months",
          "Not in the past six months",
          "Not in the past six months",
          "Not in the past six months",
          "Daily or almost daily",
          "Not in the past six months",
          "A few times a week",
          "Not in the past six months",
          "Less than monthly",
          "Not in the past six months",
          "Not in the past six months",
          "Not in the past six months",
          "Not in the past six months",
          "Less than monthly",
          "Not in the past six months",
          "Not in the past six months",
          "Not in the past six months",
          "Not in the past six months",
          "Not in the past six months",
          "A few times a month",
          "Not in the past six months",
          "Daily or almost daily",
          "Not in the past six months",
          "Not in the past six months",
          "Not in the past six months",
          "Not in the past six months",
          "Not in the past six months",
          "Weekly",
          "Weekly",
          "Not in the past six months",
          "Daily or almost daily",
          "Not in the past six months",
          "Not in the past six months",
          "Not in the past six months",
          "Not in the past six months",
          "Not in the past six months",
          "Daily or almost daily",
          "Daily or almost daily",
          "Weekly",
          "Daily or almost daily",
          "Not in the past six months",
          "Less than monthly",
          "Not in the past six months",
          "Daily or almost daily",
          "Less than monthly",
          "Not in the past six months",
          "Not in the past six months",
          "Not in the past six months",
          "Not in the past six months",
          "A few times a month",
          "Not in the past six months",
          "Not in the past six months",
          "A few times a week",
          "Not in the past six months",
          "Less than monthly",
          "Not in the past six months",
          "Not in the past six months",
          "Not in the past six months",
          "Not in the past six months",
          "Daily or almost daily",
          "Daily or almost daily",
          "Not in the past six months",
          "Daily or almost daily",
          "Not in the past six months",
          "Not in the past six months",
          "Not in the past six months",
          "Not in the past six months",
          "Not in the past six months",
          "Not in the past six months",
          "Not in the past six months",
          "Less than monthly",
          "Not in the past six months",
          "A few times a week",
          "Weekly",
          "Less than monthly",
          "Not in the past six months",
          "Daily or almost daily",
          "Not in the past six months",
          "Less than monthly",
          "Not in the past six months",
          "Less than monthly",
          "Not in the past six months",
          "Not in the past six months",
          "Not in the past six months",
          "Not in the past six months",
          "Less than monthly",
          "A few times a week",
          "Not in the past six months",
          "Not in the past six months",
          "Not in the past six months",
          "Not in the past six months",
          "Not in the past six months",
          "Weekly",
          "Daily or almost daily",
          "Not in the past six months",
          "A few times a month",
          "Not in the past six months",
          "Not in the past six months",
          "Not in the past six months",
          "Not in the past six months",
          "Monthly",
          "Not in the past six months",
          "Not in the past six months",
          "Not in the past six months",
          "Not in the past six months",
          "Not in the past six months",
          "A few times a month",
          "Not in the past six months",
          "Not in the past six months",
          "Not in the past six months",
          "Daily or almost daily",
          "Not in the past six months",
          "A few times a week",
          "Not in the past six months",
          "Not in the past six months",
          "Less than monthly",
          "A few times a month",
          "Not in the past six months",
          "Not in the past six months",
          "Daily or almost daily",
          "Daily or almost daily",
          "Not in the past six months",
          "Not in the past six months",
          "Not in the past six months",
          "Not in the past six months",
          "Not in the past six months",
          "Not in the past six months",
          "Not in the past six months",
          "Not in the past six months",
          "Not in the past six months",
          "Not in the past six months",
          "A few times a month",
          "Not in the past six months",
          "Not in the past six months",
          "Not in the past six months",
          "A few times a month",
          "Daily or almost daily",
          "Not in the past six months",
          "Not in the past six months",
          "Not in the past six months",
          "Not in the past six months",
          "Not in the past six months",
          "Not in the past six months",
          "Not in the past six months",
          "Not in the past six months",
          "Not in the past six months",
          "Not in the past six months",
          "Monthly",
          "Not in the past six months",
          "Not in the past six months",
          "Not in the past six months",
          "Not in the past six months",
          "Not in the past six months",
          "Not in the past six months",
          "Not in the past six months",
          "Not in the past six months",
          "Not in the past six months",
          "Daily or almost daily",
          "Not in the past six months",
          "Not in the past six months",
          "Not in the past six months",
          "Not in the past six months",
          "Not in the past six months",
          "Not in the past six months",
          "Not in the past six months",
          "Less than monthly",
          "Not in the past six months",
          "Not in the past six months",
          "Not in the past six months",
          "Not in the past six months",
          "Not in the past six months",
          "A few times a week",
          "Not in the past six months",
          "Not in the past six months",
          "Not in the past six months",
          "Not in the past six months",
          "Not in the past six months",
          "Daily or almost daily",
          "Not in the past six months",
          "Not in the past six months",
          "Not in the past six months",
          "Not in the past six months",
          "Less than monthly",
          "Weekly",
          "Daily or almost daily",
          "Not in the past six months",
          "Not in the past six months",
          "Not in the past six months",
          "Not in the past six months",
          "Not in the past six months",
          "Not in the past six months",
          "Not in the past six months",
          "Not in the past six months",
          "Not in the past six months",
          "Daily or almost daily",
          "Not in the past six months",
          "Not in the past six months",
          "Not in the past six months",
          "Not in the past six months",
          "Not in the past six months",
          "Not in the past six months",
          "Less than monthly",
          "Not in the past six months",
          "Not in the past six months",
          "Not in the past six months",
          "Less than monthly",
          "Not in the past six months",
          "Not in the past six months",
          "Not in the past six months",
          "Not in the past six months",
          "Daily or almost daily",
          "Not in the past six months",
          "Not in the past six months",
          "Not in the past six months",
          "Not in the past six months",
          "Daily or almost daily",
          "Not in the past six months",
          "Less than monthly",
          "Daily or almost daily",
          "A few times a week",
          "Not in the past six months",
          "Not in the past six months",
          "Less than monthly",
          "Not in the past six months",
          "Not in the past six months",
          "Not in the past six months",
          "Not in the past six months",
          "Not in the past six months",
          "Not in the past six months",
          "Not in the past six months",
          "Monthly",
          "Not in the past six months",
          "Not in the past six months",
          "Not in the past six months",
          "Less than monthly",
          "Not in the past six months",
          "Not in the past six months",
          "Daily or almost daily",
          "Not in the past six months",
          "Less than monthly",
          "Not in the past six months",
          "Less than monthly",
          "Not in the past six months",
          "Not in the past six months",
          "Not in the past six months",
          "Not in the past six months",
          "Not in the past six months",
          "Not in the past six months",
          "Not in the past six months",
          "Not in the past six months",
          "Not in the past six months",
          "Not in the past six months",
          "Less than monthly",
          "Not in the past six months",
          "Daily or almost daily",
          "Not in the past six months",
          "A few times a month",
          "Not in the past six months",
          "Not in the past six months",
          "Not in the past six months",
          "Not in the past six months",
          "Daily or almost daily",
          "Not in the past six months",
          "Not in the past six months",
          "Weekly",
          "Not in the past six months",
          "Not in the past six months",
          "Less than monthly",
          "Not in the past six months",
          "Not in the past six months",
          "Not in the past six months",
          "Not in the past six months",
          "Not in the past six months",
          "Not in the past six months",
          "Weekly",
          "Daily or almost daily",
          "Not in the past six months",
          "Daily or almost daily",
          "Not in the past six months",
          "Not in the past six months",
          "Not in the past six months",
          "Not in the past six months",
          "Less than monthly",
          "Not in the past six months",
          "Not in the past six months",
          "Not in the past six months",
          "Not in the past six months",
          "Less than monthly",
          "Not in the past six months"
         ],
         "y0": " ",
         "yaxis": "y"
        }
       ],
       "layout": {
        "boxmode": "group",
        "legend": {
         "tracegroupgap": 0
        },
        "template": {
         "data": {
          "bar": [
           {
            "error_x": {
             "color": "#2a3f5f"
            },
            "error_y": {
             "color": "#2a3f5f"
            },
            "marker": {
             "line": {
              "color": "#E5ECF6",
              "width": 0.5
             },
             "pattern": {
              "fillmode": "overlay",
              "size": 10,
              "solidity": 0.2
             }
            },
            "type": "bar"
           }
          ],
          "barpolar": [
           {
            "marker": {
             "line": {
              "color": "#E5ECF6",
              "width": 0.5
             },
             "pattern": {
              "fillmode": "overlay",
              "size": 10,
              "solidity": 0.2
             }
            },
            "type": "barpolar"
           }
          ],
          "carpet": [
           {
            "aaxis": {
             "endlinecolor": "#2a3f5f",
             "gridcolor": "white",
             "linecolor": "white",
             "minorgridcolor": "white",
             "startlinecolor": "#2a3f5f"
            },
            "baxis": {
             "endlinecolor": "#2a3f5f",
             "gridcolor": "white",
             "linecolor": "white",
             "minorgridcolor": "white",
             "startlinecolor": "#2a3f5f"
            },
            "type": "carpet"
           }
          ],
          "choropleth": [
           {
            "colorbar": {
             "outlinewidth": 0,
             "ticks": ""
            },
            "type": "choropleth"
           }
          ],
          "contour": [
           {
            "colorbar": {
             "outlinewidth": 0,
             "ticks": ""
            },
            "colorscale": [
             [
              0,
              "#0d0887"
             ],
             [
              0.1111111111111111,
              "#46039f"
             ],
             [
              0.2222222222222222,
              "#7201a8"
             ],
             [
              0.3333333333333333,
              "#9c179e"
             ],
             [
              0.4444444444444444,
              "#bd3786"
             ],
             [
              0.5555555555555556,
              "#d8576b"
             ],
             [
              0.6666666666666666,
              "#ed7953"
             ],
             [
              0.7777777777777778,
              "#fb9f3a"
             ],
             [
              0.8888888888888888,
              "#fdca26"
             ],
             [
              1,
              "#f0f921"
             ]
            ],
            "type": "contour"
           }
          ],
          "contourcarpet": [
           {
            "colorbar": {
             "outlinewidth": 0,
             "ticks": ""
            },
            "type": "contourcarpet"
           }
          ],
          "heatmap": [
           {
            "colorbar": {
             "outlinewidth": 0,
             "ticks": ""
            },
            "colorscale": [
             [
              0,
              "#0d0887"
             ],
             [
              0.1111111111111111,
              "#46039f"
             ],
             [
              0.2222222222222222,
              "#7201a8"
             ],
             [
              0.3333333333333333,
              "#9c179e"
             ],
             [
              0.4444444444444444,
              "#bd3786"
             ],
             [
              0.5555555555555556,
              "#d8576b"
             ],
             [
              0.6666666666666666,
              "#ed7953"
             ],
             [
              0.7777777777777778,
              "#fb9f3a"
             ],
             [
              0.8888888888888888,
              "#fdca26"
             ],
             [
              1,
              "#f0f921"
             ]
            ],
            "type": "heatmap"
           }
          ],
          "heatmapgl": [
           {
            "colorbar": {
             "outlinewidth": 0,
             "ticks": ""
            },
            "colorscale": [
             [
              0,
              "#0d0887"
             ],
             [
              0.1111111111111111,
              "#46039f"
             ],
             [
              0.2222222222222222,
              "#7201a8"
             ],
             [
              0.3333333333333333,
              "#9c179e"
             ],
             [
              0.4444444444444444,
              "#bd3786"
             ],
             [
              0.5555555555555556,
              "#d8576b"
             ],
             [
              0.6666666666666666,
              "#ed7953"
             ],
             [
              0.7777777777777778,
              "#fb9f3a"
             ],
             [
              0.8888888888888888,
              "#fdca26"
             ],
             [
              1,
              "#f0f921"
             ]
            ],
            "type": "heatmapgl"
           }
          ],
          "histogram": [
           {
            "marker": {
             "pattern": {
              "fillmode": "overlay",
              "size": 10,
              "solidity": 0.2
             }
            },
            "type": "histogram"
           }
          ],
          "histogram2d": [
           {
            "colorbar": {
             "outlinewidth": 0,
             "ticks": ""
            },
            "colorscale": [
             [
              0,
              "#0d0887"
             ],
             [
              0.1111111111111111,
              "#46039f"
             ],
             [
              0.2222222222222222,
              "#7201a8"
             ],
             [
              0.3333333333333333,
              "#9c179e"
             ],
             [
              0.4444444444444444,
              "#bd3786"
             ],
             [
              0.5555555555555556,
              "#d8576b"
             ],
             [
              0.6666666666666666,
              "#ed7953"
             ],
             [
              0.7777777777777778,
              "#fb9f3a"
             ],
             [
              0.8888888888888888,
              "#fdca26"
             ],
             [
              1,
              "#f0f921"
             ]
            ],
            "type": "histogram2d"
           }
          ],
          "histogram2dcontour": [
           {
            "colorbar": {
             "outlinewidth": 0,
             "ticks": ""
            },
            "colorscale": [
             [
              0,
              "#0d0887"
             ],
             [
              0.1111111111111111,
              "#46039f"
             ],
             [
              0.2222222222222222,
              "#7201a8"
             ],
             [
              0.3333333333333333,
              "#9c179e"
             ],
             [
              0.4444444444444444,
              "#bd3786"
             ],
             [
              0.5555555555555556,
              "#d8576b"
             ],
             [
              0.6666666666666666,
              "#ed7953"
             ],
             [
              0.7777777777777778,
              "#fb9f3a"
             ],
             [
              0.8888888888888888,
              "#fdca26"
             ],
             [
              1,
              "#f0f921"
             ]
            ],
            "type": "histogram2dcontour"
           }
          ],
          "mesh3d": [
           {
            "colorbar": {
             "outlinewidth": 0,
             "ticks": ""
            },
            "type": "mesh3d"
           }
          ],
          "parcoords": [
           {
            "line": {
             "colorbar": {
              "outlinewidth": 0,
              "ticks": ""
             }
            },
            "type": "parcoords"
           }
          ],
          "pie": [
           {
            "automargin": true,
            "type": "pie"
           }
          ],
          "scatter": [
           {
            "fillpattern": {
             "fillmode": "overlay",
             "size": 10,
             "solidity": 0.2
            },
            "type": "scatter"
           }
          ],
          "scatter3d": [
           {
            "line": {
             "colorbar": {
              "outlinewidth": 0,
              "ticks": ""
             }
            },
            "marker": {
             "colorbar": {
              "outlinewidth": 0,
              "ticks": ""
             }
            },
            "type": "scatter3d"
           }
          ],
          "scattercarpet": [
           {
            "marker": {
             "colorbar": {
              "outlinewidth": 0,
              "ticks": ""
             }
            },
            "type": "scattercarpet"
           }
          ],
          "scattergeo": [
           {
            "marker": {
             "colorbar": {
              "outlinewidth": 0,
              "ticks": ""
             }
            },
            "type": "scattergeo"
           }
          ],
          "scattergl": [
           {
            "marker": {
             "colorbar": {
              "outlinewidth": 0,
              "ticks": ""
             }
            },
            "type": "scattergl"
           }
          ],
          "scattermapbox": [
           {
            "marker": {
             "colorbar": {
              "outlinewidth": 0,
              "ticks": ""
             }
            },
            "type": "scattermapbox"
           }
          ],
          "scatterpolar": [
           {
            "marker": {
             "colorbar": {
              "outlinewidth": 0,
              "ticks": ""
             }
            },
            "type": "scatterpolar"
           }
          ],
          "scatterpolargl": [
           {
            "marker": {
             "colorbar": {
              "outlinewidth": 0,
              "ticks": ""
             }
            },
            "type": "scatterpolargl"
           }
          ],
          "scatterternary": [
           {
            "marker": {
             "colorbar": {
              "outlinewidth": 0,
              "ticks": ""
             }
            },
            "type": "scatterternary"
           }
          ],
          "surface": [
           {
            "colorbar": {
             "outlinewidth": 0,
             "ticks": ""
            },
            "colorscale": [
             [
              0,
              "#0d0887"
             ],
             [
              0.1111111111111111,
              "#46039f"
             ],
             [
              0.2222222222222222,
              "#7201a8"
             ],
             [
              0.3333333333333333,
              "#9c179e"
             ],
             [
              0.4444444444444444,
              "#bd3786"
             ],
             [
              0.5555555555555556,
              "#d8576b"
             ],
             [
              0.6666666666666666,
              "#ed7953"
             ],
             [
              0.7777777777777778,
              "#fb9f3a"
             ],
             [
              0.8888888888888888,
              "#fdca26"
             ],
             [
              1,
              "#f0f921"
             ]
            ],
            "type": "surface"
           }
          ],
          "table": [
           {
            "cells": {
             "fill": {
              "color": "#EBF0F8"
             },
             "line": {
              "color": "white"
             }
            },
            "header": {
             "fill": {
              "color": "#C8D4E3"
             },
             "line": {
              "color": "white"
             }
            },
            "type": "table"
           }
          ]
         },
         "layout": {
          "annotationdefaults": {
           "arrowcolor": "#2a3f5f",
           "arrowhead": 0,
           "arrowwidth": 1
          },
          "autotypenumbers": "strict",
          "coloraxis": {
           "colorbar": {
            "outlinewidth": 0,
            "ticks": ""
           }
          },
          "colorscale": {
           "diverging": [
            [
             0,
             "#8e0152"
            ],
            [
             0.1,
             "#c51b7d"
            ],
            [
             0.2,
             "#de77ae"
            ],
            [
             0.3,
             "#f1b6da"
            ],
            [
             0.4,
             "#fde0ef"
            ],
            [
             0.5,
             "#f7f7f7"
            ],
            [
             0.6,
             "#e6f5d0"
            ],
            [
             0.7,
             "#b8e186"
            ],
            [
             0.8,
             "#7fbc41"
            ],
            [
             0.9,
             "#4d9221"
            ],
            [
             1,
             "#276419"
            ]
           ],
           "sequential": [
            [
             0,
             "#0d0887"
            ],
            [
             0.1111111111111111,
             "#46039f"
            ],
            [
             0.2222222222222222,
             "#7201a8"
            ],
            [
             0.3333333333333333,
             "#9c179e"
            ],
            [
             0.4444444444444444,
             "#bd3786"
            ],
            [
             0.5555555555555556,
             "#d8576b"
            ],
            [
             0.6666666666666666,
             "#ed7953"
            ],
            [
             0.7777777777777778,
             "#fb9f3a"
            ],
            [
             0.8888888888888888,
             "#fdca26"
            ],
            [
             1,
             "#f0f921"
            ]
           ],
           "sequentialminus": [
            [
             0,
             "#0d0887"
            ],
            [
             0.1111111111111111,
             "#46039f"
            ],
            [
             0.2222222222222222,
             "#7201a8"
            ],
            [
             0.3333333333333333,
             "#9c179e"
            ],
            [
             0.4444444444444444,
             "#bd3786"
            ],
            [
             0.5555555555555556,
             "#d8576b"
            ],
            [
             0.6666666666666666,
             "#ed7953"
            ],
            [
             0.7777777777777778,
             "#fb9f3a"
            ],
            [
             0.8888888888888888,
             "#fdca26"
            ],
            [
             1,
             "#f0f921"
            ]
           ]
          },
          "colorway": [
           "#636efa",
           "#EF553B",
           "#00cc96",
           "#ab63fa",
           "#FFA15A",
           "#19d3f3",
           "#FF6692",
           "#B6E880",
           "#FF97FF",
           "#FECB52"
          ],
          "font": {
           "color": "#2a3f5f"
          },
          "geo": {
           "bgcolor": "white",
           "lakecolor": "white",
           "landcolor": "#E5ECF6",
           "showlakes": true,
           "showland": true,
           "subunitcolor": "white"
          },
          "hoverlabel": {
           "align": "left"
          },
          "hovermode": "closest",
          "mapbox": {
           "style": "light"
          },
          "paper_bgcolor": "white",
          "plot_bgcolor": "#E5ECF6",
          "polar": {
           "angularaxis": {
            "gridcolor": "white",
            "linecolor": "white",
            "ticks": ""
           },
           "bgcolor": "#E5ECF6",
           "radialaxis": {
            "gridcolor": "white",
            "linecolor": "white",
            "ticks": ""
           }
          },
          "scene": {
           "xaxis": {
            "backgroundcolor": "#E5ECF6",
            "gridcolor": "white",
            "gridwidth": 2,
            "linecolor": "white",
            "showbackground": true,
            "ticks": "",
            "zerolinecolor": "white"
           },
           "yaxis": {
            "backgroundcolor": "#E5ECF6",
            "gridcolor": "white",
            "gridwidth": 2,
            "linecolor": "white",
            "showbackground": true,
            "ticks": "",
            "zerolinecolor": "white"
           },
           "zaxis": {
            "backgroundcolor": "#E5ECF6",
            "gridcolor": "white",
            "gridwidth": 2,
            "linecolor": "white",
            "showbackground": true,
            "ticks": "",
            "zerolinecolor": "white"
           }
          },
          "shapedefaults": {
           "line": {
            "color": "#2a3f5f"
           }
          },
          "ternary": {
           "aaxis": {
            "gridcolor": "white",
            "linecolor": "white",
            "ticks": ""
           },
           "baxis": {
            "gridcolor": "white",
            "linecolor": "white",
            "ticks": ""
           },
           "bgcolor": "#E5ECF6",
           "caxis": {
            "gridcolor": "white",
            "linecolor": "white",
            "ticks": ""
           }
          },
          "title": {
           "x": 0.05
          },
          "xaxis": {
           "automargin": true,
           "gridcolor": "white",
           "linecolor": "white",
           "ticks": "",
           "title": {
            "standoff": 15
           },
           "zerolinecolor": "white",
           "zerolinewidth": 2
          },
          "yaxis": {
           "automargin": true,
           "gridcolor": "white",
           "linecolor": "white",
           "ticks": "",
           "title": {
            "standoff": 15
           },
           "zerolinecolor": "white",
           "zerolinewidth": 2
          }
         }
        },
        "title": {
         "text": "Box Plot of Cannabis Use by Time with Friends"
        },
        "xaxis": {
         "anchor": "y",
         "domain": [
          0,
          1
         ],
         "title": {
          "text": "Time with Friends (7 Days)"
         }
        },
        "yaxis": {
         "anchor": "x",
         "categoryarray": [
          "Daily or almost daily",
          "A few times a week",
          "Weekly",
          "A few times a month",
          "Monthly",
          "Less than monthly",
          "Not in the past six months"
         ],
         "categoryorder": "array",
         "domain": [
          0,
          1
         ],
         "title": {
          "text": "Cannabis Use"
         }
        }
       }
      }
     },
     "metadata": {},
     "output_type": "display_data"
    }
   ],
   "source": [
    "import pandas as pd\n",
    "import plotly.express as px\n",
    "import scipy.stats as stats\n",
    "\n",
    "# Define the ordered categories for cannabis use\n",
    "cannabis_order = ['Not in the past six months', \n",
    "                  'Less than monthly', \n",
    "                  'Monthly', \n",
    "                  'A few times a month', \n",
    "                  'Weekly', \n",
    "                  'A few times a week', \n",
    "                  'Daily or almost daily']\n",
    "\n",
    "# Create the box plot with flipped axes and ordered cannabis use\n",
    "fig = px.box(data_cross_2023, \n",
    "             y='SUBSTANCE_USE_drugs_cannabis',  # Cannabis use is on the y-axis\n",
    "             x='CONNECTION_social_time_friends_p7d',  # Time with friends is now on the x-axis\n",
    "             title='Box Plot of Cannabis Use by Time with Friends',\n",
    "             labels={'CONNECTION_social_time_friends_p7d': 'Time with Friends (7 Days)', \n",
    "                     'SUBSTANCE_USE_drugs_cannabis': 'Cannabis Use'},\n",
    "             category_orders={'SUBSTANCE_USE_drugs_cannabis': cannabis_order})  # Sort by cannabis order\n",
    "\n",
    "# Add a scatter plot layer to show all individual data points\n",
    "fig.add_trace(px.strip(data_cross_2023, \n",
    "                        y='SUBSTANCE_USE_drugs_cannabis',  # Cannabis use is on the y-axis\n",
    "                        x='CONNECTION_social_time_friends_p7d',  # Time with friends is on the x-axis\n",
    "                        stripmode='overlay').data[0])  # Only take the first trace of the strip plot\n",
    "\n",
    "# Show the figure\n",
    "fig.show()"
   ]
  },
  {
   "cell_type": "code",
   "execution_count": 165,
   "metadata": {},
   "outputs": [
    {
     "name": "stdout",
     "output_type": "stream",
     "text": [
      "Spearman correlation: -0.04141044316098806, p-value: 0.4741382359798334\n",
      "Chi-Squared Test: chi2_stat = 104.85514565688923, p-value = 0.5677313987750348\n"
     ]
    }
   ],
   "source": [
    "import pandas as pd\n",
    "import plotly.express as px\n",
    "import scipy.stats as stats\n",
    "import statsmodels.api as sm\n",
    "\n",
    "# Define the ordered categories for cannabis use\n",
    "cannabis_order = ['Not in the past six months', \n",
    "                  'Less than monthly', \n",
    "                  'Monthly', \n",
    "                  'A few times a month', \n",
    "                  'Weekly', \n",
    "                  'A few times a week', \n",
    "                  'Daily or almost daily']\n",
    "\n",
    "# Convert cannabis use to a categorical variable\n",
    "data_cross_2023['SUBSTANCE_USE_drugs_cannabis'] = pd.Categorical(\n",
    "    data_cross_2023['SUBSTANCE_USE_drugs_cannabis'],\n",
    "    categories=cannabis_order,\n",
    "    ordered=True\n",
    ")\n",
    "\n",
    "# Calculate the Spearman correlation\n",
    "correlation, p_value = stats.spearmanr(data_cross_2023['SUBSTANCE_USE_drugs_cannabis'].cat.codes, \n",
    "                                        data_cross_2023['CONNECTION_social_time_friends_p7d'])\n",
    "\n",
    "print(f\"Spearman correlation: {correlation}, p-value: {p_value}\")\n",
    "\n",
    "\n",
    "# Chi-Squared Test\n",
    "contingency_table = pd.crosstab(data_cross_2023['SUBSTANCE_USE_drugs_cannabis'], \n",
    "                                 data_cross_2023['CONNECTION_social_time_friends_p7d'])\n",
    "chi2_stat, chi2_p, _, _ = stats.chi2_contingency(contingency_table)\n",
    "\n",
    "print(f\"Chi-Squared Test: chi2_stat = {chi2_stat}, p-value = {chi2_p}\")\n"
   ]
  }
 ],
 "metadata": {
  "kernelspec": {
   "display_name": "Python 3",
   "language": "python",
   "name": "python3"
  },
  "language_info": {
   "codemirror_mode": {
    "name": "ipython",
    "version": 3
   },
   "file_extension": ".py",
   "mimetype": "text/x-python",
   "name": "python",
   "nbconvert_exporter": "python",
   "pygments_lexer": "ipython3",
   "version": "3.12.4"
  }
 },
 "nbformat": 4,
 "nbformat_minor": 2
}
