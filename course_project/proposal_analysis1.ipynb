{
 "cells": [
  {
   "cell_type": "markdown",
   "metadata": {},
   "source": [
    "# STA130 Course Project - Analysis 1 Project Proposal\n",
    "***\n",
    "#### **Author**: David Daniliuc<br>**Created**: Sat Nov. 2, 2024\n",
    "\n",
    "*Jupyter Python Notebook for Analysis 1 testing and experimenting for the STA130 Course Project.* "
   ]
  },
  {
   "cell_type": "code",
   "execution_count": 4,
   "metadata": {},
   "outputs": [
    {
     "name": "stderr",
     "output_type": "stream",
     "text": [
      "/var/folders/b0/20_s9xf13p33yqxth9cv22380000gn/T/ipykernel_1634/1313995991.py:10: DtypeWarning: Columns (129,408,630,671,689,978,1001,1002,1006,1007,1008,1080,1113,1115,1116,1117,1118,1119,1120,1121,1124,1125,1126,1127,1128,1213,1214,1215,1216,1217,1218,1263,1266,1342,1343,1344,1345,1346,1347,1348,1349,1390,1391,1393,1439,1442,1463,1546,1549,1552,1555,1558,1561) have mixed types. Specify dtype option on import or set low_memory=False.\n",
      "  data = pd.read_csv(\"CSCS_data_anon.csv\", na_values=[\"9999\", \"\", \" \", \"Presented but no response\", \"NA\"])\n"
     ]
    },
    {
     "data": {
      "text/html": [
       "<div>\n",
       "<style scoped>\n",
       "    .dataframe tbody tr th:only-of-type {\n",
       "        vertical-align: middle;\n",
       "    }\n",
       "\n",
       "    .dataframe tbody tr th {\n",
       "        vertical-align: top;\n",
       "    }\n",
       "\n",
       "    .dataframe thead th {\n",
       "        text-align: right;\n",
       "    }\n",
       "</style>\n",
       "<table border=\"1\" class=\"dataframe\">\n",
       "  <thead>\n",
       "    <tr style=\"text-align: right;\">\n",
       "      <th></th>\n",
       "      <th>UNIQUE_id</th>\n",
       "      <th>UNIQUE_num_records</th>\n",
       "      <th>ELIGIBLE_consent</th>\n",
       "      <th>GEO_residence_canada</th>\n",
       "      <th>GEO_province</th>\n",
       "      <th>DEMO_age</th>\n",
       "      <th>DEMO_gender</th>\n",
       "      <th>DEMO_identity_vetrans</th>\n",
       "      <th>DEMO_identity_indigenous</th>\n",
       "      <th>DEMO_identity_lgbtq</th>\n",
       "      <th>...</th>\n",
       "      <th>PSYCH_body_self_image_questionnaire_height_dissatisfaction_score</th>\n",
       "      <th>PSYCH_body_self_image_questionnaire_fatness_evaluation_score</th>\n",
       "      <th>PSYCH_body_self_image_questionnaire_negative_affect_score</th>\n",
       "      <th>PSYCH_body_self_image_questionnaire_social_dependence_score</th>\n",
       "      <th>PSYCH_big_five_inventory_agreeable_score</th>\n",
       "      <th>PSYCH_big_five_inventory_conscientious_score</th>\n",
       "      <th>PSYCH_big_five_inventory_extraverted_score</th>\n",
       "      <th>PSYCH_big_five_inventory_neurotic_score</th>\n",
       "      <th>PSYCH_big_five_inventory_open_score</th>\n",
       "      <th>REMOVE_case</th>\n",
       "    </tr>\n",
       "  </thead>\n",
       "  <tbody>\n",
       "    <tr>\n",
       "      <th>0</th>\n",
       "      <td>cscs_00001</td>\n",
       "      <td>1</td>\n",
       "      <td>Yes</td>\n",
       "      <td>Yes</td>\n",
       "      <td>British Columbia</td>\n",
       "      <td>71.0</td>\n",
       "      <td>Non-binary</td>\n",
       "      <td>NaN</td>\n",
       "      <td>NaN</td>\n",
       "      <td>Sexual or gender minorities (e.g., LGBTQ2+)</td>\n",
       "      <td>...</td>\n",
       "      <td>NaN</td>\n",
       "      <td>NaN</td>\n",
       "      <td>NaN</td>\n",
       "      <td>NaN</td>\n",
       "      <td>NaN</td>\n",
       "      <td>NaN</td>\n",
       "      <td>NaN</td>\n",
       "      <td>NaN</td>\n",
       "      <td>NaN</td>\n",
       "      <td>No</td>\n",
       "    </tr>\n",
       "    <tr>\n",
       "      <th>1</th>\n",
       "      <td>cscs_00002</td>\n",
       "      <td>1</td>\n",
       "      <td>Yes</td>\n",
       "      <td>Yes</td>\n",
       "      <td>Ontario</td>\n",
       "      <td>69.0</td>\n",
       "      <td>Woman</td>\n",
       "      <td>NaN</td>\n",
       "      <td>NaN</td>\n",
       "      <td>Not Selected</td>\n",
       "      <td>...</td>\n",
       "      <td>3.0</td>\n",
       "      <td>8.0</td>\n",
       "      <td>3.0</td>\n",
       "      <td>3.0</td>\n",
       "      <td>NaN</td>\n",
       "      <td>NaN</td>\n",
       "      <td>NaN</td>\n",
       "      <td>NaN</td>\n",
       "      <td>NaN</td>\n",
       "      <td>No</td>\n",
       "    </tr>\n",
       "    <tr>\n",
       "      <th>2</th>\n",
       "      <td>cscs_00003</td>\n",
       "      <td>1</td>\n",
       "      <td>Yes</td>\n",
       "      <td>Yes</td>\n",
       "      <td>Quebec</td>\n",
       "      <td>56.0</td>\n",
       "      <td>Woman</td>\n",
       "      <td>NaN</td>\n",
       "      <td>NaN</td>\n",
       "      <td>Not Selected</td>\n",
       "      <td>...</td>\n",
       "      <td>NaN</td>\n",
       "      <td>NaN</td>\n",
       "      <td>NaN</td>\n",
       "      <td>NaN</td>\n",
       "      <td>NaN</td>\n",
       "      <td>NaN</td>\n",
       "      <td>NaN</td>\n",
       "      <td>NaN</td>\n",
       "      <td>NaN</td>\n",
       "      <td>No</td>\n",
       "    </tr>\n",
       "    <tr>\n",
       "      <th>3</th>\n",
       "      <td>cscs_00005</td>\n",
       "      <td>1</td>\n",
       "      <td>Yes</td>\n",
       "      <td>Yes</td>\n",
       "      <td>NaN</td>\n",
       "      <td>54.0</td>\n",
       "      <td>Woman</td>\n",
       "      <td>NaN</td>\n",
       "      <td>NaN</td>\n",
       "      <td>Not Selected</td>\n",
       "      <td>...</td>\n",
       "      <td>NaN</td>\n",
       "      <td>NaN</td>\n",
       "      <td>NaN</td>\n",
       "      <td>NaN</td>\n",
       "      <td>28.0</td>\n",
       "      <td>34.0</td>\n",
       "      <td>30.0</td>\n",
       "      <td>32.0</td>\n",
       "      <td>37.0</td>\n",
       "      <td>No</td>\n",
       "    </tr>\n",
       "    <tr>\n",
       "      <th>4</th>\n",
       "      <td>cscs_00006</td>\n",
       "      <td>1</td>\n",
       "      <td>Yes</td>\n",
       "      <td>Yes</td>\n",
       "      <td>Ontario</td>\n",
       "      <td>30.0</td>\n",
       "      <td>Man</td>\n",
       "      <td>Not Selected</td>\n",
       "      <td>Indigenous peoples (e.g., First Nations, Métis...</td>\n",
       "      <td>Sexual or gender minorities (e.g., LGBTQ2+)</td>\n",
       "      <td>...</td>\n",
       "      <td>NaN</td>\n",
       "      <td>NaN</td>\n",
       "      <td>NaN</td>\n",
       "      <td>NaN</td>\n",
       "      <td>NaN</td>\n",
       "      <td>NaN</td>\n",
       "      <td>NaN</td>\n",
       "      <td>NaN</td>\n",
       "      <td>NaN</td>\n",
       "      <td>No</td>\n",
       "    </tr>\n",
       "    <tr>\n",
       "      <th>...</th>\n",
       "      <td>...</td>\n",
       "      <td>...</td>\n",
       "      <td>...</td>\n",
       "      <td>...</td>\n",
       "      <td>...</td>\n",
       "      <td>...</td>\n",
       "      <td>...</td>\n",
       "      <td>...</td>\n",
       "      <td>...</td>\n",
       "      <td>...</td>\n",
       "      <td>...</td>\n",
       "      <td>...</td>\n",
       "      <td>...</td>\n",
       "      <td>...</td>\n",
       "      <td>...</td>\n",
       "      <td>...</td>\n",
       "      <td>...</td>\n",
       "      <td>...</td>\n",
       "      <td>...</td>\n",
       "      <td>...</td>\n",
       "      <td>...</td>\n",
       "    </tr>\n",
       "    <tr>\n",
       "      <th>11425</th>\n",
       "      <td>cscs_11808</td>\n",
       "      <td>1</td>\n",
       "      <td>Yes</td>\n",
       "      <td>Yes</td>\n",
       "      <td>NaN</td>\n",
       "      <td>45.0</td>\n",
       "      <td>Woman</td>\n",
       "      <td>NaN</td>\n",
       "      <td>NaN</td>\n",
       "      <td>Not Selected</td>\n",
       "      <td>...</td>\n",
       "      <td>NaN</td>\n",
       "      <td>NaN</td>\n",
       "      <td>NaN</td>\n",
       "      <td>NaN</td>\n",
       "      <td>26.0</td>\n",
       "      <td>23.0</td>\n",
       "      <td>18.0</td>\n",
       "      <td>31.0</td>\n",
       "      <td>37.0</td>\n",
       "      <td>No</td>\n",
       "    </tr>\n",
       "    <tr>\n",
       "      <th>11426</th>\n",
       "      <td>cscs_11809</td>\n",
       "      <td>1</td>\n",
       "      <td>Yes</td>\n",
       "      <td>Yes</td>\n",
       "      <td>NaN</td>\n",
       "      <td>45.0</td>\n",
       "      <td>Woman</td>\n",
       "      <td>NaN</td>\n",
       "      <td>NaN</td>\n",
       "      <td>Sexual or gender minorities (e.g., LGBTQ2+)</td>\n",
       "      <td>...</td>\n",
       "      <td>NaN</td>\n",
       "      <td>NaN</td>\n",
       "      <td>NaN</td>\n",
       "      <td>NaN</td>\n",
       "      <td>31.0</td>\n",
       "      <td>33.0</td>\n",
       "      <td>33.0</td>\n",
       "      <td>13.0</td>\n",
       "      <td>39.0</td>\n",
       "      <td>No</td>\n",
       "    </tr>\n",
       "    <tr>\n",
       "      <th>11427</th>\n",
       "      <td>cscs_11810</td>\n",
       "      <td>1</td>\n",
       "      <td>Yes</td>\n",
       "      <td>Yes</td>\n",
       "      <td>British Columbia</td>\n",
       "      <td>36.0</td>\n",
       "      <td>Man</td>\n",
       "      <td>NaN</td>\n",
       "      <td>NaN</td>\n",
       "      <td>Not Selected</td>\n",
       "      <td>...</td>\n",
       "      <td>NaN</td>\n",
       "      <td>NaN</td>\n",
       "      <td>NaN</td>\n",
       "      <td>NaN</td>\n",
       "      <td>32.0</td>\n",
       "      <td>37.0</td>\n",
       "      <td>31.0</td>\n",
       "      <td>NaN</td>\n",
       "      <td>38.0</td>\n",
       "      <td>No</td>\n",
       "    </tr>\n",
       "    <tr>\n",
       "      <th>11428</th>\n",
       "      <td>cscs_11812</td>\n",
       "      <td>3</td>\n",
       "      <td>Yes</td>\n",
       "      <td>NaN</td>\n",
       "      <td>NaN</td>\n",
       "      <td>NaN</td>\n",
       "      <td>NaN</td>\n",
       "      <td>NaN</td>\n",
       "      <td>NaN</td>\n",
       "      <td>NaN</td>\n",
       "      <td>...</td>\n",
       "      <td>NaN</td>\n",
       "      <td>NaN</td>\n",
       "      <td>NaN</td>\n",
       "      <td>NaN</td>\n",
       "      <td>NaN</td>\n",
       "      <td>NaN</td>\n",
       "      <td>NaN</td>\n",
       "      <td>NaN</td>\n",
       "      <td>NaN</td>\n",
       "      <td>No</td>\n",
       "    </tr>\n",
       "    <tr>\n",
       "      <th>11430</th>\n",
       "      <td>cscs_11812</td>\n",
       "      <td>3</td>\n",
       "      <td>Yes</td>\n",
       "      <td>Yes</td>\n",
       "      <td>Ontario</td>\n",
       "      <td>31.0</td>\n",
       "      <td>Woman</td>\n",
       "      <td>Not Selected</td>\n",
       "      <td>Not Selected</td>\n",
       "      <td>Not Selected</td>\n",
       "      <td>...</td>\n",
       "      <td>NaN</td>\n",
       "      <td>NaN</td>\n",
       "      <td>NaN</td>\n",
       "      <td>NaN</td>\n",
       "      <td>NaN</td>\n",
       "      <td>NaN</td>\n",
       "      <td>NaN</td>\n",
       "      <td>NaN</td>\n",
       "      <td>NaN</td>\n",
       "      <td>No</td>\n",
       "    </tr>\n",
       "  </tbody>\n",
       "</table>\n",
       "<p>10018 rows × 1779 columns</p>\n",
       "</div>"
      ],
      "text/plain": [
       "        UNIQUE_id  UNIQUE_num_records ELIGIBLE_consent GEO_residence_canada  \\\n",
       "0      cscs_00001                   1              Yes                  Yes   \n",
       "1      cscs_00002                   1              Yes                  Yes   \n",
       "2      cscs_00003                   1              Yes                  Yes   \n",
       "3      cscs_00005                   1              Yes                  Yes   \n",
       "4      cscs_00006                   1              Yes                  Yes   \n",
       "...           ...                 ...              ...                  ...   \n",
       "11425  cscs_11808                   1              Yes                  Yes   \n",
       "11426  cscs_11809                   1              Yes                  Yes   \n",
       "11427  cscs_11810                   1              Yes                  Yes   \n",
       "11428  cscs_11812                   3              Yes                  NaN   \n",
       "11430  cscs_11812                   3              Yes                  Yes   \n",
       "\n",
       "           GEO_province  DEMO_age DEMO_gender DEMO_identity_vetrans  \\\n",
       "0      British Columbia      71.0  Non-binary                   NaN   \n",
       "1               Ontario      69.0       Woman                   NaN   \n",
       "2                Quebec      56.0       Woman                   NaN   \n",
       "3                   NaN      54.0       Woman                   NaN   \n",
       "4               Ontario      30.0         Man          Not Selected   \n",
       "...                 ...       ...         ...                   ...   \n",
       "11425               NaN      45.0       Woman                   NaN   \n",
       "11426               NaN      45.0       Woman                   NaN   \n",
       "11427  British Columbia      36.0         Man                   NaN   \n",
       "11428               NaN       NaN         NaN                   NaN   \n",
       "11430           Ontario      31.0       Woman          Not Selected   \n",
       "\n",
       "                                DEMO_identity_indigenous  \\\n",
       "0                                                    NaN   \n",
       "1                                                    NaN   \n",
       "2                                                    NaN   \n",
       "3                                                    NaN   \n",
       "4      Indigenous peoples (e.g., First Nations, Métis...   \n",
       "...                                                  ...   \n",
       "11425                                                NaN   \n",
       "11426                                                NaN   \n",
       "11427                                                NaN   \n",
       "11428                                                NaN   \n",
       "11430                                       Not Selected   \n",
       "\n",
       "                               DEMO_identity_lgbtq  ...  \\\n",
       "0      Sexual or gender minorities (e.g., LGBTQ2+)  ...   \n",
       "1                                     Not Selected  ...   \n",
       "2                                     Not Selected  ...   \n",
       "3                                     Not Selected  ...   \n",
       "4      Sexual or gender minorities (e.g., LGBTQ2+)  ...   \n",
       "...                                            ...  ...   \n",
       "11425                                 Not Selected  ...   \n",
       "11426  Sexual or gender minorities (e.g., LGBTQ2+)  ...   \n",
       "11427                                 Not Selected  ...   \n",
       "11428                                          NaN  ...   \n",
       "11430                                 Not Selected  ...   \n",
       "\n",
       "      PSYCH_body_self_image_questionnaire_height_dissatisfaction_score  \\\n",
       "0                                                    NaN                 \n",
       "1                                                    3.0                 \n",
       "2                                                    NaN                 \n",
       "3                                                    NaN                 \n",
       "4                                                    NaN                 \n",
       "...                                                  ...                 \n",
       "11425                                                NaN                 \n",
       "11426                                                NaN                 \n",
       "11427                                                NaN                 \n",
       "11428                                                NaN                 \n",
       "11430                                                NaN                 \n",
       "\n",
       "      PSYCH_body_self_image_questionnaire_fatness_evaluation_score  \\\n",
       "0                                                    NaN             \n",
       "1                                                    8.0             \n",
       "2                                                    NaN             \n",
       "3                                                    NaN             \n",
       "4                                                    NaN             \n",
       "...                                                  ...             \n",
       "11425                                                NaN             \n",
       "11426                                                NaN             \n",
       "11427                                                NaN             \n",
       "11428                                                NaN             \n",
       "11430                                                NaN             \n",
       "\n",
       "      PSYCH_body_self_image_questionnaire_negative_affect_score  \\\n",
       "0                                                    NaN          \n",
       "1                                                    3.0          \n",
       "2                                                    NaN          \n",
       "3                                                    NaN          \n",
       "4                                                    NaN          \n",
       "...                                                  ...          \n",
       "11425                                                NaN          \n",
       "11426                                                NaN          \n",
       "11427                                                NaN          \n",
       "11428                                                NaN          \n",
       "11430                                                NaN          \n",
       "\n",
       "      PSYCH_body_self_image_questionnaire_social_dependence_score  \\\n",
       "0                                                    NaN            \n",
       "1                                                    3.0            \n",
       "2                                                    NaN            \n",
       "3                                                    NaN            \n",
       "4                                                    NaN            \n",
       "...                                                  ...            \n",
       "11425                                                NaN            \n",
       "11426                                                NaN            \n",
       "11427                                                NaN            \n",
       "11428                                                NaN            \n",
       "11430                                                NaN            \n",
       "\n",
       "      PSYCH_big_five_inventory_agreeable_score  \\\n",
       "0                                          NaN   \n",
       "1                                          NaN   \n",
       "2                                          NaN   \n",
       "3                                         28.0   \n",
       "4                                          NaN   \n",
       "...                                        ...   \n",
       "11425                                     26.0   \n",
       "11426                                     31.0   \n",
       "11427                                     32.0   \n",
       "11428                                      NaN   \n",
       "11430                                      NaN   \n",
       "\n",
       "      PSYCH_big_five_inventory_conscientious_score  \\\n",
       "0                                              NaN   \n",
       "1                                              NaN   \n",
       "2                                              NaN   \n",
       "3                                             34.0   \n",
       "4                                              NaN   \n",
       "...                                            ...   \n",
       "11425                                         23.0   \n",
       "11426                                         33.0   \n",
       "11427                                         37.0   \n",
       "11428                                          NaN   \n",
       "11430                                          NaN   \n",
       "\n",
       "      PSYCH_big_five_inventory_extraverted_score  \\\n",
       "0                                            NaN   \n",
       "1                                            NaN   \n",
       "2                                            NaN   \n",
       "3                                           30.0   \n",
       "4                                            NaN   \n",
       "...                                          ...   \n",
       "11425                                       18.0   \n",
       "11426                                       33.0   \n",
       "11427                                       31.0   \n",
       "11428                                        NaN   \n",
       "11430                                        NaN   \n",
       "\n",
       "      PSYCH_big_five_inventory_neurotic_score  \\\n",
       "0                                         NaN   \n",
       "1                                         NaN   \n",
       "2                                         NaN   \n",
       "3                                        32.0   \n",
       "4                                         NaN   \n",
       "...                                       ...   \n",
       "11425                                    31.0   \n",
       "11426                                    13.0   \n",
       "11427                                     NaN   \n",
       "11428                                     NaN   \n",
       "11430                                     NaN   \n",
       "\n",
       "      PSYCH_big_five_inventory_open_score REMOVE_case  \n",
       "0                                     NaN          No  \n",
       "1                                     NaN          No  \n",
       "2                                     NaN          No  \n",
       "3                                    37.0          No  \n",
       "4                                     NaN          No  \n",
       "...                                   ...         ...  \n",
       "11425                                37.0          No  \n",
       "11426                                39.0          No  \n",
       "11427                                38.0          No  \n",
       "11428                                 NaN          No  \n",
       "11430                                 NaN          No  \n",
       "\n",
       "[10018 rows x 1779 columns]"
      ]
     },
     "execution_count": 4,
     "metadata": {},
     "output_type": "execute_result"
    }
   ],
   "source": [
    "\n",
    "# Import statements\n",
    "import pandas as pd\n",
    "import numpy as np\n",
    "import plotly.express as px\n",
    "import scipy.stats as stats\n",
    "import statsmodels.formula.api as smf\n",
    "\n",
    "# Read and import dataset\n",
    "cols = pd.read_csv(\"var_names.csv\")\n",
    "data = pd.read_csv(\"CSCS_data_anon.csv\", na_values=[\"9999\", \"\", \" \", \"Presented but no response\", \"NA\"])\n",
    "\n",
    "# Cleaning the data\n",
    "empty = (data.isna().sum() == data.shape[0])\n",
    "data = data[empty.index[~empty]] # keep non empty columns only\n",
    "\n",
    "data = data[data.REMOVE_case=='No'].copy()\n",
    "\n",
    "data"
   ]
  },
  {
   "cell_type": "code",
   "execution_count": 5,
   "metadata": {},
   "outputs": [
    {
     "data": {
      "text/html": [
       "<div>\n",
       "<style scoped>\n",
       "    .dataframe tbody tr th:only-of-type {\n",
       "        vertical-align: middle;\n",
       "    }\n",
       "\n",
       "    .dataframe tbody tr th {\n",
       "        vertical-align: top;\n",
       "    }\n",
       "\n",
       "    .dataframe thead th {\n",
       "        text-align: right;\n",
       "    }\n",
       "</style>\n",
       "<table border=\"1\" class=\"dataframe\">\n",
       "  <thead>\n",
       "    <tr style=\"text-align: right;\">\n",
       "      <th></th>\n",
       "      <th>WELLNESS_life_satisfaction</th>\n",
       "      <th>DEMO_household_income</th>\n",
       "    </tr>\n",
       "  </thead>\n",
       "  <tbody>\n",
       "    <tr>\n",
       "      <th>4</th>\n",
       "      <td>8.0</td>\n",
       "      <td>$80,000 to $89,999</td>\n",
       "    </tr>\n",
       "    <tr>\n",
       "      <th>8</th>\n",
       "      <td>1.0</td>\n",
       "      <td>$20,000 to $24,999</td>\n",
       "    </tr>\n",
       "    <tr>\n",
       "      <th>10</th>\n",
       "      <td>7.0</td>\n",
       "      <td>$90,000 to $99,999</td>\n",
       "    </tr>\n",
       "    <tr>\n",
       "      <th>30</th>\n",
       "      <td>1.0</td>\n",
       "      <td>$5,000 to $9,999</td>\n",
       "    </tr>\n",
       "    <tr>\n",
       "      <th>31</th>\n",
       "      <td>5.0</td>\n",
       "      <td>$10,000 to $14,999</td>\n",
       "    </tr>\n",
       "    <tr>\n",
       "      <th>...</th>\n",
       "      <td>...</td>\n",
       "      <td>...</td>\n",
       "    </tr>\n",
       "    <tr>\n",
       "      <th>11393</th>\n",
       "      <td>4.0</td>\n",
       "      <td>Under $5,000</td>\n",
       "    </tr>\n",
       "    <tr>\n",
       "      <th>11396</th>\n",
       "      <td>3.0</td>\n",
       "      <td>$15,000 to $19,999</td>\n",
       "    </tr>\n",
       "    <tr>\n",
       "      <th>11398</th>\n",
       "      <td>7.0</td>\n",
       "      <td>$35,000 to $39,999</td>\n",
       "    </tr>\n",
       "    <tr>\n",
       "      <th>11410</th>\n",
       "      <td>8.0</td>\n",
       "      <td>$70,000 to $79,999</td>\n",
       "    </tr>\n",
       "    <tr>\n",
       "      <th>11430</th>\n",
       "      <td>7.0</td>\n",
       "      <td>$25,000 to $29,999</td>\n",
       "    </tr>\n",
       "  </tbody>\n",
       "</table>\n",
       "<p>2260 rows × 2 columns</p>\n",
       "</div>"
      ],
      "text/plain": [
       "       WELLNESS_life_satisfaction DEMO_household_income\n",
       "4                             8.0    $80,000 to $89,999\n",
       "8                             1.0    $20,000 to $24,999\n",
       "10                            7.0    $90,000 to $99,999\n",
       "30                            1.0      $5,000 to $9,999\n",
       "31                            5.0    $10,000 to $14,999\n",
       "...                           ...                   ...\n",
       "11393                         4.0          Under $5,000\n",
       "11396                         3.0    $15,000 to $19,999\n",
       "11398                         7.0    $35,000 to $39,999\n",
       "11410                         8.0    $70,000 to $79,999\n",
       "11430                         7.0    $25,000 to $29,999\n",
       "\n",
       "[2260 rows x 2 columns]"
      ]
     },
     "execution_count": 5,
     "metadata": {},
     "output_type": "execute_result"
    }
   ],
   "source": [
    "### The Correlation Between Socioeconomic Status (SES) and Mental Health During the 2021 Lockdown of the COVID-19 Pandemic\n",
    "important_columns = [\n",
    "\t'WELLNESS_life_satisfaction',\n",
    "\t'DEMO_household_income',\n",
    "]\n",
    "\n",
    "data_cross_2021 = data[data.DATASET=='2021 Cross-Sectional'][important_columns].copy().dropna()\n",
    "\n",
    "data_cross_2021"
   ]
  },
  {
   "cell_type": "code",
   "execution_count": 6,
   "metadata": {},
   "outputs": [
    {
     "data": {
      "text/html": [
       "<div>\n",
       "<style scoped>\n",
       "    .dataframe tbody tr th:only-of-type {\n",
       "        vertical-align: middle;\n",
       "    }\n",
       "\n",
       "    .dataframe tbody tr th {\n",
       "        vertical-align: top;\n",
       "    }\n",
       "\n",
       "    .dataframe thead th {\n",
       "        text-align: right;\n",
       "    }\n",
       "</style>\n",
       "<table border=\"1\" class=\"dataframe\">\n",
       "  <thead>\n",
       "    <tr style=\"text-align: right;\">\n",
       "      <th></th>\n",
       "      <th>WELLNESS_life_satisfaction</th>\n",
       "      <th>DEMO_household_income</th>\n",
       "      <th>DEMO_household_income_index</th>\n",
       "    </tr>\n",
       "  </thead>\n",
       "  <tbody>\n",
       "    <tr>\n",
       "      <th>4</th>\n",
       "      <td>8.0</td>\n",
       "      <td>$80,000 to $89,999</td>\n",
       "      <td>8</td>\n",
       "    </tr>\n",
       "    <tr>\n",
       "      <th>8</th>\n",
       "      <td>1.0</td>\n",
       "      <td>$20,000 to $29,999</td>\n",
       "      <td>2</td>\n",
       "    </tr>\n",
       "    <tr>\n",
       "      <th>10</th>\n",
       "      <td>7.0</td>\n",
       "      <td>$90,000 to $99,999</td>\n",
       "      <td>9</td>\n",
       "    </tr>\n",
       "    <tr>\n",
       "      <th>30</th>\n",
       "      <td>1.0</td>\n",
       "      <td>Under $10,000</td>\n",
       "      <td>0</td>\n",
       "    </tr>\n",
       "    <tr>\n",
       "      <th>31</th>\n",
       "      <td>5.0</td>\n",
       "      <td>$10,000 to $19,999</td>\n",
       "      <td>1</td>\n",
       "    </tr>\n",
       "    <tr>\n",
       "      <th>...</th>\n",
       "      <td>...</td>\n",
       "      <td>...</td>\n",
       "      <td>...</td>\n",
       "    </tr>\n",
       "    <tr>\n",
       "      <th>11393</th>\n",
       "      <td>4.0</td>\n",
       "      <td>Under $10,000</td>\n",
       "      <td>0</td>\n",
       "    </tr>\n",
       "    <tr>\n",
       "      <th>11396</th>\n",
       "      <td>3.0</td>\n",
       "      <td>$10,000 to $19,999</td>\n",
       "      <td>1</td>\n",
       "    </tr>\n",
       "    <tr>\n",
       "      <th>11398</th>\n",
       "      <td>7.0</td>\n",
       "      <td>$30,000 to $39,999</td>\n",
       "      <td>3</td>\n",
       "    </tr>\n",
       "    <tr>\n",
       "      <th>11410</th>\n",
       "      <td>8.0</td>\n",
       "      <td>$70,000 to $79,999</td>\n",
       "      <td>7</td>\n",
       "    </tr>\n",
       "    <tr>\n",
       "      <th>11430</th>\n",
       "      <td>7.0</td>\n",
       "      <td>$20,000 to $29,999</td>\n",
       "      <td>2</td>\n",
       "    </tr>\n",
       "  </tbody>\n",
       "</table>\n",
       "<p>2260 rows × 3 columns</p>\n",
       "</div>"
      ],
      "text/plain": [
       "       WELLNESS_life_satisfaction DEMO_household_income  \\\n",
       "4                             8.0    $80,000 to $89,999   \n",
       "8                             1.0    $20,000 to $29,999   \n",
       "10                            7.0    $90,000 to $99,999   \n",
       "30                            1.0         Under $10,000   \n",
       "31                            5.0    $10,000 to $19,999   \n",
       "...                           ...                   ...   \n",
       "11393                         4.0         Under $10,000   \n",
       "11396                         3.0    $10,000 to $19,999   \n",
       "11398                         7.0    $30,000 to $39,999   \n",
       "11410                         8.0    $70,000 to $79,999   \n",
       "11430                         7.0    $20,000 to $29,999   \n",
       "\n",
       "       DEMO_household_income_index  \n",
       "4                                8  \n",
       "8                                2  \n",
       "10                               9  \n",
       "30                               0  \n",
       "31                               1  \n",
       "...                            ...  \n",
       "11393                            0  \n",
       "11396                            1  \n",
       "11398                            3  \n",
       "11410                            7  \n",
       "11430                            2  \n",
       "\n",
       "[2260 rows x 3 columns]"
      ]
     },
     "execution_count": 6,
     "metadata": {},
     "output_type": "execute_result"
    }
   ],
   "source": [
    "income_mapping = {\n",
    "    'Under $5,000': 'Under $10,000',\n",
    "    '$5,000 to $9,999': 'Under $10,000',\n",
    "    '$10,000 to $14,999': '$10,000 to $19,999',\n",
    "    '$15,000 to $19,999': '$10,000 to $19,999',\n",
    "    '$20,000 to $24,999': '$20,000 to $29,999',\n",
    "    '$25,000 to $29,999': '$20,000 to $29,999',\n",
    "    '$30,000 to $34,999': '$30,000 to $39,999',\n",
    "    '$35,000 to $39,999': '$30,000 to $39,999',\n",
    "    '$40,000 to $44,999': '$40,000 to $49,999',\n",
    "    '$45,000 to $49,999': '$40,000 to $49,999',\n",
    "\t'$50,000 to $59,999': '$50,000 to $59,999',\n",
    "    '$60,000 to $69,999': '$60,000 to $69,999',\n",
    "    '$70,000 to $79,999': '$70,000 to $79,999',\n",
    "    '$80,000 to $89,999': '$80,000 to $89,999',\n",
    "    '$90,000 to $99,999': '$90,000 to $99,999',\n",
    "    '$100,000 to $109,999': '$100,000 to $109,999',\n",
    "    '$110,000 to $119,999': '$110,000 to $119,999',\n",
    "    '$120,000 to $129,999': '$120,000 to $129,999',\n",
    "    '$130,000 to $139,999': '$130,000 to $139,999',\n",
    "    '$140,000 to $149,999': '$140,000 to $149,999',\n",
    "    '$150,000 to $159,999': '$150,000 to $159,999',\n",
    "    '$160,000 to $169,999': '$160,000 to $169,999',\n",
    "    '$170,000 to $179,999': '$170,000 to $179,999',\n",
    "    '$180,000 to $189,999': '$180,000 to $189,999',\n",
    "    '$190,000 to $199,999': '$190,000 to $199,999',\n",
    "    '$200,000 or more': '$200,000 or more',\n",
    "}\n",
    "\n",
    "# income_mapping = {\n",
    "#     'Under $5,000': 'Under $50,000',\n",
    "#     '$5,000 to $9,999': 'Under $50,000',\n",
    "#     '$10,000 to $14,999': 'Under $50,000',\n",
    "#     '$15,000 to $19,999': 'Under $50,000',\n",
    "#     '$20,000 to $24,999': 'Under $50,000',\n",
    "#     '$25,000 to $29,999': 'Under $50,000',\n",
    "#     '$30,000 to $34,999': 'Under $50,000',\n",
    "#     '$35,000 to $39,999': 'Under $50,000',\n",
    "#     '$40,000 to $44,999': 'Under $50,000',\n",
    "#     '$45,000 to $49,999': 'Under $50,000',\n",
    "# \t'$50,000 to $59,999': '$50,000 to $99,999',\n",
    "#     '$60,000 to $69,999': '$50,000 to $99,999',\n",
    "#     '$70,000 to $79,999': '$50,000 to $99,999',\n",
    "#     '$80,000 to $89,999': '$50,000 to $99,999',\n",
    "#     '$90,000 to $99,999': '$50,000 to $99,999',\n",
    "#     '$100,000 to $109,999': '$100,000 to $149,999',\n",
    "#     '$110,000 to $119,999': '$100,000 to $149,999',\n",
    "#     '$120,000 to $129,999': '$100,000 to $149,999',\n",
    "#     '$130,000 to $139,999': '$100,000 to $149,999',\n",
    "#     '$140,000 to $149,999': '$100,000 to $149,999',\n",
    "#     '$150,000 to $159,999': '$150,000 to $199,999',\n",
    "#     '$160,000 to $169,999': '$150,000 to $199,999',\n",
    "#     '$170,000 to $179,999': '$150,000 to $199,999',\n",
    "#     '$180,000 to $189,999': '$150,000 to $199,999',\n",
    "#     '$190,000 to $199,999': '$150,000 to $199,999',\n",
    "#     '$200,000 or more': '$200,000 or more',\n",
    "# }\n",
    "income_mapping_ordered = {}\n",
    "\n",
    "# Make all new categories to their index/order.\n",
    "income_values = list(income_mapping.values())\n",
    "i = 0\n",
    "for index, key in enumerate(income_values):\n",
    "\tif index == len(income_values)-1:\n",
    "\t\tincome_mapping_ordered[key] = i\n",
    "\telif income_values[index+1] != key:\n",
    "\t\tincome_mapping_ordered[key] = i\n",
    "\t\ti += 1\n",
    "\n",
    "income_categories = list(income_mapping_ordered.keys())\n",
    "\n",
    "# Reset 'DEMO_household_income' column categories.\n",
    "data_cross_2021['DEMO_household_income'] = data_cross_2021['DEMO_household_income'].map(income_mapping)\n",
    "\n",
    "# Ensure 'DEMO_household_income' column is mapped to numeric values using income_mapping\n",
    "data_cross_2021['DEMO_household_income_index'] = data_cross_2021['DEMO_household_income'].map(income_mapping_ordered)\n",
    "\n",
    "# Set 'DEMO_household_income' column to be categorical with order.\n",
    "data_cross_2021['DEMO_household_income'] = pd.Categorical(\n",
    "    data_cross_2021['DEMO_household_income'], \n",
    "    categories=income_categories, \n",
    "    ordered=True\n",
    ")\n",
    "\n",
    "data_cross_2021"
   ]
  },
  {
   "cell_type": "code",
   "execution_count": 7,
   "metadata": {},
   "outputs": [
    {
     "name": "stderr",
     "output_type": "stream",
     "text": [
      "/var/folders/b0/20_s9xf13p33yqxth9cv22380000gn/T/ipykernel_1634/2453020656.py:1: FutureWarning: The default of observed=False is deprecated and will be changed to True in a future version of pandas. Pass observed=False to retain current behavior or observed=True to adopt the future default and silence this warning.\n",
      "  df_count = data_cross_2021.groupby(['DEMO_household_income', 'WELLNESS_life_satisfaction']).size().reset_index(name='Count')\n",
      "/var/folders/b0/20_s9xf13p33yqxth9cv22380000gn/T/ipykernel_1634/2453020656.py:9: FutureWarning: The default of observed=False is deprecated and will be changed to True in a future version of pandas. Pass observed=False to retain current behavior or observed=True to adopt the future default and silence this warning.\n",
      "  df_count['Percentage'] = df_count.groupby('DEMO_household_income')['Count'].transform(lambda x: x / x.sum())\n"
     ]
    },
    {
     "data": {
      "application/vnd.plotly.v1+json": {
       "config": {
        "plotlyServerURL": "https://plot.ly"
       },
       "data": [
        {
         "alignmentgroup": "True",
         "hovertemplate": "Household Income Bracket=%{x}<br>Percentage (%)=%{y}<br>Life Satisfaction=%{marker.color}<extra></extra>",
         "legendgroup": "",
         "marker": {
          "color": [
           1,
           2,
           3,
           4,
           5,
           6,
           7,
           8,
           9,
           10,
           1,
           2,
           3,
           4,
           5,
           6,
           7,
           8,
           9,
           10,
           1,
           2,
           3,
           4,
           5,
           6,
           7,
           8,
           9,
           10,
           1,
           2,
           3,
           4,
           5,
           6,
           7,
           8,
           9,
           10,
           1,
           2,
           3,
           4,
           5,
           6,
           7,
           8,
           9,
           10,
           1,
           2,
           3,
           4,
           5,
           6,
           7,
           8,
           9,
           10,
           1,
           2,
           3,
           4,
           5,
           6,
           7,
           8,
           9,
           10,
           1,
           2,
           3,
           4,
           5,
           6,
           7,
           8,
           9,
           10,
           1,
           2,
           3,
           4,
           5,
           6,
           7,
           8,
           9,
           10,
           1,
           2,
           3,
           4,
           5,
           6,
           7,
           8,
           9,
           10,
           1,
           2,
           3,
           4,
           5,
           6,
           7,
           8,
           9,
           10,
           1,
           2,
           3,
           4,
           5,
           6,
           7,
           8,
           9,
           10,
           1,
           2,
           3,
           4,
           5,
           6,
           7,
           8,
           9,
           10,
           1,
           2,
           3,
           4,
           5,
           6,
           7,
           8,
           9,
           10,
           1,
           2,
           3,
           4,
           5,
           6,
           7,
           8,
           9,
           10,
           1,
           2,
           3,
           4,
           5,
           6,
           7,
           8,
           9,
           10,
           1,
           2,
           3,
           4,
           5,
           6,
           7,
           8,
           9,
           10,
           1,
           2,
           3,
           4,
           5,
           6,
           7,
           8,
           9,
           10,
           1,
           2,
           3,
           4,
           5,
           6,
           7,
           8,
           9,
           10,
           1,
           2,
           3,
           4,
           5,
           6,
           7,
           8,
           9,
           10,
           1,
           2,
           3,
           4,
           5,
           6,
           7,
           8,
           9,
           10
          ],
          "coloraxis": "coloraxis",
          "pattern": {
           "shape": ""
          }
         },
         "name": "",
         "offsetgroup": "",
         "orientation": "v",
         "showlegend": false,
         "textposition": "auto",
         "type": "bar",
         "x": [
          "Under $10,000",
          "Under $10,000",
          "Under $10,000",
          "Under $10,000",
          "Under $10,000",
          "Under $10,000",
          "Under $10,000",
          "Under $10,000",
          "Under $10,000",
          "Under $10,000",
          "$10,000 to $19,999",
          "$10,000 to $19,999",
          "$10,000 to $19,999",
          "$10,000 to $19,999",
          "$10,000 to $19,999",
          "$10,000 to $19,999",
          "$10,000 to $19,999",
          "$10,000 to $19,999",
          "$10,000 to $19,999",
          "$10,000 to $19,999",
          "$20,000 to $29,999",
          "$20,000 to $29,999",
          "$20,000 to $29,999",
          "$20,000 to $29,999",
          "$20,000 to $29,999",
          "$20,000 to $29,999",
          "$20,000 to $29,999",
          "$20,000 to $29,999",
          "$20,000 to $29,999",
          "$20,000 to $29,999",
          "$30,000 to $39,999",
          "$30,000 to $39,999",
          "$30,000 to $39,999",
          "$30,000 to $39,999",
          "$30,000 to $39,999",
          "$30,000 to $39,999",
          "$30,000 to $39,999",
          "$30,000 to $39,999",
          "$30,000 to $39,999",
          "$30,000 to $39,999",
          "$40,000 to $49,999",
          "$40,000 to $49,999",
          "$40,000 to $49,999",
          "$40,000 to $49,999",
          "$40,000 to $49,999",
          "$40,000 to $49,999",
          "$40,000 to $49,999",
          "$40,000 to $49,999",
          "$40,000 to $49,999",
          "$40,000 to $49,999",
          "$50,000 to $59,999",
          "$50,000 to $59,999",
          "$50,000 to $59,999",
          "$50,000 to $59,999",
          "$50,000 to $59,999",
          "$50,000 to $59,999",
          "$50,000 to $59,999",
          "$50,000 to $59,999",
          "$50,000 to $59,999",
          "$50,000 to $59,999",
          "$60,000 to $69,999",
          "$60,000 to $69,999",
          "$60,000 to $69,999",
          "$60,000 to $69,999",
          "$60,000 to $69,999",
          "$60,000 to $69,999",
          "$60,000 to $69,999",
          "$60,000 to $69,999",
          "$60,000 to $69,999",
          "$60,000 to $69,999",
          "$70,000 to $79,999",
          "$70,000 to $79,999",
          "$70,000 to $79,999",
          "$70,000 to $79,999",
          "$70,000 to $79,999",
          "$70,000 to $79,999",
          "$70,000 to $79,999",
          "$70,000 to $79,999",
          "$70,000 to $79,999",
          "$70,000 to $79,999",
          "$80,000 to $89,999",
          "$80,000 to $89,999",
          "$80,000 to $89,999",
          "$80,000 to $89,999",
          "$80,000 to $89,999",
          "$80,000 to $89,999",
          "$80,000 to $89,999",
          "$80,000 to $89,999",
          "$80,000 to $89,999",
          "$80,000 to $89,999",
          "$90,000 to $99,999",
          "$90,000 to $99,999",
          "$90,000 to $99,999",
          "$90,000 to $99,999",
          "$90,000 to $99,999",
          "$90,000 to $99,999",
          "$90,000 to $99,999",
          "$90,000 to $99,999",
          "$90,000 to $99,999",
          "$90,000 to $99,999",
          "$100,000 to $109,999",
          "$100,000 to $109,999",
          "$100,000 to $109,999",
          "$100,000 to $109,999",
          "$100,000 to $109,999",
          "$100,000 to $109,999",
          "$100,000 to $109,999",
          "$100,000 to $109,999",
          "$100,000 to $109,999",
          "$100,000 to $109,999",
          "$110,000 to $119,999",
          "$110,000 to $119,999",
          "$110,000 to $119,999",
          "$110,000 to $119,999",
          "$110,000 to $119,999",
          "$110,000 to $119,999",
          "$110,000 to $119,999",
          "$110,000 to $119,999",
          "$110,000 to $119,999",
          "$110,000 to $119,999",
          "$120,000 to $129,999",
          "$120,000 to $129,999",
          "$120,000 to $129,999",
          "$120,000 to $129,999",
          "$120,000 to $129,999",
          "$120,000 to $129,999",
          "$120,000 to $129,999",
          "$120,000 to $129,999",
          "$120,000 to $129,999",
          "$120,000 to $129,999",
          "$130,000 to $139,999",
          "$130,000 to $139,999",
          "$130,000 to $139,999",
          "$130,000 to $139,999",
          "$130,000 to $139,999",
          "$130,000 to $139,999",
          "$130,000 to $139,999",
          "$130,000 to $139,999",
          "$130,000 to $139,999",
          "$130,000 to $139,999",
          "$140,000 to $149,999",
          "$140,000 to $149,999",
          "$140,000 to $149,999",
          "$140,000 to $149,999",
          "$140,000 to $149,999",
          "$140,000 to $149,999",
          "$140,000 to $149,999",
          "$140,000 to $149,999",
          "$140,000 to $149,999",
          "$140,000 to $149,999",
          "$150,000 to $159,999",
          "$150,000 to $159,999",
          "$150,000 to $159,999",
          "$150,000 to $159,999",
          "$150,000 to $159,999",
          "$150,000 to $159,999",
          "$150,000 to $159,999",
          "$150,000 to $159,999",
          "$150,000 to $159,999",
          "$150,000 to $159,999",
          "$160,000 to $169,999",
          "$160,000 to $169,999",
          "$160,000 to $169,999",
          "$160,000 to $169,999",
          "$160,000 to $169,999",
          "$160,000 to $169,999",
          "$160,000 to $169,999",
          "$160,000 to $169,999",
          "$160,000 to $169,999",
          "$160,000 to $169,999",
          "$170,000 to $179,999",
          "$170,000 to $179,999",
          "$170,000 to $179,999",
          "$170,000 to $179,999",
          "$170,000 to $179,999",
          "$170,000 to $179,999",
          "$170,000 to $179,999",
          "$170,000 to $179,999",
          "$170,000 to $179,999",
          "$170,000 to $179,999",
          "$180,000 to $189,999",
          "$180,000 to $189,999",
          "$180,000 to $189,999",
          "$180,000 to $189,999",
          "$180,000 to $189,999",
          "$180,000 to $189,999",
          "$180,000 to $189,999",
          "$180,000 to $189,999",
          "$180,000 to $189,999",
          "$180,000 to $189,999",
          "$190,000 to $199,999",
          "$190,000 to $199,999",
          "$190,000 to $199,999",
          "$190,000 to $199,999",
          "$190,000 to $199,999",
          "$190,000 to $199,999",
          "$190,000 to $199,999",
          "$190,000 to $199,999",
          "$190,000 to $199,999",
          "$190,000 to $199,999",
          "$200,000 or more",
          "$200,000 or more",
          "$200,000 or more",
          "$200,000 or more",
          "$200,000 or more",
          "$200,000 or more",
          "$200,000 or more",
          "$200,000 or more",
          "$200,000 or more",
          "$200,000 or more"
         ],
         "xaxis": "x",
         "y": [
          0.0896551724137931,
          0.04827586206896552,
          0.09655172413793103,
          0.13793103448275862,
          0.1724137931034483,
          0.08275862068965517,
          0.13793103448275862,
          0.1103448275862069,
          0.06896551724137931,
          0.05517241379310345,
          0.07228915662650602,
          0.0642570281124498,
          0.05622489959839357,
          0.08433734939759036,
          0.14457831325301204,
          0.14056224899598393,
          0.17670682730923695,
          0.12048192771084337,
          0.024096385542168676,
          0.11646586345381527,
          0.06477732793522267,
          0.07692307692307693,
          0.07692307692307693,
          0.09716599190283401,
          0.1214574898785425,
          0.13765182186234817,
          0.13360323886639677,
          0.13360323886639677,
          0.048582995951417005,
          0.10931174089068826,
          0.06374501992031872,
          0.02390438247011952,
          0.07171314741035857,
          0.055776892430278883,
          0.11952191235059761,
          0.17131474103585656,
          0.1593625498007968,
          0.17928286852589642,
          0.05976095617529881,
          0.09561752988047809,
          0.03765690376569038,
          0.02510460251046025,
          0.11715481171548117,
          0.07531380753138076,
          0.14225941422594143,
          0.12133891213389121,
          0.1297071129707113,
          0.18410041841004185,
          0.06276150627615062,
          0.10460251046025104,
          0.075,
          0.05625,
          0.08125,
          0.1,
          0.1125,
          0.11875,
          0.18125,
          0.15625,
          0.05625,
          0.0625,
          0.05673758865248227,
          0.028368794326241134,
          0.04964539007092199,
          0.06382978723404255,
          0.1702127659574468,
          0.15602836879432624,
          0.15602836879432624,
          0.22695035460992907,
          0.0425531914893617,
          0.04964539007092199,
          0.03896103896103896,
          0.03896103896103896,
          0.032467532467532464,
          0.09090909090909091,
          0.14285714285714285,
          0.18181818181818182,
          0.12987012987012986,
          0.22077922077922077,
          0.05844155844155844,
          0.06493506493506493,
          0.036036036036036036,
          0.018018018018018018,
          0.08108108108108109,
          0.10810810810810811,
          0.0990990990990991,
          0.16216216216216217,
          0.1891891891891892,
          0.17117117117117117,
          0.08108108108108109,
          0.05405405405405406,
          0.04132231404958678,
          0.024793388429752067,
          0.01652892561983471,
          0.09917355371900827,
          0.1487603305785124,
          0.12396694214876033,
          0.2066115702479339,
          0.2066115702479339,
          0.04132231404958678,
          0.09090909090909091,
          0.06,
          0.01,
          0.05,
          0.09,
          0.13,
          0.06,
          0.17,
          0.28,
          0.08,
          0.07,
          0.023255813953488372,
          0,
          0.023255813953488372,
          0.11627906976744186,
          0.11627906976744186,
          0.06976744186046512,
          0.23255813953488372,
          0.16279069767441862,
          0.16279069767441862,
          0.09302325581395349,
          0,
          0.018518518518518517,
          0.037037037037037035,
          0.09259259259259259,
          0.05555555555555555,
          0.09259259259259259,
          0.25925925925925924,
          0.2037037037037037,
          0.09259259259259259,
          0.14814814814814814,
          0,
          0,
          0.05555555555555555,
          0.08333333333333333,
          0.1111111111111111,
          0.1388888888888889,
          0.2222222222222222,
          0.2777777777777778,
          0.08333333333333333,
          0.027777777777777776,
          0,
          0,
          0.041666666666666664,
          0.041666666666666664,
          0.20833333333333334,
          0.16666666666666666,
          0.16666666666666666,
          0.25,
          0.041666666666666664,
          0.08333333333333333,
          0.015625,
          0.03125,
          0.03125,
          0.078125,
          0.046875,
          0.09375,
          0.234375,
          0.171875,
          0.09375,
          0.203125,
          0,
          0,
          0,
          0.14285714285714285,
          0.14285714285714285,
          0.09523809523809523,
          0.23809523809523808,
          0.14285714285714285,
          0.09523809523809523,
          0.14285714285714285,
          0,
          0,
          0,
          0.08333333333333333,
          0,
          0,
          0.3333333333333333,
          0.4166666666666667,
          0.08333333333333333,
          0.08333333333333333,
          0.045454545454545456,
          0.045454545454545456,
          0.045454545454545456,
          0.045454545454545456,
          0.09090909090909091,
          0,
          0.4090909090909091,
          0.13636363636363635,
          0.09090909090909091,
          0.09090909090909091,
          0.08333333333333333,
          0,
          0.08333333333333333,
          0.16666666666666666,
          0,
          0,
          0.16666666666666666,
          0.25,
          0.08333333333333333,
          0.16666666666666666,
          0,
          0.037037037037037035,
          0.018518518518518517,
          0.09259259259259259,
          0.12962962962962962,
          0.12962962962962962,
          0.2037037037037037,
          0.24074074074074073,
          0.09259259259259259,
          0.05555555555555555
         ],
         "yaxis": "y"
        }
       ],
       "layout": {
        "barmode": "stack",
        "coloraxis": {
         "colorbar": {
          "title": {
           "text": "Life Satisfaction"
          }
         },
         "colorscale": [
          [
           0,
           "#0d0887"
          ],
          [
           0.1111111111111111,
           "#46039f"
          ],
          [
           0.2222222222222222,
           "#7201a8"
          ],
          [
           0.3333333333333333,
           "#9c179e"
          ],
          [
           0.4444444444444444,
           "#bd3786"
          ],
          [
           0.5555555555555556,
           "#d8576b"
          ],
          [
           0.6666666666666666,
           "#ed7953"
          ],
          [
           0.7777777777777778,
           "#fb9f3a"
          ],
          [
           0.8888888888888888,
           "#fdca26"
          ],
          [
           1,
           "#f0f921"
          ]
         ]
        },
        "height": 500,
        "legend": {
         "tracegroupgap": 0
        },
        "margin": {
         "b": 80,
         "l": 80,
         "r": 80,
         "t": 80
        },
        "template": {
         "data": {
          "bar": [
           {
            "error_x": {
             "color": "#2a3f5f"
            },
            "error_y": {
             "color": "#2a3f5f"
            },
            "marker": {
             "line": {
              "color": "#E5ECF6",
              "width": 0.5
             },
             "pattern": {
              "fillmode": "overlay",
              "size": 10,
              "solidity": 0.2
             }
            },
            "type": "bar"
           }
          ],
          "barpolar": [
           {
            "marker": {
             "line": {
              "color": "#E5ECF6",
              "width": 0.5
             },
             "pattern": {
              "fillmode": "overlay",
              "size": 10,
              "solidity": 0.2
             }
            },
            "type": "barpolar"
           }
          ],
          "carpet": [
           {
            "aaxis": {
             "endlinecolor": "#2a3f5f",
             "gridcolor": "white",
             "linecolor": "white",
             "minorgridcolor": "white",
             "startlinecolor": "#2a3f5f"
            },
            "baxis": {
             "endlinecolor": "#2a3f5f",
             "gridcolor": "white",
             "linecolor": "white",
             "minorgridcolor": "white",
             "startlinecolor": "#2a3f5f"
            },
            "type": "carpet"
           }
          ],
          "choropleth": [
           {
            "colorbar": {
             "outlinewidth": 0,
             "ticks": ""
            },
            "type": "choropleth"
           }
          ],
          "contour": [
           {
            "colorbar": {
             "outlinewidth": 0,
             "ticks": ""
            },
            "colorscale": [
             [
              0,
              "#0d0887"
             ],
             [
              0.1111111111111111,
              "#46039f"
             ],
             [
              0.2222222222222222,
              "#7201a8"
             ],
             [
              0.3333333333333333,
              "#9c179e"
             ],
             [
              0.4444444444444444,
              "#bd3786"
             ],
             [
              0.5555555555555556,
              "#d8576b"
             ],
             [
              0.6666666666666666,
              "#ed7953"
             ],
             [
              0.7777777777777778,
              "#fb9f3a"
             ],
             [
              0.8888888888888888,
              "#fdca26"
             ],
             [
              1,
              "#f0f921"
             ]
            ],
            "type": "contour"
           }
          ],
          "contourcarpet": [
           {
            "colorbar": {
             "outlinewidth": 0,
             "ticks": ""
            },
            "type": "contourcarpet"
           }
          ],
          "heatmap": [
           {
            "colorbar": {
             "outlinewidth": 0,
             "ticks": ""
            },
            "colorscale": [
             [
              0,
              "#0d0887"
             ],
             [
              0.1111111111111111,
              "#46039f"
             ],
             [
              0.2222222222222222,
              "#7201a8"
             ],
             [
              0.3333333333333333,
              "#9c179e"
             ],
             [
              0.4444444444444444,
              "#bd3786"
             ],
             [
              0.5555555555555556,
              "#d8576b"
             ],
             [
              0.6666666666666666,
              "#ed7953"
             ],
             [
              0.7777777777777778,
              "#fb9f3a"
             ],
             [
              0.8888888888888888,
              "#fdca26"
             ],
             [
              1,
              "#f0f921"
             ]
            ],
            "type": "heatmap"
           }
          ],
          "heatmapgl": [
           {
            "colorbar": {
             "outlinewidth": 0,
             "ticks": ""
            },
            "colorscale": [
             [
              0,
              "#0d0887"
             ],
             [
              0.1111111111111111,
              "#46039f"
             ],
             [
              0.2222222222222222,
              "#7201a8"
             ],
             [
              0.3333333333333333,
              "#9c179e"
             ],
             [
              0.4444444444444444,
              "#bd3786"
             ],
             [
              0.5555555555555556,
              "#d8576b"
             ],
             [
              0.6666666666666666,
              "#ed7953"
             ],
             [
              0.7777777777777778,
              "#fb9f3a"
             ],
             [
              0.8888888888888888,
              "#fdca26"
             ],
             [
              1,
              "#f0f921"
             ]
            ],
            "type": "heatmapgl"
           }
          ],
          "histogram": [
           {
            "marker": {
             "pattern": {
              "fillmode": "overlay",
              "size": 10,
              "solidity": 0.2
             }
            },
            "type": "histogram"
           }
          ],
          "histogram2d": [
           {
            "colorbar": {
             "outlinewidth": 0,
             "ticks": ""
            },
            "colorscale": [
             [
              0,
              "#0d0887"
             ],
             [
              0.1111111111111111,
              "#46039f"
             ],
             [
              0.2222222222222222,
              "#7201a8"
             ],
             [
              0.3333333333333333,
              "#9c179e"
             ],
             [
              0.4444444444444444,
              "#bd3786"
             ],
             [
              0.5555555555555556,
              "#d8576b"
             ],
             [
              0.6666666666666666,
              "#ed7953"
             ],
             [
              0.7777777777777778,
              "#fb9f3a"
             ],
             [
              0.8888888888888888,
              "#fdca26"
             ],
             [
              1,
              "#f0f921"
             ]
            ],
            "type": "histogram2d"
           }
          ],
          "histogram2dcontour": [
           {
            "colorbar": {
             "outlinewidth": 0,
             "ticks": ""
            },
            "colorscale": [
             [
              0,
              "#0d0887"
             ],
             [
              0.1111111111111111,
              "#46039f"
             ],
             [
              0.2222222222222222,
              "#7201a8"
             ],
             [
              0.3333333333333333,
              "#9c179e"
             ],
             [
              0.4444444444444444,
              "#bd3786"
             ],
             [
              0.5555555555555556,
              "#d8576b"
             ],
             [
              0.6666666666666666,
              "#ed7953"
             ],
             [
              0.7777777777777778,
              "#fb9f3a"
             ],
             [
              0.8888888888888888,
              "#fdca26"
             ],
             [
              1,
              "#f0f921"
             ]
            ],
            "type": "histogram2dcontour"
           }
          ],
          "mesh3d": [
           {
            "colorbar": {
             "outlinewidth": 0,
             "ticks": ""
            },
            "type": "mesh3d"
           }
          ],
          "parcoords": [
           {
            "line": {
             "colorbar": {
              "outlinewidth": 0,
              "ticks": ""
             }
            },
            "type": "parcoords"
           }
          ],
          "pie": [
           {
            "automargin": true,
            "type": "pie"
           }
          ],
          "scatter": [
           {
            "fillpattern": {
             "fillmode": "overlay",
             "size": 10,
             "solidity": 0.2
            },
            "type": "scatter"
           }
          ],
          "scatter3d": [
           {
            "line": {
             "colorbar": {
              "outlinewidth": 0,
              "ticks": ""
             }
            },
            "marker": {
             "colorbar": {
              "outlinewidth": 0,
              "ticks": ""
             }
            },
            "type": "scatter3d"
           }
          ],
          "scattercarpet": [
           {
            "marker": {
             "colorbar": {
              "outlinewidth": 0,
              "ticks": ""
             }
            },
            "type": "scattercarpet"
           }
          ],
          "scattergeo": [
           {
            "marker": {
             "colorbar": {
              "outlinewidth": 0,
              "ticks": ""
             }
            },
            "type": "scattergeo"
           }
          ],
          "scattergl": [
           {
            "marker": {
             "colorbar": {
              "outlinewidth": 0,
              "ticks": ""
             }
            },
            "type": "scattergl"
           }
          ],
          "scattermapbox": [
           {
            "marker": {
             "colorbar": {
              "outlinewidth": 0,
              "ticks": ""
             }
            },
            "type": "scattermapbox"
           }
          ],
          "scatterpolar": [
           {
            "marker": {
             "colorbar": {
              "outlinewidth": 0,
              "ticks": ""
             }
            },
            "type": "scatterpolar"
           }
          ],
          "scatterpolargl": [
           {
            "marker": {
             "colorbar": {
              "outlinewidth": 0,
              "ticks": ""
             }
            },
            "type": "scatterpolargl"
           }
          ],
          "scatterternary": [
           {
            "marker": {
             "colorbar": {
              "outlinewidth": 0,
              "ticks": ""
             }
            },
            "type": "scatterternary"
           }
          ],
          "surface": [
           {
            "colorbar": {
             "outlinewidth": 0,
             "ticks": ""
            },
            "colorscale": [
             [
              0,
              "#0d0887"
             ],
             [
              0.1111111111111111,
              "#46039f"
             ],
             [
              0.2222222222222222,
              "#7201a8"
             ],
             [
              0.3333333333333333,
              "#9c179e"
             ],
             [
              0.4444444444444444,
              "#bd3786"
             ],
             [
              0.5555555555555556,
              "#d8576b"
             ],
             [
              0.6666666666666666,
              "#ed7953"
             ],
             [
              0.7777777777777778,
              "#fb9f3a"
             ],
             [
              0.8888888888888888,
              "#fdca26"
             ],
             [
              1,
              "#f0f921"
             ]
            ],
            "type": "surface"
           }
          ],
          "table": [
           {
            "cells": {
             "fill": {
              "color": "#EBF0F8"
             },
             "line": {
              "color": "white"
             }
            },
            "header": {
             "fill": {
              "color": "#C8D4E3"
             },
             "line": {
              "color": "white"
             }
            },
            "type": "table"
           }
          ]
         },
         "layout": {
          "annotationdefaults": {
           "arrowcolor": "#2a3f5f",
           "arrowhead": 0,
           "arrowwidth": 1
          },
          "autotypenumbers": "strict",
          "coloraxis": {
           "colorbar": {
            "outlinewidth": 0,
            "ticks": ""
           }
          },
          "colorscale": {
           "diverging": [
            [
             0,
             "#8e0152"
            ],
            [
             0.1,
             "#c51b7d"
            ],
            [
             0.2,
             "#de77ae"
            ],
            [
             0.3,
             "#f1b6da"
            ],
            [
             0.4,
             "#fde0ef"
            ],
            [
             0.5,
             "#f7f7f7"
            ],
            [
             0.6,
             "#e6f5d0"
            ],
            [
             0.7,
             "#b8e186"
            ],
            [
             0.8,
             "#7fbc41"
            ],
            [
             0.9,
             "#4d9221"
            ],
            [
             1,
             "#276419"
            ]
           ],
           "sequential": [
            [
             0,
             "#0d0887"
            ],
            [
             0.1111111111111111,
             "#46039f"
            ],
            [
             0.2222222222222222,
             "#7201a8"
            ],
            [
             0.3333333333333333,
             "#9c179e"
            ],
            [
             0.4444444444444444,
             "#bd3786"
            ],
            [
             0.5555555555555556,
             "#d8576b"
            ],
            [
             0.6666666666666666,
             "#ed7953"
            ],
            [
             0.7777777777777778,
             "#fb9f3a"
            ],
            [
             0.8888888888888888,
             "#fdca26"
            ],
            [
             1,
             "#f0f921"
            ]
           ],
           "sequentialminus": [
            [
             0,
             "#0d0887"
            ],
            [
             0.1111111111111111,
             "#46039f"
            ],
            [
             0.2222222222222222,
             "#7201a8"
            ],
            [
             0.3333333333333333,
             "#9c179e"
            ],
            [
             0.4444444444444444,
             "#bd3786"
            ],
            [
             0.5555555555555556,
             "#d8576b"
            ],
            [
             0.6666666666666666,
             "#ed7953"
            ],
            [
             0.7777777777777778,
             "#fb9f3a"
            ],
            [
             0.8888888888888888,
             "#fdca26"
            ],
            [
             1,
             "#f0f921"
            ]
           ]
          },
          "colorway": [
           "#636efa",
           "#EF553B",
           "#00cc96",
           "#ab63fa",
           "#FFA15A",
           "#19d3f3",
           "#FF6692",
           "#B6E880",
           "#FF97FF",
           "#FECB52"
          ],
          "font": {
           "color": "#2a3f5f"
          },
          "geo": {
           "bgcolor": "white",
           "lakecolor": "white",
           "landcolor": "#E5ECF6",
           "showlakes": true,
           "showland": true,
           "subunitcolor": "white"
          },
          "hoverlabel": {
           "align": "left"
          },
          "hovermode": "closest",
          "mapbox": {
           "style": "light"
          },
          "paper_bgcolor": "white",
          "plot_bgcolor": "#E5ECF6",
          "polar": {
           "angularaxis": {
            "gridcolor": "white",
            "linecolor": "white",
            "ticks": ""
           },
           "bgcolor": "#E5ECF6",
           "radialaxis": {
            "gridcolor": "white",
            "linecolor": "white",
            "ticks": ""
           }
          },
          "scene": {
           "xaxis": {
            "backgroundcolor": "#E5ECF6",
            "gridcolor": "white",
            "gridwidth": 2,
            "linecolor": "white",
            "showbackground": true,
            "ticks": "",
            "zerolinecolor": "white"
           },
           "yaxis": {
            "backgroundcolor": "#E5ECF6",
            "gridcolor": "white",
            "gridwidth": 2,
            "linecolor": "white",
            "showbackground": true,
            "ticks": "",
            "zerolinecolor": "white"
           },
           "zaxis": {
            "backgroundcolor": "#E5ECF6",
            "gridcolor": "white",
            "gridwidth": 2,
            "linecolor": "white",
            "showbackground": true,
            "ticks": "",
            "zerolinecolor": "white"
           }
          },
          "shapedefaults": {
           "line": {
            "color": "#2a3f5f"
           }
          },
          "ternary": {
           "aaxis": {
            "gridcolor": "white",
            "linecolor": "white",
            "ticks": ""
           },
           "baxis": {
            "gridcolor": "white",
            "linecolor": "white",
            "ticks": ""
           },
           "bgcolor": "#E5ECF6",
           "caxis": {
            "gridcolor": "white",
            "linecolor": "white",
            "ticks": ""
           }
          },
          "title": {
           "x": 0.05
          },
          "xaxis": {
           "automargin": true,
           "gridcolor": "white",
           "linecolor": "white",
           "ticks": "",
           "title": {
            "standoff": 15
           },
           "zerolinecolor": "white",
           "zerolinewidth": 2
          },
          "yaxis": {
           "automargin": true,
           "gridcolor": "white",
           "linecolor": "white",
           "ticks": "",
           "title": {
            "standoff": 15
           },
           "zerolinecolor": "white",
           "zerolinewidth": 2
          }
         }
        },
        "title": {
         "text": "Percentage Bar Graph of Life Satisfaction across Household Income Brackets"
        },
        "width": 1000,
        "xaxis": {
         "anchor": "y",
         "domain": [
          0,
          1
         ],
         "title": {
          "text": "Household Income Bracket"
         }
        },
        "yaxis": {
         "anchor": "x",
         "domain": [
          0,
          1
         ],
         "dtick": 0.1,
         "gridcolor": "rgba(0, 0, 0, 0.3)",
         "ticktext": [
          "0%",
          "10%",
          "20%",
          "30%",
          "40%",
          "50%",
          "60%",
          "70%",
          "80%",
          "90%",
          "100%"
         ],
         "tickvals": [
          0,
          0.1,
          0.2,
          0.3,
          0.4,
          0.5,
          0.6,
          0.7,
          0.8,
          0.9,
          1
         ],
         "title": {
          "text": "Percentage (%)"
         }
        }
       }
      }
     },
     "metadata": {},
     "output_type": "display_data"
    }
   ],
   "source": [
    "df_count = data_cross_2021.groupby(['DEMO_household_income', 'WELLNESS_life_satisfaction']).size().reset_index(name='Count')\n",
    "\n",
    "# Unique sort to preserve the order of life satisfaction while also sorting the household income\n",
    "for value in income_categories:\n",
    "\tdf_count = pd.concat([df_count, df_count.loc[df_count['DEMO_household_income'] == value]], ignore_index=True)\n",
    "df_count = df_count.iloc[len(df_count) // 2 :]\n",
    "\n",
    "# Calculate the percentage directly in the DataFrame and scale it to 0-1\n",
    "df_count['Percentage'] = df_count.groupby('DEMO_household_income')['Count'].transform(lambda x: x / x.sum())\n",
    "\n",
    "# Create a stacked bar graph\n",
    "fig = px.bar(df_count, x='DEMO_household_income', y='Percentage', color='WELLNESS_life_satisfaction',\n",
    "             title='Percentage Bar Graph of Life Satisfaction across Household Income Brackets',\n",
    "             labels={'Percentage': 'Percentage (%)',\n",
    "                     'DEMO_household_income': 'Household Income Bracket',\n",
    "                     'WELLNESS_life_satisfaction': 'Life Satisfaction'\n",
    "                     },\n",
    "             color_continuous_scale=px.colors.sequential.Plasma,\n",
    "\t\t\t)\n",
    "\n",
    "# Update layout\n",
    "fig.update_layout(\n",
    "    barmode='stack',\n",
    "    width=1000,\n",
    "    height=500,\n",
    "    yaxis=dict(\n",
    "        tickvals=[i / 100 for i in range(0, 101, 10)],\n",
    "        ticktext=[f\"{i}%\" for i in range(0, 101, 10)],\n",
    "        dtick=0.1,  # Add grid lines every 10%\n",
    "        gridcolor='rgba(0, 0, 0, 0.3)'\n",
    "    ),\n",
    "\tmargin=dict(t=80, b=80, l=80, r=80),  # Reduce the margins (top, bottom, left, right)\n",
    ")\n",
    "\n",
    "# Show the figure\n",
    "fig.show()\n",
    "# fig.write_image(\"course_project_figure1.png\", format=\"png\", engine=\"kaleido\")"
   ]
  },
  {
   "cell_type": "code",
   "execution_count": 8,
   "metadata": {},
   "outputs": [
    {
     "name": "stdout",
     "output_type": "stream",
     "text": [
      "Chi-Squared Statistic: 239.87020096699212, P-value = 0.001894764733539881\n"
     ]
    }
   ],
   "source": [
    "# Create a contingency table\n",
    "contingency_table = pd.crosstab(data_cross_2021['DEMO_household_income'], \n",
    "                                 data_cross_2021['WELLNESS_life_satisfaction'])\n",
    "\n",
    "# Run the Chi-Squared Test\n",
    "chi2, p, dof, expected = stats.chi2_contingency(contingency_table)\n",
    "\n",
    "# Print the results\n",
    "print(f\"Chi-Squared Statistic: {chi2}, P-value = {p}\")"
   ]
  },
  {
   "cell_type": "code",
   "execution_count": 9,
   "metadata": {},
   "outputs": [
    {
     "name": "stdout",
     "output_type": "stream",
     "text": [
      "Simple Model Summary:\n",
      "                                 OLS Regression Results                                \n",
      "======================================================================================\n",
      "Dep. Variable:     WELLNESS_life_satisfaction   R-squared:                       0.030\n",
      "Model:                                    OLS   Adj. R-squared:                  0.021\n",
      "Method:                         Least Squares   F-statistic:                     3.457\n",
      "Date:                        Sun, 08 Dec 2024   Prob (F-statistic):           3.35e-07\n",
      "Time:                                16:00:29   Log-Likelihood:                -5158.3\n",
      "No. Observations:                        2260   AIC:                         1.036e+04\n",
      "Df Residuals:                            2239   BIC:                         1.048e+04\n",
      "Df Model:                                  20                                         \n",
      "Covariance Type:                    nonrobust                                         \n",
      "====================================================================================================================\n",
      "                                                       coef    std err          t      P>|t|      [0.025      0.975]\n",
      "--------------------------------------------------------------------------------------------------------------------\n",
      "Intercept                                            5.4069      0.198     27.327      0.000       5.019       5.795\n",
      "C(DEMO_household_income)[T.$10,000 to $19,999]       0.4485      0.249      1.802      0.072      -0.040       0.937\n",
      "C(DEMO_household_income)[T.$20,000 to $29,999]       0.3988      0.249      1.600      0.110      -0.090       0.888\n",
      "C(DEMO_household_income)[T.$30,000 to $39,999]       0.8122      0.249      3.268      0.001       0.325       1.300\n",
      "C(DEMO_household_income)[T.$40,000 to $49,999]       0.7647      0.251      3.049      0.002       0.273       1.256\n",
      "C(DEMO_household_income)[T.$50,000 to $59,999]       0.3494      0.273      1.279      0.201      -0.186       0.885\n",
      "C(DEMO_household_income)[T.$60,000 to $69,999]       0.6853      0.282      2.432      0.015       0.133       1.238\n",
      "C(DEMO_household_income)[T.$70,000 to $79,999]       0.8269      0.276      2.999      0.003       0.286       1.368\n",
      "C(DEMO_household_income)[T.$80,000 to $89,999]       0.7733      0.300      2.573      0.010       0.184       1.363\n",
      "C(DEMO_household_income)[T.$90,000 to $99,999]       0.9981      0.293      3.402      0.001       0.423       1.573\n",
      "C(DEMO_household_income)[T.$100,000 to $109,999]     1.0431      0.310      3.368      0.001       0.436       1.650\n",
      "C(DEMO_household_income)[T.$110,000 to $119,999]     1.4768      0.414      3.570      0.000       0.666       2.288\n",
      "C(DEMO_household_income)[T.$120,000 to $129,999]     1.7042      0.380      4.487      0.000       0.959       2.449\n",
      "C(DEMO_household_income)[T.$130,000 to $139,999]     1.2875      0.444      2.902      0.004       0.418       2.158\n",
      "C(DEMO_household_income)[T.$140,000 to $149,999]     1.3014      0.525      2.479      0.013       0.272       2.331\n",
      "C(DEMO_household_income)[T.$150,000 to $159,999]     1.7650      0.358      4.936      0.000       1.064       2.466\n",
      "C(DEMO_household_income)[T.$160,000 to $169,999]     1.5455      0.556      2.778      0.006       0.455       2.636\n",
      "C(DEMO_household_income)[T.$170,000 to $179,999]     2.1764      0.716      3.041      0.002       0.773       3.580\n",
      "C(DEMO_household_income)[T.$180,000 to $189,999]     1.1840      0.545      2.172      0.030       0.115       2.253\n",
      "C(DEMO_household_income)[T.$190,000 to $199,999]     1.1764      0.716      1.644      0.100      -0.227       2.580\n",
      "C(DEMO_household_income)[T.$200,000 or more]         1.2598      0.380      3.317      0.001       0.515       2.005\n",
      "==============================================================================\n",
      "Omnibus:                       86.732   Durbin-Watson:                   2.086\n",
      "Prob(Omnibus):                  0.000   Jarque-Bera (JB):               66.201\n",
      "Skew:                          -0.328   Prob(JB):                     4.21e-15\n",
      "Kurtosis:                       2.477   Cond. No.                         20.4\n",
      "==============================================================================\n",
      "\n",
      "Notes:\n",
      "[1] Standard Errors assume that the covariance matrix of the errors is correctly specified.\n"
     ]
    }
   ],
   "source": [
    "simple_model = smf.ols('WELLNESS_life_satisfaction ~ C(DEMO_household_income)', data=data_cross_2021).fit()\n",
    "print(\"Simple Model Summary:\\n\", simple_model.summary())\n",
    "\n",
    "summary_str = simple_model.summary().as_text()\n",
    "\n",
    "import matplotlib.pyplot as plt\n",
    "\n",
    "# Create a matplotlib figure\n",
    "fig, ax = plt.subplots(figsize=(10, 6))\n",
    "ax.axis(\"off\")  # Turn off the axes\n",
    "ax.text(0, 1, summary_str, fontsize=10, family=\"monospace\", verticalalignment=\"top\")  # Add text\n",
    "\n",
    "# Save the figure as an image\n",
    "plt.savefig(\"simple_model_summary.png\", bbox_inches=\"tight\", dpi=300)\n",
    "plt.close()"
   ]
  },
  {
   "cell_type": "code",
   "execution_count": 10,
   "metadata": {},
   "outputs": [
    {
     "data": {
      "application/vnd.plotly.v1+json": {
       "config": {
        "plotlyServerURL": "https://plot.ly"
       },
       "data": [
        {
         "hovertemplate": "Household Income Bracket=%{x}<br>Correlation P-value=%{y}<extra></extra>",
         "legendgroup": "",
         "marker": {
          "color": "#636efa",
          "symbol": "circle"
         },
         "mode": "markers",
         "name": "",
         "orientation": "v",
         "showlegend": false,
         "type": "scatter",
         "x": [
          "$10,000 to $19,999",
          "$20,000 to $29,999",
          "$30,000 to $39,999",
          "$40,000 to $49,999",
          "$50,000 to $59,999",
          "$60,000 to $69,999",
          "$70,000 to $79,999",
          "$80,000 to $89,999",
          "$90,000 to $99,999",
          "$100,000 to $109,999",
          "$110,000 to $119,999",
          "$120,000 to $129,999",
          "$130,000 to $139,999",
          "$140,000 to $149,999",
          "$150,000 to $159,999",
          "$160,000 to $169,999",
          "$170,000 to $179,999",
          "$180,000 to $189,999",
          "$190,000 to $199,999",
          "$200,000 or more"
         ],
         "xaxis": "x",
         "y": [
          0.07166694852000449,
          0.10978401284044687,
          0.0010988804138070151,
          0.0023242337308608412,
          0.20109100768028926,
          0.015097996647522241,
          0.002737178274614313,
          0.010132695083001278,
          0.0006804802226404109,
          0.0007697871848512567,
          0.0003650429099555053,
          0.000007598206069497699,
          0.00374298245544096,
          0.013259889220376252,
          8.553443936991283e-7,
          0.005512448120483656,
          0.0023849060472470184,
          0.029965661790756347,
          0.10036055384782891,
          0.00092564071602523
         ],
         "yaxis": "y"
        },
        {
         "line": {
          "color": "skyblue",
          "width": 2
         },
         "mode": "lines",
         "showlegend": false,
         "type": "scatter",
         "x": [
          "$10,000 to $19,999",
          "$20,000 to $29,999",
          "$30,000 to $39,999",
          "$40,000 to $49,999",
          "$50,000 to $59,999",
          "$60,000 to $69,999",
          "$70,000 to $79,999",
          "$80,000 to $89,999",
          "$90,000 to $99,999",
          "$100,000 to $109,999",
          "$110,000 to $119,999",
          "$120,000 to $129,999",
          "$130,000 to $139,999",
          "$140,000 to $149,999",
          "$150,000 to $159,999",
          "$160,000 to $169,999",
          "$170,000 to $179,999",
          "$180,000 to $189,999",
          "$190,000 to $199,999",
          "$200,000 or more"
         ],
         "y": [
          0.07166694852000449,
          0.10978401284044687,
          0.0010988804138070151,
          0.0023242337308608412,
          0.20109100768028926,
          0.015097996647522241,
          0.002737178274614313,
          0.010132695083001278,
          0.0006804802226404109,
          0.0007697871848512567,
          0.0003650429099555053,
          0.000007598206069497699,
          0.00374298245544096,
          0.013259889220376252,
          8.553443936991283e-7,
          0.005512448120483656,
          0.0023849060472470184,
          0.029965661790756347,
          0.10036055384782891,
          0.00092564071602523
         ]
        }
       ],
       "layout": {
        "annotations": [
         {
          "showarrow": false,
          "text": "Significance Threshold (0.05)",
          "x": 1,
          "xanchor": "right",
          "xref": "x domain",
          "y": 0.05,
          "yanchor": "top",
          "yref": "y"
         }
        ],
        "height": 500,
        "legend": {
         "tracegroupgap": 0
        },
        "margin": {
         "b": 40,
         "l": 40,
         "r": 40,
         "t": 40
        },
        "shapes": [
         {
          "line": {
           "color": "red",
           "dash": "dash"
          },
          "type": "line",
          "x0": 0,
          "x1": 1,
          "xref": "x domain",
          "y0": 0.05,
          "y1": 0.05,
          "yref": "y"
         }
        ],
        "template": {
         "data": {
          "bar": [
           {
            "error_x": {
             "color": "#2a3f5f"
            },
            "error_y": {
             "color": "#2a3f5f"
            },
            "marker": {
             "line": {
              "color": "#E5ECF6",
              "width": 0.5
             },
             "pattern": {
              "fillmode": "overlay",
              "size": 10,
              "solidity": 0.2
             }
            },
            "type": "bar"
           }
          ],
          "barpolar": [
           {
            "marker": {
             "line": {
              "color": "#E5ECF6",
              "width": 0.5
             },
             "pattern": {
              "fillmode": "overlay",
              "size": 10,
              "solidity": 0.2
             }
            },
            "type": "barpolar"
           }
          ],
          "carpet": [
           {
            "aaxis": {
             "endlinecolor": "#2a3f5f",
             "gridcolor": "white",
             "linecolor": "white",
             "minorgridcolor": "white",
             "startlinecolor": "#2a3f5f"
            },
            "baxis": {
             "endlinecolor": "#2a3f5f",
             "gridcolor": "white",
             "linecolor": "white",
             "minorgridcolor": "white",
             "startlinecolor": "#2a3f5f"
            },
            "type": "carpet"
           }
          ],
          "choropleth": [
           {
            "colorbar": {
             "outlinewidth": 0,
             "ticks": ""
            },
            "type": "choropleth"
           }
          ],
          "contour": [
           {
            "colorbar": {
             "outlinewidth": 0,
             "ticks": ""
            },
            "colorscale": [
             [
              0,
              "#0d0887"
             ],
             [
              0.1111111111111111,
              "#46039f"
             ],
             [
              0.2222222222222222,
              "#7201a8"
             ],
             [
              0.3333333333333333,
              "#9c179e"
             ],
             [
              0.4444444444444444,
              "#bd3786"
             ],
             [
              0.5555555555555556,
              "#d8576b"
             ],
             [
              0.6666666666666666,
              "#ed7953"
             ],
             [
              0.7777777777777778,
              "#fb9f3a"
             ],
             [
              0.8888888888888888,
              "#fdca26"
             ],
             [
              1,
              "#f0f921"
             ]
            ],
            "type": "contour"
           }
          ],
          "contourcarpet": [
           {
            "colorbar": {
             "outlinewidth": 0,
             "ticks": ""
            },
            "type": "contourcarpet"
           }
          ],
          "heatmap": [
           {
            "colorbar": {
             "outlinewidth": 0,
             "ticks": ""
            },
            "colorscale": [
             [
              0,
              "#0d0887"
             ],
             [
              0.1111111111111111,
              "#46039f"
             ],
             [
              0.2222222222222222,
              "#7201a8"
             ],
             [
              0.3333333333333333,
              "#9c179e"
             ],
             [
              0.4444444444444444,
              "#bd3786"
             ],
             [
              0.5555555555555556,
              "#d8576b"
             ],
             [
              0.6666666666666666,
              "#ed7953"
             ],
             [
              0.7777777777777778,
              "#fb9f3a"
             ],
             [
              0.8888888888888888,
              "#fdca26"
             ],
             [
              1,
              "#f0f921"
             ]
            ],
            "type": "heatmap"
           }
          ],
          "heatmapgl": [
           {
            "colorbar": {
             "outlinewidth": 0,
             "ticks": ""
            },
            "colorscale": [
             [
              0,
              "#0d0887"
             ],
             [
              0.1111111111111111,
              "#46039f"
             ],
             [
              0.2222222222222222,
              "#7201a8"
             ],
             [
              0.3333333333333333,
              "#9c179e"
             ],
             [
              0.4444444444444444,
              "#bd3786"
             ],
             [
              0.5555555555555556,
              "#d8576b"
             ],
             [
              0.6666666666666666,
              "#ed7953"
             ],
             [
              0.7777777777777778,
              "#fb9f3a"
             ],
             [
              0.8888888888888888,
              "#fdca26"
             ],
             [
              1,
              "#f0f921"
             ]
            ],
            "type": "heatmapgl"
           }
          ],
          "histogram": [
           {
            "marker": {
             "pattern": {
              "fillmode": "overlay",
              "size": 10,
              "solidity": 0.2
             }
            },
            "type": "histogram"
           }
          ],
          "histogram2d": [
           {
            "colorbar": {
             "outlinewidth": 0,
             "ticks": ""
            },
            "colorscale": [
             [
              0,
              "#0d0887"
             ],
             [
              0.1111111111111111,
              "#46039f"
             ],
             [
              0.2222222222222222,
              "#7201a8"
             ],
             [
              0.3333333333333333,
              "#9c179e"
             ],
             [
              0.4444444444444444,
              "#bd3786"
             ],
             [
              0.5555555555555556,
              "#d8576b"
             ],
             [
              0.6666666666666666,
              "#ed7953"
             ],
             [
              0.7777777777777778,
              "#fb9f3a"
             ],
             [
              0.8888888888888888,
              "#fdca26"
             ],
             [
              1,
              "#f0f921"
             ]
            ],
            "type": "histogram2d"
           }
          ],
          "histogram2dcontour": [
           {
            "colorbar": {
             "outlinewidth": 0,
             "ticks": ""
            },
            "colorscale": [
             [
              0,
              "#0d0887"
             ],
             [
              0.1111111111111111,
              "#46039f"
             ],
             [
              0.2222222222222222,
              "#7201a8"
             ],
             [
              0.3333333333333333,
              "#9c179e"
             ],
             [
              0.4444444444444444,
              "#bd3786"
             ],
             [
              0.5555555555555556,
              "#d8576b"
             ],
             [
              0.6666666666666666,
              "#ed7953"
             ],
             [
              0.7777777777777778,
              "#fb9f3a"
             ],
             [
              0.8888888888888888,
              "#fdca26"
             ],
             [
              1,
              "#f0f921"
             ]
            ],
            "type": "histogram2dcontour"
           }
          ],
          "mesh3d": [
           {
            "colorbar": {
             "outlinewidth": 0,
             "ticks": ""
            },
            "type": "mesh3d"
           }
          ],
          "parcoords": [
           {
            "line": {
             "colorbar": {
              "outlinewidth": 0,
              "ticks": ""
             }
            },
            "type": "parcoords"
           }
          ],
          "pie": [
           {
            "automargin": true,
            "type": "pie"
           }
          ],
          "scatter": [
           {
            "fillpattern": {
             "fillmode": "overlay",
             "size": 10,
             "solidity": 0.2
            },
            "type": "scatter"
           }
          ],
          "scatter3d": [
           {
            "line": {
             "colorbar": {
              "outlinewidth": 0,
              "ticks": ""
             }
            },
            "marker": {
             "colorbar": {
              "outlinewidth": 0,
              "ticks": ""
             }
            },
            "type": "scatter3d"
           }
          ],
          "scattercarpet": [
           {
            "marker": {
             "colorbar": {
              "outlinewidth": 0,
              "ticks": ""
             }
            },
            "type": "scattercarpet"
           }
          ],
          "scattergeo": [
           {
            "marker": {
             "colorbar": {
              "outlinewidth": 0,
              "ticks": ""
             }
            },
            "type": "scattergeo"
           }
          ],
          "scattergl": [
           {
            "marker": {
             "colorbar": {
              "outlinewidth": 0,
              "ticks": ""
             }
            },
            "type": "scattergl"
           }
          ],
          "scattermapbox": [
           {
            "marker": {
             "colorbar": {
              "outlinewidth": 0,
              "ticks": ""
             }
            },
            "type": "scattermapbox"
           }
          ],
          "scatterpolar": [
           {
            "marker": {
             "colorbar": {
              "outlinewidth": 0,
              "ticks": ""
             }
            },
            "type": "scatterpolar"
           }
          ],
          "scatterpolargl": [
           {
            "marker": {
             "colorbar": {
              "outlinewidth": 0,
              "ticks": ""
             }
            },
            "type": "scatterpolargl"
           }
          ],
          "scatterternary": [
           {
            "marker": {
             "colorbar": {
              "outlinewidth": 0,
              "ticks": ""
             }
            },
            "type": "scatterternary"
           }
          ],
          "surface": [
           {
            "colorbar": {
             "outlinewidth": 0,
             "ticks": ""
            },
            "colorscale": [
             [
              0,
              "#0d0887"
             ],
             [
              0.1111111111111111,
              "#46039f"
             ],
             [
              0.2222222222222222,
              "#7201a8"
             ],
             [
              0.3333333333333333,
              "#9c179e"
             ],
             [
              0.4444444444444444,
              "#bd3786"
             ],
             [
              0.5555555555555556,
              "#d8576b"
             ],
             [
              0.6666666666666666,
              "#ed7953"
             ],
             [
              0.7777777777777778,
              "#fb9f3a"
             ],
             [
              0.8888888888888888,
              "#fdca26"
             ],
             [
              1,
              "#f0f921"
             ]
            ],
            "type": "surface"
           }
          ],
          "table": [
           {
            "cells": {
             "fill": {
              "color": "#EBF0F8"
             },
             "line": {
              "color": "white"
             }
            },
            "header": {
             "fill": {
              "color": "#C8D4E3"
             },
             "line": {
              "color": "white"
             }
            },
            "type": "table"
           }
          ]
         },
         "layout": {
          "annotationdefaults": {
           "arrowcolor": "#2a3f5f",
           "arrowhead": 0,
           "arrowwidth": 1
          },
          "autotypenumbers": "strict",
          "coloraxis": {
           "colorbar": {
            "outlinewidth": 0,
            "ticks": ""
           }
          },
          "colorscale": {
           "diverging": [
            [
             0,
             "#8e0152"
            ],
            [
             0.1,
             "#c51b7d"
            ],
            [
             0.2,
             "#de77ae"
            ],
            [
             0.3,
             "#f1b6da"
            ],
            [
             0.4,
             "#fde0ef"
            ],
            [
             0.5,
             "#f7f7f7"
            ],
            [
             0.6,
             "#e6f5d0"
            ],
            [
             0.7,
             "#b8e186"
            ],
            [
             0.8,
             "#7fbc41"
            ],
            [
             0.9,
             "#4d9221"
            ],
            [
             1,
             "#276419"
            ]
           ],
           "sequential": [
            [
             0,
             "#0d0887"
            ],
            [
             0.1111111111111111,
             "#46039f"
            ],
            [
             0.2222222222222222,
             "#7201a8"
            ],
            [
             0.3333333333333333,
             "#9c179e"
            ],
            [
             0.4444444444444444,
             "#bd3786"
            ],
            [
             0.5555555555555556,
             "#d8576b"
            ],
            [
             0.6666666666666666,
             "#ed7953"
            ],
            [
             0.7777777777777778,
             "#fb9f3a"
            ],
            [
             0.8888888888888888,
             "#fdca26"
            ],
            [
             1,
             "#f0f921"
            ]
           ],
           "sequentialminus": [
            [
             0,
             "#0d0887"
            ],
            [
             0.1111111111111111,
             "#46039f"
            ],
            [
             0.2222222222222222,
             "#7201a8"
            ],
            [
             0.3333333333333333,
             "#9c179e"
            ],
            [
             0.4444444444444444,
             "#bd3786"
            ],
            [
             0.5555555555555556,
             "#d8576b"
            ],
            [
             0.6666666666666666,
             "#ed7953"
            ],
            [
             0.7777777777777778,
             "#fb9f3a"
            ],
            [
             0.8888888888888888,
             "#fdca26"
            ],
            [
             1,
             "#f0f921"
            ]
           ]
          },
          "colorway": [
           "#636efa",
           "#EF553B",
           "#00cc96",
           "#ab63fa",
           "#FFA15A",
           "#19d3f3",
           "#FF6692",
           "#B6E880",
           "#FF97FF",
           "#FECB52"
          ],
          "font": {
           "color": "#2a3f5f"
          },
          "geo": {
           "bgcolor": "white",
           "lakecolor": "white",
           "landcolor": "#E5ECF6",
           "showlakes": true,
           "showland": true,
           "subunitcolor": "white"
          },
          "hoverlabel": {
           "align": "left"
          },
          "hovermode": "closest",
          "mapbox": {
           "style": "light"
          },
          "paper_bgcolor": "white",
          "plot_bgcolor": "#E5ECF6",
          "polar": {
           "angularaxis": {
            "gridcolor": "white",
            "linecolor": "white",
            "ticks": ""
           },
           "bgcolor": "#E5ECF6",
           "radialaxis": {
            "gridcolor": "white",
            "linecolor": "white",
            "ticks": ""
           }
          },
          "scene": {
           "xaxis": {
            "backgroundcolor": "#E5ECF6",
            "gridcolor": "white",
            "gridwidth": 2,
            "linecolor": "white",
            "showbackground": true,
            "ticks": "",
            "zerolinecolor": "white"
           },
           "yaxis": {
            "backgroundcolor": "#E5ECF6",
            "gridcolor": "white",
            "gridwidth": 2,
            "linecolor": "white",
            "showbackground": true,
            "ticks": "",
            "zerolinecolor": "white"
           },
           "zaxis": {
            "backgroundcolor": "#E5ECF6",
            "gridcolor": "white",
            "gridwidth": 2,
            "linecolor": "white",
            "showbackground": true,
            "ticks": "",
            "zerolinecolor": "white"
           }
          },
          "shapedefaults": {
           "line": {
            "color": "#2a3f5f"
           }
          },
          "ternary": {
           "aaxis": {
            "gridcolor": "white",
            "linecolor": "white",
            "ticks": ""
           },
           "baxis": {
            "gridcolor": "white",
            "linecolor": "white",
            "ticks": ""
           },
           "bgcolor": "#E5ECF6",
           "caxis": {
            "gridcolor": "white",
            "linecolor": "white",
            "ticks": ""
           }
          },
          "title": {
           "x": 0.05
          },
          "xaxis": {
           "automargin": true,
           "gridcolor": "white",
           "linecolor": "white",
           "ticks": "",
           "title": {
            "standoff": 15
           },
           "zerolinecolor": "white",
           "zerolinewidth": 2
          },
          "yaxis": {
           "automargin": true,
           "gridcolor": "white",
           "linecolor": "white",
           "ticks": "",
           "title": {
            "standoff": 15
           },
           "zerolinecolor": "white",
           "zerolinewidth": 2
          }
         }
        },
        "title": {
         "text": "Correlation P-values for Household Income Brackets"
        },
        "width": 800,
        "xaxis": {
         "anchor": "y",
         "domain": [
          0,
          1
         ],
         "title": {
          "text": "Household Income Bracket"
         }
        },
        "yaxis": {
         "anchor": "x",
         "domain": [
          0,
          1
         ],
         "title": {
          "text": "Correlation P-value"
         }
        }
       }
      }
     },
     "metadata": {},
     "output_type": "display_data"
    }
   ],
   "source": [
    "p_values = simple_model.pvalues.drop('Intercept')\n",
    "\n",
    "plot_data = pd.DataFrame({'Household Income Bracket': income_categories[1:], 'Correlation P-value': p_values.values})\n",
    "\n",
    "fig = px.scatter(\n",
    "    plot_data,\n",
    "    x='Household Income Bracket',\n",
    "    y='Correlation P-value',\n",
    "    title='Correlation P-values for Household Income Brackets',\n",
    ")\n",
    "\n",
    "fig.add_scatter(\n",
    "    x=plot_data['Household Income Bracket'],\n",
    "    y=plot_data['Correlation P-value'],\n",
    "    mode='lines',\n",
    "    line=dict(color='skyblue', width=2),\n",
    "    showlegend=False,\n",
    ")\n",
    "\n",
    "fig.add_hline(\n",
    "    y=0.05,\n",
    "    line_dash=\"dash\",\n",
    "    line_color=\"red\",\n",
    "    annotation_text=\"Significance Threshold (0.05)\",\n",
    "    annotation_position=\"bottom right\"\n",
    ")\n",
    "\n",
    "# Modify the x-axis scale to show more numbers\n",
    "fig.update_layout(\n",
    "\twidth=800,\n",
    "\theight=500,\n",
    "\tmargin=dict(t=40, b=40, l=40, r=40)  # Reduce the margins (top, bottom, left, right)\n",
    ")\n",
    "\n",
    "# Render the plot\n",
    "fig.show()\n"
   ]
  },
  {
   "cell_type": "code",
   "execution_count": 11,
   "metadata": {},
   "outputs": [
    {
     "data": {
      "application/vnd.plotly.v1+json": {
       "config": {
        "plotlyServerURL": "https://plot.ly"
       },
       "data": [
        {
         "error_y": {
          "array": [
           0.48808464848343663,
           0.4888113344869368,
           0.4873684853797893,
           0.4918281391159953,
           0.5357184938623326,
           0.5526118214189764,
           0.5406571423029928,
           0.5892576156155119,
           0.5753006225465056,
           0.6073370183563405,
           0.8113185534816405,
           0.7448629438592826,
           0.8700310414206758,
           1.029637715357592,
           0.7011805599599263,
           1.090915487741614,
           1.4034789846807731,
           1.069039139912298,
           1.4034789846807882,
           0.7448629438592909
          ],
          "arrayminus": [
           0.48808464848343663,
           0.4888113344869368,
           0.48736848537978933,
           0.4918281391159954,
           0.5357184938623326,
           0.5526118214189764,
           0.5406571423029928,
           0.589257615615512,
           0.5753006225465056,
           0.6073370183563405,
           0.8113185534816403,
           0.7448629438592828,
           0.8700310414206757,
           1.029637715357592,
           0.7011805599599263,
           1.090915487741614,
           1.4034789846807731,
           1.069039139912298,
           1.4034789846807882,
           0.7448629438592907
          ]
         },
         "hovertemplate": "Household Income Bracket=%{x}<br>Correlation Coefficient=%{y}<extra></extra>",
         "legendgroup": "",
         "marker": {
          "color": "#636efa",
          "symbol": "circle"
         },
         "mode": "markers",
         "name": "",
         "orientation": "v",
         "showlegend": false,
         "type": "scatter",
         "x": [
          "$10,000 to $19,999",
          "$20,000 to $29,999",
          "$30,000 to $39,999",
          "$40,000 to $49,999",
          "$50,000 to $59,999",
          "$60,000 to $69,999",
          "$70,000 to $79,999",
          "$80,000 to $89,999",
          "$90,000 to $99,999",
          "$100,000 to $109,999",
          "$110,000 to $119,999",
          "$120,000 to $129,999",
          "$130,000 to $139,999",
          "$140,000 to $149,999",
          "$150,000 to $159,999",
          "$160,000 to $169,999",
          "$170,000 to $179,999",
          "$180,000 to $189,999",
          "$190,000 to $199,999",
          "$200,000 or more"
         ],
         "xaxis": "x",
         "y": [
          0.44852513502284347,
          0.39877146447022094,
          0.8122269542519951,
          0.764651565430672,
          0.34935344827588366,
          0.6853020298361681,
          0.826869682042101,
          0.7732836284560339,
          0.9980621259618334,
          1.0431034482758974,
          1.476824378508439,
          1.7042145593869744,
          1.2875478927202986,
          1.301436781609191,
          1.7649784482758748,
          1.5454844006568318,
          2.1764367816091736,
          1.1840125391849494,
          1.1764367816092025,
          1.2597701149425322
         ],
         "yaxis": "y"
        }
       ],
       "layout": {
        "annotations": [
         {
          "showarrow": false,
          "text": "No Correlation",
          "x": 0,
          "xanchor": "left",
          "xref": "x domain",
          "y": 0,
          "yanchor": "top",
          "yref": "y"
         }
        ],
        "height": 500,
        "legend": {
         "tracegroupgap": 0
        },
        "margin": {
         "b": 80,
         "l": 80,
         "r": 80,
         "t": 80
        },
        "shapes": [
         {
          "line": {
           "color": "red",
           "dash": "dash"
          },
          "type": "line",
          "x0": 0,
          "x1": 1,
          "xref": "x domain",
          "y0": 0,
          "y1": 0,
          "yref": "y"
         }
        ],
        "template": {
         "data": {
          "bar": [
           {
            "error_x": {
             "color": "#2a3f5f"
            },
            "error_y": {
             "color": "#2a3f5f"
            },
            "marker": {
             "line": {
              "color": "#E5ECF6",
              "width": 0.5
             },
             "pattern": {
              "fillmode": "overlay",
              "size": 10,
              "solidity": 0.2
             }
            },
            "type": "bar"
           }
          ],
          "barpolar": [
           {
            "marker": {
             "line": {
              "color": "#E5ECF6",
              "width": 0.5
             },
             "pattern": {
              "fillmode": "overlay",
              "size": 10,
              "solidity": 0.2
             }
            },
            "type": "barpolar"
           }
          ],
          "carpet": [
           {
            "aaxis": {
             "endlinecolor": "#2a3f5f",
             "gridcolor": "white",
             "linecolor": "white",
             "minorgridcolor": "white",
             "startlinecolor": "#2a3f5f"
            },
            "baxis": {
             "endlinecolor": "#2a3f5f",
             "gridcolor": "white",
             "linecolor": "white",
             "minorgridcolor": "white",
             "startlinecolor": "#2a3f5f"
            },
            "type": "carpet"
           }
          ],
          "choropleth": [
           {
            "colorbar": {
             "outlinewidth": 0,
             "ticks": ""
            },
            "type": "choropleth"
           }
          ],
          "contour": [
           {
            "colorbar": {
             "outlinewidth": 0,
             "ticks": ""
            },
            "colorscale": [
             [
              0,
              "#0d0887"
             ],
             [
              0.1111111111111111,
              "#46039f"
             ],
             [
              0.2222222222222222,
              "#7201a8"
             ],
             [
              0.3333333333333333,
              "#9c179e"
             ],
             [
              0.4444444444444444,
              "#bd3786"
             ],
             [
              0.5555555555555556,
              "#d8576b"
             ],
             [
              0.6666666666666666,
              "#ed7953"
             ],
             [
              0.7777777777777778,
              "#fb9f3a"
             ],
             [
              0.8888888888888888,
              "#fdca26"
             ],
             [
              1,
              "#f0f921"
             ]
            ],
            "type": "contour"
           }
          ],
          "contourcarpet": [
           {
            "colorbar": {
             "outlinewidth": 0,
             "ticks": ""
            },
            "type": "contourcarpet"
           }
          ],
          "heatmap": [
           {
            "colorbar": {
             "outlinewidth": 0,
             "ticks": ""
            },
            "colorscale": [
             [
              0,
              "#0d0887"
             ],
             [
              0.1111111111111111,
              "#46039f"
             ],
             [
              0.2222222222222222,
              "#7201a8"
             ],
             [
              0.3333333333333333,
              "#9c179e"
             ],
             [
              0.4444444444444444,
              "#bd3786"
             ],
             [
              0.5555555555555556,
              "#d8576b"
             ],
             [
              0.6666666666666666,
              "#ed7953"
             ],
             [
              0.7777777777777778,
              "#fb9f3a"
             ],
             [
              0.8888888888888888,
              "#fdca26"
             ],
             [
              1,
              "#f0f921"
             ]
            ],
            "type": "heatmap"
           }
          ],
          "heatmapgl": [
           {
            "colorbar": {
             "outlinewidth": 0,
             "ticks": ""
            },
            "colorscale": [
             [
              0,
              "#0d0887"
             ],
             [
              0.1111111111111111,
              "#46039f"
             ],
             [
              0.2222222222222222,
              "#7201a8"
             ],
             [
              0.3333333333333333,
              "#9c179e"
             ],
             [
              0.4444444444444444,
              "#bd3786"
             ],
             [
              0.5555555555555556,
              "#d8576b"
             ],
             [
              0.6666666666666666,
              "#ed7953"
             ],
             [
              0.7777777777777778,
              "#fb9f3a"
             ],
             [
              0.8888888888888888,
              "#fdca26"
             ],
             [
              1,
              "#f0f921"
             ]
            ],
            "type": "heatmapgl"
           }
          ],
          "histogram": [
           {
            "marker": {
             "pattern": {
              "fillmode": "overlay",
              "size": 10,
              "solidity": 0.2
             }
            },
            "type": "histogram"
           }
          ],
          "histogram2d": [
           {
            "colorbar": {
             "outlinewidth": 0,
             "ticks": ""
            },
            "colorscale": [
             [
              0,
              "#0d0887"
             ],
             [
              0.1111111111111111,
              "#46039f"
             ],
             [
              0.2222222222222222,
              "#7201a8"
             ],
             [
              0.3333333333333333,
              "#9c179e"
             ],
             [
              0.4444444444444444,
              "#bd3786"
             ],
             [
              0.5555555555555556,
              "#d8576b"
             ],
             [
              0.6666666666666666,
              "#ed7953"
             ],
             [
              0.7777777777777778,
              "#fb9f3a"
             ],
             [
              0.8888888888888888,
              "#fdca26"
             ],
             [
              1,
              "#f0f921"
             ]
            ],
            "type": "histogram2d"
           }
          ],
          "histogram2dcontour": [
           {
            "colorbar": {
             "outlinewidth": 0,
             "ticks": ""
            },
            "colorscale": [
             [
              0,
              "#0d0887"
             ],
             [
              0.1111111111111111,
              "#46039f"
             ],
             [
              0.2222222222222222,
              "#7201a8"
             ],
             [
              0.3333333333333333,
              "#9c179e"
             ],
             [
              0.4444444444444444,
              "#bd3786"
             ],
             [
              0.5555555555555556,
              "#d8576b"
             ],
             [
              0.6666666666666666,
              "#ed7953"
             ],
             [
              0.7777777777777778,
              "#fb9f3a"
             ],
             [
              0.8888888888888888,
              "#fdca26"
             ],
             [
              1,
              "#f0f921"
             ]
            ],
            "type": "histogram2dcontour"
           }
          ],
          "mesh3d": [
           {
            "colorbar": {
             "outlinewidth": 0,
             "ticks": ""
            },
            "type": "mesh3d"
           }
          ],
          "parcoords": [
           {
            "line": {
             "colorbar": {
              "outlinewidth": 0,
              "ticks": ""
             }
            },
            "type": "parcoords"
           }
          ],
          "pie": [
           {
            "automargin": true,
            "type": "pie"
           }
          ],
          "scatter": [
           {
            "fillpattern": {
             "fillmode": "overlay",
             "size": 10,
             "solidity": 0.2
            },
            "type": "scatter"
           }
          ],
          "scatter3d": [
           {
            "line": {
             "colorbar": {
              "outlinewidth": 0,
              "ticks": ""
             }
            },
            "marker": {
             "colorbar": {
              "outlinewidth": 0,
              "ticks": ""
             }
            },
            "type": "scatter3d"
           }
          ],
          "scattercarpet": [
           {
            "marker": {
             "colorbar": {
              "outlinewidth": 0,
              "ticks": ""
             }
            },
            "type": "scattercarpet"
           }
          ],
          "scattergeo": [
           {
            "marker": {
             "colorbar": {
              "outlinewidth": 0,
              "ticks": ""
             }
            },
            "type": "scattergeo"
           }
          ],
          "scattergl": [
           {
            "marker": {
             "colorbar": {
              "outlinewidth": 0,
              "ticks": ""
             }
            },
            "type": "scattergl"
           }
          ],
          "scattermapbox": [
           {
            "marker": {
             "colorbar": {
              "outlinewidth": 0,
              "ticks": ""
             }
            },
            "type": "scattermapbox"
           }
          ],
          "scatterpolar": [
           {
            "marker": {
             "colorbar": {
              "outlinewidth": 0,
              "ticks": ""
             }
            },
            "type": "scatterpolar"
           }
          ],
          "scatterpolargl": [
           {
            "marker": {
             "colorbar": {
              "outlinewidth": 0,
              "ticks": ""
             }
            },
            "type": "scatterpolargl"
           }
          ],
          "scatterternary": [
           {
            "marker": {
             "colorbar": {
              "outlinewidth": 0,
              "ticks": ""
             }
            },
            "type": "scatterternary"
           }
          ],
          "surface": [
           {
            "colorbar": {
             "outlinewidth": 0,
             "ticks": ""
            },
            "colorscale": [
             [
              0,
              "#0d0887"
             ],
             [
              0.1111111111111111,
              "#46039f"
             ],
             [
              0.2222222222222222,
              "#7201a8"
             ],
             [
              0.3333333333333333,
              "#9c179e"
             ],
             [
              0.4444444444444444,
              "#bd3786"
             ],
             [
              0.5555555555555556,
              "#d8576b"
             ],
             [
              0.6666666666666666,
              "#ed7953"
             ],
             [
              0.7777777777777778,
              "#fb9f3a"
             ],
             [
              0.8888888888888888,
              "#fdca26"
             ],
             [
              1,
              "#f0f921"
             ]
            ],
            "type": "surface"
           }
          ],
          "table": [
           {
            "cells": {
             "fill": {
              "color": "#EBF0F8"
             },
             "line": {
              "color": "white"
             }
            },
            "header": {
             "fill": {
              "color": "#C8D4E3"
             },
             "line": {
              "color": "white"
             }
            },
            "type": "table"
           }
          ]
         },
         "layout": {
          "annotationdefaults": {
           "arrowcolor": "#2a3f5f",
           "arrowhead": 0,
           "arrowwidth": 1
          },
          "autotypenumbers": "strict",
          "coloraxis": {
           "colorbar": {
            "outlinewidth": 0,
            "ticks": ""
           }
          },
          "colorscale": {
           "diverging": [
            [
             0,
             "#8e0152"
            ],
            [
             0.1,
             "#c51b7d"
            ],
            [
             0.2,
             "#de77ae"
            ],
            [
             0.3,
             "#f1b6da"
            ],
            [
             0.4,
             "#fde0ef"
            ],
            [
             0.5,
             "#f7f7f7"
            ],
            [
             0.6,
             "#e6f5d0"
            ],
            [
             0.7,
             "#b8e186"
            ],
            [
             0.8,
             "#7fbc41"
            ],
            [
             0.9,
             "#4d9221"
            ],
            [
             1,
             "#276419"
            ]
           ],
           "sequential": [
            [
             0,
             "#0d0887"
            ],
            [
             0.1111111111111111,
             "#46039f"
            ],
            [
             0.2222222222222222,
             "#7201a8"
            ],
            [
             0.3333333333333333,
             "#9c179e"
            ],
            [
             0.4444444444444444,
             "#bd3786"
            ],
            [
             0.5555555555555556,
             "#d8576b"
            ],
            [
             0.6666666666666666,
             "#ed7953"
            ],
            [
             0.7777777777777778,
             "#fb9f3a"
            ],
            [
             0.8888888888888888,
             "#fdca26"
            ],
            [
             1,
             "#f0f921"
            ]
           ],
           "sequentialminus": [
            [
             0,
             "#0d0887"
            ],
            [
             0.1111111111111111,
             "#46039f"
            ],
            [
             0.2222222222222222,
             "#7201a8"
            ],
            [
             0.3333333333333333,
             "#9c179e"
            ],
            [
             0.4444444444444444,
             "#bd3786"
            ],
            [
             0.5555555555555556,
             "#d8576b"
            ],
            [
             0.6666666666666666,
             "#ed7953"
            ],
            [
             0.7777777777777778,
             "#fb9f3a"
            ],
            [
             0.8888888888888888,
             "#fdca26"
            ],
            [
             1,
             "#f0f921"
            ]
           ]
          },
          "colorway": [
           "#636efa",
           "#EF553B",
           "#00cc96",
           "#ab63fa",
           "#FFA15A",
           "#19d3f3",
           "#FF6692",
           "#B6E880",
           "#FF97FF",
           "#FECB52"
          ],
          "font": {
           "color": "#2a3f5f"
          },
          "geo": {
           "bgcolor": "white",
           "lakecolor": "white",
           "landcolor": "#E5ECF6",
           "showlakes": true,
           "showland": true,
           "subunitcolor": "white"
          },
          "hoverlabel": {
           "align": "left"
          },
          "hovermode": "closest",
          "mapbox": {
           "style": "light"
          },
          "paper_bgcolor": "white",
          "plot_bgcolor": "#E5ECF6",
          "polar": {
           "angularaxis": {
            "gridcolor": "white",
            "linecolor": "white",
            "ticks": ""
           },
           "bgcolor": "#E5ECF6",
           "radialaxis": {
            "gridcolor": "white",
            "linecolor": "white",
            "ticks": ""
           }
          },
          "scene": {
           "xaxis": {
            "backgroundcolor": "#E5ECF6",
            "gridcolor": "white",
            "gridwidth": 2,
            "linecolor": "white",
            "showbackground": true,
            "ticks": "",
            "zerolinecolor": "white"
           },
           "yaxis": {
            "backgroundcolor": "#E5ECF6",
            "gridcolor": "white",
            "gridwidth": 2,
            "linecolor": "white",
            "showbackground": true,
            "ticks": "",
            "zerolinecolor": "white"
           },
           "zaxis": {
            "backgroundcolor": "#E5ECF6",
            "gridcolor": "white",
            "gridwidth": 2,
            "linecolor": "white",
            "showbackground": true,
            "ticks": "",
            "zerolinecolor": "white"
           }
          },
          "shapedefaults": {
           "line": {
            "color": "#2a3f5f"
           }
          },
          "ternary": {
           "aaxis": {
            "gridcolor": "white",
            "linecolor": "white",
            "ticks": ""
           },
           "baxis": {
            "gridcolor": "white",
            "linecolor": "white",
            "ticks": ""
           },
           "bgcolor": "#E5ECF6",
           "caxis": {
            "gridcolor": "white",
            "linecolor": "white",
            "ticks": ""
           }
          },
          "title": {
           "x": 0.05
          },
          "xaxis": {
           "automargin": true,
           "gridcolor": "white",
           "linecolor": "white",
           "ticks": "",
           "title": {
            "standoff": 15
           },
           "zerolinecolor": "white",
           "zerolinewidth": 2
          },
          "yaxis": {
           "automargin": true,
           "gridcolor": "white",
           "linecolor": "white",
           "ticks": "",
           "title": {
            "standoff": 15
           },
           "zerolinecolor": "white",
           "zerolinewidth": 2
          }
         }
        },
        "title": {
         "text": "Correlation Coefficient (with CI) for Household Income Brackets"
        },
        "width": 800,
        "xaxis": {
         "anchor": "y",
         "automargin": true,
         "domain": [
          0,
          1
         ],
         "title": {
          "text": "Household Income Bracket"
         }
        },
        "yaxis": {
         "anchor": "x",
         "automargin": true,
         "domain": [
          0,
          1
         ],
         "dtick": 0.5,
         "tick0": -2,
         "tickmode": "linear",
         "title": {
          "text": "Correlation Coefficient"
         }
        }
       }
      }
     },
     "metadata": {},
     "output_type": "display_data"
    }
   ],
   "source": [
    "# Extract coefficients and confidence intervals\n",
    "coefficients = simple_model.params.drop('Intercept')\n",
    "conf_intervals = simple_model.conf_int().drop('Intercept')\n",
    "\n",
    "# Create the plot data with lower and upper bounds for confidence intervals\n",
    "plot_data = pd.DataFrame({\n",
    "    'Household Income Bracket': income_categories[1:],  # Exclude intercept\n",
    "    'Coefficient': coefficients.values,\n",
    "    'CI Lower': conf_intervals[0].values,  # Lower bound\n",
    "    'CI Upper': conf_intervals[1].values   # Upper bound\n",
    "})\n",
    "\n",
    "# Calculate errors for the plot\n",
    "plot_data['Error Upper'] = plot_data['CI Upper'] - plot_data['Coefficient']\n",
    "plot_data['Error Lower'] = plot_data['Coefficient'] - plot_data['CI Lower']\n",
    "\n",
    "# Create scatter plot with confidence intervals and flipped axes\n",
    "import plotly.express as px\n",
    "\n",
    "fig = px.scatter(\n",
    "    plot_data,\n",
    "    x='Household Income Bracket',\n",
    "    y='Coefficient',\n",
    "    title='Correlation Coefficient (with CI) for Household Income Brackets',\n",
    "    error_y=plot_data['Error Upper'],\n",
    "    error_y_minus=plot_data['Error Lower'],\n",
    "    labels={'Coefficient': 'Correlation Coefficient'},\n",
    "    width=800,\n",
    "    height=500,\n",
    ")\n",
    "\n",
    "# Modify the y-axis scale to show more numbers\n",
    "fig.update_layout(\n",
    "    yaxis=dict(\n",
    "        tickmode='linear',  # Set to linear tick mode\n",
    "        tick0=-2,  # Starting tick value\n",
    "        dtick=0.5,  # The distance between ticks\n",
    "        automargin=True  # Automatically adjust margins on y-axis\n",
    "    ),\n",
    "    xaxis=dict(\n",
    "        automargin=True  # Automatically adjust margins on x-axis\n",
    "    ),\n",
    "    margin=dict(t=80, b=80, l=80, r=80),  # Reduce the margins (top, bottom, left, right)\n",
    ")\n",
    "\n",
    "fig.add_hline(\n",
    "    y=0,\n",
    "    line_dash=\"dash\",\n",
    "    line_color=\"red\",\n",
    "    annotation_text=\"No Correlation\",\n",
    "    annotation_position=\"bottom left\"\n",
    ")\n",
    "\n",
    "# Render the plot\n",
    "fig.show()\n"
   ]
  },
  {
   "cell_type": "code",
   "execution_count": 15,
   "metadata": {},
   "outputs": [
    {
     "name": "stdout",
     "output_type": "stream",
     "text": [
      "       Fitted Values  Residuals  WELLNESS_life_satisfaction\n",
      "4           6.180180   1.819820                         8.0\n",
      "8           5.805668  -4.805668                         1.0\n",
      "10          6.404959   0.595041                         7.0\n",
      "30          5.406897  -4.406897                         1.0\n",
      "31          5.855422  -0.855422                         5.0\n",
      "...              ...        ...                         ...\n",
      "11393       5.406897  -1.406897                         4.0\n",
      "11396       5.855422  -2.855422                         3.0\n",
      "11398       6.219124   0.780876                         7.0\n",
      "11410       6.233766   1.766234                         8.0\n",
      "11430       5.805668   1.194332                         7.0\n",
      "\n",
      "[2260 rows x 3 columns]\n"
     ]
    }
   ],
   "source": [
    "result = pd.concat([simple_model.fittedvalues, simple_model.resid, data_cross_2021['WELLNESS_life_satisfaction']], axis=1)\n",
    "\n",
    "# Rename columns for clarity\n",
    "result.columns = ['Fitted Values', 'Residuals', 'WELLNESS_life_satisfaction']\n",
    "\n",
    "# Display the result\n",
    "print(result)"
   ]
  }
 ],
 "metadata": {
  "kernelspec": {
   "display_name": "Python 3",
   "language": "python",
   "name": "python3"
  },
  "language_info": {
   "codemirror_mode": {
    "name": "ipython",
    "version": 3
   },
   "file_extension": ".py",
   "mimetype": "text/x-python",
   "name": "python",
   "nbconvert_exporter": "python",
   "pygments_lexer": "ipython3",
   "version": "3.12.4"
  }
 },
 "nbformat": 4,
 "nbformat_minor": 2
}
