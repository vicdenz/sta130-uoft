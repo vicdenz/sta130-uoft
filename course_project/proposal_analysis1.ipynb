{
 "cells": [
  {
   "cell_type": "markdown",
   "metadata": {},
   "source": [
    "# STA130 Course Project - Analysis 1 Project Proposal\n",
    "***\n",
    "#### **Author**: David Daniliuc<br>**Created**: Sat Nov. 2, 2024\n",
    "\n",
    "*Jupyter Python Notebook for Analysis 1 testing and experimenting for the STA130 Course Project.* "
   ]
  },
  {
   "cell_type": "code",
   "execution_count": 46,
   "metadata": {},
   "outputs": [
    {
     "name": "stderr",
     "output_type": "stream",
     "text": [
      "/var/folders/b0/20_s9xf13p33yqxth9cv22380000gn/T/ipykernel_65608/1579101286.py:10: DtypeWarning:\n",
      "\n",
      "Columns (129,408,630,671,689,978,1001,1002,1006,1007,1008,1080,1113,1115,1116,1117,1118,1119,1120,1121,1124,1125,1126,1127,1128,1213,1214,1215,1216,1217,1218,1263,1266,1342,1343,1344,1345,1346,1347,1348,1349,1390,1391,1393,1439,1442,1463,1546,1549,1552,1555,1558,1561) have mixed types. Specify dtype option on import or set low_memory=False.\n",
      "\n"
     ]
    }
   ],
   "source": [
    "\n",
    "# Import statements\n",
    "import pandas as pd\n",
    "import numpy as np\n",
    "import plotly.express as px\n",
    "import scipy.stats as stats\n",
    "import statsmodels.formula.api as smf\n",
    "\n",
    "# Read and import dataset\n",
    "cols = pd.read_csv(\"var_names.csv\")\n",
    "data = pd.read_csv(\"CSCS_data_anon.csv\", na_values=[\"9999\", \"\", \" \", \"Presented but no response\", \"NA\"])\n",
    "\n",
    "# Cleaning the data\n",
    "empty = (data.isna().sum() == data.shape[0])\n",
    "data = data[empty.index[~empty]] # keep non empty columns only\n",
    "\n",
    "data = data[data.REMOVE_case=='No'].copy()"
   ]
  },
  {
   "cell_type": "code",
   "execution_count": 47,
   "metadata": {},
   "outputs": [],
   "source": [
    "important_columns = [\n",
    "\t'WELLNESS_life_satisfaction', 'DEMO_household_income',\n",
    "\t'DEMO_age',\n",
    "\t'DEMO_occupation', # no education columns?\n",
    "\t'DEMO_identity_disability',\n",
    "\t'DEMO_relationship_status',\n",
    "\t'GEO_housing_live_with_children',\n",
    "]\n",
    "indicator_columns = important_columns[2:]\n",
    "\n",
    "# LONELY_ucla_loneliness_scale_score\n",
    "# WELLNESS_self_rated_mental_health\n",
    "# WELLNESS_self_rated_physical_health\n",
    "# WELLNESS_malach_pines_burnout_measure_score\n",
    "\n",
    "# WORK_employment_impact_no_change\n",
    "# COVID_vaccinated\n",
    "# COVID_prevention_distancing"
   ]
  },
  {
   "cell_type": "code",
   "execution_count": 48,
   "metadata": {},
   "outputs": [
    {
     "data": {
      "text/html": [
       "<div>\n",
       "<style scoped>\n",
       "    .dataframe tbody tr th:only-of-type {\n",
       "        vertical-align: middle;\n",
       "    }\n",
       "\n",
       "    .dataframe tbody tr th {\n",
       "        vertical-align: top;\n",
       "    }\n",
       "\n",
       "    .dataframe thead th {\n",
       "        text-align: right;\n",
       "    }\n",
       "</style>\n",
       "<table border=\"1\" class=\"dataframe\">\n",
       "  <thead>\n",
       "    <tr style=\"text-align: right;\">\n",
       "      <th></th>\n",
       "      <th>WELLNESS_life_satisfaction</th>\n",
       "      <th>DEMO_household_income</th>\n",
       "      <th>DEMO_age</th>\n",
       "      <th>DEMO_occupation</th>\n",
       "      <th>DEMO_identity_disability</th>\n",
       "      <th>DEMO_relationship_status</th>\n",
       "      <th>GEO_housing_live_with_children</th>\n",
       "    </tr>\n",
       "  </thead>\n",
       "  <tbody>\n",
       "    <tr>\n",
       "      <th>4</th>\n",
       "      <td>8.0</td>\n",
       "      <td>$80,000 to $89,999</td>\n",
       "      <td>30.0</td>\n",
       "      <td>Business, finance and administration occupations</td>\n",
       "      <td>Not Selected</td>\n",
       "      <td>Single and dating</td>\n",
       "      <td>9.0</td>\n",
       "    </tr>\n",
       "    <tr>\n",
       "      <th>8</th>\n",
       "      <td>1.0</td>\n",
       "      <td>$20,000 to $24,999</td>\n",
       "      <td>66.0</td>\n",
       "      <td>Sales and service occupations</td>\n",
       "      <td>Not Selected</td>\n",
       "      <td>Single and not dating</td>\n",
       "      <td>0.0</td>\n",
       "    </tr>\n",
       "    <tr>\n",
       "      <th>10</th>\n",
       "      <td>7.0</td>\n",
       "      <td>$90,000 to $99,999</td>\n",
       "      <td>27.0</td>\n",
       "      <td>Sales and service occupations</td>\n",
       "      <td>Not Selected</td>\n",
       "      <td>Single and dating</td>\n",
       "      <td>0.0</td>\n",
       "    </tr>\n",
       "    <tr>\n",
       "      <th>30</th>\n",
       "      <td>1.0</td>\n",
       "      <td>$5,000 to $9,999</td>\n",
       "      <td>32.0</td>\n",
       "      <td>Business, finance and administration occupations</td>\n",
       "      <td>Not Selected</td>\n",
       "      <td>In a relationship</td>\n",
       "      <td>1.0</td>\n",
       "    </tr>\n",
       "    <tr>\n",
       "      <th>31</th>\n",
       "      <td>5.0</td>\n",
       "      <td>$10,000 to $14,999</td>\n",
       "      <td>51.0</td>\n",
       "      <td>Not applicable, I do not have an occupation</td>\n",
       "      <td>People with chronic health problems or disabil...</td>\n",
       "      <td>Single and not dating</td>\n",
       "      <td>1.0</td>\n",
       "    </tr>\n",
       "    <tr>\n",
       "      <th>...</th>\n",
       "      <td>...</td>\n",
       "      <td>...</td>\n",
       "      <td>...</td>\n",
       "      <td>...</td>\n",
       "      <td>...</td>\n",
       "      <td>...</td>\n",
       "      <td>...</td>\n",
       "    </tr>\n",
       "    <tr>\n",
       "      <th>11379</th>\n",
       "      <td>7.0</td>\n",
       "      <td>$10,000 to $14,999</td>\n",
       "      <td>56.0</td>\n",
       "      <td>Occupations in art, culture, recreation and sport</td>\n",
       "      <td>People with chronic health problems or disabil...</td>\n",
       "      <td>Single and not dating</td>\n",
       "      <td>0.0</td>\n",
       "    </tr>\n",
       "    <tr>\n",
       "      <th>11393</th>\n",
       "      <td>4.0</td>\n",
       "      <td>Under $5,000</td>\n",
       "      <td>21.0</td>\n",
       "      <td>Business, finance and administration occupations</td>\n",
       "      <td>Not Selected</td>\n",
       "      <td>Single and dating</td>\n",
       "      <td>6.0</td>\n",
       "    </tr>\n",
       "    <tr>\n",
       "      <th>11396</th>\n",
       "      <td>3.0</td>\n",
       "      <td>$15,000 to $19,999</td>\n",
       "      <td>62.0</td>\n",
       "      <td>Health occupations</td>\n",
       "      <td>People with chronic health problems or disabil...</td>\n",
       "      <td>Single and not dating</td>\n",
       "      <td>0.0</td>\n",
       "    </tr>\n",
       "    <tr>\n",
       "      <th>11398</th>\n",
       "      <td>7.0</td>\n",
       "      <td>$35,000 to $39,999</td>\n",
       "      <td>65.0</td>\n",
       "      <td>Occupations in education, law and social, comm...</td>\n",
       "      <td>Not Selected</td>\n",
       "      <td>Single and not dating</td>\n",
       "      <td>0.0</td>\n",
       "    </tr>\n",
       "    <tr>\n",
       "      <th>11410</th>\n",
       "      <td>8.0</td>\n",
       "      <td>$70,000 to $79,999</td>\n",
       "      <td>35.0</td>\n",
       "      <td>Occupations in education, law and social, comm...</td>\n",
       "      <td>Not Selected</td>\n",
       "      <td>In a relationship</td>\n",
       "      <td>2.0</td>\n",
       "    </tr>\n",
       "  </tbody>\n",
       "</table>\n",
       "<p>1701 rows × 7 columns</p>\n",
       "</div>"
      ],
      "text/plain": [
       "       WELLNESS_life_satisfaction DEMO_household_income  DEMO_age  \\\n",
       "4                             8.0    $80,000 to $89,999      30.0   \n",
       "8                             1.0    $20,000 to $24,999      66.0   \n",
       "10                            7.0    $90,000 to $99,999      27.0   \n",
       "30                            1.0      $5,000 to $9,999      32.0   \n",
       "31                            5.0    $10,000 to $14,999      51.0   \n",
       "...                           ...                   ...       ...   \n",
       "11379                         7.0    $10,000 to $14,999      56.0   \n",
       "11393                         4.0          Under $5,000      21.0   \n",
       "11396                         3.0    $15,000 to $19,999      62.0   \n",
       "11398                         7.0    $35,000 to $39,999      65.0   \n",
       "11410                         8.0    $70,000 to $79,999      35.0   \n",
       "\n",
       "                                         DEMO_occupation  \\\n",
       "4       Business, finance and administration occupations   \n",
       "8                          Sales and service occupations   \n",
       "10                         Sales and service occupations   \n",
       "30      Business, finance and administration occupations   \n",
       "31           Not applicable, I do not have an occupation   \n",
       "...                                                  ...   \n",
       "11379  Occupations in art, culture, recreation and sport   \n",
       "11393   Business, finance and administration occupations   \n",
       "11396                                 Health occupations   \n",
       "11398  Occupations in education, law and social, comm...   \n",
       "11410  Occupations in education, law and social, comm...   \n",
       "\n",
       "                                DEMO_identity_disability  \\\n",
       "4                                           Not Selected   \n",
       "8                                           Not Selected   \n",
       "10                                          Not Selected   \n",
       "30                                          Not Selected   \n",
       "31     People with chronic health problems or disabil...   \n",
       "...                                                  ...   \n",
       "11379  People with chronic health problems or disabil...   \n",
       "11393                                       Not Selected   \n",
       "11396  People with chronic health problems or disabil...   \n",
       "11398                                       Not Selected   \n",
       "11410                                       Not Selected   \n",
       "\n",
       "      DEMO_relationship_status  GEO_housing_live_with_children  \n",
       "4            Single and dating                             9.0  \n",
       "8        Single and not dating                             0.0  \n",
       "10           Single and dating                             0.0  \n",
       "30           In a relationship                             1.0  \n",
       "31       Single and not dating                             1.0  \n",
       "...                        ...                             ...  \n",
       "11379    Single and not dating                             0.0  \n",
       "11393        Single and dating                             6.0  \n",
       "11396    Single and not dating                             0.0  \n",
       "11398    Single and not dating                             0.0  \n",
       "11410        In a relationship                             2.0  \n",
       "\n",
       "[1701 rows x 7 columns]"
      ]
     },
     "execution_count": 48,
     "metadata": {},
     "output_type": "execute_result"
    }
   ],
   "source": [
    "### The Correlation Between Socioeconomic Status (SES) and Mental Health During the 2021 Lockdown of the COVID-19 Pandemic\n",
    "\n",
    "data_cross_2021 = data[data.DATASET=='2021 Cross-Sectional'][important_columns].copy().dropna()\n",
    "# print(data[data.DATASET=='2022 Cross-Sectional'][['WELLNESS_life_satisfaction','DEMO_household_income','DEMO_age','DEMO_employment','DEMO_disability_none','DEMO_relationship_status','GEO_housing_live_with_children']].isna().sum())\n",
    "\n",
    "data_cross_2021"
   ]
  },
  {
   "cell_type": "code",
   "execution_count": 49,
   "metadata": {},
   "outputs": [],
   "source": [
    "income_mapping = {\n",
    "    'Under $5,000': 0,\n",
    "    '$5,000 to $9,999': 1,\n",
    "    '$10,000 to $14,999': 2,\n",
    "    '$15,000 to $19,999': 3,\n",
    "    '$20,000 to $24,999': 4,\n",
    "    '$25,000 to $29,999': 5,\n",
    "    '$30,000 to $34,999': 6,\n",
    "    '$35,000 to $39,999': 7,\n",
    "    '$40,000 to $44,999': 8,\n",
    "    '$45,000 to $49,999': 9,\n",
    "    '$50,000 to $59,999': 10,\n",
    "    '$60,000 to $69,999': 11,\n",
    "    '$70,000 to $79,999': 12,\n",
    "    '$80,000 to $89,999': 13,\n",
    "    '$90,000 to $99,999': 14,\n",
    "    '$100,000 to $109,999': 15,\n",
    "    '$110,000 to $119,999': 16,\n",
    "    '$120,000 to $129,999': 17,\n",
    "    '$130,000 to $139,999': 18,\n",
    "    '$140,000 to $149,999': 19,\n",
    "    '$150,000 to $159,999': 20,\n",
    "    '$160,000 to $169,999': 21,\n",
    "    '$170,000 to $179,999': 22,\n",
    "    '$180,000 to $189,999': 23,\n",
    "    '$190,000 to $199,999': 24,\n",
    "    '$200,000 or more': 25,\n",
    "}\n",
    "\n",
    "# Ensure 'DEMO_household_income' column is mapped to numeric values using income_mapping\n",
    "data_cross_2021['DEMO_household_income_index'] = data_cross_2021['DEMO_household_income'].map(income_mapping)\n",
    "\n",
    "income_categories = list(income_mapping.keys())\n",
    "data_cross_2021['DEMO_household_income'] = pd.Categorical(\n",
    "    data_cross_2021['DEMO_household_income'], \n",
    "    categories=income_categories, \n",
    "    ordered=True\n",
    ")"
   ]
  },
  {
   "cell_type": "code",
   "execution_count": null,
   "metadata": {},
   "outputs": [
    {
     "name": "stderr",
     "output_type": "stream",
     "text": [
      "/var/folders/b0/20_s9xf13p33yqxth9cv22380000gn/T/ipykernel_65608/453186628.py:1: FutureWarning:\n",
      "\n",
      "The default of observed=False is deprecated and will be changed to True in a future version of pandas. Pass observed=False to retain current behavior or observed=True to adopt the future default and silence this warning.\n",
      "\n",
      "/var/folders/b0/20_s9xf13p33yqxth9cv22380000gn/T/ipykernel_65608/453186628.py:9: FutureWarning:\n",
      "\n",
      "The default of observed=False is deprecated and will be changed to True in a future version of pandas. Pass observed=False to retain current behavior or observed=True to adopt the future default and silence this warning.\n",
      "\n"
     ]
    },
    {
     "data": {
      "application/vnd.plotly.v1+json": {
       "config": {
        "plotlyServerURL": "https://plot.ly"
       },
       "data": [
        {
         "alignmentgroup": "True",
         "hovertemplate": "DEMO_household_income=%{x}<br>Percentage (%)=%{y}<br>WELLNESS_life_satisfaction=%{marker.color}<extra></extra>",
         "legendgroup": "",
         "marker": {
          "color": [
           1,
           2,
           3,
           4,
           5,
           6,
           7,
           8,
           9,
           10,
           1,
           2,
           3,
           4,
           5,
           6,
           7,
           8,
           9,
           10,
           1,
           2,
           3,
           4,
           5,
           6,
           7,
           8,
           9,
           10,
           1,
           2,
           3,
           4,
           5,
           6,
           7,
           8,
           9,
           10,
           1,
           2,
           3,
           4,
           5,
           6,
           7,
           8,
           9,
           10,
           1,
           2,
           3,
           4,
           5,
           6,
           7,
           8,
           9,
           10,
           1,
           2,
           3,
           4,
           5,
           6,
           7,
           8,
           9,
           10,
           1,
           2,
           3,
           4,
           5,
           6,
           7,
           8,
           9,
           10,
           1,
           2,
           3,
           4,
           5,
           6,
           7,
           8,
           9,
           10,
           1,
           2,
           3,
           4,
           5,
           6,
           7,
           8,
           9,
           10,
           1,
           2,
           3,
           4,
           5,
           6,
           7,
           8,
           9,
           10,
           1,
           2,
           3,
           4,
           5,
           6,
           7,
           8,
           9,
           10,
           1,
           2,
           3,
           4,
           5,
           6,
           7,
           8,
           9,
           10,
           1,
           2,
           3,
           4,
           5,
           6,
           7,
           8,
           9,
           10,
           1,
           2,
           3,
           4,
           5,
           6,
           7,
           8,
           9,
           10,
           1,
           2,
           3,
           4,
           5,
           6,
           7,
           8,
           9,
           10,
           1,
           2,
           3,
           4,
           5,
           6,
           7,
           8,
           9,
           10,
           1,
           2,
           3,
           4,
           5,
           6,
           7,
           8,
           9,
           10,
           1,
           2,
           3,
           4,
           5,
           6,
           7,
           8,
           9,
           10,
           1,
           2,
           3,
           4,
           5,
           6,
           7,
           8,
           9,
           10,
           1,
           2,
           3,
           4,
           5,
           6,
           7,
           8,
           9,
           10,
           1,
           2,
           3,
           4,
           5,
           6,
           7,
           8,
           9,
           10,
           1,
           2,
           3,
           4,
           5,
           6,
           7,
           8,
           9,
           10,
           1,
           2,
           3,
           4,
           5,
           6,
           7,
           8,
           9,
           10,
           1,
           2,
           3,
           4,
           5,
           6,
           7,
           8,
           9,
           10,
           1,
           2,
           3,
           4,
           5,
           6,
           7,
           8,
           9,
           10
          ],
          "coloraxis": "coloraxis",
          "pattern": {
           "shape": ""
          }
         },
         "name": "",
         "offsetgroup": "",
         "orientation": "v",
         "showlegend": false,
         "textposition": "auto",
         "type": "bar",
         "x": [
          "Under $5,000",
          "Under $5,000",
          "Under $5,000",
          "Under $5,000",
          "Under $5,000",
          "Under $5,000",
          "Under $5,000",
          "Under $5,000",
          "Under $5,000",
          "Under $5,000",
          "$5,000 to $9,999",
          "$5,000 to $9,999",
          "$5,000 to $9,999",
          "$5,000 to $9,999",
          "$5,000 to $9,999",
          "$5,000 to $9,999",
          "$5,000 to $9,999",
          "$5,000 to $9,999",
          "$5,000 to $9,999",
          "$5,000 to $9,999",
          "$10,000 to $14,999",
          "$10,000 to $14,999",
          "$10,000 to $14,999",
          "$10,000 to $14,999",
          "$10,000 to $14,999",
          "$10,000 to $14,999",
          "$10,000 to $14,999",
          "$10,000 to $14,999",
          "$10,000 to $14,999",
          "$10,000 to $14,999",
          "$15,000 to $19,999",
          "$15,000 to $19,999",
          "$15,000 to $19,999",
          "$15,000 to $19,999",
          "$15,000 to $19,999",
          "$15,000 to $19,999",
          "$15,000 to $19,999",
          "$15,000 to $19,999",
          "$15,000 to $19,999",
          "$15,000 to $19,999",
          "$20,000 to $24,999",
          "$20,000 to $24,999",
          "$20,000 to $24,999",
          "$20,000 to $24,999",
          "$20,000 to $24,999",
          "$20,000 to $24,999",
          "$20,000 to $24,999",
          "$20,000 to $24,999",
          "$20,000 to $24,999",
          "$20,000 to $24,999",
          "$25,000 to $29,999",
          "$25,000 to $29,999",
          "$25,000 to $29,999",
          "$25,000 to $29,999",
          "$25,000 to $29,999",
          "$25,000 to $29,999",
          "$25,000 to $29,999",
          "$25,000 to $29,999",
          "$25,000 to $29,999",
          "$25,000 to $29,999",
          "$30,000 to $34,999",
          "$30,000 to $34,999",
          "$30,000 to $34,999",
          "$30,000 to $34,999",
          "$30,000 to $34,999",
          "$30,000 to $34,999",
          "$30,000 to $34,999",
          "$30,000 to $34,999",
          "$30,000 to $34,999",
          "$30,000 to $34,999",
          "$35,000 to $39,999",
          "$35,000 to $39,999",
          "$35,000 to $39,999",
          "$35,000 to $39,999",
          "$35,000 to $39,999",
          "$35,000 to $39,999",
          "$35,000 to $39,999",
          "$35,000 to $39,999",
          "$35,000 to $39,999",
          "$35,000 to $39,999",
          "$40,000 to $44,999",
          "$40,000 to $44,999",
          "$40,000 to $44,999",
          "$40,000 to $44,999",
          "$40,000 to $44,999",
          "$40,000 to $44,999",
          "$40,000 to $44,999",
          "$40,000 to $44,999",
          "$40,000 to $44,999",
          "$40,000 to $44,999",
          "$45,000 to $49,999",
          "$45,000 to $49,999",
          "$45,000 to $49,999",
          "$45,000 to $49,999",
          "$45,000 to $49,999",
          "$45,000 to $49,999",
          "$45,000 to $49,999",
          "$45,000 to $49,999",
          "$45,000 to $49,999",
          "$45,000 to $49,999",
          "$50,000 to $59,999",
          "$50,000 to $59,999",
          "$50,000 to $59,999",
          "$50,000 to $59,999",
          "$50,000 to $59,999",
          "$50,000 to $59,999",
          "$50,000 to $59,999",
          "$50,000 to $59,999",
          "$50,000 to $59,999",
          "$50,000 to $59,999",
          "$60,000 to $69,999",
          "$60,000 to $69,999",
          "$60,000 to $69,999",
          "$60,000 to $69,999",
          "$60,000 to $69,999",
          "$60,000 to $69,999",
          "$60,000 to $69,999",
          "$60,000 to $69,999",
          "$60,000 to $69,999",
          "$60,000 to $69,999",
          "$70,000 to $79,999",
          "$70,000 to $79,999",
          "$70,000 to $79,999",
          "$70,000 to $79,999",
          "$70,000 to $79,999",
          "$70,000 to $79,999",
          "$70,000 to $79,999",
          "$70,000 to $79,999",
          "$70,000 to $79,999",
          "$70,000 to $79,999",
          "$80,000 to $89,999",
          "$80,000 to $89,999",
          "$80,000 to $89,999",
          "$80,000 to $89,999",
          "$80,000 to $89,999",
          "$80,000 to $89,999",
          "$80,000 to $89,999",
          "$80,000 to $89,999",
          "$80,000 to $89,999",
          "$80,000 to $89,999",
          "$90,000 to $99,999",
          "$90,000 to $99,999",
          "$90,000 to $99,999",
          "$90,000 to $99,999",
          "$90,000 to $99,999",
          "$90,000 to $99,999",
          "$90,000 to $99,999",
          "$90,000 to $99,999",
          "$90,000 to $99,999",
          "$90,000 to $99,999",
          "$100,000 to $109,999",
          "$100,000 to $109,999",
          "$100,000 to $109,999",
          "$100,000 to $109,999",
          "$100,000 to $109,999",
          "$100,000 to $109,999",
          "$100,000 to $109,999",
          "$100,000 to $109,999",
          "$100,000 to $109,999",
          "$100,000 to $109,999",
          "$110,000 to $119,999",
          "$110,000 to $119,999",
          "$110,000 to $119,999",
          "$110,000 to $119,999",
          "$110,000 to $119,999",
          "$110,000 to $119,999",
          "$110,000 to $119,999",
          "$110,000 to $119,999",
          "$110,000 to $119,999",
          "$110,000 to $119,999",
          "$120,000 to $129,999",
          "$120,000 to $129,999",
          "$120,000 to $129,999",
          "$120,000 to $129,999",
          "$120,000 to $129,999",
          "$120,000 to $129,999",
          "$120,000 to $129,999",
          "$120,000 to $129,999",
          "$120,000 to $129,999",
          "$120,000 to $129,999",
          "$130,000 to $139,999",
          "$130,000 to $139,999",
          "$130,000 to $139,999",
          "$130,000 to $139,999",
          "$130,000 to $139,999",
          "$130,000 to $139,999",
          "$130,000 to $139,999",
          "$130,000 to $139,999",
          "$130,000 to $139,999",
          "$130,000 to $139,999",
          "$140,000 to $149,999",
          "$140,000 to $149,999",
          "$140,000 to $149,999",
          "$140,000 to $149,999",
          "$140,000 to $149,999",
          "$140,000 to $149,999",
          "$140,000 to $149,999",
          "$140,000 to $149,999",
          "$140,000 to $149,999",
          "$140,000 to $149,999",
          "$150,000 to $159,999",
          "$150,000 to $159,999",
          "$150,000 to $159,999",
          "$150,000 to $159,999",
          "$150,000 to $159,999",
          "$150,000 to $159,999",
          "$150,000 to $159,999",
          "$150,000 to $159,999",
          "$150,000 to $159,999",
          "$150,000 to $159,999",
          "$160,000 to $169,999",
          "$160,000 to $169,999",
          "$160,000 to $169,999",
          "$160,000 to $169,999",
          "$160,000 to $169,999",
          "$160,000 to $169,999",
          "$160,000 to $169,999",
          "$160,000 to $169,999",
          "$160,000 to $169,999",
          "$160,000 to $169,999",
          "$170,000 to $179,999",
          "$170,000 to $179,999",
          "$170,000 to $179,999",
          "$170,000 to $179,999",
          "$170,000 to $179,999",
          "$170,000 to $179,999",
          "$170,000 to $179,999",
          "$170,000 to $179,999",
          "$170,000 to $179,999",
          "$170,000 to $179,999",
          "$180,000 to $189,999",
          "$180,000 to $189,999",
          "$180,000 to $189,999",
          "$180,000 to $189,999",
          "$180,000 to $189,999",
          "$180,000 to $189,999",
          "$180,000 to $189,999",
          "$180,000 to $189,999",
          "$180,000 to $189,999",
          "$180,000 to $189,999",
          "$190,000 to $199,999",
          "$190,000 to $199,999",
          "$190,000 to $199,999",
          "$190,000 to $199,999",
          "$190,000 to $199,999",
          "$190,000 to $199,999",
          "$190,000 to $199,999",
          "$190,000 to $199,999",
          "$190,000 to $199,999",
          "$190,000 to $199,999",
          "$200,000 or more",
          "$200,000 or more",
          "$200,000 or more",
          "$200,000 or more",
          "$200,000 or more",
          "$200,000 or more",
          "$200,000 or more",
          "$200,000 or more",
          "$200,000 or more",
          "$200,000 or more"
         ],
         "xaxis": "x",
         "y": [
          0.10810810810810811,
          0.08108108108108109,
          0.1891891891891892,
          0.1891891891891892,
          0.02702702702702703,
          0.02702702702702703,
          0.10810810810810811,
          0.10810810810810811,
          0.10810810810810811,
          0.05405405405405406,
          0.05714285714285714,
          0,
          0.07142857142857142,
          0.1,
          0.22857142857142856,
          0.12857142857142856,
          0.2,
          0.11428571428571428,
          0.08571428571428572,
          0.014285714285714285,
          0.012195121951219513,
          0.06097560975609756,
          0.04878048780487805,
          0.07317073170731707,
          0.12195121951219512,
          0.1951219512195122,
          0.1951219512195122,
          0.23170731707317074,
          0.036585365853658534,
          0.024390243902439025,
          0.06,
          0.06,
          0.05,
          0.1,
          0.13,
          0.16,
          0.16,
          0.07,
          0.03,
          0.18,
          0.044444444444444446,
          0.08888888888888889,
          0.07777777777777778,
          0.1,
          0.13333333333333333,
          0.14444444444444443,
          0.14444444444444443,
          0.14444444444444443,
          0.044444444444444446,
          0.07777777777777778,
          0.0379746835443038,
          0.0379746835443038,
          0.12658227848101267,
          0.08860759493670886,
          0.10126582278481013,
          0.17721518987341772,
          0.1518987341772152,
          0.13924050632911392,
          0.05063291139240506,
          0.08860759493670886,
          0.037383177570093455,
          0.009345794392523364,
          0.06542056074766354,
          0.07476635514018691,
          0.08411214953271028,
          0.16822429906542055,
          0.19626168224299065,
          0.17757009345794392,
          0.06542056074766354,
          0.12149532710280374,
          0.05333333333333334,
          0,
          0.10666666666666667,
          0.06666666666666667,
          0.14666666666666667,
          0.13333333333333333,
          0.17333333333333334,
          0.16,
          0.05333333333333334,
          0.10666666666666667,
          0.02127659574468085,
          0.010638297872340425,
          0.07446808510638298,
          0.07446808510638298,
          0.0851063829787234,
          0.1702127659574468,
          0.14893617021276595,
          0.2127659574468085,
          0.05319148936170213,
          0.14893617021276595,
          0.0375,
          0.05,
          0.125,
          0.0875,
          0.1875,
          0.0875,
          0.1,
          0.2,
          0.075,
          0.05,
          0.05172413793103448,
          0.06896551724137931,
          0.07758620689655173,
          0.07758620689655173,
          0.12931034482758622,
          0.12931034482758622,
          0.1724137931034483,
          0.1896551724137931,
          0.06896551724137931,
          0.034482758620689655,
          0.04672897196261682,
          0.028037383177570093,
          0.056074766355140186,
          0.056074766355140186,
          0.205607476635514,
          0.1588785046728972,
          0.1588785046728972,
          0.19626168224299065,
          0.04672897196261682,
          0.04672897196261682,
          0.030534351145038167,
          0.04580152671755725,
          0.030534351145038167,
          0.0916030534351145,
          0.1450381679389313,
          0.17557251908396945,
          0.1450381679389313,
          0.22137404580152673,
          0.05343511450381679,
          0.061068702290076333,
          0.022222222222222223,
          0.011111111111111112,
          0.08888888888888889,
          0.1111111111111111,
          0.08888888888888889,
          0.18888888888888888,
          0.18888888888888888,
          0.15555555555555556,
          0.08888888888888889,
          0.05555555555555555,
          0.043478260869565216,
          0.03260869565217391,
          0,
          0.09782608695652174,
          0.13043478260869565,
          0.13043478260869565,
          0.22826086956521738,
          0.22826086956521738,
          0.021739130434782608,
          0.08695652173913043,
          0.05555555555555555,
          0.011111111111111112,
          0.05555555555555555,
          0.1,
          0.12222222222222222,
          0.06666666666666667,
          0.18888888888888888,
          0.24444444444444444,
          0.08888888888888889,
          0.06666666666666667,
          0.030303030303030304,
          0,
          0,
          0.12121212121212122,
          0.12121212121212122,
          0.09090909090909091,
          0.24242424242424243,
          0.21212121212121213,
          0.12121212121212122,
          0.06060606060606061,
          0,
          0,
          0.05263157894736842,
          0.13157894736842105,
          0.02631578947368421,
          0.07894736842105263,
          0.2631578947368421,
          0.23684210526315788,
          0.07894736842105263,
          0.13157894736842105,
          0,
          0,
          0.07407407407407407,
          0.07407407407407407,
          0.1111111111111111,
          0.14814814814814814,
          0.2222222222222222,
          0.25925925925925924,
          0.07407407407407407,
          0.037037037037037035,
          0,
          0,
          0.05555555555555555,
          0.05555555555555555,
          0.2222222222222222,
          0.16666666666666666,
          0.16666666666666666,
          0.16666666666666666,
          0.05555555555555555,
          0.1111111111111111,
          0,
          0.0196078431372549,
          0,
          0.09803921568627451,
          0.058823529411764705,
          0.11764705882352941,
          0.21568627450980393,
          0.19607843137254902,
          0.0784313725490196,
          0.21568627450980393,
          0,
          0,
          0,
          0.17647058823529413,
          0.058823529411764705,
          0.11764705882352941,
          0.23529411764705882,
          0.11764705882352941,
          0.11764705882352941,
          0.17647058823529413,
          0,
          0,
          0,
          0.125,
          0,
          0,
          0.25,
          0.625,
          0,
          0,
          0.05,
          0.05,
          0,
          0.05,
          0.1,
          0,
          0.45,
          0.1,
          0.1,
          0.1,
          0,
          0,
          0,
          0.125,
          0,
          0,
          0.125,
          0.375,
          0.125,
          0.25,
          0,
          0.024390243902439025,
          0,
          0.12195121951219512,
          0.0975609756097561,
          0.17073170731707318,
          0.17073170731707318,
          0.2682926829268293,
          0.0975609756097561,
          0.04878048780487805
         ],
         "yaxis": "y"
        }
       ],
       "layout": {
        "barmode": "stack",
        "coloraxis": {
         "colorbar": {
          "title": {
           "text": "WELLNESS_life_satisfaction"
          }
         },
         "colorscale": [
          [
           0,
           "#0d0887"
          ],
          [
           0.1111111111111111,
           "#46039f"
          ],
          [
           0.2222222222222222,
           "#7201a8"
          ],
          [
           0.3333333333333333,
           "#9c179e"
          ],
          [
           0.4444444444444444,
           "#bd3786"
          ],
          [
           0.5555555555555556,
           "#d8576b"
          ],
          [
           0.6666666666666666,
           "#ed7953"
          ],
          [
           0.7777777777777778,
           "#fb9f3a"
          ],
          [
           0.8888888888888888,
           "#fdca26"
          ],
          [
           1,
           "#f0f921"
          ]
         ]
        },
        "legend": {
         "tracegroupgap": 0
        },
        "template": {
         "data": {
          "bar": [
           {
            "error_x": {
             "color": "#2a3f5f"
            },
            "error_y": {
             "color": "#2a3f5f"
            },
            "marker": {
             "line": {
              "color": "#E5ECF6",
              "width": 0.5
             },
             "pattern": {
              "fillmode": "overlay",
              "size": 10,
              "solidity": 0.2
             }
            },
            "type": "bar"
           }
          ],
          "barpolar": [
           {
            "marker": {
             "line": {
              "color": "#E5ECF6",
              "width": 0.5
             },
             "pattern": {
              "fillmode": "overlay",
              "size": 10,
              "solidity": 0.2
             }
            },
            "type": "barpolar"
           }
          ],
          "carpet": [
           {
            "aaxis": {
             "endlinecolor": "#2a3f5f",
             "gridcolor": "white",
             "linecolor": "white",
             "minorgridcolor": "white",
             "startlinecolor": "#2a3f5f"
            },
            "baxis": {
             "endlinecolor": "#2a3f5f",
             "gridcolor": "white",
             "linecolor": "white",
             "minorgridcolor": "white",
             "startlinecolor": "#2a3f5f"
            },
            "type": "carpet"
           }
          ],
          "choropleth": [
           {
            "colorbar": {
             "outlinewidth": 0,
             "ticks": ""
            },
            "type": "choropleth"
           }
          ],
          "contour": [
           {
            "colorbar": {
             "outlinewidth": 0,
             "ticks": ""
            },
            "colorscale": [
             [
              0,
              "#0d0887"
             ],
             [
              0.1111111111111111,
              "#46039f"
             ],
             [
              0.2222222222222222,
              "#7201a8"
             ],
             [
              0.3333333333333333,
              "#9c179e"
             ],
             [
              0.4444444444444444,
              "#bd3786"
             ],
             [
              0.5555555555555556,
              "#d8576b"
             ],
             [
              0.6666666666666666,
              "#ed7953"
             ],
             [
              0.7777777777777778,
              "#fb9f3a"
             ],
             [
              0.8888888888888888,
              "#fdca26"
             ],
             [
              1,
              "#f0f921"
             ]
            ],
            "type": "contour"
           }
          ],
          "contourcarpet": [
           {
            "colorbar": {
             "outlinewidth": 0,
             "ticks": ""
            },
            "type": "contourcarpet"
           }
          ],
          "heatmap": [
           {
            "colorbar": {
             "outlinewidth": 0,
             "ticks": ""
            },
            "colorscale": [
             [
              0,
              "#0d0887"
             ],
             [
              0.1111111111111111,
              "#46039f"
             ],
             [
              0.2222222222222222,
              "#7201a8"
             ],
             [
              0.3333333333333333,
              "#9c179e"
             ],
             [
              0.4444444444444444,
              "#bd3786"
             ],
             [
              0.5555555555555556,
              "#d8576b"
             ],
             [
              0.6666666666666666,
              "#ed7953"
             ],
             [
              0.7777777777777778,
              "#fb9f3a"
             ],
             [
              0.8888888888888888,
              "#fdca26"
             ],
             [
              1,
              "#f0f921"
             ]
            ],
            "type": "heatmap"
           }
          ],
          "heatmapgl": [
           {
            "colorbar": {
             "outlinewidth": 0,
             "ticks": ""
            },
            "colorscale": [
             [
              0,
              "#0d0887"
             ],
             [
              0.1111111111111111,
              "#46039f"
             ],
             [
              0.2222222222222222,
              "#7201a8"
             ],
             [
              0.3333333333333333,
              "#9c179e"
             ],
             [
              0.4444444444444444,
              "#bd3786"
             ],
             [
              0.5555555555555556,
              "#d8576b"
             ],
             [
              0.6666666666666666,
              "#ed7953"
             ],
             [
              0.7777777777777778,
              "#fb9f3a"
             ],
             [
              0.8888888888888888,
              "#fdca26"
             ],
             [
              1,
              "#f0f921"
             ]
            ],
            "type": "heatmapgl"
           }
          ],
          "histogram": [
           {
            "marker": {
             "pattern": {
              "fillmode": "overlay",
              "size": 10,
              "solidity": 0.2
             }
            },
            "type": "histogram"
           }
          ],
          "histogram2d": [
           {
            "colorbar": {
             "outlinewidth": 0,
             "ticks": ""
            },
            "colorscale": [
             [
              0,
              "#0d0887"
             ],
             [
              0.1111111111111111,
              "#46039f"
             ],
             [
              0.2222222222222222,
              "#7201a8"
             ],
             [
              0.3333333333333333,
              "#9c179e"
             ],
             [
              0.4444444444444444,
              "#bd3786"
             ],
             [
              0.5555555555555556,
              "#d8576b"
             ],
             [
              0.6666666666666666,
              "#ed7953"
             ],
             [
              0.7777777777777778,
              "#fb9f3a"
             ],
             [
              0.8888888888888888,
              "#fdca26"
             ],
             [
              1,
              "#f0f921"
             ]
            ],
            "type": "histogram2d"
           }
          ],
          "histogram2dcontour": [
           {
            "colorbar": {
             "outlinewidth": 0,
             "ticks": ""
            },
            "colorscale": [
             [
              0,
              "#0d0887"
             ],
             [
              0.1111111111111111,
              "#46039f"
             ],
             [
              0.2222222222222222,
              "#7201a8"
             ],
             [
              0.3333333333333333,
              "#9c179e"
             ],
             [
              0.4444444444444444,
              "#bd3786"
             ],
             [
              0.5555555555555556,
              "#d8576b"
             ],
             [
              0.6666666666666666,
              "#ed7953"
             ],
             [
              0.7777777777777778,
              "#fb9f3a"
             ],
             [
              0.8888888888888888,
              "#fdca26"
             ],
             [
              1,
              "#f0f921"
             ]
            ],
            "type": "histogram2dcontour"
           }
          ],
          "mesh3d": [
           {
            "colorbar": {
             "outlinewidth": 0,
             "ticks": ""
            },
            "type": "mesh3d"
           }
          ],
          "parcoords": [
           {
            "line": {
             "colorbar": {
              "outlinewidth": 0,
              "ticks": ""
             }
            },
            "type": "parcoords"
           }
          ],
          "pie": [
           {
            "automargin": true,
            "type": "pie"
           }
          ],
          "scatter": [
           {
            "fillpattern": {
             "fillmode": "overlay",
             "size": 10,
             "solidity": 0.2
            },
            "type": "scatter"
           }
          ],
          "scatter3d": [
           {
            "line": {
             "colorbar": {
              "outlinewidth": 0,
              "ticks": ""
             }
            },
            "marker": {
             "colorbar": {
              "outlinewidth": 0,
              "ticks": ""
             }
            },
            "type": "scatter3d"
           }
          ],
          "scattercarpet": [
           {
            "marker": {
             "colorbar": {
              "outlinewidth": 0,
              "ticks": ""
             }
            },
            "type": "scattercarpet"
           }
          ],
          "scattergeo": [
           {
            "marker": {
             "colorbar": {
              "outlinewidth": 0,
              "ticks": ""
             }
            },
            "type": "scattergeo"
           }
          ],
          "scattergl": [
           {
            "marker": {
             "colorbar": {
              "outlinewidth": 0,
              "ticks": ""
             }
            },
            "type": "scattergl"
           }
          ],
          "scattermapbox": [
           {
            "marker": {
             "colorbar": {
              "outlinewidth": 0,
              "ticks": ""
             }
            },
            "type": "scattermapbox"
           }
          ],
          "scatterpolar": [
           {
            "marker": {
             "colorbar": {
              "outlinewidth": 0,
              "ticks": ""
             }
            },
            "type": "scatterpolar"
           }
          ],
          "scatterpolargl": [
           {
            "marker": {
             "colorbar": {
              "outlinewidth": 0,
              "ticks": ""
             }
            },
            "type": "scatterpolargl"
           }
          ],
          "scatterternary": [
           {
            "marker": {
             "colorbar": {
              "outlinewidth": 0,
              "ticks": ""
             }
            },
            "type": "scatterternary"
           }
          ],
          "surface": [
           {
            "colorbar": {
             "outlinewidth": 0,
             "ticks": ""
            },
            "colorscale": [
             [
              0,
              "#0d0887"
             ],
             [
              0.1111111111111111,
              "#46039f"
             ],
             [
              0.2222222222222222,
              "#7201a8"
             ],
             [
              0.3333333333333333,
              "#9c179e"
             ],
             [
              0.4444444444444444,
              "#bd3786"
             ],
             [
              0.5555555555555556,
              "#d8576b"
             ],
             [
              0.6666666666666666,
              "#ed7953"
             ],
             [
              0.7777777777777778,
              "#fb9f3a"
             ],
             [
              0.8888888888888888,
              "#fdca26"
             ],
             [
              1,
              "#f0f921"
             ]
            ],
            "type": "surface"
           }
          ],
          "table": [
           {
            "cells": {
             "fill": {
              "color": "#EBF0F8"
             },
             "line": {
              "color": "white"
             }
            },
            "header": {
             "fill": {
              "color": "#C8D4E3"
             },
             "line": {
              "color": "white"
             }
            },
            "type": "table"
           }
          ]
         },
         "layout": {
          "annotationdefaults": {
           "arrowcolor": "#2a3f5f",
           "arrowhead": 0,
           "arrowwidth": 1
          },
          "autotypenumbers": "strict",
          "coloraxis": {
           "colorbar": {
            "outlinewidth": 0,
            "ticks": ""
           }
          },
          "colorscale": {
           "diverging": [
            [
             0,
             "#8e0152"
            ],
            [
             0.1,
             "#c51b7d"
            ],
            [
             0.2,
             "#de77ae"
            ],
            [
             0.3,
             "#f1b6da"
            ],
            [
             0.4,
             "#fde0ef"
            ],
            [
             0.5,
             "#f7f7f7"
            ],
            [
             0.6,
             "#e6f5d0"
            ],
            [
             0.7,
             "#b8e186"
            ],
            [
             0.8,
             "#7fbc41"
            ],
            [
             0.9,
             "#4d9221"
            ],
            [
             1,
             "#276419"
            ]
           ],
           "sequential": [
            [
             0,
             "#0d0887"
            ],
            [
             0.1111111111111111,
             "#46039f"
            ],
            [
             0.2222222222222222,
             "#7201a8"
            ],
            [
             0.3333333333333333,
             "#9c179e"
            ],
            [
             0.4444444444444444,
             "#bd3786"
            ],
            [
             0.5555555555555556,
             "#d8576b"
            ],
            [
             0.6666666666666666,
             "#ed7953"
            ],
            [
             0.7777777777777778,
             "#fb9f3a"
            ],
            [
             0.8888888888888888,
             "#fdca26"
            ],
            [
             1,
             "#f0f921"
            ]
           ],
           "sequentialminus": [
            [
             0,
             "#0d0887"
            ],
            [
             0.1111111111111111,
             "#46039f"
            ],
            [
             0.2222222222222222,
             "#7201a8"
            ],
            [
             0.3333333333333333,
             "#9c179e"
            ],
            [
             0.4444444444444444,
             "#bd3786"
            ],
            [
             0.5555555555555556,
             "#d8576b"
            ],
            [
             0.6666666666666666,
             "#ed7953"
            ],
            [
             0.7777777777777778,
             "#fb9f3a"
            ],
            [
             0.8888888888888888,
             "#fdca26"
            ],
            [
             1,
             "#f0f921"
            ]
           ]
          },
          "colorway": [
           "#636efa",
           "#EF553B",
           "#00cc96",
           "#ab63fa",
           "#FFA15A",
           "#19d3f3",
           "#FF6692",
           "#B6E880",
           "#FF97FF",
           "#FECB52"
          ],
          "font": {
           "color": "#2a3f5f"
          },
          "geo": {
           "bgcolor": "white",
           "lakecolor": "white",
           "landcolor": "#E5ECF6",
           "showlakes": true,
           "showland": true,
           "subunitcolor": "white"
          },
          "hoverlabel": {
           "align": "left"
          },
          "hovermode": "closest",
          "mapbox": {
           "style": "light"
          },
          "paper_bgcolor": "white",
          "plot_bgcolor": "#E5ECF6",
          "polar": {
           "angularaxis": {
            "gridcolor": "white",
            "linecolor": "white",
            "ticks": ""
           },
           "bgcolor": "#E5ECF6",
           "radialaxis": {
            "gridcolor": "white",
            "linecolor": "white",
            "ticks": ""
           }
          },
          "scene": {
           "xaxis": {
            "backgroundcolor": "#E5ECF6",
            "gridcolor": "white",
            "gridwidth": 2,
            "linecolor": "white",
            "showbackground": true,
            "ticks": "",
            "zerolinecolor": "white"
           },
           "yaxis": {
            "backgroundcolor": "#E5ECF6",
            "gridcolor": "white",
            "gridwidth": 2,
            "linecolor": "white",
            "showbackground": true,
            "ticks": "",
            "zerolinecolor": "white"
           },
           "zaxis": {
            "backgroundcolor": "#E5ECF6",
            "gridcolor": "white",
            "gridwidth": 2,
            "linecolor": "white",
            "showbackground": true,
            "ticks": "",
            "zerolinecolor": "white"
           }
          },
          "shapedefaults": {
           "line": {
            "color": "#2a3f5f"
           }
          },
          "ternary": {
           "aaxis": {
            "gridcolor": "white",
            "linecolor": "white",
            "ticks": ""
           },
           "baxis": {
            "gridcolor": "white",
            "linecolor": "white",
            "ticks": ""
           },
           "bgcolor": "#E5ECF6",
           "caxis": {
            "gridcolor": "white",
            "linecolor": "white",
            "ticks": ""
           }
          },
          "title": {
           "x": 0.05
          },
          "xaxis": {
           "automargin": true,
           "gridcolor": "white",
           "linecolor": "white",
           "ticks": "",
           "title": {
            "standoff": 15
           },
           "zerolinecolor": "white",
           "zerolinewidth": 2
          },
          "yaxis": {
           "automargin": true,
           "gridcolor": "white",
           "linecolor": "white",
           "ticks": "",
           "title": {
            "standoff": 15
           },
           "zerolinecolor": "white",
           "zerolinewidth": 2
          }
         }
        },
        "title": {
         "text": "100% Stacked Bar Graph of Categories by Score"
        },
        "xaxis": {
         "anchor": "y",
         "domain": [
          0,
          1
         ],
         "title": {
          "text": "DEMO_household_income"
         }
        },
        "yaxis": {
         "anchor": "x",
         "domain": [
          0,
          1
         ],
         "dtick": 0.1,
         "gridcolor": "rgba(0, 0, 0, 0.3)",
         "ticktext": [
          "0%",
          "10%",
          "20%",
          "30%",
          "40%",
          "50%",
          "60%",
          "70%",
          "80%",
          "90%",
          "100%"
         ],
         "tickvals": [
          0,
          0.1,
          0.2,
          0.3,
          0.4,
          0.5,
          0.6,
          0.7,
          0.8,
          0.9,
          1
         ],
         "title": {
          "text": "Percentage (%)"
         }
        }
       }
      }
     },
     "metadata": {},
     "output_type": "display_data"
    }
   ],
   "source": [
    "df_count = data_cross_2021.groupby(['DEMO_household_income', 'WELLNESS_life_satisfaction']).size().reset_index(name='Count')\n",
    "\n",
    "# Unique sort to preserve the order of life satisfaction while also sorting the household income\n",
    "for value in income_mapping.keys():\n",
    "\tdf_count = pd.concat([df_count, df_count.loc[df_count['DEMO_household_income'] == value]], ignore_index=True)\n",
    "df_count = df_count.iloc[len(df_count) // 2 :]\n",
    "\n",
    "# Calculate the percentage directly in the DataFrame and scale it to 0-1\n",
    "df_count['Percentage'] = df_count.groupby('DEMO_household_income')['Count'].transform(lambda x: x / x.sum())\n",
    "\n",
    "# Create a stacked bar graph\n",
    "fig = px.bar(df_count, x='DEMO_household_income', y='Percentage', color='WELLNESS_life_satisfaction',\n",
    "             title='100% Stacked Bar Graph of Categories by Score',\n",
    "             labels={'Percentage': 'Percentage (%)'},\n",
    "             color_continuous_scale=px.colors.sequential.Plasma,\n",
    "\t\t\t)\n",
    "\n",
    "# Update layout\n",
    "fig.update_layout(\n",
    "    barmode='stack',\n",
    "    yaxis=dict(\n",
    "        tickvals=[i / 100 for i in range(0, 101, 10)],\n",
    "        ticktext=[f\"{i}%\" for i in range(0, 101, 10)],\n",
    "        dtick=0.1,  # Add grid lines every 10%\n",
    "        gridcolor='rgba(0, 0, 0, 0.3)'\n",
    "    )\n",
    ")\n",
    "\n",
    "# Show the figure\n",
    "fig.show()"
   ]
  },
  {
   "cell_type": "code",
   "execution_count": 51,
   "metadata": {},
   "outputs": [
    {
     "name": "stderr",
     "output_type": "stream",
     "text": [
      "/var/folders/b0/20_s9xf13p33yqxth9cv22380000gn/T/ipykernel_65608/1564265482.py:1: FutureWarning:\n",
      "\n",
      "The default of observed=False is deprecated and will be changed to True in a future version of pandas. Pass observed=False to retain current behavior or observed=True to adopt the future default and silence this warning.\n",
      "\n"
     ]
    }
   ],
   "source": [
    "satisfaction_per_income = data_cross_2021.groupby('DEMO_household_income')['WELLNESS_life_satisfaction'].agg(\n",
    "    Sample_Size='count',\n",
    "    Mean='mean',\n",
    "    Standard_Deviation='std',\n",
    "    Median='median'\n",
    ").reset_index()\n",
    "\n",
    "# Add 'DEMO_household_income_index' and sort.\n",
    "satisfaction_per_income.insert(1, 'DEMO_household_income_index', satisfaction_per_income['DEMO_household_income'].map(income_mapping))\n",
    "\n",
    "satisfaction_per_income = satisfaction_per_income.sort_values('DEMO_household_income_index')\n",
    "\n",
    "# Display the sorted data\n",
    "# satisfaction_per_income"
   ]
  },
  {
   "cell_type": "code",
   "execution_count": 52,
   "metadata": {},
   "outputs": [
    {
     "name": "stdout",
     "output_type": "stream",
     "text": [
      "Chi-Squared Statistic: 287.3022512737428, P-value = 0.0031337256106074417\n"
     ]
    }
   ],
   "source": [
    "# Create a contingency table\n",
    "contingency_table = pd.crosstab(data_cross_2021['DEMO_household_income'], \n",
    "                                 data_cross_2021['WELLNESS_life_satisfaction'])\n",
    "\n",
    "# Run the Chi-Squared Test\n",
    "chi2, p, dof, expected = stats.chi2_contingency(contingency_table)\n",
    "\n",
    "# Print the results\n",
    "print(f\"Chi-Squared Statistic: {chi2}, P-value = {p}\")"
   ]
  },
  {
   "cell_type": "code",
   "execution_count": 58,
   "metadata": {},
   "outputs": [
    {
     "name": "stdout",
     "output_type": "stream",
     "text": [
      "Simple Model Summary:\n",
      "                                 OLS Regression Results                                \n",
      "======================================================================================\n",
      "Dep. Variable:     WELLNESS_life_satisfaction   R-squared:                       0.038\n",
      "Model:                                    OLS   Adj. R-squared:                  0.024\n",
      "Method:                         Least Squares   F-statistic:                     2.677\n",
      "Date:                        Wed, 27 Nov 2024   Prob (F-statistic):           1.45e-05\n",
      "Time:                                13:38:43   Log-Likelihood:                -3793.6\n",
      "No. Observations:                        1701   AIC:                             7639.\n",
      "Df Residuals:                            1675   BIC:                             7781.\n",
      "Df Model:                                  25                                         \n",
      "Covariance Type:                    nonrobust                                         \n",
      "====================================================================================================================\n",
      "                                                       coef    std err          t      P>|t|      [0.025      0.975]\n",
      "--------------------------------------------------------------------------------------------------------------------\n",
      "Intercept                                            5.0270      0.373     13.482      0.000       4.296       5.758\n",
      "C(DEMO_household_income)[T.$5,000 to $9,999]         0.7873      0.461      1.708      0.088      -0.117       1.691\n",
      "C(DEMO_household_income)[T.$10,000 to $14,999]       1.1193      0.449      2.492      0.013       0.238       2.000\n",
      "C(DEMO_household_income)[T.$15,000 to $19,999]       1.0630      0.436      2.436      0.015       0.207       1.919\n",
      "C(DEMO_household_income)[T.$20,000 to $24,999]       0.7063      0.443      1.595      0.111      -0.162       1.575\n",
      "C(DEMO_household_income)[T.$25,000 to $29,999]       0.9097      0.452      2.013      0.044       0.023       1.796\n",
      "C(DEMO_household_income)[T.$30,000 to $34,999]       1.5524      0.433      3.589      0.000       0.704       2.401\n",
      "C(DEMO_household_income)[T.$35,000 to $39,999]       1.1863      0.456      2.603      0.009       0.293       2.080\n",
      "C(DEMO_household_income)[T.$40,000 to $44,999]       1.6964      0.440      3.854      0.000       0.833       2.560\n",
      "C(DEMO_household_income)[T.$45,000 to $49,999]       0.7730      0.451      1.714      0.087      -0.111       1.657\n",
      "C(DEMO_household_income)[T.$50,000 to $59,999]       0.8178      0.428      1.910      0.056      -0.022       1.658\n",
      "C(DEMO_household_income)[T.$60,000 to $69,999]       1.0197      0.433      2.357      0.019       0.171       1.868\n",
      "C(DEMO_household_income)[T.$70,000 to $79,999]       1.2096      0.422      2.865      0.004       0.381       2.038\n",
      "C(DEMO_household_income)[T.$80,000 to $89,999]       1.2285      0.443      2.774      0.006       0.360       2.097\n",
      "C(DEMO_household_income)[T.$90,000 to $99,999]       1.3969      0.442      3.164      0.002       0.531       2.263\n",
      "C(DEMO_household_income)[T.$100,000 to $109,999]     1.3730      0.443      3.100      0.002       0.504       2.242\n",
      "C(DEMO_household_income)[T.$110,000 to $119,999]     1.7305      0.543      3.187      0.001       0.665       2.796\n",
      "C(DEMO_household_income)[T.$120,000 to $129,999]     2.0256      0.524      3.867      0.000       0.998       3.053\n",
      "C(DEMO_household_income)[T.$130,000 to $139,999]     1.6026      0.574      2.792      0.005       0.477       2.729\n",
      "C(DEMO_household_income)[T.$140,000 to $149,999]     1.5841      0.652      2.430      0.015       0.306       2.863\n",
      "C(DEMO_household_income)[T.$150,000 to $159,999]     2.3455      0.490      4.789      0.000       1.385       3.306\n",
      "C(DEMO_household_income)[T.$160,000 to $169,999]     2.0906      0.665      3.146      0.002       0.787       3.394\n",
      "C(DEMO_household_income)[T.$170,000 to $179,999]     2.2230      0.884      2.514      0.012       0.488       3.958\n",
      "C(DEMO_household_income)[T.$180,000 to $189,999]     1.6730      0.629      2.658      0.008       0.438       2.908\n",
      "C(DEMO_household_income)[T.$190,000 to $199,999]     2.9730      0.884      3.362      0.001       1.238       4.708\n",
      "C(DEMO_household_income)[T.$200,000 or more]         1.7291      0.514      3.362      0.001       0.720       2.738\n",
      "==============================================================================\n",
      "Omnibus:                       52.055   Durbin-Watson:                   2.085\n",
      "Prob(Omnibus):                  0.000   Jarque-Bera (JB):               46.106\n",
      "Skew:                          -0.343   Prob(JB):                     9.73e-11\n",
      "Kurtosis:                       2.577   Cond. No.                         36.2\n",
      "==============================================================================\n",
      "\n",
      "Notes:\n",
      "[1] Standard Errors assume that the covariance matrix of the errors is correctly specified.\n"
     ]
    }
   ],
   "source": [
    "simple_model = smf.ols('WELLNESS_life_satisfaction ~ C(DEMO_household_income)', data=data_cross_2021).fit()\n",
    "print(\"Simple Model Summary:\\n\", simple_model.summary())"
   ]
  },
  {
   "cell_type": "code",
   "execution_count": 84,
   "metadata": {},
   "outputs": [
    {
     "data": {
      "application/vnd.plotly.v1+json": {
       "config": {
        "plotlyServerURL": "https://plot.ly"
       },
       "data": [
        {
         "hovertemplate": "Income Category=%{x}<br>P-value=%{y}<extra></extra>",
         "legendgroup": "",
         "marker": {
          "color": "#636efa",
          "symbol": "circle"
         },
         "mode": "markers",
         "name": "",
         "orientation": "v",
         "showlegend": false,
         "type": "scatter",
         "x": [
          "$5,000 to $9,999",
          "$10,000 to $14,999",
          "$15,000 to $19,999",
          "$20,000 to $24,999",
          "$25,000 to $29,999",
          "$30,000 to $34,999",
          "$35,000 to $39,999",
          "$40,000 to $44,999",
          "$45,000 to $49,999",
          "$50,000 to $59,999",
          "$60,000 to $69,999",
          "$70,000 to $79,999",
          "$80,000 to $89,999",
          "$90,000 to $99,999",
          "$100,000 to $109,999",
          "$110,000 to $119,999",
          "$120,000 to $129,999",
          "$130,000 to $139,999",
          "$140,000 to $149,999",
          "$150,000 to $159,999",
          "$160,000 to $169,999",
          "$170,000 to $179,999",
          "$180,000 to $189,999",
          "$190,000 to $199,999",
          "$200,000 or more"
         ],
         "xaxis": "x",
         "y": [
          0.08787950044584673,
          0.012804515812974749,
          0.01497311966616886,
          0.11099470176482251,
          0.044242980436665656,
          0.00034173743847607766,
          0.009310069729443761,
          0.00012070717644034624,
          0.08668505284763295,
          0.056342775701307454,
          0.018522035250859385,
          0.004227598972777053,
          0.005606024911949455,
          0.0015857857444459375,
          0.001969612250438986,
          0.0014661634803731219,
          0.00011449639891179856,
          0.005304503561468801,
          0.015189046937416567,
          0.0000018266377654121583,
          0.0016852149973102279,
          0.012041633517402155,
          0.007943187929375482,
          0.0007919691797949602,
          0.0007913599537957334
         ],
         "yaxis": "y"
        },
        {
         "line": {
          "color": "skyblue",
          "width": 2
         },
         "mode": "lines",
         "showlegend": false,
         "type": "scatter",
         "x": [
          "$5,000 to $9,999",
          "$10,000 to $14,999",
          "$15,000 to $19,999",
          "$20,000 to $24,999",
          "$25,000 to $29,999",
          "$30,000 to $34,999",
          "$35,000 to $39,999",
          "$40,000 to $44,999",
          "$45,000 to $49,999",
          "$50,000 to $59,999",
          "$60,000 to $69,999",
          "$70,000 to $79,999",
          "$80,000 to $89,999",
          "$90,000 to $99,999",
          "$100,000 to $109,999",
          "$110,000 to $119,999",
          "$120,000 to $129,999",
          "$130,000 to $139,999",
          "$140,000 to $149,999",
          "$150,000 to $159,999",
          "$160,000 to $169,999",
          "$170,000 to $179,999",
          "$180,000 to $189,999",
          "$190,000 to $199,999",
          "$200,000 or more"
         ],
         "y": [
          0.08787950044584673,
          0.012804515812974749,
          0.01497311966616886,
          0.11099470176482251,
          0.044242980436665656,
          0.00034173743847607766,
          0.009310069729443761,
          0.00012070717644034624,
          0.08668505284763295,
          0.056342775701307454,
          0.018522035250859385,
          0.004227598972777053,
          0.005606024911949455,
          0.0015857857444459375,
          0.001969612250438986,
          0.0014661634803731219,
          0.00011449639891179856,
          0.005304503561468801,
          0.015189046937416567,
          0.0000018266377654121583,
          0.0016852149973102279,
          0.012041633517402155,
          0.007943187929375482,
          0.0007919691797949602,
          0.0007913599537957334
         ]
        }
       ],
       "layout": {
        "annotations": [
         {
          "showarrow": false,
          "text": "Significance Threshold (0.05)",
          "x": 1,
          "xanchor": "right",
          "xref": "x domain",
          "y": 0.05,
          "yanchor": "top",
          "yref": "y"
         }
        ],
        "legend": {
         "tracegroupgap": 0
        },
        "shapes": [
         {
          "line": {
           "color": "red",
           "dash": "dash"
          },
          "type": "line",
          "x0": 0,
          "x1": 1,
          "xref": "x domain",
          "y0": 0.05,
          "y1": 0.05,
          "yref": "y"
         }
        ],
        "template": {
         "data": {
          "bar": [
           {
            "error_x": {
             "color": "#f2f5fa"
            },
            "error_y": {
             "color": "#f2f5fa"
            },
            "marker": {
             "line": {
              "color": "rgb(17,17,17)",
              "width": 0.5
             },
             "pattern": {
              "fillmode": "overlay",
              "size": 10,
              "solidity": 0.2
             }
            },
            "type": "bar"
           }
          ],
          "barpolar": [
           {
            "marker": {
             "line": {
              "color": "rgb(17,17,17)",
              "width": 0.5
             },
             "pattern": {
              "fillmode": "overlay",
              "size": 10,
              "solidity": 0.2
             }
            },
            "type": "barpolar"
           }
          ],
          "carpet": [
           {
            "aaxis": {
             "endlinecolor": "#A2B1C6",
             "gridcolor": "#506784",
             "linecolor": "#506784",
             "minorgridcolor": "#506784",
             "startlinecolor": "#A2B1C6"
            },
            "baxis": {
             "endlinecolor": "#A2B1C6",
             "gridcolor": "#506784",
             "linecolor": "#506784",
             "minorgridcolor": "#506784",
             "startlinecolor": "#A2B1C6"
            },
            "type": "carpet"
           }
          ],
          "choropleth": [
           {
            "colorbar": {
             "outlinewidth": 0,
             "ticks": ""
            },
            "type": "choropleth"
           }
          ],
          "contour": [
           {
            "colorbar": {
             "outlinewidth": 0,
             "ticks": ""
            },
            "colorscale": [
             [
              0,
              "#0d0887"
             ],
             [
              0.1111111111111111,
              "#46039f"
             ],
             [
              0.2222222222222222,
              "#7201a8"
             ],
             [
              0.3333333333333333,
              "#9c179e"
             ],
             [
              0.4444444444444444,
              "#bd3786"
             ],
             [
              0.5555555555555556,
              "#d8576b"
             ],
             [
              0.6666666666666666,
              "#ed7953"
             ],
             [
              0.7777777777777778,
              "#fb9f3a"
             ],
             [
              0.8888888888888888,
              "#fdca26"
             ],
             [
              1,
              "#f0f921"
             ]
            ],
            "type": "contour"
           }
          ],
          "contourcarpet": [
           {
            "colorbar": {
             "outlinewidth": 0,
             "ticks": ""
            },
            "type": "contourcarpet"
           }
          ],
          "heatmap": [
           {
            "colorbar": {
             "outlinewidth": 0,
             "ticks": ""
            },
            "colorscale": [
             [
              0,
              "#0d0887"
             ],
             [
              0.1111111111111111,
              "#46039f"
             ],
             [
              0.2222222222222222,
              "#7201a8"
             ],
             [
              0.3333333333333333,
              "#9c179e"
             ],
             [
              0.4444444444444444,
              "#bd3786"
             ],
             [
              0.5555555555555556,
              "#d8576b"
             ],
             [
              0.6666666666666666,
              "#ed7953"
             ],
             [
              0.7777777777777778,
              "#fb9f3a"
             ],
             [
              0.8888888888888888,
              "#fdca26"
             ],
             [
              1,
              "#f0f921"
             ]
            ],
            "type": "heatmap"
           }
          ],
          "heatmapgl": [
           {
            "colorbar": {
             "outlinewidth": 0,
             "ticks": ""
            },
            "colorscale": [
             [
              0,
              "#0d0887"
             ],
             [
              0.1111111111111111,
              "#46039f"
             ],
             [
              0.2222222222222222,
              "#7201a8"
             ],
             [
              0.3333333333333333,
              "#9c179e"
             ],
             [
              0.4444444444444444,
              "#bd3786"
             ],
             [
              0.5555555555555556,
              "#d8576b"
             ],
             [
              0.6666666666666666,
              "#ed7953"
             ],
             [
              0.7777777777777778,
              "#fb9f3a"
             ],
             [
              0.8888888888888888,
              "#fdca26"
             ],
             [
              1,
              "#f0f921"
             ]
            ],
            "type": "heatmapgl"
           }
          ],
          "histogram": [
           {
            "marker": {
             "pattern": {
              "fillmode": "overlay",
              "size": 10,
              "solidity": 0.2
             }
            },
            "type": "histogram"
           }
          ],
          "histogram2d": [
           {
            "colorbar": {
             "outlinewidth": 0,
             "ticks": ""
            },
            "colorscale": [
             [
              0,
              "#0d0887"
             ],
             [
              0.1111111111111111,
              "#46039f"
             ],
             [
              0.2222222222222222,
              "#7201a8"
             ],
             [
              0.3333333333333333,
              "#9c179e"
             ],
             [
              0.4444444444444444,
              "#bd3786"
             ],
             [
              0.5555555555555556,
              "#d8576b"
             ],
             [
              0.6666666666666666,
              "#ed7953"
             ],
             [
              0.7777777777777778,
              "#fb9f3a"
             ],
             [
              0.8888888888888888,
              "#fdca26"
             ],
             [
              1,
              "#f0f921"
             ]
            ],
            "type": "histogram2d"
           }
          ],
          "histogram2dcontour": [
           {
            "colorbar": {
             "outlinewidth": 0,
             "ticks": ""
            },
            "colorscale": [
             [
              0,
              "#0d0887"
             ],
             [
              0.1111111111111111,
              "#46039f"
             ],
             [
              0.2222222222222222,
              "#7201a8"
             ],
             [
              0.3333333333333333,
              "#9c179e"
             ],
             [
              0.4444444444444444,
              "#bd3786"
             ],
             [
              0.5555555555555556,
              "#d8576b"
             ],
             [
              0.6666666666666666,
              "#ed7953"
             ],
             [
              0.7777777777777778,
              "#fb9f3a"
             ],
             [
              0.8888888888888888,
              "#fdca26"
             ],
             [
              1,
              "#f0f921"
             ]
            ],
            "type": "histogram2dcontour"
           }
          ],
          "mesh3d": [
           {
            "colorbar": {
             "outlinewidth": 0,
             "ticks": ""
            },
            "type": "mesh3d"
           }
          ],
          "parcoords": [
           {
            "line": {
             "colorbar": {
              "outlinewidth": 0,
              "ticks": ""
             }
            },
            "type": "parcoords"
           }
          ],
          "pie": [
           {
            "automargin": true,
            "type": "pie"
           }
          ],
          "scatter": [
           {
            "marker": {
             "line": {
              "color": "#283442"
             }
            },
            "type": "scatter"
           }
          ],
          "scatter3d": [
           {
            "line": {
             "colorbar": {
              "outlinewidth": 0,
              "ticks": ""
             }
            },
            "marker": {
             "colorbar": {
              "outlinewidth": 0,
              "ticks": ""
             }
            },
            "type": "scatter3d"
           }
          ],
          "scattercarpet": [
           {
            "marker": {
             "colorbar": {
              "outlinewidth": 0,
              "ticks": ""
             }
            },
            "type": "scattercarpet"
           }
          ],
          "scattergeo": [
           {
            "marker": {
             "colorbar": {
              "outlinewidth": 0,
              "ticks": ""
             }
            },
            "type": "scattergeo"
           }
          ],
          "scattergl": [
           {
            "marker": {
             "line": {
              "color": "#283442"
             }
            },
            "type": "scattergl"
           }
          ],
          "scattermapbox": [
           {
            "marker": {
             "colorbar": {
              "outlinewidth": 0,
              "ticks": ""
             }
            },
            "type": "scattermapbox"
           }
          ],
          "scatterpolar": [
           {
            "marker": {
             "colorbar": {
              "outlinewidth": 0,
              "ticks": ""
             }
            },
            "type": "scatterpolar"
           }
          ],
          "scatterpolargl": [
           {
            "marker": {
             "colorbar": {
              "outlinewidth": 0,
              "ticks": ""
             }
            },
            "type": "scatterpolargl"
           }
          ],
          "scatterternary": [
           {
            "marker": {
             "colorbar": {
              "outlinewidth": 0,
              "ticks": ""
             }
            },
            "type": "scatterternary"
           }
          ],
          "surface": [
           {
            "colorbar": {
             "outlinewidth": 0,
             "ticks": ""
            },
            "colorscale": [
             [
              0,
              "#0d0887"
             ],
             [
              0.1111111111111111,
              "#46039f"
             ],
             [
              0.2222222222222222,
              "#7201a8"
             ],
             [
              0.3333333333333333,
              "#9c179e"
             ],
             [
              0.4444444444444444,
              "#bd3786"
             ],
             [
              0.5555555555555556,
              "#d8576b"
             ],
             [
              0.6666666666666666,
              "#ed7953"
             ],
             [
              0.7777777777777778,
              "#fb9f3a"
             ],
             [
              0.8888888888888888,
              "#fdca26"
             ],
             [
              1,
              "#f0f921"
             ]
            ],
            "type": "surface"
           }
          ],
          "table": [
           {
            "cells": {
             "fill": {
              "color": "#506784"
             },
             "line": {
              "color": "rgb(17,17,17)"
             }
            },
            "header": {
             "fill": {
              "color": "#2a3f5f"
             },
             "line": {
              "color": "rgb(17,17,17)"
             }
            },
            "type": "table"
           }
          ]
         },
         "layout": {
          "annotationdefaults": {
           "arrowcolor": "#f2f5fa",
           "arrowhead": 0,
           "arrowwidth": 1
          },
          "autotypenumbers": "strict",
          "coloraxis": {
           "colorbar": {
            "outlinewidth": 0,
            "ticks": ""
           }
          },
          "colorscale": {
           "diverging": [
            [
             0,
             "#8e0152"
            ],
            [
             0.1,
             "#c51b7d"
            ],
            [
             0.2,
             "#de77ae"
            ],
            [
             0.3,
             "#f1b6da"
            ],
            [
             0.4,
             "#fde0ef"
            ],
            [
             0.5,
             "#f7f7f7"
            ],
            [
             0.6,
             "#e6f5d0"
            ],
            [
             0.7,
             "#b8e186"
            ],
            [
             0.8,
             "#7fbc41"
            ],
            [
             0.9,
             "#4d9221"
            ],
            [
             1,
             "#276419"
            ]
           ],
           "sequential": [
            [
             0,
             "#0d0887"
            ],
            [
             0.1111111111111111,
             "#46039f"
            ],
            [
             0.2222222222222222,
             "#7201a8"
            ],
            [
             0.3333333333333333,
             "#9c179e"
            ],
            [
             0.4444444444444444,
             "#bd3786"
            ],
            [
             0.5555555555555556,
             "#d8576b"
            ],
            [
             0.6666666666666666,
             "#ed7953"
            ],
            [
             0.7777777777777778,
             "#fb9f3a"
            ],
            [
             0.8888888888888888,
             "#fdca26"
            ],
            [
             1,
             "#f0f921"
            ]
           ],
           "sequentialminus": [
            [
             0,
             "#0d0887"
            ],
            [
             0.1111111111111111,
             "#46039f"
            ],
            [
             0.2222222222222222,
             "#7201a8"
            ],
            [
             0.3333333333333333,
             "#9c179e"
            ],
            [
             0.4444444444444444,
             "#bd3786"
            ],
            [
             0.5555555555555556,
             "#d8576b"
            ],
            [
             0.6666666666666666,
             "#ed7953"
            ],
            [
             0.7777777777777778,
             "#fb9f3a"
            ],
            [
             0.8888888888888888,
             "#fdca26"
            ],
            [
             1,
             "#f0f921"
            ]
           ]
          },
          "colorway": [
           "#636efa",
           "#EF553B",
           "#00cc96",
           "#ab63fa",
           "#FFA15A",
           "#19d3f3",
           "#FF6692",
           "#B6E880",
           "#FF97FF",
           "#FECB52"
          ],
          "font": {
           "color": "#f2f5fa"
          },
          "geo": {
           "bgcolor": "rgb(17,17,17)",
           "lakecolor": "rgb(17,17,17)",
           "landcolor": "rgb(17,17,17)",
           "showlakes": true,
           "showland": true,
           "subunitcolor": "#506784"
          },
          "hoverlabel": {
           "align": "left"
          },
          "hovermode": "closest",
          "mapbox": {
           "style": "dark"
          },
          "paper_bgcolor": "rgb(17,17,17)",
          "plot_bgcolor": "rgb(17,17,17)",
          "polar": {
           "angularaxis": {
            "gridcolor": "#506784",
            "linecolor": "#506784",
            "ticks": ""
           },
           "bgcolor": "rgb(17,17,17)",
           "radialaxis": {
            "gridcolor": "#506784",
            "linecolor": "#506784",
            "ticks": ""
           }
          },
          "scene": {
           "xaxis": {
            "backgroundcolor": "rgb(17,17,17)",
            "gridcolor": "#506784",
            "gridwidth": 2,
            "linecolor": "#506784",
            "showbackground": true,
            "ticks": "",
            "zerolinecolor": "#C8D4E3"
           },
           "yaxis": {
            "backgroundcolor": "rgb(17,17,17)",
            "gridcolor": "#506784",
            "gridwidth": 2,
            "linecolor": "#506784",
            "showbackground": true,
            "ticks": "",
            "zerolinecolor": "#C8D4E3"
           },
           "zaxis": {
            "backgroundcolor": "rgb(17,17,17)",
            "gridcolor": "#506784",
            "gridwidth": 2,
            "linecolor": "#506784",
            "showbackground": true,
            "ticks": "",
            "zerolinecolor": "#C8D4E3"
           }
          },
          "shapedefaults": {
           "line": {
            "color": "#f2f5fa"
           }
          },
          "sliderdefaults": {
           "bgcolor": "#C8D4E3",
           "bordercolor": "rgb(17,17,17)",
           "borderwidth": 1,
           "tickwidth": 0
          },
          "ternary": {
           "aaxis": {
            "gridcolor": "#506784",
            "linecolor": "#506784",
            "ticks": ""
           },
           "baxis": {
            "gridcolor": "#506784",
            "linecolor": "#506784",
            "ticks": ""
           },
           "bgcolor": "rgb(17,17,17)",
           "caxis": {
            "gridcolor": "#506784",
            "linecolor": "#506784",
            "ticks": ""
           }
          },
          "title": {
           "x": 0.05
          },
          "updatemenudefaults": {
           "bgcolor": "#506784",
           "borderwidth": 0
          },
          "xaxis": {
           "automargin": true,
           "gridcolor": "#283442",
           "linecolor": "#506784",
           "ticks": "",
           "title": {
            "standoff": 15
           },
           "zerolinecolor": "#283442",
           "zerolinewidth": 2
          },
          "yaxis": {
           "automargin": true,
           "gridcolor": "#283442",
           "linecolor": "#506784",
           "ticks": "",
           "title": {
            "standoff": 15
           },
           "zerolinecolor": "#283442",
           "zerolinewidth": 2
          }
         }
        },
        "title": {
         "text": "P-values for Household Income Categories"
        },
        "xaxis": {
         "anchor": "y",
         "domain": [
          0,
          1
         ],
         "title": {
          "text": "Income Category"
         }
        },
        "yaxis": {
         "anchor": "x",
         "domain": [
          0,
          1
         ],
         "title": {
          "text": "P-value"
         }
        }
       }
      }
     },
     "metadata": {},
     "output_type": "display_data"
    }
   ],
   "source": [
    "p_values = simple_model.pvalues.drop('Intercept')\n",
    "\n",
    "plot_data = pd.DataFrame({'Income Category': income_categories[1:], 'P-value': p_values.values})\n",
    "\n",
    "fig = px.scatter(\n",
    "    plot_data,\n",
    "    x='Income Category',\n",
    "    y='P-value',\n",
    "    title='P-values for Household Income Categories',\n",
    "    template='plotly_dark',\n",
    ")\n",
    "\n",
    "fig.add_scatter(\n",
    "    x=plot_data['Income Category'],\n",
    "    y=plot_data['P-value'],\n",
    "    mode='lines',\n",
    "    line=dict(color='skyblue', width=2),\n",
    "    showlegend=False,\n",
    ")\n",
    "\n",
    "fig.add_hline(\n",
    "    y=0.05,\n",
    "    line_dash=\"dash\",\n",
    "    line_color=\"red\",\n",
    "    annotation_text=\"Significance Threshold (0.05)\",\n",
    "    annotation_position=\"bottom right\"\n",
    ")\n",
    "\n",
    "# Render the plot\n",
    "fig.show()\n"
   ]
  }
 ],
 "metadata": {
  "kernelspec": {
   "display_name": "Python 3",
   "language": "python",
   "name": "python3"
  },
  "language_info": {
   "codemirror_mode": {
    "name": "ipython",
    "version": 3
   },
   "file_extension": ".py",
   "mimetype": "text/x-python",
   "name": "python",
   "nbconvert_exporter": "python",
   "pygments_lexer": "ipython3",
   "version": "3.12.4"
  }
 },
 "nbformat": 4,
 "nbformat_minor": 2
}
