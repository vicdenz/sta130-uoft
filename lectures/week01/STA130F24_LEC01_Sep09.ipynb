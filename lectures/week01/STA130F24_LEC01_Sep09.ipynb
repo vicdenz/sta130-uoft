{
 "cells": [
  {
   "cell_type": "markdown",
   "id": "9b53f773",
   "metadata": {},
   "source": [
    "# Data Summarization\n",
    "\n",
    "- **Functions**, **arguments**, and **attributes** via `pd.read_csv()`<br><br>\n",
    "    - `inplace=\"ISO-8859-1\"` encoding the amazon data set (a subtle introduction of \"data\" and \"object\" types)\n",
    "    - `.shape` and `.columns` (and in the next section `df[\"new_columns\"] = ...`)<br><br>\n",
    "\n",
    "- **Methods**, **chaining**, and **coercion** as in `df.isnull().sum(axis=1)`<br><br>\n",
    "    - \"data\" types (as opposed to \"Object\" types which will be discussed formally next week)\n",
    "    - **numeric** `float64` and `int64`, **categorical** `category`, and **object**\n",
    "    - `.dtypes` and `.astype()`<br><br>\n",
    "    \n",
    "- **Summarizing data** with `df.describe()` and **statistics** (as opposed to **Statistics**)<br><br>\n",
    "\n",
    "    - $\\bar x$ the **sample mean** `df['col'].mean()` \n",
    "\n",
    "      $\\displaystyle \\bar x = \\frac{1}{n}\\sum_{i=1}^n x_i$<br><br> \n",
    "\n",
    "    - $s^2$ the **sample variance (var)** `df['col'].var()` and $s$ the **sample standard deviation (std)**  `df['col'].std()`\n",
    "      \n",
    "      $\\displaystyle s^2 = \\frac{1}{n-1}\\sum_{i=1}^n (x_i-\\bar x)^2 \\quad \\text{ and } \\quad s = \\sqrt{s^2}$<br><br>  \n",
    "      \n",
    "    - **min** `df['col'].min()`, **max** `df['col'].max()` (and $Q1$, the **median**, and $Q3$ to be discussed later)<br><br>\n",
    "    \n",
    "- **Summarizing data** with `df['categorical_column'].value_counts()` and (one more **statistic**) the **mode**<br><br>\n",
    "\n",
    "- **Sorting**, **indexing**, and **subsetting**<br><br>\n",
    "\n",
    "    - `.sort_values()`\n",
    "    - `df[]` 0-based (row) and (column) name indexing (and \"index\" versus \"row\")<br>versus fully 0-based indexing with `df.iloc[]` and \"slicing\" with `:`\n",
    "    - versus `df[]` or `df.loc[]` **boolean selection** with **logical conditionals**<br> \n",
    "      `>=` / `>` / `<=` / `<` /  and `==` (and `!=` in contrast to `=`) and `~` / `&` / `|` (not/and/or)\n"
   ]
  },
  {
   "cell_type": "markdown",
   "id": "c49555d6",
   "metadata": {},
   "source": [
    "## **Functions**, **arguments**, and **attributes**"
   ]
  },
  {
   "cell_type": "code",
   "execution_count": null,
   "id": "d6a49a7a",
   "metadata": {},
   "outputs": [],
   "source": [
    "import pandas as pd\n",
    "\n",
    "url = \"https://raw.githubusercontent.com/pointOfive/STA130_F23/main/Data/amazonbooks.csv\"\n",
    "# Github requires the \"raw\" subdomain to read files.\n",
    "# Ex: This will not work -> https://github.com/pointOfive/STA130_F23/blob/main/Data/amazonbooks.csv\n",
    "\n",
    "# ab = pd.read_csv(url, encoding='UTF-8') # Incorrect encoding type.\n",
    "ab = pd.read_csv(url, encoding=\"ISO-8859-1\") # works!\n",
    "ab"
   ]
  },
  {
   "cell_type": "code",
   "execution_count": null,
   "id": "a3fd89a2",
   "metadata": {},
   "outputs": [],
   "source": [
    "# object attribute (not a method)\n",
    "ab.shape"
   ]
  },
  {
   "cell_type": "code",
   "execution_count": null,
   "id": "d9a44630",
   "metadata": {},
   "outputs": [],
   "source": [
    "# object attribute (not a method)\n",
    "ab.columns"
   ]
  },
  {
   "cell_type": "markdown",
   "id": "92e3150a",
   "metadata": {},
   "source": [
    "## Chaining and coercion and<br>\"data\" types (as opposed to \"Object\" types to be discussed later)\n"
   ]
  },
  {
   "cell_type": "code",
   "execution_count": null,
   "id": "3d52867f",
   "metadata": {},
   "outputs": [],
   "source": [
    "# returns a Pandas DataFrame of the same shape\n",
    "# with entries replaced with True for missing values and False for non-missing values.\n",
    "ab.isna()"
   ]
  },
  {
   "cell_type": "code",
   "execution_count": null,
   "id": "078048c6",
   "metadata": {},
   "outputs": [],
   "source": [
    "# object method (with no arguments)\n",
    "ab.isnull().sum() # number of entries missing per column"
   ]
  },
  {
   "cell_type": "code",
   "execution_count": null,
   "id": "2909aa8c",
   "metadata": {},
   "outputs": [],
   "source": [
    "# .isna() is the same to .isnull() (an alias)\n",
    "ab.isna().sum() # number of entries missing per column"
   ]
  },
  {
   "cell_type": "code",
   "execution_count": null,
   "id": "80425043",
   "metadata": {},
   "outputs": [],
   "source": [
    "# optional argument to change axis\n",
    "ab.isna().sum(axis=1) # number of missing entries missing per row"
   ]
  },
  {
   "cell_type": "code",
   "execution_count": null,
   "id": "14f546bb",
   "metadata": {},
   "outputs": [],
   "source": [
    "ab['# missing on row'] = ab.isna().sum(axis=1)\n",
    "ab"
   ]
  },
  {
   "cell_type": "code",
   "execution_count": null,
   "id": "8be35897",
   "metadata": {},
   "outputs": [],
   "source": [
    "ab_isna = ab.isna()\n",
    "print(ab_isna.dtypes)\n",
    "ab_isna.head()  # now they're all boolean"
   ]
  },
  {
   "cell_type": "code",
   "execution_count": null,
   "id": "ceaa16ad",
   "metadata": {},
   "outputs": [],
   "source": [
    "# Why then are these numbers?\n",
    "print(ab.isna().sum(), end='\\n\\n')\n",
    "ab.isna().sum(axis=1)"
   ]
  },
  {
   "cell_type": "code",
   "execution_count": null,
   "id": "f21a49c3",
   "metadata": {},
   "outputs": [],
   "source": [
    "# This is due to something called *coercion* \n",
    "# which implicitly changes the data types in an appropriate manner\n",
    "\n",
    "# But we can explicitly change the types of data ourselves...\n",
    "\n",
    "print(ab.dtypes)  # originally they were all... \"float\" and \"object\" ?\n",
    "ab.head()  # and `ab['# missing on row'] = ab.isna().sum(axis=1)` become an \"int\" ?"
   ]
  },
  {
   "cell_type": "code",
   "execution_count": null,
   "id": "9054a381",
   "metadata": {},
   "outputs": [],
   "source": [
    "ab_dropna = ab.dropna()\n",
    "new_data_types = {'Hard_or_Paper': \"category\", \n",
    "                  'NumPages': int,\n",
    "                  'Pub year': int}\n",
    "# rather than doing them separately like \n",
    "#ab_dropna_v2['Hard_or_Paper'] = ab_dropna_v2['Hard_or_Paper'].astype(\"object\")\n",
    "\n",
    "# Demo some ChatGPT?\n",
    "\n",
    "ab = ab.astype(new_data_types)\n",
    "#ab_dropna = ab_dropna.astype(new_data_types)\n",
    "#pd.DataFrame({\"Orignal\": ab.dtypes, \"Adjusted\": ab_dropna.dtypes})"
   ]
  },
  {
   "cell_type": "code",
   "execution_count": null,
   "id": "7985acda",
   "metadata": {},
   "outputs": [],
   "source": [
    "new_column_names = {k:k+\" (\"+v+\")\" for k,v in zip(ab.columns,ab_dropna.dtypes.values.astype(str))}\n",
    "new_column_names"
   ]
  },
  {
   "cell_type": "code",
   "execution_count": null,
   "id": "5abe8c0c",
   "metadata": {},
   "outputs": [],
   "source": [
    "# Use inplace=True rather than ab_dropna = ab_dropna.rename(columns=new_column_names)\n",
    "ab_dropna.rename(columns=new_column_names, inplace=True)  # if you like\n",
    "ab_dropna.head()  # \"objects\" are still not really \"categories\""
   ]
  },
  {
   "cell_type": "markdown",
   "id": "c99f8399",
   "metadata": {},
   "source": [
    "## Summarizing data with `df.describe()` and *statistics* (as opposed to *Statistics*)\n",
    "\n",
    "The sample mean, sample variance, and sample standard devation are examples of **statistics** which are important in the discipline of **Statistics**\n",
    "$$\\huge \\displaystyle \\bar x = \\frac{1}{n}\\sum_{i=1}^n x_i \\quad\\quad\\quad \\displaystyle s^2 = \\frac{1}{n-1}\\sum_{i=1}^n (x_i-\\bar x)^2 \\quad\\quad\\quad s=\\sqrt{s^2}$$ \n"
   ]
  },
  {
   "cell_type": "code",
   "execution_count": null,
   "id": "c4f48913",
   "metadata": {
    "scrolled": false
   },
   "outputs": [],
   "source": [
    "url = \"https://raw.githubusercontent.com/KeithGalli/pandas/master/pokemon_data.csv\"\n",
    "\n",
    "pokeaman = pd.read_csv(url)\n",
    "colnames_wtype = {k:k+\" (\"+v+\")\" for k,v in zip(pokeaman.columns,pokeaman.dtypes.values.astype(str))}\n",
    "pokeaman.rename(columns=colnames_wtype, inplace=True)\n",
    "pokeaman"
   ]
  },
  {
   "cell_type": "code",
   "execution_count": null,
   "id": "2390cb1f",
   "metadata": {},
   "outputs": [],
   "source": [
    "# Why does this not have all the columns?\n",
    "pokeaman.describe()  # more coercion... if you see it?"
   ]
  },
  {
   "cell_type": "markdown",
   "id": "f6630948",
   "metadata": {},
   "source": [
    "Because these are summaries for **numieric** data types...\n",
    "\n",
    "- $\\bar x$ the **sample mean** `df['col'].mean()` \n",
    "\n",
    "  $\\displaystyle \\bar x = \\frac{1}{n}\\sum_{i=1}^n x_i$ \n",
    "\n",
    "- $s$ the **sample standard deviation (std)** `df['col'].std()`\n",
    "\n",
    "  $\\displaystyle s = \\sqrt{s^2}$\n",
    "\n",
    "  > $s^2$ the **sample variance (var)** `df['col'].var()`\n",
    "  >  \n",
    "  > $\\displaystyle s^2 = \\frac{1}{n-1}\\sum_{i=1}^n (x_i-\\bar x)^2$      \n",
    "        \n",
    "- and where **min** `df['col'].min()` and **max** `df['col'].max()` are (hopefully) obvious\n",
    "- and **25%, 50%, and 75%** are the first, second, and third **quantiles** referred to as $Q1$, the **median**, and $Q3$ (but these will not be discussed later)\n"
   ]
  },
  {
   "cell_type": "markdown",
   "id": "d3ab0d73",
   "metadata": {},
   "source": [
    "## **Summarizing data** with<br><br>`df['categorical_column'].value_counts()`"
   ]
  },
  {
   "cell_type": "code",
   "execution_count": null,
   "id": "b363e078",
   "metadata": {},
   "outputs": [],
   "source": [
    "# Another \"explanation\" as to why `.describe()` doesn't have all the columns is \"because\"\n",
    "# ...obviously this is not an explanation... it's just an example of why \n",
    "# `.value_counts()` is what we should use for categorical data\n",
    "pokeaman['Type 1 (object)'].value_counts()\n",
    "# where the most frequently occuring value is called the *mode*"
   ]
  },
  {
   "cell_type": "code",
   "execution_count": null,
   "id": "cbeb6242",
   "metadata": {},
   "outputs": [],
   "source": [
    "# And where the `dropna=False` *argument* can be added to include a count of missing values\n",
    "pokeaman['Type 2 (object)'].value_counts(dropna=False)  # 'Type 1 (object)' doesn't have NaNs"
   ]
  },
  {
   "cell_type": "code",
   "execution_count": null,
   "id": "262f6aa9",
   "metadata": {},
   "outputs": [],
   "source": [
    "pokeaman[['Type 1 (object)', 'Type 2 (object)']].value_counts(dropna=False)"
   ]
  },
  {
   "cell_type": "markdown",
   "id": "bf7d266e",
   "metadata": {},
   "source": [
    "## Sorting, indexing, and subsetting<br>OR\n",
    "\n",
    "### `.sort_values()`<br><br>`df[]` 0-based (row) and (column) name indexing (and \"index\" versus \"row\")<br><br>$\\quad$versus fully 0-based indexing with `df.iloc[]` and \"slicing\" with `:`<br><br>$\\quad\\quad$versus `df[]` or `df.loc[]` **boolean selection** with **logical conditionals**<br><sub>$\\quad\\quad\\;\\;$ `>=` / `>` / `<=` / `<` /  and `==` (and `!=` in contrast to `=`) and `~` / `&` / `|` (not/and/or)</sub>\n"
   ]
  },
  {
   "cell_type": "code",
   "execution_count": null,
   "id": "1c0d253f",
   "metadata": {},
   "outputs": [],
   "source": [
    "# Indexing\n",
    "\n",
    "# pokeaman[0:10]\n",
    "pokeaman.loc[['Attack', 'Legendary']]"
   ]
  },
  {
   "cell_type": "code",
   "execution_count": null,
   "id": "c184e546",
   "metadata": {},
   "outputs": [],
   "source": [
    "# .iloc() method\n",
    "pokeaman.iloc[5:10, 1:4]"
   ]
  },
  {
   "cell_type": "code",
   "execution_count": 5,
   "id": "6aa129c5",
   "metadata": {},
   "outputs": [],
   "source": [
    "colnames_wotype = {col: col.split(\" (\")[0] for col in pokeaman.columns.astype(str)}\n",
    "pokeaman.rename(columns=colnames_wotype, inplace=True)"
   ]
  },
  {
   "cell_type": "code",
   "execution_count": null,
   "id": "ba409722",
   "metadata": {},
   "outputs": [],
   "source": [
    "# sorting\n",
    "pokeaman.sort_values(\"Attack\", ascending=False) "
   ]
  },
  {
   "cell_type": "code",
   "execution_count": null,
   "id": "f2dd24cc",
   "metadata": {},
   "outputs": [],
   "source": [
    "# indexing V1: 0-based (row) and (column) name indexing \n",
    "# [row_sequence_subset] or [column_name_list] or [row_sequence_subset][column_name_list]\n",
    "# pokeaman[:10]\n",
    "# or try \n",
    "# pokeaman[['Name','Type 1']] # but note that `pokeaman['Name','Type 1']` won't work(!)\n",
    "pokeaman[:10][['Name','Type 1']]"
   ]
  },
  {
   "cell_type": "code",
   "execution_count": null,
   "id": "36e95ce6",
   "metadata": {},
   "outputs": [],
   "source": [
    "# (and \"index\" versus \"row\")\n",
    "pokeaman.dropna()[:10][['Name','Type 1']]"
   ]
  },
  {
   "cell_type": "code",
   "execution_count": null,
   "id": "6a626866",
   "metadata": {},
   "outputs": [],
   "source": [
    "# indexing V2: fully 0-based indexing with df.iloc[] and \"slicing\" with `:`\n",
    "# [ rows , cols ] specifically [ rowStart : rowEndPlus1 , colstart : rowEndPlus1 ]\n",
    "\n",
    "pokeaman.iloc[ :10 , : ]  # pokeaman[:10]\n",
    "pokeaman.iloc[ 0:10 , : ]  # pokeaman[0:10]\n",
    "pokeaman.iloc[ 10:20 , 1:3 ]  # pokeaman[10:20][['Name','Type 1']]"
   ]
  },
  {
   "cell_type": "code",
   "execution_count": null,
   "id": "e55f0dd7",
   "metadata": {},
   "outputs": [],
   "source": [
    "# (and \"index\" versus \"row\")\n",
    "pokeaman.dropna().iloc[ :10 , 1:3 ] "
   ]
  },
  {
   "cell_type": "code",
   "execution_count": null,
   "id": "10cfa65b",
   "metadata": {},
   "outputs": [],
   "source": [
    "# (and \"index\" versus \"row\")\n",
    "pokeaman.sort_values([\"Attack\",\"Defense\"], ascending=[False,True]).iloc[ :10, : ]"
   ]
  },
  {
   "cell_type": "code",
   "execution_count": null,
   "id": "acdb1bde",
   "metadata": {},
   "outputs": [],
   "source": [
    "# indexing V3: *boolean selection* with *logical conditionals*\n",
    "# indexing V3: df[] or df.loc[ logical_conditional , colname_list ] \n",
    "#                   or df.loc[ row_based_indexing , colname_list ] \n",
    "\n",
    "pokeaman.Legendary\n",
    "pokeaman[pokeaman.Legendary]"
   ]
  },
  {
   "cell_type": "code",
   "execution_count": null,
   "id": "0f1ddcdc",
   "metadata": {},
   "outputs": [],
   "source": [
    "# (and \"index\" versus \"row\")\n",
    "pokeaman.dropna().loc[ :10 , ['Name','Type 1'] ]  # or just rows"
   ]
  },
  {
   "cell_type": "code",
   "execution_count": null,
   "id": "f64c44cf",
   "metadata": {},
   "outputs": [],
   "source": [
    "~pokeaman.Legendary\n",
    "pokeaman[~pokeaman.Legendary]"
   ]
  },
  {
   "cell_type": "code",
   "execution_count": null,
   "id": "062960e5",
   "metadata": {},
   "outputs": [],
   "source": [
    "(pokeaman[\"HP\"] > 80)  # what would `~(pokeaman[\"HP\"] > 80)` be?\n",
    "pokeaman[ pokeaman[\"HP\"] > 80 ]"
   ]
  },
  {
   "cell_type": "code",
   "execution_count": null,
   "id": "a7a13815",
   "metadata": {},
   "outputs": [],
   "source": [
    "# (pokeaman[\"HP\"] > 80) & (pokeaman[\"Type 2\"] == \"Fighting\")\n",
    "pokeaman[ (pokeaman[\"HP\"] > 80) & (pokeaman[\"Type 2\"] == \"Fighting\") ]"
   ]
  },
  {
   "cell_type": "code",
   "execution_count": null,
   "id": "ad8a4d78",
   "metadata": {
    "scrolled": true
   },
   "outputs": [],
   "source": [
    "# something like `pokeaman.Type 2` wouldn't work... why?\n",
    "pokeaman.loc[~(pokeaman.HP > 120) | (pokeaman.Defense > 180)]\n",
    "# pokeaman.query(\"HP > 120 and Legendary == True\")"
   ]
  },
  {
   "cell_type": "markdown",
   "id": "a1a5a899",
   "metadata": {},
   "source": [
    "> There's probably not time, but if there is... we could review/demo the pokemon data set a little bit more, with more complex *chaining* like `df.dropna().groupby('col1').describe()`?"
   ]
  },
  {
   "cell_type": "code",
   "execution_count": null,
   "id": "8c422e50",
   "metadata": {},
   "outputs": [],
   "source": [
    "pokemon.describe()"
   ]
  },
  {
   "cell_type": "code",
   "execution_count": null,
   "id": "d65fec7d",
   "metadata": {},
   "outputs": [],
   "source": [
    "pokemon[[\"Type 1\",\"Type 2\"]].value_counts()"
   ]
  },
  {
   "cell_type": "code",
   "execution_count": null,
   "id": "acdf8cb3",
   "metadata": {},
   "outputs": [],
   "source": [
    "pokemon.groupby('Type 1').describe()"
   ]
  },
  {
   "cell_type": "code",
   "execution_count": null,
   "id": "7607dbe0",
   "metadata": {},
   "outputs": [],
   "source": [
    "pokemon.groupby('Type 1').describe().columns"
   ]
  },
  {
   "cell_type": "code",
   "execution_count": null,
   "id": "1276efe6",
   "metadata": {},
   "outputs": [],
   "source": [
    "pokemon.groupby('Type 1').describe().sort_values(('HP','mean'), ascending=False)"
   ]
  },
  {
   "cell_type": "code",
   "execution_count": null,
   "id": "f7f22d93",
   "metadata": {},
   "outputs": [],
   "source": [
    "pokemon.groupby('Type 1').mean(numeric_only=True).round(3)"
   ]
  }
 ],
 "metadata": {
  "kernelspec": {
   "display_name": "Python 3 (ipykernel)",
   "language": "python",
   "name": "python3"
  },
  "language_info": {
   "codemirror_mode": {
    "name": "ipython",
    "version": 3
   },
   "file_extension": ".py",
   "mimetype": "text/x-python",
   "name": "python",
   "nbconvert_exporter": "python",
   "pygments_lexer": "ipython3",
   "version": "3.10.6"
  }
 },
 "nbformat": 4,
 "nbformat_minor": 5
}
