{
 "cells": [
  {
   "cell_type": "markdown",
   "id": "8afeea320c73ad70",
   "metadata": {
    "id": "8afeea320c73ad70"
   },
   "source": [
    "# Lecture4: Confidence Intervals/ Statistical Inference\n",
    "\n",
    "- Normal Distributions and theotretical populations\n",
    "- Samling\n",
    "- Bootstrapping\n",
    "- Confindence intervals"
   ]
  },
  {
   "cell_type": "code",
   "execution_count": 1,
   "id": "initial_id",
   "metadata": {
    "ExecuteTime": {
     "end_time": "2024-05-15T20:47:05.634298Z",
     "start_time": "2024-05-15T20:47:04.824180Z"
    },
    "colab": {
     "base_uri": "https://localhost:8080/",
     "height": 240
    },
    "id": "initial_id",
    "outputId": "38e26310-96e2-419b-bf07-005e720b2cb7"
   },
   "outputs": [
    {
     "name": "stdout",
     "output_type": "stream",
     "text": [
      "(344, 7)\n"
     ]
    },
    {
     "data": {
      "application/vnd.google.colaboratory.intrinsic+json": {
       "summary": "{\n  \"name\": \"penguins_raw\",\n  \"rows\": 344,\n  \"fields\": [\n    {\n      \"column\": \"species\",\n      \"properties\": {\n        \"dtype\": \"category\",\n        \"num_unique_values\": 3,\n        \"samples\": [\n          \"Adelie\",\n          \"Chinstrap\",\n          \"Gentoo\"\n        ],\n        \"semantic_type\": \"\",\n        \"description\": \"\"\n      }\n    },\n    {\n      \"column\": \"island\",\n      \"properties\": {\n        \"dtype\": \"category\",\n        \"num_unique_values\": 3,\n        \"samples\": [\n          \"Torgersen\",\n          \"Biscoe\",\n          \"Dream\"\n        ],\n        \"semantic_type\": \"\",\n        \"description\": \"\"\n      }\n    },\n    {\n      \"column\": \"bill_length_mm\",\n      \"properties\": {\n        \"dtype\": \"number\",\n        \"std\": 5.4595837139265315,\n        \"min\": 32.1,\n        \"max\": 59.6,\n        \"num_unique_values\": 164,\n        \"samples\": [\n          48.2,\n          49.8,\n          45.1\n        ],\n        \"semantic_type\": \"\",\n        \"description\": \"\"\n      }\n    },\n    {\n      \"column\": \"bill_depth_mm\",\n      \"properties\": {\n        \"dtype\": \"number\",\n        \"std\": 1.9747931568167816,\n        \"min\": 13.1,\n        \"max\": 21.5,\n        \"num_unique_values\": 80,\n        \"samples\": [\n          16.9,\n          18.7,\n          18.6\n        ],\n        \"semantic_type\": \"\",\n        \"description\": \"\"\n      }\n    },\n    {\n      \"column\": \"flipper_length_mm\",\n      \"properties\": {\n        \"dtype\": \"number\",\n        \"std\": 14.061713679356888,\n        \"min\": 172.0,\n        \"max\": 231.0,\n        \"num_unique_values\": 55,\n        \"samples\": [\n          201.0,\n          180.0,\n          212.0\n        ],\n        \"semantic_type\": \"\",\n        \"description\": \"\"\n      }\n    },\n    {\n      \"column\": \"body_mass_g\",\n      \"properties\": {\n        \"dtype\": \"number\",\n        \"std\": 801.9545356980956,\n        \"min\": 2700.0,\n        \"max\": 6300.0,\n        \"num_unique_values\": 94,\n        \"samples\": [\n          4350.0,\n          4150.0,\n          3525.0\n        ],\n        \"semantic_type\": \"\",\n        \"description\": \"\"\n      }\n    },\n    {\n      \"column\": \"sex\",\n      \"properties\": {\n        \"dtype\": \"category\",\n        \"num_unique_values\": 2,\n        \"samples\": [\n          \"FEMALE\",\n          \"MALE\"\n        ],\n        \"semantic_type\": \"\",\n        \"description\": \"\"\n      }\n    }\n  ]\n}",
       "type": "dataframe",
       "variable_name": "penguins_raw"
      },
      "text/html": [
       "\n",
       "  <div id=\"df-d6bdb27b-eb5a-4c99-bea9-7b4a5e061f42\" class=\"colab-df-container\">\n",
       "    <div>\n",
       "<style scoped>\n",
       "    .dataframe tbody tr th:only-of-type {\n",
       "        vertical-align: middle;\n",
       "    }\n",
       "\n",
       "    .dataframe tbody tr th {\n",
       "        vertical-align: top;\n",
       "    }\n",
       "\n",
       "    .dataframe thead th {\n",
       "        text-align: right;\n",
       "    }\n",
       "</style>\n",
       "<table border=\"1\" class=\"dataframe\">\n",
       "  <thead>\n",
       "    <tr style=\"text-align: right;\">\n",
       "      <th></th>\n",
       "      <th>species</th>\n",
       "      <th>island</th>\n",
       "      <th>bill_length_mm</th>\n",
       "      <th>bill_depth_mm</th>\n",
       "      <th>flipper_length_mm</th>\n",
       "      <th>body_mass_g</th>\n",
       "      <th>sex</th>\n",
       "    </tr>\n",
       "  </thead>\n",
       "  <tbody>\n",
       "    <tr>\n",
       "      <th>0</th>\n",
       "      <td>Adelie</td>\n",
       "      <td>Torgersen</td>\n",
       "      <td>39.1</td>\n",
       "      <td>18.7</td>\n",
       "      <td>181.0</td>\n",
       "      <td>3750.0</td>\n",
       "      <td>MALE</td>\n",
       "    </tr>\n",
       "    <tr>\n",
       "      <th>1</th>\n",
       "      <td>Adelie</td>\n",
       "      <td>Torgersen</td>\n",
       "      <td>39.5</td>\n",
       "      <td>17.4</td>\n",
       "      <td>186.0</td>\n",
       "      <td>3800.0</td>\n",
       "      <td>FEMALE</td>\n",
       "    </tr>\n",
       "    <tr>\n",
       "      <th>2</th>\n",
       "      <td>Adelie</td>\n",
       "      <td>Torgersen</td>\n",
       "      <td>40.3</td>\n",
       "      <td>18.0</td>\n",
       "      <td>195.0</td>\n",
       "      <td>3250.0</td>\n",
       "      <td>FEMALE</td>\n",
       "    </tr>\n",
       "    <tr>\n",
       "      <th>3</th>\n",
       "      <td>Adelie</td>\n",
       "      <td>Torgersen</td>\n",
       "      <td>NaN</td>\n",
       "      <td>NaN</td>\n",
       "      <td>NaN</td>\n",
       "      <td>NaN</td>\n",
       "      <td>NaN</td>\n",
       "    </tr>\n",
       "    <tr>\n",
       "      <th>4</th>\n",
       "      <td>Adelie</td>\n",
       "      <td>Torgersen</td>\n",
       "      <td>36.7</td>\n",
       "      <td>19.3</td>\n",
       "      <td>193.0</td>\n",
       "      <td>3450.0</td>\n",
       "      <td>FEMALE</td>\n",
       "    </tr>\n",
       "  </tbody>\n",
       "</table>\n",
       "</div>\n",
       "    <div class=\"colab-df-buttons\">\n",
       "\n",
       "  <div class=\"colab-df-container\">\n",
       "    <button class=\"colab-df-convert\" onclick=\"convertToInteractive('df-d6bdb27b-eb5a-4c99-bea9-7b4a5e061f42')\"\n",
       "            title=\"Convert this dataframe to an interactive table.\"\n",
       "            style=\"display:none;\">\n",
       "\n",
       "  <svg xmlns=\"http://www.w3.org/2000/svg\" height=\"24px\" viewBox=\"0 -960 960 960\">\n",
       "    <path d=\"M120-120v-720h720v720H120Zm60-500h600v-160H180v160Zm220 220h160v-160H400v160Zm0 220h160v-160H400v160ZM180-400h160v-160H180v160Zm440 0h160v-160H620v160ZM180-180h160v-160H180v160Zm440 0h160v-160H620v160Z\"/>\n",
       "  </svg>\n",
       "    </button>\n",
       "\n",
       "  <style>\n",
       "    .colab-df-container {\n",
       "      display:flex;\n",
       "      gap: 12px;\n",
       "    }\n",
       "\n",
       "    .colab-df-convert {\n",
       "      background-color: #E8F0FE;\n",
       "      border: none;\n",
       "      border-radius: 50%;\n",
       "      cursor: pointer;\n",
       "      display: none;\n",
       "      fill: #1967D2;\n",
       "      height: 32px;\n",
       "      padding: 0 0 0 0;\n",
       "      width: 32px;\n",
       "    }\n",
       "\n",
       "    .colab-df-convert:hover {\n",
       "      background-color: #E2EBFA;\n",
       "      box-shadow: 0px 1px 2px rgba(60, 64, 67, 0.3), 0px 1px 3px 1px rgba(60, 64, 67, 0.15);\n",
       "      fill: #174EA6;\n",
       "    }\n",
       "\n",
       "    .colab-df-buttons div {\n",
       "      margin-bottom: 4px;\n",
       "    }\n",
       "\n",
       "    [theme=dark] .colab-df-convert {\n",
       "      background-color: #3B4455;\n",
       "      fill: #D2E3FC;\n",
       "    }\n",
       "\n",
       "    [theme=dark] .colab-df-convert:hover {\n",
       "      background-color: #434B5C;\n",
       "      box-shadow: 0px 1px 3px 1px rgba(0, 0, 0, 0.15);\n",
       "      filter: drop-shadow(0px 1px 2px rgba(0, 0, 0, 0.3));\n",
       "      fill: #FFFFFF;\n",
       "    }\n",
       "  </style>\n",
       "\n",
       "    <script>\n",
       "      const buttonEl =\n",
       "        document.querySelector('#df-d6bdb27b-eb5a-4c99-bea9-7b4a5e061f42 button.colab-df-convert');\n",
       "      buttonEl.style.display =\n",
       "        google.colab.kernel.accessAllowed ? 'block' : 'none';\n",
       "\n",
       "      async function convertToInteractive(key) {\n",
       "        const element = document.querySelector('#df-d6bdb27b-eb5a-4c99-bea9-7b4a5e061f42');\n",
       "        const dataTable =\n",
       "          await google.colab.kernel.invokeFunction('convertToInteractive',\n",
       "                                                    [key], {});\n",
       "        if (!dataTable) return;\n",
       "\n",
       "        const docLinkHtml = 'Like what you see? Visit the ' +\n",
       "          '<a target=\"_blank\" href=https://colab.research.google.com/notebooks/data_table.ipynb>data table notebook</a>'\n",
       "          + ' to learn more about interactive tables.';\n",
       "        element.innerHTML = '';\n",
       "        dataTable['output_type'] = 'display_data';\n",
       "        await google.colab.output.renderOutput(dataTable, element);\n",
       "        const docLink = document.createElement('div');\n",
       "        docLink.innerHTML = docLinkHtml;\n",
       "        element.appendChild(docLink);\n",
       "      }\n",
       "    </script>\n",
       "  </div>\n",
       "\n",
       "\n",
       "<div id=\"df-99142b9a-f110-46d8-91ed-62c9a584de0f\">\n",
       "  <button class=\"colab-df-quickchart\" onclick=\"quickchart('df-99142b9a-f110-46d8-91ed-62c9a584de0f')\"\n",
       "            title=\"Suggest charts\"\n",
       "            style=\"display:none;\">\n",
       "\n",
       "<svg xmlns=\"http://www.w3.org/2000/svg\" height=\"24px\"viewBox=\"0 0 24 24\"\n",
       "     width=\"24px\">\n",
       "    <g>\n",
       "        <path d=\"M19 3H5c-1.1 0-2 .9-2 2v14c0 1.1.9 2 2 2h14c1.1 0 2-.9 2-2V5c0-1.1-.9-2-2-2zM9 17H7v-7h2v7zm4 0h-2V7h2v10zm4 0h-2v-4h2v4z\"/>\n",
       "    </g>\n",
       "</svg>\n",
       "  </button>\n",
       "\n",
       "<style>\n",
       "  .colab-df-quickchart {\n",
       "      --bg-color: #E8F0FE;\n",
       "      --fill-color: #1967D2;\n",
       "      --hover-bg-color: #E2EBFA;\n",
       "      --hover-fill-color: #174EA6;\n",
       "      --disabled-fill-color: #AAA;\n",
       "      --disabled-bg-color: #DDD;\n",
       "  }\n",
       "\n",
       "  [theme=dark] .colab-df-quickchart {\n",
       "      --bg-color: #3B4455;\n",
       "      --fill-color: #D2E3FC;\n",
       "      --hover-bg-color: #434B5C;\n",
       "      --hover-fill-color: #FFFFFF;\n",
       "      --disabled-bg-color: #3B4455;\n",
       "      --disabled-fill-color: #666;\n",
       "  }\n",
       "\n",
       "  .colab-df-quickchart {\n",
       "    background-color: var(--bg-color);\n",
       "    border: none;\n",
       "    border-radius: 50%;\n",
       "    cursor: pointer;\n",
       "    display: none;\n",
       "    fill: var(--fill-color);\n",
       "    height: 32px;\n",
       "    padding: 0;\n",
       "    width: 32px;\n",
       "  }\n",
       "\n",
       "  .colab-df-quickchart:hover {\n",
       "    background-color: var(--hover-bg-color);\n",
       "    box-shadow: 0 1px 2px rgba(60, 64, 67, 0.3), 0 1px 3px 1px rgba(60, 64, 67, 0.15);\n",
       "    fill: var(--button-hover-fill-color);\n",
       "  }\n",
       "\n",
       "  .colab-df-quickchart-complete:disabled,\n",
       "  .colab-df-quickchart-complete:disabled:hover {\n",
       "    background-color: var(--disabled-bg-color);\n",
       "    fill: var(--disabled-fill-color);\n",
       "    box-shadow: none;\n",
       "  }\n",
       "\n",
       "  .colab-df-spinner {\n",
       "    border: 2px solid var(--fill-color);\n",
       "    border-color: transparent;\n",
       "    border-bottom-color: var(--fill-color);\n",
       "    animation:\n",
       "      spin 1s steps(1) infinite;\n",
       "  }\n",
       "\n",
       "  @keyframes spin {\n",
       "    0% {\n",
       "      border-color: transparent;\n",
       "      border-bottom-color: var(--fill-color);\n",
       "      border-left-color: var(--fill-color);\n",
       "    }\n",
       "    20% {\n",
       "      border-color: transparent;\n",
       "      border-left-color: var(--fill-color);\n",
       "      border-top-color: var(--fill-color);\n",
       "    }\n",
       "    30% {\n",
       "      border-color: transparent;\n",
       "      border-left-color: var(--fill-color);\n",
       "      border-top-color: var(--fill-color);\n",
       "      border-right-color: var(--fill-color);\n",
       "    }\n",
       "    40% {\n",
       "      border-color: transparent;\n",
       "      border-right-color: var(--fill-color);\n",
       "      border-top-color: var(--fill-color);\n",
       "    }\n",
       "    60% {\n",
       "      border-color: transparent;\n",
       "      border-right-color: var(--fill-color);\n",
       "    }\n",
       "    80% {\n",
       "      border-color: transparent;\n",
       "      border-right-color: var(--fill-color);\n",
       "      border-bottom-color: var(--fill-color);\n",
       "    }\n",
       "    90% {\n",
       "      border-color: transparent;\n",
       "      border-bottom-color: var(--fill-color);\n",
       "    }\n",
       "  }\n",
       "</style>\n",
       "\n",
       "  <script>\n",
       "    async function quickchart(key) {\n",
       "      const quickchartButtonEl =\n",
       "        document.querySelector('#' + key + ' button');\n",
       "      quickchartButtonEl.disabled = true;  // To prevent multiple clicks.\n",
       "      quickchartButtonEl.classList.add('colab-df-spinner');\n",
       "      try {\n",
       "        const charts = await google.colab.kernel.invokeFunction(\n",
       "            'suggestCharts', [key], {});\n",
       "      } catch (error) {\n",
       "        console.error('Error during call to suggestCharts:', error);\n",
       "      }\n",
       "      quickchartButtonEl.classList.remove('colab-df-spinner');\n",
       "      quickchartButtonEl.classList.add('colab-df-quickchart-complete');\n",
       "    }\n",
       "    (() => {\n",
       "      let quickchartButtonEl =\n",
       "        document.querySelector('#df-99142b9a-f110-46d8-91ed-62c9a584de0f button');\n",
       "      quickchartButtonEl.style.display =\n",
       "        google.colab.kernel.accessAllowed ? 'block' : 'none';\n",
       "    })();\n",
       "  </script>\n",
       "</div>\n",
       "\n",
       "    </div>\n",
       "  </div>\n"
      ],
      "text/plain": [
       "  species     island  bill_length_mm  bill_depth_mm  flipper_length_mm  \\\n",
       "0  Adelie  Torgersen            39.1           18.7              181.0   \n",
       "1  Adelie  Torgersen            39.5           17.4              186.0   \n",
       "2  Adelie  Torgersen            40.3           18.0              195.0   \n",
       "3  Adelie  Torgersen             NaN            NaN                NaN   \n",
       "4  Adelie  Torgersen            36.7           19.3              193.0   \n",
       "\n",
       "   body_mass_g     sex  \n",
       "0       3750.0    MALE  \n",
       "1       3800.0  FEMALE  \n",
       "2       3250.0  FEMALE  \n",
       "3          NaN     NaN  \n",
       "4       3450.0  FEMALE  "
      ]
     },
     "execution_count": 1,
     "metadata": {},
     "output_type": "execute_result"
    }
   ],
   "source": [
    "# Import Dataset\n",
    "\n",
    "import pandas as pd\n",
    "url = (\"https://raw.githubusercontent.com/mwaskom/seaborn-data/master/penguins.csv\")\n",
    "penguins_raw = pd.read_csv(url) #avatar.isnull().sum() #avatar[avatar.isnull().sum(axis=1)>0]\n",
    "\n",
    "print(penguins_raw.shape)\n",
    "penguins_raw.head()"
   ]
  },
  {
   "cell_type": "code",
   "execution_count": 2,
   "id": "f4468749824a653c",
   "metadata": {
    "ExecuteTime": {
     "end_time": "2024-05-15T20:47:06.095328Z",
     "start_time": "2024-05-15T20:47:06.072090Z"
    },
    "colab": {
     "base_uri": "https://localhost:8080/"
    },
    "id": "f4468749824a653c",
    "outputId": "292ef87c-a842-4e08-f60a-939f31c0e368"
   },
   "outputs": [
    {
     "name": "stdout",
     "output_type": "stream",
     "text": [
      "(342, 2)\n"
     ]
    },
    {
     "data": {
      "text/plain": [
       "flipper_length_mm    int64\n",
       "body_mass_g          int64\n",
       "dtype: object"
      ]
     },
     "execution_count": 2,
     "metadata": {},
     "output_type": "execute_result"
    }
   ],
   "source": [
    "# Drop the nan values and those which we can not work with\n",
    "penguins_noNaN = penguins_raw.drop(['species', 'island', 'bill_length_mm', 'bill_depth_mm', 'sex'], axis=1).dropna()\n",
    "\n",
    "penguins_noNaN['flipper_length_mm'] = penguins_noNaN['flipper_length_mm'].astype(int)\n",
    "penguins_noNaN['body_mass_g'] = penguins_noNaN['body_mass_g'].astype(int)\n",
    "print(penguins_noNaN.shape)\n",
    "penguins_noNaN.dtypes"
   ]
  },
  {
   "cell_type": "markdown",
   "id": "ba5c217632ac9304",
   "metadata": {
    "id": "ba5c217632ac9304"
   },
   "source": [
    "## Theoretical Populations"
   ]
  },
  {
   "cell_type": "code",
   "execution_count": 3,
   "id": "b833f1b1b6ec7ce4",
   "metadata": {
    "ExecuteTime": {
     "end_time": "2024-05-15T20:47:09.055746Z",
     "start_time": "2024-05-15T20:47:07.812753Z"
    },
    "colab": {
     "base_uri": "https://localhost:8080/",
     "height": 563
    },
    "id": "b833f1b1b6ec7ce4",
    "outputId": "5a3b42ee-3543-43cf-e449-29df82a858c2"
   },
   "outputs": [
    {
     "data": {
      "text/html": [
       "<html>\n",
       "<head><meta charset=\"utf-8\" /></head>\n",
       "<body>\n",
       "    <div>            <script src=\"https://cdnjs.cloudflare.com/ajax/libs/mathjax/2.7.5/MathJax.js?config=TeX-AMS-MML_SVG\"></script><script type=\"text/javascript\">if (window.MathJax && window.MathJax.Hub && window.MathJax.Hub.Config) {window.MathJax.Hub.Config({SVG: {font: \"STIX-Web\"}});}</script>                <script type=\"text/javascript\">window.PlotlyConfig = {MathJaxConfig: 'local'};</script>\n",
       "        <script charset=\"utf-8\" src=\"https://cdn.plot.ly/plotly-2.24.1.min.js\"></script>                <div id=\"19cbdb41-126c-4381-a647-65208304b47f\" class=\"plotly-graph-div\" style=\"height:525px; width:100%;\"></div>            <script type=\"text/javascript\">                                    window.PLOTLYENV=window.PLOTLYENV || {};                                    if (document.getElementById(\"19cbdb41-126c-4381-a647-65208304b47f\")) {                    Plotly.newPlot(                        \"19cbdb41-126c-4381-a647-65208304b47f\",                        [{\"hovertemplate\":\"x=%{x}\\u003cbr\\u003edensity=%{y}\\u003cextra\\u003e\\u003c\\u002fextra\\u003e\",\"legendgroup\":\"\",\"line\":{\"color\":\"#636efa\",\"dash\":\"solid\"},\"marker\":{\"symbol\":\"circle\"},\"mode\":\"lines\",\"name\":\"\",\"orientation\":\"v\",\"showlegend\":false,\"x\":[-1.0,-0.9595959595959596,-0.9191919191919192,-0.8787878787878788,-0.8383838383838383,-0.797979797979798,-0.7575757575757576,-0.7171717171717171,-0.6767676767676767,-0.6363636363636364,-0.5959595959595959,-0.5555555555555556,-0.5151515151515151,-0.4747474747474747,-0.43434343434343425,-0.3939393939393939,-0.3535353535353535,-0.31313131313131304,-0.2727272727272727,-0.23232323232323226,-0.19191919191919182,-0.1515151515151515,-0.11111111111111105,-0.07070707070707061,-0.030303030303030276,0.010101010101010166,0.05050505050505061,0.09090909090909105,0.1313131313131315,0.1717171717171717,0.21212121212121215,0.2525252525252526,0.29292929292929304,0.3333333333333335,0.3737373737373739,0.41414141414141437,0.4545454545454546,0.49494949494949503,0.5353535353535355,0.5757575757575759,0.6161616161616164,0.6565656565656568,0.696969696969697,0.7373737373737375,0.7777777777777779,0.8181818181818183,0.8585858585858588,0.8989898989898992,0.9393939393939394,0.9797979797979799,1.0202020202020203,1.060606060606061,1.1010101010101012,1.1414141414141414,1.181818181818182,1.2222222222222223,1.262626262626263,1.3030303030303032,1.3434343434343434,1.383838383838384,1.4242424242424243,1.464646464646465,1.5050505050505052,1.5454545454545459,1.585858585858586,1.6262626262626263,1.666666666666667,1.7070707070707072,1.7474747474747478,1.787878787878788,1.8282828282828287,1.868686868686869,1.9090909090909092,1.9494949494949498,1.98989898989899,2.0303030303030307,2.070707070707071,2.111111111111111,2.151515151515152,2.191919191919192,2.2323232323232327,2.272727272727273,2.3131313131313136,2.353535353535354,2.393939393939394,2.4343434343434347,2.474747474747475,2.5151515151515156,2.555555555555556,2.5959595959595965,2.6363636363636367,2.676767676767677,2.7171717171717176,2.757575757575758,2.7979797979797985,2.8383838383838387,2.878787878787879,2.9191919191919196,2.95959595959596,3.0],\"xaxis\":\"x\",\"y\":[1.2775343412534925e-08,2.663060132501258e-08,5.468635627972724e-08,1.1062839884566789e-07,2.204671513876532e-07,4.3282344690096363e-07,8.370806302916398e-07,1.594826453278478e-06,2.993292747203543e-06,5.534451434236181e-06,1.0080674525176977e-05,1.8088153284905273e-05,3.1973375727355506e-05,5.567655782689229e-05,9.55093497527556e-05,0.00016140204160899554,0.00026869636065836056,0.0004406605469735736,0.0007119281719247616,0.00113307279752601,0.0017765157916766105,0.0027439105918309016,0.004175038307012544,0.006258072609722294,0.009240816698692316,0.013442180978269947,0.019262770281301137,0.027193015951055114,0.037816874657006845,0.05180879787895333,0.06992154588933319,0.09296257658162302,0.1217572716202884,0.15709822852263441,0.19968125276704185,0.250030461355775,0.3084169062974974,0.37477710783603085,0.4486395528001071,0.5290682348721392,0.6146323862651132,0.7034104534680846,0.7930340240869799,0.8807739222684238,0.9636663616494464,1.0386723628524768,1.1028592172938212,1.1535892574529036,1.1886991543001568,1.206652811204824,1.206652811204824,1.1886991543001568,1.1535892574529032,1.102859217293821,1.0386723628524759,0.963666361649446,0.8807739222684228,0.7930340240869794,0.7034104534680841,0.6146323862651123,0.5290682348721387,0.4486395528001062,0.37477710783603047,0.30841690629749674,0.25003046135577445,0.19968125276704154,0.15709822852263386,0.1217572716202882,0.09296257658162274,0.0699215458893331,0.05180879787895315,0.03781687465700671,0.02719301595105506,0.01926277028130105,0.013442180978269911,0.009240816698692284,0.006258072609722267,0.004175038307012544,0.0027439105918308894,0.001776515791676604,0.001133072797526004,0.0007119281719247605,0.0004406605469735712,0.0002686963606583596,0.00016140204160899554,9.550934975275474e-05,5.5676557826892087e-05,3.1973375727355275e-05,1.8088153284905213e-05,1.0080674525176941e-05,5.534451434236162e-06,2.993292747203532e-06,1.5948264532784694e-06,8.370806302916355e-07,4.328234469009591e-07,2.2046715138765122e-07,1.1062839884566789e-07,5.4686356279726654e-08,2.6630601325012392e-08,1.2775343412534925e-08],\"yaxis\":\"y\",\"type\":\"scatter\"}],                        {\"template\":{\"data\":{\"histogram2dcontour\":[{\"type\":\"histogram2dcontour\",\"colorbar\":{\"outlinewidth\":0,\"ticks\":\"\"},\"colorscale\":[[0.0,\"#0d0887\"],[0.1111111111111111,\"#46039f\"],[0.2222222222222222,\"#7201a8\"],[0.3333333333333333,\"#9c179e\"],[0.4444444444444444,\"#bd3786\"],[0.5555555555555556,\"#d8576b\"],[0.6666666666666666,\"#ed7953\"],[0.7777777777777778,\"#fb9f3a\"],[0.8888888888888888,\"#fdca26\"],[1.0,\"#f0f921\"]]}],\"choropleth\":[{\"type\":\"choropleth\",\"colorbar\":{\"outlinewidth\":0,\"ticks\":\"\"}}],\"histogram2d\":[{\"type\":\"histogram2d\",\"colorbar\":{\"outlinewidth\":0,\"ticks\":\"\"},\"colorscale\":[[0.0,\"#0d0887\"],[0.1111111111111111,\"#46039f\"],[0.2222222222222222,\"#7201a8\"],[0.3333333333333333,\"#9c179e\"],[0.4444444444444444,\"#bd3786\"],[0.5555555555555556,\"#d8576b\"],[0.6666666666666666,\"#ed7953\"],[0.7777777777777778,\"#fb9f3a\"],[0.8888888888888888,\"#fdca26\"],[1.0,\"#f0f921\"]]}],\"heatmap\":[{\"type\":\"heatmap\",\"colorbar\":{\"outlinewidth\":0,\"ticks\":\"\"},\"colorscale\":[[0.0,\"#0d0887\"],[0.1111111111111111,\"#46039f\"],[0.2222222222222222,\"#7201a8\"],[0.3333333333333333,\"#9c179e\"],[0.4444444444444444,\"#bd3786\"],[0.5555555555555556,\"#d8576b\"],[0.6666666666666666,\"#ed7953\"],[0.7777777777777778,\"#fb9f3a\"],[0.8888888888888888,\"#fdca26\"],[1.0,\"#f0f921\"]]}],\"heatmapgl\":[{\"type\":\"heatmapgl\",\"colorbar\":{\"outlinewidth\":0,\"ticks\":\"\"},\"colorscale\":[[0.0,\"#0d0887\"],[0.1111111111111111,\"#46039f\"],[0.2222222222222222,\"#7201a8\"],[0.3333333333333333,\"#9c179e\"],[0.4444444444444444,\"#bd3786\"],[0.5555555555555556,\"#d8576b\"],[0.6666666666666666,\"#ed7953\"],[0.7777777777777778,\"#fb9f3a\"],[0.8888888888888888,\"#fdca26\"],[1.0,\"#f0f921\"]]}],\"contourcarpet\":[{\"type\":\"contourcarpet\",\"colorbar\":{\"outlinewidth\":0,\"ticks\":\"\"}}],\"contour\":[{\"type\":\"contour\",\"colorbar\":{\"outlinewidth\":0,\"ticks\":\"\"},\"colorscale\":[[0.0,\"#0d0887\"],[0.1111111111111111,\"#46039f\"],[0.2222222222222222,\"#7201a8\"],[0.3333333333333333,\"#9c179e\"],[0.4444444444444444,\"#bd3786\"],[0.5555555555555556,\"#d8576b\"],[0.6666666666666666,\"#ed7953\"],[0.7777777777777778,\"#fb9f3a\"],[0.8888888888888888,\"#fdca26\"],[1.0,\"#f0f921\"]]}],\"surface\":[{\"type\":\"surface\",\"colorbar\":{\"outlinewidth\":0,\"ticks\":\"\"},\"colorscale\":[[0.0,\"#0d0887\"],[0.1111111111111111,\"#46039f\"],[0.2222222222222222,\"#7201a8\"],[0.3333333333333333,\"#9c179e\"],[0.4444444444444444,\"#bd3786\"],[0.5555555555555556,\"#d8576b\"],[0.6666666666666666,\"#ed7953\"],[0.7777777777777778,\"#fb9f3a\"],[0.8888888888888888,\"#fdca26\"],[1.0,\"#f0f921\"]]}],\"mesh3d\":[{\"type\":\"mesh3d\",\"colorbar\":{\"outlinewidth\":0,\"ticks\":\"\"}}],\"scatter\":[{\"fillpattern\":{\"fillmode\":\"overlay\",\"size\":10,\"solidity\":0.2},\"type\":\"scatter\"}],\"parcoords\":[{\"type\":\"parcoords\",\"line\":{\"colorbar\":{\"outlinewidth\":0,\"ticks\":\"\"}}}],\"scatterpolargl\":[{\"type\":\"scatterpolargl\",\"marker\":{\"colorbar\":{\"outlinewidth\":0,\"ticks\":\"\"}}}],\"bar\":[{\"error_x\":{\"color\":\"#2a3f5f\"},\"error_y\":{\"color\":\"#2a3f5f\"},\"marker\":{\"line\":{\"color\":\"#E5ECF6\",\"width\":0.5},\"pattern\":{\"fillmode\":\"overlay\",\"size\":10,\"solidity\":0.2}},\"type\":\"bar\"}],\"scattergeo\":[{\"type\":\"scattergeo\",\"marker\":{\"colorbar\":{\"outlinewidth\":0,\"ticks\":\"\"}}}],\"scatterpolar\":[{\"type\":\"scatterpolar\",\"marker\":{\"colorbar\":{\"outlinewidth\":0,\"ticks\":\"\"}}}],\"histogram\":[{\"marker\":{\"pattern\":{\"fillmode\":\"overlay\",\"size\":10,\"solidity\":0.2}},\"type\":\"histogram\"}],\"scattergl\":[{\"type\":\"scattergl\",\"marker\":{\"colorbar\":{\"outlinewidth\":0,\"ticks\":\"\"}}}],\"scatter3d\":[{\"type\":\"scatter3d\",\"line\":{\"colorbar\":{\"outlinewidth\":0,\"ticks\":\"\"}},\"marker\":{\"colorbar\":{\"outlinewidth\":0,\"ticks\":\"\"}}}],\"scattermapbox\":[{\"type\":\"scattermapbox\",\"marker\":{\"colorbar\":{\"outlinewidth\":0,\"ticks\":\"\"}}}],\"scatterternary\":[{\"type\":\"scatterternary\",\"marker\":{\"colorbar\":{\"outlinewidth\":0,\"ticks\":\"\"}}}],\"scattercarpet\":[{\"type\":\"scattercarpet\",\"marker\":{\"colorbar\":{\"outlinewidth\":0,\"ticks\":\"\"}}}],\"carpet\":[{\"aaxis\":{\"endlinecolor\":\"#2a3f5f\",\"gridcolor\":\"white\",\"linecolor\":\"white\",\"minorgridcolor\":\"white\",\"startlinecolor\":\"#2a3f5f\"},\"baxis\":{\"endlinecolor\":\"#2a3f5f\",\"gridcolor\":\"white\",\"linecolor\":\"white\",\"minorgridcolor\":\"white\",\"startlinecolor\":\"#2a3f5f\"},\"type\":\"carpet\"}],\"table\":[{\"cells\":{\"fill\":{\"color\":\"#EBF0F8\"},\"line\":{\"color\":\"white\"}},\"header\":{\"fill\":{\"color\":\"#C8D4E3\"},\"line\":{\"color\":\"white\"}},\"type\":\"table\"}],\"barpolar\":[{\"marker\":{\"line\":{\"color\":\"#E5ECF6\",\"width\":0.5},\"pattern\":{\"fillmode\":\"overlay\",\"size\":10,\"solidity\":0.2}},\"type\":\"barpolar\"}],\"pie\":[{\"automargin\":true,\"type\":\"pie\"}]},\"layout\":{\"autotypenumbers\":\"strict\",\"colorway\":[\"#636efa\",\"#EF553B\",\"#00cc96\",\"#ab63fa\",\"#FFA15A\",\"#19d3f3\",\"#FF6692\",\"#B6E880\",\"#FF97FF\",\"#FECB52\"],\"font\":{\"color\":\"#2a3f5f\"},\"hovermode\":\"closest\",\"hoverlabel\":{\"align\":\"left\"},\"paper_bgcolor\":\"white\",\"plot_bgcolor\":\"#E5ECF6\",\"polar\":{\"bgcolor\":\"#E5ECF6\",\"angularaxis\":{\"gridcolor\":\"white\",\"linecolor\":\"white\",\"ticks\":\"\"},\"radialaxis\":{\"gridcolor\":\"white\",\"linecolor\":\"white\",\"ticks\":\"\"}},\"ternary\":{\"bgcolor\":\"#E5ECF6\",\"aaxis\":{\"gridcolor\":\"white\",\"linecolor\":\"white\",\"ticks\":\"\"},\"baxis\":{\"gridcolor\":\"white\",\"linecolor\":\"white\",\"ticks\":\"\"},\"caxis\":{\"gridcolor\":\"white\",\"linecolor\":\"white\",\"ticks\":\"\"}},\"coloraxis\":{\"colorbar\":{\"outlinewidth\":0,\"ticks\":\"\"}},\"colorscale\":{\"sequential\":[[0.0,\"#0d0887\"],[0.1111111111111111,\"#46039f\"],[0.2222222222222222,\"#7201a8\"],[0.3333333333333333,\"#9c179e\"],[0.4444444444444444,\"#bd3786\"],[0.5555555555555556,\"#d8576b\"],[0.6666666666666666,\"#ed7953\"],[0.7777777777777778,\"#fb9f3a\"],[0.8888888888888888,\"#fdca26\"],[1.0,\"#f0f921\"]],\"sequentialminus\":[[0.0,\"#0d0887\"],[0.1111111111111111,\"#46039f\"],[0.2222222222222222,\"#7201a8\"],[0.3333333333333333,\"#9c179e\"],[0.4444444444444444,\"#bd3786\"],[0.5555555555555556,\"#d8576b\"],[0.6666666666666666,\"#ed7953\"],[0.7777777777777778,\"#fb9f3a\"],[0.8888888888888888,\"#fdca26\"],[1.0,\"#f0f921\"]],\"diverging\":[[0,\"#8e0152\"],[0.1,\"#c51b7d\"],[0.2,\"#de77ae\"],[0.3,\"#f1b6da\"],[0.4,\"#fde0ef\"],[0.5,\"#f7f7f7\"],[0.6,\"#e6f5d0\"],[0.7,\"#b8e186\"],[0.8,\"#7fbc41\"],[0.9,\"#4d9221\"],[1,\"#276419\"]]},\"xaxis\":{\"gridcolor\":\"white\",\"linecolor\":\"white\",\"ticks\":\"\",\"title\":{\"standoff\":15},\"zerolinecolor\":\"white\",\"automargin\":true,\"zerolinewidth\":2},\"yaxis\":{\"gridcolor\":\"white\",\"linecolor\":\"white\",\"ticks\":\"\",\"title\":{\"standoff\":15},\"zerolinecolor\":\"white\",\"automargin\":true,\"zerolinewidth\":2},\"scene\":{\"xaxis\":{\"backgroundcolor\":\"#E5ECF6\",\"gridcolor\":\"white\",\"linecolor\":\"white\",\"showbackground\":true,\"ticks\":\"\",\"zerolinecolor\":\"white\",\"gridwidth\":2},\"yaxis\":{\"backgroundcolor\":\"#E5ECF6\",\"gridcolor\":\"white\",\"linecolor\":\"white\",\"showbackground\":true,\"ticks\":\"\",\"zerolinecolor\":\"white\",\"gridwidth\":2},\"zaxis\":{\"backgroundcolor\":\"#E5ECF6\",\"gridcolor\":\"white\",\"linecolor\":\"white\",\"showbackground\":true,\"ticks\":\"\",\"zerolinecolor\":\"white\",\"gridwidth\":2}},\"shapedefaults\":{\"line\":{\"color\":\"#2a3f5f\"}},\"annotationdefaults\":{\"arrowcolor\":\"#2a3f5f\",\"arrowhead\":0,\"arrowwidth\":1},\"geo\":{\"bgcolor\":\"white\",\"landcolor\":\"#E5ECF6\",\"subunitcolor\":\"white\",\"showland\":true,\"showlakes\":true,\"lakecolor\":\"white\"},\"title\":{\"x\":0.05},\"mapbox\":{\"style\":\"light\"}}},\"xaxis\":{\"anchor\":\"y\",\"domain\":[0.0,1.0],\"title\":{\"text\":\"x\"}},\"yaxis\":{\"anchor\":\"x\",\"domain\":[0.0,1.0],\"title\":{\"text\":\"density\"}},\"legend\":{\"tracegroupgap\":0},\"margin\":{\"t\":60}},                        {\"responsive\": true}                    ).then(function(){\n",
       "                            \n",
       "var gd = document.getElementById('19cbdb41-126c-4381-a647-65208304b47f');\n",
       "var x = new MutationObserver(function (mutations, observer) {{\n",
       "        var display = window.getComputedStyle(gd).display;\n",
       "        if (!display || display === 'none') {{\n",
       "            console.log([gd, 'removed!']);\n",
       "            Plotly.purge(gd);\n",
       "            observer.disconnect();\n",
       "        }}\n",
       "}});\n",
       "\n",
       "// Listen for the removal of the full notebook cells\n",
       "var notebookContainer = gd.closest('#notebook-container');\n",
       "if (notebookContainer) {{\n",
       "    x.observe(notebookContainer, {childList: true});\n",
       "}}\n",
       "\n",
       "// Listen for the clearing of the current output cell\n",
       "var outputEl = gd.closest('.output');\n",
       "if (outputEl) {{\n",
       "    x.observe(outputEl, {childList: true});\n",
       "}}\n",
       "\n",
       "                        })                };                            </script>        </div>\n",
       "</body>\n",
       "</html>"
      ]
     },
     "metadata": {},
     "output_type": "display_data"
    }
   ],
   "source": [
    "import plotly.express as px\n",
    "from scipy import stats\n",
    "import numpy as np\n",
    "\n",
    "\n",
    "# how to draw a theoretical populations\n",
    "\n",
    "mu, sigma = 1, 0.33\n",
    "\n",
    "\n",
    "my_theoretical_population = stats.norm(loc=mu, scale=sigma)\n",
    "\n",
    "support = np.linspace(-1, 3, 100)\n",
    "\n",
    "df = pd.DataFrame({'x': support, 'density': my_theoretical_population.pdf(support)})\n",
    "\n",
    "px.line(df, x='x', y='density')"
   ]
  },
  {
   "cell_type": "markdown",
   "id": "cb68d7eb628cdeff",
   "metadata": {
    "id": "cb68d7eb628cdeff"
   },
   "source": [
    "### Now lets sample from it and draw this population again"
   ]
  },
  {
   "cell_type": "code",
   "execution_count": 4,
   "id": "69c272fa6bd512a2",
   "metadata": {
    "ExecuteTime": {
     "end_time": "2024-05-15T20:47:11.291169Z",
     "start_time": "2024-05-15T20:47:11.284278Z"
    },
    "colab": {
     "base_uri": "https://localhost:8080/"
    },
    "id": "69c272fa6bd512a2",
    "outputId": "17709a3c-5e1c-4b00-fb07-45bb64bad843"
   },
   "outputs": [
    {
     "data": {
      "text/plain": [
       "array([1.22513442, 0.99294215, 0.82316552, 1.03762876, 0.76933388,\n",
       "       1.37333679, 0.80751878, 0.80743418, 0.86819938, 1.35128829,\n",
       "       0.76702856, 0.92785315, 0.82105642, 1.30912345, 0.85888246,\n",
       "       1.05508211, 0.47780746, 0.62743138, 1.26642112, 0.77621473,\n",
       "       0.88795531, 0.18507377, 0.9838883 , 1.00706959, 0.76654078,\n",
       "       1.28621999, 1.54604939, 0.88500132, 1.16243879, 0.6142086 ])"
      ]
     },
     "execution_count": 4,
     "metadata": {},
     "output_type": "execute_result"
    }
   ],
   "source": [
    "# Example of sampling\n",
    "my_theoretical_population.rvs(size=30)"
   ]
  },
  {
   "cell_type": "markdown",
   "id": "e2e30bfa11ef4155",
   "metadata": {
    "id": "e2e30bfa11ef4155"
   },
   "source": [
    "### Now we want to do this sampling but in repeat."
   ]
  },
  {
   "cell_type": "code",
   "execution_count": 5,
   "id": "39e6e5b1c73cd1fe",
   "metadata": {
    "ExecuteTime": {
     "end_time": "2024-05-15T20:47:12.956127Z",
     "start_time": "2024-05-15T20:47:12.888742Z"
    },
    "colab": {
     "base_uri": "https://localhost:8080/",
     "height": 563
    },
    "id": "39e6e5b1c73cd1fe",
    "outputId": "20615cc3-43de-4d00-fb71-da56272cb3c2"
   },
   "outputs": [
    {
     "data": {
      "text/html": [
       "<html>\n",
       "<head><meta charset=\"utf-8\" /></head>\n",
       "<body>\n",
       "    <div>            <script src=\"https://cdnjs.cloudflare.com/ajax/libs/mathjax/2.7.5/MathJax.js?config=TeX-AMS-MML_SVG\"></script><script type=\"text/javascript\">if (window.MathJax && window.MathJax.Hub && window.MathJax.Hub.Config) {window.MathJax.Hub.Config({SVG: {font: \"STIX-Web\"}});}</script>                <script type=\"text/javascript\">window.PlotlyConfig = {MathJaxConfig: 'local'};</script>\n",
       "        <script charset=\"utf-8\" src=\"https://cdn.plot.ly/plotly-2.24.1.min.js\"></script>                <div id=\"df06be66-5544-4b8f-a796-b09c6509d161\" class=\"plotly-graph-div\" style=\"height:525px; width:100%;\"></div>            <script type=\"text/javascript\">                                    window.PLOTLYENV=window.PLOTLYENV || {};                                    if (document.getElementById(\"df06be66-5544-4b8f-a796-b09c6509d161\")) {                    Plotly.newPlot(                        \"df06be66-5544-4b8f-a796-b09c6509d161\",                        [{\"alignmentgroup\":\"True\",\"bingroup\":\"x\",\"hovertemplate\":\"sample_averages=%{x}\\u003cbr\\u003ecount=%{y}\\u003cextra\\u003e\\u003c\\u002fextra\\u003e\",\"legendgroup\":\"\",\"marker\":{\"color\":\"#636efa\",\"pattern\":{\"shape\":\"\"}},\"name\":\"\",\"offsetgroup\":\"\",\"orientation\":\"v\",\"showlegend\":false,\"x\":[1.008899848572132,0.9825441721038899,0.9697244784088603,0.9422071294546042,1.0162338330792116,1.0023639365031634,1.0355790542543344,1.0179592092884449,1.0019052637883883,1.0023156813054688,1.0030742526439897,0.9995290829374835,1.0305479871320367,1.0016659959774907,0.9696428248065014,0.9912381953931263,1.008610501701825,1.0273757276842925,0.9923443732575811,1.0005144347654706,1.0214281751723098,0.9951063827146857,0.9892688235521944,1.0372557472207047,0.9783124514906577,0.9807310985294514,0.9829869782743348,1.0004184854977314,1.0260592716307446,0.9936180000599647,0.9519603883213607,0.9866427212653198,1.0307232500887897,1.0084512113878377,0.9894229998884786,1.0159254909719924,0.9983041120911772,0.9878216785352636,1.0262999532030053,0.9815239738954887,1.0067353439186109,0.9978134894226047,1.0041721535913135,0.9887401421196371,1.0009006977538553,1.0041503416875912,0.9993927406065527,0.9861688869690606,0.9810082688940309,1.0173257526164814,0.9614867450853942,1.0009421973644872,0.9939572461144761,1.0031383058250731,1.0019985951475316,0.9845034617494627,0.9726486762307782,1.0095584306211915,0.9898154410437066,0.9956917689142162,0.9724061114844414,0.972559457254951,0.9670261184586283,1.0020547671291407,1.0275884283634993,1.0075679857439273,0.9998166982231329,0.9658757580683599,0.9793820968760233,0.9890264193416937,1.0114045751120018,0.993118457360151,1.0026408766068933,0.9910771167985802,1.0034594684650027,0.9621621717077945,1.019806405347583,1.0019191449775746,1.0183211858806247,0.9883849455734421,1.0113266252753168,1.005983421707782,1.0233082770539086,0.9777577494631904,1.015309046150384,1.0078288840179856,1.0107510779318627,0.9765801115678722,1.0115412761273708,0.988551008037396,1.0048468933506747,0.9941867103400482,0.9929717660653473,1.0073741388337345,1.000249917784327,0.9712632093385866,0.9823051898157851,1.0123930385183841,1.0224302700017454,0.9979163942735434,1.0168822261797896,1.014582485212787,1.008519071357567,0.9626759135031808,0.996333072240997,1.0141499541363503,0.9791753468614467,0.982404514641645,1.048028217458441,0.9974962751216052,1.020226698492108,0.968664095264416,1.0200413913807276,1.0200937229131917,0.95891818055016,1.0077816664008707,1.0098214320441443,0.9971422458119211,1.0073248596311832,0.9847372516542525,1.0276560007167845,0.9694555136324892,1.0119608714398893,1.0008307385678452,1.012479613757679,1.0210663878404345,1.0125774253517419,0.9977968308857721,0.9921519444162286,0.9815970574878624,1.0224319010381262,0.9459942916321293,0.9997050669687929,0.9817588745543531,0.9943773112283901,0.9928161464940463,0.9615451929009634,0.9930713925906068,1.0164557578977431,1.0034018152714501,1.0015131782141218,0.980218161159577,1.0215111372541,0.9964958472222815,0.9836926049530382,0.9942062244488468,1.0248005831699292,0.9688063248651618,1.0088058032170695,0.9788295917431521,0.9867021298521311,0.9926856152121516,1.0202835459245683,0.9964439735575735,1.0195905126312,0.9630256411751685,0.9886087414195237,0.999227217613038,1.005613088659741,1.0043172614017333,1.0258032572318556,0.9953732116464008,1.0030053843818434,1.035822744604513,0.9836010114011327,0.9978943081651184,1.0025337291966918,1.0008897619623505,0.9916705855301448,1.0428062485503602,0.9853719892702226,1.0044979393961586,1.0041591481707985,0.9680576501819464,1.0027812428396303,0.9908032937741403,0.9956992498289853,1.0376721992790572,1.00889417950352,1.0025267700061706,0.9828096366094069,1.0086379701535644,1.0070464167923283,1.0283256734582862,1.0070454817281176,0.9799018590042414,0.9905018565625381,1.0002632142979715,1.0034113234813706,1.0179169613456327,0.9788774976538545,0.9868933789136337,0.9764036572370836,0.9805357833106161,0.9795196559643748,1.008044937713261,0.9951538745314241,0.9942780827232222,0.9864601156109184,0.9976478959477081,1.0136114267287426,0.9756286629872497,0.9915681173387959,1.0002641001283963,1.0186112901008282,0.9752974855698076,0.9954225542142355,1.01050387738447,1.0308794093463387,0.9867592688892131,1.0085991583698801,0.997144449738525,1.0086340331710737,0.9941483325935463,1.0041997159055738,1.0151980099467395,0.9801567561773197,1.0103925846814885,0.9952549822795799,1.0458814089765824,0.9644378165905768,0.966207711295856,1.0075521761767523,1.0090166311928315,1.0047732825959574,0.9977819949522794,0.9746900378622563,1.0135557864361275,0.9888571305962951,0.9695373429151843,1.0289342358355973,1.0109606116224608,0.9712694770845045,0.9757168589866614,0.9670778918143089,0.9756497620925517,1.0012606307316374,0.9770933064292855,0.9987394049033744,0.9777821018438854,1.0023355238712908,0.974839217560283,1.0111514442270852,1.0029271986628747,0.9989042207916555,0.9868792557585662,0.976082011344666,0.9960026238759974,0.987197366504831,0.9997865450929329,0.994846927617672,1.0369444296467927,1.0161294642611314,1.0044569550841882,0.9949081362502554,1.002550623471325,1.0291282676180555,0.9921407406116639,1.0184673019418904,0.9685625396436351,0.9979212325503188,0.9867885254773875,0.9967799184619546,0.9918909343230391,1.01826473851642,0.9995702119119919,0.9981740394581491,0.9899483287173861,1.0008299947298003,0.985084627489634,0.9980234864887522,1.0042178095932421,0.9834413228116932,0.9791530720015091,0.9727581322155866,0.9836085644245952,0.9882986086084211,1.0078801027660613,0.9720383975571699,0.9901106324283683,0.9971752366505487,0.9895058588647603,0.9773442176834024,0.9817371728905127,0.9649128837747072,0.973764978164294,1.0318736529752743,0.9858907438619541,0.9839005643276653,0.9931996224982153,0.9874683552478888,1.0196378471748848,1.019386960135501,0.9976381266154586,0.9821317215158407,1.0162141373593563,1.0329690975435197,0.9739557554847191,0.9746212783380417,0.9766697183551213,0.9764767541819614,0.9789920937071956,1.0019877691757115,0.9848743661509267,0.9988104076507178,0.9887920362610306,0.993058975890017,0.9635621983017325,1.0130556516674092,1.0091332910051594,1.011891209659593,1.0340278048203522,0.9846601945676923,1.0019061520582293,1.0138761736635575,1.011688797445042,1.0217643691957683,0.9632120139607973,1.0064615104551686,1.0141810747204125,0.9934217036317018,1.013200678800132,0.9955328025800266,1.024682562299611,0.981860460005756,0.9929045187375152,1.0061091735474692,0.9907838559423137,0.9996849619574799,1.0031886426201362,0.9834547479430875,1.0267741455582218,1.007510373432037,0.9919426720173226,1.00556696191284,1.0147653499991918,0.9916005954330862,0.9974024870255068,0.9935565367857716,0.9988852422939136,1.0113593963679162,1.0046112956262934,0.9894629342934339,1.0061863735626897,0.9789077625709995,1.0117114581664253,0.9984486318896603,0.9610580419257575,0.9874524551132925,1.0349452954048977,1.0092914888968285,1.0176115901782259,1.029537665335528,1.023341570121834,1.0184651604600703,1.0201692128476332,0.9936494563730432,0.9903575240961633,1.0113034122347786,1.0134729191274043,1.0179149006995654,1.0320717489480038,0.9898228434801626,1.0078536048798354,0.9973058156729132,0.9808036419772211,0.9836089744942214,1.0349484026622513,1.0158035794807123,0.9992627651809252,0.9610688025893742,0.9934571141992042,0.9656110324821535,1.015246648705339,1.0014334316347926,1.0073801280325312,0.9958758347031934,0.9940565016943621,1.01602355632533,1.011538106360487,0.9902105821467734,1.032753891526853,0.9999328301002446,0.9962938967500943,1.0062011924388794,0.9901826403854086,1.0111092827470425,0.9797555378394348,0.9887150031490894,1.0279914984868999,1.0080100608524887,0.9944765444845536,1.0298922436943256,1.035340859533271,0.9561532114900336,0.9847056032705801,0.9950153923917473,0.9699878342583561,1.01055633099111,1.0103671454253695,1.0144569449819536,1.000413490018931,0.9995020629848489,1.0020944848268876,1.0188724390355424,1.0122938393929166,0.9971134580805715,0.9786653129640821,0.9954766661388887,0.9743238049436124,0.998613920959869,1.030863418148991,0.9760838722151631,1.0169048224778343,1.0048291397482259,0.9861929406390948,0.9922340297058383,1.0093463684291488,0.985726080338753,0.9970899201806649,0.9935643737913308,0.9843236628712376,1.0052000892626876,1.0125704915262814,0.995051308223178,1.003875761317012,1.0260274088917976,1.0037805799476556,0.9963504920187439,1.0034548267356962,0.9957166476086406,0.9847847353616938,1.0184257328150177,0.9630385281615909,1.0251337240716982,0.9775277578549734,0.9955237908456973,0.9845160558534908,0.9906264005492799,0.9661747587682393,1.0173926929261203,1.0215726884010543,1.0027447962925788,1.0200701273005799,0.989789831214899,1.026283199511519,1.0050002674224312,1.0193867974117756,1.0021605728915441,0.9985789104656577,0.988633210909578,1.0061014262027035,0.994266456424818,1.0074808841050515,0.980648388214421,1.0368518386253667,0.9761239246049691,1.0051620541521624,0.97698076230018,1.0303279299993724,0.994281160364625,1.027127427222508,1.01593931806596,0.9887020315250954,1.0068503808416507,1.001114315899769,0.9973251323241855,1.005799181601404,1.0239277250679701,0.9700484632522864,1.0136782257010721,0.9646607826852961,1.0173397118601537,0.9969369192257337,1.0090470575331405,0.9743947183370595,0.9853852701779422,1.0275452049176164,0.9999600637818215,1.004787241356636,1.0057534624834719,1.017917376920589,1.0188072320043642,1.0216946454890214,1.0412358536314226,1.017382896707671,0.990381011373026,1.00742107737099,1.0092583066321814,0.9917458491872866,0.9588309378027351,0.9766525615634338,1.0046339698684155,1.0035277058295031,1.0125283787156596,1.0175727791312796,0.9885261718775747,0.9836390418050844,1.0203392981370734,0.9795226200316441,1.019059173612537,1.04232794958906,0.9898112110704883,0.9850104707265924,1.0059618815944802,1.0452705347970062,0.997076555762372,0.9890484648826354,1.0058988629958654,0.9990787414720956,1.0111661490731885,0.987255778767321,1.0002367709937245,0.9897550201014805,1.0190408210327477,1.0635821618684314,1.006177795028503,0.9522684096727227,1.0125771204388316,1.0003891941433067,1.0040891773642084,0.9815883263680982,1.004894538423374,0.9941661774878142,0.98885204668176,1.0005685203958243,1.009096668162464,0.9937697164128793,0.9848909098117699,1.0019315516191794,1.0076150917742572,0.957547426345919,1.0143792654479753,0.985375373503228,1.0164101459494497,0.9741844627212561,1.0022348165264712,1.0194562103655327,1.0020567527517594,0.9842030311621622,1.0296035566803496,0.9813933687253034,0.9824999023489308,0.9563285216616089,0.9965268655369264,0.9725431128254219,1.0078141938190188,1.0053300671330658,1.0083026912233974,0.9721690130163545,1.0100789380269728,0.9984691952264938,0.9750084714465567,1.0078308418901447,1.0144417094095413,0.9862197377940571,1.0065441572497555,0.9995486813320262,0.9985711613737114,0.9944964693196159,0.9766902979876213,1.0220764585771118,0.9694497507439712,1.027173782021509,1.0069701143243959,1.0023929888451415,0.9777710852413258,0.9927543974023082,0.99753749759876,0.9807002776672824,1.014991364298156,1.00428115766585,1.032111186850435,0.9877036048031166,1.0050308474846754,0.9900845554785407,1.0117304327926475,0.9995784454862251,1.0243627112552656,0.9831916634193466,1.0144858103713088,0.9815859536279847,0.9610944408111841,1.003165357645707,1.0262806056592968,1.0200746350431344,0.9928038767773206,0.9713480897065278,1.0004862900778135,1.0000303785180369,0.9877667246163286,0.9940239441795924,1.026595833090903,0.9894837675846597,0.9959930793250927,0.9781857252410252,1.0200838826384928,0.9892398144067509,0.9974793952968567,1.0302054654394353,0.9870839977226378,1.0284008598869465,1.0121686267454046,0.9703380889005744,0.9728386959933811,1.0162651236983844,1.0038550055940991,0.9962409916539484,1.003064201820447,0.9881599311357762,0.9904428327222154,1.0026456493035123,1.0205679423941725,0.9907837074196691,0.9987946871741354,0.966724504135179,1.002553405180004,1.039226290645817,0.9956770666471534,1.004540256111738,0.9733172838733851,1.046032742389402,0.98436111883613,0.9881670825909747,0.9894300954482338,1.001337830738516,1.0136114036860953,0.9971685524789831,0.9650860229902516,1.00950520640659,1.00280175292094,1.019390742052663,0.970975724060029,1.0364083653899188,1.0268682995404665,0.992171756300942,1.0118926660068388,0.9798485629891732,0.9673039412724296,1.0159415711254507,1.0070841245431765,1.0159344651626927,1.0179647991949656,1.0174783407338361,0.995260816344848,0.9851371344059999,0.9861040114528771,1.0149806491904638,0.979759850115506,1.0085666014900172,1.0322408857824774,1.0093998975863803,0.9813877058475329,1.0095347296840713,1.0148978795014916,1.0194075951318242,1.0124448561290276,0.9910431204754715,1.0048809952487106,0.9927986667210975,1.0180450108593608,1.0018777286897291,1.0054802587958904,1.0043795172020304,1.0239665349481113,0.9980724355236766,1.0095212876334516,0.9916351886054255,1.0059988995143954,0.9634575791267471,0.965301988210777,0.9986939433112262,1.0202046142401617,0.9777102336373981,0.9871761664653919,1.0275216549619697,1.0050557607064838,0.9831177983167664,1.0037262792305492,1.0230164202623597,1.01469050617156,0.9742105628256529,1.0061185071000096,1.0255089080811992,1.0024328800713695,1.0128723284244816,0.9816312401897407,1.0055182301569494,1.0149918624296383,0.9848057377421205,0.9948183878426069,0.9921001374652648,0.9929594603080404,1.0288079400434886,0.971621747974024,1.026631495796221,1.0070980546657258,0.9699808238862445,0.9963845143831468,1.031710035608014,1.0004246337577012,1.0087940822622663,1.0186052192582309,1.0189505105459327,1.0204749625872127,0.993035008475464,0.9836349535865893,0.9741333226766603,0.9999613326216138,1.0244456818327157,1.0242891519681387,0.9892485313532624,1.0120700411474919,1.014503670156398,0.9817767026266155,0.9905105018680039,0.9620462537277998,1.0406456392415995,0.994793207506629,0.9812003744667298,1.0221871948078556,0.9990440169981049,0.9872196603606227,0.9921481143002446,0.9995045372657398,0.9802376173352185,0.995398136525588,1.0204659165305614,0.9978583254534624,0.9902006603047713,0.9789123285531921,0.9999466180602692,1.0098987981945022,1.0011357950495952,1.0021319152073969,1.0010960982440542,0.9847137122489849,1.0152878036336934,0.9596293719438364,0.9906087532668657,1.0199323828820577,0.985643346923397,0.9915909160438062,0.9824198251688484,1.000904158972493,1.0065788812778176,1.0179166231828303,0.981916504009253,0.9956621259294058,1.0308785088016703,1.0143251010423635,1.0006421970208244,0.9911009800782469,0.9679812494713248,0.9898341150209053,0.9972424707222619,0.9981527352376136,1.004845393756892,0.9796338772753664,1.003022311929895,1.0182987087762223,1.0219800667374512,0.9932758507660503,1.009019873820109,0.9888713421725456,1.0073990437498144,1.0109721177997248,1.0127616138094473,0.997862404277789,0.9893397759306696,0.950544194550113,0.9948931952273439,1.0065037210868837,1.0317632827074594,0.9989749510231501,1.0098493411563583,0.998362191913864,0.9879218904385753,1.0104150326764512,1.0098280931689023,1.0291346417630272,1.0169856594471713,1.0102824126300154,1.0149349867357225,0.9945404473893484,0.994772175959864,0.9781240949751361,0.9976044736309929,1.012156355782543,0.9831302218417607,1.0299202841790827,1.0148212976123465,0.9937572323133271,1.0228790309218478,1.025640323510365,1.0196659889390591,1.0247022912569168,0.9857828240654594,1.0068838898507826,1.0035115163382058,1.0084887080915954,1.0218953294237516,1.0075920433067385,0.9643838373287664,1.009290528108084,0.9787875521104857,0.9969427685774338,1.046536182193382,1.020568829073315,0.9874194359387238,1.033778211880058,1.0148406590744419,0.9668368816649007,0.9992643399287214,0.9783251241319723,1.0087298486363658,0.9979237159450032,0.9887719618191243,0.9679222116590608,1.0099555248630498,0.9939121108301204,0.9738264002064905,0.9940218733101679,0.9767702611365413,1.0021905664078665,0.9939851193132777,0.9755649599513647,0.9674890960434676,0.9837255980660795,0.9905011874771926,0.9873551701588429,0.9923430584560039,1.0055693706281759,1.0104961206006011,1.0225703468334895,1.0086862674380739,0.9988330741631635,0.9734376485941441,1.0067337425503242,0.9764396189921339,0.9818032396072298,1.011432324861434,0.9857891576323699,0.9964559878232253,0.9835933413891006,0.9880966817006661,1.0126144882138233,1.0077408342497685,0.9908634511321376,1.0243437636935153,0.9996276597501254,0.9968606274258219,1.0059083173605259,1.0124732017165567,0.9878222096063646,0.9788574876452597,0.9718813772297082,0.984754510291224,0.9949151068493545,1.0060792305057775,0.9766740880759013,1.0081321292672425,1.0130541544451603,0.9697946429995413,0.9865713796978272,1.0044328871111667,0.9728973275666258,0.9711741695358829,1.0096987739154992,0.9881360246784684,0.9742206068801441,0.9907706117801262,0.9958612427114972,1.011689904315367,1.0055213595196895,1.0078980447216317,0.9825605868335084,1.001749328771101,0.9894578451734855,0.9917804757931756,1.0222790310819483,1.0162151246443267,1.0102097180801093,0.9558791239228591,0.9962021576274155,0.9728627806713971,0.9989365626978992,0.9934426270546786,1.0091546436663246,0.9931553382372861,0.9814311070959808,1.001021558575481,1.0136001827872894,0.9829878201586143,1.0057971543086468,0.9772504288095791,1.0101054897250394,1.0066729236744711,1.0181791925110124,1.0036022560290945,0.9910388192112973,1.009894889414214,1.0170564949743957,1.0235761863762742,0.98781953057484,1.0282663956228137,0.9907985991523167,0.9958560659318603,0.9912623775652654,0.9910368932979342,0.9946400975276254,1.0082249446764817,1.0194391542266166,1.0194747350814755,1.0385531928304994,1.0161629637662561,1.0215224579942774,1.002193935786301,0.9747725637900708,0.9863575632604751,0.9694064612056744,0.9749351485175707,0.9628920896448534,0.9897031894331814,1.0093913247108373,1.0219932533516596,0.9855510818429637,1.0098223262852384,1.0045669118119398,1.0104848129985973,1.0204814276643563,0.9993991452109028,0.9839271204667551,1.0221859012435688,1.0418613288451601,0.9968570482026363,1.0031464993654486,0.9710700885297919,0.9890401382381039,1.0105082593203751,0.9913032864535157,0.9942888815425632,1.0194958818262392,1.0377079225767922,1.0164329361412883,0.9684708287786851,1.0167181529941418,0.9819311070656241,0.9967184405222246,0.9900152451229781,0.9542423841792886,0.9899294747782574,1.0427131014532942,0.9810950874866925,0.9999477034095283,0.9919490488926686,1.0213290713080634,1.0104842515868944,1.039701325313948,1.018526332682785,1.012092215715356,1.0082919482774582,1.0028381538069908,1.0023297908519326,1.0123758904917852,1.003450387972656,1.0068743072705346,0.9980553555301349,1.0189619026063332,1.0260851301580656,0.9974058486662535,1.0042705074104956,1.008947163068914,0.9991473071132111,0.9946407229236542,0.9917555801203228,0.999838051233329,1.0131896579936814,1.009549511839853,0.9967090370395921,1.024633197450843,1.0119410382313179,0.967047583508245,0.9921126491034279,0.9953532700163529,0.9606172494282392,1.0305366206600504,1.011297392138225,1.0069999443859285,1.0185432317076866,1.004267895646741,1.0068268680863324,0.9975242175670158,1.0115342446132058,0.9887100352888536,1.041560493185059,0.9852962578911499,1.0059725036649787,1.0175927763900092,0.994663525045303],\"xaxis\":\"x\",\"yaxis\":\"y\",\"type\":\"histogram\"}],                        {\"template\":{\"data\":{\"histogram2dcontour\":[{\"type\":\"histogram2dcontour\",\"colorbar\":{\"outlinewidth\":0,\"ticks\":\"\"},\"colorscale\":[[0.0,\"#0d0887\"],[0.1111111111111111,\"#46039f\"],[0.2222222222222222,\"#7201a8\"],[0.3333333333333333,\"#9c179e\"],[0.4444444444444444,\"#bd3786\"],[0.5555555555555556,\"#d8576b\"],[0.6666666666666666,\"#ed7953\"],[0.7777777777777778,\"#fb9f3a\"],[0.8888888888888888,\"#fdca26\"],[1.0,\"#f0f921\"]]}],\"choropleth\":[{\"type\":\"choropleth\",\"colorbar\":{\"outlinewidth\":0,\"ticks\":\"\"}}],\"histogram2d\":[{\"type\":\"histogram2d\",\"colorbar\":{\"outlinewidth\":0,\"ticks\":\"\"},\"colorscale\":[[0.0,\"#0d0887\"],[0.1111111111111111,\"#46039f\"],[0.2222222222222222,\"#7201a8\"],[0.3333333333333333,\"#9c179e\"],[0.4444444444444444,\"#bd3786\"],[0.5555555555555556,\"#d8576b\"],[0.6666666666666666,\"#ed7953\"],[0.7777777777777778,\"#fb9f3a\"],[0.8888888888888888,\"#fdca26\"],[1.0,\"#f0f921\"]]}],\"heatmap\":[{\"type\":\"heatmap\",\"colorbar\":{\"outlinewidth\":0,\"ticks\":\"\"},\"colorscale\":[[0.0,\"#0d0887\"],[0.1111111111111111,\"#46039f\"],[0.2222222222222222,\"#7201a8\"],[0.3333333333333333,\"#9c179e\"],[0.4444444444444444,\"#bd3786\"],[0.5555555555555556,\"#d8576b\"],[0.6666666666666666,\"#ed7953\"],[0.7777777777777778,\"#fb9f3a\"],[0.8888888888888888,\"#fdca26\"],[1.0,\"#f0f921\"]]}],\"heatmapgl\":[{\"type\":\"heatmapgl\",\"colorbar\":{\"outlinewidth\":0,\"ticks\":\"\"},\"colorscale\":[[0.0,\"#0d0887\"],[0.1111111111111111,\"#46039f\"],[0.2222222222222222,\"#7201a8\"],[0.3333333333333333,\"#9c179e\"],[0.4444444444444444,\"#bd3786\"],[0.5555555555555556,\"#d8576b\"],[0.6666666666666666,\"#ed7953\"],[0.7777777777777778,\"#fb9f3a\"],[0.8888888888888888,\"#fdca26\"],[1.0,\"#f0f921\"]]}],\"contourcarpet\":[{\"type\":\"contourcarpet\",\"colorbar\":{\"outlinewidth\":0,\"ticks\":\"\"}}],\"contour\":[{\"type\":\"contour\",\"colorbar\":{\"outlinewidth\":0,\"ticks\":\"\"},\"colorscale\":[[0.0,\"#0d0887\"],[0.1111111111111111,\"#46039f\"],[0.2222222222222222,\"#7201a8\"],[0.3333333333333333,\"#9c179e\"],[0.4444444444444444,\"#bd3786\"],[0.5555555555555556,\"#d8576b\"],[0.6666666666666666,\"#ed7953\"],[0.7777777777777778,\"#fb9f3a\"],[0.8888888888888888,\"#fdca26\"],[1.0,\"#f0f921\"]]}],\"surface\":[{\"type\":\"surface\",\"colorbar\":{\"outlinewidth\":0,\"ticks\":\"\"},\"colorscale\":[[0.0,\"#0d0887\"],[0.1111111111111111,\"#46039f\"],[0.2222222222222222,\"#7201a8\"],[0.3333333333333333,\"#9c179e\"],[0.4444444444444444,\"#bd3786\"],[0.5555555555555556,\"#d8576b\"],[0.6666666666666666,\"#ed7953\"],[0.7777777777777778,\"#fb9f3a\"],[0.8888888888888888,\"#fdca26\"],[1.0,\"#f0f921\"]]}],\"mesh3d\":[{\"type\":\"mesh3d\",\"colorbar\":{\"outlinewidth\":0,\"ticks\":\"\"}}],\"scatter\":[{\"fillpattern\":{\"fillmode\":\"overlay\",\"size\":10,\"solidity\":0.2},\"type\":\"scatter\"}],\"parcoords\":[{\"type\":\"parcoords\",\"line\":{\"colorbar\":{\"outlinewidth\":0,\"ticks\":\"\"}}}],\"scatterpolargl\":[{\"type\":\"scatterpolargl\",\"marker\":{\"colorbar\":{\"outlinewidth\":0,\"ticks\":\"\"}}}],\"bar\":[{\"error_x\":{\"color\":\"#2a3f5f\"},\"error_y\":{\"color\":\"#2a3f5f\"},\"marker\":{\"line\":{\"color\":\"#E5ECF6\",\"width\":0.5},\"pattern\":{\"fillmode\":\"overlay\",\"size\":10,\"solidity\":0.2}},\"type\":\"bar\"}],\"scattergeo\":[{\"type\":\"scattergeo\",\"marker\":{\"colorbar\":{\"outlinewidth\":0,\"ticks\":\"\"}}}],\"scatterpolar\":[{\"type\":\"scatterpolar\",\"marker\":{\"colorbar\":{\"outlinewidth\":0,\"ticks\":\"\"}}}],\"histogram\":[{\"marker\":{\"pattern\":{\"fillmode\":\"overlay\",\"size\":10,\"solidity\":0.2}},\"type\":\"histogram\"}],\"scattergl\":[{\"type\":\"scattergl\",\"marker\":{\"colorbar\":{\"outlinewidth\":0,\"ticks\":\"\"}}}],\"scatter3d\":[{\"type\":\"scatter3d\",\"line\":{\"colorbar\":{\"outlinewidth\":0,\"ticks\":\"\"}},\"marker\":{\"colorbar\":{\"outlinewidth\":0,\"ticks\":\"\"}}}],\"scattermapbox\":[{\"type\":\"scattermapbox\",\"marker\":{\"colorbar\":{\"outlinewidth\":0,\"ticks\":\"\"}}}],\"scatterternary\":[{\"type\":\"scatterternary\",\"marker\":{\"colorbar\":{\"outlinewidth\":0,\"ticks\":\"\"}}}],\"scattercarpet\":[{\"type\":\"scattercarpet\",\"marker\":{\"colorbar\":{\"outlinewidth\":0,\"ticks\":\"\"}}}],\"carpet\":[{\"aaxis\":{\"endlinecolor\":\"#2a3f5f\",\"gridcolor\":\"white\",\"linecolor\":\"white\",\"minorgridcolor\":\"white\",\"startlinecolor\":\"#2a3f5f\"},\"baxis\":{\"endlinecolor\":\"#2a3f5f\",\"gridcolor\":\"white\",\"linecolor\":\"white\",\"minorgridcolor\":\"white\",\"startlinecolor\":\"#2a3f5f\"},\"type\":\"carpet\"}],\"table\":[{\"cells\":{\"fill\":{\"color\":\"#EBF0F8\"},\"line\":{\"color\":\"white\"}},\"header\":{\"fill\":{\"color\":\"#C8D4E3\"},\"line\":{\"color\":\"white\"}},\"type\":\"table\"}],\"barpolar\":[{\"marker\":{\"line\":{\"color\":\"#E5ECF6\",\"width\":0.5},\"pattern\":{\"fillmode\":\"overlay\",\"size\":10,\"solidity\":0.2}},\"type\":\"barpolar\"}],\"pie\":[{\"automargin\":true,\"type\":\"pie\"}]},\"layout\":{\"autotypenumbers\":\"strict\",\"colorway\":[\"#636efa\",\"#EF553B\",\"#00cc96\",\"#ab63fa\",\"#FFA15A\",\"#19d3f3\",\"#FF6692\",\"#B6E880\",\"#FF97FF\",\"#FECB52\"],\"font\":{\"color\":\"#2a3f5f\"},\"hovermode\":\"closest\",\"hoverlabel\":{\"align\":\"left\"},\"paper_bgcolor\":\"white\",\"plot_bgcolor\":\"#E5ECF6\",\"polar\":{\"bgcolor\":\"#E5ECF6\",\"angularaxis\":{\"gridcolor\":\"white\",\"linecolor\":\"white\",\"ticks\":\"\"},\"radialaxis\":{\"gridcolor\":\"white\",\"linecolor\":\"white\",\"ticks\":\"\"}},\"ternary\":{\"bgcolor\":\"#E5ECF6\",\"aaxis\":{\"gridcolor\":\"white\",\"linecolor\":\"white\",\"ticks\":\"\"},\"baxis\":{\"gridcolor\":\"white\",\"linecolor\":\"white\",\"ticks\":\"\"},\"caxis\":{\"gridcolor\":\"white\",\"linecolor\":\"white\",\"ticks\":\"\"}},\"coloraxis\":{\"colorbar\":{\"outlinewidth\":0,\"ticks\":\"\"}},\"colorscale\":{\"sequential\":[[0.0,\"#0d0887\"],[0.1111111111111111,\"#46039f\"],[0.2222222222222222,\"#7201a8\"],[0.3333333333333333,\"#9c179e\"],[0.4444444444444444,\"#bd3786\"],[0.5555555555555556,\"#d8576b\"],[0.6666666666666666,\"#ed7953\"],[0.7777777777777778,\"#fb9f3a\"],[0.8888888888888888,\"#fdca26\"],[1.0,\"#f0f921\"]],\"sequentialminus\":[[0.0,\"#0d0887\"],[0.1111111111111111,\"#46039f\"],[0.2222222222222222,\"#7201a8\"],[0.3333333333333333,\"#9c179e\"],[0.4444444444444444,\"#bd3786\"],[0.5555555555555556,\"#d8576b\"],[0.6666666666666666,\"#ed7953\"],[0.7777777777777778,\"#fb9f3a\"],[0.8888888888888888,\"#fdca26\"],[1.0,\"#f0f921\"]],\"diverging\":[[0,\"#8e0152\"],[0.1,\"#c51b7d\"],[0.2,\"#de77ae\"],[0.3,\"#f1b6da\"],[0.4,\"#fde0ef\"],[0.5,\"#f7f7f7\"],[0.6,\"#e6f5d0\"],[0.7,\"#b8e186\"],[0.8,\"#7fbc41\"],[0.9,\"#4d9221\"],[1,\"#276419\"]]},\"xaxis\":{\"gridcolor\":\"white\",\"linecolor\":\"white\",\"ticks\":\"\",\"title\":{\"standoff\":15},\"zerolinecolor\":\"white\",\"automargin\":true,\"zerolinewidth\":2},\"yaxis\":{\"gridcolor\":\"white\",\"linecolor\":\"white\",\"ticks\":\"\",\"title\":{\"standoff\":15},\"zerolinecolor\":\"white\",\"automargin\":true,\"zerolinewidth\":2},\"scene\":{\"xaxis\":{\"backgroundcolor\":\"#E5ECF6\",\"gridcolor\":\"white\",\"linecolor\":\"white\",\"showbackground\":true,\"ticks\":\"\",\"zerolinecolor\":\"white\",\"gridwidth\":2},\"yaxis\":{\"backgroundcolor\":\"#E5ECF6\",\"gridcolor\":\"white\",\"linecolor\":\"white\",\"showbackground\":true,\"ticks\":\"\",\"zerolinecolor\":\"white\",\"gridwidth\":2},\"zaxis\":{\"backgroundcolor\":\"#E5ECF6\",\"gridcolor\":\"white\",\"linecolor\":\"white\",\"showbackground\":true,\"ticks\":\"\",\"zerolinecolor\":\"white\",\"gridwidth\":2}},\"shapedefaults\":{\"line\":{\"color\":\"#2a3f5f\"}},\"annotationdefaults\":{\"arrowcolor\":\"#2a3f5f\",\"arrowhead\":0,\"arrowwidth\":1},\"geo\":{\"bgcolor\":\"white\",\"landcolor\":\"#E5ECF6\",\"subunitcolor\":\"white\",\"showland\":true,\"showlakes\":true,\"lakecolor\":\"white\"},\"title\":{\"x\":0.05},\"mapbox\":{\"style\":\"light\"}}},\"xaxis\":{\"anchor\":\"y\",\"domain\":[0.0,1.0],\"title\":{\"text\":\"sample_averages\"}},\"yaxis\":{\"anchor\":\"x\",\"domain\":[0.0,1.0],\"title\":{\"text\":\"count\"}},\"legend\":{\"tracegroupgap\":0},\"margin\":{\"t\":60},\"barmode\":\"relative\"},                        {\"responsive\": true}                    ).then(function(){\n",
       "                            \n",
       "var gd = document.getElementById('df06be66-5544-4b8f-a796-b09c6509d161');\n",
       "var x = new MutationObserver(function (mutations, observer) {{\n",
       "        var display = window.getComputedStyle(gd).display;\n",
       "        if (!display || display === 'none') {{\n",
       "            console.log([gd, 'removed!']);\n",
       "            Plotly.purge(gd);\n",
       "            observer.disconnect();\n",
       "        }}\n",
       "}});\n",
       "\n",
       "// Listen for the removal of the full notebook cells\n",
       "var notebookContainer = gd.closest('#notebook-container');\n",
       "if (notebookContainer) {{\n",
       "    x.observe(notebookContainer, {childList: true});\n",
       "}}\n",
       "\n",
       "// Listen for the clearing of the current output cell\n",
       "var outputEl = gd.closest('.output');\n",
       "if (outputEl) {{\n",
       "    x.observe(outputEl, {childList: true});\n",
       "}}\n",
       "\n",
       "                        })                };                            </script>        </div>\n",
       "</body>\n",
       "</html>"
      ]
     },
     "metadata": {},
     "output_type": "display_data"
    }
   ],
   "source": [
    "# Sampling from the theoretical populations\n",
    "\n",
    "# how many times we want to do this\n",
    "reps = 1000\n",
    "\n",
    "# what is our sample size\n",
    "sample_size = 333\n",
    "\n",
    "# make an array to save the values\n",
    "my_theoretical_population_sample_means = np.zeros(reps)\n",
    "\n",
    "# make a random seed\n",
    "np.random.seed(130)\n",
    "\n",
    "# loop through in that many times\n",
    "for i in range(reps):\n",
    "\n",
    "    # take a sample from the population\n",
    "    my_theoretical_sample = my_theoretical_population.rvs(size=sample_size)\n",
    "\n",
    "    # calculate the mean and add it to the array\n",
    "    my_theoretical_population_sample_means[i] = my_theoretical_sample.mean()\n",
    "\n",
    "# make a dataframe of the bootstrapped samples\n",
    "df = pd.DataFrame({'sample_averages': my_theoretical_population_sample_means})\n",
    "\n",
    "# graph\n",
    "px.histogram(df, x='sample_averages')"
   ]
  },
  {
   "cell_type": "markdown",
   "id": "vHTrM1blklLt",
   "metadata": {
    "id": "vHTrM1blklLt"
   },
   "source": [
    "Lets make a null-hypothesis\n",
    "\n",
    "$H_0:$ The true mean and the mean of the theoretical population are the same\n",
    "\n",
    "$H_1:$ They should not be the same"
   ]
  },
  {
   "cell_type": "code",
   "execution_count": 15,
   "id": "2f86f76f698556a3",
   "metadata": {
    "ExecuteTime": {
     "end_time": "2024-05-15T20:47:14.853179Z",
     "start_time": "2024-05-15T20:47:14.806938Z"
    },
    "colab": {
     "base_uri": "https://localhost:8080/",
     "height": 563
    },
    "id": "2f86f76f698556a3",
    "outputId": "6f5359f0-cf0b-4e24-ac35-e2b153eda058"
   },
   "outputs": [
    {
     "data": {
      "text/html": [
       "<html>\n",
       "<head><meta charset=\"utf-8\" /></head>\n",
       "<body>\n",
       "    <div>            <script src=\"https://cdnjs.cloudflare.com/ajax/libs/mathjax/2.7.5/MathJax.js?config=TeX-AMS-MML_SVG\"></script><script type=\"text/javascript\">if (window.MathJax && window.MathJax.Hub && window.MathJax.Hub.Config) {window.MathJax.Hub.Config({SVG: {font: \"STIX-Web\"}});}</script>                <script type=\"text/javascript\">window.PlotlyConfig = {MathJaxConfig: 'local'};</script>\n",
       "        <script charset=\"utf-8\" src=\"https://cdn.plot.ly/plotly-2.24.1.min.js\"></script>                <div id=\"15e549b9-3864-4549-84e6-58465406e112\" class=\"plotly-graph-div\" style=\"height:525px; width:100%;\"></div>            <script type=\"text/javascript\">                                    window.PLOTLYENV=window.PLOTLYENV || {};                                    if (document.getElementById(\"15e549b9-3864-4549-84e6-58465406e112\")) {                    Plotly.newPlot(                        \"15e549b9-3864-4549-84e6-58465406e112\",                        [{\"histnorm\":\"probability density\",\"nbinsx\":20,\"x\":[1.008899848572132,0.9825441721038899,0.9697244784088603,0.9422071294546042,1.0162338330792116,1.0023639365031634,1.0355790542543344,1.0179592092884449,1.0019052637883883,1.0023156813054688,1.0030742526439897,0.9995290829374835,1.0305479871320367,1.0016659959774907,0.9696428248065014,0.9912381953931263,1.008610501701825,1.0273757276842925,0.9923443732575811,1.0005144347654706,1.0214281751723098,0.9951063827146857,0.9892688235521944,1.0372557472207047,0.9783124514906577,0.9807310985294514,0.9829869782743348,1.0004184854977314,1.0260592716307446,0.9936180000599647,0.9519603883213607,0.9866427212653198,1.0307232500887897,1.0084512113878377,0.9894229998884786,1.0159254909719924,0.9983041120911772,0.9878216785352636,1.0262999532030053,0.9815239738954887,1.0067353439186109,0.9978134894226047,1.0041721535913135,0.9887401421196371,1.0009006977538553,1.0041503416875912,0.9993927406065527,0.9861688869690606,0.9810082688940309,1.0173257526164814,0.9614867450853942,1.0009421973644872,0.9939572461144761,1.0031383058250731,1.0019985951475316,0.9845034617494627,0.9726486762307782,1.0095584306211915,0.9898154410437066,0.9956917689142162,0.9724061114844414,0.972559457254951,0.9670261184586283,1.0020547671291407,1.0275884283634993,1.0075679857439273,0.9998166982231329,0.9658757580683599,0.9793820968760233,0.9890264193416937,1.0114045751120018,0.993118457360151,1.0026408766068933,0.9910771167985802,1.0034594684650027,0.9621621717077945,1.019806405347583,1.0019191449775746,1.0183211858806247,0.9883849455734421,1.0113266252753168,1.005983421707782,1.0233082770539086,0.9777577494631904,1.015309046150384,1.0078288840179856,1.0107510779318627,0.9765801115678722,1.0115412761273708,0.988551008037396,1.0048468933506747,0.9941867103400482,0.9929717660653473,1.0073741388337345,1.000249917784327,0.9712632093385866,0.9823051898157851,1.0123930385183841,1.0224302700017454,0.9979163942735434,1.0168822261797896,1.014582485212787,1.008519071357567,0.9626759135031808,0.996333072240997,1.0141499541363503,0.9791753468614467,0.982404514641645,1.048028217458441,0.9974962751216052,1.020226698492108,0.968664095264416,1.0200413913807276,1.0200937229131917,0.95891818055016,1.0077816664008707,1.0098214320441443,0.9971422458119211,1.0073248596311832,0.9847372516542525,1.0276560007167845,0.9694555136324892,1.0119608714398893,1.0008307385678452,1.012479613757679,1.0210663878404345,1.0125774253517419,0.9977968308857721,0.9921519444162286,0.9815970574878624,1.0224319010381262,0.9459942916321293,0.9997050669687929,0.9817588745543531,0.9943773112283901,0.9928161464940463,0.9615451929009634,0.9930713925906068,1.0164557578977431,1.0034018152714501,1.0015131782141218,0.980218161159577,1.0215111372541,0.9964958472222815,0.9836926049530382,0.9942062244488468,1.0248005831699292,0.9688063248651618,1.0088058032170695,0.9788295917431521,0.9867021298521311,0.9926856152121516,1.0202835459245683,0.9964439735575735,1.0195905126312,0.9630256411751685,0.9886087414195237,0.999227217613038,1.005613088659741,1.0043172614017333,1.0258032572318556,0.9953732116464008,1.0030053843818434,1.035822744604513,0.9836010114011327,0.9978943081651184,1.0025337291966918,1.0008897619623505,0.9916705855301448,1.0428062485503602,0.9853719892702226,1.0044979393961586,1.0041591481707985,0.9680576501819464,1.0027812428396303,0.9908032937741403,0.9956992498289853,1.0376721992790572,1.00889417950352,1.0025267700061706,0.9828096366094069,1.0086379701535644,1.0070464167923283,1.0283256734582862,1.0070454817281176,0.9799018590042414,0.9905018565625381,1.0002632142979715,1.0034113234813706,1.0179169613456327,0.9788774976538545,0.9868933789136337,0.9764036572370836,0.9805357833106161,0.9795196559643748,1.008044937713261,0.9951538745314241,0.9942780827232222,0.9864601156109184,0.9976478959477081,1.0136114267287426,0.9756286629872497,0.9915681173387959,1.0002641001283963,1.0186112901008282,0.9752974855698076,0.9954225542142355,1.01050387738447,1.0308794093463387,0.9867592688892131,1.0085991583698801,0.997144449738525,1.0086340331710737,0.9941483325935463,1.0041997159055738,1.0151980099467395,0.9801567561773197,1.0103925846814885,0.9952549822795799,1.0458814089765824,0.9644378165905768,0.966207711295856,1.0075521761767523,1.0090166311928315,1.0047732825959574,0.9977819949522794,0.9746900378622563,1.0135557864361275,0.9888571305962951,0.9695373429151843,1.0289342358355973,1.0109606116224608,0.9712694770845045,0.9757168589866614,0.9670778918143089,0.9756497620925517,1.0012606307316374,0.9770933064292855,0.9987394049033744,0.9777821018438854,1.0023355238712908,0.974839217560283,1.0111514442270852,1.0029271986628747,0.9989042207916555,0.9868792557585662,0.976082011344666,0.9960026238759974,0.987197366504831,0.9997865450929329,0.994846927617672,1.0369444296467927,1.0161294642611314,1.0044569550841882,0.9949081362502554,1.002550623471325,1.0291282676180555,0.9921407406116639,1.0184673019418904,0.9685625396436351,0.9979212325503188,0.9867885254773875,0.9967799184619546,0.9918909343230391,1.01826473851642,0.9995702119119919,0.9981740394581491,0.9899483287173861,1.0008299947298003,0.985084627489634,0.9980234864887522,1.0042178095932421,0.9834413228116932,0.9791530720015091,0.9727581322155866,0.9836085644245952,0.9882986086084211,1.0078801027660613,0.9720383975571699,0.9901106324283683,0.9971752366505487,0.9895058588647603,0.9773442176834024,0.9817371728905127,0.9649128837747072,0.973764978164294,1.0318736529752743,0.9858907438619541,0.9839005643276653,0.9931996224982153,0.9874683552478888,1.0196378471748848,1.019386960135501,0.9976381266154586,0.9821317215158407,1.0162141373593563,1.0329690975435197,0.9739557554847191,0.9746212783380417,0.9766697183551213,0.9764767541819614,0.9789920937071956,1.0019877691757115,0.9848743661509267,0.9988104076507178,0.9887920362610306,0.993058975890017,0.9635621983017325,1.0130556516674092,1.0091332910051594,1.011891209659593,1.0340278048203522,0.9846601945676923,1.0019061520582293,1.0138761736635575,1.011688797445042,1.0217643691957683,0.9632120139607973,1.0064615104551686,1.0141810747204125,0.9934217036317018,1.013200678800132,0.9955328025800266,1.024682562299611,0.981860460005756,0.9929045187375152,1.0061091735474692,0.9907838559423137,0.9996849619574799,1.0031886426201362,0.9834547479430875,1.0267741455582218,1.007510373432037,0.9919426720173226,1.00556696191284,1.0147653499991918,0.9916005954330862,0.9974024870255068,0.9935565367857716,0.9988852422939136,1.0113593963679162,1.0046112956262934,0.9894629342934339,1.0061863735626897,0.9789077625709995,1.0117114581664253,0.9984486318896603,0.9610580419257575,0.9874524551132925,1.0349452954048977,1.0092914888968285,1.0176115901782259,1.029537665335528,1.023341570121834,1.0184651604600703,1.0201692128476332,0.9936494563730432,0.9903575240961633,1.0113034122347786,1.0134729191274043,1.0179149006995654,1.0320717489480038,0.9898228434801626,1.0078536048798354,0.9973058156729132,0.9808036419772211,0.9836089744942214,1.0349484026622513,1.0158035794807123,0.9992627651809252,0.9610688025893742,0.9934571141992042,0.9656110324821535,1.015246648705339,1.0014334316347926,1.0073801280325312,0.9958758347031934,0.9940565016943621,1.01602355632533,1.011538106360487,0.9902105821467734,1.032753891526853,0.9999328301002446,0.9962938967500943,1.0062011924388794,0.9901826403854086,1.0111092827470425,0.9797555378394348,0.9887150031490894,1.0279914984868999,1.0080100608524887,0.9944765444845536,1.0298922436943256,1.035340859533271,0.9561532114900336,0.9847056032705801,0.9950153923917473,0.9699878342583561,1.01055633099111,1.0103671454253695,1.0144569449819536,1.000413490018931,0.9995020629848489,1.0020944848268876,1.0188724390355424,1.0122938393929166,0.9971134580805715,0.9786653129640821,0.9954766661388887,0.9743238049436124,0.998613920959869,1.030863418148991,0.9760838722151631,1.0169048224778343,1.0048291397482259,0.9861929406390948,0.9922340297058383,1.0093463684291488,0.985726080338753,0.9970899201806649,0.9935643737913308,0.9843236628712376,1.0052000892626876,1.0125704915262814,0.995051308223178,1.003875761317012,1.0260274088917976,1.0037805799476556,0.9963504920187439,1.0034548267356962,0.9957166476086406,0.9847847353616938,1.0184257328150177,0.9630385281615909,1.0251337240716982,0.9775277578549734,0.9955237908456973,0.9845160558534908,0.9906264005492799,0.9661747587682393,1.0173926929261203,1.0215726884010543,1.0027447962925788,1.0200701273005799,0.989789831214899,1.026283199511519,1.0050002674224312,1.0193867974117756,1.0021605728915441,0.9985789104656577,0.988633210909578,1.0061014262027035,0.994266456424818,1.0074808841050515,0.980648388214421,1.0368518386253667,0.9761239246049691,1.0051620541521624,0.97698076230018,1.0303279299993724,0.994281160364625,1.027127427222508,1.01593931806596,0.9887020315250954,1.0068503808416507,1.001114315899769,0.9973251323241855,1.005799181601404,1.0239277250679701,0.9700484632522864,1.0136782257010721,0.9646607826852961,1.0173397118601537,0.9969369192257337,1.0090470575331405,0.9743947183370595,0.9853852701779422,1.0275452049176164,0.9999600637818215,1.004787241356636,1.0057534624834719,1.017917376920589,1.0188072320043642,1.0216946454890214,1.0412358536314226,1.017382896707671,0.990381011373026,1.00742107737099,1.0092583066321814,0.9917458491872866,0.9588309378027351,0.9766525615634338,1.0046339698684155,1.0035277058295031,1.0125283787156596,1.0175727791312796,0.9885261718775747,0.9836390418050844,1.0203392981370734,0.9795226200316441,1.019059173612537,1.04232794958906,0.9898112110704883,0.9850104707265924,1.0059618815944802,1.0452705347970062,0.997076555762372,0.9890484648826354,1.0058988629958654,0.9990787414720956,1.0111661490731885,0.987255778767321,1.0002367709937245,0.9897550201014805,1.0190408210327477,1.0635821618684314,1.006177795028503,0.9522684096727227,1.0125771204388316,1.0003891941433067,1.0040891773642084,0.9815883263680982,1.004894538423374,0.9941661774878142,0.98885204668176,1.0005685203958243,1.009096668162464,0.9937697164128793,0.9848909098117699,1.0019315516191794,1.0076150917742572,0.957547426345919,1.0143792654479753,0.985375373503228,1.0164101459494497,0.9741844627212561,1.0022348165264712,1.0194562103655327,1.0020567527517594,0.9842030311621622,1.0296035566803496,0.9813933687253034,0.9824999023489308,0.9563285216616089,0.9965268655369264,0.9725431128254219,1.0078141938190188,1.0053300671330658,1.0083026912233974,0.9721690130163545,1.0100789380269728,0.9984691952264938,0.9750084714465567,1.0078308418901447,1.0144417094095413,0.9862197377940571,1.0065441572497555,0.9995486813320262,0.9985711613737114,0.9944964693196159,0.9766902979876213,1.0220764585771118,0.9694497507439712,1.027173782021509,1.0069701143243959,1.0023929888451415,0.9777710852413258,0.9927543974023082,0.99753749759876,0.9807002776672824,1.014991364298156,1.00428115766585,1.032111186850435,0.9877036048031166,1.0050308474846754,0.9900845554785407,1.0117304327926475,0.9995784454862251,1.0243627112552656,0.9831916634193466,1.0144858103713088,0.9815859536279847,0.9610944408111841,1.003165357645707,1.0262806056592968,1.0200746350431344,0.9928038767773206,0.9713480897065278,1.0004862900778135,1.0000303785180369,0.9877667246163286,0.9940239441795924,1.026595833090903,0.9894837675846597,0.9959930793250927,0.9781857252410252,1.0200838826384928,0.9892398144067509,0.9974793952968567,1.0302054654394353,0.9870839977226378,1.0284008598869465,1.0121686267454046,0.9703380889005744,0.9728386959933811,1.0162651236983844,1.0038550055940991,0.9962409916539484,1.003064201820447,0.9881599311357762,0.9904428327222154,1.0026456493035123,1.0205679423941725,0.9907837074196691,0.9987946871741354,0.966724504135179,1.002553405180004,1.039226290645817,0.9956770666471534,1.004540256111738,0.9733172838733851,1.046032742389402,0.98436111883613,0.9881670825909747,0.9894300954482338,1.001337830738516,1.0136114036860953,0.9971685524789831,0.9650860229902516,1.00950520640659,1.00280175292094,1.019390742052663,0.970975724060029,1.0364083653899188,1.0268682995404665,0.992171756300942,1.0118926660068388,0.9798485629891732,0.9673039412724296,1.0159415711254507,1.0070841245431765,1.0159344651626927,1.0179647991949656,1.0174783407338361,0.995260816344848,0.9851371344059999,0.9861040114528771,1.0149806491904638,0.979759850115506,1.0085666014900172,1.0322408857824774,1.0093998975863803,0.9813877058475329,1.0095347296840713,1.0148978795014916,1.0194075951318242,1.0124448561290276,0.9910431204754715,1.0048809952487106,0.9927986667210975,1.0180450108593608,1.0018777286897291,1.0054802587958904,1.0043795172020304,1.0239665349481113,0.9980724355236766,1.0095212876334516,0.9916351886054255,1.0059988995143954,0.9634575791267471,0.965301988210777,0.9986939433112262,1.0202046142401617,0.9777102336373981,0.9871761664653919,1.0275216549619697,1.0050557607064838,0.9831177983167664,1.0037262792305492,1.0230164202623597,1.01469050617156,0.9742105628256529,1.0061185071000096,1.0255089080811992,1.0024328800713695,1.0128723284244816,0.9816312401897407,1.0055182301569494,1.0149918624296383,0.9848057377421205,0.9948183878426069,0.9921001374652648,0.9929594603080404,1.0288079400434886,0.971621747974024,1.026631495796221,1.0070980546657258,0.9699808238862445,0.9963845143831468,1.031710035608014,1.0004246337577012,1.0087940822622663,1.0186052192582309,1.0189505105459327,1.0204749625872127,0.993035008475464,0.9836349535865893,0.9741333226766603,0.9999613326216138,1.0244456818327157,1.0242891519681387,0.9892485313532624,1.0120700411474919,1.014503670156398,0.9817767026266155,0.9905105018680039,0.9620462537277998,1.0406456392415995,0.994793207506629,0.9812003744667298,1.0221871948078556,0.9990440169981049,0.9872196603606227,0.9921481143002446,0.9995045372657398,0.9802376173352185,0.995398136525588,1.0204659165305614,0.9978583254534624,0.9902006603047713,0.9789123285531921,0.9999466180602692,1.0098987981945022,1.0011357950495952,1.0021319152073969,1.0010960982440542,0.9847137122489849,1.0152878036336934,0.9596293719438364,0.9906087532668657,1.0199323828820577,0.985643346923397,0.9915909160438062,0.9824198251688484,1.000904158972493,1.0065788812778176,1.0179166231828303,0.981916504009253,0.9956621259294058,1.0308785088016703,1.0143251010423635,1.0006421970208244,0.9911009800782469,0.9679812494713248,0.9898341150209053,0.9972424707222619,0.9981527352376136,1.004845393756892,0.9796338772753664,1.003022311929895,1.0182987087762223,1.0219800667374512,0.9932758507660503,1.009019873820109,0.9888713421725456,1.0073990437498144,1.0109721177997248,1.0127616138094473,0.997862404277789,0.9893397759306696,0.950544194550113,0.9948931952273439,1.0065037210868837,1.0317632827074594,0.9989749510231501,1.0098493411563583,0.998362191913864,0.9879218904385753,1.0104150326764512,1.0098280931689023,1.0291346417630272,1.0169856594471713,1.0102824126300154,1.0149349867357225,0.9945404473893484,0.994772175959864,0.9781240949751361,0.9976044736309929,1.012156355782543,0.9831302218417607,1.0299202841790827,1.0148212976123465,0.9937572323133271,1.0228790309218478,1.025640323510365,1.0196659889390591,1.0247022912569168,0.9857828240654594,1.0068838898507826,1.0035115163382058,1.0084887080915954,1.0218953294237516,1.0075920433067385,0.9643838373287664,1.009290528108084,0.9787875521104857,0.9969427685774338,1.046536182193382,1.020568829073315,0.9874194359387238,1.033778211880058,1.0148406590744419,0.9668368816649007,0.9992643399287214,0.9783251241319723,1.0087298486363658,0.9979237159450032,0.9887719618191243,0.9679222116590608,1.0099555248630498,0.9939121108301204,0.9738264002064905,0.9940218733101679,0.9767702611365413,1.0021905664078665,0.9939851193132777,0.9755649599513647,0.9674890960434676,0.9837255980660795,0.9905011874771926,0.9873551701588429,0.9923430584560039,1.0055693706281759,1.0104961206006011,1.0225703468334895,1.0086862674380739,0.9988330741631635,0.9734376485941441,1.0067337425503242,0.9764396189921339,0.9818032396072298,1.011432324861434,0.9857891576323699,0.9964559878232253,0.9835933413891006,0.9880966817006661,1.0126144882138233,1.0077408342497685,0.9908634511321376,1.0243437636935153,0.9996276597501254,0.9968606274258219,1.0059083173605259,1.0124732017165567,0.9878222096063646,0.9788574876452597,0.9718813772297082,0.984754510291224,0.9949151068493545,1.0060792305057775,0.9766740880759013,1.0081321292672425,1.0130541544451603,0.9697946429995413,0.9865713796978272,1.0044328871111667,0.9728973275666258,0.9711741695358829,1.0096987739154992,0.9881360246784684,0.9742206068801441,0.9907706117801262,0.9958612427114972,1.011689904315367,1.0055213595196895,1.0078980447216317,0.9825605868335084,1.001749328771101,0.9894578451734855,0.9917804757931756,1.0222790310819483,1.0162151246443267,1.0102097180801093,0.9558791239228591,0.9962021576274155,0.9728627806713971,0.9989365626978992,0.9934426270546786,1.0091546436663246,0.9931553382372861,0.9814311070959808,1.001021558575481,1.0136001827872894,0.9829878201586143,1.0057971543086468,0.9772504288095791,1.0101054897250394,1.0066729236744711,1.0181791925110124,1.0036022560290945,0.9910388192112973,1.009894889414214,1.0170564949743957,1.0235761863762742,0.98781953057484,1.0282663956228137,0.9907985991523167,0.9958560659318603,0.9912623775652654,0.9910368932979342,0.9946400975276254,1.0082249446764817,1.0194391542266166,1.0194747350814755,1.0385531928304994,1.0161629637662561,1.0215224579942774,1.002193935786301,0.9747725637900708,0.9863575632604751,0.9694064612056744,0.9749351485175707,0.9628920896448534,0.9897031894331814,1.0093913247108373,1.0219932533516596,0.9855510818429637,1.0098223262852384,1.0045669118119398,1.0104848129985973,1.0204814276643563,0.9993991452109028,0.9839271204667551,1.0221859012435688,1.0418613288451601,0.9968570482026363,1.0031464993654486,0.9710700885297919,0.9890401382381039,1.0105082593203751,0.9913032864535157,0.9942888815425632,1.0194958818262392,1.0377079225767922,1.0164329361412883,0.9684708287786851,1.0167181529941418,0.9819311070656241,0.9967184405222246,0.9900152451229781,0.9542423841792886,0.9899294747782574,1.0427131014532942,0.9810950874866925,0.9999477034095283,0.9919490488926686,1.0213290713080634,1.0104842515868944,1.039701325313948,1.018526332682785,1.012092215715356,1.0082919482774582,1.0028381538069908,1.0023297908519326,1.0123758904917852,1.003450387972656,1.0068743072705346,0.9980553555301349,1.0189619026063332,1.0260851301580656,0.9974058486662535,1.0042705074104956,1.008947163068914,0.9991473071132111,0.9946407229236542,0.9917555801203228,0.999838051233329,1.0131896579936814,1.009549511839853,0.9967090370395921,1.024633197450843,1.0119410382313179,0.967047583508245,0.9921126491034279,0.9953532700163529,0.9606172494282392,1.0305366206600504,1.011297392138225,1.0069999443859285,1.0185432317076866,1.004267895646741,1.0068268680863324,0.9975242175670158,1.0115342446132058,0.9887100352888536,1.041560493185059,0.9852962578911499,1.0059725036649787,1.0175927763900092,0.994663525045303],\"type\":\"histogram\"}],                        {\"template\":{\"data\":{\"histogram2dcontour\":[{\"type\":\"histogram2dcontour\",\"colorbar\":{\"outlinewidth\":0,\"ticks\":\"\"},\"colorscale\":[[0.0,\"#0d0887\"],[0.1111111111111111,\"#46039f\"],[0.2222222222222222,\"#7201a8\"],[0.3333333333333333,\"#9c179e\"],[0.4444444444444444,\"#bd3786\"],[0.5555555555555556,\"#d8576b\"],[0.6666666666666666,\"#ed7953\"],[0.7777777777777778,\"#fb9f3a\"],[0.8888888888888888,\"#fdca26\"],[1.0,\"#f0f921\"]]}],\"choropleth\":[{\"type\":\"choropleth\",\"colorbar\":{\"outlinewidth\":0,\"ticks\":\"\"}}],\"histogram2d\":[{\"type\":\"histogram2d\",\"colorbar\":{\"outlinewidth\":0,\"ticks\":\"\"},\"colorscale\":[[0.0,\"#0d0887\"],[0.1111111111111111,\"#46039f\"],[0.2222222222222222,\"#7201a8\"],[0.3333333333333333,\"#9c179e\"],[0.4444444444444444,\"#bd3786\"],[0.5555555555555556,\"#d8576b\"],[0.6666666666666666,\"#ed7953\"],[0.7777777777777778,\"#fb9f3a\"],[0.8888888888888888,\"#fdca26\"],[1.0,\"#f0f921\"]]}],\"heatmap\":[{\"type\":\"heatmap\",\"colorbar\":{\"outlinewidth\":0,\"ticks\":\"\"},\"colorscale\":[[0.0,\"#0d0887\"],[0.1111111111111111,\"#46039f\"],[0.2222222222222222,\"#7201a8\"],[0.3333333333333333,\"#9c179e\"],[0.4444444444444444,\"#bd3786\"],[0.5555555555555556,\"#d8576b\"],[0.6666666666666666,\"#ed7953\"],[0.7777777777777778,\"#fb9f3a\"],[0.8888888888888888,\"#fdca26\"],[1.0,\"#f0f921\"]]}],\"heatmapgl\":[{\"type\":\"heatmapgl\",\"colorbar\":{\"outlinewidth\":0,\"ticks\":\"\"},\"colorscale\":[[0.0,\"#0d0887\"],[0.1111111111111111,\"#46039f\"],[0.2222222222222222,\"#7201a8\"],[0.3333333333333333,\"#9c179e\"],[0.4444444444444444,\"#bd3786\"],[0.5555555555555556,\"#d8576b\"],[0.6666666666666666,\"#ed7953\"],[0.7777777777777778,\"#fb9f3a\"],[0.8888888888888888,\"#fdca26\"],[1.0,\"#f0f921\"]]}],\"contourcarpet\":[{\"type\":\"contourcarpet\",\"colorbar\":{\"outlinewidth\":0,\"ticks\":\"\"}}],\"contour\":[{\"type\":\"contour\",\"colorbar\":{\"outlinewidth\":0,\"ticks\":\"\"},\"colorscale\":[[0.0,\"#0d0887\"],[0.1111111111111111,\"#46039f\"],[0.2222222222222222,\"#7201a8\"],[0.3333333333333333,\"#9c179e\"],[0.4444444444444444,\"#bd3786\"],[0.5555555555555556,\"#d8576b\"],[0.6666666666666666,\"#ed7953\"],[0.7777777777777778,\"#fb9f3a\"],[0.8888888888888888,\"#fdca26\"],[1.0,\"#f0f921\"]]}],\"surface\":[{\"type\":\"surface\",\"colorbar\":{\"outlinewidth\":0,\"ticks\":\"\"},\"colorscale\":[[0.0,\"#0d0887\"],[0.1111111111111111,\"#46039f\"],[0.2222222222222222,\"#7201a8\"],[0.3333333333333333,\"#9c179e\"],[0.4444444444444444,\"#bd3786\"],[0.5555555555555556,\"#d8576b\"],[0.6666666666666666,\"#ed7953\"],[0.7777777777777778,\"#fb9f3a\"],[0.8888888888888888,\"#fdca26\"],[1.0,\"#f0f921\"]]}],\"mesh3d\":[{\"type\":\"mesh3d\",\"colorbar\":{\"outlinewidth\":0,\"ticks\":\"\"}}],\"scatter\":[{\"fillpattern\":{\"fillmode\":\"overlay\",\"size\":10,\"solidity\":0.2},\"type\":\"scatter\"}],\"parcoords\":[{\"type\":\"parcoords\",\"line\":{\"colorbar\":{\"outlinewidth\":0,\"ticks\":\"\"}}}],\"scatterpolargl\":[{\"type\":\"scatterpolargl\",\"marker\":{\"colorbar\":{\"outlinewidth\":0,\"ticks\":\"\"}}}],\"bar\":[{\"error_x\":{\"color\":\"#2a3f5f\"},\"error_y\":{\"color\":\"#2a3f5f\"},\"marker\":{\"line\":{\"color\":\"#E5ECF6\",\"width\":0.5},\"pattern\":{\"fillmode\":\"overlay\",\"size\":10,\"solidity\":0.2}},\"type\":\"bar\"}],\"scattergeo\":[{\"type\":\"scattergeo\",\"marker\":{\"colorbar\":{\"outlinewidth\":0,\"ticks\":\"\"}}}],\"scatterpolar\":[{\"type\":\"scatterpolar\",\"marker\":{\"colorbar\":{\"outlinewidth\":0,\"ticks\":\"\"}}}],\"histogram\":[{\"marker\":{\"pattern\":{\"fillmode\":\"overlay\",\"size\":10,\"solidity\":0.2}},\"type\":\"histogram\"}],\"scattergl\":[{\"type\":\"scattergl\",\"marker\":{\"colorbar\":{\"outlinewidth\":0,\"ticks\":\"\"}}}],\"scatter3d\":[{\"type\":\"scatter3d\",\"line\":{\"colorbar\":{\"outlinewidth\":0,\"ticks\":\"\"}},\"marker\":{\"colorbar\":{\"outlinewidth\":0,\"ticks\":\"\"}}}],\"scattermapbox\":[{\"type\":\"scattermapbox\",\"marker\":{\"colorbar\":{\"outlinewidth\":0,\"ticks\":\"\"}}}],\"scatterternary\":[{\"type\":\"scatterternary\",\"marker\":{\"colorbar\":{\"outlinewidth\":0,\"ticks\":\"\"}}}],\"scattercarpet\":[{\"type\":\"scattercarpet\",\"marker\":{\"colorbar\":{\"outlinewidth\":0,\"ticks\":\"\"}}}],\"carpet\":[{\"aaxis\":{\"endlinecolor\":\"#2a3f5f\",\"gridcolor\":\"white\",\"linecolor\":\"white\",\"minorgridcolor\":\"white\",\"startlinecolor\":\"#2a3f5f\"},\"baxis\":{\"endlinecolor\":\"#2a3f5f\",\"gridcolor\":\"white\",\"linecolor\":\"white\",\"minorgridcolor\":\"white\",\"startlinecolor\":\"#2a3f5f\"},\"type\":\"carpet\"}],\"table\":[{\"cells\":{\"fill\":{\"color\":\"#EBF0F8\"},\"line\":{\"color\":\"white\"}},\"header\":{\"fill\":{\"color\":\"#C8D4E3\"},\"line\":{\"color\":\"white\"}},\"type\":\"table\"}],\"barpolar\":[{\"marker\":{\"line\":{\"color\":\"#E5ECF6\",\"width\":0.5},\"pattern\":{\"fillmode\":\"overlay\",\"size\":10,\"solidity\":0.2}},\"type\":\"barpolar\"}],\"pie\":[{\"automargin\":true,\"type\":\"pie\"}]},\"layout\":{\"autotypenumbers\":\"strict\",\"colorway\":[\"#636efa\",\"#EF553B\",\"#00cc96\",\"#ab63fa\",\"#FFA15A\",\"#19d3f3\",\"#FF6692\",\"#B6E880\",\"#FF97FF\",\"#FECB52\"],\"font\":{\"color\":\"#2a3f5f\"},\"hovermode\":\"closest\",\"hoverlabel\":{\"align\":\"left\"},\"paper_bgcolor\":\"white\",\"plot_bgcolor\":\"#E5ECF6\",\"polar\":{\"bgcolor\":\"#E5ECF6\",\"angularaxis\":{\"gridcolor\":\"white\",\"linecolor\":\"white\",\"ticks\":\"\"},\"radialaxis\":{\"gridcolor\":\"white\",\"linecolor\":\"white\",\"ticks\":\"\"}},\"ternary\":{\"bgcolor\":\"#E5ECF6\",\"aaxis\":{\"gridcolor\":\"white\",\"linecolor\":\"white\",\"ticks\":\"\"},\"baxis\":{\"gridcolor\":\"white\",\"linecolor\":\"white\",\"ticks\":\"\"},\"caxis\":{\"gridcolor\":\"white\",\"linecolor\":\"white\",\"ticks\":\"\"}},\"coloraxis\":{\"colorbar\":{\"outlinewidth\":0,\"ticks\":\"\"}},\"colorscale\":{\"sequential\":[[0.0,\"#0d0887\"],[0.1111111111111111,\"#46039f\"],[0.2222222222222222,\"#7201a8\"],[0.3333333333333333,\"#9c179e\"],[0.4444444444444444,\"#bd3786\"],[0.5555555555555556,\"#d8576b\"],[0.6666666666666666,\"#ed7953\"],[0.7777777777777778,\"#fb9f3a\"],[0.8888888888888888,\"#fdca26\"],[1.0,\"#f0f921\"]],\"sequentialminus\":[[0.0,\"#0d0887\"],[0.1111111111111111,\"#46039f\"],[0.2222222222222222,\"#7201a8\"],[0.3333333333333333,\"#9c179e\"],[0.4444444444444444,\"#bd3786\"],[0.5555555555555556,\"#d8576b\"],[0.6666666666666666,\"#ed7953\"],[0.7777777777777778,\"#fb9f3a\"],[0.8888888888888888,\"#fdca26\"],[1.0,\"#f0f921\"]],\"diverging\":[[0,\"#8e0152\"],[0.1,\"#c51b7d\"],[0.2,\"#de77ae\"],[0.3,\"#f1b6da\"],[0.4,\"#fde0ef\"],[0.5,\"#f7f7f7\"],[0.6,\"#e6f5d0\"],[0.7,\"#b8e186\"],[0.8,\"#7fbc41\"],[0.9,\"#4d9221\"],[1,\"#276419\"]]},\"xaxis\":{\"gridcolor\":\"white\",\"linecolor\":\"white\",\"ticks\":\"\",\"title\":{\"standoff\":15},\"zerolinecolor\":\"white\",\"automargin\":true,\"zerolinewidth\":2},\"yaxis\":{\"gridcolor\":\"white\",\"linecolor\":\"white\",\"ticks\":\"\",\"title\":{\"standoff\":15},\"zerolinecolor\":\"white\",\"automargin\":true,\"zerolinewidth\":2},\"scene\":{\"xaxis\":{\"backgroundcolor\":\"#E5ECF6\",\"gridcolor\":\"white\",\"linecolor\":\"white\",\"showbackground\":true,\"ticks\":\"\",\"zerolinecolor\":\"white\",\"gridwidth\":2},\"yaxis\":{\"backgroundcolor\":\"#E5ECF6\",\"gridcolor\":\"white\",\"linecolor\":\"white\",\"showbackground\":true,\"ticks\":\"\",\"zerolinecolor\":\"white\",\"gridwidth\":2},\"zaxis\":{\"backgroundcolor\":\"#E5ECF6\",\"gridcolor\":\"white\",\"linecolor\":\"white\",\"showbackground\":true,\"ticks\":\"\",\"zerolinecolor\":\"white\",\"gridwidth\":2}},\"shapedefaults\":{\"line\":{\"color\":\"#2a3f5f\"}},\"annotationdefaults\":{\"arrowcolor\":\"#2a3f5f\",\"arrowhead\":0,\"arrowwidth\":1},\"geo\":{\"bgcolor\":\"white\",\"landcolor\":\"#E5ECF6\",\"subunitcolor\":\"white\",\"showland\":true,\"showlakes\":true,\"lakecolor\":\"white\"},\"title\":{\"x\":0.05},\"mapbox\":{\"style\":\"light\"}}},\"shapes\":[{\"type\":\"line\",\"x0\":1.0,\"x1\":1.0,\"xref\":\"x\",\"y0\":0,\"y1\":1,\"yref\":\"y domain\"}]},                        {\"responsive\": true}                    ).then(function(){\n",
       "                            \n",
       "var gd = document.getElementById('15e549b9-3864-4549-84e6-58465406e112');\n",
       "var x = new MutationObserver(function (mutations, observer) {{\n",
       "        var display = window.getComputedStyle(gd).display;\n",
       "        if (!display || display === 'none') {{\n",
       "            console.log([gd, 'removed!']);\n",
       "            Plotly.purge(gd);\n",
       "            observer.disconnect();\n",
       "        }}\n",
       "}});\n",
       "\n",
       "// Listen for the removal of the full notebook cells\n",
       "var notebookContainer = gd.closest('#notebook-container');\n",
       "if (notebookContainer) {{\n",
       "    x.observe(notebookContainer, {childList: true});\n",
       "}}\n",
       "\n",
       "// Listen for the clearing of the current output cell\n",
       "var outputEl = gd.closest('.output');\n",
       "if (outputEl) {{\n",
       "    x.observe(outputEl, {childList: true});\n",
       "}}\n",
       "\n",
       "                        })                };                            </script>        </div>\n",
       "</body>\n",
       "</html>"
      ]
     },
     "metadata": {},
     "output_type": "display_data"
    }
   ],
   "source": [
    "# if we graph them on each other we get\n",
    "\n",
    "import plotly.graph_objects as go\n",
    "\n",
    "fig = go.Figure()\n",
    "fig.add_trace(go.Histogram(x=my_theoretical_population_sample_means, histnorm='probability density', nbinsx=20))\n",
    "fig.add_vline(x= my_theoretical_population.mean())\n",
    "\n",
    "fig.show()"
   ]
  },
  {
   "cell_type": "markdown",
   "id": "MwucmVXNn0pt",
   "metadata": {
    "id": "MwucmVXNn0pt"
   },
   "source": [
    "We can not reject the null hypothesis as the distribution is symetric around 1"
   ]
  },
  {
   "cell_type": "markdown",
   "id": "ee172e5e5a9aab76",
   "metadata": {
    "id": "ee172e5e5a9aab76"
   },
   "source": [
    "## Now lets apply this to the data\n",
    "\n",
    "#### The peace of code you just wrote is called bootstrapping.\n",
    "\n",
    "Bootstrapping calculates a statistic for us and to make sure we will have this for the true population we generate random samples and then we calculate this statistic. If we do this enough times, then we will get closer to the true population."
   ]
  },
  {
   "cell_type": "code",
   "execution_count": 7,
   "id": "b261e32d2a389abf",
   "metadata": {
    "ExecuteTime": {
     "end_time": "2024-05-15T20:47:17.710166Z",
     "start_time": "2024-05-15T20:47:17.687959Z"
    },
    "id": "b261e32d2a389abf"
   },
   "outputs": [],
   "source": [
    "# Bootstrapped Sampling from the sample\n",
    "\n",
    "# how many times we want to do this\n",
    "reps = 1000\n",
    "\n",
    "# what is our sample size\n",
    "sample_size = 342\n",
    "\n",
    "# make an array to save the values\n",
    "my_bootstrapped_population_sample_means = np.zeros(reps)\n",
    "\n",
    "# make a random seed\n",
    "np.random.seed(130)\n",
    "\n",
    "# loop through in that many times\n",
    "for i in range(reps):\n",
    "\n",
    "    # take a sample from the population\n",
    "    my_bootstrapped_sample = np.random.choice(penguins_noNaN.body_mass_g, size=sample_size, replace=True)\n",
    "\n",
    "    # calculate the mean and add it to the array\n",
    "    my_bootstrapped_population_sample_means[i] = my_bootstrapped_sample.mean()"
   ]
  },
  {
   "cell_type": "code",
   "execution_count": 8,
   "id": "34e489ee162ff81f",
   "metadata": {
    "ExecuteTime": {
     "end_time": "2024-05-15T20:47:19.211589Z",
     "start_time": "2024-05-15T20:47:19.178315Z"
    },
    "colab": {
     "base_uri": "https://localhost:8080/",
     "height": 563
    },
    "id": "34e489ee162ff81f",
    "outputId": "ade20559-49fb-4721-d4cb-2f6c26792b46"
   },
   "outputs": [
    {
     "data": {
      "text/html": [
       "<html>\n",
       "<head><meta charset=\"utf-8\" /></head>\n",
       "<body>\n",
       "    <div>            <script src=\"https://cdnjs.cloudflare.com/ajax/libs/mathjax/2.7.5/MathJax.js?config=TeX-AMS-MML_SVG\"></script><script type=\"text/javascript\">if (window.MathJax && window.MathJax.Hub && window.MathJax.Hub.Config) {window.MathJax.Hub.Config({SVG: {font: \"STIX-Web\"}});}</script>                <script type=\"text/javascript\">window.PlotlyConfig = {MathJaxConfig: 'local'};</script>\n",
       "        <script charset=\"utf-8\" src=\"https://cdn.plot.ly/plotly-2.24.1.min.js\"></script>                <div id=\"f902fd0e-4fba-482a-9f27-f07d60824353\" class=\"plotly-graph-div\" style=\"height:525px; width:100%;\"></div>            <script type=\"text/javascript\">                                    window.PLOTLYENV=window.PLOTLYENV || {};                                    if (document.getElementById(\"f902fd0e-4fba-482a-9f27-f07d60824353\")) {                    Plotly.newPlot(                        \"f902fd0e-4fba-482a-9f27-f07d60824353\",                        [{\"histnorm\":\"probability density\",\"nbinsx\":20,\"x\":[4225.950292397661,4218.494152046784,4271.856725146199,4274.122807017544,4234.283625730995,4229.897660818713,4145.4678362573095,4197.80701754386,4178.801169590643,4222.733918128655,4202.046783625731,4169.736842105263,4187.4269005847955,4206.505847953216,4181.213450292397,4181.213450292397,4209.868421052632,4166.081871345029,4212.938596491228,4181.067251461988,4248.464912280701,4259.941520467836,4192.690058479532,4238.1578947368425,4222.002923976608,4188.377192982456,4141.8859649122805,4169.005847953216,4191.301169590643,4212.2807017543855,4248.099415204679,4202.777777777777,4228.6549707602335,4182.236842105263,4142.763157894737,4233.040935672515,4202.850877192983,4153.6549707602335,4253.728070175439,4156.652046783625,4258.479532163743,4194.663742690059,4180.116959064328,4242.1783625731,4125.438596491228,4152.850877192983,4233.187134502924,4206.725146198831,4155.701754385965,4247.295321637427,4144.883040935672,4281.652046783625,4185.087719298245,4179.5321637426905,4238.084795321637,4251.315789473684,4219.517543859649,4254.2397660818715,4234.722222222223,4187.353801169591,4224.853801169591,4144.078947368421,4261.8421052631575,4174.269005847953,4127.19298245614,4063.157894736842,4223.026315789473,4188.888888888889,4231.944444444444,4237.1345029239765,4224.7807017543855,4185.526315789473,4210.014619883041,4250.292397660819,4171.3450292397665,4183.625730994152,4260.087719298245,4183.333333333333,4256.578947368421,4225.950292397661,4145.248538011696,4204.3859649122805,4254.6783625731,4171.856725146199,4269.005847953216,4260.891812865497,4210.160818713451,4184.06432748538,4180.555555555556,4187.7192982456145,4162.353801169591,4231.87134502924,4260.087719298245,4253.362573099415,4228.143274853801,4239.766081871345,4221.783625730995,4111.769005847953,4172.587719298245,4227.19298245614,4228.6549707602335,4209.356725146199,4169.590643274853,4103.874269005848,4168.786549707603,4193.274853801169,4135.526315789473,4226.388888888889,4179.020467836257,4226.608187134503,4247.368421052632,4245.833333333333,4184.429824561404,4225.146198830409,4184.649122807017,4167.470760233919,4219.225146198831,4181.432748538012,4256.87134502924,4209.795321637427,4244.152046783625,4183.918128654971,4202.266081871345,4183.479532163743,4165.862573099415,4251.973684210527,4199.269005847953,4178.874269005848,4266.081871345029,4230.921052631579,4244.37134502924,4245.3216374269,4236.403508771929,4201.608187134503,4126.315789473684,4249.415204678363,4199.488304093567,4107.8216374269,4147.295321637427,4230.043859649123,4202.923976608187,4227.850877192983,4219.517543859649,4211.403508771929,4257.9678362573095,4175.146198830409,4198.318713450292,4270.9064327485385,4163.230994152047,4118.494152046784,4196.856725146199,4221.929824561404,4117.251461988304,4146.125730994152,4225.438596491228,4169.663742690059,4200.950292397661,4170.029239766081,4196.710526315789,4295.540935672515,4196.783625730995,4144.663742690059,4245.394736842105,4187.5,4224.122807017544,4170.175438596491,4175.438596491228,4225.511695906433,4225.3654970760235,4202.850877192983,4178.6549707602335,4152.850877192983,4195.833333333333,4232.456140350877,4241.1549707602335,4238.377192982456,4084.941520467836,4195.248538011696,4168.12865497076,4190.277777777777,4238.230994152047,4217.1783625731,4232.090643274853,4247.441520467836,4148.172514619883,4179.6783625731,4328.874269005848,4186.038011695907,4166.7397660818715,4152.850877192983,4141.374269005848,4135.014619883041,4225.730994152047,4225.146198830409,4242.251461988304,4218.12865497076,4177.997076023392,4182.9678362573095,4163.596491228071,4193.640350877193,4208.040935672515,4155.847953216375,4157.456140350877,4193.421052631579,4150.438596491228,4255.701754385965,4284.210526315789,4203.289473684211,4243.055555555556,4194.444444444444,4171.929824561404,4157.309941520468,4266.4473684210525,4176.608187134503,4258.5526315789475,4193.421052631579,4265.497076023392,4242.397660818713,4185.526315789473,4309.868421052632,4210.818713450292,4218.640350877193,4256.652046783625,4229.459064327485,4286.988304093567,4265.497076023392,4166.4473684210525,4199.561403508772,4170.175438596491,4221.418128654971,4228.581871345029,4269.883040935672,4125.584795321637,4182.309941520468,4223.391812865497,4262.792397660819,4160.087719298245,4197.076023391813,4078.2894736842104,4198.026315789473,4202.777777777777,4182.383040935672,4189.473684210527,4154.751461988304,4164.108187134503,4182.529239766081,4144.809941520468,4206.944444444444,4249.269005847953,4183.5526315789475,4170.540935672515,4215.789473684211,4259.137426900585,4189.985380116959,4139.400584795321,4172.80701754386,4249.488304093567,4198.464912280701,4197.880116959064,4277.631578947368,4233.625730994152,4177.558479532164,4239.912280701755,4124.9269005847955,4233.991228070176,4195.540935672515,4217.105263157895,4125.804093567252,4243.421052631579,4277.997076023392,4187.7192982456145,4180.263157894737,4210.453216374269,4207.8216374269,4201.24269005848,4112.5730994152045,4188.084795321637,4223.245614035088,4269.590643274853,4178.9473684210525,4209.429824561404,4252.119883040936,4182.090643274853,4139.619883040936,4204.459064327485,4184.283625730995,4222.514619883041,4201.169590643275,4245.540935672515,4190.131578947368,4183.771929824561,4250.950292397661,4194.005847953216,4227.558479532164,4267.0321637426905,4219.005847953216,4158.4064327485385,4145.687134502924,4174.561403508772,4191.228070175439,4192.1783625731,4220.3216374269,4206.578947368421,4268.421052631579,4185.233918128655,4198.75730994152,4144.298245614035,4205.336257309941,4259.210526315789,4185.599415204679,4206.87134502924,4121.125730994152,4201.169590643275,4078.8011695906434,4150.584795321637,4222.295321637427,4200.0,4156.359649122807,4188.669590643275,4249.269005847953,4192.470760233919,4161.622807017544,4210.818713450292,4182.456140350877,4186.111111111111,4221.418128654971,4160.964912280701,4120.102339181287,4197.587719298245,4111.111111111111,4169.078947368421,4104.459064327485,4274.853801169591,4127.558479532164,4167.324561403509,4210.526315789473,4268.640350877193,4221.418128654971,4200.438596491228,4206.140350877193,4216.5935672514615,4195.102339181287,4175.511695906433,4192.616959064328,4154.2397660818715,4192.763157894737,4164.473684210527,4174.122807017544,4210.891812865497,4236.915204678363,4231.286549707603,4120.3216374269,4288.450292397661,4202.266081871345,4125.0,4113.377192982456,4226.315789473684,4203.070175438596,4207.163742690059,4115.93567251462,4158.8450292397665,4266.081871345029,4223.245614035088,4166.374269005848,4185.964912280701,4179.5321637426905,4179.897660818713,4200.6578947368425,4178.6549707602335,4157.602339181287,4200.438596491228,4191.081871345029,4153.581871345029,4133.625730994152,4208.991228070176,4232.602339181287,4189.254385964912,4186.769005847953,4184.795321637427,4184.795321637427,4235.891812865497,4189.327485380117,4201.315789473684,4181.432748538012,4189.839181286549,4207.675438596491,4217.0321637426905,4186.549707602339,4198.464912280701,4183.918128654971,4185.087719298245,4198.538011695907,4183.2602339181285,4168.055555555556,4300.0,4188.304093567252,4157.090643274853,4264.254385964912,4186.111111111111,4167.324561403509,4199.488304093567,4073.3187134502923,4180.336257309941,4194.078947368421,4189.108187134503,4136.403508771929,4269.883040935672,4205.482456140351,4200.2192982456145,4190.131578947368,4287.8654970760235,4274.3421052631575,4151.900584795321,4158.479532163743,4280.921052631579,4177.046783625731,4199.488304093567,4267.616959064328,4121.856725146199,4182.090643274853,4193.12865497076,4157.675438596491,4211.8421052631575,4160.233918128655,4165.058479532164,4148.976608187135,4219.078947368421,4082.6754385964914,4202.631578947368,4171.929824561404,4135.964912280701,4199.049707602339,4141.4473684210525,4175.438596491228,4220.687134502924,4152.412280701755,4156.213450292397,4198.318713450292,4170.175438596491,4140.716374269005,4175.511695906433,4178.43567251462,4193.640350877193,4195.175438596491,4242.251461988304,4191.520467836257,4194.590643274853,4174.415204678363,4195.102339181287,4168.12865497076,4216.5935672514615,4211.988304093567,4210.014619883041,4270.979532163743,4145.6140350877195,4257.675438596491,4222.295321637427,4186.25730994152,4137.8654970760235,4304.751461988304,4193.055555555556,4255.263157894737,4215.643274853801,4136.988304093567,4236.038011695907,4246.710526315789,4261.038011695907,4241.1549707602335,4150.3654970760235,4173.172514619883,4305.116959064328,4264.766081871345,4281.140350877193,4154.166666666667,4168.12865497076,4210.526315789473,4209.283625730995,4157.383040935672,4203.070175438596,4239.985380116959,4193.567251461988,4208.040935672515,4277.339181286549,4214.035087719299,4193.055555555556,4155.701754385965,4228.581871345029,4293.567251461988,4191.008771929824,4148.245614035088,4254.897660818713,4226.827485380117,4180.701754385965,4275.0730994152045,4182.602339181287,4250.292397660819,4148.611111111111,4282.675438596491,4172.441520467836,4175.292397660819,4292.616959064328,4207.8216374269,4244.444444444444,4264.473684210527,4325.584795321637,4235.745614035088,4174.3421052631575,4204.459064327485,4205.116959064328,4248.464912280701,4178.728070175439,4226.754385964912,4214.985380116959,4218.201754385965,4289.254385964912,4152.850877192983,4247.002923976608,4121.418128654971,4227.850877192983,4154.5321637426905,4189.400584795321,4156.578947368421,4204.751461988304,4138.669590643275,4229.605263157895,4272.368421052632,4266.374269005848,4234.210526315789,4296.710526315789,4244.517543859649,4227.558479532164,4241.008771929824,4209.722222222223,4196.637426900585,4129.166666666667,4217.397660818713,4236.549707602339,4289.400584795321,4232.675438596491,4164.400584795321,4270.102339181287,4160.453216374269,4176.681286549708,4185.233918128655,4158.625730994152,4133.1140350877195,4217.470760233919,4261.184210526316,4141.7397660818715,4217.324561403509,4229.166666666667,4177.850877192983,4168.201754385965,4296.856725146199,4183.479532163743,4223.391812865497,4195.6140350877195,4268.859649122807,4204.3859649122805,4206.798245614035,4142.543859649123,4177.339181286549,4229.3859649122805,4162.5,4231.505847953216,4159.06432748538,4301.535087719299,4147.149122807017,4190.570175438596,4197.514619883041,4142.0321637426905,4137.061403508772,4290.204678362573,4133.2602339181285,4144.956140350877,4259.502923976608,4245.540935672515,4155.263157894737,4242.324561403509,4252.046783625731,4172.002923976608,4249.561403508772,4315.716374269005,4238.450292397661,4196.491228070176,4135.891812865497,4164.69298245614,4226.023391812865,4226.535087719299,4243.494152046784,4221.710526315789,4186.915204678363,4228.143274853801,4229.970760233919,4196.856725146199,4267.397660818713,4211.25730994152,4254.166666666667,4224.707602339181,4191.959064327485,4178.289473684211,4202.850877192983,4195.3216374269,4199.7807017543855,4136.25730994152,4251.827485380117,4233.698830409357,4201.827485380117,4167.251461988304,4201.461988304093,4173.172514619883,4199.415204678363,4143.932748538012,4191.5935672514615,4133.5526315789475,4198.538011695907,4116.301169590643,4164.400584795321,4159.722222222223,4192.324561403509,4118.347953216375,4151.900584795321,4173.830409356725,4157.748538011696,4282.163742690059,4230.263157894737,4126.681286549708,4290.423976608187,4148.538011695907,4132.309941520468,4180.921052631579,4191.5935672514615,4206.798245614035,4198.976608187135,4187.7192982456145,4189.985380116959,4204.312865497076,4228.6549707602335,4243.932748538012,4247.295321637427,4218.713450292397,4217.616959064328,4244.663742690059,4233.479532163743,4164.912280701755,4188.596491228071,4164.473684210527,4184.576023391813,4257.309941520468,4246.56432748538,4148.172514619883,4132.529239766081,4177.631578947368,4231.213450292397,4283.771929824561,4165.716374269005,4289.254385964912,4243.713450292397,4241.228070175439,4160.380116959064,4208.625730994152,4198.245614035088,4190.570175438596,4234.941520467836,4173.903508771929,4256.505847953216,4233.5526315789475,4210.453216374269,4306.652046783625,4173.538011695907,4213.888888888889,4188.304093567252,4145.102339181287,4208.625730994152,4245.9064327485385,4231.505847953216,4184.722222222223,4194.005847953216,4209.356725146199,4179.970760233919,4202.412280701755,4228.43567251462,4258.4064327485385,4282.748538011696,4199.707602339181,4175.2192982456145,4262.938596491228,4186.8421052631575,4208.5526315789475,4278.43567251462,4250.950292397661,4212.061403508772,4228.216374269005,4193.786549707603,4226.754385964912,4144.005847953216,4128.581871345029,4147.587719298245,4183.2602339181285,4201.608187134503,4164.912280701755,4177.485380116959,4247.733918128655,4203.070175438596,4228.9473684210525,4145.7602339181285,4233.1140350877195,4194.005847953216,4224.9269005847955,4191.7397660818715,4232.894736842105,4196.929824561404,4225.584795321637,4229.020467836257,4258.187134502924,4101.023391812865,4267.690058479532,4122.441520467836,4158.333333333333,4232.602339181287,4159.795321637427,4220.102339181287,4105.190058479532,4175.0730994152045,4235.891812865497,4262.938596491228,4146.271929824561,4228.070175438596,4203.070175438596,4190.93567251462,4194.517543859649,4158.2602339181285,4191.008771929824,4183.4064327485385,4184.356725146199,4204.2397660818715,4191.5935672514615,4201.388888888889,4273.538011695907,4198.172514619883,4259.941520467836,4288.74269005848,4209.795321637427,4282.894736842105,4198.538011695907,4281.505847953216,4204.751461988304,4153.143274853801,4226.900584795321,4280.043859649123,4275.292397660819,4143.786549707603,4143.347953216375,4173.538011695907,4172.880116959064,4184.941520467836,4236.8421052631575,4136.25730994152,4227.339181286549,4199.195906432748,4096.710526315789,4218.055555555556,4204.605263157895,4158.625730994152,4233.698830409357,4188.888888888889,4222.368421052632,4184.576023391813,4203.070175438596,4274.561403508772,4231.652046783625,4238.961988304093,4226.023391812865,4221.56432748538,4185.453216374269,4130.190058479532,4203.581871345029,4172.076023391813,4166.959064327485,4199.7807017543855,4209.283625730995,4217.909356725147,4168.713450292397,4159.722222222223,4146.783625730995,4172.368421052632,4241.008771929824,4217.836257309941,4226.096491228071,4169.663742690059,4213.669590643275,4137.5,4176.973684210527,4171.929824561404,4137.4269005847955,4135.160818713451,4157.017543859649,4236.915204678363,4199.488304093567,4231.798245614035,4172.149122807017,4187.5,4153.581871345029,4235.891812865497,4111.330409356725,4200.0,4110.087719298245,4215.423976608187,4127.923976608187,4210.526315789473,4172.002923976608,4210.380116959064,4203.362573099415,4196.125730994152,4242.982456140351,4181.578947368421,4217.470760233919,4213.74269005848,4193.567251461988,4164.546783625731,4171.783625730995,4232.236842105263,4137.5,4214.69298245614,4188.74269005848,4155.62865497076,4162.1345029239765,4112.8654970760235,4213.304093567252,4172.222222222223,4183.918128654971,4194.590643274853,4116.4473684210525,4207.748538011696,4124.6345029239765,4165.204678362573,4144.152046783625,4224.853801169591,4125.804093567252,4249.269005847953,4267.0321637426905,4167.690058479532,4193.347953216375,4248.245614035088,4166.1549707602335,4238.450292397661,4189.912280701755,4181.505847953216,4218.421052631579,4129.020467836257,4215.716374269005,4202.19298245614,4214.546783625731,4222.514619883041,4208.8450292397665,4192.105263157895,4189.181286549708,4233.040935672515,4222.80701754386,4172.587719298245,4072.3684210526317,4222.368421052632,4163.669590643275,4137.5730994152045,4245.833333333333,4223.099415204679,4221.56432748538,4199.415204678363,4212.792397660819,4213.815789473684,4245.4678362573095,4200.438596491228,4198.464912280701,4283.698830409357,4230.409356725147,4245.029239766081,4142.616959064328,4186.622807017544,4234.429824561404,4263.084795321637,4143.786549707603,4229.605263157895,4249.195906432748,4188.377192982456,4172.880116959064,4173.391812865497,4127.923976608187,4182.529239766081,4208.5526315789475,4254.897660818713,4138.011695906433,4154.605263157895,4249.122807017544,4130.994152046784,4240.789473684211,4272.660818713451,4211.038011695907,4170.833333333333,4162.061403508772,4164.254385964912,4148.172514619883,4274.122807017544,4214.035087719299,4278.070175438596,4127.704678362573,4227.19298245614,4200.438596491228,4189.546783625731,4084.3567251461986,4210.30701754386,4214.839181286549,4170.540935672515,4223.464912280701,4146.783625730995,4231.359649122807,4136.25730994152,4174.049707602339,4311.622807017544,4245.4678362573095,4207.090643274853,4235.964912280701,4158.625730994152,4232.602339181287,4217.763157894737,4193.567251461988,4242.397660818713,4218.859649122807,4192.0321637426905,4190.131578947368,4266.959064327485,4185.233918128655,4233.040935672515,4139.473684210527,4157.529239766081,4183.1140350877195,4216.959064327485,4149.269005847953,4212.4269005847955,4222.587719298245,4155.043859649123,4170.3216374269,4224.415204678363,4190.058479532164,4119.005847953216,4216.301169590643,4142.982456140351,4202.412280701755,4138.596491228071,4258.333333333333,4216.5935672514615,4194.37134502924,4166.228070175439,4244.663742690059,4255.994152046784,4218.347953216375,4171.710526315789,4240.350877192983,4184.941520467836,4167.324561403509,4236.111111111111,4136.184210526316,4234.868421052632,4174.9269005847955,4221.56432748538,4226.973684210527,4228.508771929824,4199.9269005847955,4215.862573099415,4209.429824561404,4137.353801169591,4202.266081871345,4100.950292397661,4156.067251461988,4164.035087719299,4222.295321637427,4165.350877192983,4198.684210526316,4206.725146198831,4193.274853801169,4191.959064327485,4198.099415204679,4255.555555555556,4142.397660818713,4310.745614035088,4262.5730994152045,4236.038011695907,4224.561403508772,4190.93567251462,4246.125730994152,4255.043859649123,4175.2192982456145,4169.37134502924,4186.25730994152,4159.795321637427,4258.333333333333,4164.985380116959,4136.695906432748,4261.695906432748,4185.380116959064,4227.704678362573],\"type\":\"histogram\"}],                        {\"template\":{\"data\":{\"histogram2dcontour\":[{\"type\":\"histogram2dcontour\",\"colorbar\":{\"outlinewidth\":0,\"ticks\":\"\"},\"colorscale\":[[0.0,\"#0d0887\"],[0.1111111111111111,\"#46039f\"],[0.2222222222222222,\"#7201a8\"],[0.3333333333333333,\"#9c179e\"],[0.4444444444444444,\"#bd3786\"],[0.5555555555555556,\"#d8576b\"],[0.6666666666666666,\"#ed7953\"],[0.7777777777777778,\"#fb9f3a\"],[0.8888888888888888,\"#fdca26\"],[1.0,\"#f0f921\"]]}],\"choropleth\":[{\"type\":\"choropleth\",\"colorbar\":{\"outlinewidth\":0,\"ticks\":\"\"}}],\"histogram2d\":[{\"type\":\"histogram2d\",\"colorbar\":{\"outlinewidth\":0,\"ticks\":\"\"},\"colorscale\":[[0.0,\"#0d0887\"],[0.1111111111111111,\"#46039f\"],[0.2222222222222222,\"#7201a8\"],[0.3333333333333333,\"#9c179e\"],[0.4444444444444444,\"#bd3786\"],[0.5555555555555556,\"#d8576b\"],[0.6666666666666666,\"#ed7953\"],[0.7777777777777778,\"#fb9f3a\"],[0.8888888888888888,\"#fdca26\"],[1.0,\"#f0f921\"]]}],\"heatmap\":[{\"type\":\"heatmap\",\"colorbar\":{\"outlinewidth\":0,\"ticks\":\"\"},\"colorscale\":[[0.0,\"#0d0887\"],[0.1111111111111111,\"#46039f\"],[0.2222222222222222,\"#7201a8\"],[0.3333333333333333,\"#9c179e\"],[0.4444444444444444,\"#bd3786\"],[0.5555555555555556,\"#d8576b\"],[0.6666666666666666,\"#ed7953\"],[0.7777777777777778,\"#fb9f3a\"],[0.8888888888888888,\"#fdca26\"],[1.0,\"#f0f921\"]]}],\"heatmapgl\":[{\"type\":\"heatmapgl\",\"colorbar\":{\"outlinewidth\":0,\"ticks\":\"\"},\"colorscale\":[[0.0,\"#0d0887\"],[0.1111111111111111,\"#46039f\"],[0.2222222222222222,\"#7201a8\"],[0.3333333333333333,\"#9c179e\"],[0.4444444444444444,\"#bd3786\"],[0.5555555555555556,\"#d8576b\"],[0.6666666666666666,\"#ed7953\"],[0.7777777777777778,\"#fb9f3a\"],[0.8888888888888888,\"#fdca26\"],[1.0,\"#f0f921\"]]}],\"contourcarpet\":[{\"type\":\"contourcarpet\",\"colorbar\":{\"outlinewidth\":0,\"ticks\":\"\"}}],\"contour\":[{\"type\":\"contour\",\"colorbar\":{\"outlinewidth\":0,\"ticks\":\"\"},\"colorscale\":[[0.0,\"#0d0887\"],[0.1111111111111111,\"#46039f\"],[0.2222222222222222,\"#7201a8\"],[0.3333333333333333,\"#9c179e\"],[0.4444444444444444,\"#bd3786\"],[0.5555555555555556,\"#d8576b\"],[0.6666666666666666,\"#ed7953\"],[0.7777777777777778,\"#fb9f3a\"],[0.8888888888888888,\"#fdca26\"],[1.0,\"#f0f921\"]]}],\"surface\":[{\"type\":\"surface\",\"colorbar\":{\"outlinewidth\":0,\"ticks\":\"\"},\"colorscale\":[[0.0,\"#0d0887\"],[0.1111111111111111,\"#46039f\"],[0.2222222222222222,\"#7201a8\"],[0.3333333333333333,\"#9c179e\"],[0.4444444444444444,\"#bd3786\"],[0.5555555555555556,\"#d8576b\"],[0.6666666666666666,\"#ed7953\"],[0.7777777777777778,\"#fb9f3a\"],[0.8888888888888888,\"#fdca26\"],[1.0,\"#f0f921\"]]}],\"mesh3d\":[{\"type\":\"mesh3d\",\"colorbar\":{\"outlinewidth\":0,\"ticks\":\"\"}}],\"scatter\":[{\"fillpattern\":{\"fillmode\":\"overlay\",\"size\":10,\"solidity\":0.2},\"type\":\"scatter\"}],\"parcoords\":[{\"type\":\"parcoords\",\"line\":{\"colorbar\":{\"outlinewidth\":0,\"ticks\":\"\"}}}],\"scatterpolargl\":[{\"type\":\"scatterpolargl\",\"marker\":{\"colorbar\":{\"outlinewidth\":0,\"ticks\":\"\"}}}],\"bar\":[{\"error_x\":{\"color\":\"#2a3f5f\"},\"error_y\":{\"color\":\"#2a3f5f\"},\"marker\":{\"line\":{\"color\":\"#E5ECF6\",\"width\":0.5},\"pattern\":{\"fillmode\":\"overlay\",\"size\":10,\"solidity\":0.2}},\"type\":\"bar\"}],\"scattergeo\":[{\"type\":\"scattergeo\",\"marker\":{\"colorbar\":{\"outlinewidth\":0,\"ticks\":\"\"}}}],\"scatterpolar\":[{\"type\":\"scatterpolar\",\"marker\":{\"colorbar\":{\"outlinewidth\":0,\"ticks\":\"\"}}}],\"histogram\":[{\"marker\":{\"pattern\":{\"fillmode\":\"overlay\",\"size\":10,\"solidity\":0.2}},\"type\":\"histogram\"}],\"scattergl\":[{\"type\":\"scattergl\",\"marker\":{\"colorbar\":{\"outlinewidth\":0,\"ticks\":\"\"}}}],\"scatter3d\":[{\"type\":\"scatter3d\",\"line\":{\"colorbar\":{\"outlinewidth\":0,\"ticks\":\"\"}},\"marker\":{\"colorbar\":{\"outlinewidth\":0,\"ticks\":\"\"}}}],\"scattermapbox\":[{\"type\":\"scattermapbox\",\"marker\":{\"colorbar\":{\"outlinewidth\":0,\"ticks\":\"\"}}}],\"scatterternary\":[{\"type\":\"scatterternary\",\"marker\":{\"colorbar\":{\"outlinewidth\":0,\"ticks\":\"\"}}}],\"scattercarpet\":[{\"type\":\"scattercarpet\",\"marker\":{\"colorbar\":{\"outlinewidth\":0,\"ticks\":\"\"}}}],\"carpet\":[{\"aaxis\":{\"endlinecolor\":\"#2a3f5f\",\"gridcolor\":\"white\",\"linecolor\":\"white\",\"minorgridcolor\":\"white\",\"startlinecolor\":\"#2a3f5f\"},\"baxis\":{\"endlinecolor\":\"#2a3f5f\",\"gridcolor\":\"white\",\"linecolor\":\"white\",\"minorgridcolor\":\"white\",\"startlinecolor\":\"#2a3f5f\"},\"type\":\"carpet\"}],\"table\":[{\"cells\":{\"fill\":{\"color\":\"#EBF0F8\"},\"line\":{\"color\":\"white\"}},\"header\":{\"fill\":{\"color\":\"#C8D4E3\"},\"line\":{\"color\":\"white\"}},\"type\":\"table\"}],\"barpolar\":[{\"marker\":{\"line\":{\"color\":\"#E5ECF6\",\"width\":0.5},\"pattern\":{\"fillmode\":\"overlay\",\"size\":10,\"solidity\":0.2}},\"type\":\"barpolar\"}],\"pie\":[{\"automargin\":true,\"type\":\"pie\"}]},\"layout\":{\"autotypenumbers\":\"strict\",\"colorway\":[\"#636efa\",\"#EF553B\",\"#00cc96\",\"#ab63fa\",\"#FFA15A\",\"#19d3f3\",\"#FF6692\",\"#B6E880\",\"#FF97FF\",\"#FECB52\"],\"font\":{\"color\":\"#2a3f5f\"},\"hovermode\":\"closest\",\"hoverlabel\":{\"align\":\"left\"},\"paper_bgcolor\":\"white\",\"plot_bgcolor\":\"#E5ECF6\",\"polar\":{\"bgcolor\":\"#E5ECF6\",\"angularaxis\":{\"gridcolor\":\"white\",\"linecolor\":\"white\",\"ticks\":\"\"},\"radialaxis\":{\"gridcolor\":\"white\",\"linecolor\":\"white\",\"ticks\":\"\"}},\"ternary\":{\"bgcolor\":\"#E5ECF6\",\"aaxis\":{\"gridcolor\":\"white\",\"linecolor\":\"white\",\"ticks\":\"\"},\"baxis\":{\"gridcolor\":\"white\",\"linecolor\":\"white\",\"ticks\":\"\"},\"caxis\":{\"gridcolor\":\"white\",\"linecolor\":\"white\",\"ticks\":\"\"}},\"coloraxis\":{\"colorbar\":{\"outlinewidth\":0,\"ticks\":\"\"}},\"colorscale\":{\"sequential\":[[0.0,\"#0d0887\"],[0.1111111111111111,\"#46039f\"],[0.2222222222222222,\"#7201a8\"],[0.3333333333333333,\"#9c179e\"],[0.4444444444444444,\"#bd3786\"],[0.5555555555555556,\"#d8576b\"],[0.6666666666666666,\"#ed7953\"],[0.7777777777777778,\"#fb9f3a\"],[0.8888888888888888,\"#fdca26\"],[1.0,\"#f0f921\"]],\"sequentialminus\":[[0.0,\"#0d0887\"],[0.1111111111111111,\"#46039f\"],[0.2222222222222222,\"#7201a8\"],[0.3333333333333333,\"#9c179e\"],[0.4444444444444444,\"#bd3786\"],[0.5555555555555556,\"#d8576b\"],[0.6666666666666666,\"#ed7953\"],[0.7777777777777778,\"#fb9f3a\"],[0.8888888888888888,\"#fdca26\"],[1.0,\"#f0f921\"]],\"diverging\":[[0,\"#8e0152\"],[0.1,\"#c51b7d\"],[0.2,\"#de77ae\"],[0.3,\"#f1b6da\"],[0.4,\"#fde0ef\"],[0.5,\"#f7f7f7\"],[0.6,\"#e6f5d0\"],[0.7,\"#b8e186\"],[0.8,\"#7fbc41\"],[0.9,\"#4d9221\"],[1,\"#276419\"]]},\"xaxis\":{\"gridcolor\":\"white\",\"linecolor\":\"white\",\"ticks\":\"\",\"title\":{\"standoff\":15},\"zerolinecolor\":\"white\",\"automargin\":true,\"zerolinewidth\":2},\"yaxis\":{\"gridcolor\":\"white\",\"linecolor\":\"white\",\"ticks\":\"\",\"title\":{\"standoff\":15},\"zerolinecolor\":\"white\",\"automargin\":true,\"zerolinewidth\":2},\"scene\":{\"xaxis\":{\"backgroundcolor\":\"#E5ECF6\",\"gridcolor\":\"white\",\"linecolor\":\"white\",\"showbackground\":true,\"ticks\":\"\",\"zerolinecolor\":\"white\",\"gridwidth\":2},\"yaxis\":{\"backgroundcolor\":\"#E5ECF6\",\"gridcolor\":\"white\",\"linecolor\":\"white\",\"showbackground\":true,\"ticks\":\"\",\"zerolinecolor\":\"white\",\"gridwidth\":2},\"zaxis\":{\"backgroundcolor\":\"#E5ECF6\",\"gridcolor\":\"white\",\"linecolor\":\"white\",\"showbackground\":true,\"ticks\":\"\",\"zerolinecolor\":\"white\",\"gridwidth\":2}},\"shapedefaults\":{\"line\":{\"color\":\"#2a3f5f\"}},\"annotationdefaults\":{\"arrowcolor\":\"#2a3f5f\",\"arrowhead\":0,\"arrowwidth\":1},\"geo\":{\"bgcolor\":\"white\",\"landcolor\":\"#E5ECF6\",\"subunitcolor\":\"white\",\"showland\":true,\"showlakes\":true,\"lakecolor\":\"white\"},\"title\":{\"x\":0.05},\"mapbox\":{\"style\":\"light\"}}}},                        {\"responsive\": true}                    ).then(function(){\n",
       "                            \n",
       "var gd = document.getElementById('f902fd0e-4fba-482a-9f27-f07d60824353');\n",
       "var x = new MutationObserver(function (mutations, observer) {{\n",
       "        var display = window.getComputedStyle(gd).display;\n",
       "        if (!display || display === 'none') {{\n",
       "            console.log([gd, 'removed!']);\n",
       "            Plotly.purge(gd);\n",
       "            observer.disconnect();\n",
       "        }}\n",
       "}});\n",
       "\n",
       "// Listen for the removal of the full notebook cells\n",
       "var notebookContainer = gd.closest('#notebook-container');\n",
       "if (notebookContainer) {{\n",
       "    x.observe(notebookContainer, {childList: true});\n",
       "}}\n",
       "\n",
       "// Listen for the clearing of the current output cell\n",
       "var outputEl = gd.closest('.output');\n",
       "if (outputEl) {{\n",
       "    x.observe(outputEl, {childList: true});\n",
       "}}\n",
       "\n",
       "                        })                };                            </script>        </div>\n",
       "</body>\n",
       "</html>"
      ]
     },
     "metadata": {},
     "output_type": "display_data"
    }
   ],
   "source": [
    "fig = go.Figure()\n",
    "fig.add_trace(go.Histogram(x=my_bootstrapped_population_sample_means, histnorm='probability density', nbinsx=20))\n",
    "fig.show()"
   ]
  },
  {
   "cell_type": "markdown",
   "id": "rDvl57-jl9Sh",
   "metadata": {
    "id": "rDvl57-jl9Sh"
   },
   "source": [
    "Now lets make a null hypothesis:\n",
    "\n",
    "$H_0:$ The true mean is 4000 # Chosen randomly\n",
    "\n",
    "$H_1:$ The true mean is not 4000\n"
   ]
  },
  {
   "cell_type": "markdown",
   "id": "95dc1edf75a90556",
   "metadata": {
    "id": "95dc1edf75a90556"
   },
   "source": [
    "Now Since Bootstrapping works 95 percent fo the time, to make sure that we deal with his error, we gonna do a 95 percent confidence interval where we will select teh middle 95 percent fo the bootstrapped data"
   ]
  },
  {
   "cell_type": "code",
   "execution_count": 9,
   "id": "8c49b67fbf5f7b24",
   "metadata": {
    "ExecuteTime": {
     "end_time": "2024-05-12T04:22:31.677825Z",
     "start_time": "2024-05-12T04:22:31.409813Z"
    },
    "colab": {
     "base_uri": "https://localhost:8080/"
    },
    "id": "8c49b67fbf5f7b24",
    "outputId": "53a9d091-cf11-4ef3-a462-e85419e8c610"
   },
   "outputs": [
    {
     "data": {
      "text/plain": [
       "array([4117.23135965, 4284.27997076])"
      ]
     },
     "execution_count": 9,
     "metadata": {},
     "output_type": "execute_result"
    }
   ],
   "source": [
    "# 95 precent confidence interval\n",
    "data_quantile = np.quantile(my_bootstrapped_population_sample_means, [0.025,0.975 ]) # to get the mass\n",
    "data_quantile"
   ]
  },
  {
   "cell_type": "code",
   "execution_count": 17,
   "id": "EDC7jBDNbQvj",
   "metadata": {
    "colab": {
     "base_uri": "https://localhost:8080/",
     "height": 563
    },
    "id": "EDC7jBDNbQvj",
    "outputId": "4c1ee1f7-a423-43e6-bd5a-c2c85a4ed0f7"
   },
   "outputs": [
    {
     "data": {
      "text/html": [
       "<html>\n",
       "<head><meta charset=\"utf-8\" /></head>\n",
       "<body>\n",
       "    <div>            <script src=\"https://cdnjs.cloudflare.com/ajax/libs/mathjax/2.7.5/MathJax.js?config=TeX-AMS-MML_SVG\"></script><script type=\"text/javascript\">if (window.MathJax && window.MathJax.Hub && window.MathJax.Hub.Config) {window.MathJax.Hub.Config({SVG: {font: \"STIX-Web\"}});}</script>                <script type=\"text/javascript\">window.PlotlyConfig = {MathJaxConfig: 'local'};</script>\n",
       "        <script charset=\"utf-8\" src=\"https://cdn.plot.ly/plotly-2.24.1.min.js\"></script>                <div id=\"3c64791e-abdb-4aad-8329-1dbdd74933b0\" class=\"plotly-graph-div\" style=\"height:525px; width:100%;\"></div>            <script type=\"text/javascript\">                                    window.PLOTLYENV=window.PLOTLYENV || {};                                    if (document.getElementById(\"3c64791e-abdb-4aad-8329-1dbdd74933b0\")) {                    Plotly.newPlot(                        \"3c64791e-abdb-4aad-8329-1dbdd74933b0\",                        [{\"histnorm\":\"probability density\",\"nbinsx\":20,\"x\":[4225.950292397661,4218.494152046784,4271.856725146199,4274.122807017544,4234.283625730995,4229.897660818713,4145.4678362573095,4197.80701754386,4178.801169590643,4222.733918128655,4202.046783625731,4169.736842105263,4187.4269005847955,4206.505847953216,4181.213450292397,4181.213450292397,4209.868421052632,4166.081871345029,4212.938596491228,4181.067251461988,4248.464912280701,4259.941520467836,4192.690058479532,4238.1578947368425,4222.002923976608,4188.377192982456,4141.8859649122805,4169.005847953216,4191.301169590643,4212.2807017543855,4248.099415204679,4202.777777777777,4228.6549707602335,4182.236842105263,4142.763157894737,4233.040935672515,4202.850877192983,4153.6549707602335,4253.728070175439,4156.652046783625,4258.479532163743,4194.663742690059,4180.116959064328,4242.1783625731,4125.438596491228,4152.850877192983,4233.187134502924,4206.725146198831,4155.701754385965,4247.295321637427,4144.883040935672,4281.652046783625,4185.087719298245,4179.5321637426905,4238.084795321637,4251.315789473684,4219.517543859649,4254.2397660818715,4234.722222222223,4187.353801169591,4224.853801169591,4144.078947368421,4261.8421052631575,4174.269005847953,4127.19298245614,4063.157894736842,4223.026315789473,4188.888888888889,4231.944444444444,4237.1345029239765,4224.7807017543855,4185.526315789473,4210.014619883041,4250.292397660819,4171.3450292397665,4183.625730994152,4260.087719298245,4183.333333333333,4256.578947368421,4225.950292397661,4145.248538011696,4204.3859649122805,4254.6783625731,4171.856725146199,4269.005847953216,4260.891812865497,4210.160818713451,4184.06432748538,4180.555555555556,4187.7192982456145,4162.353801169591,4231.87134502924,4260.087719298245,4253.362573099415,4228.143274853801,4239.766081871345,4221.783625730995,4111.769005847953,4172.587719298245,4227.19298245614,4228.6549707602335,4209.356725146199,4169.590643274853,4103.874269005848,4168.786549707603,4193.274853801169,4135.526315789473,4226.388888888889,4179.020467836257,4226.608187134503,4247.368421052632,4245.833333333333,4184.429824561404,4225.146198830409,4184.649122807017,4167.470760233919,4219.225146198831,4181.432748538012,4256.87134502924,4209.795321637427,4244.152046783625,4183.918128654971,4202.266081871345,4183.479532163743,4165.862573099415,4251.973684210527,4199.269005847953,4178.874269005848,4266.081871345029,4230.921052631579,4244.37134502924,4245.3216374269,4236.403508771929,4201.608187134503,4126.315789473684,4249.415204678363,4199.488304093567,4107.8216374269,4147.295321637427,4230.043859649123,4202.923976608187,4227.850877192983,4219.517543859649,4211.403508771929,4257.9678362573095,4175.146198830409,4198.318713450292,4270.9064327485385,4163.230994152047,4118.494152046784,4196.856725146199,4221.929824561404,4117.251461988304,4146.125730994152,4225.438596491228,4169.663742690059,4200.950292397661,4170.029239766081,4196.710526315789,4295.540935672515,4196.783625730995,4144.663742690059,4245.394736842105,4187.5,4224.122807017544,4170.175438596491,4175.438596491228,4225.511695906433,4225.3654970760235,4202.850877192983,4178.6549707602335,4152.850877192983,4195.833333333333,4232.456140350877,4241.1549707602335,4238.377192982456,4084.941520467836,4195.248538011696,4168.12865497076,4190.277777777777,4238.230994152047,4217.1783625731,4232.090643274853,4247.441520467836,4148.172514619883,4179.6783625731,4328.874269005848,4186.038011695907,4166.7397660818715,4152.850877192983,4141.374269005848,4135.014619883041,4225.730994152047,4225.146198830409,4242.251461988304,4218.12865497076,4177.997076023392,4182.9678362573095,4163.596491228071,4193.640350877193,4208.040935672515,4155.847953216375,4157.456140350877,4193.421052631579,4150.438596491228,4255.701754385965,4284.210526315789,4203.289473684211,4243.055555555556,4194.444444444444,4171.929824561404,4157.309941520468,4266.4473684210525,4176.608187134503,4258.5526315789475,4193.421052631579,4265.497076023392,4242.397660818713,4185.526315789473,4309.868421052632,4210.818713450292,4218.640350877193,4256.652046783625,4229.459064327485,4286.988304093567,4265.497076023392,4166.4473684210525,4199.561403508772,4170.175438596491,4221.418128654971,4228.581871345029,4269.883040935672,4125.584795321637,4182.309941520468,4223.391812865497,4262.792397660819,4160.087719298245,4197.076023391813,4078.2894736842104,4198.026315789473,4202.777777777777,4182.383040935672,4189.473684210527,4154.751461988304,4164.108187134503,4182.529239766081,4144.809941520468,4206.944444444444,4249.269005847953,4183.5526315789475,4170.540935672515,4215.789473684211,4259.137426900585,4189.985380116959,4139.400584795321,4172.80701754386,4249.488304093567,4198.464912280701,4197.880116959064,4277.631578947368,4233.625730994152,4177.558479532164,4239.912280701755,4124.9269005847955,4233.991228070176,4195.540935672515,4217.105263157895,4125.804093567252,4243.421052631579,4277.997076023392,4187.7192982456145,4180.263157894737,4210.453216374269,4207.8216374269,4201.24269005848,4112.5730994152045,4188.084795321637,4223.245614035088,4269.590643274853,4178.9473684210525,4209.429824561404,4252.119883040936,4182.090643274853,4139.619883040936,4204.459064327485,4184.283625730995,4222.514619883041,4201.169590643275,4245.540935672515,4190.131578947368,4183.771929824561,4250.950292397661,4194.005847953216,4227.558479532164,4267.0321637426905,4219.005847953216,4158.4064327485385,4145.687134502924,4174.561403508772,4191.228070175439,4192.1783625731,4220.3216374269,4206.578947368421,4268.421052631579,4185.233918128655,4198.75730994152,4144.298245614035,4205.336257309941,4259.210526315789,4185.599415204679,4206.87134502924,4121.125730994152,4201.169590643275,4078.8011695906434,4150.584795321637,4222.295321637427,4200.0,4156.359649122807,4188.669590643275,4249.269005847953,4192.470760233919,4161.622807017544,4210.818713450292,4182.456140350877,4186.111111111111,4221.418128654971,4160.964912280701,4120.102339181287,4197.587719298245,4111.111111111111,4169.078947368421,4104.459064327485,4274.853801169591,4127.558479532164,4167.324561403509,4210.526315789473,4268.640350877193,4221.418128654971,4200.438596491228,4206.140350877193,4216.5935672514615,4195.102339181287,4175.511695906433,4192.616959064328,4154.2397660818715,4192.763157894737,4164.473684210527,4174.122807017544,4210.891812865497,4236.915204678363,4231.286549707603,4120.3216374269,4288.450292397661,4202.266081871345,4125.0,4113.377192982456,4226.315789473684,4203.070175438596,4207.163742690059,4115.93567251462,4158.8450292397665,4266.081871345029,4223.245614035088,4166.374269005848,4185.964912280701,4179.5321637426905,4179.897660818713,4200.6578947368425,4178.6549707602335,4157.602339181287,4200.438596491228,4191.081871345029,4153.581871345029,4133.625730994152,4208.991228070176,4232.602339181287,4189.254385964912,4186.769005847953,4184.795321637427,4184.795321637427,4235.891812865497,4189.327485380117,4201.315789473684,4181.432748538012,4189.839181286549,4207.675438596491,4217.0321637426905,4186.549707602339,4198.464912280701,4183.918128654971,4185.087719298245,4198.538011695907,4183.2602339181285,4168.055555555556,4300.0,4188.304093567252,4157.090643274853,4264.254385964912,4186.111111111111,4167.324561403509,4199.488304093567,4073.3187134502923,4180.336257309941,4194.078947368421,4189.108187134503,4136.403508771929,4269.883040935672,4205.482456140351,4200.2192982456145,4190.131578947368,4287.8654970760235,4274.3421052631575,4151.900584795321,4158.479532163743,4280.921052631579,4177.046783625731,4199.488304093567,4267.616959064328,4121.856725146199,4182.090643274853,4193.12865497076,4157.675438596491,4211.8421052631575,4160.233918128655,4165.058479532164,4148.976608187135,4219.078947368421,4082.6754385964914,4202.631578947368,4171.929824561404,4135.964912280701,4199.049707602339,4141.4473684210525,4175.438596491228,4220.687134502924,4152.412280701755,4156.213450292397,4198.318713450292,4170.175438596491,4140.716374269005,4175.511695906433,4178.43567251462,4193.640350877193,4195.175438596491,4242.251461988304,4191.520467836257,4194.590643274853,4174.415204678363,4195.102339181287,4168.12865497076,4216.5935672514615,4211.988304093567,4210.014619883041,4270.979532163743,4145.6140350877195,4257.675438596491,4222.295321637427,4186.25730994152,4137.8654970760235,4304.751461988304,4193.055555555556,4255.263157894737,4215.643274853801,4136.988304093567,4236.038011695907,4246.710526315789,4261.038011695907,4241.1549707602335,4150.3654970760235,4173.172514619883,4305.116959064328,4264.766081871345,4281.140350877193,4154.166666666667,4168.12865497076,4210.526315789473,4209.283625730995,4157.383040935672,4203.070175438596,4239.985380116959,4193.567251461988,4208.040935672515,4277.339181286549,4214.035087719299,4193.055555555556,4155.701754385965,4228.581871345029,4293.567251461988,4191.008771929824,4148.245614035088,4254.897660818713,4226.827485380117,4180.701754385965,4275.0730994152045,4182.602339181287,4250.292397660819,4148.611111111111,4282.675438596491,4172.441520467836,4175.292397660819,4292.616959064328,4207.8216374269,4244.444444444444,4264.473684210527,4325.584795321637,4235.745614035088,4174.3421052631575,4204.459064327485,4205.116959064328,4248.464912280701,4178.728070175439,4226.754385964912,4214.985380116959,4218.201754385965,4289.254385964912,4152.850877192983,4247.002923976608,4121.418128654971,4227.850877192983,4154.5321637426905,4189.400584795321,4156.578947368421,4204.751461988304,4138.669590643275,4229.605263157895,4272.368421052632,4266.374269005848,4234.210526315789,4296.710526315789,4244.517543859649,4227.558479532164,4241.008771929824,4209.722222222223,4196.637426900585,4129.166666666667,4217.397660818713,4236.549707602339,4289.400584795321,4232.675438596491,4164.400584795321,4270.102339181287,4160.453216374269,4176.681286549708,4185.233918128655,4158.625730994152,4133.1140350877195,4217.470760233919,4261.184210526316,4141.7397660818715,4217.324561403509,4229.166666666667,4177.850877192983,4168.201754385965,4296.856725146199,4183.479532163743,4223.391812865497,4195.6140350877195,4268.859649122807,4204.3859649122805,4206.798245614035,4142.543859649123,4177.339181286549,4229.3859649122805,4162.5,4231.505847953216,4159.06432748538,4301.535087719299,4147.149122807017,4190.570175438596,4197.514619883041,4142.0321637426905,4137.061403508772,4290.204678362573,4133.2602339181285,4144.956140350877,4259.502923976608,4245.540935672515,4155.263157894737,4242.324561403509,4252.046783625731,4172.002923976608,4249.561403508772,4315.716374269005,4238.450292397661,4196.491228070176,4135.891812865497,4164.69298245614,4226.023391812865,4226.535087719299,4243.494152046784,4221.710526315789,4186.915204678363,4228.143274853801,4229.970760233919,4196.856725146199,4267.397660818713,4211.25730994152,4254.166666666667,4224.707602339181,4191.959064327485,4178.289473684211,4202.850877192983,4195.3216374269,4199.7807017543855,4136.25730994152,4251.827485380117,4233.698830409357,4201.827485380117,4167.251461988304,4201.461988304093,4173.172514619883,4199.415204678363,4143.932748538012,4191.5935672514615,4133.5526315789475,4198.538011695907,4116.301169590643,4164.400584795321,4159.722222222223,4192.324561403509,4118.347953216375,4151.900584795321,4173.830409356725,4157.748538011696,4282.163742690059,4230.263157894737,4126.681286549708,4290.423976608187,4148.538011695907,4132.309941520468,4180.921052631579,4191.5935672514615,4206.798245614035,4198.976608187135,4187.7192982456145,4189.985380116959,4204.312865497076,4228.6549707602335,4243.932748538012,4247.295321637427,4218.713450292397,4217.616959064328,4244.663742690059,4233.479532163743,4164.912280701755,4188.596491228071,4164.473684210527,4184.576023391813,4257.309941520468,4246.56432748538,4148.172514619883,4132.529239766081,4177.631578947368,4231.213450292397,4283.771929824561,4165.716374269005,4289.254385964912,4243.713450292397,4241.228070175439,4160.380116959064,4208.625730994152,4198.245614035088,4190.570175438596,4234.941520467836,4173.903508771929,4256.505847953216,4233.5526315789475,4210.453216374269,4306.652046783625,4173.538011695907,4213.888888888889,4188.304093567252,4145.102339181287,4208.625730994152,4245.9064327485385,4231.505847953216,4184.722222222223,4194.005847953216,4209.356725146199,4179.970760233919,4202.412280701755,4228.43567251462,4258.4064327485385,4282.748538011696,4199.707602339181,4175.2192982456145,4262.938596491228,4186.8421052631575,4208.5526315789475,4278.43567251462,4250.950292397661,4212.061403508772,4228.216374269005,4193.786549707603,4226.754385964912,4144.005847953216,4128.581871345029,4147.587719298245,4183.2602339181285,4201.608187134503,4164.912280701755,4177.485380116959,4247.733918128655,4203.070175438596,4228.9473684210525,4145.7602339181285,4233.1140350877195,4194.005847953216,4224.9269005847955,4191.7397660818715,4232.894736842105,4196.929824561404,4225.584795321637,4229.020467836257,4258.187134502924,4101.023391812865,4267.690058479532,4122.441520467836,4158.333333333333,4232.602339181287,4159.795321637427,4220.102339181287,4105.190058479532,4175.0730994152045,4235.891812865497,4262.938596491228,4146.271929824561,4228.070175438596,4203.070175438596,4190.93567251462,4194.517543859649,4158.2602339181285,4191.008771929824,4183.4064327485385,4184.356725146199,4204.2397660818715,4191.5935672514615,4201.388888888889,4273.538011695907,4198.172514619883,4259.941520467836,4288.74269005848,4209.795321637427,4282.894736842105,4198.538011695907,4281.505847953216,4204.751461988304,4153.143274853801,4226.900584795321,4280.043859649123,4275.292397660819,4143.786549707603,4143.347953216375,4173.538011695907,4172.880116959064,4184.941520467836,4236.8421052631575,4136.25730994152,4227.339181286549,4199.195906432748,4096.710526315789,4218.055555555556,4204.605263157895,4158.625730994152,4233.698830409357,4188.888888888889,4222.368421052632,4184.576023391813,4203.070175438596,4274.561403508772,4231.652046783625,4238.961988304093,4226.023391812865,4221.56432748538,4185.453216374269,4130.190058479532,4203.581871345029,4172.076023391813,4166.959064327485,4199.7807017543855,4209.283625730995,4217.909356725147,4168.713450292397,4159.722222222223,4146.783625730995,4172.368421052632,4241.008771929824,4217.836257309941,4226.096491228071,4169.663742690059,4213.669590643275,4137.5,4176.973684210527,4171.929824561404,4137.4269005847955,4135.160818713451,4157.017543859649,4236.915204678363,4199.488304093567,4231.798245614035,4172.149122807017,4187.5,4153.581871345029,4235.891812865497,4111.330409356725,4200.0,4110.087719298245,4215.423976608187,4127.923976608187,4210.526315789473,4172.002923976608,4210.380116959064,4203.362573099415,4196.125730994152,4242.982456140351,4181.578947368421,4217.470760233919,4213.74269005848,4193.567251461988,4164.546783625731,4171.783625730995,4232.236842105263,4137.5,4214.69298245614,4188.74269005848,4155.62865497076,4162.1345029239765,4112.8654970760235,4213.304093567252,4172.222222222223,4183.918128654971,4194.590643274853,4116.4473684210525,4207.748538011696,4124.6345029239765,4165.204678362573,4144.152046783625,4224.853801169591,4125.804093567252,4249.269005847953,4267.0321637426905,4167.690058479532,4193.347953216375,4248.245614035088,4166.1549707602335,4238.450292397661,4189.912280701755,4181.505847953216,4218.421052631579,4129.020467836257,4215.716374269005,4202.19298245614,4214.546783625731,4222.514619883041,4208.8450292397665,4192.105263157895,4189.181286549708,4233.040935672515,4222.80701754386,4172.587719298245,4072.3684210526317,4222.368421052632,4163.669590643275,4137.5730994152045,4245.833333333333,4223.099415204679,4221.56432748538,4199.415204678363,4212.792397660819,4213.815789473684,4245.4678362573095,4200.438596491228,4198.464912280701,4283.698830409357,4230.409356725147,4245.029239766081,4142.616959064328,4186.622807017544,4234.429824561404,4263.084795321637,4143.786549707603,4229.605263157895,4249.195906432748,4188.377192982456,4172.880116959064,4173.391812865497,4127.923976608187,4182.529239766081,4208.5526315789475,4254.897660818713,4138.011695906433,4154.605263157895,4249.122807017544,4130.994152046784,4240.789473684211,4272.660818713451,4211.038011695907,4170.833333333333,4162.061403508772,4164.254385964912,4148.172514619883,4274.122807017544,4214.035087719299,4278.070175438596,4127.704678362573,4227.19298245614,4200.438596491228,4189.546783625731,4084.3567251461986,4210.30701754386,4214.839181286549,4170.540935672515,4223.464912280701,4146.783625730995,4231.359649122807,4136.25730994152,4174.049707602339,4311.622807017544,4245.4678362573095,4207.090643274853,4235.964912280701,4158.625730994152,4232.602339181287,4217.763157894737,4193.567251461988,4242.397660818713,4218.859649122807,4192.0321637426905,4190.131578947368,4266.959064327485,4185.233918128655,4233.040935672515,4139.473684210527,4157.529239766081,4183.1140350877195,4216.959064327485,4149.269005847953,4212.4269005847955,4222.587719298245,4155.043859649123,4170.3216374269,4224.415204678363,4190.058479532164,4119.005847953216,4216.301169590643,4142.982456140351,4202.412280701755,4138.596491228071,4258.333333333333,4216.5935672514615,4194.37134502924,4166.228070175439,4244.663742690059,4255.994152046784,4218.347953216375,4171.710526315789,4240.350877192983,4184.941520467836,4167.324561403509,4236.111111111111,4136.184210526316,4234.868421052632,4174.9269005847955,4221.56432748538,4226.973684210527,4228.508771929824,4199.9269005847955,4215.862573099415,4209.429824561404,4137.353801169591,4202.266081871345,4100.950292397661,4156.067251461988,4164.035087719299,4222.295321637427,4165.350877192983,4198.684210526316,4206.725146198831,4193.274853801169,4191.959064327485,4198.099415204679,4255.555555555556,4142.397660818713,4310.745614035088,4262.5730994152045,4236.038011695907,4224.561403508772,4190.93567251462,4246.125730994152,4255.043859649123,4175.2192982456145,4169.37134502924,4186.25730994152,4159.795321637427,4258.333333333333,4164.985380116959,4136.695906432748,4261.695906432748,4185.380116959064,4227.704678362573],\"type\":\"histogram\"}],                        {\"template\":{\"data\":{\"histogram2dcontour\":[{\"type\":\"histogram2dcontour\",\"colorbar\":{\"outlinewidth\":0,\"ticks\":\"\"},\"colorscale\":[[0.0,\"#0d0887\"],[0.1111111111111111,\"#46039f\"],[0.2222222222222222,\"#7201a8\"],[0.3333333333333333,\"#9c179e\"],[0.4444444444444444,\"#bd3786\"],[0.5555555555555556,\"#d8576b\"],[0.6666666666666666,\"#ed7953\"],[0.7777777777777778,\"#fb9f3a\"],[0.8888888888888888,\"#fdca26\"],[1.0,\"#f0f921\"]]}],\"choropleth\":[{\"type\":\"choropleth\",\"colorbar\":{\"outlinewidth\":0,\"ticks\":\"\"}}],\"histogram2d\":[{\"type\":\"histogram2d\",\"colorbar\":{\"outlinewidth\":0,\"ticks\":\"\"},\"colorscale\":[[0.0,\"#0d0887\"],[0.1111111111111111,\"#46039f\"],[0.2222222222222222,\"#7201a8\"],[0.3333333333333333,\"#9c179e\"],[0.4444444444444444,\"#bd3786\"],[0.5555555555555556,\"#d8576b\"],[0.6666666666666666,\"#ed7953\"],[0.7777777777777778,\"#fb9f3a\"],[0.8888888888888888,\"#fdca26\"],[1.0,\"#f0f921\"]]}],\"heatmap\":[{\"type\":\"heatmap\",\"colorbar\":{\"outlinewidth\":0,\"ticks\":\"\"},\"colorscale\":[[0.0,\"#0d0887\"],[0.1111111111111111,\"#46039f\"],[0.2222222222222222,\"#7201a8\"],[0.3333333333333333,\"#9c179e\"],[0.4444444444444444,\"#bd3786\"],[0.5555555555555556,\"#d8576b\"],[0.6666666666666666,\"#ed7953\"],[0.7777777777777778,\"#fb9f3a\"],[0.8888888888888888,\"#fdca26\"],[1.0,\"#f0f921\"]]}],\"heatmapgl\":[{\"type\":\"heatmapgl\",\"colorbar\":{\"outlinewidth\":0,\"ticks\":\"\"},\"colorscale\":[[0.0,\"#0d0887\"],[0.1111111111111111,\"#46039f\"],[0.2222222222222222,\"#7201a8\"],[0.3333333333333333,\"#9c179e\"],[0.4444444444444444,\"#bd3786\"],[0.5555555555555556,\"#d8576b\"],[0.6666666666666666,\"#ed7953\"],[0.7777777777777778,\"#fb9f3a\"],[0.8888888888888888,\"#fdca26\"],[1.0,\"#f0f921\"]]}],\"contourcarpet\":[{\"type\":\"contourcarpet\",\"colorbar\":{\"outlinewidth\":0,\"ticks\":\"\"}}],\"contour\":[{\"type\":\"contour\",\"colorbar\":{\"outlinewidth\":0,\"ticks\":\"\"},\"colorscale\":[[0.0,\"#0d0887\"],[0.1111111111111111,\"#46039f\"],[0.2222222222222222,\"#7201a8\"],[0.3333333333333333,\"#9c179e\"],[0.4444444444444444,\"#bd3786\"],[0.5555555555555556,\"#d8576b\"],[0.6666666666666666,\"#ed7953\"],[0.7777777777777778,\"#fb9f3a\"],[0.8888888888888888,\"#fdca26\"],[1.0,\"#f0f921\"]]}],\"surface\":[{\"type\":\"surface\",\"colorbar\":{\"outlinewidth\":0,\"ticks\":\"\"},\"colorscale\":[[0.0,\"#0d0887\"],[0.1111111111111111,\"#46039f\"],[0.2222222222222222,\"#7201a8\"],[0.3333333333333333,\"#9c179e\"],[0.4444444444444444,\"#bd3786\"],[0.5555555555555556,\"#d8576b\"],[0.6666666666666666,\"#ed7953\"],[0.7777777777777778,\"#fb9f3a\"],[0.8888888888888888,\"#fdca26\"],[1.0,\"#f0f921\"]]}],\"mesh3d\":[{\"type\":\"mesh3d\",\"colorbar\":{\"outlinewidth\":0,\"ticks\":\"\"}}],\"scatter\":[{\"fillpattern\":{\"fillmode\":\"overlay\",\"size\":10,\"solidity\":0.2},\"type\":\"scatter\"}],\"parcoords\":[{\"type\":\"parcoords\",\"line\":{\"colorbar\":{\"outlinewidth\":0,\"ticks\":\"\"}}}],\"scatterpolargl\":[{\"type\":\"scatterpolargl\",\"marker\":{\"colorbar\":{\"outlinewidth\":0,\"ticks\":\"\"}}}],\"bar\":[{\"error_x\":{\"color\":\"#2a3f5f\"},\"error_y\":{\"color\":\"#2a3f5f\"},\"marker\":{\"line\":{\"color\":\"#E5ECF6\",\"width\":0.5},\"pattern\":{\"fillmode\":\"overlay\",\"size\":10,\"solidity\":0.2}},\"type\":\"bar\"}],\"scattergeo\":[{\"type\":\"scattergeo\",\"marker\":{\"colorbar\":{\"outlinewidth\":0,\"ticks\":\"\"}}}],\"scatterpolar\":[{\"type\":\"scatterpolar\",\"marker\":{\"colorbar\":{\"outlinewidth\":0,\"ticks\":\"\"}}}],\"histogram\":[{\"marker\":{\"pattern\":{\"fillmode\":\"overlay\",\"size\":10,\"solidity\":0.2}},\"type\":\"histogram\"}],\"scattergl\":[{\"type\":\"scattergl\",\"marker\":{\"colorbar\":{\"outlinewidth\":0,\"ticks\":\"\"}}}],\"scatter3d\":[{\"type\":\"scatter3d\",\"line\":{\"colorbar\":{\"outlinewidth\":0,\"ticks\":\"\"}},\"marker\":{\"colorbar\":{\"outlinewidth\":0,\"ticks\":\"\"}}}],\"scattermapbox\":[{\"type\":\"scattermapbox\",\"marker\":{\"colorbar\":{\"outlinewidth\":0,\"ticks\":\"\"}}}],\"scatterternary\":[{\"type\":\"scatterternary\",\"marker\":{\"colorbar\":{\"outlinewidth\":0,\"ticks\":\"\"}}}],\"scattercarpet\":[{\"type\":\"scattercarpet\",\"marker\":{\"colorbar\":{\"outlinewidth\":0,\"ticks\":\"\"}}}],\"carpet\":[{\"aaxis\":{\"endlinecolor\":\"#2a3f5f\",\"gridcolor\":\"white\",\"linecolor\":\"white\",\"minorgridcolor\":\"white\",\"startlinecolor\":\"#2a3f5f\"},\"baxis\":{\"endlinecolor\":\"#2a3f5f\",\"gridcolor\":\"white\",\"linecolor\":\"white\",\"minorgridcolor\":\"white\",\"startlinecolor\":\"#2a3f5f\"},\"type\":\"carpet\"}],\"table\":[{\"cells\":{\"fill\":{\"color\":\"#EBF0F8\"},\"line\":{\"color\":\"white\"}},\"header\":{\"fill\":{\"color\":\"#C8D4E3\"},\"line\":{\"color\":\"white\"}},\"type\":\"table\"}],\"barpolar\":[{\"marker\":{\"line\":{\"color\":\"#E5ECF6\",\"width\":0.5},\"pattern\":{\"fillmode\":\"overlay\",\"size\":10,\"solidity\":0.2}},\"type\":\"barpolar\"}],\"pie\":[{\"automargin\":true,\"type\":\"pie\"}]},\"layout\":{\"autotypenumbers\":\"strict\",\"colorway\":[\"#636efa\",\"#EF553B\",\"#00cc96\",\"#ab63fa\",\"#FFA15A\",\"#19d3f3\",\"#FF6692\",\"#B6E880\",\"#FF97FF\",\"#FECB52\"],\"font\":{\"color\":\"#2a3f5f\"},\"hovermode\":\"closest\",\"hoverlabel\":{\"align\":\"left\"},\"paper_bgcolor\":\"white\",\"plot_bgcolor\":\"#E5ECF6\",\"polar\":{\"bgcolor\":\"#E5ECF6\",\"angularaxis\":{\"gridcolor\":\"white\",\"linecolor\":\"white\",\"ticks\":\"\"},\"radialaxis\":{\"gridcolor\":\"white\",\"linecolor\":\"white\",\"ticks\":\"\"}},\"ternary\":{\"bgcolor\":\"#E5ECF6\",\"aaxis\":{\"gridcolor\":\"white\",\"linecolor\":\"white\",\"ticks\":\"\"},\"baxis\":{\"gridcolor\":\"white\",\"linecolor\":\"white\",\"ticks\":\"\"},\"caxis\":{\"gridcolor\":\"white\",\"linecolor\":\"white\",\"ticks\":\"\"}},\"coloraxis\":{\"colorbar\":{\"outlinewidth\":0,\"ticks\":\"\"}},\"colorscale\":{\"sequential\":[[0.0,\"#0d0887\"],[0.1111111111111111,\"#46039f\"],[0.2222222222222222,\"#7201a8\"],[0.3333333333333333,\"#9c179e\"],[0.4444444444444444,\"#bd3786\"],[0.5555555555555556,\"#d8576b\"],[0.6666666666666666,\"#ed7953\"],[0.7777777777777778,\"#fb9f3a\"],[0.8888888888888888,\"#fdca26\"],[1.0,\"#f0f921\"]],\"sequentialminus\":[[0.0,\"#0d0887\"],[0.1111111111111111,\"#46039f\"],[0.2222222222222222,\"#7201a8\"],[0.3333333333333333,\"#9c179e\"],[0.4444444444444444,\"#bd3786\"],[0.5555555555555556,\"#d8576b\"],[0.6666666666666666,\"#ed7953\"],[0.7777777777777778,\"#fb9f3a\"],[0.8888888888888888,\"#fdca26\"],[1.0,\"#f0f921\"]],\"diverging\":[[0,\"#8e0152\"],[0.1,\"#c51b7d\"],[0.2,\"#de77ae\"],[0.3,\"#f1b6da\"],[0.4,\"#fde0ef\"],[0.5,\"#f7f7f7\"],[0.6,\"#e6f5d0\"],[0.7,\"#b8e186\"],[0.8,\"#7fbc41\"],[0.9,\"#4d9221\"],[1,\"#276419\"]]},\"xaxis\":{\"gridcolor\":\"white\",\"linecolor\":\"white\",\"ticks\":\"\",\"title\":{\"standoff\":15},\"zerolinecolor\":\"white\",\"automargin\":true,\"zerolinewidth\":2},\"yaxis\":{\"gridcolor\":\"white\",\"linecolor\":\"white\",\"ticks\":\"\",\"title\":{\"standoff\":15},\"zerolinecolor\":\"white\",\"automargin\":true,\"zerolinewidth\":2},\"scene\":{\"xaxis\":{\"backgroundcolor\":\"#E5ECF6\",\"gridcolor\":\"white\",\"linecolor\":\"white\",\"showbackground\":true,\"ticks\":\"\",\"zerolinecolor\":\"white\",\"gridwidth\":2},\"yaxis\":{\"backgroundcolor\":\"#E5ECF6\",\"gridcolor\":\"white\",\"linecolor\":\"white\",\"showbackground\":true,\"ticks\":\"\",\"zerolinecolor\":\"white\",\"gridwidth\":2},\"zaxis\":{\"backgroundcolor\":\"#E5ECF6\",\"gridcolor\":\"white\",\"linecolor\":\"white\",\"showbackground\":true,\"ticks\":\"\",\"zerolinecolor\":\"white\",\"gridwidth\":2}},\"shapedefaults\":{\"line\":{\"color\":\"#2a3f5f\"}},\"annotationdefaults\":{\"arrowcolor\":\"#2a3f5f\",\"arrowhead\":0,\"arrowwidth\":1},\"geo\":{\"bgcolor\":\"white\",\"landcolor\":\"#E5ECF6\",\"subunitcolor\":\"white\",\"showland\":true,\"showlakes\":true,\"lakecolor\":\"white\"},\"title\":{\"x\":0.05},\"mapbox\":{\"style\":\"light\"}}},\"shapes\":[{\"line\":{\"color\":\"white\",\"dash\":\"dash\"},\"type\":\"line\",\"x0\":4117.231359649123,\"x1\":4117.231359649123,\"xref\":\"x\",\"y0\":0,\"y1\":1,\"yref\":\"y domain\"},{\"line\":{\"color\":\"white\",\"dash\":\"dash\"},\"type\":\"line\",\"x0\":4284.2799707602335,\"x1\":4284.2799707602335,\"xref\":\"x\",\"y0\":0,\"y1\":1,\"yref\":\"y domain\"},{\"type\":\"line\",\"x0\":4000,\"x1\":4000,\"xref\":\"x\",\"y0\":0,\"y1\":1,\"yref\":\"y domain\"}]},                        {\"responsive\": true}                    ).then(function(){\n",
       "                            \n",
       "var gd = document.getElementById('3c64791e-abdb-4aad-8329-1dbdd74933b0');\n",
       "var x = new MutationObserver(function (mutations, observer) {{\n",
       "        var display = window.getComputedStyle(gd).display;\n",
       "        if (!display || display === 'none') {{\n",
       "            console.log([gd, 'removed!']);\n",
       "            Plotly.purge(gd);\n",
       "            observer.disconnect();\n",
       "        }}\n",
       "}});\n",
       "\n",
       "// Listen for the removal of the full notebook cells\n",
       "var notebookContainer = gd.closest('#notebook-container');\n",
       "if (notebookContainer) {{\n",
       "    x.observe(notebookContainer, {childList: true});\n",
       "}}\n",
       "\n",
       "// Listen for the clearing of the current output cell\n",
       "var outputEl = gd.closest('.output');\n",
       "if (outputEl) {{\n",
       "    x.observe(outputEl, {childList: true});\n",
       "}}\n",
       "\n",
       "                        })                };                            </script>        </div>\n",
       "</body>\n",
       "</html>"
      ]
     },
     "metadata": {},
     "output_type": "display_data"
    }
   ],
   "source": [
    "fig = go.Figure()\n",
    "fig.add_trace(go.Histogram(x=my_bootstrapped_population_sample_means, histnorm='probability density', nbinsx=20))\n",
    "fig.add_vline(x=data_quantile[0], line_dash='dash', line_color='white')\n",
    "fig.add_vline(x=data_quantile[1], line_dash='dash', line_color='white')\n",
    "fig.add_vline(x=4000)\n",
    "fig.show()"
   ]
  },
  {
   "cell_type": "markdown",
   "id": "-0ZfUDOgns7D",
   "metadata": {
    "id": "-0ZfUDOgns7D"
   },
   "source": [
    "Therefore we can obviously reject the null hypothesis since it is not in the confidence internval"
   ]
  },
  {
   "cell_type": "markdown",
   "id": "63226823971cba4",
   "metadata": {
    "id": "63226823971cba4"
   },
   "source": []
  },
  {
   "cell_type": "markdown",
   "id": "c4c6ca961f74e3e8",
   "metadata": {
    "id": "c4c6ca961f74e3e8"
   },
   "source": [
    "### Optional practice: now do this with the `flipper_length_mm` column"
   ]
  },
  {
   "cell_type": "code",
   "execution_count": 11,
   "id": "db1b595418c51ce3",
   "metadata": {
    "ExecuteTime": {
     "end_time": "2024-05-15T20:48:25.194971Z",
     "start_time": "2024-05-15T20:48:24.929786Z"
    },
    "id": "db1b595418c51ce3"
   },
   "outputs": [],
   "source": [
    "# Bootstrapped Sampling from the sample\n",
    "\n",
    "# how many times we want to do this\n",
    "reps = 1000\n",
    "\n",
    "# what is our sample size\n",
    "sample_size = 342\n",
    "\n",
    "# make an array to save the values\n",
    "my_bootstrapped_population_sample_means_2 = np.zeros(reps)\n",
    "\n",
    "# make a random seed\n",
    "np.random.seed(130)\n",
    "\n",
    "# loop through in that many times\n",
    "for i in range(reps):\n",
    "\n",
    "    # take a sample from the population\n",
    "    my_bootstrapped_sample = np.random.choice(penguins_noNaN.flipper_length_mm, size=sample_size, replace=True)\n",
    "\n",
    "    # calculate the mean and add it to the array\n",
    "    my_bootstrapped_population_sample_means_2[i] = my_bootstrapped_sample.mean()# This is so we get a ratio in the same dimentions"
   ]
  },
  {
   "cell_type": "code",
   "execution_count": 12,
   "id": "51fd0f5b78062f83",
   "metadata": {
    "ExecuteTime": {
     "end_time": "2024-05-15T20:48:25.974169Z",
     "start_time": "2024-05-15T20:48:25.938943Z"
    },
    "colab": {
     "base_uri": "https://localhost:8080/",
     "height": 563
    },
    "id": "51fd0f5b78062f83",
    "outputId": "09951247-2961-4042-d60f-fda853346454"
   },
   "outputs": [
    {
     "data": {
      "text/html": [
       "<html>\n",
       "<head><meta charset=\"utf-8\" /></head>\n",
       "<body>\n",
       "    <div>            <script src=\"https://cdnjs.cloudflare.com/ajax/libs/mathjax/2.7.5/MathJax.js?config=TeX-AMS-MML_SVG\"></script><script type=\"text/javascript\">if (window.MathJax && window.MathJax.Hub && window.MathJax.Hub.Config) {window.MathJax.Hub.Config({SVG: {font: \"STIX-Web\"}});}</script>                <script type=\"text/javascript\">window.PlotlyConfig = {MathJaxConfig: 'local'};</script>\n",
       "        <script charset=\"utf-8\" src=\"https://cdn.plot.ly/plotly-2.24.1.min.js\"></script>                <div id=\"33e86645-4763-4cec-b1d9-e05b8fbf09e0\" class=\"plotly-graph-div\" style=\"height:525px; width:100%;\"></div>            <script type=\"text/javascript\">                                    window.PLOTLYENV=window.PLOTLYENV || {};                                    if (document.getElementById(\"33e86645-4763-4cec-b1d9-e05b8fbf09e0\")) {                    Plotly.newPlot(                        \"33e86645-4763-4cec-b1d9-e05b8fbf09e0\",                        [{\"histnorm\":\"probability density\",\"nbinsx\":20,\"x\":[201.5204678362573,201.23391812865498,201.26023391812865,201.69590643274853,201.60526315789474,201.37426900584796,200.08771929824562,200.5438596491228,200.1081871345029,200.91228070175438,200.87134502923976,200.86257309941521,200.28070175438597,200.91520467836258,199.859649122807,201.07309941520467,201.28362573099415,200.76023391812865,200.69590643274853,200.21052631578948,201.60526315789474,201.3859649122807,201.16666666666666,201.4298245614035,201.07602339181287,200.5672514619883,199.48830409356725,199.76023391812865,200.43567251461988,201.3859649122807,201.56140350877192,200.71929824561403,201.80409356725147,201.1578947368421,200.48538011695908,202.01754385964912,201.14912280701753,200.406432748538,201.28654970760235,199.54093567251462,201.78070175438597,201.12280701754386,200.22222222222223,201.55263157894737,200.38888888888889,199.49415204678363,201.1140350877193,201.3918128654971,200.02631578947367,201.9561403508772,200.12865497076024,202.30116959064327,201.03508771929825,200.81578947368422,201.47076023391813,201.73099415204678,201.1549707602339,200.71929824561403,201.0438596491228,200.7017543859649,201.3859649122807,199.55847953216374,201.60233918128654,200.01169590643275,200.38011695906434,199.07894736842104,201.00584795321637,200.30116959064327,201.82456140350877,202.02631578947367,201.37134502923976,200.66959064327486,200.94736842105263,201.70760233918128,200.359649122807,199.64912280701753,202.3216374269006,200.07602339181287,201.4795321637427,201.9327485380117,200.56140350877192,200.60233918128654,201.90350877192984,200.52923976608187,201.8684210526316,202.08771929824562,201.0204678362573,200.98245614035088,200.12865497076024,200.74269005847952,200.41520467836258,201.9795321637427,202.0906432748538,202.2017543859649,200.5204678362573,201.17543859649123,201.40058479532163,200.11988304093566,200.9561403508772,201.4327485380117,200.83918128654972,201.09941520467837,200.58771929824562,198.97368421052633,200.1140350877193,201.47076023391813,200.3216374269006,202.14619883040936,200.23391812865498,200.89473684210526,201.87719298245614,201.53216374269005,201.140350877193,201.0701754385965,200.66666666666666,200.10526315789474,201.05847953216374,201.05847953216374,200.82748538011697,200.859649122807,202.1578947368421,200.87719298245614,201.0204678362573,200.53216374269005,200.48830409356725,201.45029239766083,200.62280701754386,200.83625730994152,201.97368421052633,201.35380116959064,201.83918128654972,201.80116959064327,201.6812865497076,201.25730994152048,200.37426900584796,201.46198830409358,200.90058479532163,199.6783625730994,199.85380116959064,201.06140350877192,200.55263157894737,202.19298245614036,201.05263157894737,200.953216374269,202.2017543859649,200.8918128654971,201.0,201.84795321637426,199.94152046783626,199.2953216374269,200.98538011695908,201.00292397660817,199.55555555555554,200.42105263157896,201.04970760233917,200.2748538011696,201.24561403508773,200.33040935672514,200.62280701754386,201.53801169590642,200.83333333333334,200.03216374269005,202.3684210526316,200.8187134502924,200.76023391812865,200.57309941520467,200.30994152046785,201.2251461988304,200.1812865497076,201.04970760233917,200.74561403508773,200.35672514619884,200.30116959064327,201.78947368421052,201.55263157894737,201.64327485380116,199.55847953216374,200.49707602339183,200.2017543859649,200.58187134502924,201.62865497076024,201.1081871345029,201.2982456140351,201.46783625730995,200.01754385964912,200.8216374269006,202.13742690058479,200.61988304093566,200.48245614035088,199.9298245614035,200.38888888888889,200.35672514619884,202.19590643274853,201.7485380116959,202.23391812865498,201.40350877192984,200.89473684210526,200.28654970760235,200.75438596491227,200.21929824561403,201.16374269005848,199.51169590643275,200.5,200.60526315789474,200.2719298245614,202.12280701754386,202.98245614035088,200.69298245614036,201.5701754385965,200.1578947368421,200.05263157894737,200.07894736842104,202.0906432748538,200.85087719298247,201.3421052631579,201.07894736842104,202.35380116959064,201.6549707602339,201.24269005847952,202.91812865497076,201.64619883040936,200.80409356725147,202.07602339181287,201.03216374269005,202.95906432748538,202.27777777777777,199.68421052631578,200.80994152046785,199.546783625731,201.72222222222223,201.46491228070175,202.93567251461988,199.26900584795322,200.42397660818713,201.77777777777777,201.62573099415204,200.84795321637426,200.74269005847952,198.82456140350877,201.31286549707602,200.94736842105263,200.79239766081872,200.89766081871346,200.3450292397661,200.14912280701753,200.76315789473685,199.85380116959064,200.95906432748538,201.32748538011697,200.85380116959064,200.2485380116959,201.0,201.66959064327486,200.92105263157896,199.5438596491228,200.73099415204678,201.96198830409358,200.92690058479533,200.61988304093566,201.85672514619884,201.76900584795322,201.1315789473684,201.73099415204678,199.75730994152048,201.24561403508773,201.11111111111111,201.10526315789474,199.49122807017545,201.10526315789474,202.7719298245614,200.6169590643275,200.71052631578948,201.21637426900585,200.73684210526315,201.1549707602339,199.28070175438597,200.54970760233917,201.00584795321637,202.30116959064327,201.05847953216374,201.29239766081872,201.51754385964912,201.10233918128654,200.2719298245614,201.14619883040936,200.81578947368422,201.11111111111111,200.8216374269006,201.3654970760234,201.30116959064327,200.93859649122808,201.73976608187135,201.00584795321637,200.77777777777777,202.30701754385964,200.7953216374269,199.97076023391813,199.73976608187135,200.53508771929825,200.5672514619883,200.71637426900585,201.21052631578948,200.93859649122808,202.3187134502924,201.06140350877192,200.68713450292398,200.35672514619884,200.85380116959064,201.76900584795322,201.5701754385965,201.33918128654972,199.66666666666666,200.04093567251462,199.01754385964912,200.32456140350877,201.8654970760234,200.3654970760234,199.58479532163742,201.44152046783626,201.93859649122808,200.78070175438597,200.16959064327486,200.3918128654971,200.64327485380116,200.42690058479533,200.9795321637427,200.18713450292398,199.4093567251462,200.42397660818713,198.7017543859649,200.38888888888889,199.45906432748538,202.11988304093566,200.12865497076024,200.6549707602339,200.9766081871345,201.859649122807,201.40350877192984,200.80409356725147,200.6812865497076,200.906432748538,200.26900584795322,200.3450292397661,200.14327485380116,200.28654970760235,201.23976608187135,199.9795321637427,199.75730994152048,201.2514619883041,201.46198830409358,201.05555555555554,198.98830409356725,202.18713450292398,200.92105263157896,199.91520467836258,199.29239766081872,201.44736842105263,200.84795321637426,200.12573099415204,199.5233918128655,199.65204678362574,201.35672514619884,201.02923976608187,199.80409356725147,200.4561403508772,200.1783625730994,201.19005847953215,200.62865497076024,201.07894736842104,200.35672514619884,200.8918128654971,200.75438596491227,201.05263157894737,199.41812865497076,201.11111111111111,201.73099415204678,201.2046783625731,200.44152046783626,201.02923976608187,200.83918128654972,201.69883040935673,199.92690058479533,200.4298245614035,200.1169590643275,200.7514619883041,200.88888888888889,201.35087719298247,200.6783625730994,201.06432748538012,200.12573099415204,200.23684210526315,200.2719298245614,200.71929824561403,200.06432748538012,202.53508771929825,200.73099415204678,200.26900584795322,201.06432748538012,200.14912280701753,199.8654970760234,201.640350877193,198.8216374269006,200.54093567251462,200.80116959064327,200.82456140350877,200.2953216374269,202.05555555555554,200.71929824561403,201.6549707602339,201.42397660818713,202.406432748538,201.94152046783626,200.3421052631579,200.34795321637426,202.8830409356725,200.35087719298247,200.6812865497076,201.76900584795322,199.546783625731,201.2017543859649,201.00584795321637,199.7280701754386,200.51754385964912,200.2982456140351,199.33625730994152,200.93859649122808,200.94736842105263,199.1169590643275,201.0701754385965,200.31578947368422,200.73391812865498,201.08771929824562,200.2251461988304,200.20760233918128,200.67251461988303,200.15204678362574,200.55263157894737,201.16081871345028,200.47368421052633,199.7514619883041,200.99122807017545,200.24269005847952,201.62280701754386,200.23976608187135,201.71345029239765,200.64912280701753,200.57602339181287,200.23099415204678,200.68713450292398,200.11111111111111,200.86257309941521,200.77777777777777,201.44736842105263,201.67543859649123,200.05847953216374,202.1169590643275,201.51754385964912,200.66081871345028,200.03216374269005,202.36257309941521,201.0701754385965,201.1812865497076,201.4298245614035,199.44444444444446,201.546783625731,202.0672514619883,201.1812865497076,201.7953216374269,200.2485380116959,200.68713450292398,202.69298245614036,201.95029239766083,202.67251461988303,200.00584795321637,200.25438596491227,201.29239766081872,201.2748538011696,200.19883040935673,200.33333333333334,200.80116959064327,200.38888888888889,200.87134502923976,201.3859649122807,201.1081871345029,199.97368421052633,200.14327485380116,201.39473684210526,201.94444444444446,200.9093567251462,199.14327485380116,201.906432748538,202.18713450292398,200.7251461988304,202.69005847953215,200.90058479532163,201.55263157894737,200.0233918128655,202.32748538011697,200.93567251461988,200.6081871345029,202.7485380116959,200.76608187134502,202.23099415204678,201.83625730994152,202.953216374269,201.81578947368422,200.95029239766083,200.9795321637427,200.91812865497076,202.06432748538012,200.80409356725147,201.21345029239765,201.98538011695908,201.17543859649123,201.5438596491228,200.37426900584796,201.35380116959064,199.78362573099415,201.359649122807,200.1812865497076,199.96783625730995,200.37134502923976,200.9093567251462,200.03216374269005,201.21637426900585,202.093567251462,201.80116959064327,200.8918128654971,202.71637426900585,201.6549707602339,200.4561403508772,201.36257309941521,201.00292397660817,200.4298245614035,199.7017543859649,201.3654970760234,201.640350877193,202.03508771929825,201.5701754385965,200.48830409356725,201.906432748538,200.42397660818713,200.76900584795322,200.66666666666666,200.7280701754386,200.3684210526316,201.22222222222223,201.26315789473685,199.9766081871345,201.45029239766083,201.26023391812865,200.70760233918128,200.48830409356725,202.18421052631578,200.546783625731,201.04093567251462,200.9327485380117,201.40350877192984,201.19298245614036,200.5906432748538,199.8216374269006,200.80409356725147,200.91520467836258,200.1549707602339,201.23099415204678,200.19590643274853,202.01754385964912,200.16081871345028,200.92690058479533,200.73099415204678,200.40350877192984,199.67251461988303,202.26023391812865,199.53508771929825,200.2719298245614,201.66959064327486,201.3859649122807,200.19005847953215,201.44152046783626,201.87719298245614,201.00292397660817,201.64912280701753,202.9298245614035,202.3421052631579,200.49707602339183,199.45029239766083,200.78362573099415,201.78070175438597,201.59941520467837,201.32456140350877,200.98538011695908,200.20760233918128,200.66666666666666,201.20760233918128,200.7017543859649,201.593567251462,200.50584795321637,201.57309941520467,200.92690058479533,201.3216374269006,200.35672514619884,201.0204678362573,200.98830409356725,200.4561403508772,199.85087719298247,201.71345029239765,201.0233918128655,201.06432748538012,199.953216374269,200.87134502923976,200.7485380116959,201.1783625730994,199.6345029239766,201.18421052631578,199.49707602339183,201.01754385964912,199.43567251461988,200.23976608187135,200.48245614035088,200.93567251461988,198.95906432748538,200.26900584795322,200.640350877193,200.23684210526315,202.37426900584796,201.20760233918128,199.5204678362573,202.0233918128655,200.05263157894737,199.95906432748538,200.640350877193,200.92690058479533,201.1783625730994,200.80701754385964,201.16374269005848,201.0233918128655,201.1549707602339,201.4093567251462,201.81286549707602,202.10526315789474,201.80116959064327,201.09941520467837,200.81286549707602,201.42690058479533,199.9093567251462,200.859649122807,200.26023391812865,201.51754385964912,201.4093567251462,201.37134502923976,200.48245614035088,200.1169590643275,200.0672514619883,201.1549707602339,201.44444444444446,200.38888888888889,202.5906432748538,200.8654970760234,201.7719298245614,200.19298245614036,201.10233918128654,200.11111111111111,200.8450292397661,201.41812865497076,200.62573099415204,202.3187134502924,200.33918128654972,201.28654970760235,202.40350877192984,200.28947368421052,201.63742690058479,200.59649122807016,199.90350877192984,200.47076023391813,201.09649122807016,200.73684210526315,200.48830409356725,200.9298245614035,201.7485380116959,200.27777777777777,201.16959064327486,201.45906432748538,202.1578947368421,202.67543859649123,200.33918128654972,200.30701754385964,201.96491228070175,200.56432748538012,201.06140350877192,202.46198830409358,201.7017543859649,201.2046783625731,201.1783625730994,201.02631578947367,201.21637426900585,199.7280701754386,200.31578947368422,199.89766081871346,199.93859649122808,200.89473684210526,200.76023391812865,200.21637426900585,201.30116959064327,200.9766081871345,201.65204678362574,199.52631578947367,201.08187134502924,200.98830409356725,201.48830409356725,200.6140350877193,201.21052631578948,200.65204678362574,201.39766081871346,201.3859649122807,201.53508771929825,199.6549707602339,202.21345029239765,199.8918128654971,200.7514619883041,201.27777777777777,199.96198830409358,201.56432748538012,200.4766081871345,200.4795321637427,201.06432748538012,201.59649122807016,200.10526315789474,201.5438596491228,201.20760233918128,200.6812865497076,201.23684210526315,200.85087719298247,200.26608187134502,200.67543859649123,200.69883040935673,200.90350877192984,200.73976608187135,201.14327485380116,201.90350877192984,200.97076023391813,202.23391812865498,201.92690058479533,201.40058479532163,201.80994152046785,200.7953216374269,200.94736842105263,201.093567251462,199.53216374269005,201.50292397660817,201.69005847953215,201.8450292397661,200.39473684210526,200.37134502923976,200.73684210526315,200.55263157894737,199.94152046783626,201.7046783625731,200.12573099415204,201.23391812865498,200.44444444444446,199.2953216374269,201.1578947368421,200.50877192982455,200.59941520467837,201.73684210526315,200.36257309941521,200.66959064327486,200.359649122807,200.53801169590642,202.05555555555554,201.18421052631578,201.30409356725147,201.12573099415204,201.3918128654971,200.21929824561403,200.8216374269006,200.7719298245614,200.73976608187135,200.8830409356725,200.6140350877193,200.64327485380116,200.86257309941521,200.69590643274853,199.69883040935673,200.34795321637426,200.53216374269005,201.1812865497076,200.92397660818713,201.1578947368421,200.66374269005848,200.71052631578948,199.9093567251462,199.953216374269,200.39473684210526,199.62573099415204,199.37426900584796,199.78654970760235,201.08771929824562,201.093567251462,201.61988304093566,200.23099415204678,200.7982456140351,200.046783625731,201.00584795321637,199.86257309941521,200.453216374269,199.68421052631578,201.37134502923976,200.01754385964912,200.9766081871345,200.0233918128655,200.69883040935673,201.33040935672514,200.55847953216374,201.51461988304092,200.0701754385965,200.99122807017545,201.11988304093566,200.7485380116959,199.91228070175438,200.8216374269006,201.69005847953215,200.24269005847952,200.92690058479533,200.71637426900585,200.54093567251462,200.80409356725147,200.359649122807,201.83625730994152,200.99122807017545,201.36257309941521,200.9561403508772,199.21052631578948,201.16374269005848,199.73684210526315,199.8450292397661,199.67543859649123,201.10233918128654,199.25438596491227,201.6315789473684,201.6578947368421,200.42397660818713,200.53801169590642,201.45029239766083,199.85087719298247,201.6315789473684,200.43567251461988,200.093567251462,201.07602339181287,199.33040935672514,201.0906432748538,200.67251461988303,201.14327485380116,200.4093567251462,200.88888888888889,200.51169590643275,200.94152046783626,201.1345029239766,200.73976608187135,200.65204678362574,198.8918128654971,201.21345029239765,200.3830409356725,200.05847953216374,201.57894736842104,201.19590643274853,200.6549707602339,201.26900584795322,201.05263157894737,201.53216374269005,201.98538011695908,201.0701754385965,200.62573099415204,201.2017543859649,201.39766081871346,202.3684210526316,200.58187134502924,201.68713450292398,200.69883040935673,201.63742690058479,200.12280701754386,201.04093567251462,201.7485380116959,200.9561403508772,201.21637426900585,200.859649122807,199.69005847953215,199.9298245614035,201.03508771929825,201.49415204678363,200.3450292397661,200.04970760233917,201.453216374269,199.49707602339183,201.51169590643275,201.53508771929825,200.97368421052633,200.68713450292398,200.57309941520467,199.82748538011697,199.94152046783626,201.43567251461988,201.26315789473685,202.35380116959064,199.593567251462,201.16666666666666,200.97076023391813,200.78362573099415,198.87134502923976,200.640350877193,200.17543859649123,200.3830409356725,201.47368421052633,200.406432748538,201.3918128654971,199.82456140350877,200.52631578947367,202.96491228070175,201.98245614035088,201.30701754385964,201.82748538011697,200.68421052631578,201.1578947368421,200.57894736842104,200.78070175438597,201.39473684210526,201.41228070175438,201.25438596491227,201.08771929824562,202.01461988304092,200.75730994152048,201.51754385964912,200.23684210526315,200.52631578947367,200.73099415204678,200.95029239766083,199.90350877192984,200.64327485380116,201.44736842105263,200.359649122807,200.2017543859649,201.60526315789474,200.2046783625731,199.66081871345028,201.6081871345029,199.7514619883041,200.8684210526316,199.32748538011697,201.6345029239766,201.05847953216374,200.56432748538012,200.33625730994152,201.94444444444446,202.06140350877192,200.78070175438597,200.5233918128655,201.26900584795322,200.16959064327486,200.07602339181287,201.36257309941521,200.48538011695908,201.36257309941521,200.50877192982455,200.6315789473684,200.97076023391813,201.09649122807016,200.5672514619883,201.1578947368421,201.46491228070175,199.76900584795322,201.50877192982455,199.33333333333334,200.51461988304092,200.2953216374269,201.30994152046785,200.16081871345028,200.85672514619884,200.46198830409358,201.5906432748538,200.33918128654972,200.49415204678363,201.7719298245614,200.24269005847952,202.30116959064327,202.1140350877193,201.61988304093566,201.01461988304092,200.56140350877192,201.93567251461988,201.38011695906434,200.66959064327486,200.32748538011697,200.28362573099415,200.95029239766083,201.43859649122808,200.2280701754386,199.91812865497076,201.46198830409358,200.98245614035088,201.35672514619884],\"type\":\"histogram\"}],                        {\"template\":{\"data\":{\"histogram2dcontour\":[{\"type\":\"histogram2dcontour\",\"colorbar\":{\"outlinewidth\":0,\"ticks\":\"\"},\"colorscale\":[[0.0,\"#0d0887\"],[0.1111111111111111,\"#46039f\"],[0.2222222222222222,\"#7201a8\"],[0.3333333333333333,\"#9c179e\"],[0.4444444444444444,\"#bd3786\"],[0.5555555555555556,\"#d8576b\"],[0.6666666666666666,\"#ed7953\"],[0.7777777777777778,\"#fb9f3a\"],[0.8888888888888888,\"#fdca26\"],[1.0,\"#f0f921\"]]}],\"choropleth\":[{\"type\":\"choropleth\",\"colorbar\":{\"outlinewidth\":0,\"ticks\":\"\"}}],\"histogram2d\":[{\"type\":\"histogram2d\",\"colorbar\":{\"outlinewidth\":0,\"ticks\":\"\"},\"colorscale\":[[0.0,\"#0d0887\"],[0.1111111111111111,\"#46039f\"],[0.2222222222222222,\"#7201a8\"],[0.3333333333333333,\"#9c179e\"],[0.4444444444444444,\"#bd3786\"],[0.5555555555555556,\"#d8576b\"],[0.6666666666666666,\"#ed7953\"],[0.7777777777777778,\"#fb9f3a\"],[0.8888888888888888,\"#fdca26\"],[1.0,\"#f0f921\"]]}],\"heatmap\":[{\"type\":\"heatmap\",\"colorbar\":{\"outlinewidth\":0,\"ticks\":\"\"},\"colorscale\":[[0.0,\"#0d0887\"],[0.1111111111111111,\"#46039f\"],[0.2222222222222222,\"#7201a8\"],[0.3333333333333333,\"#9c179e\"],[0.4444444444444444,\"#bd3786\"],[0.5555555555555556,\"#d8576b\"],[0.6666666666666666,\"#ed7953\"],[0.7777777777777778,\"#fb9f3a\"],[0.8888888888888888,\"#fdca26\"],[1.0,\"#f0f921\"]]}],\"heatmapgl\":[{\"type\":\"heatmapgl\",\"colorbar\":{\"outlinewidth\":0,\"ticks\":\"\"},\"colorscale\":[[0.0,\"#0d0887\"],[0.1111111111111111,\"#46039f\"],[0.2222222222222222,\"#7201a8\"],[0.3333333333333333,\"#9c179e\"],[0.4444444444444444,\"#bd3786\"],[0.5555555555555556,\"#d8576b\"],[0.6666666666666666,\"#ed7953\"],[0.7777777777777778,\"#fb9f3a\"],[0.8888888888888888,\"#fdca26\"],[1.0,\"#f0f921\"]]}],\"contourcarpet\":[{\"type\":\"contourcarpet\",\"colorbar\":{\"outlinewidth\":0,\"ticks\":\"\"}}],\"contour\":[{\"type\":\"contour\",\"colorbar\":{\"outlinewidth\":0,\"ticks\":\"\"},\"colorscale\":[[0.0,\"#0d0887\"],[0.1111111111111111,\"#46039f\"],[0.2222222222222222,\"#7201a8\"],[0.3333333333333333,\"#9c179e\"],[0.4444444444444444,\"#bd3786\"],[0.5555555555555556,\"#d8576b\"],[0.6666666666666666,\"#ed7953\"],[0.7777777777777778,\"#fb9f3a\"],[0.8888888888888888,\"#fdca26\"],[1.0,\"#f0f921\"]]}],\"surface\":[{\"type\":\"surface\",\"colorbar\":{\"outlinewidth\":0,\"ticks\":\"\"},\"colorscale\":[[0.0,\"#0d0887\"],[0.1111111111111111,\"#46039f\"],[0.2222222222222222,\"#7201a8\"],[0.3333333333333333,\"#9c179e\"],[0.4444444444444444,\"#bd3786\"],[0.5555555555555556,\"#d8576b\"],[0.6666666666666666,\"#ed7953\"],[0.7777777777777778,\"#fb9f3a\"],[0.8888888888888888,\"#fdca26\"],[1.0,\"#f0f921\"]]}],\"mesh3d\":[{\"type\":\"mesh3d\",\"colorbar\":{\"outlinewidth\":0,\"ticks\":\"\"}}],\"scatter\":[{\"fillpattern\":{\"fillmode\":\"overlay\",\"size\":10,\"solidity\":0.2},\"type\":\"scatter\"}],\"parcoords\":[{\"type\":\"parcoords\",\"line\":{\"colorbar\":{\"outlinewidth\":0,\"ticks\":\"\"}}}],\"scatterpolargl\":[{\"type\":\"scatterpolargl\",\"marker\":{\"colorbar\":{\"outlinewidth\":0,\"ticks\":\"\"}}}],\"bar\":[{\"error_x\":{\"color\":\"#2a3f5f\"},\"error_y\":{\"color\":\"#2a3f5f\"},\"marker\":{\"line\":{\"color\":\"#E5ECF6\",\"width\":0.5},\"pattern\":{\"fillmode\":\"overlay\",\"size\":10,\"solidity\":0.2}},\"type\":\"bar\"}],\"scattergeo\":[{\"type\":\"scattergeo\",\"marker\":{\"colorbar\":{\"outlinewidth\":0,\"ticks\":\"\"}}}],\"scatterpolar\":[{\"type\":\"scatterpolar\",\"marker\":{\"colorbar\":{\"outlinewidth\":0,\"ticks\":\"\"}}}],\"histogram\":[{\"marker\":{\"pattern\":{\"fillmode\":\"overlay\",\"size\":10,\"solidity\":0.2}},\"type\":\"histogram\"}],\"scattergl\":[{\"type\":\"scattergl\",\"marker\":{\"colorbar\":{\"outlinewidth\":0,\"ticks\":\"\"}}}],\"scatter3d\":[{\"type\":\"scatter3d\",\"line\":{\"colorbar\":{\"outlinewidth\":0,\"ticks\":\"\"}},\"marker\":{\"colorbar\":{\"outlinewidth\":0,\"ticks\":\"\"}}}],\"scattermapbox\":[{\"type\":\"scattermapbox\",\"marker\":{\"colorbar\":{\"outlinewidth\":0,\"ticks\":\"\"}}}],\"scatterternary\":[{\"type\":\"scatterternary\",\"marker\":{\"colorbar\":{\"outlinewidth\":0,\"ticks\":\"\"}}}],\"scattercarpet\":[{\"type\":\"scattercarpet\",\"marker\":{\"colorbar\":{\"outlinewidth\":0,\"ticks\":\"\"}}}],\"carpet\":[{\"aaxis\":{\"endlinecolor\":\"#2a3f5f\",\"gridcolor\":\"white\",\"linecolor\":\"white\",\"minorgridcolor\":\"white\",\"startlinecolor\":\"#2a3f5f\"},\"baxis\":{\"endlinecolor\":\"#2a3f5f\",\"gridcolor\":\"white\",\"linecolor\":\"white\",\"minorgridcolor\":\"white\",\"startlinecolor\":\"#2a3f5f\"},\"type\":\"carpet\"}],\"table\":[{\"cells\":{\"fill\":{\"color\":\"#EBF0F8\"},\"line\":{\"color\":\"white\"}},\"header\":{\"fill\":{\"color\":\"#C8D4E3\"},\"line\":{\"color\":\"white\"}},\"type\":\"table\"}],\"barpolar\":[{\"marker\":{\"line\":{\"color\":\"#E5ECF6\",\"width\":0.5},\"pattern\":{\"fillmode\":\"overlay\",\"size\":10,\"solidity\":0.2}},\"type\":\"barpolar\"}],\"pie\":[{\"automargin\":true,\"type\":\"pie\"}]},\"layout\":{\"autotypenumbers\":\"strict\",\"colorway\":[\"#636efa\",\"#EF553B\",\"#00cc96\",\"#ab63fa\",\"#FFA15A\",\"#19d3f3\",\"#FF6692\",\"#B6E880\",\"#FF97FF\",\"#FECB52\"],\"font\":{\"color\":\"#2a3f5f\"},\"hovermode\":\"closest\",\"hoverlabel\":{\"align\":\"left\"},\"paper_bgcolor\":\"white\",\"plot_bgcolor\":\"#E5ECF6\",\"polar\":{\"bgcolor\":\"#E5ECF6\",\"angularaxis\":{\"gridcolor\":\"white\",\"linecolor\":\"white\",\"ticks\":\"\"},\"radialaxis\":{\"gridcolor\":\"white\",\"linecolor\":\"white\",\"ticks\":\"\"}},\"ternary\":{\"bgcolor\":\"#E5ECF6\",\"aaxis\":{\"gridcolor\":\"white\",\"linecolor\":\"white\",\"ticks\":\"\"},\"baxis\":{\"gridcolor\":\"white\",\"linecolor\":\"white\",\"ticks\":\"\"},\"caxis\":{\"gridcolor\":\"white\",\"linecolor\":\"white\",\"ticks\":\"\"}},\"coloraxis\":{\"colorbar\":{\"outlinewidth\":0,\"ticks\":\"\"}},\"colorscale\":{\"sequential\":[[0.0,\"#0d0887\"],[0.1111111111111111,\"#46039f\"],[0.2222222222222222,\"#7201a8\"],[0.3333333333333333,\"#9c179e\"],[0.4444444444444444,\"#bd3786\"],[0.5555555555555556,\"#d8576b\"],[0.6666666666666666,\"#ed7953\"],[0.7777777777777778,\"#fb9f3a\"],[0.8888888888888888,\"#fdca26\"],[1.0,\"#f0f921\"]],\"sequentialminus\":[[0.0,\"#0d0887\"],[0.1111111111111111,\"#46039f\"],[0.2222222222222222,\"#7201a8\"],[0.3333333333333333,\"#9c179e\"],[0.4444444444444444,\"#bd3786\"],[0.5555555555555556,\"#d8576b\"],[0.6666666666666666,\"#ed7953\"],[0.7777777777777778,\"#fb9f3a\"],[0.8888888888888888,\"#fdca26\"],[1.0,\"#f0f921\"]],\"diverging\":[[0,\"#8e0152\"],[0.1,\"#c51b7d\"],[0.2,\"#de77ae\"],[0.3,\"#f1b6da\"],[0.4,\"#fde0ef\"],[0.5,\"#f7f7f7\"],[0.6,\"#e6f5d0\"],[0.7,\"#b8e186\"],[0.8,\"#7fbc41\"],[0.9,\"#4d9221\"],[1,\"#276419\"]]},\"xaxis\":{\"gridcolor\":\"white\",\"linecolor\":\"white\",\"ticks\":\"\",\"title\":{\"standoff\":15},\"zerolinecolor\":\"white\",\"automargin\":true,\"zerolinewidth\":2},\"yaxis\":{\"gridcolor\":\"white\",\"linecolor\":\"white\",\"ticks\":\"\",\"title\":{\"standoff\":15},\"zerolinecolor\":\"white\",\"automargin\":true,\"zerolinewidth\":2},\"scene\":{\"xaxis\":{\"backgroundcolor\":\"#E5ECF6\",\"gridcolor\":\"white\",\"linecolor\":\"white\",\"showbackground\":true,\"ticks\":\"\",\"zerolinecolor\":\"white\",\"gridwidth\":2},\"yaxis\":{\"backgroundcolor\":\"#E5ECF6\",\"gridcolor\":\"white\",\"linecolor\":\"white\",\"showbackground\":true,\"ticks\":\"\",\"zerolinecolor\":\"white\",\"gridwidth\":2},\"zaxis\":{\"backgroundcolor\":\"#E5ECF6\",\"gridcolor\":\"white\",\"linecolor\":\"white\",\"showbackground\":true,\"ticks\":\"\",\"zerolinecolor\":\"white\",\"gridwidth\":2}},\"shapedefaults\":{\"line\":{\"color\":\"#2a3f5f\"}},\"annotationdefaults\":{\"arrowcolor\":\"#2a3f5f\",\"arrowhead\":0,\"arrowwidth\":1},\"geo\":{\"bgcolor\":\"white\",\"landcolor\":\"#E5ECF6\",\"subunitcolor\":\"white\",\"showland\":true,\"showlakes\":true,\"lakecolor\":\"white\"},\"title\":{\"x\":0.05},\"mapbox\":{\"style\":\"light\"}}}},                        {\"responsive\": true}                    ).then(function(){\n",
       "                            \n",
       "var gd = document.getElementById('33e86645-4763-4cec-b1d9-e05b8fbf09e0');\n",
       "var x = new MutationObserver(function (mutations, observer) {{\n",
       "        var display = window.getComputedStyle(gd).display;\n",
       "        if (!display || display === 'none') {{\n",
       "            console.log([gd, 'removed!']);\n",
       "            Plotly.purge(gd);\n",
       "            observer.disconnect();\n",
       "        }}\n",
       "}});\n",
       "\n",
       "// Listen for the removal of the full notebook cells\n",
       "var notebookContainer = gd.closest('#notebook-container');\n",
       "if (notebookContainer) {{\n",
       "    x.observe(notebookContainer, {childList: true});\n",
       "}}\n",
       "\n",
       "// Listen for the clearing of the current output cell\n",
       "var outputEl = gd.closest('.output');\n",
       "if (outputEl) {{\n",
       "    x.observe(outputEl, {childList: true});\n",
       "}}\n",
       "\n",
       "                        })                };                            </script>        </div>\n",
       "</body>\n",
       "</html>"
      ]
     },
     "metadata": {},
     "output_type": "display_data"
    }
   ],
   "source": [
    "fig = go.Figure()\n",
    "fig.add_trace(go.Histogram(x=my_bootstrapped_population_sample_means_2, histnorm='probability density', nbinsx=20))\n",
    "fig.show()"
   ]
  },
  {
   "cell_type": "code",
   "execution_count": 12,
   "id": "f15997d37fbef09",
   "metadata": {
    "id": "f15997d37fbef09"
   },
   "outputs": [],
   "source": []
  }
 ],
 "metadata": {
  "colab": {
   "provenance": []
  },
  "kernelspec": {
   "display_name": "Python 3 (ipykernel)",
   "language": "python",
   "name": "python3"
  },
  "language_info": {
   "codemirror_mode": {
    "name": "ipython",
    "version": 3
   },
   "file_extension": ".py",
   "mimetype": "text/x-python",
   "name": "python",
   "nbconvert_exporter": "python",
   "pygments_lexer": "ipython3",
   "version": "3.11.4"
  }
 },
 "nbformat": 4,
 "nbformat_minor": 5
}
