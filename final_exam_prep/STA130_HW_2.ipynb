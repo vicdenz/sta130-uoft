{
 "cells": [
  {
   "cell_type": "markdown",
   "id": "4b0afc16",
   "metadata": {},
   "source": [
    "# Coding Homework 2: [put your name here]\n",
    "\n",
    "Go through this notebook, following the instructions!\n",
    "\n",
    "- TAs will mark this assignment by checking ***MarkUs*** autotests; and, by manually review the written responses to questions `Q7`, `Q8`, `Q10`, and `Q11`.\n",
    "\n",
    "\n",
    "> You can add new cells if you need (with the \"+\" button above); but, deleting or reordering cells could very likely cause your notebook to fail ***MarkUs*** autotesting (and you'd have to start over and re-enter your answers into a completely fresh version of the notebook to get things working again...).\n",
    ">\n",
    "> - ***MarkUs*** autotesting works by running your notebook from top to bottom, and if there's an error when doing this (such as a variable is getting called that hasn't yet been defined, etc.) it can cause automated tests to fail; so, make sure your notebook runs from top to bottom without error once you're done (which you can do by restarting the \"Restart & Run All\" from the \"Kernel\" menu).\n",
    "\n",
    "\n",
    "\n",
    "## The TITANIC Tragedy\n",
    "At the time it departed from England in April 1912, the RMS Titanic was the largest ship in the world. In the night of April 14th to April 15th, the Titanic struck an iceberg and sank approximately 600km south of Newfoundland (a province in eastern Canada). Many people perished in this accident. Data about the passengers who were on board the Titanic at the time of the accident is available in the \"titanic.csv\" file."
   ]
  },
  {
   "cell_type": "code",
   "execution_count": null,
   "id": "b3fce169",
   "metadata": {},
   "outputs": [],
   "source": [
    "# Import/Load Put the \"titanic.csv\" data"
   ]
  },
  {
   "cell_type": "code",
   "execution_count": null,
   "id": "5c9a45a1",
   "metadata": {},
   "outputs": [],
   "source": [
    "# This is a change I made and I will be commiting this change!"
   ]
  },
  {
   "cell_type": "markdown",
   "id": "d503e867",
   "metadata": {},
   "source": [
    "### Q0: How many missing data values are there in the `Age` column\n",
    "> Hint: Remember `.isnull().sum()`?"
   ]
  },
  {
   "cell_type": "code",
   "execution_count": null,
   "id": "462aeb65",
   "metadata": {},
   "outputs": [],
   "source": []
  },
  {
   "cell_type": "code",
   "execution_count": null,
   "id": "c77778b1",
   "metadata": {},
   "outputs": [],
   "source": []
  },
  {
   "cell_type": "code",
   "execution_count": null,
   "id": "609f3f21",
   "metadata": {},
   "outputs": [],
   "source": [
    "# Q0: your answer will be tested!\n",
    "Q0 = None # Assign an integer value to Q0\n",
    "# E.g., Q0 = 1"
   ]
  },
  {
   "cell_type": "code",
   "execution_count": null,
   "id": "b3e9c558",
   "metadata": {},
   "outputs": [],
   "source": [
    "# Since many of their values are missing or unclear, \n",
    "# modify the `titanic` data frame by removing the following variables: \n",
    "# `Ticket_No`, `Boat_or_Body`, `Class_Dept`, `Class_Full`.\n",
    "\n",
    "# Hint 1: https://letmegooglethat.com/?q=how+to+remove+columns+from+a+pandas+data+frame  \n",
    "# Hint 2: ` is different than \"\n",
    "# Hint 3: use `inplace=True`\n"
   ]
  },
  {
   "cell_type": "code",
   "execution_count": null,
   "id": "6ca01891",
   "metadata": {},
   "outputs": [],
   "source": []
  },
  {
   "cell_type": "markdown",
   "id": "18d10e76",
   "metadata": {},
   "source": [
    "### Q1: What is the dimension of the titantic data set after removing the four columns above?\n",
    "> Hint: Remember the `.shape` attribute?  "
   ]
  },
  {
   "cell_type": "code",
   "execution_count": null,
   "id": "9211f336",
   "metadata": {},
   "outputs": [],
   "source": [
    "# Q1: your answer will be tested!\n",
    "Q1 = (None,None) # Assign a `tuple` of two integers to Q1\n",
    "# e.g., (1,2) for 1 row and 2 columns"
   ]
  },
  {
   "cell_type": "markdown",
   "id": "734e5a8e",
   "metadata": {},
   "source": [
    "- The variable `Adut_or_Chld` indicates which passengers were adults and which were children. Change the name of this variable to `Adult_or_Child`. \n",
    "- `MWC` is a little more specific, recording whether the passenger was a man, woman or child. To make this variable name clearer, change the name of `MWC` to `Man_Woman_or_Child`. "
   ]
  },
  {
   "cell_type": "code",
   "execution_count": null,
   "id": "e6188008",
   "metadata": {},
   "outputs": [],
   "source": [
    "# Hint 1: https://letmegooglethat.com/?q=how+to+rename+pandas+columns\n",
    "# Hint 2: use `inplace=True`\n"
   ]
  },
  {
   "cell_type": "code",
   "execution_count": null,
   "id": "1fbccbc7",
   "metadata": {},
   "outputs": [],
   "source": []
  },
  {
   "cell_type": "markdown",
   "id": "748f8d94",
   "metadata": {},
   "source": [
    "### Q2 What is the data type of the following object?\n",
    "\n",
    "```python\n",
    "{'Adut_or_Chld':'Adult_or_Child', 'MWC':'Man_Woman_or_Child'}\n",
    "```\n",
    "\n",
    "A. `dict`  \n",
    "B. `list`  \n",
    "C. `tuple`  \n",
    "D. `str`"
   ]
  },
  {
   "cell_type": "code",
   "execution_count": null,
   "id": "f42177c2",
   "metadata": {},
   "outputs": [],
   "source": [
    "# Q2: your answer will be tested!\n",
    "Q2 = None # Assign either 'A' or 'B' or 'C' or 'D' to `Q2` instead of `None`\n",
    "# E.g., Q1 = 'A'"
   ]
  },
  {
   "cell_type": "markdown",
   "id": "440de144",
   "metadata": {},
   "source": [
    "### Q3: How many passengers were there on the Titanic (`n`) and how many survied (`n_surv`), and what was the survival percentage (`prop_surv`)?\n",
    "> - Hint 1: The line of code below does something called ***coercion***. Try running the line of code to examine what exactly **coercion** is: `True+True, True+False, True, False, type(True+True), type(True+False), type(True), type(False)`\n",
    ">\n",
    ">\n",
    "> - Hint 2: Don't forget about logical (`boolean`) conditional operatators... They can transform entire pandas columns! For example, try `(titanic_data['Survived']=='Alive')`\n",
    ">\n",
    ">\n",
    "> - Hint 3: Columns can also be selected like this `titanic_data.Age` and the `.sum()` method can be applied on a single `pandas` column like this `titanic_data.Age.sum()`"
   ]
  },
  {
   "cell_type": "code",
   "execution_count": null,
   "id": "60fe325d",
   "metadata": {},
   "outputs": [],
   "source": []
  },
  {
   "cell_type": "code",
   "execution_count": null,
   "id": "8910ab1d",
   "metadata": {},
   "outputs": [],
   "source": [
    "# Q3: your answer will be tested!\n",
    "n = None # number of passengers on the the titanic\n",
    "n_surv = None # number of the passengers survived\n",
    "prop_surv = n_surv/n # proportion of passengers that survived\n",
    "Q3 = (n, n_surv,prop_surv) # Assign a `tuple` of three numeric values to Q3"
   ]
  },
  {
   "cell_type": "markdown",
   "id": "e91d677b",
   "metadata": {},
   "source": [
    "### Q4: What were the proportion of deaths for men, women, and children, respectively?\n",
    "\n",
    "#### Provide ALL numeric answers included in your answer `tuple` as `float`  (or the analogous `numpy.float64`) type values <br>rounded to three decimal places.\n",
    "\n",
    "> Hints: \n",
    "> - Start with `(d.Survived!='Alive')`  \n",
    ">\n",
    ">\n",
    "> - A proportion is a `.mean()` of $0$'s and $1$'s  \n",
    ">\n",
    ">\n",
    "> - Remember ***coercion*** with `True` and `False` data types \n",
    ">\n",
    ">\n",
    "> - Use `.groupby(titanic_data.Man_Woman_or_Child)` and you can add the `.mean()` method onto the end of this action...\n",
    ">\n",
    ">\n",
    "> - After importing `numpy` as `import numpy as np` you can round with `np.round(0.1234,3)`"
   ]
  },
  {
   "cell_type": "code",
   "execution_count": null,
   "id": "1763c878",
   "metadata": {},
   "outputs": [],
   "source": []
  },
  {
   "cell_type": "code",
   "execution_count": null,
   "id": "6e501bf2",
   "metadata": {},
   "outputs": [],
   "source": [
    "# Q4: your answer will be tested!\n",
    "prop_die_men = None # Round to 3 decimal places using `np.round(0.1234,3)`\n",
    "prop_die_women = None \n",
    "prop_die_children= None \n",
    "Q4 = (prop_die_men, prop_die_women, prop_die_children) \n",
    "# Assign a `tuple` of three `float`s to Q4, e.g., `(0.123, 0.456, 0.789)`... watch out 9, 7 bites!"
   ]
  },
  {
   "cell_type": "markdown",
   "id": "b333de92",
   "metadata": {},
   "source": [
    "### Q5: What was the proportion of deaths for passengers between 25-40 years of age?\n",
    "\n",
    "#### Provide ALL numeric answers as `float` (or the analogous `numpy.float64`) type values rounded to three decimal places.\n",
    "\n",
    "> Hints: \n",
    "> - Assume \"between\" is inclusive so that you use `>=` and `<=`\n",
    ">\n",
    ">\n",
    "> - Suppose you have two columns of conditions, `column_of_TrueFalse_1` and `column_of_TrueFalse_1`: you can require\n",
    ">   - both be true using `column_of_TrueFalse_1 & column_of_TrueFalse_2`\n",
    ">   - or either to be true using `column_of_TrueFalse_1 | column_of_TrueFalse_2`"
   ]
  },
  {
   "cell_type": "code",
   "execution_count": null,
   "id": "9ed9f9ba",
   "metadata": {},
   "outputs": [],
   "source": []
  },
  {
   "cell_type": "code",
   "execution_count": null,
   "id": "678bd609",
   "metadata": {},
   "outputs": [],
   "source": [
    "# Q5: your answer will be tested!\n",
    "Q5 = None # Assign a `float` numeric value to Q5\n",
    "# Round to 3 decimal places using `np.round(0.1234,3)`"
   ]
  },
  {
   "cell_type": "markdown",
   "id": "08ea357f",
   "metadata": {},
   "source": [
    "### Q6: What was the proportion of deaths for men, women, and children among passengers who paid more than 50 British pounds for their tickets?\n",
    "\n",
    "#### Provide ALL numeric answers included in your answer `tuple` as `float`  (or the analogous `numpy.float64`) type values <br>rounded to three decimal places.\n",
    "\n",
    "\n",
    "> Hint: \"more than\" here is strict so use `>`; and, assume the `Paid` column is in British pounds.\n"
   ]
  },
  {
   "cell_type": "code",
   "execution_count": null,
   "id": "c0a83d29",
   "metadata": {},
   "outputs": [],
   "source": []
  },
  {
   "cell_type": "code",
   "execution_count": null,
   "id": "fa2bfe92",
   "metadata": {},
   "outputs": [],
   "source": [
    "# Q6: your answer will be tested!\n",
    "prop_die_men_richtix = None # Round to 3 decimal places using `np.round(0.1234,3)`\n",
    "prop_die_women_richtix = None\n",
    "prop_die_children_richtix = None\n",
    "Q6 = (prop_die_men_richtix, prop_die_women_richtix, prop_die_children_richtix) \n",
    "# Assign a `tuple` of three `float`s to Q6, e.g., `(0.123, 0.456, 0.789)`... watch out 9, 7 bites!"
   ]
  },
  {
   "cell_type": "markdown",
   "id": "4bc60040",
   "metadata": {},
   "source": [
    "### Q7: Write several sentences comparing and contrasting your results for Q6 relative to Q4.\n",
    "Provide your written answer in the markdown cell below.\n",
    "- This will be manually reviewed. "
   ]
  },
  {
   "cell_type": "markdown",
   "id": "668d1d46",
   "metadata": {},
   "source": [
    "> Answer here... \n",
    " \n",
    " \n",
    " \n",
    " "
   ]
  },
  {
   "cell_type": "markdown",
   "id": "cae5b571",
   "metadata": {},
   "source": [
    "### Q8: What was the most common job among passengers of the Titanic? \n",
    "\n",
    "A. General Labourer  \n",
    "B. Fireman  \n",
    "C. Trimmer  \n",
    "D. Saloon Steward\n",
    "\n",
    "Write 1-2 sentences explaining the code used to produce your answer in the markdown cell below.\n",
    "- This will be reviewed manually. \n",
    "\n",
    "> Hint 1: the `groupby`, `.size()`, or  and `sort_values()` methods would be helpful...  \n",
    "> Hint 2: or the `value_counts()` would be helpful...  \n",
    "> Hint 3: https://letmegooglethat.com/?q=how+do+I+sort+a+pandas+data+frame+by+a+column"
   ]
  },
  {
   "cell_type": "markdown",
   "id": "74951320",
   "metadata": {},
   "source": [
    "> Answer here...\n",
    "\n",
    "\n",
    "\n"
   ]
  },
  {
   "cell_type": "code",
   "execution_count": null,
   "id": "20f9d616",
   "metadata": {},
   "outputs": [],
   "source": [
    "# Cell for scratch work to figure out the answers above...\n",
    "# You could add additional cell if you need to below here with the \"+\" button in the toolbar below the menu bar\n"
   ]
  },
  {
   "cell_type": "code",
   "execution_count": null,
   "id": "3afa0871",
   "metadata": {},
   "outputs": [],
   "source": [
    "# Q8: your answer will be tested!\n",
    "Q8 = None # Assign either 'A' or 'B' or 'C' or 'D' to `Q2` instead of `None`\n",
    "# E.g., Q1 = 'A'"
   ]
  },
  {
   "cell_type": "markdown",
   "id": "508e2159",
   "metadata": {},
   "source": [
    "### Q9: Were any of the general labourers on the titanic women? If so, how many?"
   ]
  },
  {
   "cell_type": "code",
   "execution_count": null,
   "id": "e9f8437f",
   "metadata": {},
   "outputs": [],
   "source": []
  },
  {
   "cell_type": "code",
   "execution_count": null,
   "id": "67869265",
   "metadata": {},
   "outputs": [],
   "source": [
    "# Q9: your answer will be tested!\n",
    "Q9 = None # Assign an integer value to Q9\n",
    "# E.g., Q9 = 1"
   ]
  },
  {
   "cell_type": "markdown",
   "id": "9dd637eb",
   "metadata": {},
   "source": [
    "### Q10: What are the names of the passengers with the top 4 most expensive tickets? Did these passengers survive the accident?\n",
    "\n",
    "Output a table with four rows for this question.\n",
    "- This will be reviewed manually.\n",
    "\n",
    "> Hint: use `.head(4)`"
   ]
  },
  {
   "cell_type": "code",
   "execution_count": null,
   "id": "cebdeb68",
   "metadata": {},
   "outputs": [],
   "source": []
  },
  {
   "cell_type": "markdown",
   "id": "6f0a6db1",
   "metadata": {},
   "source": [
    "### Q11: Write a couple paragraphs paraphrasing the output of the code in the cell below.\n",
    "\n",
    "Don't spend more than 15 minutes on this.\n",
    "- This will be reviewed manually.\n",
    "\n",
    "\n",
    "> Hints:\n",
    "> - `mean` is the \"average\"\n",
    "> - `std` stands for \"standard deviation\" and measures the spead of the data\n",
    "> - `min` and `max` are the smallest and largest values, respectively\n",
    "> - The percentages are \"percentiles\"; so, e.g., the 50th percentile is the \"median\"\n"
   ]
  },
  {
   "cell_type": "code",
   "execution_count": null,
   "id": "7553d79f",
   "metadata": {},
   "outputs": [],
   "source": [
    "pd.read_csv(\"titanic.csv\").rename(columns={'MWC':'Man_Woman_or_Child'}).groupby('Man_Woman_or_Child').describe()"
   ]
  },
  {
   "cell_type": "markdown",
   "id": "0852132e",
   "metadata": {},
   "source": [
    "> Answer here...\n",
    "\n",
    "\n",
    "\n"
   ]
  },
  {
   "cell_type": "markdown",
   "id": "f95bb4a6",
   "metadata": {},
   "source": [
    "# Tutorial Preparation\n",
    "\n",
    "Your ***Tutorial Assignment*** this week is the following:\n",
    "\n",
    "> Use your newly acquired ***Data Wrangling*** skills\n",
    "> - `.groupby()` with the `.sum()` or `.mean()` \"aggregation functions\"\n",
    "> - `.describe()`,`.value_counts()` and `sort_values()`\n",
    "> - in conjunction with some interesting ***boolean selection*** choices \n",
    "> \n",
    "> to explore and subsequently describe the `oly12countries.csv` and/or `oly12athletes.csv` data<br>and some findings of note that you feel are worth reporting.\n",
    "> \n",
    "> - As you report your various findings, additionally paraphrase the coding that produced each result, but **don't include any code in your written submission.**\n",
    "> \n",
    "> Write this as if you were explaining to your boss what you're seeing in the data, and what the coding that you did was to uncover what you found. \n",
    "\n",
    "***You will not have enough time to fully complete this assignment in tutorial; so, you may want to get started early, especially now while you have some coding ideas fresh in your mind.***"
   ]
  },
  {
   "cell_type": "code",
   "execution_count": null,
   "id": "7d94a537",
   "metadata": {},
   "outputs": [],
   "source": [
    "pd.read_csv('oly12countries.csv')"
   ]
  },
  {
   "cell_type": "code",
   "execution_count": null,
   "id": "3a78a881",
   "metadata": {},
   "outputs": [],
   "source": [
    "pd.read_csv('oly12athletes.csv')"
   ]
  }
 ],
 "metadata": {
  "kernelspec": {
   "display_name": "Python 3 (ipykernel)",
   "language": "python",
   "name": "python3"
  },
  "language_info": {
   "codemirror_mode": {
    "name": "ipython",
    "version": 3
   },
   "file_extension": ".py",
   "mimetype": "text/x-python",
   "name": "python",
   "nbconvert_exporter": "python",
   "pygments_lexer": "ipython3",
   "version": "3.11.4"
  }
 },
 "nbformat": 4,
 "nbformat_minor": 5
}
