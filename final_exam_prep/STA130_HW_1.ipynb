{
 "cells": [
  {
   "cell_type": "markdown",
   "id": "7d79d899",
   "metadata": {},
   "source": [
    "# Coding Homework 1: [put your name here]\n",
    "\n",
    "Go through this notebook, following the instructions! \n",
    "\n",
    "> TAs will mark this assignment by checking ***MarkUs*** autotests.\n"
   ]
  },
  {
   "cell_type": "code",
   "execution_count": null,
   "id": "b2813adc",
   "metadata": {},
   "outputs": [],
   "source": [
    "# Hi -- I'm a comment!\n",
    "# I'm just words -- I don't do anything else"
   ]
  },
  {
   "cell_type": "code",
   "execution_count": null,
   "id": "e4c7ffaf",
   "metadata": {},
   "outputs": [],
   "source": [
    "# Run this cell by pressing \"Shift-Enter\"\n",
    "1+1"
   ]
  },
  {
   "cell_type": "code",
   "execution_count": null,
   "id": "65138e62",
   "metadata": {},
   "outputs": [],
   "source": [
    "# Run this cell by pressing \"Shift-Enter\"\n",
    "# this time assigning the value into the `one_plus_one_is_two` object\n",
    "one_plus_one_is_two = 1+1"
   ]
  },
  {
   "cell_type": "code",
   "execution_count": null,
   "id": "dce4d2d2",
   "metadata": {},
   "outputs": [],
   "source": [
    "# Run this cell by pressing \"Shift-Enter\"\n",
    "one_plus_one_is_two"
   ]
  },
  {
   "cell_type": "code",
   "execution_count": null,
   "id": "0753be78",
   "metadata": {},
   "outputs": [],
   "source": [
    "# Your homework submission will be automatically evaluated\n",
    "# on MarkUs using `assert` statement tests like this one\n",
    "assert one_plus_one_is_two == 2, False"
   ]
  },
  {
   "cell_type": "code",
   "execution_count": null,
   "id": "84d4e10c",
   "metadata": {
    "markus": {
     "skip": true
    }
   },
   "outputs": [],
   "source": [
    "# Assuming `one_plus_one_is_two` has the value from the earlier cells\n",
    "# the above test will pass, but the following test will fail\n",
    "assert 1+one_plus_one_is_two == 2, False"
   ]
  },
  {
   "cell_type": "code",
   "execution_count": null,
   "id": "a832d9c3",
   "metadata": {},
   "outputs": [],
   "source": [
    "# Assuming `one_plus_one_is_two` has the value of `2`, notice that \n",
    "# `1+one_plus_one_is_two` is execuated before the ` == 2` condition is checked...\n",
    "# This is an \"order of operations\" thing"
   ]
  },
  {
   "cell_type": "markdown",
   "id": "f3638caf",
   "metadata": {},
   "source": [
    "- `True` and `False` are `bool` (\"boolean\") or \"logical\" data types\n",
    "- `2` is an `int` (\"integer\") data type\n",
    "- `==` is a logical condition check and produces `True` or `False` values\n",
    "    - Other logical conditions are `<`, `<=`, `>`, `>=`, `!=`"
   ]
  },
  {
   "cell_type": "code",
   "execution_count": null,
   "id": "39f138c7",
   "metadata": {},
   "outputs": [],
   "source": [
    "type(True),type(False),type(2)"
   ]
  },
  {
   "cell_type": "code",
   "execution_count": null,
   "id": "bb49d494",
   "metadata": {},
   "outputs": [],
   "source": [
    "# Any idea what `!=` does?\n",
    "# You could test it out in this cell...\n"
   ]
  },
  {
   "cell_type": "markdown",
   "id": "d2642a45",
   "metadata": {},
   "source": [
    "- Any time you want to create a new cell, just press the \"+\" button in the tool bar above\n",
    "    - This is great for testing out code to see what it does"
   ]
  },
  {
   "cell_type": "code",
   "execution_count": null,
   "id": "e63d061a",
   "metadata": {},
   "outputs": [],
   "source": [
    "# Run this cell\n",
    "import pandas as pd"
   ]
  },
  {
   "cell_type": "markdown",
   "id": "9f9df662",
   "metadata": {},
   "source": [
    "!['pandapandapanda'](https://i.pinimg.com/474x/6a/18/df/6a18dff64059bb388ed1046c0f2cc350.jpg)"
   ]
  },
  {
   "cell_type": "code",
   "execution_count": null,
   "id": "760c4cfd",
   "metadata": {},
   "outputs": [],
   "source": [
    "from IPython.display import YouTubeVideo\n",
    "# Recommended soundtrack for doing pandas in python\n",
    "YouTubeVideo('E5ONTXHS2mM', width=800, height=500)"
   ]
  },
  {
   "cell_type": "code",
   "execution_count": null,
   "id": "08d52402",
   "metadata": {},
   "outputs": [],
   "source": [
    "# monty python style\n",
    "YouTubeVideo('SJUhlRoBL8M', width=800, height=500)"
   ]
  },
  {
   "cell_type": "code",
   "execution_count": null,
   "id": "6ee4544a",
   "metadata": {},
   "outputs": [],
   "source": [
    "# Run this cell and all the next ones, too\n",
    "coffee_ratings = pd.read_csv(\"coffee_ratings.csv\")"
   ]
  },
  {
   "cell_type": "code",
   "execution_count": null,
   "id": "944d27c8",
   "metadata": {},
   "outputs": [],
   "source": [
    "coffee_ratings"
   ]
  },
  {
   "cell_type": "code",
   "execution_count": null,
   "id": "a7f3b3ec",
   "metadata": {},
   "outputs": [],
   "source": [
    "coffee_ratings.head()"
   ]
  },
  {
   "cell_type": "code",
   "execution_count": null,
   "id": "d4e6db75",
   "metadata": {},
   "outputs": [],
   "source": [
    "coffee_ratings.head(7)"
   ]
  },
  {
   "cell_type": "code",
   "execution_count": null,
   "id": "e1c7fa74",
   "metadata": {},
   "outputs": [],
   "source": [
    "coffee_ratings.iloc[:7,:]"
   ]
  },
  {
   "cell_type": "code",
   "execution_count": null,
   "id": "f6b05398",
   "metadata": {},
   "outputs": [],
   "source": [
    "coffee_ratings.iloc[:5,:5]"
   ]
  },
  {
   "cell_type": "code",
   "execution_count": null,
   "id": "0061ace4",
   "metadata": {},
   "outputs": [],
   "source": [
    "del coffee_ratings"
   ]
  },
  {
   "cell_type": "code",
   "execution_count": null,
   "id": "522f042b",
   "metadata": {
    "markus": {
     "skip": true
    }
   },
   "outputs": [],
   "source": [
    "# What did running the cell above do?\n",
    "coffee_ratings"
   ]
  },
  {
   "cell_type": "code",
   "execution_count": null,
   "id": "b63cb1a1",
   "metadata": {},
   "outputs": [],
   "source": [
    "pd.read_csv(\"coffee_ratings.csv\").head()"
   ]
  },
  {
   "cell_type": "code",
   "execution_count": null,
   "id": "7e4597f7",
   "metadata": {
    "markus": {
     "skip": true
    }
   },
   "outputs": [],
   "source": [
    "coffee_ratings"
   ]
  },
  {
   "cell_type": "code",
   "execution_count": null,
   "id": "653d09ac",
   "metadata": {},
   "outputs": [],
   "source": [
    "# Why didn't the cell above work?\n",
    "coffee_ratings = pd.read_csv(\"coffee_ratings.csv\")"
   ]
  },
  {
   "cell_type": "code",
   "execution_count": null,
   "id": "e80722c5",
   "metadata": {},
   "outputs": [],
   "source": [
    "coffee_ratings"
   ]
  },
  {
   "cell_type": "code",
   "execution_count": null,
   "id": "6d1871de",
   "metadata": {
    "markus": {
     "skip": true
    }
   },
   "outputs": [],
   "source": [
    "# Why doesn't this cell work?\n",
    "np.read_csv(\"coffee_ratings.csv\")"
   ]
  },
  {
   "cell_type": "markdown",
   "id": "29c19d8c",
   "metadata": {},
   "source": [
    "### Q1: When would `pd.read_csv(\"coffee_ratings.csv\")` not work?\n",
    "\n",
    "A. It will always work  \n",
    "B. When `import pandas` hasn't been previously run  \n",
    "C. When `import pandas as pd` hasn't been previously run  \n",
    "D. When `import pandas as pd` has been previously run but `import numpy as np` has not been previously run\n"
   ]
  },
  {
   "cell_type": "code",
   "execution_count": null,
   "id": "30925502",
   "metadata": {},
   "outputs": [],
   "source": [
    "# Q1: your answer will be tested!\n",
    "Q1 = None # Assign either 'A' or 'B' or 'C' or 'D' to `Q1` instead of `None`\n",
    "# E.g., Q1 = 'A'"
   ]
  },
  {
   "cell_type": "code",
   "execution_count": null,
   "id": "f6f4eb85",
   "metadata": {},
   "outputs": [],
   "source": [
    "# Notice that the `Q1` object above is being assing a `str` (\"string\") value\n",
    "type('A')"
   ]
  },
  {
   "cell_type": "markdown",
   "id": "a78c44ce",
   "metadata": {},
   "source": [
    "### Q2: Why else might `pd.read_csv(\"coffee_ratings.csv\")` not work?\n",
    "\n",
    "A. As long as `import pandas as pd` has been previously run it will work  \n",
    "B. If the \"coffee_ratings.csv\" file doesn't exist!  \n",
    "C. When `import numpy as pd` hasn't been previously run  \n",
    "D. If `import pandas as pd` has been previously run but `import numpy as np` is run"
   ]
  },
  {
   "cell_type": "code",
   "execution_count": null,
   "id": "d7778a5f",
   "metadata": {},
   "outputs": [],
   "source": [
    "# Q2: your answer will be tested!\n",
    "Q2 = None # Assign either 'A' or 'B' or 'C' or 'D' to `Q1` instead of `None`"
   ]
  },
  {
   "cell_type": "code",
   "execution_count": null,
   "id": "fe22b8fe",
   "metadata": {},
   "outputs": [],
   "source": [
    "# Q2: this is an example of how these tests work \n",
    "assert Q2=='B', \"Answer is 'B'!\"\n",
    "# Do you 'see' why 'C' is wrong here?"
   ]
  },
  {
   "cell_type": "code",
   "execution_count": null,
   "id": "b813ef35",
   "metadata": {},
   "outputs": [],
   "source": [
    "coffee_ratings.describe()"
   ]
  },
  {
   "cell_type": "code",
   "execution_count": null,
   "id": "ad439365",
   "metadata": {},
   "outputs": [],
   "source": [
    "coffee_ratings.dtypes"
   ]
  },
  {
   "cell_type": "code",
   "execution_count": null,
   "id": "07e41640",
   "metadata": {},
   "outputs": [],
   "source": [
    "coffee_ratings.shape"
   ]
  },
  {
   "cell_type": "markdown",
   "id": "d7060766",
   "metadata": {},
   "source": [
    "### Q3: How many `columns` does the `coffee_ratings` have?\n",
    "> Hint: this is reported by the `.head()` function, and does not count the \"index\""
   ]
  },
  {
   "cell_type": "code",
   "execution_count": null,
   "id": "d1e7fea3",
   "metadata": {},
   "outputs": [],
   "source": [
    "# Q3: your answer will be tested!\n",
    "Q3 = None # Assign an integer number such as 18, 36, or 1338\n",
    "# E.g., Q1 = 18 \n",
    "# (as opposed to '18')"
   ]
  },
  {
   "cell_type": "markdown",
   "id": "b2367702",
   "metadata": {},
   "source": [
    "### Q4: How many `rows` does the `coffee_ratings` have?\n",
    "> Hint: the `.shape` attribute, e.g., `coffee_ratings.shape` will provide the correct answer, and does not count the \"header\""
   ]
  },
  {
   "cell_type": "code",
   "execution_count": null,
   "id": "a82cb902",
   "metadata": {},
   "outputs": [],
   "source": [
    "# Q4: your answer will be tested!\n",
    "Q4 = None # Assign an integer number such as 18, 36, or 1338"
   ]
  },
  {
   "cell_type": "code",
   "execution_count": null,
   "id": "cd0ebbda",
   "metadata": {},
   "outputs": [],
   "source": [
    "# Yet another data type...\n",
    "type((1338, 36))"
   ]
  },
  {
   "cell_type": "markdown",
   "id": "5d5ec440",
   "metadata": {},
   "source": [
    "### Q5: What is the type of `coffee_ratings`?\n",
    "\n",
    "A. `tuple`  \n",
    "B. `pandas`  \n",
    "C. `coffee_ratings`  \n",
    "D. `pandas.core.frame.DataFrame` (or just `DataFrame` for short)\n"
   ]
  },
  {
   "cell_type": "code",
   "execution_count": null,
   "id": "0c2fee82",
   "metadata": {},
   "outputs": [],
   "source": [
    "# Q5: your answer will be tested!\n",
    "Q5 = None # Assign either 'A' or 'B' or 'C' or 'D' to `Q1` instead of `None`"
   ]
  },
  {
   "cell_type": "markdown",
   "id": "ed96702e",
   "metadata": {},
   "source": [
    "### Q6: What information does the `.shape` attribute of a `DataFrame` have?\n",
    "\n",
    "A. A `tuple` of the form (`rows`, `columns`)  \n",
    "B. A `tuple` of the form (`columns`, `rows`)    \n",
    "C. A `DataFrame`  does not have a `.shape`  \n",
    "D. None of the above"
   ]
  },
  {
   "cell_type": "code",
   "execution_count": null,
   "id": "0cf31fa7",
   "metadata": {},
   "outputs": [],
   "source": [
    "# Q6: your answer will be tested!\n",
    "Q6 = None # Assign either 'A' or 'B' or 'C' or 'D' to `Q1` instead of `None`"
   ]
  },
  {
   "cell_type": "markdown",
   "id": "87f05cc0",
   "metadata": {},
   "source": [
    "### Q7: What is the difference between `.head()` and `.shape`?\n",
    "> Hint: an attribute is meta-data like information about an object that can be accessed directly, whereas a function needs to process and transform an object to determine its result\n",
    "\n",
    "A. The former is an \"attribute\" while the latter is a \"function\"  \n",
    "B. The former is an \"function\" while the latter is a \"attribute\"  \n",
    "C. There is not difference between these two  \n",
    "D. None of the above"
   ]
  },
  {
   "cell_type": "code",
   "execution_count": null,
   "id": "2c043567",
   "metadata": {},
   "outputs": [],
   "source": [
    "# Q7: your answer will be tested!\n",
    "Q7 = None # Assign either 'A' or 'B' or 'C' or 'D' to `Q1` instead of `None`"
   ]
  },
  {
   "cell_type": "markdown",
   "id": "d0d117ae",
   "metadata": {},
   "source": [
    "### Q8: What is the \"default value\" of the parameter of the `.head()` function?\n",
    "> Hint: both `.head()` and `.head(7)` were called above, so when `.head()` is called it is using a \"default value\" for its argument"
   ]
  },
  {
   "cell_type": "code",
   "execution_count": null,
   "id": "5a03100f",
   "metadata": {},
   "outputs": [],
   "source": [
    "# Q8: your answer will be tested!\n",
    "Q8 = None # Assign an integer number such as 18, 36, or 1338"
   ]
  },
  {
   "cell_type": "markdown",
   "id": "15471447",
   "metadata": {},
   "source": [
    "### Q9: How do `python` and `pandas` index?\n",
    "> Hint: look at the leftmost side of the output of the `coffee_ratings.head()`\n",
    "\n",
    "A. Starting from `0`: `0, 1, 2, 3, ...`  \n",
    "B. Starting from `1`: `1, 2, 3, 4, ...`  \n",
    "C. None of the above  \n",
    "D. What?"
   ]
  },
  {
   "cell_type": "code",
   "execution_count": null,
   "id": "4ab7c78b",
   "metadata": {},
   "outputs": [],
   "source": [
    "# Q9: your answer will be tested!\n",
    "Q9 = None # Assign either 'A' or 'B' or 'C' or 'D' to `Q1` instead of `None`"
   ]
  },
  {
   "cell_type": "markdown",
   "id": "6cf3651d",
   "metadata": {},
   "source": [
    "# Avatar: The Last Airbender\n",
    "\n",
    "![](https://i.ytimg.com/vi/lLvoZ5Wsf94/maxresdefault.jpg)\n"
   ]
  },
  {
   "cell_type": "markdown",
   "id": "44dafcfc",
   "metadata": {},
   "source": [
    "\n",
    "We will now turn to data about the old TV show Avatar: The Last Airbender. The data is stored in the file `avatar.csv` in the same directory as this file.\n",
    "\n",
    "> This data was posted on [github](https://github.com/) by user\n",
    "[averyrobbins1](https://github.com/averyrobbins1/appa) and subsequently featured on [Tidy Tuesday](https://github.com/rfordatascience/tidytuesday/blob/master/data/2020/2020-08-11/readme.md). "
   ]
  },
  {
   "cell_type": "markdown",
   "id": "1cebfd88",
   "metadata": {},
   "source": [
    "### Q10: How many rows and columns does the \"avatar.csv\" data set have?"
   ]
  },
  {
   "cell_type": "code",
   "execution_count": null,
   "id": "203141db",
   "metadata": {},
   "outputs": [],
   "source": [
    "# Q10: your answer will be tested!\n",
    "Q10 = (None,None) # Assign a `tuple` of two integers\n",
    "# e.g., (1,2) for 1 row and 2 columns"
   ]
  }
 ],
 "metadata": {
  "celltoolbar": "Edit Metadata",
  "kernelspec": {
   "display_name": "Python 3 (ipykernel)",
   "language": "python",
   "name": "python3"
  },
  "language_info": {
   "codemirror_mode": {
    "name": "ipython",
    "version": 3
   },
   "file_extension": ".py",
   "mimetype": "text/x-python",
   "name": "python",
   "nbconvert_exporter": "python",
   "pygments_lexer": "ipython3",
   "version": "3.9.5"
  }
 },
 "nbformat": 4,
 "nbformat_minor": 5
}
