{
 "cells": [
  {
   "cell_type": "markdown",
   "id": "4b0afc16",
   "metadata": {},
   "source": [
    "# Coding Homework 3: [Your Name]\n",
    "\n",
    "Go through this notebook, following the instructions! \n",
    "\n",
    "- TAs will mark this assignment by checking ***MarkUs*** autotests; then, manually confirming the correctness of plots in `Q4` and `Q10`; then, manually reviewing the written response to question `Q17`. TAs may or may not spot check the presence of plots and written answers for `Q13`, `Q14`, `Q15`, and `Q18`.\n",
    "  - The following questions \"automatically fail\" during automated testing so that MarkUs exposes example answers for student review and consideration for these problems.  These \"failed MarkUs tests\" are not counted against the student: `Q6`, `Q11`, `Q13`, `Q14` and `Q15`\n",
    "\n",
    "> You can add new cells if you need (with the \"+\" button above); but, deleting or reordering cells could very likely cause your notebook to fail ***MarkUs*** autotesting (and you'd have to start over and re-enter your answers into a completely fresh version of the notebook to get things working again...).\n",
    ">\n",
    "> - ***MarkUs*** autotesting works by running your notebook from top to bottom, and if there's an error when doing this (such as a variable is getting called that hasn't yet been defined, etc.) it can cause automated tests to fail; so, make sure your notebook runs from top to bottom without error once you're done (which you can do by restarting the \"Restart & Run All\" from the \"Kernel\" menu).\n",
    "\n",
    "\n",
    "# Super Bowl Commercials!\n",
    "\n",
    "The Super Bowl is the annual championship game of the National Football League (NFL) in the United States, drawing massive viewership and having major cultural significance. Data about the commercials shown during past Super Bowls are available in the \"superbowl_ads.csv\" file.\n",
    "> This data was posted on [github](https://github.com/fivethirtyeight/superbowl-ads#super-bowl-ads) by the data-oriented reporting outlet [FiveThirtyEight](https://github.com/fivethirtyeight) and subsequently featured on [Tidy Tuesday](https://github.com/rfordatascience/tidytuesday/blob/master/data/2021/2021-03-02/readme.md).  For more information see the above links."
   ]
  },
  {
   "cell_type": "code",
   "execution_count": 1,
   "id": "b3fce169",
   "metadata": {},
   "outputs": [],
   "source": [
    "# Import/Load the \"superbowl_ads.csv\" data\n",
    "# \"superbowl_ads.csv\" will be available in the same directory as your notebook; so, ...\n",
    "# you should NOT path to it with some directory structure, such as \"../data/superbowl_ads.csv\""
   ]
  },
  {
   "cell_type": "code",
   "execution_count": null,
   "id": "7749bfc5",
   "metadata": {},
   "outputs": [],
   "source": []
  },
  {
   "cell_type": "markdown",
   "id": "6252ad14",
   "metadata": {},
   "source": [
    "## Refining Numerical and Categorical Variables\n",
    "\n",
    "The notion of numeric data types versus non-numeric data types, like numbers versus words, should be fairly intuitive to you.  And therefore, the distinction between numeric and categorical variables should hopefully also be fairly clear as well.  Actually, for technical clarity and communication, it can sometimes be beneficial to break down variables into even finer categories.\n",
    "\n",
    "- Note that categorical/qualitative data types can be encoded as numerical values. E.g., **ordinal** values could reported as integer scores \"1, 2, 3, 4, 5, etc.\", and so could **nominal** values as long as we remember that the numeric order doesn't matter.  **Binary** variables are a simple example since they could be recorded as either $0$ or $1$. An easy example of a **binary variables** is a **logical/boolean** value like how `python` has `True` and `False` values.  In the case of **logical/boolean** values it is standard to coerce `False` to $0$ and `True` to $1$ whenever actual numeric values are required in place of **logical/boolean** values."
   ]
  },
  {
   "cell_type": "markdown",
   "id": "3d532ff3",
   "metadata": {},
   "source": [
    "#### Data types can further be split into subtypes, as seen in the graphic below:\n",
    "\n",
    "| | |\n",
    "|-|-|\n",
    "|![](https://pbs.twimg.com/media/EkoDNU6U0AISh-u.jpg)|![](https://pbs.twimg.com/media/Ehh6v4kVoAIbotc.jpg:large)|\n",
    "\n",
    "> If the images above are not showing... Download https://github.com/pointOfive/STA130_F23/blob/main/Homework/im/3/HW3_data_types.JPG, make a folder called `im` next to this `.ipynb` notebook, then make a folder called `3` inside the `im` directory, then put \"HW3_data_types.JPG\" into that 'im/3/' path, and then add the Markdown code `![](im/3/HW3_data_types.JPG)` into this cell. Or just put \"HW3_data_types.JPG\" in the same folder as the `.ipynb` notebook and put add the Markdown code `![](HW3_data_types.JPG)` into this cell.\n"
   ]
  },
  {
   "cell_type": "markdown",
   "id": "d503e867",
   "metadata": {},
   "source": [
    "### Q0: Which of these best describes the data type of the `brand` variable?\n",
    "A. Nominal Categorical      \n",
    "B. Ordinal Categorical  \n",
    "C. Continuous  \n",
    "D. Discrete  \n",
    "E. Binary/Boolean"
   ]
  },
  {
   "cell_type": "code",
   "execution_count": 1,
   "id": "c77778b1",
   "metadata": {},
   "outputs": [],
   "source": [
    "# Q0: your answer will be tested!\n",
    "Q0 = None # Assign either 'A', 'B', 'C', 'D', or 'E' to `Q0` instead of `None`\n",
    "# E.g., Q0 = 'A'"
   ]
  },
  {
   "cell_type": "markdown",
   "id": "c4a20626",
   "metadata": {},
   "source": [
    "### Q1: Which of these best describes the data type of the `view_count` variable?\n",
    "A. Nominal Categorical      \n",
    "B. Ordinal Categorical  \n",
    "C. Continuous  \n",
    "D. Discrete  \n",
    "E. Binary/Boolean"
   ]
  },
  {
   "cell_type": "code",
   "execution_count": 1,
   "id": "6b6060f8",
   "metadata": {},
   "outputs": [],
   "source": [
    "# Q1: your answer will be tested!\n",
    "Q1 = None # Assign either 'A', 'B', 'C', 'D', or 'E' to `Q1` instead of `None`\n",
    "# E.g., Q1 = 'A'"
   ]
  },
  {
   "cell_type": "markdown",
   "id": "db1f1564",
   "metadata": {},
   "source": [
    "### Q2: Which of these best describes the data type of the `funny` variable?\n",
    "A. Nominal Categorical      \n",
    "B. Ordinal Categorical  \n",
    "C. Continuous  \n",
    "D. Discrete  \n",
    "E. Binary/Boolean"
   ]
  },
  {
   "cell_type": "code",
   "execution_count": 16,
   "id": "c1670e7a",
   "metadata": {},
   "outputs": [],
   "source": [
    "# Q2: your answer will be tested!\n",
    "Q2 = None # Assign either 'A', 'B', 'C', 'D', or 'E' to `Q2` instead of `None`\n",
    "# E.g., Q2 = 'A'"
   ]
  },
  {
   "cell_type": "markdown",
   "id": "d978c39e",
   "metadata": {},
   "source": [
    "### Q3: Which of *these* best describes the data type of the `funny` variable?\n",
    "> Note: This is not a mistake!    \n",
    "\n",
    "A. Nominal Categorical      \n",
    "B. Ordinal Categorical  \n",
    "C. Continuous  \n",
    "D. Discrete   "
   ]
  },
  {
   "cell_type": "code",
   "execution_count": 16,
   "id": "dac516f7",
   "metadata": {},
   "outputs": [],
   "source": [
    "# Q3: your answer will be tested!\n",
    "Q3 = None # Assign either 'A', 'B', 'C', or 'D' to `Q3` instead of `None`\n",
    "# E.g., Q3 = 'A'"
   ]
  },
  {
   "cell_type": "markdown",
   "id": "18d10e76",
   "metadata": {},
   "source": [
    "### Q4: Create 3 histograms to explore the distribution of `view_count`: (i) one with 2 bins, (ii) one with 4 to 8 bins, and (iii) one with about 50 bins. \n",
    "> - Hint 1: Remember to import `plotly.express`!  \n",
    "> - Hint 2: Googling \"plotly hisotgrams\" is the trick if you don't immediately remember how to do this\n",
    "\n",
    "- This will be manually reviewed. "
   ]
  },
  {
   "cell_type": "code",
   "execution_count": 6,
   "id": "804f9d88",
   "metadata": {},
   "outputs": [],
   "source": []
  },
  {
   "cell_type": "code",
   "execution_count": 10,
   "id": "9211f336",
   "metadata": {},
   "outputs": [],
   "source": [
    "# (i) create a histogram with 2 bins\n"
   ]
  },
  {
   "cell_type": "code",
   "execution_count": null,
   "id": "34792ae2",
   "metadata": {},
   "outputs": [],
   "source": [
    "# (ii) create a histogram with 4 to 8 bins\n"
   ]
  },
  {
   "cell_type": "code",
   "execution_count": null,
   "id": "e6188008",
   "metadata": {},
   "outputs": [],
   "source": [
    "# (iii) create a histogram with about 50 bins\n"
   ]
  },
  {
   "cell_type": "markdown",
   "id": "9c49c80e",
   "metadata": {},
   "source": [
    "> If you noticed that the solutions `px.histogram(..., x=\"view_count\", nbins=2)`, `px.histogram(..., x=\"view_count\", nbins=8)`, and `px.histogram(..., x=\"view_count\", nbins=50)` don't give the exact number of bins as is specified by the `nbins` parameter, great job!  This behavior is discussed, e.g., [here](https://community.plotly.com/t/plotly-histogram-nbinx-does-not-provide-the-right-number-of-bins-in-python/1126) and [here](https://stackoverflow.com/questions/68013490/what-is-nbins-in-plotly) which are found by googling \"plotly nbins not working\"."
   ]
  },
  {
   "cell_type": "markdown",
   "id": "7b307f31",
   "metadata": {},
   "source": [
    "### Q5: Create a boxplot of the `view_count` data using an `x=\"view_count\"` specification, then determine the 25th and 75th percentiles (also called the first and third quartiles, Q1 and Q3) of the data and compute the interquartile range (IQR) to measure the spread of the middle 50% of the data\n",
    "\n",
    "#### Give your answer as a discrete integer numeric value ignoring all decimal values\n",
    "> - Hint 1: Construct a boxplot of the distribution for `view_count` (https://letmegooglethat.com/?q=plotly+boxplot)   \n",
    "> - Hint 2: Hover on the boxplot"
   ]
  },
  {
   "cell_type": "code",
   "execution_count": null,
   "id": "94f60cdb",
   "metadata": {},
   "outputs": [],
   "source": [
    "# create the plot in these cells\n"
   ]
  },
  {
   "cell_type": "code",
   "execution_count": null,
   "id": "5a6fe33b",
   "metadata": {},
   "outputs": [],
   "source": []
  },
  {
   "cell_type": "code",
   "execution_count": null,
   "id": "947af041",
   "metadata": {},
   "outputs": [],
   "source": [
    "# Q5: your answer will be tested!\n",
    "percentile_25 = None\n",
    "percentile_75 = None\n",
    "IQR = percentile_75 - percentile_25 \n",
    "\n",
    "Q5 = (percentile_25, percentile_75, IQR) # Assign a `tuple` of three `int`s to Q5"
   ]
  },
  {
   "cell_type": "markdown",
   "id": "748f8d94",
   "metadata": {},
   "source": [
    "### Q6: In terms of representing the `view_count` data, which of the previous plots (histograms and boxplot) do you think most informatively and succinctly characterizes its distribution and why? \n",
    "\n",
    "#### Write two to three sentences to answer this question in markdown cell below\n",
    "- Compare your response to the answer given in the ***MarkUs*** output"
   ]
  },
  {
   "cell_type": "markdown",
   "id": "16cc8273",
   "metadata": {},
   "source": [
    "> Answer here...\n"
   ]
  },
  {
   "cell_type": "markdown",
   "id": "d8d3a1dc",
   "metadata": {},
   "source": [
    "### Q7: Which of these best describes the shape of the histograms and boxplot above?\n",
    "> Hint: Skewness refers to the measure of asymmetry or lack of symmetry in a distribution of data, where left-skewed data has a longer tail on the left side of the distribution, while right-skewed data has a longer tail on the right side of the distribution  \n",
    "\n",
    "A. Left-skewed  \n",
    "B. Right-skewed  \n",
    "C. Multimodal  \n",
    "D. Symmetric"
   ]
  },
  {
   "cell_type": "code",
   "execution_count": 17,
   "id": "3e6f661c",
   "metadata": {},
   "outputs": [],
   "source": [
    "# Q7: your answer will be tested!\n",
    "Q7 = None # Assign either 'A' or 'B' or 'C' or 'D' to `Q7` instead of `None`\n",
    "# E.g., Q7 = 'A'"
   ]
  },
  {
   "cell_type": "markdown",
   "id": "962476a3",
   "metadata": {},
   "source": [
    "### Q8: What is the mean, median and standard deviation of `view_count`?\n",
    "\n",
    "#### Give your answer as a continuous numeric value rounded to a single decimal position\n",
    "\n",
    "> Hint 1: After importing `numpy` as `import numpy as np` round with `np.round(1234.56, 1)` for your submitted answers  \n",
    "> Hint 2: there are several ways to do this, but both `pandas` and `numpy` can provide the mean, median and standard deviation functionality you're looking for when used like `df.view_count.round(1)` or `np.round(df.view_count,(1))`\n",
    "- Note: `pandas` and `numpy` may give different values for standard deviation; this is because by default, `numpy` uses a denominator of $n$ instead of $n-1$. For the correct value when using `numpy`, use the parameter `ddof=1` within the `np.std()` function; whereas, `pandas` uses the $n-1$ divisor [by default](https://pandas.pydata.org/docs/reference/api/pandas.DataFrame.std.html) "
   ]
  },
  {
   "cell_type": "code",
   "execution_count": null,
   "id": "2a3fd02a",
   "metadata": {},
   "outputs": [],
   "source": []
  },
  {
   "cell_type": "code",
   "execution_count": null,
   "id": "aaf694b3",
   "metadata": {},
   "outputs": [],
   "source": []
  },
  {
   "cell_type": "code",
   "execution_count": 4,
   "id": "1e60018b",
   "metadata": {},
   "outputs": [],
   "source": [
    "# Q8: your answer will be tested!\n",
    "view_count_mean = None\n",
    "view_count_median = None\n",
    "view_count_std = None\n",
    "Q8 = (view_count_mean, view_count_median, view_count_std) # Assign a `tuple` of three `float`s to Q8"
   ]
  },
  {
   "cell_type": "markdown",
   "id": "8fe173f7",
   "metadata": {},
   "source": [
    "### Q9: What explains the difference between the mean and the median values observed for the `view_count` variable above?\n",
    "- Choose the best answer from the option below\n",
    "\n",
    "A. Outliers      \n",
    "B. Left-skewed outliers  \n",
    "C. Means are always greater than medians  \n",
    "D. The large standard deviation  "
   ]
  },
  {
   "cell_type": "code",
   "execution_count": 15,
   "id": "b93f1ef0",
   "metadata": {},
   "outputs": [],
   "source": [
    "# Q9: your answer will be tested!\n",
    "Q9 = None # Assign either 'A' or 'B' or 'C' or 'D' to `Q9` instead of `None`\n",
    "# E.g., Q9 = 'A'"
   ]
  },
  {
   "cell_type": "markdown",
   "id": "440de144",
   "metadata": {},
   "source": [
    "### Q10: Create a *Kernel Density Estimate* (KDE) plot of the $\\log$ of the `view_count` by transforming the  `view_count` column with the `.apply(np.log)` method\n",
    "> Hint 1: Remember to import `plotly.figure_factory`  \n",
    "> Hint 2: Googling \"plotly kernel density\" should be enough to find the \"distplots\" you're looking for  \n",
    "> Hint 3: Overlaying a histogram with a KDE is a great way to make this visualization  \n",
    "> Hint 4: Check for mising `NaN` values  \n",
    "- This will be manually reviewed. "
   ]
  },
  {
   "cell_type": "code",
   "execution_count": null,
   "id": "1f5f7c58",
   "metadata": {},
   "outputs": [],
   "source": [
    "# create the plot in these cells\n"
   ]
  },
  {
   "cell_type": "code",
   "execution_count": null,
   "id": "e1b84dd2",
   "metadata": {},
   "outputs": [],
   "source": []
  },
  {
   "cell_type": "code",
   "execution_count": null,
   "id": "9d890d49",
   "metadata": {},
   "outputs": [],
   "source": []
  },
  {
   "cell_type": "markdown",
   "id": "fc9ea17d",
   "metadata": {},
   "source": [
    "### Q11: Describe what the effect of the $\\log$ transformation is on the plot by describing how the distribution of the data changes after the $\\log$ tranformation\n",
    "\n",
    "#### Write two to three sentences to answer this question in markdown cell below\n",
    "- Compare your response to the answer given in the ***MarkUs*** output"
   ]
  },
  {
   "cell_type": "markdown",
   "id": "b5f7ec05",
   "metadata": {},
   "source": [
    "> Answer here..."
   ]
  },
  {
   "cell_type": "markdown",
   "id": "3557792f",
   "metadata": {},
   "source": [
    "### Q12: Demonstrate that as a result of the change in skewness the mean of the $\\log$ of the `view_count` data is now less than its median, and that essentially most (or nearly all) of the data are within 2 (or 3) standard deviations of the mean by computing these values to confirm these statements\n",
    "\n",
    "- Round with `np.round(1234.56, 1)` or similar for your submitted answers"
   ]
  },
  {
   "cell_type": "code",
   "execution_count": null,
   "id": "25c26a17",
   "metadata": {},
   "outputs": [],
   "source": []
  },
  {
   "cell_type": "code",
   "execution_count": null,
   "id": "82b9cf81",
   "metadata": {},
   "outputs": [],
   "source": [
    "# Q12: your answer will be tested!\n",
    "log_view_count_mean = None\n",
    "log_view_count_median = None\n",
    "log_view_count_std = None\n",
    "Q12 = (log_view_count_mean, log_view_count_median, log_view_count_std) \n",
    "# Assign a `tuple` of three `float`s to Q12"
   ]
  },
  {
   "cell_type": "markdown",
   "id": "b333de92",
   "metadata": {},
   "source": [
    "### Q13: Construct a plot to visualize the distribution of one of the categorical variables listed below; then, describe the distribution in 1 to 2 sentences\n",
    "\n",
    "> - `show_product_quickly`\n",
    "> - `celebrity`\n",
    "> - `funny`\n",
    "> - `danger`\n",
    "\n",
    "#### Create the plot and write your answer in the code cell and markdown cells below respectively\n",
    "\n",
    "- Compare your figure and response to the answer given in the ***MarkUs*** output \n",
    "\n",
    "> Hint: a **barplot** and a **histogram** are very similar plots (and are even therefore made using the same function in `plotly`; however, the difference is that a **barplot** is a **histogram** for **categorical** data; so, you're here making a **barplot** rather than a **histogram** is you want to get semantical about it."
   ]
  },
  {
   "cell_type": "code",
   "execution_count": 1,
   "id": "678bd609",
   "metadata": {},
   "outputs": [],
   "source": [
    "# create the plot in these cells"
   ]
  },
  {
   "cell_type": "code",
   "execution_count": null,
   "id": "67159a68",
   "metadata": {},
   "outputs": [],
   "source": []
  },
  {
   "cell_type": "markdown",
   "id": "9f5730bf",
   "metadata": {},
   "source": [
    "> Answer here..."
   ]
  },
  {
   "cell_type": "markdown",
   "id": "2157e96c",
   "metadata": {},
   "source": [
    "### Q14: Construct a plot to visualize the distribution of the `brand` categorical variable; then, in 2 to 3 sentences, describe the distribution and discuss what \"skewness\" might mean in the context of this plot\n",
    "\n",
    "#### Create the plot and write your answer in the code cell and markdown cells below respectively\n",
    "\n",
    "- Compare your figure and response to the answer given in the ***MarkUs*** output "
   ]
  },
  {
   "cell_type": "code",
   "execution_count": 2,
   "id": "597c6357",
   "metadata": {},
   "outputs": [],
   "source": [
    "# create the plot in these cells"
   ]
  },
  {
   "cell_type": "code",
   "execution_count": null,
   "id": "74c86032",
   "metadata": {},
   "outputs": [],
   "source": []
  },
  {
   "cell_type": "markdown",
   "id": "40b6f266",
   "metadata": {},
   "source": [
    "> Answer here..."
   ]
  },
  {
   "cell_type": "markdown",
   "id": "08ea357f",
   "metadata": {},
   "source": [
    "### Q15: Construct a set of two boxplots showing the distributions of `like_count` separated by whether or not ads included a `celebrity` and provide a written description and relative comparison of these distributions.\n",
    "\n",
    "#### Create the plot and write your answer in the code cell and markdown cells below respectively\n",
    "\n",
    "> Hint 1: Use percentiles and indicate locations, spreads, shape, etc. as is helpful for writing your descriptions  \n",
    "> Hint 2: This should be a single plot  \n",
    "> Hint 3: You can change the orientation of the boxplot by switching the `x` and `y` function parameters \n",
    "\n",
    "- Compare your figure and response to the answer given in the ***MarkUs*** output "
   ]
  },
  {
   "cell_type": "code",
   "execution_count": 3,
   "id": "fa2bfe92",
   "metadata": {},
   "outputs": [],
   "source": [
    "# create the plot in these cells"
   ]
  },
  {
   "cell_type": "markdown",
   "id": "55e299c7",
   "metadata": {},
   "source": [
    "> Answer here...\n"
   ]
  },
  {
   "cell_type": "markdown",
   "id": "7a35dcd7",
   "metadata": {},
   "source": [
    "### Q16: How many outliers are there for the `like_count` of advertisments that featured a celebrity according as determined by the criterion of a boxplot? \n",
    "> Hint 1: The dots in a boxplot are the ‘outliers’ according to the criterion of a boxplot\n",
    "> Hint 2: You can close up on the boxplot by dragging your cursor through the plot"
   ]
  },
  {
   "cell_type": "code",
   "execution_count": 22,
   "id": "cee0b9a8",
   "metadata": {},
   "outputs": [],
   "source": [
    "# Q16: your answer will be tested!\n",
    "Q16 = None # Assign an integer number such as 18, 36, or 1338\n",
    "# E.g., Q16 = 18 "
   ]
  },
  {
   "cell_type": "markdown",
   "id": "1e79e879",
   "metadata": {},
   "source": [
    "### Q17: Choose which of histograms, boxplots, and KDEs are your favorite way to represent distributions of data and explain why\n",
    "\n",
    "#### Write two sentences to answer this question in markdown cell below\n",
    "\n",
    "- Your response will be manually reviewed. "
   ]
  },
  {
   "cell_type": "markdown",
   "id": "dc92c6d8",
   "metadata": {},
   "source": [
    "> Answer here...\n",
    "\n"
   ]
  },
  {
   "cell_type": "markdown",
   "id": "4bc60040",
   "metadata": {},
   "source": [
    "### Q18: Construct a plot that shows the relationship between `view_count` and `like_count`\n",
    "> Hint: https://letmegooglethat.com/?q=plotly+scatterplot\n"
   ]
  },
  {
   "cell_type": "code",
   "execution_count": null,
   "id": "b3915dad",
   "metadata": {},
   "outputs": [],
   "source": []
  },
  {
   "cell_type": "code",
   "execution_count": null,
   "id": "684d381d",
   "metadata": {},
   "outputs": [],
   "source": []
  },
  {
   "cell_type": "markdown",
   "id": "f95bb4a6",
   "metadata": {},
   "source": [
    "# Tutorial Head Start Preparation\n",
    "\n",
    "> Optional, but recommended and encouraged (since if you do this now while all of this `plotly` stuff is fresh in your mind, it will make the demands of this assignment easier since you won't have to rush around after tutorial late on Friday or over the weekend to remember how to do this stuff... it will make your life easier)!\n",
    "\n",
    "Your ***Tutorial Assignment*** this week will involve describing some visualizations of the `coffee_ratings.csv` data using `plotly` (ie. histograms, boxplots, barplots, KDEs, or scatterplots). The `coffee_ratings.csv` dataset contains information about various samples of coffee and their ratings. Ideally, your visualizations will provide some interesting insights into the data.\n",
    "\n",
    "***You will not have enough time to fully complete this assignment during tutorial; so, you are encouraged to explore the data and practice preparing 2-3 interesting visualizations while the `plotly` code for doing so is now immediately at your finger tips and still fresh in your mind!***\n",
    "\n",
    "> The ***Tutorial Assignment*** details follow below for your information; although, note that the terms below will be discussed during tutorial, so you're not necessarily expected to be familiar these terms yet or able to fully complete this assignment at this stage."
   ]
  },
  {
   "cell_type": "markdown",
   "id": "3d81fba2",
   "metadata": {},
   "source": [
    "## Tutorial Assignment \n",
    "\n",
    "- Submit your work for the assignment through Quercus. \n",
    "- Copy-paste your written submission into the Quercus textbox.\n",
    "- Upload your code as a `.ipynb` notebook along with your written submission.<br>*Annotate your notebook with comments where it helpfully explains what you're doing.*\n",
    "\n",
    "**Marking is based on addressing the points on the next slide (and prompt on the next-next slide) and the subsequent determination of the TA that they have come to a good sense of the figure(s) you're describing without referring to your submitted `.ipynb` file**\n",
    "\n",
    "- Don't spend more than 90 minutes on this assignment (unless really needed...)    \n",
    "\n",
    "    - Aim for something close to 200 to 500 words for your written submission\n",
    "    - Grammar is *not* the main focus of the assessment, but it is important that you communicate in a clear and professional manner; so, \n",
    "        - Use full sentences (without slang or emojis) \n",
    "\n",
    "    \n",
    "## Tutorial Assignment \n",
    "\n",
    "- Describe the data source, acknowledging any notable limitations of the data<br>(such as sample size, missing data, etc.)\n",
    "- State the type of graph you're making (and identify the x- and y-axes) \n",
    "- Describe the key features and characteristics of the data distribution\n",
    "    - Where is the data located/centered (approximate values if possible)?\n",
    "        - Note key relative frequencies in categorical data contexts\n",
    "    \n",
    "    - What is the scale/spread of the data (approximate values if possible)? <!-- (Characterized relative to location/center of the data if helpful) -->\n",
    "    - What is the shape of the data? <br>Symmetric? Left or right skewed? Multiple modes (and how many)?\n",
    "    - Note the presence or absense of any potential outliers/extreme data: <br> **Provide description of the nature of outliers in the tails of the distribution if doing so is sensible and helpful**\n",
    "\n",
    "## Tutorial Assignment (complete at home if needed)\n",
    "\n",
    "Suppose you're on the phone with your friend, and for whatever reason you're describing some of the data and data visualization techniques you've been working with for STA130.  \n",
    "\n",
    "Use `plotly` to construct 1-2 plots from the `coffee_ratings.csv` dataset and prepare a small paragraph with your description of the graph(s) for your friend keeping in mind that they cannot see the graph(s). Suppose your friend has not taken STA130, so they will not be as familiar with the statistical vocabulary as you are; so, explain any terms you use in plain language as you describe the data and graph(s) to your friend.\n",
    "\n",
    "- Do not include any code in your written submission; but, separately include your `.ipynb` file along with your written submission\n",
    "    - Annotate your notebook with comments where it's helpful for understanding what your code is doing"
   ]
  },
  {
   "cell_type": "code",
   "execution_count": null,
   "id": "3a78a881",
   "metadata": {},
   "outputs": [],
   "source": []
  }
 ],
 "metadata": {
  "kernelspec": {
   "display_name": "Python 3 (ipykernel)",
   "language": "python",
   "name": "python3"
  },
  "language_info": {
   "codemirror_mode": {
    "name": "ipython",
    "version": 3
   },
   "file_extension": ".py",
   "mimetype": "text/x-python",
   "name": "python",
   "nbconvert_exporter": "python",
   "pygments_lexer": "ipython3",
   "version": "3.11.4"
  }
 },
 "nbformat": 4,
 "nbformat_minor": 5
}
