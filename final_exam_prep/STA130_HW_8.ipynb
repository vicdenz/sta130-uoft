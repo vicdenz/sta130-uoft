{
 "cells": [
  {
   "cell_type": "markdown",
   "id": "6acd9b37",
   "metadata": {},
   "source": [
    "# Coding Homework 8: [Your Name]\n",
    "\n",
    "Go through this notebook, following the instructions!\n",
    "\n",
    "TAs will mark this assignment by first checking ***MarkUs*** autotests for completion and general correctness, and then manually reviewing your written response to `Q8` and plotted figures for `Q7`, `Q16`, and `Q18`.\n",
    "\n",
    "- The  `Q0, Q7` and `Q15` questions \"automatically fail\" during automated testing so that ***MarkUs*** exposes example answers for student review and consideration for these problems: these \"failed ***MarkUs*** tests\" are not counted against the student.\n",
    "\n",
    "> You can add new cells if you need (with the \"+\" button above); but, deleting or reordering cells could very likely cause your notebook to fail ***MarkUs*** autotesting (and you'd have to start over and re-enter your answers into a completely fresh version of the notebook to get things working again...).\n",
    ">\n",
    "> - ***MarkUs*** autotesting works by running your notebook from top to bottom, and if there's an error when doing this (such as a variable is getting called that hasn't yet been defined, etc.) it can cause automated tests to fail; so, make sure your notebook runs from top to bottom without error once you're done (which you can do by restarting the \"Restart & Run All\" from the \"Kernel\" menu).\n"
   ]
  },
  {
   "cell_type": "markdown",
   "id": "cbdbb554",
   "metadata": {},
   "source": [
    "# Mario Kart! 🏎️\n",
    "\n",
    "In this question, you will work with the Mario Kart dataset available in `mariocart.csv`. This data set contains eBay auctions of the game Mario Kart for Nintendo Wii in October 2009."
   ]
  },
  {
   "cell_type": "markdown",
   "id": "76d7d850",
   "metadata": {},
   "source": [
    "![](https://mario.wiki.gallery/images/thumb/2/29/Mkwii.jpg/405px-Mkwii.jpg)"
   ]
  },
  {
   "cell_type": "code",
   "execution_count": 1,
   "id": "562d0cee",
   "metadata": {},
   "outputs": [],
   "source": [
    "# Import \"mariokart.csv\" into the `mariokart` object with `pandas`\n",
    "# Take a look at the data to understand it better\n",
    "\n",
    "mariokart = None"
   ]
  },
  {
   "cell_type": "markdown",
   "id": "42d3f3d9",
   "metadata": {},
   "source": [
    "### Q0: Use `mariokart.sort_values('total_pr')` to examine the `title` column and use that to give an explanation as to the reason that the highest priced entries are indeed the highest priced.\n",
    "\n",
    "#### Provide your written answer in the markdown cell below.\n",
    "- You can compare your answer with the example solution provided by MarkUs"
   ]
  },
  {
   "cell_type": "code",
   "execution_count": null,
   "id": "3c438b26",
   "metadata": {},
   "outputs": [],
   "source": []
  },
  {
   "cell_type": "markdown",
   "id": "36363418",
   "metadata": {},
   "source": [
    "> Answer here... \n",
    " \n",
    " "
   ]
  },
  {
   "cell_type": "markdown",
   "id": "1814fe09",
   "metadata": {},
   "source": [
    "### Q1: Filter the `mariokart` (`pd.Dataframe`) object to only have the entries where total price (`total_pr`) is strictly less than 100. How many entries were removed? \n",
    "\n",
    "> - Hint 1: `df[boolean_selection]` or `df.loc[boolean_selection, <column_list>]` might work; but,  `df.iloc[boolean_selection, <column_list>]` might not? \n",
    "> - Hint 2: There is a kind of warning called a `SettingWithCopyWarning` which warns `\"A value is trying to be set on a copy of a slice from a DataFrame. ...\"` when a `pd.DataFrame` object is \"slice\" subset of another `pd.DataFrame` object (rather than it's own `pd.DataFrame` object): `df[boolean_selection]` is a \"slice\" subset of a `pd.DataFrame` while `df[boolean_selection].copy()` makes a new `pd.DataFrame` object."
   ]
  },
  {
   "cell_type": "code",
   "execution_count": 4,
   "id": "cf75712a",
   "metadata": {},
   "outputs": [],
   "source": [
    "# Reassign `mariokart` to the requested filtered data set\n",
    "# The updated shape of the `mariokart` data frame will be tested!\n",
    "# use `.copy()` but replace `.iloc[:,:]` with the right boolean selection\n",
    "\n",
    "mariokart = mariokart.iloc[:,:].copy()"
   ]
  },
  {
   "cell_type": "code",
   "execution_count": 10,
   "id": "872f66c9",
   "metadata": {},
   "outputs": [],
   "source": [
    "# Q1: your answer will be tested!\n",
    "Q1 = None # Assign an integer number such as 0,1,2,... to `Q1` \n",
    "          # indicating how many entries with \"prices > $100\" were removed\n",
    "# E.g., Q1 = 1"
   ]
  },
  {
   "cell_type": "markdown",
   "id": "9a496855",
   "metadata": {},
   "source": [
    "### Q2: Use `statsmodels` to advise sellers if having a product photo illustration is associated with `total_pr`.\n",
    "\n",
    "- **Provided predicted (average) prices for when stock photos are used and not used, and characterize the evidence againt the (default) null hypothesis (that inclusion of stock photos does not impact selling price) based on the a p-value relative to the following table and A-E below.**\n",
    "\n",
    "  ![](https://www.jcpcarchives.org/userfiles/values-of-p-Inference.jpg)\n",
    "\n",
    "  A. $0.10 < \\text{p-value}$ no evidence against the null hypothesis\n",
    "  \n",
    "  B. $0.05<\\text{p-value}<0.10$ weak evidence against the null hypothesis\n",
    "\n",
    "  C. $0.01<\\text{p-value}<0.05$ moderate evidence against the null hypothesis\n",
    "\n",
    "  D. $0.001<\\text{p-value}<0.01$ strong evidence against the null hypothesis\n",
    "\n",
    "  E. $\\text{p-value}<0.001$ very strong evidence against the null hypothesis\n",
    "\n",
    "\n",
    "> - Hint 1: If you use `import statsmodels.formula.api as smf` then the model specification of interest is `formula='total_pr ~ C(stock_photo)'` where the full usage of `smf.ols` is described in the `statsmodels` [documentation](https://www.statsmodels.org/dev/example_formulas.html).\n",
    "> - Hint 2: All answers can be extracted from the `.summary()` method of a fitted `statsmodels` linear regression model; though, average prediction formula calcuations (based on coefficient additions) could be confirmed with the `.predict(pd.DataFrame({'stock_photo':[\"no\",\"yes\"]}))` method call.\n",
    "> - Hint 3: The (default) null hypothesis of the $k^{th}$ regression coefficient is $H_0: \\beta_k = 0$; so, here the (default) null hypothesis is $H_0: \\beta_{\\text{HasPhoto}} = 0$. \n"
   ]
  },
  {
   "cell_type": "code",
   "execution_count": null,
   "id": "0793bb55",
   "metadata": {},
   "outputs": [],
   "source": []
  },
  {
   "cell_type": "code",
   "execution_count": 20,
   "id": "6eb46488",
   "metadata": {},
   "outputs": [],
   "source": [
    "# Q2: your answer will be tested!\n",
    "pred_price_without_stock = None # Provde 2 digits of accuracy as given by `np.round(answer, 2)`\n",
    "pred_price_with_stock = None # Provde 2 digits of accuracy as given by `np.round(answer, 2)`\n",
    "p_value = None # Provde 3 digits of accuracy as given by `np.round(answer, 3)`\n",
    "multiple_choice_answer = None # Assign either 'A', 'B', 'C', 'D', or 'E' to `Q2` instead of `None`\n",
    "\n",
    "Q2 = (pred_price_with_stock, pred_price_without_stock, p_value, multiple_choice_answer)\n",
    "# E.g., Q2 = (0.12, 0.12, 0.123, 'A')"
   ]
  },
  {
   "cell_type": "markdown",
   "id": "5e486656",
   "metadata": {},
   "source": [
    "### Q3: Sellers are rated by buyers on eBay, captured in the variable `seller_rating`. To simplify our analysis, we will categorize sellers by whether their rating is `low`, `medium`, or `high`. \n",
    "\n",
    "- ***Create a new column in the dataframe with the variable name `seller_rating_tier` that takes values:***\n",
    "\n",
    "    - \"low\" if `seller_rating` is less than or equal to 200 \n",
    "    - \"medium\" if `seller_rating` is greater than 200 but less than or equal to 4500\n",
    "    - \"high\" if `seller_rating` is greater than 4500 \n",
    "    \n",
    "> - Hint 1: Consider using `np.select(<conditions>, <values>)` and state the conditions in a list `[dataframe['column'] <= x, dataframe['column'] > x]` along with the corresponding labels `['value1', 'value2']`.\n",
    ">    - Alternatively, create a new column as `mariokart['seller_rating_tier']=''` and then assign the classes as a sequence of boolean selectin assignments, such as \n",
    ">\n",
    ">      `mariokart.loc[(mariokart['seller_rating'] <= 200),'seller_rating_tier'] = \"low'`\n",
    ">\n",
    ">\n",
    "> - Hint 2: You'll get a `SettingWithCopyWarning` message if you instead try to use\n",
    ">\n",
    ">   `mariokart['seller_rating_tier'][mariokart['seller_rating'] <= 200] = \"low'`\n",
    ">\n",
    ">   since `pandas` wants you to only use `.loc` or `.iloc` when making assignments to make the assignment more explicity intentional, and thus potentially safer in general."
   ]
  },
  {
   "cell_type": "code",
   "execution_count": 43,
   "id": "c5aaf833",
   "metadata": {},
   "outputs": [],
   "source": [
    "# Q3: You don't need to assign anything to `Q3`\n",
    "# Your update to the `mariokart` data frame will be tested directly\n"
   ]
  },
  {
   "cell_type": "markdown",
   "id": "ea79d8fc",
   "metadata": {},
   "source": [
    "### Q4: Use `statsmodels` to predict (average) `total_pr` differences between `low` and `medium` levels compared to each other and the `high` levels of the new `seller_rating_tier` variable.\n",
    "\n",
    "> Using `formula='total_pr ~ C(seller_rating_tier)'` corresponds to the model with\n",
    ">\n",
    "> $$E[y_i] = \\beta_0 + \\beta_{\\text{low}}\\underbrace{1_{[\\text{low}]}(\\text{seller_rating_tier}_i)}_{\\text{$1$ if seller_rating_tier$_i$ is \"low\"; else, $0$}} + \\beta_{\\text{medium}}\\underbrace{1_{[\\text{medium}]}(\\text{seller_rating_tier}_i)}_{\\text{$1$ if seller_rating_tier$_i$ is \"medium\"; else, $0$}}$$\n",
    ">\n",
    "> and full specification\n",
    ">\n",
    "> $$y_i = \\beta_0 + \\beta_{\\text{low}}1_{[\\text{low}]}(\\text{seller_rating_tier}_i) + \\beta_{\\text{medium}} 1_{[\\text{medium}]}(\\text{seller_rating_tier}_i) + \\epsilon_i, \\quad \\epsilon_i \\sim N(0, \\sigma^2)$$\n",
    "\n",
    "> - Hint 1: What's the prediction for the `\"high\"` group of the `seller_rating_tier` variable? \n",
    "> - Hint 2: What are the values of the `0/1` (\"0 or 1\") indicator variables (for the `seller_rating_tier` variable being \"low\" and \"medium\") when we're talking about the `\"high\"` group of the `seller_rating_tier` variable? \n",
    "> - Hint 3: What's the prediction for the other groups of the `seller_rating_tier` variable? And do you really need to know these predictions to estimate the difference (called a \"contrast\") between the `\"medium\"` and `\"low\"` groups compared to the `\"high\"` group? Or is that given directly from the estimated coefficients of the model? "
   ]
  },
  {
   "cell_type": "code",
   "execution_count": null,
   "id": "b63e63b3",
   "metadata": {},
   "outputs": [],
   "source": []
  },
  {
   "cell_type": "code",
   "execution_count": 57,
   "id": "bce95315",
   "metadata": {},
   "outputs": [],
   "source": [
    "# Q4: the following so-called \"contrasts\" will be tested\n",
    "\n",
    "high_minus_medium_levels_average_total_pr = None # Provde 2 digits of accuracy as given by `np.round(answer, 2)`\n",
    "high_minus_low_levels_average_total_pr = None # Provde 2 digits of accuracy as given by `np.round(answer, 2)`\n",
    "medium_minus_low_levels_average_total_pr = None # Provde 2 digits of accuracy as given by `np.round(answer, 2)`\n",
    "\n",
    "Q4 = (high_minus_medium_levels_average_total_pr, \n",
    "      high_minus_low_levels_average_total_pr,\n",
    "      medium_minus_low_levels_average_total_pr)\n",
    "# E.g., Q4 = (0.12,0.12,0.12)"
   ]
  },
  {
   "cell_type": "markdown",
   "id": "4d91e8be",
   "metadata": {},
   "source": [
    "### Q5: What is the evidence for each of the so-called \"contrasts\"? Choose from the following or leave `None`.\n",
    "\n",
    "#### A \"contrast\" is the \"estimated difference from baseline\" captured by the coefficient of an indicator variable.\n",
    "\n",
    "  A. $0.10 < \\text{p-value}$ no evidence against the null hypothesis\n",
    "  \n",
    "  B. $0.05<\\text{p-value}<0.10$ weak evidence against the null hypothesis\n",
    "\n",
    "  C. $0.01<\\text{p-value}<0.05$ moderate evidence against the null hypothesis\n",
    "\n",
    "  D. $0.001<\\text{p-value}<0.01$ strong evidence against the null hypothesis\n",
    "\n",
    "  E. $\\text{p-value}<0.001$ very strong evidence against the null hypothesis\n",
    "\n",
    "> Hint: Does the model produce a p-value associated with the estimated difference between the `\"medium\"` and `\"low\"` groups? Is such a \"contrast\" estimated by any of the coefficients in the model? "
   ]
  },
  {
   "cell_type": "code",
   "execution_count": 60,
   "id": "4f932c76",
   "metadata": {},
   "outputs": [],
   "source": [
    "# Q5: your answers will be tested!\n",
    "\n",
    "high_minus_low = None # Assign either 'A', 'B', 'C', 'D', or 'E' to `Q0` instead of `None`\n",
    "high_minus_medium = None # Assign either 'A', 'B', 'C', 'D', or 'E' to `Q0` instead of `None`\n",
    "medium_minus_low = None # Assign either 'A', 'B', 'C', 'D', or 'E' to `Q0` instead of `None`\n",
    "\n",
    "Q5 = (high_minus_low, high_minus_medium, medium_minus_low) # Provde an triple tuple answer\n",
    "# E.g., Q5 = (None, 'A', 'B')"
   ]
  },
  {
   "cell_type": "markdown",
   "id": "fe344ab7",
   "metadata": {},
   "source": [
    "### Q6: What is the prediction from the fitted regression line for the (average) `total_pr` for sellers with `low` ratings, `medium` ratings, and `high` ratings?\n",
    "\n",
    "> - Hint: we're returning to the hints of Q4, except this time we're actually asking for these values as opposed to differences between them..."
   ]
  },
  {
   "cell_type": "code",
   "execution_count": 65,
   "id": "3ae47c68",
   "metadata": {},
   "outputs": [],
   "source": []
  },
  {
   "cell_type": "code",
   "execution_count": 66,
   "id": "c38d84d4",
   "metadata": {},
   "outputs": [],
   "source": [
    "# Q6: your answer will be tested!\n",
    "low = None # Provde 3 digits of accuracy as given by `np.round(answer, 3)` or the `.round(3)` method\n",
    "medium = None # Provde 3 digits of accuracy as given by `np.round(answer, 3)` or the `.round(3)` method\n",
    "high = None # Provde 3 digits of accuracy as given by `np.round(answer, 3)` or the `.round(3)` method\n",
    "\n",
    "Q6 = (low, medium, high)\n",
    "# E.g., Q6 = (0.123,0.123,0.123)"
   ]
  },
  {
   "cell_type": "markdown",
   "id": "b0e02086",
   "metadata": {},
   "source": [
    "### Q7: Produce a `plotly.express` plot that demonstrates how the relationship between `total_pr` and `duration` appears to change on the basis of `seller_rating_tier`\n",
    "\n",
    "> Hint: Last week's homework did something similar to this by adding the `Hamilton` categorical variable to the plots."
   ]
  },
  {
   "cell_type": "code",
   "execution_count": 4,
   "id": "063be44d",
   "metadata": {},
   "outputs": [],
   "source": [
    "# import plotly.offline as pyo; pyo.init_notebook_mode() \n",
    "# uncomment and run the line above in its own cell if plotly is not rendering"
   ]
  },
  {
   "cell_type": "markdown",
   "id": "8f9ff8c7",
   "metadata": {},
   "source": [
    "### Q8: What are the equations of the fitted regression lines for sellers with `low`,  `medium`, and `high` ratings?\n",
    "\n",
    "#### Use `formula='total_pr ~ C(seller_rating_tier)*duration'` which specifies the linear form of the regression model to be\n",
    "\n",
    "\\begin{align*}\n",
    "E[\\text{total_pr}_i] =  {} \\beta_0 & +\\beta_1 1_{[\\text{low}]}(\\text{seller_rating_tier}_i) + \\beta_2 1_{[\\text{medium}]}(\\text{seller_rating_tier}_i) + \\beta_3 \\text{duration}_i \\\\ & {} + \\beta_4 1_{[\\text{low}]}(\\text{seller_rating_tier}_i) \\times \\text{duration}_i + \\beta_5 1_{[\\text{medium}]}(\\text{seller_rating_tier}_i) \\times \\text{duration}_i\\end{align*}\n",
    "\n",
    "> - Hint 1: use `statsmodels` (`smf.ols`) to find the necessary coefficient values. \n",
    "> - Hint 2: the `*` notation indicates an **interaction** which is the literal multiplication of the interacted variables.\n",
    "\n",
    "#### Provide your written answer in the markdown cell below (and use the `Q8` autotest to confirm code correctness).\n",
    "- Your written answer will be manually reviewed by your TA.  "
   ]
  },
  {
   "cell_type": "code",
   "execution_count": null,
   "id": "5f9abb58",
   "metadata": {},
   "outputs": [],
   "source": [
    "# fit and output your estimated model here\n"
   ]
  },
  {
   "cell_type": "markdown",
   "id": "00ac7956",
   "metadata": {},
   "source": [
    "> Write your written answer here...\n",
    "\n"
   ]
  },
  {
   "cell_type": "code",
   "execution_count": 104,
   "id": "6a9ce8a1",
   "metadata": {},
   "outputs": [],
   "source": [
    "# Q8: confirm the correctness of your fitted model here!\n",
    "model_intercept = None # Provde 3 digits of accuracy as given by `np.round(answer, 3)` or the `.round(3)` method\n",
    "model_duration_slope = None # Provde 3 digits of accuracy as given by `np.round(answer, 3)` or the `.round(3)` method\n",
    "\n",
    "Q8 = (model_intercept, model_duration_slope)\n",
    "# E.g., Q8 = (0.123, 0.123)"
   ]
  },
  {
   "cell_type": "markdown",
   "id": "d7f00576",
   "metadata": {},
   "source": [
    "### Q9: Does the `seller_rating_tier` modify the association between `duration` and `total_pr`? \n",
    "\n",
    "A. Just as the plot from `Q7` does not suggest there might be some differences between groups, the model fit from `Q8` as well does not provide any evidence to support this claim.\n",
    "\n",
    "B. While the plot from `Q7` suggests there might be some differences between groups, the model fit from `Q8` does not provide any evidence to support this claim.\n",
    "\n",
    "C. The plot from `Q7` suggests there might be some differences between groups, and this is supported by the model fit from `Q8` which provices evidence against the null hypothesis that there is no difference between groups $H_0: \\beta_{\\text{duration $\\times$ low}}=\\beta_{\\text{duration $\\times$ medium}}=0$; specifically, \"Strong\" evidence with respect to $\\beta_{\\text{duration $\\times$ low}}$ and \"Weak\" evidence with respect to $\\beta_{\\text{duration $\\times$ medium}}$.\n",
    "\n",
    "D. The plot from `Q7` suggests there might be some differences between groups, and this is supported by the model fit from `Q8` which provices evidence against the null hypothesis that there is no difference between groups $H_0: \\beta_{\\text{duration $\\times$ low}}=\\beta_{\\text{duration $\\times$ medium}}=0$; specifcally, \"Weak\" evidence with respect to $\\beta_{\\text{duration $\\times$ low}}$ and \"Moderate\" evidence with respect to $\\beta_{\\text{duration $\\times$ medium}}$\n",
    "\n",
    "E. The plot from `Q7` suggests there might be some differences between groups, and this is clearly supported by the model fit from `Q8` which provices \"Very Strong\" evidence against the null hypothesis that there is no difference between groups $H_0: \\beta_{\\text{duration $\\times$ low}}=\\beta_{\\text{duration $\\times$ medium}}=0$."
   ]
  },
  {
   "cell_type": "code",
   "execution_count": 109,
   "id": "a8ceecd1",
   "metadata": {},
   "outputs": [],
   "source": [
    "# Q9: your answer will be tested!\n",
    "Q9 = None # Assign either 'A' or 'B' or 'C' or 'D' or 'E' to `Q9` instead of `None`\n",
    "# E.g., Q9 = 'A'"
   ]
  },
  {
   "cell_type": "markdown",
   "id": "7ba6f887",
   "metadata": {},
   "source": [
    "### Q10: Consider the linear regression predicting (average/expected) total sale price (`total_pr`) using `duration` and the indicator (`cond`) of weather or not a game is \"used\" \n",
    "\n",
    "$$y_i = \\beta_0 + \\beta_1 x_{1i} + \\beta_2 x_{2i} + \\epsilon_i$$\n",
    "\n",
    "where for item $i$, $y_i$ is the total sale price (`total_pr`), $x_{1i}$ is the `duration` of the auction, and $x_{2i} = 1_{[\\text{used}]}(\\text{cond}_i)$ indicates if the game is `\"used\"` based on the condition (`cond`) columnn (with `\"used\"` being `1` and `\"new\"` being `0`.\n",
    "\n",
    "\n",
    "#### Which of the following options is the predicted value of used games based on the fit model?\n",
    "\n",
    "A. $\\hat{y} = \\hat \\beta_{0} + \\hat \\beta_{1}x_{1} + \\hat \\beta_{2}(0) = \\hat \\beta_{0} + \\hat \\beta_{1}x_{1}$\n",
    "\n",
    "B. $\\hat{y} = \\beta_{0} + \\beta_{1}x_{1} + \\beta_{2}(1) = (\\beta_{0} + \\beta_{2}) + \\beta_{1}x_{1}$\n",
    "\n",
    "C. $\\hat{y} = \\hat \\beta_{0} + \\hat \\beta_{1}x_{1} + \\hat \\beta_{2}(1) = (\\hat \\beta_{0} + \\hat \\beta_{2}) + \\hat \\beta_{1}x_{1}$\n",
    "\n",
    "D. $\\hat{y} = \\hat \\beta_{0} + \\hat \\beta_{1}x_{1} + \\hat \\beta_{2}(1) + \\hat \\beta_{3}x_{1}(1) = (\\hat \\beta_{0} + \\hat \\beta_{2}) + (\\hat \\beta_{1} + \\hat \\beta_{3}) x_{1}$\n",
    "\n",
    "> - Hint 1: $\\hat \\beta_k$ is the fitted model estimate of the $\\beta_k$ coefficient parameter of the model specification.\n",
    "> - Hint 2: this is a multiple linear regression model specification that does not use an interaction."
   ]
  },
  {
   "cell_type": "code",
   "execution_count": 117,
   "id": "56056d0b",
   "metadata": {},
   "outputs": [],
   "source": [
    "# Q10: your answer will be tested!\n",
    "Q10 = None # Assign either 'A' or 'B' or 'C' or 'D' to `Q10` instead of `None`\n",
    "# E.g., Q10 = 'A'"
   ]
  },
  {
   "cell_type": "markdown",
   "id": "82aecec3",
   "metadata": {},
   "source": [
    "### Q11: What can you say about the slopes and intercepts of the two lines produced by the model specification from Q10?\n",
    "\n",
    "A. The utilized linear form formulation specifies that the slopes of the modeled relationships between `total_pr` and `duration` will not differ on the basis of the condition (`cond`) of the item, while the intercept of these slopes may indeed differ between these two groups: \"the lines are parallel, but shifted relative to one another\".\n",
    "\n",
    "B. The utilized linear form formulation specifies that the intercepts of the modeled relationships between `total_pr)` and `duration` will not differ on the basis of the condition (`cond`) of the item, while the slopes of these relationships may indeed differ between these two groups: \"the lines are not parallel, but cross one another at $x_1=0$\".\n",
    "\n",
    "C. The predicted slope for this relationship is additively adjusted by the extra $\\beta_2$ term for `\"used\"` items.\n",
    "\n",
    "D. The linear model form specification makes them parallel by employing an interaction term.\n",
    "\n",
    "> Hint: This model makes a certain strong simplifying assumption about the behavior slope of the model across different groups... If you visualize this model you should be able to immediately see what this is if it's not already clear.\n",
    "\n"
   ]
  },
  {
   "cell_type": "code",
   "execution_count": 120,
   "id": "4fffc560",
   "metadata": {},
   "outputs": [],
   "source": [
    "# Q11: your answer will be tested!\n",
    "Q11 = None # Assign either 'A' or 'B' or 'C' or 'D' to `Q11` instead of `None`\n",
    "# E.g., Q11 = 'A'"
   ]
  },
  {
   "cell_type": "markdown",
   "id": "7038bbb2",
   "metadata": {},
   "source": [
    "### Q12: Consider the following extention of the model under consideration\n",
    "\n",
    "$$y_i = \\beta_0 + \\beta_1 x_{1i} + \\beta_2 x_{2i} + \\beta_3 x_{1i} x_{2i} + \\epsilon_i$$\n",
    "\n",
    "#### Which of the following options is the predicted value of used games?\n",
    "\n",
    "A. $\\hat{y} = \\hat \\beta_{0} + \\hat \\beta_{1}x_{1} + \\hat \\beta_{2}(0) = \\hat \\beta_{0} + \\hat \\beta_{1}x_{1}$\n",
    "\n",
    "B. $\\hat{y} = \\hat \\beta_{0} + \\hat \\beta_{1}x_{1} + \\hat \\beta_{2}(1) = (\\hat \\beta_{0} + \\hat \\beta_{2}) + \\hat \\beta_{1}x_{1}$\n",
    "\n",
    "C. $\\hat{y} = \\beta_{0} + \\beta_{1}x_{1} + \\beta_{2}(1) + \\beta_{3}x_{1}(1) = (\\beta_{0} + \\beta_{2}) + ( \\beta_{1} +  \\beta_{3}) x_{1}$\n",
    "\n",
    "D. $\\hat{y} = \\hat \\beta_{0} + \\hat \\beta_{1}x_{1} + \\hat \\beta_{2}(1) + \\hat \\beta_{3}x_{1}(1) = (\\hat \\beta_{0} + \\hat \\beta_{2}) + (\\hat \\beta_{1} + \\hat \\beta_{3}) x_{1}$"
   ]
  },
  {
   "cell_type": "code",
   "execution_count": 134,
   "id": "2ee09b2f",
   "metadata": {},
   "outputs": [],
   "source": [
    "# Q12: your answer will be tested!\n",
    "Q12 = None # Assign either 'A' or 'B' or 'C' or 'D' to `Q12` instead of `None`\n",
    "# E.g., Q12 = 'A'"
   ]
  },
  {
   "cell_type": "markdown",
   "id": "c48b7831",
   "metadata": {},
   "source": [
    "### Q13: Which coefficient controls the difference in the slopes between these two groups specifed under this extended model?\n",
    "\n",
    "A. $\\hat \\beta_0$  \n",
    "\n",
    "B. $\\hat \\beta_1$   \n",
    "\n",
    "C. $\\hat \\beta_2$   \n",
    "\n",
    "D. $\\hat \\beta_3$   \n",
    " "
   ]
  },
  {
   "cell_type": "code",
   "execution_count": 137,
   "id": "3723b060",
   "metadata": {},
   "outputs": [],
   "source": [
    "# Q13: your answer will be tested!\n",
    "Q13 = None # Assign either 'A' or 'B' or 'C' or 'D' to `Q13` instead of `None`\n",
    "# E.g., Q13 = 'A'"
   ]
  },
  {
   "cell_type": "markdown",
   "id": "cb5d872b",
   "metadata": {},
   "source": [
    "### Q14: Should we use the interaction term of the extended model? \n",
    "\n",
    "#### Use `statsmodels` to give evidence as to whether or not the extended model is preferred. \n",
    "\n",
    "  A. $0.10 < \\text{p-value}$ no evidence against the null hypothesis\n",
    "  \n",
    "  B. $0.05<\\text{p-value}<0.10$ weak evidence against the null hypothesis\n",
    "\n",
    "  C. $0.01<\\text{p-value}<0.05$ moderate evidence against the null hypothesis\n",
    "\n",
    "  D. $0.001<\\text{p-value}<0.01$ strong evidence against the null hypothesis\n",
    "\n",
    "  E. $\\text{p-value}<0.001$ very strong evidence against the null hypothesis\n",
    "\n",
    "\n",
    "> - Hint 1: the following figure seems to suggest the extended model is a good improvement...\n",
    ">   ```python\n",
    "> fig = px.scatter(mariokart, x=\"duration\", y=\"total_pr\", trendline=\"ols\", color=\"cond\")\n",
    "> fig.show()```\n",
    "> - Hint 2: What is an equivalent expression for the following null hypothesis specification\n",
    ">\n",
    ">   $$H_0: y_i = \\beta_0 + \\beta_1 x_{1i} + \\beta_2 x_{2i} + \\epsilon_i \\text{ is preferred over } y_i = \\beta_0 + \\beta_1 x_{1i} + \\beta_2 x_{2i} + \\beta_3 x_{1i} x_{2i} + \\epsilon_i$$\n",
    ">\n",
    ">   based on just using $\\beta_3$?\n"
   ]
  },
  {
   "cell_type": "code",
   "execution_count": 140,
   "id": "d62490e5",
   "metadata": {},
   "outputs": [],
   "source": [
    "# Q14: your answer will be tested!\n",
    "Q14 = None # Assign either 'A' or 'B' or 'C' or 'D' to `Q14` instead of `None`\n",
    "# E.g., Q14 = 'A'"
   ]
  },
  {
   "cell_type": "markdown",
   "id": "b2cb8d4a",
   "metadata": {},
   "source": [
    "# Just Dance!"
   ]
  },
  {
   "cell_type": "markdown",
   "id": "cdca327c",
   "metadata": {},
   "source": [
    "\n",
    "![](https://storage.googleapis.com/pr-newsroom-wp/1/2018/11/Spotify_Logo_CMYK_Black-768x230.png)"
   ]
  },
  {
   "cell_type": "markdown",
   "id": "36b4c934",
   "metadata": {},
   "source": [
    "Lets now look at some information regarding song recommendations made by STA130 students in Fall 2021 on\n",
    "a mid-semester feedback survey. This data was collected based off the names of the songs provided in the\n",
    "survey, and the additional info was extracted via the Spotify API. <!--More information on the data descriptions can be found here https://count.co/n/OqA2ey7ZvI5.-->"
   ]
  },
  {
   "cell_type": "code",
   "execution_count": 1,
   "id": "c5fa9d8a",
   "metadata": {},
   "outputs": [],
   "source": [
    "# Import \"STA130_F21_songrecommendations.csv\" into the `songs` object with `pandas`\n",
    "# Take a look at the data to understand it better\n",
    "\n",
    "songs = None"
   ]
  },
  {
   "cell_type": "markdown",
   "id": "7a7e35b1",
   "metadata": {},
   "source": [
    "### Q15:  Create a `plotly` visualization showing the association between the `energy` and `danceability` variables and color the points based on the `mode` indicator. \n",
    "\n",
    "#### Use the `color` parameter rather than `facet` and describe the association between these variables in the Markdown cell below.\n",
    "\n",
    "> - Hint: The scale on the right hand side of the plot appears because `mode` is numerically considered continuous (even though it only takes on values of either `0` or `1`).\n",
    "\n",
    "- You can compare your answer with the example solution provided by MarkUs"
   ]
  },
  {
   "cell_type": "code",
   "execution_count": null,
   "id": "b6c7d96e",
   "metadata": {},
   "outputs": [],
   "source": []
  },
  {
   "cell_type": "markdown",
   "id": "2d799c37",
   "metadata": {},
   "source": [
    "> Answer here..."
   ]
  },
  {
   "cell_type": "markdown",
   "id": "a19b9c04",
   "metadata": {},
   "source": [
    "### Q16: The variable `mode` is an indicator variable that is `0` or `1` depending on if the song is in a `\"minor\"` or  `\"major\"` scale, respectively. \n",
    "\n",
    "#### Overrwrite the `mode` column (perhaps using `np.select()` like in Q3) so that it contains \"minor\"/\"major\" if `mode` equals `0`/`1`."
   ]
  },
  {
   "cell_type": "code",
   "execution_count": null,
   "id": "c36c7ff3",
   "metadata": {},
   "outputs": [],
   "source": []
  },
  {
   "cell_type": "code",
   "execution_count": 20,
   "id": "8fed3517",
   "metadata": {},
   "outputs": [
    {
     "data": {
      "application/vnd.plotly.v1+json": {
       "config": {
        "plotlyServerURL": "https://plot.ly"
       },
       "data": [
        {
         "hovertemplate": "mode=minor<br>energy=%{x}<br>danceability=%{y}<extra></extra>",
         "legendgroup": "minor",
         "marker": {
          "color": "#636efa",
          "symbol": "circle"
         },
         "mode": "markers",
         "name": "minor",
         "orientation": "v",
         "showlegend": true,
         "type": "scatter",
         "x": [
          0.655,
          0.478,
          0.45,
          0.535,
          0.124,
          0.491,
          0.836,
          0.787,
          0.712,
          0.727,
          0.723,
          0.581,
          0.162,
          0.765,
          0.574,
          0.669,
          0.913
         ],
         "xaxis": "x",
         "y": [
          0.425,
          0.607,
          0.761,
          0.707,
          0.294,
          0.399,
          0.593,
          0.66,
          0.526,
          0.751,
          0.633,
          0.705,
          0.156,
          0.746,
          0.616,
          0.457,
          0.758
         ],
         "yaxis": "y"
        },
        {
         "hovertemplate": "<b>OLS trendline</b><br>danceability = 0.548108 * energy + 0.247833<br>R<sup>2</sup>=0.444365<br><br>mode=minor<br>energy=%{x}<br>danceability=%{y} <b>(trend)</b><extra></extra>",
         "legendgroup": "minor",
         "marker": {
          "color": "#636efa",
          "symbol": "circle"
         },
         "mode": "lines",
         "name": "minor",
         "showlegend": false,
         "type": "scatter",
         "x": [
          0.124,
          0.162,
          0.45,
          0.478,
          0.491,
          0.535,
          0.574,
          0.581,
          0.655,
          0.669,
          0.712,
          0.723,
          0.727,
          0.765,
          0.787,
          0.836,
          0.913
         ],
         "xaxis": "x",
         "y": [
          0.3157987879591057,
          0.3366268760168736,
          0.49448185919153526,
          0.5098288714446273,
          0.5169542699907058,
          0.5410710035312791,
          0.5624471991695146,
          0.5662839522327876,
          0.6068439131873882,
          0.6145174193139342,
          0.63808604527404,
          0.6441152286591832,
          0.6463076589810536,
          0.6671357470388215,
          0.6791941138091081,
          0.7060513852520193,
          0.7482556689480226
         ],
         "yaxis": "y"
        },
        {
         "hovertemplate": "mode=major<br>energy=%{x}<br>danceability=%{y}<extra></extra>",
         "legendgroup": "major",
         "marker": {
          "color": "#EF553B",
          "symbol": "circle"
         },
         "mode": "markers",
         "name": "major",
         "orientation": "v",
         "showlegend": true,
         "type": "scatter",
         "x": [
          0.721,
          0.551,
          0.256,
          0.832,
          0.0187,
          0.585,
          0.934,
          0.852,
          0.764,
          0.809,
          0.447,
          0.326,
          0.325,
          0.442,
          0.0181,
          0.741,
          0.459,
          0.701,
          0.59,
          0.446,
          0.338,
          0.641,
          0.757,
          0.673
         ],
         "xaxis": "x",
         "y": [
          0.623,
          0.422,
          0.72,
          0.697,
          0.163,
          0.449,
          0.562,
          0.77,
          0.746,
          0.665,
          0.806,
          0.704,
          0.802,
          0.763,
          0.143,
          0.702,
          0.759,
          0.588,
          0.691,
          0.801,
          0.388,
          0.774,
          0.561,
          0.451
         ],
         "yaxis": "y"
        },
        {
         "hovertemplate": "<b>OLS trendline</b><br>danceability = 0.324357 * energy + 0.435825<br>R<sup>2</sup>=0.180171<br><br>mode=major<br>energy=%{x}<br>danceability=%{y} <b>(trend)</b><extra></extra>",
         "legendgroup": "major",
         "marker": {
          "color": "#EF553B",
          "symbol": "circle"
         },
         "mode": "lines",
         "name": "major",
         "showlegend": false,
         "type": "scatter",
         "x": [
          0.0181,
          0.0187,
          0.256,
          0.325,
          0.326,
          0.338,
          0.442,
          0.446,
          0.447,
          0.459,
          0.551,
          0.585,
          0.59,
          0.641,
          0.673,
          0.701,
          0.721,
          0.741,
          0.757,
          0.764,
          0.809,
          0.832,
          0.852,
          0.934
         ],
         "xaxis": "x",
         "y": [
          0.4416954669864299,
          0.4418900813883713,
          0.5188600773562025,
          0.5412407335794658,
          0.5415650909160348,
          0.5454573789548632,
          0.5791905419580425,
          0.5804879713043186,
          0.5808123286408877,
          0.5847046166797161,
          0.614545491644067,
          0.6255736410874141,
          0.6271954277702592,
          0.6437376519352799,
          0.6541170867054888,
          0.6631990921294217,
          0.6696862388608024,
          0.676173385592183,
          0.6813631029772875,
          0.6836336043332708,
          0.6982296844788772,
          0.7056899032199649,
          0.7121770499513456,
          0.7387743515500063
         ],
         "yaxis": "y"
        }
       ],
       "layout": {
        "legend": {
         "title": {
          "text": "mode"
         },
         "tracegroupgap": 0
        },
        "margin": {
         "t": 60
        },
        "template": {
         "data": {
          "bar": [
           {
            "error_x": {
             "color": "#2a3f5f"
            },
            "error_y": {
             "color": "#2a3f5f"
            },
            "marker": {
             "line": {
              "color": "#E5ECF6",
              "width": 0.5
             },
             "pattern": {
              "fillmode": "overlay",
              "size": 10,
              "solidity": 0.2
             }
            },
            "type": "bar"
           }
          ],
          "barpolar": [
           {
            "marker": {
             "line": {
              "color": "#E5ECF6",
              "width": 0.5
             },
             "pattern": {
              "fillmode": "overlay",
              "size": 10,
              "solidity": 0.2
             }
            },
            "type": "barpolar"
           }
          ],
          "carpet": [
           {
            "aaxis": {
             "endlinecolor": "#2a3f5f",
             "gridcolor": "white",
             "linecolor": "white",
             "minorgridcolor": "white",
             "startlinecolor": "#2a3f5f"
            },
            "baxis": {
             "endlinecolor": "#2a3f5f",
             "gridcolor": "white",
             "linecolor": "white",
             "minorgridcolor": "white",
             "startlinecolor": "#2a3f5f"
            },
            "type": "carpet"
           }
          ],
          "choropleth": [
           {
            "colorbar": {
             "outlinewidth": 0,
             "ticks": ""
            },
            "type": "choropleth"
           }
          ],
          "contour": [
           {
            "colorbar": {
             "outlinewidth": 0,
             "ticks": ""
            },
            "colorscale": [
             [
              0,
              "#0d0887"
             ],
             [
              0.1111111111111111,
              "#46039f"
             ],
             [
              0.2222222222222222,
              "#7201a8"
             ],
             [
              0.3333333333333333,
              "#9c179e"
             ],
             [
              0.4444444444444444,
              "#bd3786"
             ],
             [
              0.5555555555555556,
              "#d8576b"
             ],
             [
              0.6666666666666666,
              "#ed7953"
             ],
             [
              0.7777777777777778,
              "#fb9f3a"
             ],
             [
              0.8888888888888888,
              "#fdca26"
             ],
             [
              1,
              "#f0f921"
             ]
            ],
            "type": "contour"
           }
          ],
          "contourcarpet": [
           {
            "colorbar": {
             "outlinewidth": 0,
             "ticks": ""
            },
            "type": "contourcarpet"
           }
          ],
          "heatmap": [
           {
            "colorbar": {
             "outlinewidth": 0,
             "ticks": ""
            },
            "colorscale": [
             [
              0,
              "#0d0887"
             ],
             [
              0.1111111111111111,
              "#46039f"
             ],
             [
              0.2222222222222222,
              "#7201a8"
             ],
             [
              0.3333333333333333,
              "#9c179e"
             ],
             [
              0.4444444444444444,
              "#bd3786"
             ],
             [
              0.5555555555555556,
              "#d8576b"
             ],
             [
              0.6666666666666666,
              "#ed7953"
             ],
             [
              0.7777777777777778,
              "#fb9f3a"
             ],
             [
              0.8888888888888888,
              "#fdca26"
             ],
             [
              1,
              "#f0f921"
             ]
            ],
            "type": "heatmap"
           }
          ],
          "heatmapgl": [
           {
            "colorbar": {
             "outlinewidth": 0,
             "ticks": ""
            },
            "colorscale": [
             [
              0,
              "#0d0887"
             ],
             [
              0.1111111111111111,
              "#46039f"
             ],
             [
              0.2222222222222222,
              "#7201a8"
             ],
             [
              0.3333333333333333,
              "#9c179e"
             ],
             [
              0.4444444444444444,
              "#bd3786"
             ],
             [
              0.5555555555555556,
              "#d8576b"
             ],
             [
              0.6666666666666666,
              "#ed7953"
             ],
             [
              0.7777777777777778,
              "#fb9f3a"
             ],
             [
              0.8888888888888888,
              "#fdca26"
             ],
             [
              1,
              "#f0f921"
             ]
            ],
            "type": "heatmapgl"
           }
          ],
          "histogram": [
           {
            "marker": {
             "pattern": {
              "fillmode": "overlay",
              "size": 10,
              "solidity": 0.2
             }
            },
            "type": "histogram"
           }
          ],
          "histogram2d": [
           {
            "colorbar": {
             "outlinewidth": 0,
             "ticks": ""
            },
            "colorscale": [
             [
              0,
              "#0d0887"
             ],
             [
              0.1111111111111111,
              "#46039f"
             ],
             [
              0.2222222222222222,
              "#7201a8"
             ],
             [
              0.3333333333333333,
              "#9c179e"
             ],
             [
              0.4444444444444444,
              "#bd3786"
             ],
             [
              0.5555555555555556,
              "#d8576b"
             ],
             [
              0.6666666666666666,
              "#ed7953"
             ],
             [
              0.7777777777777778,
              "#fb9f3a"
             ],
             [
              0.8888888888888888,
              "#fdca26"
             ],
             [
              1,
              "#f0f921"
             ]
            ],
            "type": "histogram2d"
           }
          ],
          "histogram2dcontour": [
           {
            "colorbar": {
             "outlinewidth": 0,
             "ticks": ""
            },
            "colorscale": [
             [
              0,
              "#0d0887"
             ],
             [
              0.1111111111111111,
              "#46039f"
             ],
             [
              0.2222222222222222,
              "#7201a8"
             ],
             [
              0.3333333333333333,
              "#9c179e"
             ],
             [
              0.4444444444444444,
              "#bd3786"
             ],
             [
              0.5555555555555556,
              "#d8576b"
             ],
             [
              0.6666666666666666,
              "#ed7953"
             ],
             [
              0.7777777777777778,
              "#fb9f3a"
             ],
             [
              0.8888888888888888,
              "#fdca26"
             ],
             [
              1,
              "#f0f921"
             ]
            ],
            "type": "histogram2dcontour"
           }
          ],
          "mesh3d": [
           {
            "colorbar": {
             "outlinewidth": 0,
             "ticks": ""
            },
            "type": "mesh3d"
           }
          ],
          "parcoords": [
           {
            "line": {
             "colorbar": {
              "outlinewidth": 0,
              "ticks": ""
             }
            },
            "type": "parcoords"
           }
          ],
          "pie": [
           {
            "automargin": true,
            "type": "pie"
           }
          ],
          "scatter": [
           {
            "fillpattern": {
             "fillmode": "overlay",
             "size": 10,
             "solidity": 0.2
            },
            "type": "scatter"
           }
          ],
          "scatter3d": [
           {
            "line": {
             "colorbar": {
              "outlinewidth": 0,
              "ticks": ""
             }
            },
            "marker": {
             "colorbar": {
              "outlinewidth": 0,
              "ticks": ""
             }
            },
            "type": "scatter3d"
           }
          ],
          "scattercarpet": [
           {
            "marker": {
             "colorbar": {
              "outlinewidth": 0,
              "ticks": ""
             }
            },
            "type": "scattercarpet"
           }
          ],
          "scattergeo": [
           {
            "marker": {
             "colorbar": {
              "outlinewidth": 0,
              "ticks": ""
             }
            },
            "type": "scattergeo"
           }
          ],
          "scattergl": [
           {
            "marker": {
             "colorbar": {
              "outlinewidth": 0,
              "ticks": ""
             }
            },
            "type": "scattergl"
           }
          ],
          "scattermapbox": [
           {
            "marker": {
             "colorbar": {
              "outlinewidth": 0,
              "ticks": ""
             }
            },
            "type": "scattermapbox"
           }
          ],
          "scatterpolar": [
           {
            "marker": {
             "colorbar": {
              "outlinewidth": 0,
              "ticks": ""
             }
            },
            "type": "scatterpolar"
           }
          ],
          "scatterpolargl": [
           {
            "marker": {
             "colorbar": {
              "outlinewidth": 0,
              "ticks": ""
             }
            },
            "type": "scatterpolargl"
           }
          ],
          "scatterternary": [
           {
            "marker": {
             "colorbar": {
              "outlinewidth": 0,
              "ticks": ""
             }
            },
            "type": "scatterternary"
           }
          ],
          "surface": [
           {
            "colorbar": {
             "outlinewidth": 0,
             "ticks": ""
            },
            "colorscale": [
             [
              0,
              "#0d0887"
             ],
             [
              0.1111111111111111,
              "#46039f"
             ],
             [
              0.2222222222222222,
              "#7201a8"
             ],
             [
              0.3333333333333333,
              "#9c179e"
             ],
             [
              0.4444444444444444,
              "#bd3786"
             ],
             [
              0.5555555555555556,
              "#d8576b"
             ],
             [
              0.6666666666666666,
              "#ed7953"
             ],
             [
              0.7777777777777778,
              "#fb9f3a"
             ],
             [
              0.8888888888888888,
              "#fdca26"
             ],
             [
              1,
              "#f0f921"
             ]
            ],
            "type": "surface"
           }
          ],
          "table": [
           {
            "cells": {
             "fill": {
              "color": "#EBF0F8"
             },
             "line": {
              "color": "white"
             }
            },
            "header": {
             "fill": {
              "color": "#C8D4E3"
             },
             "line": {
              "color": "white"
             }
            },
            "type": "table"
           }
          ]
         },
         "layout": {
          "annotationdefaults": {
           "arrowcolor": "#2a3f5f",
           "arrowhead": 0,
           "arrowwidth": 1
          },
          "autotypenumbers": "strict",
          "coloraxis": {
           "colorbar": {
            "outlinewidth": 0,
            "ticks": ""
           }
          },
          "colorscale": {
           "diverging": [
            [
             0,
             "#8e0152"
            ],
            [
             0.1,
             "#c51b7d"
            ],
            [
             0.2,
             "#de77ae"
            ],
            [
             0.3,
             "#f1b6da"
            ],
            [
             0.4,
             "#fde0ef"
            ],
            [
             0.5,
             "#f7f7f7"
            ],
            [
             0.6,
             "#e6f5d0"
            ],
            [
             0.7,
             "#b8e186"
            ],
            [
             0.8,
             "#7fbc41"
            ],
            [
             0.9,
             "#4d9221"
            ],
            [
             1,
             "#276419"
            ]
           ],
           "sequential": [
            [
             0,
             "#0d0887"
            ],
            [
             0.1111111111111111,
             "#46039f"
            ],
            [
             0.2222222222222222,
             "#7201a8"
            ],
            [
             0.3333333333333333,
             "#9c179e"
            ],
            [
             0.4444444444444444,
             "#bd3786"
            ],
            [
             0.5555555555555556,
             "#d8576b"
            ],
            [
             0.6666666666666666,
             "#ed7953"
            ],
            [
             0.7777777777777778,
             "#fb9f3a"
            ],
            [
             0.8888888888888888,
             "#fdca26"
            ],
            [
             1,
             "#f0f921"
            ]
           ],
           "sequentialminus": [
            [
             0,
             "#0d0887"
            ],
            [
             0.1111111111111111,
             "#46039f"
            ],
            [
             0.2222222222222222,
             "#7201a8"
            ],
            [
             0.3333333333333333,
             "#9c179e"
            ],
            [
             0.4444444444444444,
             "#bd3786"
            ],
            [
             0.5555555555555556,
             "#d8576b"
            ],
            [
             0.6666666666666666,
             "#ed7953"
            ],
            [
             0.7777777777777778,
             "#fb9f3a"
            ],
            [
             0.8888888888888888,
             "#fdca26"
            ],
            [
             1,
             "#f0f921"
            ]
           ]
          },
          "colorway": [
           "#636efa",
           "#EF553B",
           "#00cc96",
           "#ab63fa",
           "#FFA15A",
           "#19d3f3",
           "#FF6692",
           "#B6E880",
           "#FF97FF",
           "#FECB52"
          ],
          "font": {
           "color": "#2a3f5f"
          },
          "geo": {
           "bgcolor": "white",
           "lakecolor": "white",
           "landcolor": "#E5ECF6",
           "showlakes": true,
           "showland": true,
           "subunitcolor": "white"
          },
          "hoverlabel": {
           "align": "left"
          },
          "hovermode": "closest",
          "mapbox": {
           "style": "light"
          },
          "paper_bgcolor": "white",
          "plot_bgcolor": "#E5ECF6",
          "polar": {
           "angularaxis": {
            "gridcolor": "white",
            "linecolor": "white",
            "ticks": ""
           },
           "bgcolor": "#E5ECF6",
           "radialaxis": {
            "gridcolor": "white",
            "linecolor": "white",
            "ticks": ""
           }
          },
          "scene": {
           "xaxis": {
            "backgroundcolor": "#E5ECF6",
            "gridcolor": "white",
            "gridwidth": 2,
            "linecolor": "white",
            "showbackground": true,
            "ticks": "",
            "zerolinecolor": "white"
           },
           "yaxis": {
            "backgroundcolor": "#E5ECF6",
            "gridcolor": "white",
            "gridwidth": 2,
            "linecolor": "white",
            "showbackground": true,
            "ticks": "",
            "zerolinecolor": "white"
           },
           "zaxis": {
            "backgroundcolor": "#E5ECF6",
            "gridcolor": "white",
            "gridwidth": 2,
            "linecolor": "white",
            "showbackground": true,
            "ticks": "",
            "zerolinecolor": "white"
           }
          },
          "shapedefaults": {
           "line": {
            "color": "#2a3f5f"
           }
          },
          "ternary": {
           "aaxis": {
            "gridcolor": "white",
            "linecolor": "white",
            "ticks": ""
           },
           "baxis": {
            "gridcolor": "white",
            "linecolor": "white",
            "ticks": ""
           },
           "bgcolor": "#E5ECF6",
           "caxis": {
            "gridcolor": "white",
            "linecolor": "white",
            "ticks": ""
           }
          },
          "title": {
           "x": 0.05
          },
          "xaxis": {
           "automargin": true,
           "gridcolor": "white",
           "linecolor": "white",
           "ticks": "",
           "title": {
            "standoff": 15
           },
           "zerolinecolor": "white",
           "zerolinewidth": 2
          },
          "yaxis": {
           "automargin": true,
           "gridcolor": "white",
           "linecolor": "white",
           "ticks": "",
           "title": {
            "standoff": 15
           },
           "zerolinecolor": "white",
           "zerolinewidth": 2
          }
         }
        },
        "xaxis": {
         "anchor": "y",
         "domain": [
          0,
          1
         ],
         "title": {
          "text": "energy"
         }
        },
        "yaxis": {
         "anchor": "x",
         "domain": [
          0,
          1
         ],
         "title": {
          "text": "danceability"
         }
        }
       }
      },
      "text/html": [
       "<div>                            <div id=\"fa7a99ca-cac6-4a7f-9e86-a31bf39c2669\" class=\"plotly-graph-div\" style=\"height:525px; width:100%;\"></div>            <script type=\"text/javascript\">                require([\"plotly\"], function(Plotly) {                    window.PLOTLYENV=window.PLOTLYENV || {};                                    if (document.getElementById(\"fa7a99ca-cac6-4a7f-9e86-a31bf39c2669\")) {                    Plotly.newPlot(                        \"fa7a99ca-cac6-4a7f-9e86-a31bf39c2669\",                        [{\"hovertemplate\":\"mode=minor\\u003cbr\\u003eenergy=%{x}\\u003cbr\\u003edanceability=%{y}\\u003cextra\\u003e\\u003c\\u002fextra\\u003e\",\"legendgroup\":\"minor\",\"marker\":{\"color\":\"#636efa\",\"symbol\":\"circle\"},\"mode\":\"markers\",\"name\":\"minor\",\"orientation\":\"v\",\"showlegend\":true,\"x\":[0.655,0.478,0.45,0.535,0.124,0.491,0.836,0.787,0.712,0.727,0.723,0.581,0.162,0.765,0.574,0.669,0.913],\"xaxis\":\"x\",\"y\":[0.425,0.607,0.761,0.707,0.294,0.399,0.593,0.66,0.526,0.751,0.633,0.705,0.156,0.746,0.616,0.457,0.758],\"yaxis\":\"y\",\"type\":\"scatter\"},{\"hovertemplate\":\"\\u003cb\\u003eOLS trendline\\u003c\\u002fb\\u003e\\u003cbr\\u003edanceability = 0.548108 * energy + 0.247833\\u003cbr\\u003eR\\u003csup\\u003e2\\u003c\\u002fsup\\u003e=0.444365\\u003cbr\\u003e\\u003cbr\\u003emode=minor\\u003cbr\\u003eenergy=%{x}\\u003cbr\\u003edanceability=%{y} \\u003cb\\u003e(trend)\\u003c\\u002fb\\u003e\\u003cextra\\u003e\\u003c\\u002fextra\\u003e\",\"legendgroup\":\"minor\",\"marker\":{\"color\":\"#636efa\",\"symbol\":\"circle\"},\"mode\":\"lines\",\"name\":\"minor\",\"showlegend\":false,\"x\":[0.124,0.162,0.45,0.478,0.491,0.535,0.574,0.581,0.655,0.669,0.712,0.723,0.727,0.765,0.787,0.836,0.913],\"xaxis\":\"x\",\"y\":[0.3157987879591057,0.3366268760168736,0.49448185919153526,0.5098288714446273,0.5169542699907058,0.5410710035312791,0.5624471991695146,0.5662839522327876,0.6068439131873882,0.6145174193139342,0.63808604527404,0.6441152286591832,0.6463076589810536,0.6671357470388215,0.6791941138091081,0.7060513852520193,0.7482556689480226],\"yaxis\":\"y\",\"type\":\"scatter\"},{\"hovertemplate\":\"mode=major\\u003cbr\\u003eenergy=%{x}\\u003cbr\\u003edanceability=%{y}\\u003cextra\\u003e\\u003c\\u002fextra\\u003e\",\"legendgroup\":\"major\",\"marker\":{\"color\":\"#EF553B\",\"symbol\":\"circle\"},\"mode\":\"markers\",\"name\":\"major\",\"orientation\":\"v\",\"showlegend\":true,\"x\":[0.721,0.551,0.256,0.832,0.0187,0.585,0.934,0.852,0.764,0.809,0.447,0.326,0.325,0.442,0.0181,0.741,0.459,0.701,0.59,0.446,0.338,0.641,0.757,0.673],\"xaxis\":\"x\",\"y\":[0.623,0.422,0.72,0.697,0.163,0.449,0.562,0.77,0.746,0.665,0.806,0.704,0.802,0.763,0.143,0.702,0.759,0.588,0.691,0.801,0.388,0.774,0.561,0.451],\"yaxis\":\"y\",\"type\":\"scatter\"},{\"hovertemplate\":\"\\u003cb\\u003eOLS trendline\\u003c\\u002fb\\u003e\\u003cbr\\u003edanceability = 0.324357 * energy + 0.435825\\u003cbr\\u003eR\\u003csup\\u003e2\\u003c\\u002fsup\\u003e=0.180171\\u003cbr\\u003e\\u003cbr\\u003emode=major\\u003cbr\\u003eenergy=%{x}\\u003cbr\\u003edanceability=%{y} \\u003cb\\u003e(trend)\\u003c\\u002fb\\u003e\\u003cextra\\u003e\\u003c\\u002fextra\\u003e\",\"legendgroup\":\"major\",\"marker\":{\"color\":\"#EF553B\",\"symbol\":\"circle\"},\"mode\":\"lines\",\"name\":\"major\",\"showlegend\":false,\"x\":[0.0181,0.0187,0.256,0.325,0.326,0.338,0.442,0.446,0.447,0.459,0.551,0.585,0.59,0.641,0.673,0.701,0.721,0.741,0.757,0.764,0.809,0.832,0.852,0.934],\"xaxis\":\"x\",\"y\":[0.4416954669864299,0.4418900813883713,0.5188600773562025,0.5412407335794658,0.5415650909160348,0.5454573789548632,0.5791905419580425,0.5804879713043186,0.5808123286408877,0.5847046166797161,0.614545491644067,0.6255736410874141,0.6271954277702592,0.6437376519352799,0.6541170867054888,0.6631990921294217,0.6696862388608024,0.676173385592183,0.6813631029772875,0.6836336043332708,0.6982296844788772,0.7056899032199649,0.7121770499513456,0.7387743515500063],\"yaxis\":\"y\",\"type\":\"scatter\"}],                        {\"template\":{\"data\":{\"histogram2dcontour\":[{\"type\":\"histogram2dcontour\",\"colorbar\":{\"outlinewidth\":0,\"ticks\":\"\"},\"colorscale\":[[0.0,\"#0d0887\"],[0.1111111111111111,\"#46039f\"],[0.2222222222222222,\"#7201a8\"],[0.3333333333333333,\"#9c179e\"],[0.4444444444444444,\"#bd3786\"],[0.5555555555555556,\"#d8576b\"],[0.6666666666666666,\"#ed7953\"],[0.7777777777777778,\"#fb9f3a\"],[0.8888888888888888,\"#fdca26\"],[1.0,\"#f0f921\"]]}],\"choropleth\":[{\"type\":\"choropleth\",\"colorbar\":{\"outlinewidth\":0,\"ticks\":\"\"}}],\"histogram2d\":[{\"type\":\"histogram2d\",\"colorbar\":{\"outlinewidth\":0,\"ticks\":\"\"},\"colorscale\":[[0.0,\"#0d0887\"],[0.1111111111111111,\"#46039f\"],[0.2222222222222222,\"#7201a8\"],[0.3333333333333333,\"#9c179e\"],[0.4444444444444444,\"#bd3786\"],[0.5555555555555556,\"#d8576b\"],[0.6666666666666666,\"#ed7953\"],[0.7777777777777778,\"#fb9f3a\"],[0.8888888888888888,\"#fdca26\"],[1.0,\"#f0f921\"]]}],\"heatmap\":[{\"type\":\"heatmap\",\"colorbar\":{\"outlinewidth\":0,\"ticks\":\"\"},\"colorscale\":[[0.0,\"#0d0887\"],[0.1111111111111111,\"#46039f\"],[0.2222222222222222,\"#7201a8\"],[0.3333333333333333,\"#9c179e\"],[0.4444444444444444,\"#bd3786\"],[0.5555555555555556,\"#d8576b\"],[0.6666666666666666,\"#ed7953\"],[0.7777777777777778,\"#fb9f3a\"],[0.8888888888888888,\"#fdca26\"],[1.0,\"#f0f921\"]]}],\"heatmapgl\":[{\"type\":\"heatmapgl\",\"colorbar\":{\"outlinewidth\":0,\"ticks\":\"\"},\"colorscale\":[[0.0,\"#0d0887\"],[0.1111111111111111,\"#46039f\"],[0.2222222222222222,\"#7201a8\"],[0.3333333333333333,\"#9c179e\"],[0.4444444444444444,\"#bd3786\"],[0.5555555555555556,\"#d8576b\"],[0.6666666666666666,\"#ed7953\"],[0.7777777777777778,\"#fb9f3a\"],[0.8888888888888888,\"#fdca26\"],[1.0,\"#f0f921\"]]}],\"contourcarpet\":[{\"type\":\"contourcarpet\",\"colorbar\":{\"outlinewidth\":0,\"ticks\":\"\"}}],\"contour\":[{\"type\":\"contour\",\"colorbar\":{\"outlinewidth\":0,\"ticks\":\"\"},\"colorscale\":[[0.0,\"#0d0887\"],[0.1111111111111111,\"#46039f\"],[0.2222222222222222,\"#7201a8\"],[0.3333333333333333,\"#9c179e\"],[0.4444444444444444,\"#bd3786\"],[0.5555555555555556,\"#d8576b\"],[0.6666666666666666,\"#ed7953\"],[0.7777777777777778,\"#fb9f3a\"],[0.8888888888888888,\"#fdca26\"],[1.0,\"#f0f921\"]]}],\"surface\":[{\"type\":\"surface\",\"colorbar\":{\"outlinewidth\":0,\"ticks\":\"\"},\"colorscale\":[[0.0,\"#0d0887\"],[0.1111111111111111,\"#46039f\"],[0.2222222222222222,\"#7201a8\"],[0.3333333333333333,\"#9c179e\"],[0.4444444444444444,\"#bd3786\"],[0.5555555555555556,\"#d8576b\"],[0.6666666666666666,\"#ed7953\"],[0.7777777777777778,\"#fb9f3a\"],[0.8888888888888888,\"#fdca26\"],[1.0,\"#f0f921\"]]}],\"mesh3d\":[{\"type\":\"mesh3d\",\"colorbar\":{\"outlinewidth\":0,\"ticks\":\"\"}}],\"scatter\":[{\"fillpattern\":{\"fillmode\":\"overlay\",\"size\":10,\"solidity\":0.2},\"type\":\"scatter\"}],\"parcoords\":[{\"type\":\"parcoords\",\"line\":{\"colorbar\":{\"outlinewidth\":0,\"ticks\":\"\"}}}],\"scatterpolargl\":[{\"type\":\"scatterpolargl\",\"marker\":{\"colorbar\":{\"outlinewidth\":0,\"ticks\":\"\"}}}],\"bar\":[{\"error_x\":{\"color\":\"#2a3f5f\"},\"error_y\":{\"color\":\"#2a3f5f\"},\"marker\":{\"line\":{\"color\":\"#E5ECF6\",\"width\":0.5},\"pattern\":{\"fillmode\":\"overlay\",\"size\":10,\"solidity\":0.2}},\"type\":\"bar\"}],\"scattergeo\":[{\"type\":\"scattergeo\",\"marker\":{\"colorbar\":{\"outlinewidth\":0,\"ticks\":\"\"}}}],\"scatterpolar\":[{\"type\":\"scatterpolar\",\"marker\":{\"colorbar\":{\"outlinewidth\":0,\"ticks\":\"\"}}}],\"histogram\":[{\"marker\":{\"pattern\":{\"fillmode\":\"overlay\",\"size\":10,\"solidity\":0.2}},\"type\":\"histogram\"}],\"scattergl\":[{\"type\":\"scattergl\",\"marker\":{\"colorbar\":{\"outlinewidth\":0,\"ticks\":\"\"}}}],\"scatter3d\":[{\"type\":\"scatter3d\",\"line\":{\"colorbar\":{\"outlinewidth\":0,\"ticks\":\"\"}},\"marker\":{\"colorbar\":{\"outlinewidth\":0,\"ticks\":\"\"}}}],\"scattermapbox\":[{\"type\":\"scattermapbox\",\"marker\":{\"colorbar\":{\"outlinewidth\":0,\"ticks\":\"\"}}}],\"scatterternary\":[{\"type\":\"scatterternary\",\"marker\":{\"colorbar\":{\"outlinewidth\":0,\"ticks\":\"\"}}}],\"scattercarpet\":[{\"type\":\"scattercarpet\",\"marker\":{\"colorbar\":{\"outlinewidth\":0,\"ticks\":\"\"}}}],\"carpet\":[{\"aaxis\":{\"endlinecolor\":\"#2a3f5f\",\"gridcolor\":\"white\",\"linecolor\":\"white\",\"minorgridcolor\":\"white\",\"startlinecolor\":\"#2a3f5f\"},\"baxis\":{\"endlinecolor\":\"#2a3f5f\",\"gridcolor\":\"white\",\"linecolor\":\"white\",\"minorgridcolor\":\"white\",\"startlinecolor\":\"#2a3f5f\"},\"type\":\"carpet\"}],\"table\":[{\"cells\":{\"fill\":{\"color\":\"#EBF0F8\"},\"line\":{\"color\":\"white\"}},\"header\":{\"fill\":{\"color\":\"#C8D4E3\"},\"line\":{\"color\":\"white\"}},\"type\":\"table\"}],\"barpolar\":[{\"marker\":{\"line\":{\"color\":\"#E5ECF6\",\"width\":0.5},\"pattern\":{\"fillmode\":\"overlay\",\"size\":10,\"solidity\":0.2}},\"type\":\"barpolar\"}],\"pie\":[{\"automargin\":true,\"type\":\"pie\"}]},\"layout\":{\"autotypenumbers\":\"strict\",\"colorway\":[\"#636efa\",\"#EF553B\",\"#00cc96\",\"#ab63fa\",\"#FFA15A\",\"#19d3f3\",\"#FF6692\",\"#B6E880\",\"#FF97FF\",\"#FECB52\"],\"font\":{\"color\":\"#2a3f5f\"},\"hovermode\":\"closest\",\"hoverlabel\":{\"align\":\"left\"},\"paper_bgcolor\":\"white\",\"plot_bgcolor\":\"#E5ECF6\",\"polar\":{\"bgcolor\":\"#E5ECF6\",\"angularaxis\":{\"gridcolor\":\"white\",\"linecolor\":\"white\",\"ticks\":\"\"},\"radialaxis\":{\"gridcolor\":\"white\",\"linecolor\":\"white\",\"ticks\":\"\"}},\"ternary\":{\"bgcolor\":\"#E5ECF6\",\"aaxis\":{\"gridcolor\":\"white\",\"linecolor\":\"white\",\"ticks\":\"\"},\"baxis\":{\"gridcolor\":\"white\",\"linecolor\":\"white\",\"ticks\":\"\"},\"caxis\":{\"gridcolor\":\"white\",\"linecolor\":\"white\",\"ticks\":\"\"}},\"coloraxis\":{\"colorbar\":{\"outlinewidth\":0,\"ticks\":\"\"}},\"colorscale\":{\"sequential\":[[0.0,\"#0d0887\"],[0.1111111111111111,\"#46039f\"],[0.2222222222222222,\"#7201a8\"],[0.3333333333333333,\"#9c179e\"],[0.4444444444444444,\"#bd3786\"],[0.5555555555555556,\"#d8576b\"],[0.6666666666666666,\"#ed7953\"],[0.7777777777777778,\"#fb9f3a\"],[0.8888888888888888,\"#fdca26\"],[1.0,\"#f0f921\"]],\"sequentialminus\":[[0.0,\"#0d0887\"],[0.1111111111111111,\"#46039f\"],[0.2222222222222222,\"#7201a8\"],[0.3333333333333333,\"#9c179e\"],[0.4444444444444444,\"#bd3786\"],[0.5555555555555556,\"#d8576b\"],[0.6666666666666666,\"#ed7953\"],[0.7777777777777778,\"#fb9f3a\"],[0.8888888888888888,\"#fdca26\"],[1.0,\"#f0f921\"]],\"diverging\":[[0,\"#8e0152\"],[0.1,\"#c51b7d\"],[0.2,\"#de77ae\"],[0.3,\"#f1b6da\"],[0.4,\"#fde0ef\"],[0.5,\"#f7f7f7\"],[0.6,\"#e6f5d0\"],[0.7,\"#b8e186\"],[0.8,\"#7fbc41\"],[0.9,\"#4d9221\"],[1,\"#276419\"]]},\"xaxis\":{\"gridcolor\":\"white\",\"linecolor\":\"white\",\"ticks\":\"\",\"title\":{\"standoff\":15},\"zerolinecolor\":\"white\",\"automargin\":true,\"zerolinewidth\":2},\"yaxis\":{\"gridcolor\":\"white\",\"linecolor\":\"white\",\"ticks\":\"\",\"title\":{\"standoff\":15},\"zerolinecolor\":\"white\",\"automargin\":true,\"zerolinewidth\":2},\"scene\":{\"xaxis\":{\"backgroundcolor\":\"#E5ECF6\",\"gridcolor\":\"white\",\"linecolor\":\"white\",\"showbackground\":true,\"ticks\":\"\",\"zerolinecolor\":\"white\",\"gridwidth\":2},\"yaxis\":{\"backgroundcolor\":\"#E5ECF6\",\"gridcolor\":\"white\",\"linecolor\":\"white\",\"showbackground\":true,\"ticks\":\"\",\"zerolinecolor\":\"white\",\"gridwidth\":2},\"zaxis\":{\"backgroundcolor\":\"#E5ECF6\",\"gridcolor\":\"white\",\"linecolor\":\"white\",\"showbackground\":true,\"ticks\":\"\",\"zerolinecolor\":\"white\",\"gridwidth\":2}},\"shapedefaults\":{\"line\":{\"color\":\"#2a3f5f\"}},\"annotationdefaults\":{\"arrowcolor\":\"#2a3f5f\",\"arrowhead\":0,\"arrowwidth\":1},\"geo\":{\"bgcolor\":\"white\",\"landcolor\":\"#E5ECF6\",\"subunitcolor\":\"white\",\"showland\":true,\"showlakes\":true,\"lakecolor\":\"white\"},\"title\":{\"x\":0.05},\"mapbox\":{\"style\":\"light\"}}},\"xaxis\":{\"anchor\":\"y\",\"domain\":[0.0,1.0],\"title\":{\"text\":\"energy\"}},\"yaxis\":{\"anchor\":\"x\",\"domain\":[0.0,1.0],\"title\":{\"text\":\"danceability\"}},\"legend\":{\"title\":{\"text\":\"mode\"},\"tracegroupgap\":0},\"margin\":{\"t\":60}},                        {\"responsive\": true}                    ).then(function(){\n",
       "                            \n",
       "var gd = document.getElementById('fa7a99ca-cac6-4a7f-9e86-a31bf39c2669');\n",
       "var x = new MutationObserver(function (mutations, observer) {{\n",
       "        var display = window.getComputedStyle(gd).display;\n",
       "        if (!display || display === 'none') {{\n",
       "            console.log([gd, 'removed!']);\n",
       "            Plotly.purge(gd);\n",
       "            observer.disconnect();\n",
       "        }}\n",
       "}});\n",
       "\n",
       "// Listen for the removal of the full notebook cells\n",
       "var notebookContainer = gd.closest('#notebook-container');\n",
       "if (notebookContainer) {{\n",
       "    x.observe(notebookContainer, {childList: true});\n",
       "}}\n",
       "\n",
       "// Listen for the clearing of the current output cell\n",
       "var outputEl = gd.closest('.output');\n",
       "if (outputEl) {{\n",
       "    x.observe(outputEl, {childList: true});\n",
       "}}\n",
       "\n",
       "                        })                };                });            </script>        </div>"
      ]
     },
     "metadata": {},
     "output_type": "display_data"
    }
   ],
   "source": [
    "# New plot that no longer has the continuous scale on the right\n",
    "# assuming \"mode\" is now a column whose values are either \"minor\" or \"major\" \n",
    "\n",
    "fig = px.scatter(songs, x=\"energy\", y=\"danceability\", trendline=\"ols\", color=\"mode\")\n",
    "fig.show()\n",
    "# Hint: if this is not showing different slopes for the \"minor\" and \"major\" values of \n",
    "# the `mode` column, you should double check the value of the `mode` column...\n",
    "# It may not actually contain \"minor\" and \"major\" values..."
   ]
  },
  {
   "cell_type": "markdown",
   "id": "d40b3410",
   "metadata": {},
   "source": [
    "### Q17: Use `statsmodels` to fit a linear regression model predicting the `danceability` of a song based only on the `energy`.\n",
    "\n",
    "#### Assign this fitted model to `model1_fit`."
   ]
  },
  {
   "cell_type": "code",
   "execution_count": null,
   "id": "f9c2ac41",
   "metadata": {},
   "outputs": [],
   "source": [
    "# model1_fit specification and fitting\n"
   ]
  },
  {
   "cell_type": "code",
   "execution_count": 24,
   "id": "cceff2d7",
   "metadata": {},
   "outputs": [],
   "source": [
    "# Q17: confirm the correctness of your fitted model here!\n",
    "model1_intercept = None # Provde 3 digits of accuracy as given by `np.round(answer, 3)` or the `.round(3)` method\n",
    "model1_energy_slope = None # Provde 3 digits of accuracy as given by `np.round(answer, 3)` or the `.round(3)` method\n",
    "\n",
    "Q17 = (model1_intercept, model1_energy_slope)\n",
    "# E.g., Q17 = (0.123, 0.123)"
   ]
  },
  {
   "cell_type": "markdown",
   "id": "e875f795",
   "metadata": {},
   "source": [
    "### Q18: Demonstrate how well the predicted outcome values match the actually observed outcome values\n",
    "\n",
    "#### Use and repurpose the code below to plot the residuals $\\hat y - y$ (on the y-axis) against the predicted outcome values $\\hat y$ (on the x-axis) and choose the best answer from the following options\n",
    "\n",
    "A. predicting using the model does not appear to be better than just predicting everything as the average of the observed outcomes $\\bar y$.\n",
    "\n",
    "B. predicting using the model is slightly better than just predicting everything as the average of the observed outcomes $\\bar y$ as judged by the reduced variability in the residuals and the resulting reduction in the limits of the y-axis.\n",
    "\n",
    "C. predicting using the model is slightly better than just predicting everything as the average of the observed outcomes $\\bar y$ as judged by the slightly reduced variability in the residuals and the resulting reduction in the range of the y-axis; however, there is a strange systematic pattern in the residuals that seems to violate the homoeskedasticity assumption (and it may also correspondingly be the case that the residuals may not be particularly approximately normally distributed).\n",
    "\n",
    "D. predicting using the model is significantly better than just predicting everything as the average of the observed outcomes $\\bar y$ as judged by the highly reduced variability in the residuals and the resulting reduction in the range of the y-axis.\n",
    "\n",
    "\n",
    "> - Hint 1: The actual observed outcome values of a fitted model `model1_fit` are accessible with `model1_fit.model.endog`, while the corresponding predicted outcome values are accessible with `model1_fit.model.predict()`.\n",
    ">\n",
    ">\n",
    "> - Hint 2: Have a look at the figures below and repurpose the code to produce the requested figure. \n",
    "> \n",
    "> ```python\n",
    "> import plotly.express as px\n",
    "> import plotly.graph_objects as go\n",
    "> \n",
    "> fig = px.scatter(x=songs.energy, y=songs.danceability, \n",
    ">                  labels={\"x\": \"energy\", \"y\": \"danceability\"})\n",
    "> fig.add_trace(go.Scatter(x=[0, 1], y=[songs.danceability.mean()]*2, \n",
    ">                          name=\"y-bar\", line_shape='linear')); fig.show()\n",
    "> \n",
    "> fig = px.scatter(x=songs.energy, y=songs.danceability-songs.danceability.mean(), \n",
    ">                  labels={\"x\": \"energy\", \"y\": \"danceability - average danceability\"})\n",
    "> fig.add_trace(go.Scatter(x=[0, 1], y=[0]*2, name=\"0\", line_shape='linear')); fig.show()\n",
    "> ```\n",
    ">\n",
    "> - Hint 3: For the purposes of this question, the standard parameter and argument pairs for `px.scatter()` would be `x = model1_fit.predict()` and `y = model1_fit.model.endog-model1_fit.predict()` with the relevant baseline subsequently being the `y-yhat = 0` line created with \n",
    ">\n",
    ">   ```python\n",
    "> fig.add_trace(go.Scatter(x=[model1_fit.predict().min(), model1_fit.predict().max()], \n",
    "                           y=[0]*2, name=\"y-bar\", line_shape='linear'))\n",
    "> ```                         \n",
    ">\n",
    ">\n",
    "> - Hint 4: it's very common to look at the distribution of the residuals as given by \n",
    ">\n",
    ">   ```python\n",
    "> import plotly.express as px\n",
    "> px.histogram(pd.DataFrame({'residuals': model1_fit.model.endog-model1_fit.predict()}),\n",
    ">              x='residuals')\n",
    "> ```\n",
    "> which in this case appears to show some differences from normally distributed data..."
   ]
  },
  {
   "cell_type": "code",
   "execution_count": 27,
   "id": "7a3d8752",
   "metadata": {},
   "outputs": [
    {
     "data": {
      "application/vnd.plotly.v1+json": {
       "config": {
        "plotlyServerURL": "https://plot.ly"
       },
       "data": [
        {
         "hovertemplate": "energy=%{x}<br>danceability=%{y}<extra></extra>",
         "legendgroup": "",
         "marker": {
          "color": "#636efa",
          "symbol": "circle"
         },
         "mode": "markers",
         "name": "",
         "orientation": "v",
         "showlegend": false,
         "type": "scatter",
         "x": [
          0.655,
          0.721,
          0.478,
          0.551,
          0.256,
          0.45,
          0.535,
          0.832,
          0.0187,
          0.124,
          0.491,
          0.836,
          0.585,
          0.787,
          0.712,
          0.727,
          0.934,
          0.852,
          0.723,
          0.764,
          0.809,
          0.581,
          0.162,
          0.447,
          0.326,
          0.325,
          0.442,
          0.0181,
          0.741,
          0.459,
          0.701,
          0.765,
          0.59,
          0.574,
          0.446,
          0.338,
          0.669,
          0.641,
          0.913,
          0.757,
          0.673
         ],
         "xaxis": "x",
         "y": [
          0.425,
          0.623,
          0.607,
          0.422,
          0.72,
          0.761,
          0.707,
          0.697,
          0.163,
          0.294,
          0.399,
          0.593,
          0.449,
          0.66,
          0.526,
          0.751,
          0.562,
          0.77,
          0.633,
          0.746,
          0.665,
          0.705,
          0.156,
          0.806,
          0.704,
          0.802,
          0.763,
          0.143,
          0.702,
          0.759,
          0.588,
          0.746,
          0.691,
          0.616,
          0.801,
          0.388,
          0.457,
          0.774,
          0.758,
          0.561,
          0.451
         ],
         "yaxis": "y"
        },
        {
         "line": {
          "shape": "linear"
         },
         "name": "y-bar",
         "type": "scatter",
         "x": [
          0,
          1
         ],
         "y": [
          0.5986341463414634,
          0.5986341463414634
         ]
        }
       ],
       "layout": {
        "legend": {
         "tracegroupgap": 0
        },
        "margin": {
         "t": 60
        },
        "template": {
         "data": {
          "bar": [
           {
            "error_x": {
             "color": "#2a3f5f"
            },
            "error_y": {
             "color": "#2a3f5f"
            },
            "marker": {
             "line": {
              "color": "#E5ECF6",
              "width": 0.5
             },
             "pattern": {
              "fillmode": "overlay",
              "size": 10,
              "solidity": 0.2
             }
            },
            "type": "bar"
           }
          ],
          "barpolar": [
           {
            "marker": {
             "line": {
              "color": "#E5ECF6",
              "width": 0.5
             },
             "pattern": {
              "fillmode": "overlay",
              "size": 10,
              "solidity": 0.2
             }
            },
            "type": "barpolar"
           }
          ],
          "carpet": [
           {
            "aaxis": {
             "endlinecolor": "#2a3f5f",
             "gridcolor": "white",
             "linecolor": "white",
             "minorgridcolor": "white",
             "startlinecolor": "#2a3f5f"
            },
            "baxis": {
             "endlinecolor": "#2a3f5f",
             "gridcolor": "white",
             "linecolor": "white",
             "minorgridcolor": "white",
             "startlinecolor": "#2a3f5f"
            },
            "type": "carpet"
           }
          ],
          "choropleth": [
           {
            "colorbar": {
             "outlinewidth": 0,
             "ticks": ""
            },
            "type": "choropleth"
           }
          ],
          "contour": [
           {
            "colorbar": {
             "outlinewidth": 0,
             "ticks": ""
            },
            "colorscale": [
             [
              0,
              "#0d0887"
             ],
             [
              0.1111111111111111,
              "#46039f"
             ],
             [
              0.2222222222222222,
              "#7201a8"
             ],
             [
              0.3333333333333333,
              "#9c179e"
             ],
             [
              0.4444444444444444,
              "#bd3786"
             ],
             [
              0.5555555555555556,
              "#d8576b"
             ],
             [
              0.6666666666666666,
              "#ed7953"
             ],
             [
              0.7777777777777778,
              "#fb9f3a"
             ],
             [
              0.8888888888888888,
              "#fdca26"
             ],
             [
              1,
              "#f0f921"
             ]
            ],
            "type": "contour"
           }
          ],
          "contourcarpet": [
           {
            "colorbar": {
             "outlinewidth": 0,
             "ticks": ""
            },
            "type": "contourcarpet"
           }
          ],
          "heatmap": [
           {
            "colorbar": {
             "outlinewidth": 0,
             "ticks": ""
            },
            "colorscale": [
             [
              0,
              "#0d0887"
             ],
             [
              0.1111111111111111,
              "#46039f"
             ],
             [
              0.2222222222222222,
              "#7201a8"
             ],
             [
              0.3333333333333333,
              "#9c179e"
             ],
             [
              0.4444444444444444,
              "#bd3786"
             ],
             [
              0.5555555555555556,
              "#d8576b"
             ],
             [
              0.6666666666666666,
              "#ed7953"
             ],
             [
              0.7777777777777778,
              "#fb9f3a"
             ],
             [
              0.8888888888888888,
              "#fdca26"
             ],
             [
              1,
              "#f0f921"
             ]
            ],
            "type": "heatmap"
           }
          ],
          "heatmapgl": [
           {
            "colorbar": {
             "outlinewidth": 0,
             "ticks": ""
            },
            "colorscale": [
             [
              0,
              "#0d0887"
             ],
             [
              0.1111111111111111,
              "#46039f"
             ],
             [
              0.2222222222222222,
              "#7201a8"
             ],
             [
              0.3333333333333333,
              "#9c179e"
             ],
             [
              0.4444444444444444,
              "#bd3786"
             ],
             [
              0.5555555555555556,
              "#d8576b"
             ],
             [
              0.6666666666666666,
              "#ed7953"
             ],
             [
              0.7777777777777778,
              "#fb9f3a"
             ],
             [
              0.8888888888888888,
              "#fdca26"
             ],
             [
              1,
              "#f0f921"
             ]
            ],
            "type": "heatmapgl"
           }
          ],
          "histogram": [
           {
            "marker": {
             "pattern": {
              "fillmode": "overlay",
              "size": 10,
              "solidity": 0.2
             }
            },
            "type": "histogram"
           }
          ],
          "histogram2d": [
           {
            "colorbar": {
             "outlinewidth": 0,
             "ticks": ""
            },
            "colorscale": [
             [
              0,
              "#0d0887"
             ],
             [
              0.1111111111111111,
              "#46039f"
             ],
             [
              0.2222222222222222,
              "#7201a8"
             ],
             [
              0.3333333333333333,
              "#9c179e"
             ],
             [
              0.4444444444444444,
              "#bd3786"
             ],
             [
              0.5555555555555556,
              "#d8576b"
             ],
             [
              0.6666666666666666,
              "#ed7953"
             ],
             [
              0.7777777777777778,
              "#fb9f3a"
             ],
             [
              0.8888888888888888,
              "#fdca26"
             ],
             [
              1,
              "#f0f921"
             ]
            ],
            "type": "histogram2d"
           }
          ],
          "histogram2dcontour": [
           {
            "colorbar": {
             "outlinewidth": 0,
             "ticks": ""
            },
            "colorscale": [
             [
              0,
              "#0d0887"
             ],
             [
              0.1111111111111111,
              "#46039f"
             ],
             [
              0.2222222222222222,
              "#7201a8"
             ],
             [
              0.3333333333333333,
              "#9c179e"
             ],
             [
              0.4444444444444444,
              "#bd3786"
             ],
             [
              0.5555555555555556,
              "#d8576b"
             ],
             [
              0.6666666666666666,
              "#ed7953"
             ],
             [
              0.7777777777777778,
              "#fb9f3a"
             ],
             [
              0.8888888888888888,
              "#fdca26"
             ],
             [
              1,
              "#f0f921"
             ]
            ],
            "type": "histogram2dcontour"
           }
          ],
          "mesh3d": [
           {
            "colorbar": {
             "outlinewidth": 0,
             "ticks": ""
            },
            "type": "mesh3d"
           }
          ],
          "parcoords": [
           {
            "line": {
             "colorbar": {
              "outlinewidth": 0,
              "ticks": ""
             }
            },
            "type": "parcoords"
           }
          ],
          "pie": [
           {
            "automargin": true,
            "type": "pie"
           }
          ],
          "scatter": [
           {
            "fillpattern": {
             "fillmode": "overlay",
             "size": 10,
             "solidity": 0.2
            },
            "type": "scatter"
           }
          ],
          "scatter3d": [
           {
            "line": {
             "colorbar": {
              "outlinewidth": 0,
              "ticks": ""
             }
            },
            "marker": {
             "colorbar": {
              "outlinewidth": 0,
              "ticks": ""
             }
            },
            "type": "scatter3d"
           }
          ],
          "scattercarpet": [
           {
            "marker": {
             "colorbar": {
              "outlinewidth": 0,
              "ticks": ""
             }
            },
            "type": "scattercarpet"
           }
          ],
          "scattergeo": [
           {
            "marker": {
             "colorbar": {
              "outlinewidth": 0,
              "ticks": ""
             }
            },
            "type": "scattergeo"
           }
          ],
          "scattergl": [
           {
            "marker": {
             "colorbar": {
              "outlinewidth": 0,
              "ticks": ""
             }
            },
            "type": "scattergl"
           }
          ],
          "scattermapbox": [
           {
            "marker": {
             "colorbar": {
              "outlinewidth": 0,
              "ticks": ""
             }
            },
            "type": "scattermapbox"
           }
          ],
          "scatterpolar": [
           {
            "marker": {
             "colorbar": {
              "outlinewidth": 0,
              "ticks": ""
             }
            },
            "type": "scatterpolar"
           }
          ],
          "scatterpolargl": [
           {
            "marker": {
             "colorbar": {
              "outlinewidth": 0,
              "ticks": ""
             }
            },
            "type": "scatterpolargl"
           }
          ],
          "scatterternary": [
           {
            "marker": {
             "colorbar": {
              "outlinewidth": 0,
              "ticks": ""
             }
            },
            "type": "scatterternary"
           }
          ],
          "surface": [
           {
            "colorbar": {
             "outlinewidth": 0,
             "ticks": ""
            },
            "colorscale": [
             [
              0,
              "#0d0887"
             ],
             [
              0.1111111111111111,
              "#46039f"
             ],
             [
              0.2222222222222222,
              "#7201a8"
             ],
             [
              0.3333333333333333,
              "#9c179e"
             ],
             [
              0.4444444444444444,
              "#bd3786"
             ],
             [
              0.5555555555555556,
              "#d8576b"
             ],
             [
              0.6666666666666666,
              "#ed7953"
             ],
             [
              0.7777777777777778,
              "#fb9f3a"
             ],
             [
              0.8888888888888888,
              "#fdca26"
             ],
             [
              1,
              "#f0f921"
             ]
            ],
            "type": "surface"
           }
          ],
          "table": [
           {
            "cells": {
             "fill": {
              "color": "#EBF0F8"
             },
             "line": {
              "color": "white"
             }
            },
            "header": {
             "fill": {
              "color": "#C8D4E3"
             },
             "line": {
              "color": "white"
             }
            },
            "type": "table"
           }
          ]
         },
         "layout": {
          "annotationdefaults": {
           "arrowcolor": "#2a3f5f",
           "arrowhead": 0,
           "arrowwidth": 1
          },
          "autotypenumbers": "strict",
          "coloraxis": {
           "colorbar": {
            "outlinewidth": 0,
            "ticks": ""
           }
          },
          "colorscale": {
           "diverging": [
            [
             0,
             "#8e0152"
            ],
            [
             0.1,
             "#c51b7d"
            ],
            [
             0.2,
             "#de77ae"
            ],
            [
             0.3,
             "#f1b6da"
            ],
            [
             0.4,
             "#fde0ef"
            ],
            [
             0.5,
             "#f7f7f7"
            ],
            [
             0.6,
             "#e6f5d0"
            ],
            [
             0.7,
             "#b8e186"
            ],
            [
             0.8,
             "#7fbc41"
            ],
            [
             0.9,
             "#4d9221"
            ],
            [
             1,
             "#276419"
            ]
           ],
           "sequential": [
            [
             0,
             "#0d0887"
            ],
            [
             0.1111111111111111,
             "#46039f"
            ],
            [
             0.2222222222222222,
             "#7201a8"
            ],
            [
             0.3333333333333333,
             "#9c179e"
            ],
            [
             0.4444444444444444,
             "#bd3786"
            ],
            [
             0.5555555555555556,
             "#d8576b"
            ],
            [
             0.6666666666666666,
             "#ed7953"
            ],
            [
             0.7777777777777778,
             "#fb9f3a"
            ],
            [
             0.8888888888888888,
             "#fdca26"
            ],
            [
             1,
             "#f0f921"
            ]
           ],
           "sequentialminus": [
            [
             0,
             "#0d0887"
            ],
            [
             0.1111111111111111,
             "#46039f"
            ],
            [
             0.2222222222222222,
             "#7201a8"
            ],
            [
             0.3333333333333333,
             "#9c179e"
            ],
            [
             0.4444444444444444,
             "#bd3786"
            ],
            [
             0.5555555555555556,
             "#d8576b"
            ],
            [
             0.6666666666666666,
             "#ed7953"
            ],
            [
             0.7777777777777778,
             "#fb9f3a"
            ],
            [
             0.8888888888888888,
             "#fdca26"
            ],
            [
             1,
             "#f0f921"
            ]
           ]
          },
          "colorway": [
           "#636efa",
           "#EF553B",
           "#00cc96",
           "#ab63fa",
           "#FFA15A",
           "#19d3f3",
           "#FF6692",
           "#B6E880",
           "#FF97FF",
           "#FECB52"
          ],
          "font": {
           "color": "#2a3f5f"
          },
          "geo": {
           "bgcolor": "white",
           "lakecolor": "white",
           "landcolor": "#E5ECF6",
           "showlakes": true,
           "showland": true,
           "subunitcolor": "white"
          },
          "hoverlabel": {
           "align": "left"
          },
          "hovermode": "closest",
          "mapbox": {
           "style": "light"
          },
          "paper_bgcolor": "white",
          "plot_bgcolor": "#E5ECF6",
          "polar": {
           "angularaxis": {
            "gridcolor": "white",
            "linecolor": "white",
            "ticks": ""
           },
           "bgcolor": "#E5ECF6",
           "radialaxis": {
            "gridcolor": "white",
            "linecolor": "white",
            "ticks": ""
           }
          },
          "scene": {
           "xaxis": {
            "backgroundcolor": "#E5ECF6",
            "gridcolor": "white",
            "gridwidth": 2,
            "linecolor": "white",
            "showbackground": true,
            "ticks": "",
            "zerolinecolor": "white"
           },
           "yaxis": {
            "backgroundcolor": "#E5ECF6",
            "gridcolor": "white",
            "gridwidth": 2,
            "linecolor": "white",
            "showbackground": true,
            "ticks": "",
            "zerolinecolor": "white"
           },
           "zaxis": {
            "backgroundcolor": "#E5ECF6",
            "gridcolor": "white",
            "gridwidth": 2,
            "linecolor": "white",
            "showbackground": true,
            "ticks": "",
            "zerolinecolor": "white"
           }
          },
          "shapedefaults": {
           "line": {
            "color": "#2a3f5f"
           }
          },
          "ternary": {
           "aaxis": {
            "gridcolor": "white",
            "linecolor": "white",
            "ticks": ""
           },
           "baxis": {
            "gridcolor": "white",
            "linecolor": "white",
            "ticks": ""
           },
           "bgcolor": "#E5ECF6",
           "caxis": {
            "gridcolor": "white",
            "linecolor": "white",
            "ticks": ""
           }
          },
          "title": {
           "x": 0.05
          },
          "xaxis": {
           "automargin": true,
           "gridcolor": "white",
           "linecolor": "white",
           "ticks": "",
           "title": {
            "standoff": 15
           },
           "zerolinecolor": "white",
           "zerolinewidth": 2
          },
          "yaxis": {
           "automargin": true,
           "gridcolor": "white",
           "linecolor": "white",
           "ticks": "",
           "title": {
            "standoff": 15
           },
           "zerolinecolor": "white",
           "zerolinewidth": 2
          }
         }
        },
        "xaxis": {
         "anchor": "y",
         "domain": [
          0,
          1
         ],
         "title": {
          "text": "energy"
         }
        },
        "yaxis": {
         "anchor": "x",
         "domain": [
          0,
          1
         ],
         "title": {
          "text": "danceability"
         }
        }
       }
      },
      "text/html": [
       "<div>                            <div id=\"f79c2a15-b402-4ac8-9af5-fea45b0a7dd2\" class=\"plotly-graph-div\" style=\"height:525px; width:100%;\"></div>            <script type=\"text/javascript\">                require([\"plotly\"], function(Plotly) {                    window.PLOTLYENV=window.PLOTLYENV || {};                                    if (document.getElementById(\"f79c2a15-b402-4ac8-9af5-fea45b0a7dd2\")) {                    Plotly.newPlot(                        \"f79c2a15-b402-4ac8-9af5-fea45b0a7dd2\",                        [{\"hovertemplate\":\"energy=%{x}\\u003cbr\\u003edanceability=%{y}\\u003cextra\\u003e\\u003c\\u002fextra\\u003e\",\"legendgroup\":\"\",\"marker\":{\"color\":\"#636efa\",\"symbol\":\"circle\"},\"mode\":\"markers\",\"name\":\"\",\"orientation\":\"v\",\"showlegend\":false,\"x\":[0.655,0.721,0.478,0.551,0.256,0.45,0.535,0.832,0.0187,0.124,0.491,0.836,0.585,0.787,0.712,0.727,0.934,0.852,0.723,0.764,0.809,0.581,0.162,0.447,0.326,0.325,0.442,0.0181,0.741,0.459,0.701,0.765,0.59,0.574,0.446,0.338,0.669,0.641,0.913,0.757,0.673],\"xaxis\":\"x\",\"y\":[0.425,0.623,0.607,0.422,0.72,0.761,0.707,0.697,0.163,0.294,0.399,0.593,0.449,0.66,0.526,0.751,0.562,0.77,0.633,0.746,0.665,0.705,0.156,0.806,0.704,0.802,0.763,0.143,0.702,0.759,0.588,0.746,0.691,0.616,0.801,0.388,0.457,0.774,0.758,0.561,0.451],\"yaxis\":\"y\",\"type\":\"scatter\"},{\"line\":{\"shape\":\"linear\"},\"name\":\"y-bar\",\"x\":[0,1],\"y\":[0.5986341463414634,0.5986341463414634],\"type\":\"scatter\"}],                        {\"template\":{\"data\":{\"histogram2dcontour\":[{\"type\":\"histogram2dcontour\",\"colorbar\":{\"outlinewidth\":0,\"ticks\":\"\"},\"colorscale\":[[0.0,\"#0d0887\"],[0.1111111111111111,\"#46039f\"],[0.2222222222222222,\"#7201a8\"],[0.3333333333333333,\"#9c179e\"],[0.4444444444444444,\"#bd3786\"],[0.5555555555555556,\"#d8576b\"],[0.6666666666666666,\"#ed7953\"],[0.7777777777777778,\"#fb9f3a\"],[0.8888888888888888,\"#fdca26\"],[1.0,\"#f0f921\"]]}],\"choropleth\":[{\"type\":\"choropleth\",\"colorbar\":{\"outlinewidth\":0,\"ticks\":\"\"}}],\"histogram2d\":[{\"type\":\"histogram2d\",\"colorbar\":{\"outlinewidth\":0,\"ticks\":\"\"},\"colorscale\":[[0.0,\"#0d0887\"],[0.1111111111111111,\"#46039f\"],[0.2222222222222222,\"#7201a8\"],[0.3333333333333333,\"#9c179e\"],[0.4444444444444444,\"#bd3786\"],[0.5555555555555556,\"#d8576b\"],[0.6666666666666666,\"#ed7953\"],[0.7777777777777778,\"#fb9f3a\"],[0.8888888888888888,\"#fdca26\"],[1.0,\"#f0f921\"]]}],\"heatmap\":[{\"type\":\"heatmap\",\"colorbar\":{\"outlinewidth\":0,\"ticks\":\"\"},\"colorscale\":[[0.0,\"#0d0887\"],[0.1111111111111111,\"#46039f\"],[0.2222222222222222,\"#7201a8\"],[0.3333333333333333,\"#9c179e\"],[0.4444444444444444,\"#bd3786\"],[0.5555555555555556,\"#d8576b\"],[0.6666666666666666,\"#ed7953\"],[0.7777777777777778,\"#fb9f3a\"],[0.8888888888888888,\"#fdca26\"],[1.0,\"#f0f921\"]]}],\"heatmapgl\":[{\"type\":\"heatmapgl\",\"colorbar\":{\"outlinewidth\":0,\"ticks\":\"\"},\"colorscale\":[[0.0,\"#0d0887\"],[0.1111111111111111,\"#46039f\"],[0.2222222222222222,\"#7201a8\"],[0.3333333333333333,\"#9c179e\"],[0.4444444444444444,\"#bd3786\"],[0.5555555555555556,\"#d8576b\"],[0.6666666666666666,\"#ed7953\"],[0.7777777777777778,\"#fb9f3a\"],[0.8888888888888888,\"#fdca26\"],[1.0,\"#f0f921\"]]}],\"contourcarpet\":[{\"type\":\"contourcarpet\",\"colorbar\":{\"outlinewidth\":0,\"ticks\":\"\"}}],\"contour\":[{\"type\":\"contour\",\"colorbar\":{\"outlinewidth\":0,\"ticks\":\"\"},\"colorscale\":[[0.0,\"#0d0887\"],[0.1111111111111111,\"#46039f\"],[0.2222222222222222,\"#7201a8\"],[0.3333333333333333,\"#9c179e\"],[0.4444444444444444,\"#bd3786\"],[0.5555555555555556,\"#d8576b\"],[0.6666666666666666,\"#ed7953\"],[0.7777777777777778,\"#fb9f3a\"],[0.8888888888888888,\"#fdca26\"],[1.0,\"#f0f921\"]]}],\"surface\":[{\"type\":\"surface\",\"colorbar\":{\"outlinewidth\":0,\"ticks\":\"\"},\"colorscale\":[[0.0,\"#0d0887\"],[0.1111111111111111,\"#46039f\"],[0.2222222222222222,\"#7201a8\"],[0.3333333333333333,\"#9c179e\"],[0.4444444444444444,\"#bd3786\"],[0.5555555555555556,\"#d8576b\"],[0.6666666666666666,\"#ed7953\"],[0.7777777777777778,\"#fb9f3a\"],[0.8888888888888888,\"#fdca26\"],[1.0,\"#f0f921\"]]}],\"mesh3d\":[{\"type\":\"mesh3d\",\"colorbar\":{\"outlinewidth\":0,\"ticks\":\"\"}}],\"scatter\":[{\"fillpattern\":{\"fillmode\":\"overlay\",\"size\":10,\"solidity\":0.2},\"type\":\"scatter\"}],\"parcoords\":[{\"type\":\"parcoords\",\"line\":{\"colorbar\":{\"outlinewidth\":0,\"ticks\":\"\"}}}],\"scatterpolargl\":[{\"type\":\"scatterpolargl\",\"marker\":{\"colorbar\":{\"outlinewidth\":0,\"ticks\":\"\"}}}],\"bar\":[{\"error_x\":{\"color\":\"#2a3f5f\"},\"error_y\":{\"color\":\"#2a3f5f\"},\"marker\":{\"line\":{\"color\":\"#E5ECF6\",\"width\":0.5},\"pattern\":{\"fillmode\":\"overlay\",\"size\":10,\"solidity\":0.2}},\"type\":\"bar\"}],\"scattergeo\":[{\"type\":\"scattergeo\",\"marker\":{\"colorbar\":{\"outlinewidth\":0,\"ticks\":\"\"}}}],\"scatterpolar\":[{\"type\":\"scatterpolar\",\"marker\":{\"colorbar\":{\"outlinewidth\":0,\"ticks\":\"\"}}}],\"histogram\":[{\"marker\":{\"pattern\":{\"fillmode\":\"overlay\",\"size\":10,\"solidity\":0.2}},\"type\":\"histogram\"}],\"scattergl\":[{\"type\":\"scattergl\",\"marker\":{\"colorbar\":{\"outlinewidth\":0,\"ticks\":\"\"}}}],\"scatter3d\":[{\"type\":\"scatter3d\",\"line\":{\"colorbar\":{\"outlinewidth\":0,\"ticks\":\"\"}},\"marker\":{\"colorbar\":{\"outlinewidth\":0,\"ticks\":\"\"}}}],\"scattermapbox\":[{\"type\":\"scattermapbox\",\"marker\":{\"colorbar\":{\"outlinewidth\":0,\"ticks\":\"\"}}}],\"scatterternary\":[{\"type\":\"scatterternary\",\"marker\":{\"colorbar\":{\"outlinewidth\":0,\"ticks\":\"\"}}}],\"scattercarpet\":[{\"type\":\"scattercarpet\",\"marker\":{\"colorbar\":{\"outlinewidth\":0,\"ticks\":\"\"}}}],\"carpet\":[{\"aaxis\":{\"endlinecolor\":\"#2a3f5f\",\"gridcolor\":\"white\",\"linecolor\":\"white\",\"minorgridcolor\":\"white\",\"startlinecolor\":\"#2a3f5f\"},\"baxis\":{\"endlinecolor\":\"#2a3f5f\",\"gridcolor\":\"white\",\"linecolor\":\"white\",\"minorgridcolor\":\"white\",\"startlinecolor\":\"#2a3f5f\"},\"type\":\"carpet\"}],\"table\":[{\"cells\":{\"fill\":{\"color\":\"#EBF0F8\"},\"line\":{\"color\":\"white\"}},\"header\":{\"fill\":{\"color\":\"#C8D4E3\"},\"line\":{\"color\":\"white\"}},\"type\":\"table\"}],\"barpolar\":[{\"marker\":{\"line\":{\"color\":\"#E5ECF6\",\"width\":0.5},\"pattern\":{\"fillmode\":\"overlay\",\"size\":10,\"solidity\":0.2}},\"type\":\"barpolar\"}],\"pie\":[{\"automargin\":true,\"type\":\"pie\"}]},\"layout\":{\"autotypenumbers\":\"strict\",\"colorway\":[\"#636efa\",\"#EF553B\",\"#00cc96\",\"#ab63fa\",\"#FFA15A\",\"#19d3f3\",\"#FF6692\",\"#B6E880\",\"#FF97FF\",\"#FECB52\"],\"font\":{\"color\":\"#2a3f5f\"},\"hovermode\":\"closest\",\"hoverlabel\":{\"align\":\"left\"},\"paper_bgcolor\":\"white\",\"plot_bgcolor\":\"#E5ECF6\",\"polar\":{\"bgcolor\":\"#E5ECF6\",\"angularaxis\":{\"gridcolor\":\"white\",\"linecolor\":\"white\",\"ticks\":\"\"},\"radialaxis\":{\"gridcolor\":\"white\",\"linecolor\":\"white\",\"ticks\":\"\"}},\"ternary\":{\"bgcolor\":\"#E5ECF6\",\"aaxis\":{\"gridcolor\":\"white\",\"linecolor\":\"white\",\"ticks\":\"\"},\"baxis\":{\"gridcolor\":\"white\",\"linecolor\":\"white\",\"ticks\":\"\"},\"caxis\":{\"gridcolor\":\"white\",\"linecolor\":\"white\",\"ticks\":\"\"}},\"coloraxis\":{\"colorbar\":{\"outlinewidth\":0,\"ticks\":\"\"}},\"colorscale\":{\"sequential\":[[0.0,\"#0d0887\"],[0.1111111111111111,\"#46039f\"],[0.2222222222222222,\"#7201a8\"],[0.3333333333333333,\"#9c179e\"],[0.4444444444444444,\"#bd3786\"],[0.5555555555555556,\"#d8576b\"],[0.6666666666666666,\"#ed7953\"],[0.7777777777777778,\"#fb9f3a\"],[0.8888888888888888,\"#fdca26\"],[1.0,\"#f0f921\"]],\"sequentialminus\":[[0.0,\"#0d0887\"],[0.1111111111111111,\"#46039f\"],[0.2222222222222222,\"#7201a8\"],[0.3333333333333333,\"#9c179e\"],[0.4444444444444444,\"#bd3786\"],[0.5555555555555556,\"#d8576b\"],[0.6666666666666666,\"#ed7953\"],[0.7777777777777778,\"#fb9f3a\"],[0.8888888888888888,\"#fdca26\"],[1.0,\"#f0f921\"]],\"diverging\":[[0,\"#8e0152\"],[0.1,\"#c51b7d\"],[0.2,\"#de77ae\"],[0.3,\"#f1b6da\"],[0.4,\"#fde0ef\"],[0.5,\"#f7f7f7\"],[0.6,\"#e6f5d0\"],[0.7,\"#b8e186\"],[0.8,\"#7fbc41\"],[0.9,\"#4d9221\"],[1,\"#276419\"]]},\"xaxis\":{\"gridcolor\":\"white\",\"linecolor\":\"white\",\"ticks\":\"\",\"title\":{\"standoff\":15},\"zerolinecolor\":\"white\",\"automargin\":true,\"zerolinewidth\":2},\"yaxis\":{\"gridcolor\":\"white\",\"linecolor\":\"white\",\"ticks\":\"\",\"title\":{\"standoff\":15},\"zerolinecolor\":\"white\",\"automargin\":true,\"zerolinewidth\":2},\"scene\":{\"xaxis\":{\"backgroundcolor\":\"#E5ECF6\",\"gridcolor\":\"white\",\"linecolor\":\"white\",\"showbackground\":true,\"ticks\":\"\",\"zerolinecolor\":\"white\",\"gridwidth\":2},\"yaxis\":{\"backgroundcolor\":\"#E5ECF6\",\"gridcolor\":\"white\",\"linecolor\":\"white\",\"showbackground\":true,\"ticks\":\"\",\"zerolinecolor\":\"white\",\"gridwidth\":2},\"zaxis\":{\"backgroundcolor\":\"#E5ECF6\",\"gridcolor\":\"white\",\"linecolor\":\"white\",\"showbackground\":true,\"ticks\":\"\",\"zerolinecolor\":\"white\",\"gridwidth\":2}},\"shapedefaults\":{\"line\":{\"color\":\"#2a3f5f\"}},\"annotationdefaults\":{\"arrowcolor\":\"#2a3f5f\",\"arrowhead\":0,\"arrowwidth\":1},\"geo\":{\"bgcolor\":\"white\",\"landcolor\":\"#E5ECF6\",\"subunitcolor\":\"white\",\"showland\":true,\"showlakes\":true,\"lakecolor\":\"white\"},\"title\":{\"x\":0.05},\"mapbox\":{\"style\":\"light\"}}},\"xaxis\":{\"anchor\":\"y\",\"domain\":[0.0,1.0],\"title\":{\"text\":\"energy\"}},\"yaxis\":{\"anchor\":\"x\",\"domain\":[0.0,1.0],\"title\":{\"text\":\"danceability\"}},\"legend\":{\"tracegroupgap\":0},\"margin\":{\"t\":60}},                        {\"responsive\": true}                    ).then(function(){\n",
       "                            \n",
       "var gd = document.getElementById('f79c2a15-b402-4ac8-9af5-fea45b0a7dd2');\n",
       "var x = new MutationObserver(function (mutations, observer) {{\n",
       "        var display = window.getComputedStyle(gd).display;\n",
       "        if (!display || display === 'none') {{\n",
       "            console.log([gd, 'removed!']);\n",
       "            Plotly.purge(gd);\n",
       "            observer.disconnect();\n",
       "        }}\n",
       "}});\n",
       "\n",
       "// Listen for the removal of the full notebook cells\n",
       "var notebookContainer = gd.closest('#notebook-container');\n",
       "if (notebookContainer) {{\n",
       "    x.observe(notebookContainer, {childList: true});\n",
       "}}\n",
       "\n",
       "// Listen for the clearing of the current output cell\n",
       "var outputEl = gd.closest('.output');\n",
       "if (outputEl) {{\n",
       "    x.observe(outputEl, {childList: true});\n",
       "}}\n",
       "\n",
       "                        })                };                });            </script>        </div>"
      ]
     },
     "metadata": {},
     "output_type": "display_data"
    }
   ],
   "source": [
    "import plotly.express as px\n",
    "import plotly.graph_objects as go\n",
    "\n",
    "fig = px.scatter(x=songs.energy, y=songs.danceability, \n",
    "                 labels={\"x\": \"energy\", \"y\": \"danceability\"})\n",
    "fig.add_trace(go.Scatter(x=[0, 1], y=[songs.danceability.mean()]*2, name=\"y-bar\", \n",
    "                         line_shape='linear'))\n",
    "fig.show()\n",
    "\n",
    "fig = px.scatter(x=songs.energy, y=songs.danceability-songs.danceability.mean(), \n",
    "                 labels={\"x\": \"energy\", \"y\": \"danceability - average danceability\"})\n",
    "fig.add_trace(go.Scatter(x=[0, 1], y=[0]*2, name=\"0\", line_shape='linear'))\n",
    "fig.show()"
   ]
  },
  {
   "cell_type": "code",
   "execution_count": 1,
   "id": "620215ca",
   "metadata": {},
   "outputs": [],
   "source": [
    "# model1_fit residual visualization plot\n"
   ]
  },
  {
   "cell_type": "code",
   "execution_count": 29,
   "id": "d6ec8158",
   "metadata": {},
   "outputs": [],
   "source": [
    "# Q18: your answer will be tested!\n",
    "residuals = None # The \"y minus y-hat\" residuals given as an `np.array`\n",
    "ABCD_answer = None # Assign either 'A' or 'B' or 'C' or 'D' to `Q18` instead of `None`\n",
    "Q18 = (residuals, ABCD_answer)\n",
    "# E.g., Q18 = (model1_fit.predict()-model1_fit.predict(), 'A')"
   ]
  },
  {
   "cell_type": "markdown",
   "id": "7fbb1a65",
   "metadata": {},
   "source": [
    "### Q19: Use `statsmodels` to fit a second linear regression model which will use the linear form:\n",
    "\n",
    "$$y_i = \\beta_0 + \\beta_1 \\cdot \\text{energy}_i + \\beta_2 \\cdot  1_{[\\text{major}]}(\\text{mode}_i) + \\beta_3 \\cdot \\text{loudness}_i + \\beta_4 \\cdot \\text{energy}_i \\times 1_{[\\text{major}]}(\\text{mode}_i) + \\beta_5 \\cdot \\text{energy}_i \\times \\text{loudness}_i + \\epsilon_i $$\n",
    "\n",
    "#### Assign this fitted model to `model2_fit`.\n",
    "\n",
    "> Hint: The `formula` now has two interaction terms, energy $\\times$ mode and energy $\\times$ loudness (but not mode $\\times$ loudness)."
   ]
  },
  {
   "cell_type": "code",
   "execution_count": 2,
   "id": "80668fa4",
   "metadata": {},
   "outputs": [],
   "source": [
    "# model2_fit specification and fitting\n"
   ]
  },
  {
   "cell_type": "code",
   "execution_count": 33,
   "id": "810c4cc4",
   "metadata": {},
   "outputs": [],
   "source": [
    "# Q19: confirm the correctness of your fitted model here!\n",
    "model2_intercept = None # Provde 3 digits of accuracy as given by `np.round(answer, 3)` or the `.round(3)` method\n",
    "model2_energy_slope = None # Provde 3 digits of accuracy as given by `np.round(answer, 3)` or the `.round(3)` method\n",
    "\n",
    "Q19 = (model2_intercept, model2_energy_slope)\n",
    "# E.g., Q19 = (0.123, 0.123)"
   ]
  },
  {
   "cell_type": "markdown",
   "id": "6b4317f1",
   "metadata": {},
   "source": [
    "### Q20: Assess the assumptions of heteroskedasticity and normality regarding the residuals of `model2_fit`\n",
    "\n",
    "#### Which of the following is the best characterization of the residuals from `model2_fit` compared to `model1_fit`?\n",
    "\n",
    "A. The heteroskedasticity and normality assumptions are both now certainly true.\n",
    "\n",
    "B. The heteroskedasticity and normality assumptions both now appear to be somewhat improved; however, there is still some left skew in the empirically observed distribution of the residuals from `model2_fit`.\n",
    "\n",
    "C. Because there are three low outlier predictions, it is clear that the variability in the residuals is much larger for higher-valued predictions than lower-valued predictions.\n",
    "\n",
    "D. Because there are three low outlier predictions, there is a systematic difference in the variability of the residuals as the prediction values increase. \n",
    "\n",
    "> - Hint 1: Q18 will help... and don't forget about Hint 4 from Q18...\n",
    ">\n",
    ">\n",
    "> - Hint 2: Is the reason for the exercise completed in Q18 now be becoming clear?\n",
    ">   \n",
    ">   For Q18 assessing the residuals is equivalent to simply examining \n",
    ">\n",
    ">   `px.scatter(songs, x=\"energy\", y=\"danceability\", trendline=\"ols\", color=\"mode\")`\n",
    ">\n",
    ">   But in the case of our new complex specification, the simple solution to visually examine model effectiveness is based on the plotting the residuals against the predictions, like what was done in Q18. There we didn't necessarily need it, but now we do...\n",
    ">\n",
    ">\n",
    "> - Hint 3: The fact that a model makes some outlier low or high valued predictions does not immediately indicate a systematic pattern in the behaviour of the residuals... it just means a few data points are predicted to have extra high or low values... right?  Do you see how this is the case?"
   ]
  },
  {
   "cell_type": "code",
   "execution_count": 4,
   "id": "31fd6667",
   "metadata": {},
   "outputs": [],
   "source": [
    "# model2_fit residual visualization plot\n"
   ]
  },
  {
   "cell_type": "code",
   "execution_count": 5,
   "id": "80c0f952",
   "metadata": {},
   "outputs": [],
   "source": [
    "# model2_fit histogram of the empirically observed residual distribution\n"
   ]
  },
  {
   "cell_type": "code",
   "execution_count": 38,
   "id": "f8438d59",
   "metadata": {},
   "outputs": [],
   "source": [
    "# Q20: your answer will be tested!\n",
    "Q20 = None # Assign either 'A' or 'B' or 'C' or 'D' to `Q20` instead of `None`\n",
    "# E.g., Q20 = 'A'"
   ]
  },
  {
   "cell_type": "markdown",
   "id": "f27cd8f4",
   "metadata": {},
   "source": [
    "### Q21: Use `statsmodels` to fit a new linear regression model that uses `energy` and `mode` as predictors where the linear predictions within each group are parallel\n",
    "\n",
    "#### Assign this fitted model to `model3_fit`.\n",
    "\n",
    "> Hint: Parallel lines means there is no interaction term in the `formula`, right? So the difference between the lines would only be based on a difference in their intercepts..."
   ]
  },
  {
   "cell_type": "code",
   "execution_count": 3,
   "id": "86b98732",
   "metadata": {},
   "outputs": [],
   "source": [
    "# model3_fit specification and fitting\n"
   ]
  },
  {
   "cell_type": "code",
   "execution_count": 42,
   "id": "e02f6f74",
   "metadata": {},
   "outputs": [],
   "source": [
    "# Q21: confirm the correctness of your fitted model here!\n",
    "model3_intercept = None # Provde 3 digits of accuracy as given by `np.round(answer, 3)` or the `.round(3)` method\n",
    "model3_energy_slope = None # Provde 3 digits of accuracy as given by `np.round(answer, 3)` or the `.round(3)` method\n",
    "\n",
    "Q21 = (model3_intercept, model3_energy_slope)\n",
    "# E.g., Q21 = (0.123, 0.123)"
   ]
  },
  {
   "cell_type": "markdown",
   "id": "d1ce8ddd",
   "metadata": {},
   "source": [
    "### Q22: Compare the predictive performance of `model1_fit`, `model2_fit`, and `model3_fit`\n",
    "\n",
    "#### Report the $R^2$ values of the three models found using the `.summary()` method (and also available in the `rsquared` attribute (rounded to three digits of accuracy).\n",
    "\n",
    "> - Hint 1: Rather than examining the residuals again, as in Q18 and Q20, this focusses consideration on the \"proportion of variation explained\" which is given by the $R^2$ statistic of a linear regression model.\n",
    "> - Hint 2: This can also be equivalently calculated as\n",
    ">\n",
    ">   `np.corrcoef(modelX_fit.model.endog, modelX_fit.predict())[0,1]**2`\n",
    ">\n",
    ">   since this is what the $R^2$ statistic of a linear regression model is..."
   ]
  },
  {
   "cell_type": "code",
   "execution_count": null,
   "id": "586575bb",
   "metadata": {},
   "outputs": [],
   "source": []
  },
  {
   "cell_type": "code",
   "execution_count": 46,
   "id": "67b6c3eb",
   "metadata": {},
   "outputs": [],
   "source": [
    "# Q22: confirm the correctness of your fitted model here!\n",
    "model1_Rsquared = None # Provde 3 digits of accuracy as given by `np.round(answer, 3)` or the `.round(3)` method\n",
    "model2_Rsquared = None # Provde 3 digits of accuracy as given by `np.round(answer, 3)` or the `.round(3)` method\n",
    "model3_Rsquared = None # Provde 3 digits of accuracy as given by `np.round(answer, 3)` or the `.round(3)` method\n",
    "\n",
    "Q22 = (model1_Rsquared, model2_Rsquared, model3_Rsquared)\n",
    "# E.g., Q22 = (0.123,0.123,0.123)"
   ]
  },
  {
   "cell_type": "markdown",
   "id": "72ef4200",
   "metadata": {},
   "source": [
    "### Q23: Which of the following specifications has the largest $R^2$ while still having \"Strong\" evidence against $H_0: \\beta_k=0$ for all coefficients?\n",
    "\n",
    "A. `formula='danceability ~ energy'`\n",
    "\n",
    "B. `formula='danceability ~ energy * mode + energy * loudness'`\n",
    "\n",
    "C. `'danceability ~ energy + mode'`\n",
    "\n",
    "D. `formula='danceability ~ energy * mode'`\n",
    "\n",
    "E. None of the above\n",
    "\n",
    "> Hint: What range of p-values corresponds \"Strong\" evidence against a null hypothesis?"
   ]
  },
  {
   "cell_type": "code",
   "execution_count": null,
   "id": "e1ef3136",
   "metadata": {},
   "outputs": [],
   "source": []
  },
  {
   "cell_type": "code",
   "execution_count": 50,
   "id": "31ce4cca",
   "metadata": {},
   "outputs": [],
   "source": [
    "# Q23: your answer will be tested!\n",
    "Q23 = None # Assign either 'A' or 'B' or 'C' or 'D' or `None` to `Q23` instead of `None`\n",
    "# E.g., Q23 = 'A'"
   ]
  },
  {
   "cell_type": "markdown",
   "id": "70edade4",
   "metadata": {},
   "source": [
    "### Q24: Which of the following options best characterizes the statistical evidence regarding the two sequences of the following nested models below?\n",
    "\n",
    "```python\n",
    "# Nested Model Sequence 1\n",
    "formula='danceability ~ energy'\n",
    "formula='danceability ~ energy + mode'\n",
    "formula='danceability ~ energy * mode'\n",
    "formula='danceability ~ energy * mode + energy * loudness'\n",
    "\n",
    "# Nested Model Sequence 2\n",
    "formula='danceability ~ loudness'\n",
    "formula='danceability ~ energy + loudness'\n",
    "formula='danceability ~ energy * loudness'\n",
    "formula='danceability ~ energy * loudness + energy * mode'\n",
    "```\n",
    "\n",
    "A. The statistical evidence at the second and third stages does not appear promising, so the final fourth stage should not be considered.\n",
    "\n",
    "B. Despite the lack of evidence at the second and third stages, the final specification has potential despite \"Weak\" evidence for the `energy` predictor.\n",
    "\n",
    "C. The second nested model sequence demonstrates how to increasingly add predictors to a model as guided by statistical evidence. \n",
    "\n",
    "D. Both nested model sequences demonstrate how to increasingly add predictors to a model as guided by statistical evidence. \n"
   ]
  },
  {
   "cell_type": "code",
   "execution_count": 74,
   "id": "0270bcb5",
   "metadata": {},
   "outputs": [],
   "source": [
    "# Q24: your answer will be tested!\n",
    "Q24 = None # Assign either 'A' or 'B' or 'C' or 'D' or `None` to `Q24` instead of `None`\n",
    "# E.g., Q24 = 'A'"
   ]
  },
  {
   "cell_type": "markdown",
   "id": "8183c19f",
   "metadata": {},
   "source": [
    "### Q25: With respect to the `formula='danceability ~ energy * loudness + energy * mode'` model specification, examine the code and output below and select which of the following options is most correct\n",
    "\n",
    "*The statistical evidence for all coefficients in this model is \"Weak\" or better (with two predictors each having \"Moderate\" and \"Strong\" evidence)...*\n",
    "\n",
    "A. thus the model performs well on new data that it wasn't trained on.\n",
    "\n",
    "B. and the model performs similarly well on data that it was trained on and data that it wasn't trained on.\n",
    "\n",
    "C. but despite this the model is highly variable in terms of its performance on data that it was trained on and data that it wasn't trained on... sometimes performing better on new data, sometimes performing worse on new data... probably as a result of the small sample size of the data and a few \"influential\" outliers that unduly affect model performance.\n",
    "\n",
    "D. None of the above\n"
   ]
  },
  {
   "cell_type": "code",
   "execution_count": 154,
   "id": "955beb58",
   "metadata": {},
   "outputs": [
    {
     "data": {
      "application/vnd.plotly.v1+json": {
       "config": {
        "plotlyServerURL": "https://plot.ly"
       },
       "data": [
        {
         "hovertemplate": "In Sample Performance (Rsquared)=%{x}<br>Out of Sample Performance (Rsquared)=%{y}<extra></extra>",
         "legendgroup": "",
         "marker": {
          "color": "#636efa",
          "symbol": "circle"
         },
         "mode": "markers",
         "name": "",
         "orientation": "v",
         "showlegend": false,
         "type": "scatter",
         "x": [
          0.6173034737428962,
          0.5327598570715418,
          0.49597907392547047,
          0.6123748252661189,
          0.5699896609301958,
          0.5473464037879188,
          0.549376167602752,
          0.5842754420777434,
          0.5152143129890274,
          0.5735533948538538,
          0.6007023945005213,
          0.6079891288261434,
          0.5057788573911339,
          0.34395995485497866,
          0.7054172919937243,
          0.6869170443119506,
          0.5244295826879727,
          0.6125060015894821,
          0.5525025891124153,
          0.6076856261581303,
          0.6932899794077743,
          0.3670970320519029,
          0.4980766846650203,
          0.6043132974682441,
          0.5723848977704864,
          0.6051161223367952,
          0.5808922074333709,
          0.6029481910128445,
          0.4692362171774197,
          0.6201035611197718,
          0.5047385394557173,
          0.4716325949789709,
          0.5447461715764501,
          0.570577840077406,
          0.528055016212958,
          0.5873347971594476,
          0.5425282670075623,
          0.5409210660767356,
          0.566647975523816,
          0.505715360233262,
          0.49277962727416424,
          0.5937934472234333,
          0.6132282644728932,
          0.5463812571257619,
          0.3831604754574678,
          0.517167242349038,
          0.3707425785536099,
          0.3901208988913192,
          0.6089717565223591,
          0.4716948563175021,
          0.5348164096155664,
          0.510923060145174,
          0.3901887686475378,
          0.5966199183603145,
          0.4578616263471884,
          0.5076187892632731,
          0.28095531023506404,
          0.47643020778856016,
          0.5659689454637946,
          0.5202488051928897,
          0.4687557825456632,
          0.5462781964523907,
          0.5127675178016339,
          0.6709164953230804,
          0.5209066817484856,
          0.620076117369242,
          0.517701589139966,
          0.6053447713354743,
          0.5545643523758506,
          0.37287536932399445,
          0.5977686124925661,
          0.5440662521711788,
          0.4436596319217708,
          0.43416456859634034,
          0.6796314375880093,
          0.5370978303397511,
          0.5542842086647441,
          0.4985358545335309,
          0.5255154073870141,
          0.7173308884747818,
          0.6015569748737037,
          0.44953820343753725,
          0.5281464665586124,
          0.4768641711150807,
          0.30175125138167636,
          0.5127692143708603,
          0.5784705712323057,
          0.44909812288335016,
          0.5574238438883228,
          0.3942230762417722,
          0.5498690455668124,
          0.5987003343552681,
          0.6342259013910062,
          0.6856564600369093,
          0.5442302139029322,
          0.5714046172686691,
          0.5626918016846321,
          0.5395888089231966,
          0.513730358620931,
          0.4662572959820924
         ],
         "xaxis": "x",
         "y": [
          0.28347960370749903,
          0.2901673660715862,
          0.5199011064880279,
          0.30763899560428076,
          0.33966752262212896,
          0.4560119984350831,
          0.3236360148413084,
          0.5110864041158032,
          0.44018560216195085,
          0.06230348269981306,
          0.07581062368866034,
          0.03954316515571667,
          0.550062752082884,
          0.26791126276000354,
          0.39454709039398994,
          0.4431250442258553,
          0.2936572833076746,
          0.303513051646621,
          0.0839023562501311,
          0.08939683192341703,
          0.3500307290260294,
          0.6272961374615037,
          0.5876165927385694,
          0.18366545469276396,
          0.43318080727178,
          0.400805517086701,
          0.3691848316950857,
          0.0005766965403760896,
          0.6202878308925135,
          0.17090089731837443,
          0.5622579450318107,
          0.537998332258246,
          0.2004106351746964,
          0.42261421843367664,
          0.44679997675892685,
          0.42310555618166334,
          0.04594612378775437,
          0.4176596974741783,
          0.23464917175660757,
          0.6322612266949271,
          0.5903276188901566,
          0.09501196368825801,
          0.3131181201614477,
          0.43050938562843016,
          0.2302276102133462,
          0.45877383707415187,
          0.9360836809233887,
          0.6930925299498778,
          0.25237289090723825,
          0.6640427467582792,
          0.4602732880453596,
          0.5682367798965053,
          0.7876519728515065,
          0.18095669962803596,
          0.5819528759489419,
          0.4880620419823207,
          0.7716114336134615,
          0.656654942639636,
          0.30120233417082604,
          0.5326065023028007,
          0.5354895637436373,
          0.4750030964545202,
          0.5783964095211371,
          0.4306056675581878,
          0.44067473477903996,
          0.09607956033782623,
          0.5011395118811273,
          0.08320632791779982,
          0.1818741716926078,
          0.8224177659257373,
          0.34301350258084945,
          0.3755423722544258,
          0.6024018315753658,
          0.6252160462531478,
          0.2596613516810334,
          0.4640506428181271,
          0.04455303913221876,
          0.6473286323557315,
          0.35988612659097297,
          0.1190152916469739,
          0.05762272777330847,
          0.7340584286436054,
          0.6072878936086953,
          0.6076260402740483,
          0.7635268040448162,
          0.5393515508141055,
          0.04223153417784085,
          0.5773313342275037,
          0.007178129308169744,
          0.7376972698341012,
          0.47427474501561906,
          0.4899568457256956,
          0.00026885142027522176,
          0.4022211679126502,
          0.527498756624178,
          0.32107985806031014,
          0.42411027540236446,
          0.48783906406392646,
          0.5971077442556442,
          0.5842251839204706
         ],
         "yaxis": "y"
        },
        {
         "line": {
          "shape": "linear"
         },
         "name": "y=x",
         "type": "scatter",
         "x": [
          0,
          1
         ],
         "y": [
          0,
          1
         ]
        }
       ],
       "layout": {
        "legend": {
         "tracegroupgap": 0
        },
        "margin": {
         "t": 60
        },
        "template": {
         "data": {
          "bar": [
           {
            "error_x": {
             "color": "#2a3f5f"
            },
            "error_y": {
             "color": "#2a3f5f"
            },
            "marker": {
             "line": {
              "color": "#E5ECF6",
              "width": 0.5
             },
             "pattern": {
              "fillmode": "overlay",
              "size": 10,
              "solidity": 0.2
             }
            },
            "type": "bar"
           }
          ],
          "barpolar": [
           {
            "marker": {
             "line": {
              "color": "#E5ECF6",
              "width": 0.5
             },
             "pattern": {
              "fillmode": "overlay",
              "size": 10,
              "solidity": 0.2
             }
            },
            "type": "barpolar"
           }
          ],
          "carpet": [
           {
            "aaxis": {
             "endlinecolor": "#2a3f5f",
             "gridcolor": "white",
             "linecolor": "white",
             "minorgridcolor": "white",
             "startlinecolor": "#2a3f5f"
            },
            "baxis": {
             "endlinecolor": "#2a3f5f",
             "gridcolor": "white",
             "linecolor": "white",
             "minorgridcolor": "white",
             "startlinecolor": "#2a3f5f"
            },
            "type": "carpet"
           }
          ],
          "choropleth": [
           {
            "colorbar": {
             "outlinewidth": 0,
             "ticks": ""
            },
            "type": "choropleth"
           }
          ],
          "contour": [
           {
            "colorbar": {
             "outlinewidth": 0,
             "ticks": ""
            },
            "colorscale": [
             [
              0,
              "#0d0887"
             ],
             [
              0.1111111111111111,
              "#46039f"
             ],
             [
              0.2222222222222222,
              "#7201a8"
             ],
             [
              0.3333333333333333,
              "#9c179e"
             ],
             [
              0.4444444444444444,
              "#bd3786"
             ],
             [
              0.5555555555555556,
              "#d8576b"
             ],
             [
              0.6666666666666666,
              "#ed7953"
             ],
             [
              0.7777777777777778,
              "#fb9f3a"
             ],
             [
              0.8888888888888888,
              "#fdca26"
             ],
             [
              1,
              "#f0f921"
             ]
            ],
            "type": "contour"
           }
          ],
          "contourcarpet": [
           {
            "colorbar": {
             "outlinewidth": 0,
             "ticks": ""
            },
            "type": "contourcarpet"
           }
          ],
          "heatmap": [
           {
            "colorbar": {
             "outlinewidth": 0,
             "ticks": ""
            },
            "colorscale": [
             [
              0,
              "#0d0887"
             ],
             [
              0.1111111111111111,
              "#46039f"
             ],
             [
              0.2222222222222222,
              "#7201a8"
             ],
             [
              0.3333333333333333,
              "#9c179e"
             ],
             [
              0.4444444444444444,
              "#bd3786"
             ],
             [
              0.5555555555555556,
              "#d8576b"
             ],
             [
              0.6666666666666666,
              "#ed7953"
             ],
             [
              0.7777777777777778,
              "#fb9f3a"
             ],
             [
              0.8888888888888888,
              "#fdca26"
             ],
             [
              1,
              "#f0f921"
             ]
            ],
            "type": "heatmap"
           }
          ],
          "heatmapgl": [
           {
            "colorbar": {
             "outlinewidth": 0,
             "ticks": ""
            },
            "colorscale": [
             [
              0,
              "#0d0887"
             ],
             [
              0.1111111111111111,
              "#46039f"
             ],
             [
              0.2222222222222222,
              "#7201a8"
             ],
             [
              0.3333333333333333,
              "#9c179e"
             ],
             [
              0.4444444444444444,
              "#bd3786"
             ],
             [
              0.5555555555555556,
              "#d8576b"
             ],
             [
              0.6666666666666666,
              "#ed7953"
             ],
             [
              0.7777777777777778,
              "#fb9f3a"
             ],
             [
              0.8888888888888888,
              "#fdca26"
             ],
             [
              1,
              "#f0f921"
             ]
            ],
            "type": "heatmapgl"
           }
          ],
          "histogram": [
           {
            "marker": {
             "pattern": {
              "fillmode": "overlay",
              "size": 10,
              "solidity": 0.2
             }
            },
            "type": "histogram"
           }
          ],
          "histogram2d": [
           {
            "colorbar": {
             "outlinewidth": 0,
             "ticks": ""
            },
            "colorscale": [
             [
              0,
              "#0d0887"
             ],
             [
              0.1111111111111111,
              "#46039f"
             ],
             [
              0.2222222222222222,
              "#7201a8"
             ],
             [
              0.3333333333333333,
              "#9c179e"
             ],
             [
              0.4444444444444444,
              "#bd3786"
             ],
             [
              0.5555555555555556,
              "#d8576b"
             ],
             [
              0.6666666666666666,
              "#ed7953"
             ],
             [
              0.7777777777777778,
              "#fb9f3a"
             ],
             [
              0.8888888888888888,
              "#fdca26"
             ],
             [
              1,
              "#f0f921"
             ]
            ],
            "type": "histogram2d"
           }
          ],
          "histogram2dcontour": [
           {
            "colorbar": {
             "outlinewidth": 0,
             "ticks": ""
            },
            "colorscale": [
             [
              0,
              "#0d0887"
             ],
             [
              0.1111111111111111,
              "#46039f"
             ],
             [
              0.2222222222222222,
              "#7201a8"
             ],
             [
              0.3333333333333333,
              "#9c179e"
             ],
             [
              0.4444444444444444,
              "#bd3786"
             ],
             [
              0.5555555555555556,
              "#d8576b"
             ],
             [
              0.6666666666666666,
              "#ed7953"
             ],
             [
              0.7777777777777778,
              "#fb9f3a"
             ],
             [
              0.8888888888888888,
              "#fdca26"
             ],
             [
              1,
              "#f0f921"
             ]
            ],
            "type": "histogram2dcontour"
           }
          ],
          "mesh3d": [
           {
            "colorbar": {
             "outlinewidth": 0,
             "ticks": ""
            },
            "type": "mesh3d"
           }
          ],
          "parcoords": [
           {
            "line": {
             "colorbar": {
              "outlinewidth": 0,
              "ticks": ""
             }
            },
            "type": "parcoords"
           }
          ],
          "pie": [
           {
            "automargin": true,
            "type": "pie"
           }
          ],
          "scatter": [
           {
            "fillpattern": {
             "fillmode": "overlay",
             "size": 10,
             "solidity": 0.2
            },
            "type": "scatter"
           }
          ],
          "scatter3d": [
           {
            "line": {
             "colorbar": {
              "outlinewidth": 0,
              "ticks": ""
             }
            },
            "marker": {
             "colorbar": {
              "outlinewidth": 0,
              "ticks": ""
             }
            },
            "type": "scatter3d"
           }
          ],
          "scattercarpet": [
           {
            "marker": {
             "colorbar": {
              "outlinewidth": 0,
              "ticks": ""
             }
            },
            "type": "scattercarpet"
           }
          ],
          "scattergeo": [
           {
            "marker": {
             "colorbar": {
              "outlinewidth": 0,
              "ticks": ""
             }
            },
            "type": "scattergeo"
           }
          ],
          "scattergl": [
           {
            "marker": {
             "colorbar": {
              "outlinewidth": 0,
              "ticks": ""
             }
            },
            "type": "scattergl"
           }
          ],
          "scattermapbox": [
           {
            "marker": {
             "colorbar": {
              "outlinewidth": 0,
              "ticks": ""
             }
            },
            "type": "scattermapbox"
           }
          ],
          "scatterpolar": [
           {
            "marker": {
             "colorbar": {
              "outlinewidth": 0,
              "ticks": ""
             }
            },
            "type": "scatterpolar"
           }
          ],
          "scatterpolargl": [
           {
            "marker": {
             "colorbar": {
              "outlinewidth": 0,
              "ticks": ""
             }
            },
            "type": "scatterpolargl"
           }
          ],
          "scatterternary": [
           {
            "marker": {
             "colorbar": {
              "outlinewidth": 0,
              "ticks": ""
             }
            },
            "type": "scatterternary"
           }
          ],
          "surface": [
           {
            "colorbar": {
             "outlinewidth": 0,
             "ticks": ""
            },
            "colorscale": [
             [
              0,
              "#0d0887"
             ],
             [
              0.1111111111111111,
              "#46039f"
             ],
             [
              0.2222222222222222,
              "#7201a8"
             ],
             [
              0.3333333333333333,
              "#9c179e"
             ],
             [
              0.4444444444444444,
              "#bd3786"
             ],
             [
              0.5555555555555556,
              "#d8576b"
             ],
             [
              0.6666666666666666,
              "#ed7953"
             ],
             [
              0.7777777777777778,
              "#fb9f3a"
             ],
             [
              0.8888888888888888,
              "#fdca26"
             ],
             [
              1,
              "#f0f921"
             ]
            ],
            "type": "surface"
           }
          ],
          "table": [
           {
            "cells": {
             "fill": {
              "color": "#EBF0F8"
             },
             "line": {
              "color": "white"
             }
            },
            "header": {
             "fill": {
              "color": "#C8D4E3"
             },
             "line": {
              "color": "white"
             }
            },
            "type": "table"
           }
          ]
         },
         "layout": {
          "annotationdefaults": {
           "arrowcolor": "#2a3f5f",
           "arrowhead": 0,
           "arrowwidth": 1
          },
          "autotypenumbers": "strict",
          "coloraxis": {
           "colorbar": {
            "outlinewidth": 0,
            "ticks": ""
           }
          },
          "colorscale": {
           "diverging": [
            [
             0,
             "#8e0152"
            ],
            [
             0.1,
             "#c51b7d"
            ],
            [
             0.2,
             "#de77ae"
            ],
            [
             0.3,
             "#f1b6da"
            ],
            [
             0.4,
             "#fde0ef"
            ],
            [
             0.5,
             "#f7f7f7"
            ],
            [
             0.6,
             "#e6f5d0"
            ],
            [
             0.7,
             "#b8e186"
            ],
            [
             0.8,
             "#7fbc41"
            ],
            [
             0.9,
             "#4d9221"
            ],
            [
             1,
             "#276419"
            ]
           ],
           "sequential": [
            [
             0,
             "#0d0887"
            ],
            [
             0.1111111111111111,
             "#46039f"
            ],
            [
             0.2222222222222222,
             "#7201a8"
            ],
            [
             0.3333333333333333,
             "#9c179e"
            ],
            [
             0.4444444444444444,
             "#bd3786"
            ],
            [
             0.5555555555555556,
             "#d8576b"
            ],
            [
             0.6666666666666666,
             "#ed7953"
            ],
            [
             0.7777777777777778,
             "#fb9f3a"
            ],
            [
             0.8888888888888888,
             "#fdca26"
            ],
            [
             1,
             "#f0f921"
            ]
           ],
           "sequentialminus": [
            [
             0,
             "#0d0887"
            ],
            [
             0.1111111111111111,
             "#46039f"
            ],
            [
             0.2222222222222222,
             "#7201a8"
            ],
            [
             0.3333333333333333,
             "#9c179e"
            ],
            [
             0.4444444444444444,
             "#bd3786"
            ],
            [
             0.5555555555555556,
             "#d8576b"
            ],
            [
             0.6666666666666666,
             "#ed7953"
            ],
            [
             0.7777777777777778,
             "#fb9f3a"
            ],
            [
             0.8888888888888888,
             "#fdca26"
            ],
            [
             1,
             "#f0f921"
            ]
           ]
          },
          "colorway": [
           "#636efa",
           "#EF553B",
           "#00cc96",
           "#ab63fa",
           "#FFA15A",
           "#19d3f3",
           "#FF6692",
           "#B6E880",
           "#FF97FF",
           "#FECB52"
          ],
          "font": {
           "color": "#2a3f5f"
          },
          "geo": {
           "bgcolor": "white",
           "lakecolor": "white",
           "landcolor": "#E5ECF6",
           "showlakes": true,
           "showland": true,
           "subunitcolor": "white"
          },
          "hoverlabel": {
           "align": "left"
          },
          "hovermode": "closest",
          "mapbox": {
           "style": "light"
          },
          "paper_bgcolor": "white",
          "plot_bgcolor": "#E5ECF6",
          "polar": {
           "angularaxis": {
            "gridcolor": "white",
            "linecolor": "white",
            "ticks": ""
           },
           "bgcolor": "#E5ECF6",
           "radialaxis": {
            "gridcolor": "white",
            "linecolor": "white",
            "ticks": ""
           }
          },
          "scene": {
           "xaxis": {
            "backgroundcolor": "#E5ECF6",
            "gridcolor": "white",
            "gridwidth": 2,
            "linecolor": "white",
            "showbackground": true,
            "ticks": "",
            "zerolinecolor": "white"
           },
           "yaxis": {
            "backgroundcolor": "#E5ECF6",
            "gridcolor": "white",
            "gridwidth": 2,
            "linecolor": "white",
            "showbackground": true,
            "ticks": "",
            "zerolinecolor": "white"
           },
           "zaxis": {
            "backgroundcolor": "#E5ECF6",
            "gridcolor": "white",
            "gridwidth": 2,
            "linecolor": "white",
            "showbackground": true,
            "ticks": "",
            "zerolinecolor": "white"
           }
          },
          "shapedefaults": {
           "line": {
            "color": "#2a3f5f"
           }
          },
          "ternary": {
           "aaxis": {
            "gridcolor": "white",
            "linecolor": "white",
            "ticks": ""
           },
           "baxis": {
            "gridcolor": "white",
            "linecolor": "white",
            "ticks": ""
           },
           "bgcolor": "#E5ECF6",
           "caxis": {
            "gridcolor": "white",
            "linecolor": "white",
            "ticks": ""
           }
          },
          "title": {
           "x": 0.05
          },
          "xaxis": {
           "automargin": true,
           "gridcolor": "white",
           "linecolor": "white",
           "ticks": "",
           "title": {
            "standoff": 15
           },
           "zerolinecolor": "white",
           "zerolinewidth": 2
          },
          "yaxis": {
           "automargin": true,
           "gridcolor": "white",
           "linecolor": "white",
           "ticks": "",
           "title": {
            "standoff": 15
           },
           "zerolinecolor": "white",
           "zerolinewidth": 2
          }
         }
        },
        "xaxis": {
         "anchor": "y",
         "domain": [
          0,
          1
         ],
         "title": {
          "text": "In Sample Performance (Rsquared)"
         }
        },
        "yaxis": {
         "anchor": "x",
         "domain": [
          0,
          1
         ],
         "title": {
          "text": "Out of Sample Performance (Rsquared)"
         }
        }
       }
      },
      "text/html": [
       "<div>                            <div id=\"0e8401a4-74fa-4b7f-86a8-5549672ac4ab\" class=\"plotly-graph-div\" style=\"height:525px; width:100%;\"></div>            <script type=\"text/javascript\">                require([\"plotly\"], function(Plotly) {                    window.PLOTLYENV=window.PLOTLYENV || {};                                    if (document.getElementById(\"0e8401a4-74fa-4b7f-86a8-5549672ac4ab\")) {                    Plotly.newPlot(                        \"0e8401a4-74fa-4b7f-86a8-5549672ac4ab\",                        [{\"hovertemplate\":\"In Sample Performance (Rsquared)=%{x}\\u003cbr\\u003eOut of Sample Performance (Rsquared)=%{y}\\u003cextra\\u003e\\u003c\\u002fextra\\u003e\",\"legendgroup\":\"\",\"marker\":{\"color\":\"#636efa\",\"symbol\":\"circle\"},\"mode\":\"markers\",\"name\":\"\",\"orientation\":\"v\",\"showlegend\":false,\"x\":[0.6173034737428962,0.5327598570715418,0.49597907392547047,0.6123748252661189,0.5699896609301958,0.5473464037879188,0.549376167602752,0.5842754420777434,0.5152143129890274,0.5735533948538538,0.6007023945005213,0.6079891288261434,0.5057788573911339,0.34395995485497866,0.7054172919937243,0.6869170443119506,0.5244295826879727,0.6125060015894821,0.5525025891124153,0.6076856261581303,0.6932899794077743,0.3670970320519029,0.4980766846650203,0.6043132974682441,0.5723848977704864,0.6051161223367952,0.5808922074333709,0.6029481910128445,0.4692362171774197,0.6201035611197718,0.5047385394557173,0.4716325949789709,0.5447461715764501,0.570577840077406,0.528055016212958,0.5873347971594476,0.5425282670075623,0.5409210660767356,0.566647975523816,0.505715360233262,0.49277962727416424,0.5937934472234333,0.6132282644728932,0.5463812571257619,0.3831604754574678,0.517167242349038,0.3707425785536099,0.3901208988913192,0.6089717565223591,0.4716948563175021,0.5348164096155664,0.510923060145174,0.3901887686475378,0.5966199183603145,0.4578616263471884,0.5076187892632731,0.28095531023506404,0.47643020778856016,0.5659689454637946,0.5202488051928897,0.4687557825456632,0.5462781964523907,0.5127675178016339,0.6709164953230804,0.5209066817484856,0.620076117369242,0.517701589139966,0.6053447713354743,0.5545643523758506,0.37287536932399445,0.5977686124925661,0.5440662521711788,0.4436596319217708,0.43416456859634034,0.6796314375880093,0.5370978303397511,0.5542842086647441,0.4985358545335309,0.5255154073870141,0.7173308884747818,0.6015569748737037,0.44953820343753725,0.5281464665586124,0.4768641711150807,0.30175125138167636,0.5127692143708603,0.5784705712323057,0.44909812288335016,0.5574238438883228,0.3942230762417722,0.5498690455668124,0.5987003343552681,0.6342259013910062,0.6856564600369093,0.5442302139029322,0.5714046172686691,0.5626918016846321,0.5395888089231966,0.513730358620931,0.4662572959820924],\"xaxis\":\"x\",\"y\":[0.28347960370749903,0.2901673660715862,0.5199011064880279,0.30763899560428076,0.33966752262212896,0.4560119984350831,0.3236360148413084,0.5110864041158032,0.44018560216195085,0.06230348269981306,0.07581062368866034,0.03954316515571667,0.550062752082884,0.26791126276000354,0.39454709039398994,0.4431250442258553,0.2936572833076746,0.303513051646621,0.0839023562501311,0.08939683192341703,0.3500307290260294,0.6272961374615037,0.5876165927385694,0.18366545469276396,0.43318080727178,0.400805517086701,0.3691848316950857,0.0005766965403760896,0.6202878308925135,0.17090089731837443,0.5622579450318107,0.537998332258246,0.2004106351746964,0.42261421843367664,0.44679997675892685,0.42310555618166334,0.04594612378775437,0.4176596974741783,0.23464917175660757,0.6322612266949271,0.5903276188901566,0.09501196368825801,0.3131181201614477,0.43050938562843016,0.2302276102133462,0.45877383707415187,0.9360836809233887,0.6930925299498778,0.25237289090723825,0.6640427467582792,0.4602732880453596,0.5682367798965053,0.7876519728515065,0.18095669962803596,0.5819528759489419,0.4880620419823207,0.7716114336134615,0.656654942639636,0.30120233417082604,0.5326065023028007,0.5354895637436373,0.4750030964545202,0.5783964095211371,0.4306056675581878,0.44067473477903996,0.09607956033782623,0.5011395118811273,0.08320632791779982,0.1818741716926078,0.8224177659257373,0.34301350258084945,0.3755423722544258,0.6024018315753658,0.6252160462531478,0.2596613516810334,0.4640506428181271,0.04455303913221876,0.6473286323557315,0.35988612659097297,0.1190152916469739,0.05762272777330847,0.7340584286436054,0.6072878936086953,0.6076260402740483,0.7635268040448162,0.5393515508141055,0.04223153417784085,0.5773313342275037,0.007178129308169744,0.7376972698341012,0.47427474501561906,0.4899568457256956,0.00026885142027522176,0.4022211679126502,0.527498756624178,0.32107985806031014,0.42411027540236446,0.48783906406392646,0.5971077442556442,0.5842251839204706],\"yaxis\":\"y\",\"type\":\"scatter\"},{\"line\":{\"shape\":\"linear\"},\"name\":\"y=x\",\"x\":[0,1],\"y\":[0,1],\"type\":\"scatter\"}],                        {\"template\":{\"data\":{\"histogram2dcontour\":[{\"type\":\"histogram2dcontour\",\"colorbar\":{\"outlinewidth\":0,\"ticks\":\"\"},\"colorscale\":[[0.0,\"#0d0887\"],[0.1111111111111111,\"#46039f\"],[0.2222222222222222,\"#7201a8\"],[0.3333333333333333,\"#9c179e\"],[0.4444444444444444,\"#bd3786\"],[0.5555555555555556,\"#d8576b\"],[0.6666666666666666,\"#ed7953\"],[0.7777777777777778,\"#fb9f3a\"],[0.8888888888888888,\"#fdca26\"],[1.0,\"#f0f921\"]]}],\"choropleth\":[{\"type\":\"choropleth\",\"colorbar\":{\"outlinewidth\":0,\"ticks\":\"\"}}],\"histogram2d\":[{\"type\":\"histogram2d\",\"colorbar\":{\"outlinewidth\":0,\"ticks\":\"\"},\"colorscale\":[[0.0,\"#0d0887\"],[0.1111111111111111,\"#46039f\"],[0.2222222222222222,\"#7201a8\"],[0.3333333333333333,\"#9c179e\"],[0.4444444444444444,\"#bd3786\"],[0.5555555555555556,\"#d8576b\"],[0.6666666666666666,\"#ed7953\"],[0.7777777777777778,\"#fb9f3a\"],[0.8888888888888888,\"#fdca26\"],[1.0,\"#f0f921\"]]}],\"heatmap\":[{\"type\":\"heatmap\",\"colorbar\":{\"outlinewidth\":0,\"ticks\":\"\"},\"colorscale\":[[0.0,\"#0d0887\"],[0.1111111111111111,\"#46039f\"],[0.2222222222222222,\"#7201a8\"],[0.3333333333333333,\"#9c179e\"],[0.4444444444444444,\"#bd3786\"],[0.5555555555555556,\"#d8576b\"],[0.6666666666666666,\"#ed7953\"],[0.7777777777777778,\"#fb9f3a\"],[0.8888888888888888,\"#fdca26\"],[1.0,\"#f0f921\"]]}],\"heatmapgl\":[{\"type\":\"heatmapgl\",\"colorbar\":{\"outlinewidth\":0,\"ticks\":\"\"},\"colorscale\":[[0.0,\"#0d0887\"],[0.1111111111111111,\"#46039f\"],[0.2222222222222222,\"#7201a8\"],[0.3333333333333333,\"#9c179e\"],[0.4444444444444444,\"#bd3786\"],[0.5555555555555556,\"#d8576b\"],[0.6666666666666666,\"#ed7953\"],[0.7777777777777778,\"#fb9f3a\"],[0.8888888888888888,\"#fdca26\"],[1.0,\"#f0f921\"]]}],\"contourcarpet\":[{\"type\":\"contourcarpet\",\"colorbar\":{\"outlinewidth\":0,\"ticks\":\"\"}}],\"contour\":[{\"type\":\"contour\",\"colorbar\":{\"outlinewidth\":0,\"ticks\":\"\"},\"colorscale\":[[0.0,\"#0d0887\"],[0.1111111111111111,\"#46039f\"],[0.2222222222222222,\"#7201a8\"],[0.3333333333333333,\"#9c179e\"],[0.4444444444444444,\"#bd3786\"],[0.5555555555555556,\"#d8576b\"],[0.6666666666666666,\"#ed7953\"],[0.7777777777777778,\"#fb9f3a\"],[0.8888888888888888,\"#fdca26\"],[1.0,\"#f0f921\"]]}],\"surface\":[{\"type\":\"surface\",\"colorbar\":{\"outlinewidth\":0,\"ticks\":\"\"},\"colorscale\":[[0.0,\"#0d0887\"],[0.1111111111111111,\"#46039f\"],[0.2222222222222222,\"#7201a8\"],[0.3333333333333333,\"#9c179e\"],[0.4444444444444444,\"#bd3786\"],[0.5555555555555556,\"#d8576b\"],[0.6666666666666666,\"#ed7953\"],[0.7777777777777778,\"#fb9f3a\"],[0.8888888888888888,\"#fdca26\"],[1.0,\"#f0f921\"]]}],\"mesh3d\":[{\"type\":\"mesh3d\",\"colorbar\":{\"outlinewidth\":0,\"ticks\":\"\"}}],\"scatter\":[{\"fillpattern\":{\"fillmode\":\"overlay\",\"size\":10,\"solidity\":0.2},\"type\":\"scatter\"}],\"parcoords\":[{\"type\":\"parcoords\",\"line\":{\"colorbar\":{\"outlinewidth\":0,\"ticks\":\"\"}}}],\"scatterpolargl\":[{\"type\":\"scatterpolargl\",\"marker\":{\"colorbar\":{\"outlinewidth\":0,\"ticks\":\"\"}}}],\"bar\":[{\"error_x\":{\"color\":\"#2a3f5f\"},\"error_y\":{\"color\":\"#2a3f5f\"},\"marker\":{\"line\":{\"color\":\"#E5ECF6\",\"width\":0.5},\"pattern\":{\"fillmode\":\"overlay\",\"size\":10,\"solidity\":0.2}},\"type\":\"bar\"}],\"scattergeo\":[{\"type\":\"scattergeo\",\"marker\":{\"colorbar\":{\"outlinewidth\":0,\"ticks\":\"\"}}}],\"scatterpolar\":[{\"type\":\"scatterpolar\",\"marker\":{\"colorbar\":{\"outlinewidth\":0,\"ticks\":\"\"}}}],\"histogram\":[{\"marker\":{\"pattern\":{\"fillmode\":\"overlay\",\"size\":10,\"solidity\":0.2}},\"type\":\"histogram\"}],\"scattergl\":[{\"type\":\"scattergl\",\"marker\":{\"colorbar\":{\"outlinewidth\":0,\"ticks\":\"\"}}}],\"scatter3d\":[{\"type\":\"scatter3d\",\"line\":{\"colorbar\":{\"outlinewidth\":0,\"ticks\":\"\"}},\"marker\":{\"colorbar\":{\"outlinewidth\":0,\"ticks\":\"\"}}}],\"scattermapbox\":[{\"type\":\"scattermapbox\",\"marker\":{\"colorbar\":{\"outlinewidth\":0,\"ticks\":\"\"}}}],\"scatterternary\":[{\"type\":\"scatterternary\",\"marker\":{\"colorbar\":{\"outlinewidth\":0,\"ticks\":\"\"}}}],\"scattercarpet\":[{\"type\":\"scattercarpet\",\"marker\":{\"colorbar\":{\"outlinewidth\":0,\"ticks\":\"\"}}}],\"carpet\":[{\"aaxis\":{\"endlinecolor\":\"#2a3f5f\",\"gridcolor\":\"white\",\"linecolor\":\"white\",\"minorgridcolor\":\"white\",\"startlinecolor\":\"#2a3f5f\"},\"baxis\":{\"endlinecolor\":\"#2a3f5f\",\"gridcolor\":\"white\",\"linecolor\":\"white\",\"minorgridcolor\":\"white\",\"startlinecolor\":\"#2a3f5f\"},\"type\":\"carpet\"}],\"table\":[{\"cells\":{\"fill\":{\"color\":\"#EBF0F8\"},\"line\":{\"color\":\"white\"}},\"header\":{\"fill\":{\"color\":\"#C8D4E3\"},\"line\":{\"color\":\"white\"}},\"type\":\"table\"}],\"barpolar\":[{\"marker\":{\"line\":{\"color\":\"#E5ECF6\",\"width\":0.5},\"pattern\":{\"fillmode\":\"overlay\",\"size\":10,\"solidity\":0.2}},\"type\":\"barpolar\"}],\"pie\":[{\"automargin\":true,\"type\":\"pie\"}]},\"layout\":{\"autotypenumbers\":\"strict\",\"colorway\":[\"#636efa\",\"#EF553B\",\"#00cc96\",\"#ab63fa\",\"#FFA15A\",\"#19d3f3\",\"#FF6692\",\"#B6E880\",\"#FF97FF\",\"#FECB52\"],\"font\":{\"color\":\"#2a3f5f\"},\"hovermode\":\"closest\",\"hoverlabel\":{\"align\":\"left\"},\"paper_bgcolor\":\"white\",\"plot_bgcolor\":\"#E5ECF6\",\"polar\":{\"bgcolor\":\"#E5ECF6\",\"angularaxis\":{\"gridcolor\":\"white\",\"linecolor\":\"white\",\"ticks\":\"\"},\"radialaxis\":{\"gridcolor\":\"white\",\"linecolor\":\"white\",\"ticks\":\"\"}},\"ternary\":{\"bgcolor\":\"#E5ECF6\",\"aaxis\":{\"gridcolor\":\"white\",\"linecolor\":\"white\",\"ticks\":\"\"},\"baxis\":{\"gridcolor\":\"white\",\"linecolor\":\"white\",\"ticks\":\"\"},\"caxis\":{\"gridcolor\":\"white\",\"linecolor\":\"white\",\"ticks\":\"\"}},\"coloraxis\":{\"colorbar\":{\"outlinewidth\":0,\"ticks\":\"\"}},\"colorscale\":{\"sequential\":[[0.0,\"#0d0887\"],[0.1111111111111111,\"#46039f\"],[0.2222222222222222,\"#7201a8\"],[0.3333333333333333,\"#9c179e\"],[0.4444444444444444,\"#bd3786\"],[0.5555555555555556,\"#d8576b\"],[0.6666666666666666,\"#ed7953\"],[0.7777777777777778,\"#fb9f3a\"],[0.8888888888888888,\"#fdca26\"],[1.0,\"#f0f921\"]],\"sequentialminus\":[[0.0,\"#0d0887\"],[0.1111111111111111,\"#46039f\"],[0.2222222222222222,\"#7201a8\"],[0.3333333333333333,\"#9c179e\"],[0.4444444444444444,\"#bd3786\"],[0.5555555555555556,\"#d8576b\"],[0.6666666666666666,\"#ed7953\"],[0.7777777777777778,\"#fb9f3a\"],[0.8888888888888888,\"#fdca26\"],[1.0,\"#f0f921\"]],\"diverging\":[[0,\"#8e0152\"],[0.1,\"#c51b7d\"],[0.2,\"#de77ae\"],[0.3,\"#f1b6da\"],[0.4,\"#fde0ef\"],[0.5,\"#f7f7f7\"],[0.6,\"#e6f5d0\"],[0.7,\"#b8e186\"],[0.8,\"#7fbc41\"],[0.9,\"#4d9221\"],[1,\"#276419\"]]},\"xaxis\":{\"gridcolor\":\"white\",\"linecolor\":\"white\",\"ticks\":\"\",\"title\":{\"standoff\":15},\"zerolinecolor\":\"white\",\"automargin\":true,\"zerolinewidth\":2},\"yaxis\":{\"gridcolor\":\"white\",\"linecolor\":\"white\",\"ticks\":\"\",\"title\":{\"standoff\":15},\"zerolinecolor\":\"white\",\"automargin\":true,\"zerolinewidth\":2},\"scene\":{\"xaxis\":{\"backgroundcolor\":\"#E5ECF6\",\"gridcolor\":\"white\",\"linecolor\":\"white\",\"showbackground\":true,\"ticks\":\"\",\"zerolinecolor\":\"white\",\"gridwidth\":2},\"yaxis\":{\"backgroundcolor\":\"#E5ECF6\",\"gridcolor\":\"white\",\"linecolor\":\"white\",\"showbackground\":true,\"ticks\":\"\",\"zerolinecolor\":\"white\",\"gridwidth\":2},\"zaxis\":{\"backgroundcolor\":\"#E5ECF6\",\"gridcolor\":\"white\",\"linecolor\":\"white\",\"showbackground\":true,\"ticks\":\"\",\"zerolinecolor\":\"white\",\"gridwidth\":2}},\"shapedefaults\":{\"line\":{\"color\":\"#2a3f5f\"}},\"annotationdefaults\":{\"arrowcolor\":\"#2a3f5f\",\"arrowhead\":0,\"arrowwidth\":1},\"geo\":{\"bgcolor\":\"white\",\"landcolor\":\"#E5ECF6\",\"subunitcolor\":\"white\",\"showland\":true,\"showlakes\":true,\"lakecolor\":\"white\"},\"title\":{\"x\":0.05},\"mapbox\":{\"style\":\"light\"}}},\"xaxis\":{\"anchor\":\"y\",\"domain\":[0.0,1.0],\"title\":{\"text\":\"In Sample Performance (Rsquared)\"}},\"yaxis\":{\"anchor\":\"x\",\"domain\":[0.0,1.0],\"title\":{\"text\":\"Out of Sample Performance (Rsquared)\"}},\"legend\":{\"tracegroupgap\":0},\"margin\":{\"t\":60}},                        {\"responsive\": true}                    ).then(function(){\n",
       "                            \n",
       "var gd = document.getElementById('0e8401a4-74fa-4b7f-86a8-5549672ac4ab');\n",
       "var x = new MutationObserver(function (mutations, observer) {{\n",
       "        var display = window.getComputedStyle(gd).display;\n",
       "        if (!display || display === 'none') {{\n",
       "            console.log([gd, 'removed!']);\n",
       "            Plotly.purge(gd);\n",
       "            observer.disconnect();\n",
       "        }}\n",
       "}});\n",
       "\n",
       "// Listen for the removal of the full notebook cells\n",
       "var notebookContainer = gd.closest('#notebook-container');\n",
       "if (notebookContainer) {{\n",
       "    x.observe(notebookContainer, {childList: true});\n",
       "}}\n",
       "\n",
       "// Listen for the clearing of the current output cell\n",
       "var outputEl = gd.closest('.output');\n",
       "if (outputEl) {{\n",
       "    x.observe(outputEl, {childList: true});\n",
       "}}\n",
       "\n",
       "                        })                };                });            </script>        </div>"
      ]
     },
     "metadata": {},
     "output_type": "display_data"
    }
   ],
   "source": [
    "from sklearn.model_selection import train_test_split\n",
    "songs_training_data,songs_testing_data = train_test_split(songs, train_size=31)\n",
    "# The above is a one line version of something like...\n",
    "# training_indices = np.random.choice(songs.index, size=31, replace=True)\n",
    "# testing_indices = set(songs.index.to_list())-set(training_indices.tolist())\n",
    "# songs_training_data,songs_testing_data = songs[training_indices], songs[testing_indices]\n",
    "\n",
    "reps = 100\n",
    "in_sample_Rsquared = np.array([0.0]*reps)\n",
    "out_of_sample_Rsquared = np.array([0.0]*reps)\n",
    "for i in range(reps):\n",
    "    songs_training_data,songs_testing_data = train_test_split(songs, train_size=31)\n",
    "    final_model_fit = smf.ols(formula='danceability ~ energy * loudness + energy * mode', \n",
    "                              data=songs_training_data).fit()\n",
    "    in_sample_Rsquared[i] = final_model_fit.rsquared\n",
    "    out_of_sample_Rsquared[i] = np.corrcoef(songs_testing_data.danceability, \n",
    "                                            final_model_fit.predict(songs_testing_data))[0,1]**2\n",
    "    \n",
    "fig = px.scatter(pd.DataFrame({\"In Sample Performance (Rsquared)\": in_sample_Rsquared,\n",
    "                              \"Out of Sample Performance (Rsquared)\": out_of_sample_Rsquared}), \n",
    "                 x=\"In Sample Performance (Rsquared)\", y=\"Out of Sample Performance (Rsquared)\")\n",
    "fig.add_trace(go.Scatter(x=[0,1], y=[0,1], name=\"y=x\", line_shape='linear'))    "
   ]
  },
  {
   "cell_type": "code",
   "execution_count": 6,
   "id": "cd6c7701",
   "metadata": {},
   "outputs": [],
   "source": [
    "# Q25: your answer will be tested!\n",
    "Q25 = None # Assign either 'A' or 'B' or 'C' or 'D' or `None` to `Q25` instead of `None`\n",
    "# E.g., Q25 = 'A'"
   ]
  },
  {
   "cell_type": "markdown",
   "id": "4af20d74",
   "metadata": {},
   "source": [
    "#### Statistical evidence in multiple linear regression models can help guide model building decisions; but, at the end of the day, the real way to know how well your model will perform is to actually just try it out and test it's performance on new data that wasn't used to fit it.  Models should generally perform best on the data that is used to fit them, of course; so, the real test of a model is how it does on new data."
   ]
  }
 ],
 "metadata": {
  "kernelspec": {
   "display_name": "Python 3 (ipykernel)",
   "language": "python",
   "name": "python3"
  },
  "language_info": {
   "codemirror_mode": {
    "name": "ipython",
    "version": 3
   },
   "file_extension": ".py",
   "mimetype": "text/x-python",
   "name": "python",
   "nbconvert_exporter": "python",
   "pygments_lexer": "ipython3",
   "version": "3.11.4"
  }
 },
 "nbformat": 4,
 "nbformat_minor": 5
}
