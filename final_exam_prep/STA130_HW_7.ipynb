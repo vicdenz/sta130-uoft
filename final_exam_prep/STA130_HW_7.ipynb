{
 "cells": [
  {
   "cell_type": "markdown",
   "id": "b9aeff34",
   "metadata": {},
   "source": [
    "# Coding Homework 7: [Your Name]\n",
    "\n",
    "Go through this notebook, following the instructions! \n",
    "\n",
    "TAs will mark this assignment by first checking ***MarkUs*** autotests for completion and general correctness, and then manually reviewing your written response to `Q12`, `Q14`, and `Q17`.\n",
    "- The `Q1`, `Q2`, `Q4`, `Q5`, `Q7`, `Q13`, and `Q18` questions \"automatically fail\" during automated testing so that ***MarkUs*** exposes example answers for student review and consideration for these problems: these failed ***MarkUs*** \"autotests\" are not counted against the student.\n",
    "\n",
    "> You can add new cells if you need (with the \"+\" button above); but, deleting or reordering cells could very likely cause your notebook to fail ***MarkUs*** autotesting (and you'd have to start over and re-enter your answers into a completely fresh version of the notebook to get things working again...).\n",
    ">\n",
    "> - ***MarkUs*** autotesting works by running your notebook from top to bottom, and if there's an error when doing this (such as a variable is getting called that hasn't yet been defined, etc.) it can cause automated tests to fail; so, make sure your notebook runs from top to bottom without error once you're done (which you can do by restarting the \"Restart & Run All\" from the \"Kernel\" menu).\n"
   ]
  },
  {
   "cell_type": "markdown",
   "id": "2708502e",
   "metadata": {},
   "source": [
    "# Broadway!"
   ]
  },
  {
   "cell_type": "markdown",
   "id": "4d5336c3",
   "metadata": {},
   "source": [
    "Lin-Manuel Miranda was nominated for “Best Original Song” for the March 27, 2022 the Academy Awards\n",
    "(also known as the Oscars) for his work on the Disney movie Encanto. Miranda had already won an Emmy,\n",
    "Grammy, and Tony (mostly for his work on the broadway musical “Hamilton”), so he was very close to\n",
    "the [EGOT](https://www.vanityfair.com/hollywood/2022/02/oscar-nominations-2022-will-lin-manuelmiranda-finally-egot-for-encanto) (Emmy, Grammy, Oscar and Tony), a rare occurrence as only 16 people\n",
    "have won all four awards. Unfortunately, Miranda did not win the Oscar in 2022. Perhaps he will soon!\n",
    "\n",
    "\n",
    "In this question we will look at a sample of weekly broadway musical data (available in `broadway.csv`).\n",
    "\n",
    "This data set contains a sample of Broadway musical information for 500 weeks from 1985 to 2020. In this\n",
    "data set an observation is one broadway musical in a particular week (ending on a Sunday). \n",
    "\n",
    "Variables of interest are:\n",
    "\n",
    "- show: Name of the broadway musical/show.\n",
    "- Hamilton: Indicates whether the musical is “Hamilton” or not.\n",
    "- week_ending: Date of the end of the weekly measurement period. Always a Sunday.\n",
    "- weekly_gross_overall: Weekly box office gross for all shows.\n",
    "- avg_ticket_price: Average price of tickets sold in a particular week.\n",
    "- top_ticket_price: Highest price of tickets sold in a particular week.\n",
    "- seats_sold: Total seats sold for all performances and previews in a particular week.\n",
    "- pct_capacity: Percent of theatre capacity sold. Shows can exceed 100% capacity by selling standing room tickets.\n",
    "\n",
    "Let’s explore different ways to estimate the average ticket price for Broadway shows! "
   ]
  },
  {
   "cell_type": "code",
   "execution_count": 25,
   "id": "7b6eeff8",
   "metadata": {},
   "outputs": [],
   "source": [
    "# Import/Load Put the \"broadway.csv\" data with the name broadway\n",
    "# Take a look at the data to familiarize yourself with it and understand it a little more!\n"
   ]
  },
  {
   "cell_type": "markdown",
   "id": "d1f477d9",
   "metadata": {},
   "source": [
    "### Q0: Use `.drop(<columnName>, axis=1)` to remove any columns in `broadway` with missing values\n",
    "\n",
    "> - Hint 1: Use `.isna().any()` to check if any `columns` have missing values first, not rows!\n",
    "> - Hint 2: If you don't use `inplace=True` then you'll need to reassign the `broadway` object\n",
    "\n",
    "#### We wouldn't remove columns that we were interested in; but, then we'd probably remove the rows that have missing values in those columns.  It doesn't make sense to remove rows if the missing value is in a column we don't care about.  For the analyses here, then, what we're doing is removing coulmns that we won't need for our analyses instead of losing rows in columns that we're interested in for our analyses.\n"
   ]
  },
  {
   "cell_type": "code",
   "execution_count": null,
   "id": "23827a60",
   "metadata": {},
   "outputs": [],
   "source": [
    "# Q0: your answer will be tested by examining if your `broadway` object has been correctly updated!"
   ]
  },
  {
   "cell_type": "code",
   "execution_count": null,
   "id": "1371a0fe",
   "metadata": {},
   "outputs": [],
   "source": []
  },
  {
   "cell_type": "markdown",
   "id": "eb1d97fe",
   "metadata": {},
   "source": [
    "### Q1: Make a plot showing the relationship between `weekly_gross_overall` and `avg_ticket_price` on the x- and y-axis, respectively\n",
    "\n",
    "> - Hint: You did something like this in the final problem in the week three homework with the `scatter` function from `plotly.express`... *and of course there's always google...*\n",
    "\n",
    "- *Compare your answer against the example answer provided in the **MarkUs** autotesting output*\n"
   ]
  },
  {
   "cell_type": "code",
   "execution_count": null,
   "id": "3a421ea8",
   "metadata": {},
   "outputs": [],
   "source": [
    "# import plotly.offline as pyo; pyo.init_notebook_mode() \n",
    "# uncomment and run the line above in its own cell if plotly is not rendering"
   ]
  },
  {
   "cell_type": "code",
   "execution_count": null,
   "id": "d60c42f4",
   "metadata": {},
   "outputs": [],
   "source": []
  },
  {
   "cell_type": "markdown",
   "id": "fb1291d6",
   "metadata": {},
   "source": [
    "### Q2: Add a trendline to the plot\n",
    "\n",
    "\n",
    "#### Use the `trendline=\"ols\"` parameter argument for the `scatter` function\n",
    "\n",
    ">   This shows the fit of an $E[Y_i] = \\beta_0 + \\beta_1 x_i$ (\"intercept and slope\") simple linear model, specifically, \n",
    "> \n",
    ">   $$\\text{avg_ticket_price} = \\beta_0 + \\beta_1 \\text{weekly_gross_overall}$$  \n",
    ">\n",
    ">   that follows from the statistical modeling specification \n",
    "> \n",
    ">   $$Y_i = \\beta_0 + \\beta_1 x_i + \\epsilon_i, \\; \\epsilon_i \\sim \\mathcal{N}\\left(0, \\sigma^2\\right)$$\n",
    "\n",
    "- *Compare your answer against the example answer provided in the **MarkUs** autotesting output*\n"
   ]
  },
  {
   "cell_type": "code",
   "execution_count": null,
   "id": "ec07ed84",
   "metadata": {},
   "outputs": [],
   "source": []
  },
  {
   "cell_type": "code",
   "execution_count": null,
   "id": "2306ed99",
   "metadata": {},
   "outputs": [],
   "source": []
  },
  {
   "cell_type": "markdown",
   "id": "aa2a0968",
   "metadata": {},
   "source": [
    "### Q3: Use `np.corrcoef` or the `.corr()` method for `pd.DataFrame` objects to compute the correlation between the variables in the Q2 plot above\n",
    "\n",
    "#### Supply your answer rounded to three decimal points with `np.round(answer, 3)` or using the `.round(3)` method\n",
    "\n",
    "- *Correlation measures of the <u>uniform strength</u> of \"straight line\" linear association between two variables*"
   ]
  },
  {
   "cell_type": "code",
   "execution_count": null,
   "id": "7c4be373",
   "metadata": {},
   "outputs": [],
   "source": []
  },
  {
   "cell_type": "code",
   "execution_count": 27,
   "id": "c43ecfc6",
   "metadata": {},
   "outputs": [],
   "source": [
    "# Q3: your answer will be tested!\n",
    "Q3 = None # Provde 3 digits of accuracy as given by `np.round(answer, 3)` or the `.round(3)` method\n",
    "# E.g., Q3 = 0.123"
   ]
  },
  {
   "cell_type": "markdown",
   "id": "cd75d0bc",
   "metadata": {},
   "source": [
    "### Q4: Explain why you do or do not think correlation provides a reasonable summary of the relationship between the variables in the plot(s) above? \n",
    "\n",
    "#### Correlation measures of the <u>uniform strength</u> of \"straight line\" linear association between two variables\n",
    "\n",
    "- *Compare your answer against the example answer provided in the **MarkUs** autotesting output*\n"
   ]
  },
  {
   "cell_type": "markdown",
   "id": "b70caffa",
   "metadata": {},
   "source": [
    "> Answer here... "
   ]
  },
  {
   "cell_type": "markdown",
   "id": "9bbc5897",
   "metadata": {},
   "source": [
    "# The Four Assumptions of Linear Regression"
   ]
  },
  {
   "cell_type": "markdown",
   "id": "dd556154",
   "metadata": {},
   "source": [
    "In what we've done so far we're just tentatively suggesting linear regression without knowing what important assumptions we could make to transform what we're doing into a statistical analysis. Understanding this will of course be immediately relevant for our course but also highly helpful for your future statistics courses as it entails many key statistical concepts that are just broadly useful in statistical analysis in general ways even beyond linear regrssion alone.\n",
    "\n",
    "\\begin{align*}\n",
    "Y_i & \\sim  {} \\mathcal{N}\\left(\\beta_0 + \\beta_1 x_i, \\sigma^2 \\right) &&\\text{simple linear regression model}\\\\\n",
    "Y_i & =  {} \\beta_0 + \\beta_1 x_i + \\epsilon_i,\\; \\epsilon_i \\sim \\mathcal{N}\\left(0, \\sigma^2 \\right) &&\\text{eqivalently expressed using errors terms } \\epsilon_i\\\\\n",
    "\\hat Y_i & =  {} \\hat \\beta_0 + \\hat \\beta_1 x_i &&\\text{predicted values of fitted model (where \"hats\" denote that the model has been fit on data)} \\\\\n",
    "\\hat \\epsilon_i & =  {} Y_i - \\hat Y_i &&\\text{residuals (and again note the \"hats\")}\n",
    "\\end{align*}\n",
    "\n",
    "\n",
    "## 1. Normality\n",
    "In a ***classical linear regression specification***, the $\\epsilon_i$ ***error terms*** of the model (which the $\\hat \\epsilon_i$ ***residuals*** sort of estimate and approximate) are assumed to be ***normally distributed***. This assumption that the ***error terms*** are ***normally distributed*** is something that is generally diagnostically checked with Q-Q plots or the Shapiro-Wilk test of the ***residuals***. Alternatively, we can farily easily visually inspect the ***empirical distribution*** of the ***residuals***, which is the approach we'll take here; namely, we can simply create a histogram of all the ***residuals*** and if it looks \"bell-shaped\" then we would likely be willing to believe that the assumption that the ***error terms*** follow a normal distribution is approximately true or at least relatively accurate.\n",
    "\n",
    "> The assumption of ***normality*** of the ***error terms*** is present in the ***classical linear regression specification*** in the form of the distribution of the  ***error terms*** $\\epsilon_i$ being assumed to be ***normally distributed***.\n",
    "\n",
    "\n",
    "Here is an example, but of course in your specific context you would have to actually extract residuals based on a fitted model."
   ]
  },
  {
   "cell_type": "code",
   "execution_count": null,
   "id": "03706419",
   "metadata": {},
   "outputs": [],
   "source": [
    "import plotly.graph_objects as go\n",
    "# import plotly.offline as pyo; pyo.init_notebook_mode() \n",
    "# run the line above in a new cell if plotly is not rendering\n",
    "import numpy as np\n",
    "\n",
    "np.random.seed(123)\n",
    "residuals = np.random.normal(0, 1, 1000)\n",
    "\n",
    "histogram = go.Histogram(x=residuals, nbinsx=30)\n",
    "layout = go.Layout(title='Histogram of Residuals', xaxis=dict(title='Residuals'), yaxis=dict(title='Count'))\n",
    "\n",
    "fig = go.Figure(data=[histogram], layout=layout)\n",
    "fig.show()"
   ]
  },
  {
   "cell_type": "markdown",
   "id": "fa422b01",
   "metadata": {},
   "source": [
    "## 2. Homoscedasticity \n",
    "\n",
    "In a ***classical linear regression specification***, we satisfy the desired assumption of ***homoscedasticity*** if the $\\epsilon_i$ ***error terms*** of the model (which the $\\hat \\epsilon_i$ ***residuals*** sort of estimate and approximate) have a ***constant variance*** acorss every possible value of the $x_i$ measurements. If this condition is not met then you have ***heteroscedasticity*** which is something that we do not want. So, we want the assumption of ***homoscedasticity*** to be satisfied, and if it's not then we have ***heteroscedasticity*** which can invalidate the analysis of the model. The simplest way to diagnostically evaluate the assumption of ***homoscedasticity*** is to create a scattor plot of the fitted (or predicted) values against their residuals. If we see a cone-shaped plot, or some other systematic pattern in this plot that suggests the ***variance*** in the ***error terms*** is not constant across the $x_i$ values then the accuracy of our statistical analysis is going to suffer from the negative effects of ***heteroscedasticity***.\n",
    "\n",
    "> The assumption of ***homoscedasticity*** is present in the ***classical linear regression specification*** in the form of having a single $\\sigma^2$ parameter that is constant and does not change depending on the value of $x_i$.\n",
    "\n",
    "Below we demonstrate \n",
    "- first what we're looking for and would consider reasonable support for an assumption of ***homoscedasticity***\n",
    "- then an example of something we are not looking for and would consider evidence of ***heteroscedasticity***"
   ]
  },
  {
   "cell_type": "code",
   "execution_count": null,
   "id": "7cfbc952",
   "metadata": {},
   "outputs": [],
   "source": [
    "import plotly.express as px\n",
    "import pandas as pd\n",
    "import numpy as np\n",
    "\n",
    "np.random.seed(123)\n",
    "n = 1000\n",
    "x = np.random.uniform(0, 1, n)\n",
    "y = 1 + 10*x + np.random.normal(0, 0.1, n)\n",
    "predicted_y = 1 + 10 * x  \n",
    "residuals = y - predicted_y\n",
    "data = pd.DataFrame({'Predicted Values': predicted_y, 'Residuals': residuals})\n",
    "\n",
    "fig = px.scatter(data, x='Predicted Values', y='Residuals', trendline=None)\n",
    "fig.update_layout(title='Scatter Plot Observing Homoscedasticity in Residuals (what we want)',\n",
    "                  xaxis_title='Predicted Values', yaxis_title='Residuals')\n",
    "fig.show()"
   ]
  },
  {
   "cell_type": "code",
   "execution_count": null,
   "id": "7e2f1baf",
   "metadata": {},
   "outputs": [],
   "source": [
    "# What we are not looking for, notice the \"cone shape\" as the points continue to spread\n",
    "# Notice the scale of the axis in both plots!\n",
    "\n",
    "import plotly.graph_objects as go\n",
    "import numpy as np\n",
    "\n",
    "np.random.seed(123)\n",
    "n = 1000\n",
    "predicted_values = np.random.uniform(0, 1, n)\n",
    "residuals = np.random.normal(0, predicted_values**2, n)\n",
    "\n",
    "scatter_residuals = go.Scatter(x=predicted_values, y=residuals, mode='markers', name='Residuals')\n",
    "\n",
    "layout_residuals = go.Layout(title='Scatter Plot Observing Heteroscedasticity in Residuals (what we do not want)',\n",
    "                             xaxis=dict(title='Predicted Values'), yaxis=dict(title='Residuals'))\n",
    "\n",
    "fig_residuals = go.Figure(data=[scatter_residuals], layout=layout_residuals)\n",
    "fig_residuals.show()"
   ]
  },
  {
   "cell_type": "markdown",
   "id": "cd3a82cd",
   "metadata": {},
   "source": [
    "## 3. The \"Linear Form\" (with $x_i$ having no mismeasurement)\n",
    "\n",
    "In a ***classical linear regression specification***, this is the assumption that the relationship between the ***independent variable(s)*** $x_{i}$ and the ***dependent variable*** $Y_i$ is as stated in the given ***linear specification***. In other words, the change in the ***dependent variable*** is directly proportional to the change in the ***independent variables*** as specified by the ***linear model equation***. In the case of ***simple linear regression*** forms, this specifies $E[Y_i]=\\beta_0+\\beta_1 x_i$ which manifests as the presense of a straight-line association visibly observable in the data. \n",
    "\n",
    "The adjoining assumption that each $x_i$ is \"measured exactly\" means that $x_i$ would not have any intrinsic randomness if the measurement were to be re-taken.  In many circumstances this would be a very naive assupmtion; but, there's also situations where it's not very hard to accept.  A fully grown person should always have the same height and the same color eyes, generally speaking.  So as long as our ability to take a measurement is consistent, then an assumption that $x_i$ is exactly measured would be reasonable. \n",
    ".\n",
    "> This compound assumption appears directly from the stated \"linear form\" expression of the ***classical linear regression specification***, and the fact that, unlike for $\\epsilon_i$ which has a distributional assumption, no such distributional assumption is specified for $x_i$, indicating that they are thusly assumed to be given \"fixed and measured without error\"."
   ]
  },
  {
   "cell_type": "code",
   "execution_count": null,
   "id": "bcb6057f",
   "metadata": {},
   "outputs": [],
   "source": [
    "# Example:\n",
    "\n",
    "import plotly.graph_objects as go\n",
    "import numpy as np\n",
    "\n",
    "np.random.seed(123)\n",
    "n = 1000\n",
    "X = np.random.normal(0, 1, n)\n",
    "error_terms_also_called_noise = np.random.normal(0, 5, n)\n",
    "Y = 1 + 10*X + error_terms_also_called_noise\n",
    "\n",
    "scatter_plot = go.Scatter(x=X, y=Y, mode='markers', name='Data Points')\n",
    "\n",
    "layout = go.Layout(title='Scatter Plot',\n",
    "                   xaxis=dict(title='Independent Variable'), yaxis=dict(title='Dependent Variable'))\n",
    "\n",
    "fig = go.Figure(data=[scatter_plot], layout=layout)\n",
    "fig.show()"
   ]
  },
  {
   "cell_type": "markdown",
   "id": "8031db57",
   "metadata": {},
   "source": [
    "## 4. Independence\n",
    "\n",
    "In a ***classical linear regression specification***, the $Y_i$ outcomes in the dataset (or equivalently the $\\epsilon_i$ ***error terms*** of the model) are assumed to be ***independent*** of each other. This means that it is assumed that there is no relationship between the different $Y_i$ outcomes except for their depedence on the $x_i$.  We do not want there to be a dependence among the $Y_i$ outcomes (except as specified by their \"linear form\" relationship with $x_i$) because if one of the $Y_i$ outcomes can predict another, then each $Y_i$ outcome does not really represent a \"full unit\" of information.  For the purposes of statistical analyses if the $Y_i$ outcomes could predict each other then this would lead us to falsely believe that we have more information in our data than we really have.  This would lead to overly confident models and inaccurate statistical analyses. This is not unique to this assumption though. Failure of the previous three assumptions would as well lead to ineffective models and inaccurate statistical analyses."
   ]
  },
  {
   "cell_type": "markdown",
   "id": "65341e02",
   "metadata": {},
   "source": [
    "### Q5: Describe the shape of the data visualzed in Q2 relative to the added `trendline=\"ols\"` straight-line association with respect to the regression assumptions of *normality of error terms* and *homoskedastic (constant) variance*, and what this means for the appropriateness of these assumptions for the data.\n",
    "\n",
    "#### Write your answer in 1 to 3 sentences.\n",
    "\n",
    "- *Compare your answer against the example answer provided in the **MarkUs** autotesting output*\n",
    "\n",
    "> - Hint 1: The regression assumptions of *normality of error terms* and *homoskedastic (constant) variance* are nicely illustrated below\n",
    "> ![](https://stats.libretexts.org/@api/deki/files/1599/imageedit_3_7796089347.png?revision=1)\n",
    "> - Hint 2: Consider the *normality of error terms* and *homoskedastic (constant) variance* concepts illustrated here relative to your Q2 plot\n",
    "> - Hint 3: Note carefully that your plot in Q2 is not a \"fitted values versus residuals\" plot (as examined in the discussion of *homoskedasticity* above; rather, it's a plot of the original \"x versus y\" data; still, the assumptions of *normality* and *homoskedasticity* can nonetheless still be observed and evaluated by considering the behavior of the spread of the data relative to the trend line; and, this is what this problem is asking you to asses."
   ]
  },
  {
   "cell_type": "markdown",
   "id": "2713ffb0",
   "metadata": {},
   "source": [
    "> Answer here... "
   ]
  },
  {
   "cell_type": "markdown",
   "id": "640a9bad",
   "metadata": {},
   "source": [
    "### Q6: Add the following two new variable transformation columns to the `broadway` `pd.DataFrame` \n",
    "\n",
    "- `'log_avg_ticket_price'` which will be `np.log(broadway.avg_ticket_price)`\n",
    "- `'weekly_gross_overall_in_100k'` which will be `broadway.weekly_gross_overall/100000`\n",
    "\n",
    "#### The $\\log$ of a number less than or equal to zero is not defined so gets stored as `NaN`. Double check that there are no `NaN` values in the $\\log$-transformed columns and drop rows if there are any missing values resulting from the transformation."
   ]
  },
  {
   "cell_type": "code",
   "execution_count": null,
   "id": "8dbb60ff",
   "metadata": {},
   "outputs": [],
   "source": [
    "# Q6: your answer will be tested by examining if your `broadway` object has been correctly updated!"
   ]
  },
  {
   "cell_type": "code",
   "execution_count": null,
   "id": "b5f0cf16",
   "metadata": {},
   "outputs": [],
   "source": []
  },
  {
   "cell_type": "markdown",
   "id": "049be494",
   "metadata": {},
   "source": [
    "### Q7: Plot the association between the new variables you created along with a line of best fit to the plot, and describe the relationship observed in the plot, as well as any notable artifacts present in the plot.\n",
    "\n",
    "- `log_avg_ticket_price` (on the y-axis)\n",
    "- `weekly_gross_overall_in_100k` (on the x-axis)\n",
    "- Use the `trendline=\"ols\"` parameter argument for the `scatter` function\n",
    "\n",
    "#### Plot your figure in the code cell below and write your answer in 2 to 3 sentences.\n",
    "\n",
    "- *Compare your answer against the example answer provided in the **MarkUs** autotesting output*"
   ]
  },
  {
   "cell_type": "code",
   "execution_count": null,
   "id": "0e45af2c",
   "metadata": {},
   "outputs": [],
   "source": []
  },
  {
   "cell_type": "markdown",
   "id": "1f7d8dcc",
   "metadata": {},
   "source": [
    "> Answer here... "
   ]
  },
  {
   "cell_type": "markdown",
   "id": "d4ddc7e0",
   "metadata": {},
   "source": [
    "### Q8: From your plot in Q7, which of the four assumptions of linear regression has improved the `most`?\n",
    "\n",
    "A. `Normality`  \n",
    "B. `Homoscedasticity`  \n",
    "C. `Linearity`  \n",
    "D. `Independence`"
   ]
  },
  {
   "cell_type": "code",
   "execution_count": 32,
   "id": "7357a11a",
   "metadata": {},
   "outputs": [],
   "source": [
    "# Q8: your answer will be tested!\n",
    "Q8 = None # Assign either 'A', 'B', 'C', or 'D' to `Q8` instead of `None`\n",
    "# E.g., Q8 = 'A'"
   ]
  },
  {
   "cell_type": "markdown",
   "id": "431aaa33",
   "metadata": {},
   "source": [
    "### Q9: Use `np.corrcoef` or the `.corr()` method for `pd.DataFrame` objects to compute the correlation between the variables in the Q7 plot above\n",
    "\n",
    "#### Supply your answer rounded to three decimal points with `np.round(answer, 3)` or using the `.round(3)` method\n",
    "\n",
    "- *Correlation measures of the strength of \"straight line\" linear association between two variables*"
   ]
  },
  {
   "cell_type": "code",
   "execution_count": null,
   "id": "de3ee841",
   "metadata": {},
   "outputs": [],
   "source": []
  },
  {
   "cell_type": "code",
   "execution_count": 33,
   "id": "80d75316",
   "metadata": {},
   "outputs": [],
   "source": [
    "# Q9: your answer will be tested!\n",
    "Q9 = None # Provde 3 digits of accuracy as given by `np.round(answer, 3)` or the `.round(3)` method\n",
    "# E.g., Q9 = 0.123"
   ]
  },
  {
   "cell_type": "markdown",
   "id": "a168f4cc",
   "metadata": {},
   "source": [
    "### Q10: Which statement most accurately describes the change in correlations you found in Q3 and Q9?\n",
    "\n",
    "A. The correlation for Q9 has decreased significantly as more points are tightly fit to the line in Q3.    \n",
    "B. The correlation is similar because both plots look almost identical.  \n",
    "C. The correlation in Q9 is significantly larger as the points are more linear than in Q3.  \n",
    "D. The correlation is actually fairly similar despite the points in Q3 being both more and less tightly located around the line than the points in Q9."
   ]
  },
  {
   "cell_type": "code",
   "execution_count": 34,
   "id": "1e26d859",
   "metadata": {},
   "outputs": [],
   "source": [
    "# Q10: your answer will be tested!\n",
    "Q10 = None # Assign either 'A', 'B', 'C', or 'D' to `Q10` instead of `None`\n",
    "# E.g., Q10 = 'A'"
   ]
  },
  {
   "cell_type": "markdown",
   "id": "493690ff",
   "metadata": {},
   "source": [
    "### Q11: Which of the following is the best statement? \n",
    "\n",
    "> - Hint: **Correlation measures of the <u>uniform strength</u> of \"straight line\" linear association between two variables**; so, what does that mean when the strength of association is not consistent...?\n",
    "\n",
    "- A. The correlation measure is less useful for Q3 than Q9 since Q3 data has a more curved shaped\n",
    "\n",
    "\n",
    "- B. The correlation measure is less useful for Q3 than Q9 since Q3 data is more fan shaped  \n",
    "\n",
    "\n",
    "- C. The correlation measure is more useful for Q9 than Q3 since the linear association characterized in Q9 is more consistent compared to variably stronger and weaker association characterized in Q3  \n",
    "\n",
    "\n",
    "- D. Niether of the correlation measures from Q3 and Q9 are at all useful    \n",
    "\n",
    "\n",
    "- E. There's nothing different about correlation measures for Q3 and Q9"
   ]
  },
  {
   "cell_type": "code",
   "execution_count": 35,
   "id": "c8a4ec76",
   "metadata": {},
   "outputs": [],
   "source": [
    "# Q11: your answer will be tested!\n",
    "Q11 = None # Assign either 'A', 'B', 'C', 'D', or 'E' to `Q11` instead of `None`\n",
    "# E.g., Q11 = 'A'"
   ]
  },
  {
   "cell_type": "markdown",
   "id": "a7d30349",
   "metadata": {},
   "source": [
    "### Q12: For predictor (explanatory) variable `weekly_gross_overall_in_100k` and outcome (response) `log(avg_ticket_price)`, write down a simple linear regression model specification and explain each component of the model.\n",
    "\n",
    "#### Only writing down and interpreting the linear form is a sufficient response for this problem; but, you are additionally welcome and encouraged to include some commentary consideration of the *error terms* as well if you wish to do so\n",
    "\n",
    "- *You may have noted the \"$E[Y_i] = \\beta_0 + \\beta_1 x_i$\" style notation as you've progressed through this assignment. This is the simple linear regression form, and is the part of the model that concerns itself with the average (where the $E$ is for \"expected\") behavior of the association of the data that is to be represented by the model. This distinguishes this aspect of the model from the full form of the statistical model which would include the error terms $\\epsilon_i$ as $Y_i = \\beta_0 + \\beta_1 x_i + \\epsilon_i$ and potentially even as well clearly specifying the distribution of the error terms as $\\epsilon_i \\sim \\mathcal{N}\\left(0,\\sigma^2\\right)$.*\n",
    "\n",
    "> - Hint 1: You can repurpose and edit the comment in Q2 to write out the requested simple linear regression model specification\n",
    "> - Hint 2: \"The intercept of the line is the average value of ______ predicted by the model when ______; and, the slope of the line is the average change in ______ predicted by the model for a one unit increase in ______.\"\n",
    "> - Hint 3: Double click on this cell to see how to write $\\log(\\text{text})$\n",
    "\n",
    "- *Your answer to this question will be manually reviewed by your TA*"
   ]
  },
  {
   "cell_type": "markdown",
   "id": "def518d0",
   "metadata": {},
   "source": [
    "> Answer here..."
   ]
  },
  {
   "cell_type": "markdown",
   "id": "e86eb6a1",
   "metadata": {},
   "source": [
    "![Scene from \"Return of the Jedi\"](https://cdn.vox-cdn.com/thumbor/q_ZnRdNwJWW1jaaT4tDEbYjonKY=/0x0:3840x2160/1200x800/filters:focal(1486x155:2100x769)/cdn.vox-cdn.com/uploads/chorus_image/image/65909572/scale.0.jpg)"
   ]
  },
  {
   "cell_type": "markdown",
   "id": "e5cf5c96",
   "metadata": {},
   "source": [
    "# Return of the Hypothesis Test!\n",
    "\n",
    "> In a galaxy not very far away at all...\n",
    "\n",
    "Thinking back to the Amazon data from the lectures and recordings, suppose we wanted to evaluate if the Amazon list price is associated with the Amazon sale price. One way to approach this would be to give evidence agaisnt the assumption that the slope in a simple linear regression model with these two variables is zero. A zero slope indicates that the an increase or decrease in list price does not (linearly) associate with the sale price of the book. If we give evidence against this slope being zero, then a change in the list price does indeed seem to be associated with the sale price.\n",
    "\n",
    "To formalize this as a hypothesis test is to give evidence against the null hypothesis that $\\beta_1$ (the slope of a simple linear regression model) is equal to zero\n",
    "\n",
    "\\begin{align*}\n",
    "H_0: {}& \\beta_1 = 0 \\quad \\text{there is no \"$E$[sale_price] = $\\beta_0 + \\beta_1$list_price\" linear association between list and sale price}\\\\\n",
    "H_A: {}& \\beta_1 \\neq 0 \\quad \\text{there is some \"$E$[sale_price] = $\\beta_0 + \\beta_1$list_price\" linear association between these variables}\\\\\n",
    "\\end{align*}"
   ]
  },
  {
   "cell_type": "markdown",
   "id": "6fab4ab4",
   "metadata": {},
   "source": [
    "### Q13: For the model where `weekly_gross_overall_in_100k` predicts `log_avg_ticket_price` in a simple linear $\\beta_0 + \\beta_1x_i$ form, state the null and alternative hypotheses you would use to assess  the slope of the linear regression [modeling the (linear) association between these two variables]\n",
    "\n",
    "- *Compare your answer against the example answer provided in the **MarkUs** autotesting output*"
   ]
  },
  {
   "cell_type": "markdown",
   "id": "7e9fc256",
   "metadata": {},
   "source": [
    "> Answer here... "
   ]
  },
  {
   "cell_type": "markdown",
   "id": "a9b42c22",
   "metadata": {},
   "source": [
    "### Q14:  Fit the current model under consideration using the ***OLS*** linear model fit functionality provided by the `statsmodels` package and report and interpret the line by replacing the intercept $\\beta_0$ and slope $\\beta_1$ with their fitted numeric values in a $\\hat \\beta_0 + \\hat \\beta_1 x_i$ equation and describe the use and meaning of this formula\n",
    "\n",
    "#### Report your numeric answers with 3 digits of accuracy using, e.g., `np.round(0.12345, 3)`\n",
    "\n",
    "- *This $\\hat \\beta_0 + \\hat \\beta_1 x_i$ equation is exactly the formula of the straight-line that you added to the plot in Q7 above using `trendline=\"ols\"`*\n",
    "\n",
    "> - Hint 1: \"The intercept of the line is the average value of ______ predicted by the model when ______; and, the slope of the line is the average change in ______ predicted by the model for a one unit increase in ______.\"\n",
    "> - Hint 2: The functionality you should use is detailed in the [`statsmodels` documentation](https://www.statsmodels.org/stable/generated/statsmodels.regression.linear_model.OLS.html)\n",
    "> - Hint 3: Intercepts must be manually added to covariates `X` (just once) using `sm.add_constant(X)`\n",
    "> - Hint 4: The term endogenous variable comes from econometrics and is synonymous with dependent, response, and outcome variable; and, similarly, the term exogenous variable is synonymous with covariate, feature, explanatory, and predictor variable\n",
    "\n",
    "- *Your written interpretation and explanation of this line will be manually reviewed by your TA*"
   ]
  },
  {
   "cell_type": "code",
   "execution_count": null,
   "id": "6e0292a2",
   "metadata": {},
   "outputs": [],
   "source": []
  },
  {
   "cell_type": "markdown",
   "id": "263a848e",
   "metadata": {},
   "source": [
    "> Answer here..."
   ]
  },
  {
   "cell_type": "code",
   "execution_count": 36,
   "id": "f9bf8b32",
   "metadata": {},
   "outputs": [],
   "source": [
    "# Q14: your answer will be tested!\n",
    "\n",
    "intercept = None # Provde 3 digits of accuracy using `np.round(..., 3)`\n",
    "slope = None # Provde 3 digits of accuracy using `np.round(..., 3)`\n",
    "Q14 = (intercept, slope)\n",
    "\n",
    "# E.g., your final answer will be a tuple like Q14 = (0.123, 4.567)"
   ]
  },
  {
   "cell_type": "markdown",
   "id": "88b79fec",
   "metadata": {},
   "source": [
    "### Q15: Given evidence against the null hypotheses you defined above.\n",
    "\n",
    "#### Report the p-value for the slope coefficient and choose the correct interpretation from the options below\n",
    "\n",
    "A. p-value less than 0.001: very strong evidence against the null hypothesis  \n",
    "B. p-value less than 0.01 and greater than 0.001: strong evidence against the null hypothesis  \n",
    "C. p-value less than 0.05 and greater than 0.01: moderate/good evidence against the null hypothesis   \n",
    "D. p-value less than 0.10 and greater than 0.05: weak evidence against the null hypothesis    \n",
    "E. p-value greater than 0.10: no evidence against the null hypothesis    \n",
    "\n",
    "> - Hint: A OLS fit result in `statsmodels` has a `.summary()` method that provides information about the statistical analysis of the model fit as demonstrated in the [`statsmodels` documentation](https://www.statsmodels.org/stable/regression.html)\n",
    "    \n"
   ]
  },
  {
   "cell_type": "code",
   "execution_count": null,
   "id": "aea4a024",
   "metadata": {},
   "outputs": [],
   "source": []
  },
  {
   "cell_type": "code",
   "execution_count": null,
   "id": "1ec774e0",
   "metadata": {},
   "outputs": [],
   "source": []
  },
  {
   "cell_type": "code",
   "execution_count": 37,
   "id": "36b321f9",
   "metadata": {},
   "outputs": [],
   "source": [
    "# Q15: your answer will be tested!\n",
    "\n",
    "p_value = None # Provide 3 digits of accuracy as given by the `.summary()` method\n",
    "MCA = None # Assign either 'A', 'B', 'C', 'D', or 'E' to `Q15` instead of `None`\n",
    "Q15 = (p_value, MCA)\n",
    "\n",
    "# E.g., your final answer will be a tuple like Q15 = (0.123,'A')"
   ]
  },
  {
   "cell_type": "markdown",
   "id": "58a95274",
   "metadata": {},
   "source": [
    "### Q16: Report the coefficient of determination $R^2$ for your model fit in Q14\n",
    "\n",
    "#### Provde 3 digits of accuracy in your answer as given by the `.summary()` method\n",
    "\n",
    "- *$R^2$ is the \"proportion of variance explained by the model\"*\n",
    "\n",
    "> - Hint: A linear model's $R^2 = r^2_{y\\hat y}$ where $r_{y\\hat y}$ is the correlation between the $y_i$'s the predicted $\\hat y_i$'s of the model, but this is also `.summary()` method available for OLS fit results in `statsmodels` as demonstrated in the [`statsmodels` documentation](https://www.statsmodels.org/stable/regression.html)"
   ]
  },
  {
   "cell_type": "code",
   "execution_count": null,
   "id": "b13032cd",
   "metadata": {},
   "outputs": [],
   "source": []
  },
  {
   "cell_type": "code",
   "execution_count": 38,
   "id": "e2aeb467",
   "metadata": {},
   "outputs": [],
   "source": [
    "# Q16: your answer will be tested!\n",
    "Q16 = None # Provde 3 digits of accuracy as given by the `.summary()` method\n",
    "# E.g., Q16 = 0.123"
   ]
  },
  {
   "cell_type": "markdown",
   "id": "e1bb9663",
   "metadata": {},
   "source": [
    "# Introducing Categorical Variables\n",
    "\n",
    "In Q1 we created a plot to examine the assocation between weekly gross overall profit and average ticket price. One way to further study this relationship is to additionally consider other variables that might help us understand why the visualized data association looks the way it does.\n",
    "\n",
    "The two plots below show associations between the same data, but restricted to either when the show is not Hamilton or is Hamilton respectively. Titles are added for clarity on our choice."
   ]
  },
  {
   "cell_type": "code",
   "execution_count": 39,
   "id": "719fc183",
   "metadata": {},
   "outputs": [
    {
     "data": {
      "application/vnd.plotly.v1+json": {
       "config": {
        "plotlyServerURL": "https://plot.ly"
       },
       "data": [
        {
         "hovertemplate": "weekly_gross_overall=%{x}<br>avg_ticket_price=%{y}<extra></extra>",
         "legendgroup": "",
         "marker": {
          "color": "#636efa",
          "symbol": "circle"
         },
         "mode": "markers",
         "name": "",
         "orientation": "v",
         "showlegend": false,
         "type": "scatter",
         "x": [
          2989271,
          2474396,
          2844860,
          4169643,
          3555363,
          3632735,
          3900725,
          3486170,
          3716807,
          3762479,
          4843514,
          3372851,
          2641531,
          3412369,
          4687880,
          4530629,
          5483530,
          5483530,
          5127230,
          4914884,
          4389338,
          4578666,
          4930680,
          4930680,
          5187489,
          4728239,
          4459187,
          4347058,
          5721093,
          4793418,
          5361096,
          5361096,
          4879414,
          4680848,
          4839669,
          5334220,
          5334220,
          4916012,
          4921525,
          4291088,
          4320520,
          5165736,
          5165736,
          5196181,
          5602443,
          5253580,
          4463690,
          4316742,
          5881538,
          5886217,
          5927284,
          5003761,
          4812736,
          6581462,
          3937174,
          5080076,
          5641108,
          5660336,
          5459285,
          5378515,
          7140907,
          5226277,
          6516614,
          7308827,
          7601481,
          7646253,
          5803939,
          5400010,
          6039052,
          6975001,
          6941557,
          7206949,
          6485066,
          5714995,
          6039750,
          5963353,
          7043122,
          6888545,
          9074371,
          4736180,
          7334268,
          7075097,
          6860879,
          6837483,
          9017015,
          10410923,
          9432531,
          9014415,
          7539803,
          6906418,
          6974942,
          12907168,
          7959911,
          8998582,
          10838449,
          9862643,
          8966558,
          8948701,
          8796924,
          11183748,
          7733492,
          8410568,
          8410568,
          10449550,
          9851864,
          10020843,
          10954864,
          9834085,
          9402211,
          9878869,
          12515482,
          12515482,
          12097716,
          11970948,
          10698707,
          9635755,
          10691521,
          12264568,
          11986747,
          10827895,
          11441628,
          11002191,
          11002191,
          10294571,
          10479258,
          9913133,
          8056958,
          13943811,
          12761152,
          10105010,
          10105010,
          12220782,
          12811794,
          12856184,
          13127814,
          13127814,
          12710139,
          11566274,
          9969695,
          9767015,
          9767015,
          12925080,
          11481640,
          15002509,
          15002509,
          13404260,
          13404260,
          14275973,
          14842180,
          14446692,
          15138273,
          15138273,
          13242697,
          13052260,
          13052260,
          12713023,
          12239024,
          10041728,
          11567124,
          11926604,
          13488202,
          13488202,
          11031612,
          14046708,
          13283331,
          13126817,
          9603452,
          7759768,
          7759768,
          12213251,
          12830717,
          11977514,
          11532023,
          12925410,
          14073268,
          8694576,
          13826695,
          13826695,
          14457580,
          11437907,
          12950709,
          12600850,
          12383712,
          14926364,
          13978276,
          13420512,
          14502518,
          13799938,
          13897761,
          14453666,
          12169174,
          16067032,
          18921770,
          13964707,
          15195053,
          16533782,
          14833890,
          14833890,
          10919377,
          11250841,
          12179708,
          11102212,
          11861307,
          11861307,
          22069511,
          14224487,
          16752667,
          17335937,
          17228122,
          17031449,
          15899226,
          17742411,
          15708687,
          14846427,
          13252548,
          13896214,
          18303578,
          18180857,
          18180857,
          20296779,
          17015901,
          15411367,
          13926868,
          20381607,
          20405253,
          17341690,
          17341690,
          14490554,
          22927788,
          21398055,
          20922895,
          18547129,
          18547129,
          16323215,
          16323215,
          13958387,
          19041972,
          19041972,
          19041972,
          18736549,
          20770363,
          18139680,
          20412791,
          19305800,
          19305800,
          18725752,
          13119538,
          15646164,
          17964427,
          17209276,
          17209276,
          17209276,
          15656658,
          17125792,
          17125792,
          12684919,
          16940158,
          21432403,
          21303553,
          18101242,
          19514195,
          20413145,
          20084193,
          19325547,
          17853840,
          15811626,
          20654738,
          24334031,
          28089915,
          15774093,
          20836881,
          20739849,
          22133464,
          22321138,
          22321138,
          20704716,
          20911153,
          22656843,
          23445874,
          14896892,
          12343580,
          22037020,
          23884809,
          23029213,
          21841232,
          21337518,
          16009583,
          28086477,
          19345315,
          18585146,
          25244974,
          23877257,
          22394733,
          20614959,
          20083786,
          15048037,
          28531069,
          23143560,
          24616128,
          20604712,
          24614028,
          27539205,
          38783854,
          16714699,
          17841891,
          29244150,
          28348062,
          25117617,
          25634843,
          27038225,
          22786507,
          22786507,
          22905607,
          25993467,
          27591483,
          30085953,
          40993951,
          18766305,
          22494434,
          18260267,
          27722511,
          26350323,
          21736748,
          21392376,
          21730051,
          26640595,
          26640595,
          28476232,
          26940627,
          33851356,
          23951914.29,
          23951914.29,
          31485172.45,
          26894099.17,
          28842985.58,
          28706805.95,
          28477729.82,
          28923675.96,
          27125138.45,
          25496118,
          25496118,
          24062535.05,
          24062535.05,
          23009994.04,
          21495765.02,
          25903635.94,
          35280351.26,
          29567891.31,
          25872048.71,
          21686611.83,
          21686611.83,
          21078311.83,
          23822896.59,
          27675629.09,
          27675629.09,
          34447048.43,
          35186711.31,
          41151034.39,
          32862919.91,
          33603536.36,
          32793984.32,
          29082683.33,
          29082683.33,
          27899472.03,
          26613186.99,
          30239538.42,
          28628692.39,
          31147315.59,
          27685184.24,
          27685184.24,
          27685184.24,
          31954759.69,
          42596195.27,
          37729078.44,
          36994026.79,
          36994026.79,
          38813251.1,
          39431767.13,
          39653551.79,
          40285883.82,
          37330027.69,
          37230401.33,
          36501888.28,
          39865469.32,
          41012369.65,
          37530273.1,
          27159271.45,
          27159271.45,
          34204242.15,
          35291615.88,
          34725461.34,
          35439598.96,
          34493610.47,
          35987055.01,
          29894777.05,
          29894777.05,
          30098714.42,
          30098714.42,
          35212990.4,
          26109896.25
         ],
         "xaxis": "x",
         "y": [
          34.54,
          30.31,
          30.5,
          35,
          27.74,
          16.6,
          17.19,
          32.12,
          15.38,
          26.41,
          27.49,
          9.23,
          25.63,
          21.58,
          35.43,
          19.62,
          16.01,
          15.11,
          29.69,
          38.11,
          18.78,
          29.27,
          39.87,
          16.83,
          23.87,
          36.34,
          38.55,
          27.42,
          22.92,
          40.6,
          34.62,
          24.77,
          38.1,
          40.52,
          33.02,
          36.49,
          27.83,
          40.4,
          31.25,
          40.22,
          25.89,
          26.77,
          28.94,
          34.08,
          34.91,
          22.39,
          40.87,
          29.62,
          35.32,
          37.55,
          13.7,
          35.83,
          33.3,
          39.38,
          43.96,
          27.12,
          35.18,
          23.08,
          36.89,
          35.02,
          52.81,
          38.6,
          47.41,
          15.66,
          17.63,
          33.76,
          17.38,
          31.97,
          28.08,
          18.08,
          52.84,
          39.71,
          30.92,
          50.44,
          48.94,
          46.46,
          46.54,
          46.18,
          57.21,
          51.66,
          45.64,
          52.47,
          45.86,
          42.85,
          44.49,
          37.65,
          34.49,
          44.08,
          53.02,
          54.58,
          42.69,
          52.38,
          57.33,
          42.23,
          39.63,
          45.97,
          58.65,
          50.02,
          54.81,
          58.91,
          28.46,
          39.04,
          48.3,
          28.19,
          26.55,
          37.47,
          41.15,
          50.86,
          47.3,
          44.4,
          50.29,
          56.95,
          39.47,
          56.29,
          47.11,
          39.51,
          38.43,
          60.75,
          44.23,
          32.09,
          48.93,
          60.95,
          69.97,
          41.54,
          32.1,
          63.4,
          43.41,
          53.1,
          42.95,
          52.28,
          54.18,
          54.56,
          52.81,
          29.41,
          52.09,
          38.78,
          45.43,
          60.48,
          55.75,
          52.01,
          58.52,
          59.11,
          47.63,
          63.69,
          50.47,
          39.82,
          54.39,
          49.29,
          41.63,
          47.58,
          45.55,
          42.23,
          57.51,
          66.72,
          52.36,
          50.87,
          40.91,
          62.42,
          61.88,
          57.95,
          45.81,
          63.61,
          31.06,
          50.37,
          60.02,
          54.44,
          65.67,
          46.57,
          55.26,
          54.36,
          55.98,
          38.48,
          54.31,
          38.74,
          38.24,
          47.5,
          70.05,
          53.24,
          54.15,
          53.6,
          51.43,
          21.84,
          38.42,
          66.05,
          84.38,
          53.5,
          41.11,
          59.97,
          75.19,
          40.71,
          63.86,
          65.44,
          69.23,
          60.35,
          59.55,
          67.3,
          58.08,
          85.04,
          52.97,
          77.49,
          48.79,
          79.13,
          56.96,
          66.46,
          70.02,
          77.16,
          63.45,
          80.49,
          59.23,
          57.5,
          63.47,
          91.09,
          77.63,
          76.18,
          61.35,
          76.81,
          34.06,
          90.04,
          93.59,
          50.77,
          97.22,
          76.97,
          45.1,
          88.06,
          105.42,
          82.88,
          40.48,
          84.45,
          52.23,
          76.51,
          76.93,
          71.96,
          54.83,
          65.62,
          71.08,
          78.12,
          66.69,
          80.23,
          70.52,
          70.72,
          71.13,
          58.61,
          64.8,
          68.27,
          56.95,
          65.96,
          57.76,
          46.43,
          58.77,
          110.78,
          90.67,
          55.18,
          60.08,
          80.44,
          83.98,
          67.23,
          63.54,
          61.83,
          55.19,
          54.74,
          62.57,
          98.26,
          72.8,
          113.7,
          81.74,
          114.06,
          32.87,
          94.15,
          71.25,
          80.21,
          109.44,
          109.21,
          18.92,
          66.9,
          113,
          117.96,
          108.72,
          116.56,
          87.5,
          82.64,
          98.97,
          103.45,
          65.2,
          73.16,
          99.83,
          81.53,
          73.31,
          92.03,
          66.5,
          85.73,
          87.67,
          66.47,
          67.35,
          60.89,
          120.89,
          92.23,
          122.64,
          41.19,
          73.65,
          128.01,
          97.71,
          92.79,
          185.35,
          57.99,
          31.45,
          63.04,
          78.57,
          91.7,
          185.25,
          88.98,
          95.75,
          73.33,
          192.29,
          99.82,
          78.87,
          80.77,
          169.42,
          103.62,
          112.32,
          73.51,
          120.87,
          109.6,
          59.37,
          101.05,
          67.4,
          121.48,
          70.69,
          60.07,
          75.69,
          91.92,
          87,
          86.33,
          172.61,
          78.32,
          87.99,
          101.19,
          153.99,
          86.41,
          110.95,
          105.1,
          85.35,
          87.49,
          151.87,
          101.52,
          91.14,
          61.19,
          125.86,
          113.2,
          76.63,
          132.92,
          109.07,
          87.7,
          70.37,
          104.24,
          109.97,
          111.72,
          82.74,
          67.44,
          75.32,
          87.01,
          88.71,
          64.06,
          81.47,
          83.66,
          98.39,
          162.07,
          104.29,
          14.71,
          71.28,
          66,
          87.28,
          98.27,
          110.57,
          66.66,
          66.29,
          138.95,
          166.09,
          91.09,
          113.11,
          129.32,
          89.79,
          100.59,
          87.33,
          102.61,
          71.96,
          105.37,
          154.44,
          83.9,
          128.21,
          159.83,
          88.77,
          118.23,
          106.21,
          92.11,
          85.57,
          110.92,
          77.17,
          95.01,
          76.56,
          112.69
         ],
         "yaxis": "y"
        },
        {
         "hovertemplate": "<b>OLS trendline</b><br>avg_ticket_price = 2.52749e-06 * weekly_gross_overall + 23.4587<br>R<sup>2</sup>=0.561643<br><br>weekly_gross_overall=%{x}<br>avg_ticket_price=%{y} <b>(trend)</b><extra></extra>",
         "legendgroup": "",
         "marker": {
          "color": "#636efa",
          "symbol": "circle"
         },
         "mode": "lines",
         "name": "",
         "showlegend": false,
         "type": "scatter",
         "x": [
          2474396,
          2641531,
          2844860,
          2989271,
          3372851,
          3412369,
          3486170,
          3555363,
          3632735,
          3716807,
          3762479,
          3900725,
          3937174,
          4169643,
          4291088,
          4316742,
          4320520,
          4347058,
          4389338,
          4459187,
          4463690,
          4530629,
          4578666,
          4680848,
          4687880,
          4728239,
          4736180,
          4793418,
          4812736,
          4839669,
          4843514,
          4879414,
          4914884,
          4916012,
          4921525,
          4930680,
          4930680,
          5003761,
          5080076,
          5127230,
          5165736,
          5165736,
          5187489,
          5196181,
          5226277,
          5253580,
          5334220,
          5334220,
          5361096,
          5361096,
          5378515,
          5400010,
          5459285,
          5483530,
          5483530,
          5602443,
          5641108,
          5660336,
          5714995,
          5721093,
          5803939,
          5881538,
          5886217,
          5927284,
          5963353,
          6039052,
          6039750,
          6485066,
          6516614,
          6581462,
          6837483,
          6860879,
          6888545,
          6906418,
          6941557,
          6974942,
          6975001,
          7043122,
          7075097,
          7140907,
          7206949,
          7308827,
          7334268,
          7539803,
          7601481,
          7646253,
          7733492,
          7759768,
          7759768,
          7959911,
          8056958,
          8410568,
          8410568,
          8694576,
          8796924,
          8948701,
          8966558,
          8998582,
          9014415,
          9017015,
          9074371,
          9402211,
          9432531,
          9603452,
          9635755,
          9767015,
          9767015,
          9834085,
          9851864,
          9862643,
          9878869,
          9913133,
          9969695,
          10020843,
          10041728,
          10105010,
          10105010,
          10294571,
          10410923,
          10449550,
          10479258,
          10691521,
          10698707,
          10827895,
          10838449,
          10919377,
          10954864,
          11002191,
          11002191,
          11031612,
          11102212,
          11183748,
          11250841,
          11437907,
          11441628,
          11481640,
          11532023,
          11566274,
          11567124,
          11861307,
          11861307,
          11926604,
          11970948,
          11977514,
          11986747,
          12097716,
          12169174,
          12179708,
          12213251,
          12220782,
          12239024,
          12264568,
          12343580,
          12383712,
          12515482,
          12515482,
          12600850,
          12684919,
          12710139,
          12713023,
          12761152,
          12811794,
          12830717,
          12856184,
          12907168,
          12925080,
          12925410,
          12950709,
          13052260,
          13052260,
          13119538,
          13126817,
          13127814,
          13127814,
          13242697,
          13252548,
          13283331,
          13404260,
          13404260,
          13420512,
          13488202,
          13488202,
          13799938,
          13826695,
          13826695,
          13896214,
          13897761,
          13926868,
          13943811,
          13958387,
          13964707,
          13978276,
          14046708,
          14073268,
          14224487,
          14275973,
          14446692,
          14453666,
          14457580,
          14490554,
          14502518,
          14833890,
          14833890,
          14842180,
          14846427,
          14896892,
          14926364,
          15002509,
          15002509,
          15048037,
          15138273,
          15138273,
          15195053,
          15411367,
          15646164,
          15656658,
          15708687,
          15774093,
          15811626,
          15899226,
          16009583,
          16067032,
          16323215,
          16323215,
          16533782,
          16714699,
          16752667,
          16940158,
          17015901,
          17031449,
          17125792,
          17125792,
          17209276,
          17209276,
          17209276,
          17228122,
          17335937,
          17341690,
          17341690,
          17742411,
          17841891,
          17853840,
          17964427,
          18101242,
          18139680,
          18180857,
          18180857,
          18260267,
          18303578,
          18547129,
          18547129,
          18585146,
          18725752,
          18736549,
          18766305,
          18921770,
          19041972,
          19041972,
          19041972,
          19305800,
          19305800,
          19325547,
          19345315,
          19514195,
          20083786,
          20084193,
          20296779,
          20381607,
          20405253,
          20412791,
          20413145,
          20604712,
          20614959,
          20654738,
          20704716,
          20739849,
          20770363,
          20836881,
          20911153,
          20922895,
          21078311.83,
          21303553,
          21337518,
          21392376,
          21398055,
          21432403,
          21495765.02,
          21686611.83,
          21686611.83,
          21730051,
          21736748,
          21841232,
          22037020,
          22069511,
          22133464,
          22321138,
          22321138,
          22394733,
          22494434,
          22656843,
          22786507,
          22786507,
          22905607,
          22927788,
          23009994.04,
          23029213,
          23143560,
          23445874,
          23822896.59,
          23877257,
          23884809,
          23951914.29,
          23951914.29,
          24062535.05,
          24062535.05,
          24334031,
          24614028,
          24616128,
          25117617,
          25244974,
          25496118,
          25496118,
          25634843,
          25872048.71,
          25903635.94,
          25993467,
          26109896.25,
          26350323,
          26613186.99,
          26640595,
          26640595,
          26894099.17,
          26940627,
          27038225,
          27125138.45,
          27159271.45,
          27159271.45,
          27539205,
          27591483,
          27675629.09,
          27675629.09,
          27685184.24,
          27685184.24,
          27685184.24,
          27722511,
          27899472.03,
          28086477,
          28089915,
          28348062,
          28476232,
          28477729.82,
          28531069,
          28628692.39,
          28706805.95,
          28842985.58,
          28923675.96,
          29082683.33,
          29082683.33,
          29244150,
          29567891.31,
          29894777.05,
          29894777.05,
          30085953,
          30098714.42,
          30098714.42,
          30239538.42,
          31147315.59,
          31485172.45,
          31954759.69,
          32793984.32,
          32862919.91,
          33603536.36,
          33851356,
          34204242.15,
          34447048.43,
          34493610.47,
          34725461.34,
          35186711.31,
          35212990.4,
          35280351.26,
          35291615.88,
          35439598.96,
          35987055.01,
          36501888.28,
          36994026.79,
          36994026.79,
          37230401.33,
          37330027.69,
          37530273.1,
          37729078.44,
          38783854,
          38813251.1,
          39431767.13,
          39653551.79,
          39865469.32,
          40285883.82,
          40993951,
          41012369.65,
          41151034.39,
          42596195.27
         ],
         "xaxis": "x",
         "y": [
          29.71266498244235,
          30.13509672482201,
          30.64900837556131,
          31.014005475802364,
          31.983499404315175,
          32.08338068349284,
          32.269911841056256,
          32.444796332936924,
          32.64035315090682,
          32.8528441398998,
          32.968279581536585,
          33.31769471694819,
          33.40981913480199,
          33.99738179205067,
          34.304332598005715,
          34.369172780606654,
          34.378721631073105,
          34.445796113253806,
          34.55265831487412,
          34.72920083902213,
          34.74058211844257,
          34.90976965189249,
          35.0311826031516,
          35.289446403671164,
          35.30721970078077,
          35.409226597545064,
          35.42929738143974,
          35.573965751741156,
          35.62279176902832,
          35.69086460905292,
          35.7005828012296,
          35.7913196280548,
          35.88096963494867,
          35.88382064165226,
          35.897754684167225,
          35.92089383875175,
          35.92089383875175,
          36.10560520480224,
          36.298490467731625,
          36.41767164689919,
          36.514995108005905,
          36.514995108005905,
          36.56997555909027,
          36.59194448663246,
          36.668011771872884,
          36.737019782536066,
          36.94083643198409,
          36.94083643198409,
          37.00876520518058,
          37.00876520518058,
          37.05279152235239,
          37.107119881477956,
          37.256936745268035,
          37.318215696977695,
          37.318215696977695,
          37.61876690277895,
          37.716492234511435,
          37.765090777859484,
          37.903240756061116,
          37.91865337918034,
          38.12804566762492,
          38.32417622541903,
          38.33600234276486,
          38.439798701183534,
          38.530962673516626,
          38.72229100370718,
          38.72405519047943,
          39.84958613127304,
          39.92932332939787,
          40.093225884995654,
          40.74031594462279,
          40.799449058840125,
          40.86937454772442,
          40.91454834454466,
          41.00336175284022,
          41.087741946811235,
          41.08789106861576,
          41.260066093132735,
          41.340882528724265,
          41.50721652798238,
          41.67413690450577,
          41.93163234860877,
          41.99593417622047,
          42.51542146595632,
          42.6713118839208,
          42.78447258616642,
          43.00496813032808,
          43.07138041059713,
          43.07138041059713,
          43.577239483891724,
          43.82252463244062,
          44.71626973922776,
          44.71626973922776,
          45.434096611455374,
          45.6927799750182,
          46.0763945534318,
          46.12152791044065,
          46.20246819295458,
          46.242485913821525,
          46.24905738317376,
          46.39402399708425,
          47.22263573263782,
          47.299269175237825,
          47.73126998798963,
          47.812915439714814,
          48.144673542474585,
          48.144673542474585,
          48.314192176880326,
          48.3591283898086,
          48.38637218525008,
          48.427383208984494,
          48.513985065094204,
          48.65694485336404,
          48.78622082045193,
          48.83900741176792,
          48.99895192082509,
          48.99895192082509,
          49.47806511385606,
          49.77214342234535,
          49.86977270952576,
          49.94485932933978,
          50.48135155976867,
          50.49951409006299,
          50.82603523724666,
          50.852710347840336,
          51.05725491389353,
          51.14694788808701,
          51.26656632271532,
          51.26656632271532,
          51.34092755341237,
          51.519368221207884,
          51.72544950009422,
          51.89502626672885,
          52.36783337666987,
          52.37723816030822,
          52.478368018662806,
          52.605710457268216,
          52.69227945603116,
          52.6944278210117,
          53.43797188580049,
          53.43797188580049,
          53.603009283605644,
          53.71508822089636,
          53.73168370849899,
          53.755020007164084,
          54.03549284660602,
          54.21610209928778,
          54.242726660117214,
          54.32750619722579,
          54.34654071095338,
          54.39264715092399,
          54.457209309821565,
          54.6569112084598,
          54.758344365399886,
          55.09139148714797,
          55.09139148714797,
          55.30715810086423,
          55.51964150739258,
          55.58338476010933,
          55.5906740361139,
          55.71231951628855,
          55.84031657434097,
          55.88814423378423,
          55.95251177608945,
          56.08137323511051,
          56.12664560397104,
          56.12747967508113,
          56.19142259936667,
          56.44809155482421,
          56.44809155482421,
          56.61813590677813,
          56.6365334934762,
          56.63905339922396,
          56.63905339922396,
          56.92941882752923,
          56.954317113909596,
          57.03212078355194,
          57.337767405589396,
          57.337767405589396,
          57.378844144017336,
          57.549929821114766,
          57.549929821114766,
          58.33783888649583,
          58.40546688859505,
          58.40546688859505,
          58.58117534163296,
          58.58508536589754,
          58.6586529652959,
          58.701476198078616,
          58.73831686626257,
          58.75429059176495,
          58.78858607931902,
          58.96154715267005,
          59.028677239591424,
          59.4108814795825,
          59.54101173768618,
          59.97250199781909,
          59.990128700612374,
          60.00002128947571,
          60.08336268579142,
          60.11360155476459,
          60.951140378684364,
          60.951140378684364,
          60.97209325596517,
          60.98282749840324,
          61.11037719104206,
          61.184867323637945,
          61.37732291357123,
          61.37732291357123,
          61.492394396905425,
          61.720464823239645,
          61.720464823239645,
          61.86397560393978,
          62.41070668911711,
          63.00415333892425,
          63.03067680022519,
          63.1621794844282,
          63.32749237844851,
          63.42235659352456,
          63.6437645609309,
          63.92269057758684,
          64.06789224790107,
          64.71539176061862,
          64.71539176061862,
          65.24759737103929,
          65.70486295596226,
          65.8008266284107,
          66.27470792084199,
          66.46614746051388,
          66.5054448472403,
          66.74389566766285,
          66.74389566766285,
          66.95490049358693,
          66.95490049358693,
          66.95490049358693,
          67.00253353643785,
          67.27503467805788,
          67.28957531774383,
          67.28957531774383,
          68.3023929217054,
          68.55382744907506,
          68.58402840572504,
          68.86353574466983,
          69.20933404444949,
          69.30648563635776,
          69.4105600184798,
          69.4105600184798,
          69.61126785742658,
          69.72073589939387,
          70.33630818101238,
          70.33630818101238,
          70.43239570038324,
          70.7877757079761,
          70.8150649982054,
          70.8902729374536,
          71.28320889239454,
          71.58701803050158,
          71.58701803050158,
          71.58701803050158,
          72.25384019060293,
          72.25384019060293,
          72.30375050033322,
          72.35371388731596,
          72.78055609662626,
          74.220190635016,
          74.22121932271845,
          74.75852793183995,
          74.97292970192152,
          75.03269468819195,
          75.05174689433703,
          75.05264162516421,
          75.53682495954925,
          75.56272413126173,
          75.66326508486284,
          75.78958389074222,
          75.8783821341085,
          75.9555059094217,
          76.12362937033421,
          76.31135097484565,
          76.34102874143568,
          76.73384294726941,
          77.30313734939185,
          77.38898348652606,
          77.52763643488194,
          77.54199004044017,
          77.62880420555973,
          77.78895096422364,
          78.271314026873,
          78.271314026873,
          78.38110601700448,
          78.39803260556295,
          78.66211468394745,
          79.15696654607703,
          79.23908716558617,
          79.40072761923385,
          79.87507144200802,
          79.87507144200802,
          80.06108193699967,
          80.31307503926428,
          80.72356187235212,
          81.0512861039249,
          81.0512861039249,
          81.35230995002186,
          81.40837216606113,
          81.6161469631493,
          81.66472265800391,
          81.95373335262734,
          82.71782842407117,
          83.6707485761051,
          83.80814387160139,
          83.82723146258144,
          83.99683929204619,
          83.99683929204619,
          84.27643195899304,
          84.27643195899304,
          84.96263477233268,
          85.67032388934035,
          85.6756316145864,
          86.94313915073519,
          87.26503246700196,
          87.89979596661723,
          87.89979596661723,
          88.25042176888257,
          88.8499564048218,
          88.92979275630921,
          89.1568397015667,
          89.4511132585204,
          90.05878903509131,
          90.72317467128101,
          90.7924480934814,
          90.7924480934814,
          91.43317689495092,
          91.55077543682451,
          91.79745323137844,
          92.01712595175255,
          92.10339670690644,
          92.10339670690644,
          93.06367427602713,
          93.19580630479504,
          93.40848455538968,
          93.40848455538968,
          93.4326350843824,
          93.4326350843824,
          93.4326350843824,
          93.52697803028953,
          93.9742449476689,
          94.44689780500431,
          94.45558730947855,
          95.10805080904524,
          95.43199897322869,
          95.435784695623,
          95.57059884433214,
          95.81734081181177,
          96.01477191394045,
          96.3589643235346,
          96.56290830783875,
          96.96479756119865,
          96.96479756119865,
          97.37290266631932,
          98.19115501121159,
          99.01735486586361,
          99.01735486586361,
          99.50054982598319,
          99.53280416460669,
          99.53280416460669,
          99.88873516462986,
          102.18313126129168,
          103.03706049242052,
          104.22393670621449,
          106.34506706609616,
          106.51930095723607,
          108.39120030452142,
          109.0175615234229,
          109.9094771078675,
          110.52316711846446,
          110.6408521257098,
          111.22685246666975,
          112.39265632881511,
          112.45907641902272,
          112.62933019864992,
          112.65780139291711,
          113.03182688325191,
          114.41551559643457,
          115.71675061771148,
          116.96062490060513,
          116.96062490060513,
          117.55805876416684,
          117.80986321471127,
          118.3159811280737,
          118.81845928148608,
          121.48439207611486,
          121.55869289984363,
          123.12198487484976,
          123.68254298869113,
          124.2181620477673,
          125.28075474083978,
          127.07038619187787,
          127.1169391126412,
          127.46741260846687,
          131.12003969769006
         ],
         "yaxis": "y"
        }
       ],
       "layout": {
        "legend": {
         "tracegroupgap": 0
        },
        "margin": {
         "t": 60
        },
        "template": {
         "data": {
          "bar": [
           {
            "error_x": {
             "color": "#2a3f5f"
            },
            "error_y": {
             "color": "#2a3f5f"
            },
            "marker": {
             "line": {
              "color": "#E5ECF6",
              "width": 0.5
             },
             "pattern": {
              "fillmode": "overlay",
              "size": 10,
              "solidity": 0.2
             }
            },
            "type": "bar"
           }
          ],
          "barpolar": [
           {
            "marker": {
             "line": {
              "color": "#E5ECF6",
              "width": 0.5
             },
             "pattern": {
              "fillmode": "overlay",
              "size": 10,
              "solidity": 0.2
             }
            },
            "type": "barpolar"
           }
          ],
          "carpet": [
           {
            "aaxis": {
             "endlinecolor": "#2a3f5f",
             "gridcolor": "white",
             "linecolor": "white",
             "minorgridcolor": "white",
             "startlinecolor": "#2a3f5f"
            },
            "baxis": {
             "endlinecolor": "#2a3f5f",
             "gridcolor": "white",
             "linecolor": "white",
             "minorgridcolor": "white",
             "startlinecolor": "#2a3f5f"
            },
            "type": "carpet"
           }
          ],
          "choropleth": [
           {
            "colorbar": {
             "outlinewidth": 0,
             "ticks": ""
            },
            "type": "choropleth"
           }
          ],
          "contour": [
           {
            "colorbar": {
             "outlinewidth": 0,
             "ticks": ""
            },
            "colorscale": [
             [
              0,
              "#0d0887"
             ],
             [
              0.1111111111111111,
              "#46039f"
             ],
             [
              0.2222222222222222,
              "#7201a8"
             ],
             [
              0.3333333333333333,
              "#9c179e"
             ],
             [
              0.4444444444444444,
              "#bd3786"
             ],
             [
              0.5555555555555556,
              "#d8576b"
             ],
             [
              0.6666666666666666,
              "#ed7953"
             ],
             [
              0.7777777777777778,
              "#fb9f3a"
             ],
             [
              0.8888888888888888,
              "#fdca26"
             ],
             [
              1,
              "#f0f921"
             ]
            ],
            "type": "contour"
           }
          ],
          "contourcarpet": [
           {
            "colorbar": {
             "outlinewidth": 0,
             "ticks": ""
            },
            "type": "contourcarpet"
           }
          ],
          "heatmap": [
           {
            "colorbar": {
             "outlinewidth": 0,
             "ticks": ""
            },
            "colorscale": [
             [
              0,
              "#0d0887"
             ],
             [
              0.1111111111111111,
              "#46039f"
             ],
             [
              0.2222222222222222,
              "#7201a8"
             ],
             [
              0.3333333333333333,
              "#9c179e"
             ],
             [
              0.4444444444444444,
              "#bd3786"
             ],
             [
              0.5555555555555556,
              "#d8576b"
             ],
             [
              0.6666666666666666,
              "#ed7953"
             ],
             [
              0.7777777777777778,
              "#fb9f3a"
             ],
             [
              0.8888888888888888,
              "#fdca26"
             ],
             [
              1,
              "#f0f921"
             ]
            ],
            "type": "heatmap"
           }
          ],
          "heatmapgl": [
           {
            "colorbar": {
             "outlinewidth": 0,
             "ticks": ""
            },
            "colorscale": [
             [
              0,
              "#0d0887"
             ],
             [
              0.1111111111111111,
              "#46039f"
             ],
             [
              0.2222222222222222,
              "#7201a8"
             ],
             [
              0.3333333333333333,
              "#9c179e"
             ],
             [
              0.4444444444444444,
              "#bd3786"
             ],
             [
              0.5555555555555556,
              "#d8576b"
             ],
             [
              0.6666666666666666,
              "#ed7953"
             ],
             [
              0.7777777777777778,
              "#fb9f3a"
             ],
             [
              0.8888888888888888,
              "#fdca26"
             ],
             [
              1,
              "#f0f921"
             ]
            ],
            "type": "heatmapgl"
           }
          ],
          "histogram": [
           {
            "marker": {
             "pattern": {
              "fillmode": "overlay",
              "size": 10,
              "solidity": 0.2
             }
            },
            "type": "histogram"
           }
          ],
          "histogram2d": [
           {
            "colorbar": {
             "outlinewidth": 0,
             "ticks": ""
            },
            "colorscale": [
             [
              0,
              "#0d0887"
             ],
             [
              0.1111111111111111,
              "#46039f"
             ],
             [
              0.2222222222222222,
              "#7201a8"
             ],
             [
              0.3333333333333333,
              "#9c179e"
             ],
             [
              0.4444444444444444,
              "#bd3786"
             ],
             [
              0.5555555555555556,
              "#d8576b"
             ],
             [
              0.6666666666666666,
              "#ed7953"
             ],
             [
              0.7777777777777778,
              "#fb9f3a"
             ],
             [
              0.8888888888888888,
              "#fdca26"
             ],
             [
              1,
              "#f0f921"
             ]
            ],
            "type": "histogram2d"
           }
          ],
          "histogram2dcontour": [
           {
            "colorbar": {
             "outlinewidth": 0,
             "ticks": ""
            },
            "colorscale": [
             [
              0,
              "#0d0887"
             ],
             [
              0.1111111111111111,
              "#46039f"
             ],
             [
              0.2222222222222222,
              "#7201a8"
             ],
             [
              0.3333333333333333,
              "#9c179e"
             ],
             [
              0.4444444444444444,
              "#bd3786"
             ],
             [
              0.5555555555555556,
              "#d8576b"
             ],
             [
              0.6666666666666666,
              "#ed7953"
             ],
             [
              0.7777777777777778,
              "#fb9f3a"
             ],
             [
              0.8888888888888888,
              "#fdca26"
             ],
             [
              1,
              "#f0f921"
             ]
            ],
            "type": "histogram2dcontour"
           }
          ],
          "mesh3d": [
           {
            "colorbar": {
             "outlinewidth": 0,
             "ticks": ""
            },
            "type": "mesh3d"
           }
          ],
          "parcoords": [
           {
            "line": {
             "colorbar": {
              "outlinewidth": 0,
              "ticks": ""
             }
            },
            "type": "parcoords"
           }
          ],
          "pie": [
           {
            "automargin": true,
            "type": "pie"
           }
          ],
          "scatter": [
           {
            "fillpattern": {
             "fillmode": "overlay",
             "size": 10,
             "solidity": 0.2
            },
            "type": "scatter"
           }
          ],
          "scatter3d": [
           {
            "line": {
             "colorbar": {
              "outlinewidth": 0,
              "ticks": ""
             }
            },
            "marker": {
             "colorbar": {
              "outlinewidth": 0,
              "ticks": ""
             }
            },
            "type": "scatter3d"
           }
          ],
          "scattercarpet": [
           {
            "marker": {
             "colorbar": {
              "outlinewidth": 0,
              "ticks": ""
             }
            },
            "type": "scattercarpet"
           }
          ],
          "scattergeo": [
           {
            "marker": {
             "colorbar": {
              "outlinewidth": 0,
              "ticks": ""
             }
            },
            "type": "scattergeo"
           }
          ],
          "scattergl": [
           {
            "marker": {
             "colorbar": {
              "outlinewidth": 0,
              "ticks": ""
             }
            },
            "type": "scattergl"
           }
          ],
          "scattermapbox": [
           {
            "marker": {
             "colorbar": {
              "outlinewidth": 0,
              "ticks": ""
             }
            },
            "type": "scattermapbox"
           }
          ],
          "scatterpolar": [
           {
            "marker": {
             "colorbar": {
              "outlinewidth": 0,
              "ticks": ""
             }
            },
            "type": "scatterpolar"
           }
          ],
          "scatterpolargl": [
           {
            "marker": {
             "colorbar": {
              "outlinewidth": 0,
              "ticks": ""
             }
            },
            "type": "scatterpolargl"
           }
          ],
          "scatterternary": [
           {
            "marker": {
             "colorbar": {
              "outlinewidth": 0,
              "ticks": ""
             }
            },
            "type": "scatterternary"
           }
          ],
          "surface": [
           {
            "colorbar": {
             "outlinewidth": 0,
             "ticks": ""
            },
            "colorscale": [
             [
              0,
              "#0d0887"
             ],
             [
              0.1111111111111111,
              "#46039f"
             ],
             [
              0.2222222222222222,
              "#7201a8"
             ],
             [
              0.3333333333333333,
              "#9c179e"
             ],
             [
              0.4444444444444444,
              "#bd3786"
             ],
             [
              0.5555555555555556,
              "#d8576b"
             ],
             [
              0.6666666666666666,
              "#ed7953"
             ],
             [
              0.7777777777777778,
              "#fb9f3a"
             ],
             [
              0.8888888888888888,
              "#fdca26"
             ],
             [
              1,
              "#f0f921"
             ]
            ],
            "type": "surface"
           }
          ],
          "table": [
           {
            "cells": {
             "fill": {
              "color": "#EBF0F8"
             },
             "line": {
              "color": "white"
             }
            },
            "header": {
             "fill": {
              "color": "#C8D4E3"
             },
             "line": {
              "color": "white"
             }
            },
            "type": "table"
           }
          ]
         },
         "layout": {
          "annotationdefaults": {
           "arrowcolor": "#2a3f5f",
           "arrowhead": 0,
           "arrowwidth": 1
          },
          "autotypenumbers": "strict",
          "coloraxis": {
           "colorbar": {
            "outlinewidth": 0,
            "ticks": ""
           }
          },
          "colorscale": {
           "diverging": [
            [
             0,
             "#8e0152"
            ],
            [
             0.1,
             "#c51b7d"
            ],
            [
             0.2,
             "#de77ae"
            ],
            [
             0.3,
             "#f1b6da"
            ],
            [
             0.4,
             "#fde0ef"
            ],
            [
             0.5,
             "#f7f7f7"
            ],
            [
             0.6,
             "#e6f5d0"
            ],
            [
             0.7,
             "#b8e186"
            ],
            [
             0.8,
             "#7fbc41"
            ],
            [
             0.9,
             "#4d9221"
            ],
            [
             1,
             "#276419"
            ]
           ],
           "sequential": [
            [
             0,
             "#0d0887"
            ],
            [
             0.1111111111111111,
             "#46039f"
            ],
            [
             0.2222222222222222,
             "#7201a8"
            ],
            [
             0.3333333333333333,
             "#9c179e"
            ],
            [
             0.4444444444444444,
             "#bd3786"
            ],
            [
             0.5555555555555556,
             "#d8576b"
            ],
            [
             0.6666666666666666,
             "#ed7953"
            ],
            [
             0.7777777777777778,
             "#fb9f3a"
            ],
            [
             0.8888888888888888,
             "#fdca26"
            ],
            [
             1,
             "#f0f921"
            ]
           ],
           "sequentialminus": [
            [
             0,
             "#0d0887"
            ],
            [
             0.1111111111111111,
             "#46039f"
            ],
            [
             0.2222222222222222,
             "#7201a8"
            ],
            [
             0.3333333333333333,
             "#9c179e"
            ],
            [
             0.4444444444444444,
             "#bd3786"
            ],
            [
             0.5555555555555556,
             "#d8576b"
            ],
            [
             0.6666666666666666,
             "#ed7953"
            ],
            [
             0.7777777777777778,
             "#fb9f3a"
            ],
            [
             0.8888888888888888,
             "#fdca26"
            ],
            [
             1,
             "#f0f921"
            ]
           ]
          },
          "colorway": [
           "#636efa",
           "#EF553B",
           "#00cc96",
           "#ab63fa",
           "#FFA15A",
           "#19d3f3",
           "#FF6692",
           "#B6E880",
           "#FF97FF",
           "#FECB52"
          ],
          "font": {
           "color": "#2a3f5f"
          },
          "geo": {
           "bgcolor": "white",
           "lakecolor": "white",
           "landcolor": "#E5ECF6",
           "showlakes": true,
           "showland": true,
           "subunitcolor": "white"
          },
          "hoverlabel": {
           "align": "left"
          },
          "hovermode": "closest",
          "mapbox": {
           "style": "light"
          },
          "paper_bgcolor": "white",
          "plot_bgcolor": "#E5ECF6",
          "polar": {
           "angularaxis": {
            "gridcolor": "white",
            "linecolor": "white",
            "ticks": ""
           },
           "bgcolor": "#E5ECF6",
           "radialaxis": {
            "gridcolor": "white",
            "linecolor": "white",
            "ticks": ""
           }
          },
          "scene": {
           "xaxis": {
            "backgroundcolor": "#E5ECF6",
            "gridcolor": "white",
            "gridwidth": 2,
            "linecolor": "white",
            "showbackground": true,
            "ticks": "",
            "zerolinecolor": "white"
           },
           "yaxis": {
            "backgroundcolor": "#E5ECF6",
            "gridcolor": "white",
            "gridwidth": 2,
            "linecolor": "white",
            "showbackground": true,
            "ticks": "",
            "zerolinecolor": "white"
           },
           "zaxis": {
            "backgroundcolor": "#E5ECF6",
            "gridcolor": "white",
            "gridwidth": 2,
            "linecolor": "white",
            "showbackground": true,
            "ticks": "",
            "zerolinecolor": "white"
           }
          },
          "shapedefaults": {
           "line": {
            "color": "#2a3f5f"
           }
          },
          "ternary": {
           "aaxis": {
            "gridcolor": "white",
            "linecolor": "white",
            "ticks": ""
           },
           "baxis": {
            "gridcolor": "white",
            "linecolor": "white",
            "ticks": ""
           },
           "bgcolor": "#E5ECF6",
           "caxis": {
            "gridcolor": "white",
            "linecolor": "white",
            "ticks": ""
           }
          },
          "title": {
           "x": 0.05
          },
          "xaxis": {
           "automargin": true,
           "gridcolor": "white",
           "linecolor": "white",
           "ticks": "",
           "title": {
            "standoff": 15
           },
           "zerolinecolor": "white",
           "zerolinewidth": 2
          },
          "yaxis": {
           "automargin": true,
           "gridcolor": "white",
           "linecolor": "white",
           "ticks": "",
           "title": {
            "standoff": 15
           },
           "zerolinecolor": "white",
           "zerolinewidth": 2
          }
         }
        },
        "title": {
         "text": "Weekly Gross Overall Income vs. Average Ticket Price - Show is not Hamilton"
        },
        "xaxis": {
         "anchor": "y",
         "domain": [
          0,
          1
         ],
         "title": {
          "text": "weekly_gross_overall"
         }
        },
        "yaxis": {
         "anchor": "x",
         "domain": [
          0,
          1
         ],
         "title": {
          "text": "avg_ticket_price"
         }
        }
       }
      },
      "text/html": [
       "<div>                            <div id=\"04f41627-86ca-4953-8cdf-87be480000e4\" class=\"plotly-graph-div\" style=\"height:525px; width:100%;\"></div>            <script type=\"text/javascript\">                require([\"plotly\"], function(Plotly) {                    window.PLOTLYENV=window.PLOTLYENV || {};                                    if (document.getElementById(\"04f41627-86ca-4953-8cdf-87be480000e4\")) {                    Plotly.newPlot(                        \"04f41627-86ca-4953-8cdf-87be480000e4\",                        [{\"hovertemplate\":\"weekly_gross_overall=%{x}<br>avg_ticket_price=%{y}<extra></extra>\",\"legendgroup\":\"\",\"marker\":{\"color\":\"#636efa\",\"symbol\":\"circle\"},\"mode\":\"markers\",\"name\":\"\",\"orientation\":\"v\",\"showlegend\":false,\"x\":[2989271.0,2474396.0,2844860.0,4169643.0,3555363.0,3632735.0,3900725.0,3486170.0,3716807.0,3762479.0,4843514.0,3372851.0,2641531.0,3412369.0,4687880.0,4530629.0,5483530.0,5483530.0,5127230.0,4914884.0,4389338.0,4578666.0,4930680.0,4930680.0,5187489.0,4728239.0,4459187.0,4347058.0,5721093.0,4793418.0,5361096.0,5361096.0,4879414.0,4680848.0,4839669.0,5334220.0,5334220.0,4916012.0,4921525.0,4291088.0,4320520.0,5165736.0,5165736.0,5196181.0,5602443.0,5253580.0,4463690.0,4316742.0,5881538.0,5886217.0,5927284.0,5003761.0,4812736.0,6581462.0,3937174.0,5080076.0,5641108.0,5660336.0,5459285.0,5378515.0,7140907.0,5226277.0,6516614.0,7308827.0,7601481.0,7646253.0,5803939.0,5400010.0,6039052.0,6975001.0,6941557.0,7206949.0,6485066.0,5714995.0,6039750.0,5963353.0,7043122.0,6888545.0,9074371.0,4736180.0,7334268.0,7075097.0,6860879.0,6837483.0,9017015.0,10410923.0,9432531.0,9014415.0,7539803.0,6906418.0,6974942.0,12907168.0,7959911.0,8998582.0,10838449.0,9862643.0,8966558.0,8948701.0,8796924.0,11183748.0,7733492.0,8410568.0,8410568.0,10449550.0,9851864.0,10020843.0,10954864.0,9834085.0,9402211.0,9878869.0,12515482.0,12515482.0,12097716.0,11970948.0,10698707.0,9635755.0,10691521.0,12264568.0,11986747.0,10827895.0,11441628.0,11002191.0,11002191.0,10294571.0,10479258.0,9913133.0,8056958.0,13943811.0,12761152.0,10105010.0,10105010.0,12220782.0,12811794.0,12856184.0,13127814.0,13127814.0,12710139.0,11566274.0,9969695.0,9767015.0,9767015.0,12925080.0,11481640.0,15002509.0,15002509.0,13404260.0,13404260.0,14275973.0,14842180.0,14446692.0,15138273.0,15138273.0,13242697.0,13052260.0,13052260.0,12713023.0,12239024.0,10041728.0,11567124.0,11926604.0,13488202.0,13488202.0,11031612.0,14046708.0,13283331.0,13126817.0,9603452.0,7759768.0,7759768.0,12213251.0,12830717.0,11977514.0,11532023.0,12925410.0,14073268.0,8694576.0,13826695.0,13826695.0,14457580.0,11437907.0,12950709.0,12600850.0,12383712.0,14926364.0,13978276.0,13420512.0,14502518.0,13799938.0,13897761.0,14453666.0,12169174.0,16067032.0,18921770.0,13964707.0,15195053.0,16533782.0,14833890.0,14833890.0,10919377.0,11250841.0,12179708.0,11102212.0,11861307.0,11861307.0,22069511.0,14224487.0,16752667.0,17335937.0,17228122.0,17031449.0,15899226.0,17742411.0,15708687.0,14846427.0,13252548.0,13896214.0,18303578.0,18180857.0,18180857.0,20296779.0,17015901.0,15411367.0,13926868.0,20381607.0,20405253.0,17341690.0,17341690.0,14490554.0,22927788.0,21398055.0,20922895.0,18547129.0,18547129.0,16323215.0,16323215.0,13958387.0,19041972.0,19041972.0,19041972.0,18736549.0,20770363.0,18139680.0,20412791.0,19305800.0,19305800.0,18725752.0,13119538.0,15646164.0,17964427.0,17209276.0,17209276.0,17209276.0,15656658.0,17125792.0,17125792.0,12684919.0,16940158.0,21432403.0,21303553.0,18101242.0,19514195.0,20413145.0,20084193.0,19325547.0,17853840.0,15811626.0,20654738.0,24334031.0,28089915.0,15774093.0,20836881.0,20739849.0,22133464.0,22321138.0,22321138.0,20704716.0,20911153.0,22656843.0,23445874.0,14896892.0,12343580.0,22037020.0,23884809.0,23029213.0,21841232.0,21337518.0,16009583.0,28086477.0,19345315.0,18585146.0,25244974.0,23877257.0,22394733.0,20614959.0,20083786.0,15048037.0,28531069.0,23143560.0,24616128.0,20604712.0,24614028.0,27539205.0,38783854.0,16714699.0,17841891.0,29244150.0,28348062.0,25117617.0,25634843.0,27038225.0,22786507.0,22786507.0,22905607.0,25993467.0,27591483.0,30085953.0,40993951.0,18766305.0,22494434.0,18260267.0,27722511.0,26350323.0,21736748.0,21392376.0,21730051.0,26640595.0,26640595.0,28476232.0,26940627.0,33851356.0,23951914.29,23951914.29,31485172.45,26894099.17,28842985.58,28706805.95,28477729.82,28923675.96,27125138.45,25496118.0,25496118.0,24062535.05,24062535.05,23009994.04,21495765.02,25903635.94,35280351.26,29567891.31,25872048.71,21686611.83,21686611.83,21078311.83,23822896.59,27675629.09,27675629.09,34447048.43,35186711.31,41151034.39,32862919.91,33603536.36,32793984.32,29082683.33,29082683.33,27899472.03,26613186.99,30239538.42,28628692.39,31147315.59,27685184.24,27685184.24,27685184.24,31954759.69,42596195.27,37729078.44,36994026.79,36994026.79,38813251.1,39431767.13,39653551.79,40285883.82,37330027.69,37230401.33,36501888.28,39865469.32,41012369.65,37530273.1,27159271.45,27159271.45,34204242.15,35291615.88,34725461.34,35439598.96,34493610.47,35987055.01,29894777.05,29894777.05,30098714.42,30098714.42,35212990.4,26109896.25],\"xaxis\":\"x\",\"y\":[34.54,30.31,30.5,35.0,27.74,16.6,17.19,32.12,15.38,26.41,27.49,9.23,25.63,21.58,35.43,19.62,16.01,15.11,29.69,38.11,18.78,29.27,39.87,16.83,23.87,36.34,38.55,27.42,22.92,40.6,34.62,24.77,38.1,40.52,33.02,36.49,27.83,40.4,31.25,40.22,25.89,26.77,28.94,34.08,34.91,22.39,40.87,29.62,35.32,37.55,13.7,35.83,33.3,39.38,43.96,27.12,35.18,23.08,36.89,35.02,52.81,38.6,47.41,15.66,17.63,33.76,17.38,31.97,28.08,18.08,52.84,39.71,30.92,50.44,48.94,46.46,46.54,46.18,57.21,51.66,45.64,52.47,45.86,42.85,44.49,37.65,34.49,44.08,53.02,54.58,42.69,52.38,57.33,42.23,39.63,45.97,58.65,50.02,54.81,58.91,28.46,39.04,48.3,28.19,26.55,37.47,41.15,50.86,47.3,44.4,50.29,56.95,39.47,56.29,47.11,39.51,38.43,60.75,44.23,32.09,48.93,60.95,69.97,41.54,32.1,63.4,43.41,53.1,42.95,52.28,54.18,54.56,52.81,29.41,52.09,38.78,45.43,60.48,55.75,52.01,58.52,59.11,47.63,63.69,50.47,39.82,54.39,49.29,41.63,47.58,45.55,42.23,57.51,66.72,52.36,50.87,40.91,62.42,61.88,57.95,45.81,63.61,31.06,50.37,60.02,54.44,65.67,46.57,55.26,54.36,55.98,38.48,54.31,38.74,38.24,47.5,70.05,53.24,54.15,53.6,51.43,21.84,38.42,66.05,84.38,53.5,41.11,59.97,75.19,40.71,63.86,65.44,69.23,60.35,59.55,67.3,58.08,85.04,52.97,77.49,48.79,79.13,56.96,66.46,70.02,77.16,63.45,80.49,59.23,57.5,63.47,91.09,77.63,76.18,61.35,76.81,34.06,90.04,93.59,50.77,97.22,76.97,45.1,88.06,105.42,82.88,40.48,84.45,52.23,76.51,76.93,71.96,54.83,65.62,71.08,78.12,66.69,80.23,70.52,70.72,71.13,58.61,64.8,68.27,56.95,65.96,57.76,46.43,58.77,110.78,90.67,55.18,60.08,80.44,83.98,67.23,63.54,61.83,55.19,54.74,62.57,98.26,72.8,113.7,81.74,114.06,32.87,94.15,71.25,80.21,109.44,109.21,18.92,66.9,113.0,117.96,108.72,116.56,87.5,82.64,98.97,103.45,65.2,73.16,99.83,81.53,73.31,92.03,66.5,85.73,87.67,66.47,67.35,60.89,120.89,92.23,122.64,41.19,73.65,128.01,97.71,92.79,185.35,57.99,31.45,63.04,78.57,91.7,185.25,88.98,95.75,73.33,192.29,99.82,78.87,80.77,169.42,103.62,112.32,73.51,120.87,109.6,59.37,101.05,67.4,121.48,70.69,60.07,75.69,91.92,87.0,86.33,172.61,78.32,87.99,101.19,153.99,86.41,110.95,105.1,85.35,87.49,151.87,101.52,91.14,61.19,125.86,113.2,76.63,132.92,109.07,87.7,70.37,104.24,109.97,111.72,82.74,67.44,75.32,87.01,88.71,64.06,81.47,83.66,98.39,162.07,104.29,14.71,71.28,66.0,87.28,98.27,110.57,66.66,66.29,138.95,166.09,91.09,113.11,129.32,89.79,100.59,87.33,102.61,71.96,105.37,154.44,83.9,128.21,159.83,88.77,118.23,106.21,92.11,85.57,110.92,77.17,95.01,76.56,112.69],\"yaxis\":\"y\",\"type\":\"scatter\"},{\"hovertemplate\":\"<b>OLS trendline</b><br>avg_ticket_price = 2.52749e-06 * weekly_gross_overall + 23.4587<br>R<sup>2</sup>=0.561643<br><br>weekly_gross_overall=%{x}<br>avg_ticket_price=%{y} <b>(trend)</b><extra></extra>\",\"legendgroup\":\"\",\"marker\":{\"color\":\"#636efa\",\"symbol\":\"circle\"},\"mode\":\"lines\",\"name\":\"\",\"showlegend\":false,\"x\":[2474396.0,2641531.0,2844860.0,2989271.0,3372851.0,3412369.0,3486170.0,3555363.0,3632735.0,3716807.0,3762479.0,3900725.0,3937174.0,4169643.0,4291088.0,4316742.0,4320520.0,4347058.0,4389338.0,4459187.0,4463690.0,4530629.0,4578666.0,4680848.0,4687880.0,4728239.0,4736180.0,4793418.0,4812736.0,4839669.0,4843514.0,4879414.0,4914884.0,4916012.0,4921525.0,4930680.0,4930680.0,5003761.0,5080076.0,5127230.0,5165736.0,5165736.0,5187489.0,5196181.0,5226277.0,5253580.0,5334220.0,5334220.0,5361096.0,5361096.0,5378515.0,5400010.0,5459285.0,5483530.0,5483530.0,5602443.0,5641108.0,5660336.0,5714995.0,5721093.0,5803939.0,5881538.0,5886217.0,5927284.0,5963353.0,6039052.0,6039750.0,6485066.0,6516614.0,6581462.0,6837483.0,6860879.0,6888545.0,6906418.0,6941557.0,6974942.0,6975001.0,7043122.0,7075097.0,7140907.0,7206949.0,7308827.0,7334268.0,7539803.0,7601481.0,7646253.0,7733492.0,7759768.0,7759768.0,7959911.0,8056958.0,8410568.0,8410568.0,8694576.0,8796924.0,8948701.0,8966558.0,8998582.0,9014415.0,9017015.0,9074371.0,9402211.0,9432531.0,9603452.0,9635755.0,9767015.0,9767015.0,9834085.0,9851864.0,9862643.0,9878869.0,9913133.0,9969695.0,10020843.0,10041728.0,10105010.0,10105010.0,10294571.0,10410923.0,10449550.0,10479258.0,10691521.0,10698707.0,10827895.0,10838449.0,10919377.0,10954864.0,11002191.0,11002191.0,11031612.0,11102212.0,11183748.0,11250841.0,11437907.0,11441628.0,11481640.0,11532023.0,11566274.0,11567124.0,11861307.0,11861307.0,11926604.0,11970948.0,11977514.0,11986747.0,12097716.0,12169174.0,12179708.0,12213251.0,12220782.0,12239024.0,12264568.0,12343580.0,12383712.0,12515482.0,12515482.0,12600850.0,12684919.0,12710139.0,12713023.0,12761152.0,12811794.0,12830717.0,12856184.0,12907168.0,12925080.0,12925410.0,12950709.0,13052260.0,13052260.0,13119538.0,13126817.0,13127814.0,13127814.0,13242697.0,13252548.0,13283331.0,13404260.0,13404260.0,13420512.0,13488202.0,13488202.0,13799938.0,13826695.0,13826695.0,13896214.0,13897761.0,13926868.0,13943811.0,13958387.0,13964707.0,13978276.0,14046708.0,14073268.0,14224487.0,14275973.0,14446692.0,14453666.0,14457580.0,14490554.0,14502518.0,14833890.0,14833890.0,14842180.0,14846427.0,14896892.0,14926364.0,15002509.0,15002509.0,15048037.0,15138273.0,15138273.0,15195053.0,15411367.0,15646164.0,15656658.0,15708687.0,15774093.0,15811626.0,15899226.0,16009583.0,16067032.0,16323215.0,16323215.0,16533782.0,16714699.0,16752667.0,16940158.0,17015901.0,17031449.0,17125792.0,17125792.0,17209276.0,17209276.0,17209276.0,17228122.0,17335937.0,17341690.0,17341690.0,17742411.0,17841891.0,17853840.0,17964427.0,18101242.0,18139680.0,18180857.0,18180857.0,18260267.0,18303578.0,18547129.0,18547129.0,18585146.0,18725752.0,18736549.0,18766305.0,18921770.0,19041972.0,19041972.0,19041972.0,19305800.0,19305800.0,19325547.0,19345315.0,19514195.0,20083786.0,20084193.0,20296779.0,20381607.0,20405253.0,20412791.0,20413145.0,20604712.0,20614959.0,20654738.0,20704716.0,20739849.0,20770363.0,20836881.0,20911153.0,20922895.0,21078311.83,21303553.0,21337518.0,21392376.0,21398055.0,21432403.0,21495765.02,21686611.83,21686611.83,21730051.0,21736748.0,21841232.0,22037020.0,22069511.0,22133464.0,22321138.0,22321138.0,22394733.0,22494434.0,22656843.0,22786507.0,22786507.0,22905607.0,22927788.0,23009994.04,23029213.0,23143560.0,23445874.0,23822896.59,23877257.0,23884809.0,23951914.29,23951914.29,24062535.05,24062535.05,24334031.0,24614028.0,24616128.0,25117617.0,25244974.0,25496118.0,25496118.0,25634843.0,25872048.71,25903635.94,25993467.0,26109896.25,26350323.0,26613186.99,26640595.0,26640595.0,26894099.17,26940627.0,27038225.0,27125138.45,27159271.45,27159271.45,27539205.0,27591483.0,27675629.09,27675629.09,27685184.24,27685184.24,27685184.24,27722511.0,27899472.03,28086477.0,28089915.0,28348062.0,28476232.0,28477729.82,28531069.0,28628692.39,28706805.95,28842985.58,28923675.96,29082683.33,29082683.33,29244150.0,29567891.31,29894777.05,29894777.05,30085953.0,30098714.42,30098714.42,30239538.42,31147315.59,31485172.45,31954759.69,32793984.32,32862919.91,33603536.36,33851356.0,34204242.15,34447048.43,34493610.47,34725461.34,35186711.31,35212990.4,35280351.26,35291615.88,35439598.96,35987055.01,36501888.28,36994026.79,36994026.79,37230401.33,37330027.69,37530273.1,37729078.44,38783854.0,38813251.1,39431767.13,39653551.79,39865469.32,40285883.82,40993951.0,41012369.65,41151034.39,42596195.27],\"xaxis\":\"x\",\"y\":[29.71266498244235,30.13509672482201,30.64900837556131,31.014005475802364,31.983499404315175,32.08338068349284,32.269911841056256,32.444796332936924,32.64035315090682,32.8528441398998,32.968279581536585,33.31769471694819,33.40981913480199,33.99738179205067,34.304332598005715,34.369172780606654,34.378721631073105,34.445796113253806,34.55265831487412,34.72920083902213,34.74058211844257,34.90976965189249,35.0311826031516,35.289446403671164,35.30721970078077,35.409226597545064,35.42929738143974,35.573965751741156,35.62279176902832,35.69086460905292,35.7005828012296,35.7913196280548,35.88096963494867,35.88382064165226,35.897754684167225,35.92089383875175,35.92089383875175,36.10560520480224,36.298490467731625,36.41767164689919,36.514995108005905,36.514995108005905,36.56997555909027,36.59194448663246,36.668011771872884,36.737019782536066,36.94083643198409,36.94083643198409,37.00876520518058,37.00876520518058,37.05279152235239,37.107119881477956,37.256936745268035,37.318215696977695,37.318215696977695,37.61876690277895,37.716492234511435,37.765090777859484,37.903240756061116,37.91865337918034,38.12804566762492,38.32417622541903,38.33600234276486,38.439798701183534,38.530962673516626,38.72229100370718,38.72405519047943,39.84958613127304,39.92932332939787,40.093225884995654,40.74031594462279,40.799449058840125,40.86937454772442,40.91454834454466,41.00336175284022,41.087741946811235,41.08789106861576,41.260066093132735,41.340882528724265,41.50721652798238,41.67413690450577,41.93163234860877,41.99593417622047,42.51542146595632,42.6713118839208,42.78447258616642,43.00496813032808,43.07138041059713,43.07138041059713,43.577239483891724,43.82252463244062,44.71626973922776,44.71626973922776,45.434096611455374,45.6927799750182,46.0763945534318,46.12152791044065,46.20246819295458,46.242485913821525,46.24905738317376,46.39402399708425,47.22263573263782,47.299269175237825,47.73126998798963,47.812915439714814,48.144673542474585,48.144673542474585,48.314192176880326,48.3591283898086,48.38637218525008,48.427383208984494,48.513985065094204,48.65694485336404,48.78622082045193,48.83900741176792,48.99895192082509,48.99895192082509,49.47806511385606,49.77214342234535,49.86977270952576,49.94485932933978,50.48135155976867,50.49951409006299,50.82603523724666,50.852710347840336,51.05725491389353,51.14694788808701,51.26656632271532,51.26656632271532,51.34092755341237,51.519368221207884,51.72544950009422,51.89502626672885,52.36783337666987,52.37723816030822,52.478368018662806,52.605710457268216,52.69227945603116,52.6944278210117,53.43797188580049,53.43797188580049,53.603009283605644,53.71508822089636,53.73168370849899,53.755020007164084,54.03549284660602,54.21610209928778,54.242726660117214,54.32750619722579,54.34654071095338,54.39264715092399,54.457209309821565,54.6569112084598,54.758344365399886,55.09139148714797,55.09139148714797,55.30715810086423,55.51964150739258,55.58338476010933,55.5906740361139,55.71231951628855,55.84031657434097,55.88814423378423,55.95251177608945,56.08137323511051,56.12664560397104,56.12747967508113,56.19142259936667,56.44809155482421,56.44809155482421,56.61813590677813,56.6365334934762,56.63905339922396,56.63905339922396,56.92941882752923,56.954317113909596,57.03212078355194,57.337767405589396,57.337767405589396,57.378844144017336,57.549929821114766,57.549929821114766,58.33783888649583,58.40546688859505,58.40546688859505,58.58117534163296,58.58508536589754,58.6586529652959,58.701476198078616,58.73831686626257,58.75429059176495,58.78858607931902,58.96154715267005,59.028677239591424,59.4108814795825,59.54101173768618,59.97250199781909,59.990128700612374,60.00002128947571,60.08336268579142,60.11360155476459,60.951140378684364,60.951140378684364,60.97209325596517,60.98282749840324,61.11037719104206,61.184867323637945,61.37732291357123,61.37732291357123,61.492394396905425,61.720464823239645,61.720464823239645,61.86397560393978,62.41070668911711,63.00415333892425,63.03067680022519,63.1621794844282,63.32749237844851,63.42235659352456,63.6437645609309,63.92269057758684,64.06789224790107,64.71539176061862,64.71539176061862,65.24759737103929,65.70486295596226,65.8008266284107,66.27470792084199,66.46614746051388,66.5054448472403,66.74389566766285,66.74389566766285,66.95490049358693,66.95490049358693,66.95490049358693,67.00253353643785,67.27503467805788,67.28957531774383,67.28957531774383,68.3023929217054,68.55382744907506,68.58402840572504,68.86353574466983,69.20933404444949,69.30648563635776,69.4105600184798,69.4105600184798,69.61126785742658,69.72073589939387,70.33630818101238,70.33630818101238,70.43239570038324,70.7877757079761,70.8150649982054,70.8902729374536,71.28320889239454,71.58701803050158,71.58701803050158,71.58701803050158,72.25384019060293,72.25384019060293,72.30375050033322,72.35371388731596,72.78055609662626,74.220190635016,74.22121932271845,74.75852793183995,74.97292970192152,75.03269468819195,75.05174689433703,75.05264162516421,75.53682495954925,75.56272413126173,75.66326508486284,75.78958389074222,75.8783821341085,75.9555059094217,76.12362937033421,76.31135097484565,76.34102874143568,76.73384294726941,77.30313734939185,77.38898348652606,77.52763643488194,77.54199004044017,77.62880420555973,77.78895096422364,78.271314026873,78.271314026873,78.38110601700448,78.39803260556295,78.66211468394745,79.15696654607703,79.23908716558617,79.40072761923385,79.87507144200802,79.87507144200802,80.06108193699967,80.31307503926428,80.72356187235212,81.0512861039249,81.0512861039249,81.35230995002186,81.40837216606113,81.6161469631493,81.66472265800391,81.95373335262734,82.71782842407117,83.6707485761051,83.80814387160139,83.82723146258144,83.99683929204619,83.99683929204619,84.27643195899304,84.27643195899304,84.96263477233268,85.67032388934035,85.6756316145864,86.94313915073519,87.26503246700196,87.89979596661723,87.89979596661723,88.25042176888257,88.8499564048218,88.92979275630921,89.1568397015667,89.4511132585204,90.05878903509131,90.72317467128101,90.7924480934814,90.7924480934814,91.43317689495092,91.55077543682451,91.79745323137844,92.01712595175255,92.10339670690644,92.10339670690644,93.06367427602713,93.19580630479504,93.40848455538968,93.40848455538968,93.4326350843824,93.4326350843824,93.4326350843824,93.52697803028953,93.9742449476689,94.44689780500431,94.45558730947855,95.10805080904524,95.43199897322869,95.435784695623,95.57059884433214,95.81734081181177,96.01477191394045,96.3589643235346,96.56290830783875,96.96479756119865,96.96479756119865,97.37290266631932,98.19115501121159,99.01735486586361,99.01735486586361,99.50054982598319,99.53280416460669,99.53280416460669,99.88873516462986,102.18313126129168,103.03706049242052,104.22393670621449,106.34506706609616,106.51930095723607,108.39120030452142,109.0175615234229,109.9094771078675,110.52316711846446,110.6408521257098,111.22685246666975,112.39265632881511,112.45907641902272,112.62933019864992,112.65780139291711,113.03182688325191,114.41551559643457,115.71675061771148,116.96062490060513,116.96062490060513,117.55805876416684,117.80986321471127,118.3159811280737,118.81845928148608,121.48439207611486,121.55869289984363,123.12198487484976,123.68254298869113,124.2181620477673,125.28075474083978,127.07038619187787,127.1169391126412,127.46741260846687,131.12003969769006],\"yaxis\":\"y\",\"type\":\"scatter\"}],                        {\"template\":{\"data\":{\"histogram2dcontour\":[{\"type\":\"histogram2dcontour\",\"colorbar\":{\"outlinewidth\":0,\"ticks\":\"\"},\"colorscale\":[[0.0,\"#0d0887\"],[0.1111111111111111,\"#46039f\"],[0.2222222222222222,\"#7201a8\"],[0.3333333333333333,\"#9c179e\"],[0.4444444444444444,\"#bd3786\"],[0.5555555555555556,\"#d8576b\"],[0.6666666666666666,\"#ed7953\"],[0.7777777777777778,\"#fb9f3a\"],[0.8888888888888888,\"#fdca26\"],[1.0,\"#f0f921\"]]}],\"choropleth\":[{\"type\":\"choropleth\",\"colorbar\":{\"outlinewidth\":0,\"ticks\":\"\"}}],\"histogram2d\":[{\"type\":\"histogram2d\",\"colorbar\":{\"outlinewidth\":0,\"ticks\":\"\"},\"colorscale\":[[0.0,\"#0d0887\"],[0.1111111111111111,\"#46039f\"],[0.2222222222222222,\"#7201a8\"],[0.3333333333333333,\"#9c179e\"],[0.4444444444444444,\"#bd3786\"],[0.5555555555555556,\"#d8576b\"],[0.6666666666666666,\"#ed7953\"],[0.7777777777777778,\"#fb9f3a\"],[0.8888888888888888,\"#fdca26\"],[1.0,\"#f0f921\"]]}],\"heatmap\":[{\"type\":\"heatmap\",\"colorbar\":{\"outlinewidth\":0,\"ticks\":\"\"},\"colorscale\":[[0.0,\"#0d0887\"],[0.1111111111111111,\"#46039f\"],[0.2222222222222222,\"#7201a8\"],[0.3333333333333333,\"#9c179e\"],[0.4444444444444444,\"#bd3786\"],[0.5555555555555556,\"#d8576b\"],[0.6666666666666666,\"#ed7953\"],[0.7777777777777778,\"#fb9f3a\"],[0.8888888888888888,\"#fdca26\"],[1.0,\"#f0f921\"]]}],\"heatmapgl\":[{\"type\":\"heatmapgl\",\"colorbar\":{\"outlinewidth\":0,\"ticks\":\"\"},\"colorscale\":[[0.0,\"#0d0887\"],[0.1111111111111111,\"#46039f\"],[0.2222222222222222,\"#7201a8\"],[0.3333333333333333,\"#9c179e\"],[0.4444444444444444,\"#bd3786\"],[0.5555555555555556,\"#d8576b\"],[0.6666666666666666,\"#ed7953\"],[0.7777777777777778,\"#fb9f3a\"],[0.8888888888888888,\"#fdca26\"],[1.0,\"#f0f921\"]]}],\"contourcarpet\":[{\"type\":\"contourcarpet\",\"colorbar\":{\"outlinewidth\":0,\"ticks\":\"\"}}],\"contour\":[{\"type\":\"contour\",\"colorbar\":{\"outlinewidth\":0,\"ticks\":\"\"},\"colorscale\":[[0.0,\"#0d0887\"],[0.1111111111111111,\"#46039f\"],[0.2222222222222222,\"#7201a8\"],[0.3333333333333333,\"#9c179e\"],[0.4444444444444444,\"#bd3786\"],[0.5555555555555556,\"#d8576b\"],[0.6666666666666666,\"#ed7953\"],[0.7777777777777778,\"#fb9f3a\"],[0.8888888888888888,\"#fdca26\"],[1.0,\"#f0f921\"]]}],\"surface\":[{\"type\":\"surface\",\"colorbar\":{\"outlinewidth\":0,\"ticks\":\"\"},\"colorscale\":[[0.0,\"#0d0887\"],[0.1111111111111111,\"#46039f\"],[0.2222222222222222,\"#7201a8\"],[0.3333333333333333,\"#9c179e\"],[0.4444444444444444,\"#bd3786\"],[0.5555555555555556,\"#d8576b\"],[0.6666666666666666,\"#ed7953\"],[0.7777777777777778,\"#fb9f3a\"],[0.8888888888888888,\"#fdca26\"],[1.0,\"#f0f921\"]]}],\"mesh3d\":[{\"type\":\"mesh3d\",\"colorbar\":{\"outlinewidth\":0,\"ticks\":\"\"}}],\"scatter\":[{\"fillpattern\":{\"fillmode\":\"overlay\",\"size\":10,\"solidity\":0.2},\"type\":\"scatter\"}],\"parcoords\":[{\"type\":\"parcoords\",\"line\":{\"colorbar\":{\"outlinewidth\":0,\"ticks\":\"\"}}}],\"scatterpolargl\":[{\"type\":\"scatterpolargl\",\"marker\":{\"colorbar\":{\"outlinewidth\":0,\"ticks\":\"\"}}}],\"bar\":[{\"error_x\":{\"color\":\"#2a3f5f\"},\"error_y\":{\"color\":\"#2a3f5f\"},\"marker\":{\"line\":{\"color\":\"#E5ECF6\",\"width\":0.5},\"pattern\":{\"fillmode\":\"overlay\",\"size\":10,\"solidity\":0.2}},\"type\":\"bar\"}],\"scattergeo\":[{\"type\":\"scattergeo\",\"marker\":{\"colorbar\":{\"outlinewidth\":0,\"ticks\":\"\"}}}],\"scatterpolar\":[{\"type\":\"scatterpolar\",\"marker\":{\"colorbar\":{\"outlinewidth\":0,\"ticks\":\"\"}}}],\"histogram\":[{\"marker\":{\"pattern\":{\"fillmode\":\"overlay\",\"size\":10,\"solidity\":0.2}},\"type\":\"histogram\"}],\"scattergl\":[{\"type\":\"scattergl\",\"marker\":{\"colorbar\":{\"outlinewidth\":0,\"ticks\":\"\"}}}],\"scatter3d\":[{\"type\":\"scatter3d\",\"line\":{\"colorbar\":{\"outlinewidth\":0,\"ticks\":\"\"}},\"marker\":{\"colorbar\":{\"outlinewidth\":0,\"ticks\":\"\"}}}],\"scattermapbox\":[{\"type\":\"scattermapbox\",\"marker\":{\"colorbar\":{\"outlinewidth\":0,\"ticks\":\"\"}}}],\"scatterternary\":[{\"type\":\"scatterternary\",\"marker\":{\"colorbar\":{\"outlinewidth\":0,\"ticks\":\"\"}}}],\"scattercarpet\":[{\"type\":\"scattercarpet\",\"marker\":{\"colorbar\":{\"outlinewidth\":0,\"ticks\":\"\"}}}],\"carpet\":[{\"aaxis\":{\"endlinecolor\":\"#2a3f5f\",\"gridcolor\":\"white\",\"linecolor\":\"white\",\"minorgridcolor\":\"white\",\"startlinecolor\":\"#2a3f5f\"},\"baxis\":{\"endlinecolor\":\"#2a3f5f\",\"gridcolor\":\"white\",\"linecolor\":\"white\",\"minorgridcolor\":\"white\",\"startlinecolor\":\"#2a3f5f\"},\"type\":\"carpet\"}],\"table\":[{\"cells\":{\"fill\":{\"color\":\"#EBF0F8\"},\"line\":{\"color\":\"white\"}},\"header\":{\"fill\":{\"color\":\"#C8D4E3\"},\"line\":{\"color\":\"white\"}},\"type\":\"table\"}],\"barpolar\":[{\"marker\":{\"line\":{\"color\":\"#E5ECF6\",\"width\":0.5},\"pattern\":{\"fillmode\":\"overlay\",\"size\":10,\"solidity\":0.2}},\"type\":\"barpolar\"}],\"pie\":[{\"automargin\":true,\"type\":\"pie\"}]},\"layout\":{\"autotypenumbers\":\"strict\",\"colorway\":[\"#636efa\",\"#EF553B\",\"#00cc96\",\"#ab63fa\",\"#FFA15A\",\"#19d3f3\",\"#FF6692\",\"#B6E880\",\"#FF97FF\",\"#FECB52\"],\"font\":{\"color\":\"#2a3f5f\"},\"hovermode\":\"closest\",\"hoverlabel\":{\"align\":\"left\"},\"paper_bgcolor\":\"white\",\"plot_bgcolor\":\"#E5ECF6\",\"polar\":{\"bgcolor\":\"#E5ECF6\",\"angularaxis\":{\"gridcolor\":\"white\",\"linecolor\":\"white\",\"ticks\":\"\"},\"radialaxis\":{\"gridcolor\":\"white\",\"linecolor\":\"white\",\"ticks\":\"\"}},\"ternary\":{\"bgcolor\":\"#E5ECF6\",\"aaxis\":{\"gridcolor\":\"white\",\"linecolor\":\"white\",\"ticks\":\"\"},\"baxis\":{\"gridcolor\":\"white\",\"linecolor\":\"white\",\"ticks\":\"\"},\"caxis\":{\"gridcolor\":\"white\",\"linecolor\":\"white\",\"ticks\":\"\"}},\"coloraxis\":{\"colorbar\":{\"outlinewidth\":0,\"ticks\":\"\"}},\"colorscale\":{\"sequential\":[[0.0,\"#0d0887\"],[0.1111111111111111,\"#46039f\"],[0.2222222222222222,\"#7201a8\"],[0.3333333333333333,\"#9c179e\"],[0.4444444444444444,\"#bd3786\"],[0.5555555555555556,\"#d8576b\"],[0.6666666666666666,\"#ed7953\"],[0.7777777777777778,\"#fb9f3a\"],[0.8888888888888888,\"#fdca26\"],[1.0,\"#f0f921\"]],\"sequentialminus\":[[0.0,\"#0d0887\"],[0.1111111111111111,\"#46039f\"],[0.2222222222222222,\"#7201a8\"],[0.3333333333333333,\"#9c179e\"],[0.4444444444444444,\"#bd3786\"],[0.5555555555555556,\"#d8576b\"],[0.6666666666666666,\"#ed7953\"],[0.7777777777777778,\"#fb9f3a\"],[0.8888888888888888,\"#fdca26\"],[1.0,\"#f0f921\"]],\"diverging\":[[0,\"#8e0152\"],[0.1,\"#c51b7d\"],[0.2,\"#de77ae\"],[0.3,\"#f1b6da\"],[0.4,\"#fde0ef\"],[0.5,\"#f7f7f7\"],[0.6,\"#e6f5d0\"],[0.7,\"#b8e186\"],[0.8,\"#7fbc41\"],[0.9,\"#4d9221\"],[1,\"#276419\"]]},\"xaxis\":{\"gridcolor\":\"white\",\"linecolor\":\"white\",\"ticks\":\"\",\"title\":{\"standoff\":15},\"zerolinecolor\":\"white\",\"automargin\":true,\"zerolinewidth\":2},\"yaxis\":{\"gridcolor\":\"white\",\"linecolor\":\"white\",\"ticks\":\"\",\"title\":{\"standoff\":15},\"zerolinecolor\":\"white\",\"automargin\":true,\"zerolinewidth\":2},\"scene\":{\"xaxis\":{\"backgroundcolor\":\"#E5ECF6\",\"gridcolor\":\"white\",\"linecolor\":\"white\",\"showbackground\":true,\"ticks\":\"\",\"zerolinecolor\":\"white\",\"gridwidth\":2},\"yaxis\":{\"backgroundcolor\":\"#E5ECF6\",\"gridcolor\":\"white\",\"linecolor\":\"white\",\"showbackground\":true,\"ticks\":\"\",\"zerolinecolor\":\"white\",\"gridwidth\":2},\"zaxis\":{\"backgroundcolor\":\"#E5ECF6\",\"gridcolor\":\"white\",\"linecolor\":\"white\",\"showbackground\":true,\"ticks\":\"\",\"zerolinecolor\":\"white\",\"gridwidth\":2}},\"shapedefaults\":{\"line\":{\"color\":\"#2a3f5f\"}},\"annotationdefaults\":{\"arrowcolor\":\"#2a3f5f\",\"arrowhead\":0,\"arrowwidth\":1},\"geo\":{\"bgcolor\":\"white\",\"landcolor\":\"#E5ECF6\",\"subunitcolor\":\"white\",\"showland\":true,\"showlakes\":true,\"lakecolor\":\"white\"},\"title\":{\"x\":0.05},\"mapbox\":{\"style\":\"light\"}}},\"xaxis\":{\"anchor\":\"y\",\"domain\":[0.0,1.0],\"title\":{\"text\":\"weekly_gross_overall\"}},\"yaxis\":{\"anchor\":\"x\",\"domain\":[0.0,1.0],\"title\":{\"text\":\"avg_ticket_price\"}},\"legend\":{\"tracegroupgap\":0},\"margin\":{\"t\":60},\"title\":{\"text\":\"Weekly Gross Overall Income vs. Average Ticket Price - Show is not Hamilton\"}},                        {\"responsive\": true}                    ).then(function(){\n",
       "                            \n",
       "var gd = document.getElementById('04f41627-86ca-4953-8cdf-87be480000e4');\n",
       "var x = new MutationObserver(function (mutations, observer) {{\n",
       "        var display = window.getComputedStyle(gd).display;\n",
       "        if (!display || display === 'none') {{\n",
       "            console.log([gd, 'removed!']);\n",
       "            Plotly.purge(gd);\n",
       "            observer.disconnect();\n",
       "        }}\n",
       "}});\n",
       "\n",
       "// Listen for the removal of the full notebook cells\n",
       "var notebookContainer = gd.closest('#notebook-container');\n",
       "if (notebookContainer) {{\n",
       "    x.observe(notebookContainer, {childList: true});\n",
       "}}\n",
       "\n",
       "// Listen for the clearing of the current output cell\n",
       "var outputEl = gd.closest('.output');\n",
       "if (outputEl) {{\n",
       "    x.observe(outputEl, {childList: true});\n",
       "}}\n",
       "\n",
       "                        })                };                });            </script>        </div>"
      ]
     },
     "metadata": {},
     "output_type": "display_data"
    }
   ],
   "source": [
    "# Title needs to reflect boolean selection\n",
    "\n",
    "fig = px.scatter(broadway[broadway.Hamilton=='No'], x=\"weekly_gross_overall\", y=\"avg_ticket_price\", trendline=\"ols\")\n",
    "fig.update_layout(title=\"Weekly Gross Overall Income vs. Average Ticket Price - Show is not Hamilton\")"
   ]
  },
  {
   "cell_type": "code",
   "execution_count": 40,
   "id": "03e2976f",
   "metadata": {},
   "outputs": [
    {
     "data": {
      "application/vnd.plotly.v1+json": {
       "config": {
        "plotlyServerURL": "https://plot.ly"
       },
       "data": [
        {
         "hovertemplate": "weekly_gross_overall=%{x}<br>avg_ticket_price=%{y}<extra></extra>",
         "legendgroup": "",
         "marker": {
          "color": "#636efa",
          "symbol": "circle"
         },
         "mode": "markers",
         "name": "",
         "orientation": "v",
         "showlegend": false,
         "type": "scatter",
         "x": [
          28789622,
          26416632,
          22457933,
          22236019,
          21392376,
          25981326,
          27391971,
          22819831,
          26640595,
          15977957.72,
          23617252.17,
          26894099.17,
          28331921.81,
          27579172.93,
          24862657.43,
          26582154.47,
          25496118,
          21495765.02,
          20154528.12,
          22174849.86,
          22824768.82,
          27441874.45,
          26762454.2,
          35280351.26,
          29035901.85,
          30541917.65,
          49710189.78,
          21078311.83,
          19874003.02,
          23822896.59,
          35186711.31,
          41151034.39,
          35895402.43,
          32862919.91,
          34128419.59,
          34505435.31,
          31922259.32,
          31395963.12,
          31424598.87,
          28674785.82,
          26613186.99,
          30239538.42,
          30630790.04,
          32477412.57,
          31147315.59,
          39079347.02,
          35260250.63,
          35795927.3,
          50354028.55,
          32947325.27,
          27685184.24,
          26335055.74,
          26316392.79,
          29425481.36,
          31954759.69,
          42016688.35,
          35335326.58,
          36994026.79,
          38621280.34,
          38813251.1,
          39431767.13,
          39211500.4,
          39653551.79,
          40285883.82,
          38126488.51,
          33865379.57,
          37330027.69,
          29524979.46,
          29521717.1,
          33133984.13,
          36501888.28,
          43043393.13,
          40149570.28,
          39865469.32,
          41012369.65,
          37530273.1,
          31937248.07,
          29982380.3,
          26512354.56,
          27159271.45,
          34204242.15,
          40219790.24,
          34151624.49,
          36855346.97,
          35092350.5,
          35905670.43,
          35439598.96,
          34493610.47,
          34108642.97,
          31972753.31,
          27987012.48,
          28652876.74,
          29092570.96,
          29894777.05,
          35212990.4,
          34644583.03,
          31122600.61,
          35399366.34,
          26971364.47,
          29195909.75
         ],
         "xaxis": "x",
         "y": [
          140.39,
          117.99,
          136.04,
          158.52,
          145.91,
          156.58,
          139.08,
          148.71,
          147.07,
          161.84,
          161.21,
          168.65,
          169.12,
          170.49,
          190.95,
          190.32,
          189.85,
          191.02,
          199.97,
          200.75,
          202.23,
          185.7,
          228.3,
          303.21,
          208.09,
          208.65,
          310.13,
          229.17,
          298.92,
          264.1,
          276.99,
          289.94,
          291.07,
          292.14,
          255.42,
          282.61,
          280.79,
          282.01,
          283.28,
          276.16,
          272.72,
          272.24,
          271.2,
          292.14,
          263.31,
          321.13,
          271.04,
          353.06,
          358.46,
          288.61,
          287.93,
          287.1,
          285.46,
          292.88,
          292.93,
          268.47,
          262.97,
          288.31,
          262.3,
          290.2,
          278.35,
          265.29,
          291.16,
          291.27,
          289.99,
          295.08,
          289.13,
          298.36,
          301.89,
          274.34,
          273.29,
          354.1,
          274.45,
          302.6,
          335.92,
          310.89,
          293.66,
          292.75,
          290.87,
          286.94,
          274.67,
          306.95,
          296.45,
          291.92,
          299.82,
          272.29,
          267.69,
          295.98,
          287.56,
          275.89,
          273.8,
          280.16,
          270.11,
          278.07,
          287.48,
          259.75,
          224.35,
          287.06,
          250.34,
          257.03
         ],
         "yaxis": "y"
        },
        {
         "hovertemplate": "<b>OLS trendline</b><br>avg_ticket_price = 5.76831e-06 * weekly_gross_overall + 74.9691<br>R<sup>2</sup>=0.455827<br><br>weekly_gross_overall=%{x}<br>avg_ticket_price=%{y} <b>(trend)</b><extra></extra>",
         "legendgroup": "",
         "marker": {
          "color": "#636efa",
          "symbol": "circle"
         },
         "mode": "lines",
         "name": "",
         "showlegend": false,
         "type": "scatter",
         "x": [
          15977957.72,
          19874003.02,
          20154528.12,
          21078311.83,
          21392376,
          21495765.02,
          22174849.86,
          22236019,
          22457933,
          22819831,
          22824768.82,
          23617252.17,
          23822896.59,
          24862657.43,
          25496118,
          25981326,
          26316392.79,
          26335055.74,
          26416632,
          26512354.56,
          26582154.47,
          26613186.99,
          26640595,
          26762454.2,
          26894099.17,
          26971364.47,
          27159271.45,
          27391971,
          27441874.45,
          27579172.93,
          27685184.24,
          27987012.48,
          28331921.81,
          28652876.74,
          28674785.82,
          28789622,
          29035901.85,
          29092570.96,
          29195909.75,
          29425481.36,
          29521717.1,
          29524979.46,
          29894777.05,
          29982380.3,
          30239538.42,
          30541917.65,
          30630790.04,
          31122600.61,
          31147315.59,
          31395963.12,
          31424598.87,
          31922259.32,
          31937248.07,
          31954759.69,
          31972753.31,
          32477412.57,
          32862919.91,
          32947325.27,
          33133984.13,
          33865379.57,
          34108642.97,
          34128419.59,
          34151624.49,
          34204242.15,
          34493610.47,
          34505435.31,
          34644583.03,
          35092350.5,
          35186711.31,
          35212990.4,
          35260250.63,
          35280351.26,
          35335326.58,
          35399366.34,
          35439598.96,
          35795927.3,
          35895402.43,
          35905670.43,
          36501888.28,
          36855346.97,
          36994026.79,
          37330027.69,
          37530273.1,
          38126488.51,
          38621280.34,
          38813251.1,
          39079347.02,
          39211500.4,
          39431767.13,
          39653551.79,
          39865469.32,
          40149570.28,
          40219790.24,
          40285883.82,
          41012369.65,
          41151034.39,
          42016688.35,
          43043393.13,
          49710189.78,
          50354028.55
         ],
         "xaxis": "x",
         "y": [
          167.13488390066362,
          189.60848241067987,
          191.2266382543458,
          196.55530940933292,
          198.36692901831475,
          198.963308974632,
          202.88048110001736,
          203.23332368466674,
          204.5133925123448,
          206.600932499002,
          206.6294153773183,
          211.2007053039967,
          212.38692614462838,
          218.38458938139752,
          222.03858655697093,
          224.8374168954806,
          226.77018613522733,
          226.87783982326647,
          227.3483970098548,
          227.90055444544493,
          228.3031819901953,
          228.48218719715067,
          228.64028510548314,
          229.3432067926493,
          230.10257583839507,
          230.54826606970624,
          231.63217185123034,
          232.97445507883072,
          233.2623136670162,
          234.0542939131277,
          234.6658000520478,
          236.40683901911137,
          238.39638308441744,
          240.2477507357716,
          240.3741291091555,
          241.0365398372196,
          242.45715845015184,
          242.78404346508222,
          243.38013367916955,
          244.70437397802795,
          245.2594915951343,
          245.2783099001564,
          247.4114171737375,
          247.91673990924897,
          249.4001077598411,
          251.14432500823597,
          251.65696853717174,
          254.4938845486879,
          254.63644822414182,
          256.07072435017335,
          256.2359042438807,
          259.1065641788702,
          259.19302394094404,
          259.2940364002037,
          259.39782918506216,
          262.30886042835954,
          264.5325864157921,
          265.0194627292511,
          266.09616896723486,
          270.3150848691153,
          271.71830366222883,
          271.8323813444789,
          271.9662344098077,
          272.26974940368535,
          273.9389156849906,
          274.0071250321985,
          274.8097722685805,
          277.3926340095941,
          277.9369364485364,
          278.0885223959248,
          278.36113407077136,
          278.4770807432647,
          278.7941954517717,
          279.16359666353844,
          279.39567090273835,
          281.4510833618544,
          282.02488678589356,
          282.08411579678335,
          285.5232854043352,
          287.562144831595,
          288.3620930755544,
          290.3002505517018,
          291.45532822695725,
          294.8944837598317,
          297.74859660432463,
          298.8559435301683,
          300.39086738519467,
          301.1531690976161,
          302.4237359606693,
          303.703058715084,
          304.9254648011874,
          306.56424731517666,
          306.9692978386984,
          307.3505461216713,
          311.54114186927103,
          312.34100312711007,
          317.33436384230646,
          323.25671567277277,
          361.71286793055606,
          365.42672978482216
         ],
         "yaxis": "y"
        }
       ],
       "layout": {
        "legend": {
         "tracegroupgap": 0
        },
        "margin": {
         "t": 60
        },
        "template": {
         "data": {
          "bar": [
           {
            "error_x": {
             "color": "#2a3f5f"
            },
            "error_y": {
             "color": "#2a3f5f"
            },
            "marker": {
             "line": {
              "color": "#E5ECF6",
              "width": 0.5
             },
             "pattern": {
              "fillmode": "overlay",
              "size": 10,
              "solidity": 0.2
             }
            },
            "type": "bar"
           }
          ],
          "barpolar": [
           {
            "marker": {
             "line": {
              "color": "#E5ECF6",
              "width": 0.5
             },
             "pattern": {
              "fillmode": "overlay",
              "size": 10,
              "solidity": 0.2
             }
            },
            "type": "barpolar"
           }
          ],
          "carpet": [
           {
            "aaxis": {
             "endlinecolor": "#2a3f5f",
             "gridcolor": "white",
             "linecolor": "white",
             "minorgridcolor": "white",
             "startlinecolor": "#2a3f5f"
            },
            "baxis": {
             "endlinecolor": "#2a3f5f",
             "gridcolor": "white",
             "linecolor": "white",
             "minorgridcolor": "white",
             "startlinecolor": "#2a3f5f"
            },
            "type": "carpet"
           }
          ],
          "choropleth": [
           {
            "colorbar": {
             "outlinewidth": 0,
             "ticks": ""
            },
            "type": "choropleth"
           }
          ],
          "contour": [
           {
            "colorbar": {
             "outlinewidth": 0,
             "ticks": ""
            },
            "colorscale": [
             [
              0,
              "#0d0887"
             ],
             [
              0.1111111111111111,
              "#46039f"
             ],
             [
              0.2222222222222222,
              "#7201a8"
             ],
             [
              0.3333333333333333,
              "#9c179e"
             ],
             [
              0.4444444444444444,
              "#bd3786"
             ],
             [
              0.5555555555555556,
              "#d8576b"
             ],
             [
              0.6666666666666666,
              "#ed7953"
             ],
             [
              0.7777777777777778,
              "#fb9f3a"
             ],
             [
              0.8888888888888888,
              "#fdca26"
             ],
             [
              1,
              "#f0f921"
             ]
            ],
            "type": "contour"
           }
          ],
          "contourcarpet": [
           {
            "colorbar": {
             "outlinewidth": 0,
             "ticks": ""
            },
            "type": "contourcarpet"
           }
          ],
          "heatmap": [
           {
            "colorbar": {
             "outlinewidth": 0,
             "ticks": ""
            },
            "colorscale": [
             [
              0,
              "#0d0887"
             ],
             [
              0.1111111111111111,
              "#46039f"
             ],
             [
              0.2222222222222222,
              "#7201a8"
             ],
             [
              0.3333333333333333,
              "#9c179e"
             ],
             [
              0.4444444444444444,
              "#bd3786"
             ],
             [
              0.5555555555555556,
              "#d8576b"
             ],
             [
              0.6666666666666666,
              "#ed7953"
             ],
             [
              0.7777777777777778,
              "#fb9f3a"
             ],
             [
              0.8888888888888888,
              "#fdca26"
             ],
             [
              1,
              "#f0f921"
             ]
            ],
            "type": "heatmap"
           }
          ],
          "heatmapgl": [
           {
            "colorbar": {
             "outlinewidth": 0,
             "ticks": ""
            },
            "colorscale": [
             [
              0,
              "#0d0887"
             ],
             [
              0.1111111111111111,
              "#46039f"
             ],
             [
              0.2222222222222222,
              "#7201a8"
             ],
             [
              0.3333333333333333,
              "#9c179e"
             ],
             [
              0.4444444444444444,
              "#bd3786"
             ],
             [
              0.5555555555555556,
              "#d8576b"
             ],
             [
              0.6666666666666666,
              "#ed7953"
             ],
             [
              0.7777777777777778,
              "#fb9f3a"
             ],
             [
              0.8888888888888888,
              "#fdca26"
             ],
             [
              1,
              "#f0f921"
             ]
            ],
            "type": "heatmapgl"
           }
          ],
          "histogram": [
           {
            "marker": {
             "pattern": {
              "fillmode": "overlay",
              "size": 10,
              "solidity": 0.2
             }
            },
            "type": "histogram"
           }
          ],
          "histogram2d": [
           {
            "colorbar": {
             "outlinewidth": 0,
             "ticks": ""
            },
            "colorscale": [
             [
              0,
              "#0d0887"
             ],
             [
              0.1111111111111111,
              "#46039f"
             ],
             [
              0.2222222222222222,
              "#7201a8"
             ],
             [
              0.3333333333333333,
              "#9c179e"
             ],
             [
              0.4444444444444444,
              "#bd3786"
             ],
             [
              0.5555555555555556,
              "#d8576b"
             ],
             [
              0.6666666666666666,
              "#ed7953"
             ],
             [
              0.7777777777777778,
              "#fb9f3a"
             ],
             [
              0.8888888888888888,
              "#fdca26"
             ],
             [
              1,
              "#f0f921"
             ]
            ],
            "type": "histogram2d"
           }
          ],
          "histogram2dcontour": [
           {
            "colorbar": {
             "outlinewidth": 0,
             "ticks": ""
            },
            "colorscale": [
             [
              0,
              "#0d0887"
             ],
             [
              0.1111111111111111,
              "#46039f"
             ],
             [
              0.2222222222222222,
              "#7201a8"
             ],
             [
              0.3333333333333333,
              "#9c179e"
             ],
             [
              0.4444444444444444,
              "#bd3786"
             ],
             [
              0.5555555555555556,
              "#d8576b"
             ],
             [
              0.6666666666666666,
              "#ed7953"
             ],
             [
              0.7777777777777778,
              "#fb9f3a"
             ],
             [
              0.8888888888888888,
              "#fdca26"
             ],
             [
              1,
              "#f0f921"
             ]
            ],
            "type": "histogram2dcontour"
           }
          ],
          "mesh3d": [
           {
            "colorbar": {
             "outlinewidth": 0,
             "ticks": ""
            },
            "type": "mesh3d"
           }
          ],
          "parcoords": [
           {
            "line": {
             "colorbar": {
              "outlinewidth": 0,
              "ticks": ""
             }
            },
            "type": "parcoords"
           }
          ],
          "pie": [
           {
            "automargin": true,
            "type": "pie"
           }
          ],
          "scatter": [
           {
            "fillpattern": {
             "fillmode": "overlay",
             "size": 10,
             "solidity": 0.2
            },
            "type": "scatter"
           }
          ],
          "scatter3d": [
           {
            "line": {
             "colorbar": {
              "outlinewidth": 0,
              "ticks": ""
             }
            },
            "marker": {
             "colorbar": {
              "outlinewidth": 0,
              "ticks": ""
             }
            },
            "type": "scatter3d"
           }
          ],
          "scattercarpet": [
           {
            "marker": {
             "colorbar": {
              "outlinewidth": 0,
              "ticks": ""
             }
            },
            "type": "scattercarpet"
           }
          ],
          "scattergeo": [
           {
            "marker": {
             "colorbar": {
              "outlinewidth": 0,
              "ticks": ""
             }
            },
            "type": "scattergeo"
           }
          ],
          "scattergl": [
           {
            "marker": {
             "colorbar": {
              "outlinewidth": 0,
              "ticks": ""
             }
            },
            "type": "scattergl"
           }
          ],
          "scattermapbox": [
           {
            "marker": {
             "colorbar": {
              "outlinewidth": 0,
              "ticks": ""
             }
            },
            "type": "scattermapbox"
           }
          ],
          "scatterpolar": [
           {
            "marker": {
             "colorbar": {
              "outlinewidth": 0,
              "ticks": ""
             }
            },
            "type": "scatterpolar"
           }
          ],
          "scatterpolargl": [
           {
            "marker": {
             "colorbar": {
              "outlinewidth": 0,
              "ticks": ""
             }
            },
            "type": "scatterpolargl"
           }
          ],
          "scatterternary": [
           {
            "marker": {
             "colorbar": {
              "outlinewidth": 0,
              "ticks": ""
             }
            },
            "type": "scatterternary"
           }
          ],
          "surface": [
           {
            "colorbar": {
             "outlinewidth": 0,
             "ticks": ""
            },
            "colorscale": [
             [
              0,
              "#0d0887"
             ],
             [
              0.1111111111111111,
              "#46039f"
             ],
             [
              0.2222222222222222,
              "#7201a8"
             ],
             [
              0.3333333333333333,
              "#9c179e"
             ],
             [
              0.4444444444444444,
              "#bd3786"
             ],
             [
              0.5555555555555556,
              "#d8576b"
             ],
             [
              0.6666666666666666,
              "#ed7953"
             ],
             [
              0.7777777777777778,
              "#fb9f3a"
             ],
             [
              0.8888888888888888,
              "#fdca26"
             ],
             [
              1,
              "#f0f921"
             ]
            ],
            "type": "surface"
           }
          ],
          "table": [
           {
            "cells": {
             "fill": {
              "color": "#EBF0F8"
             },
             "line": {
              "color": "white"
             }
            },
            "header": {
             "fill": {
              "color": "#C8D4E3"
             },
             "line": {
              "color": "white"
             }
            },
            "type": "table"
           }
          ]
         },
         "layout": {
          "annotationdefaults": {
           "arrowcolor": "#2a3f5f",
           "arrowhead": 0,
           "arrowwidth": 1
          },
          "autotypenumbers": "strict",
          "coloraxis": {
           "colorbar": {
            "outlinewidth": 0,
            "ticks": ""
           }
          },
          "colorscale": {
           "diverging": [
            [
             0,
             "#8e0152"
            ],
            [
             0.1,
             "#c51b7d"
            ],
            [
             0.2,
             "#de77ae"
            ],
            [
             0.3,
             "#f1b6da"
            ],
            [
             0.4,
             "#fde0ef"
            ],
            [
             0.5,
             "#f7f7f7"
            ],
            [
             0.6,
             "#e6f5d0"
            ],
            [
             0.7,
             "#b8e186"
            ],
            [
             0.8,
             "#7fbc41"
            ],
            [
             0.9,
             "#4d9221"
            ],
            [
             1,
             "#276419"
            ]
           ],
           "sequential": [
            [
             0,
             "#0d0887"
            ],
            [
             0.1111111111111111,
             "#46039f"
            ],
            [
             0.2222222222222222,
             "#7201a8"
            ],
            [
             0.3333333333333333,
             "#9c179e"
            ],
            [
             0.4444444444444444,
             "#bd3786"
            ],
            [
             0.5555555555555556,
             "#d8576b"
            ],
            [
             0.6666666666666666,
             "#ed7953"
            ],
            [
             0.7777777777777778,
             "#fb9f3a"
            ],
            [
             0.8888888888888888,
             "#fdca26"
            ],
            [
             1,
             "#f0f921"
            ]
           ],
           "sequentialminus": [
            [
             0,
             "#0d0887"
            ],
            [
             0.1111111111111111,
             "#46039f"
            ],
            [
             0.2222222222222222,
             "#7201a8"
            ],
            [
             0.3333333333333333,
             "#9c179e"
            ],
            [
             0.4444444444444444,
             "#bd3786"
            ],
            [
             0.5555555555555556,
             "#d8576b"
            ],
            [
             0.6666666666666666,
             "#ed7953"
            ],
            [
             0.7777777777777778,
             "#fb9f3a"
            ],
            [
             0.8888888888888888,
             "#fdca26"
            ],
            [
             1,
             "#f0f921"
            ]
           ]
          },
          "colorway": [
           "#636efa",
           "#EF553B",
           "#00cc96",
           "#ab63fa",
           "#FFA15A",
           "#19d3f3",
           "#FF6692",
           "#B6E880",
           "#FF97FF",
           "#FECB52"
          ],
          "font": {
           "color": "#2a3f5f"
          },
          "geo": {
           "bgcolor": "white",
           "lakecolor": "white",
           "landcolor": "#E5ECF6",
           "showlakes": true,
           "showland": true,
           "subunitcolor": "white"
          },
          "hoverlabel": {
           "align": "left"
          },
          "hovermode": "closest",
          "mapbox": {
           "style": "light"
          },
          "paper_bgcolor": "white",
          "plot_bgcolor": "#E5ECF6",
          "polar": {
           "angularaxis": {
            "gridcolor": "white",
            "linecolor": "white",
            "ticks": ""
           },
           "bgcolor": "#E5ECF6",
           "radialaxis": {
            "gridcolor": "white",
            "linecolor": "white",
            "ticks": ""
           }
          },
          "scene": {
           "xaxis": {
            "backgroundcolor": "#E5ECF6",
            "gridcolor": "white",
            "gridwidth": 2,
            "linecolor": "white",
            "showbackground": true,
            "ticks": "",
            "zerolinecolor": "white"
           },
           "yaxis": {
            "backgroundcolor": "#E5ECF6",
            "gridcolor": "white",
            "gridwidth": 2,
            "linecolor": "white",
            "showbackground": true,
            "ticks": "",
            "zerolinecolor": "white"
           },
           "zaxis": {
            "backgroundcolor": "#E5ECF6",
            "gridcolor": "white",
            "gridwidth": 2,
            "linecolor": "white",
            "showbackground": true,
            "ticks": "",
            "zerolinecolor": "white"
           }
          },
          "shapedefaults": {
           "line": {
            "color": "#2a3f5f"
           }
          },
          "ternary": {
           "aaxis": {
            "gridcolor": "white",
            "linecolor": "white",
            "ticks": ""
           },
           "baxis": {
            "gridcolor": "white",
            "linecolor": "white",
            "ticks": ""
           },
           "bgcolor": "#E5ECF6",
           "caxis": {
            "gridcolor": "white",
            "linecolor": "white",
            "ticks": ""
           }
          },
          "title": {
           "x": 0.05
          },
          "xaxis": {
           "automargin": true,
           "gridcolor": "white",
           "linecolor": "white",
           "ticks": "",
           "title": {
            "standoff": 15
           },
           "zerolinecolor": "white",
           "zerolinewidth": 2
          },
          "yaxis": {
           "automargin": true,
           "gridcolor": "white",
           "linecolor": "white",
           "ticks": "",
           "title": {
            "standoff": 15
           },
           "zerolinecolor": "white",
           "zerolinewidth": 2
          }
         }
        },
        "title": {
         "text": "Weekly Gross Overall Income vs. Average Ticket Price - Show is Hamilton"
        },
        "xaxis": {
         "anchor": "y",
         "domain": [
          0,
          1
         ],
         "title": {
          "text": "weekly_gross_overall"
         }
        },
        "yaxis": {
         "anchor": "x",
         "domain": [
          0,
          1
         ],
         "title": {
          "text": "avg_ticket_price"
         }
        }
       }
      },
      "text/html": [
       "<div>                            <div id=\"c3ad4e1a-c10d-4157-9f71-df798e977560\" class=\"plotly-graph-div\" style=\"height:525px; width:100%;\"></div>            <script type=\"text/javascript\">                require([\"plotly\"], function(Plotly) {                    window.PLOTLYENV=window.PLOTLYENV || {};                                    if (document.getElementById(\"c3ad4e1a-c10d-4157-9f71-df798e977560\")) {                    Plotly.newPlot(                        \"c3ad4e1a-c10d-4157-9f71-df798e977560\",                        [{\"hovertemplate\":\"weekly_gross_overall=%{x}<br>avg_ticket_price=%{y}<extra></extra>\",\"legendgroup\":\"\",\"marker\":{\"color\":\"#636efa\",\"symbol\":\"circle\"},\"mode\":\"markers\",\"name\":\"\",\"orientation\":\"v\",\"showlegend\":false,\"x\":[28789622.0,26416632.0,22457933.0,22236019.0,21392376.0,25981326.0,27391971.0,22819831.0,26640595.0,15977957.72,23617252.17,26894099.17,28331921.81,27579172.93,24862657.43,26582154.47,25496118.0,21495765.02,20154528.12,22174849.86,22824768.82,27441874.45,26762454.2,35280351.26,29035901.85,30541917.65,49710189.78,21078311.83,19874003.02,23822896.59,35186711.31,41151034.39,35895402.43,32862919.91,34128419.59,34505435.31,31922259.32,31395963.12,31424598.87,28674785.82,26613186.99,30239538.42,30630790.04,32477412.57,31147315.59,39079347.02,35260250.63,35795927.3,50354028.55,32947325.27,27685184.24,26335055.74,26316392.79,29425481.36,31954759.69,42016688.35,35335326.58,36994026.79,38621280.34,38813251.1,39431767.13,39211500.4,39653551.79,40285883.82,38126488.51,33865379.57,37330027.69,29524979.46,29521717.1,33133984.13,36501888.28,43043393.13,40149570.28,39865469.32,41012369.65,37530273.1,31937248.07,29982380.3,26512354.56,27159271.45,34204242.15,40219790.24,34151624.49,36855346.97,35092350.5,35905670.43,35439598.96,34493610.47,34108642.97,31972753.31,27987012.48,28652876.74,29092570.96,29894777.05,35212990.4,34644583.03,31122600.61,35399366.34,26971364.47,29195909.75],\"xaxis\":\"x\",\"y\":[140.39,117.99,136.04,158.52,145.91,156.58,139.08,148.71,147.07,161.84,161.21,168.65,169.12,170.49,190.95,190.32,189.85,191.02,199.97,200.75,202.23,185.7,228.3,303.21,208.09,208.65,310.13,229.17,298.92,264.1,276.99,289.94,291.07,292.14,255.42,282.61,280.79,282.01,283.28,276.16,272.72,272.24,271.2,292.14,263.31,321.13,271.04,353.06,358.46,288.61,287.93,287.1,285.46,292.88,292.93,268.47,262.97,288.31,262.3,290.2,278.35,265.29,291.16,291.27,289.99,295.08,289.13,298.36,301.89,274.34,273.29,354.1,274.45,302.6,335.92,310.89,293.66,292.75,290.87,286.94,274.67,306.95,296.45,291.92,299.82,272.29,267.69,295.98,287.56,275.89,273.8,280.16,270.11,278.07,287.48,259.75,224.35,287.06,250.34,257.03],\"yaxis\":\"y\",\"type\":\"scatter\"},{\"hovertemplate\":\"<b>OLS trendline</b><br>avg_ticket_price = 5.76831e-06 * weekly_gross_overall + 74.9691<br>R<sup>2</sup>=0.455827<br><br>weekly_gross_overall=%{x}<br>avg_ticket_price=%{y} <b>(trend)</b><extra></extra>\",\"legendgroup\":\"\",\"marker\":{\"color\":\"#636efa\",\"symbol\":\"circle\"},\"mode\":\"lines\",\"name\":\"\",\"showlegend\":false,\"x\":[15977957.72,19874003.02,20154528.12,21078311.83,21392376.0,21495765.02,22174849.86,22236019.0,22457933.0,22819831.0,22824768.82,23617252.17,23822896.59,24862657.43,25496118.0,25981326.0,26316392.79,26335055.74,26416632.0,26512354.56,26582154.47,26613186.99,26640595.0,26762454.2,26894099.17,26971364.47,27159271.45,27391971.0,27441874.45,27579172.93,27685184.24,27987012.48,28331921.81,28652876.74,28674785.82,28789622.0,29035901.85,29092570.96,29195909.75,29425481.36,29521717.1,29524979.46,29894777.05,29982380.3,30239538.42,30541917.65,30630790.04,31122600.61,31147315.59,31395963.12,31424598.87,31922259.32,31937248.07,31954759.69,31972753.31,32477412.57,32862919.91,32947325.27,33133984.13,33865379.57,34108642.97,34128419.59,34151624.49,34204242.15,34493610.47,34505435.31,34644583.03,35092350.5,35186711.31,35212990.4,35260250.63,35280351.26,35335326.58,35399366.34,35439598.96,35795927.3,35895402.43,35905670.43,36501888.28,36855346.97,36994026.79,37330027.69,37530273.1,38126488.51,38621280.34,38813251.1,39079347.02,39211500.4,39431767.13,39653551.79,39865469.32,40149570.28,40219790.24,40285883.82,41012369.65,41151034.39,42016688.35,43043393.13,49710189.78,50354028.55],\"xaxis\":\"x\",\"y\":[167.13488390066362,189.60848241067987,191.2266382543458,196.55530940933292,198.36692901831475,198.963308974632,202.88048110001736,203.23332368466674,204.5133925123448,206.600932499002,206.6294153773183,211.2007053039967,212.38692614462838,218.38458938139752,222.03858655697093,224.8374168954806,226.77018613522733,226.87783982326647,227.3483970098548,227.90055444544493,228.3031819901953,228.48218719715067,228.64028510548314,229.3432067926493,230.10257583839507,230.54826606970624,231.63217185123034,232.97445507883072,233.2623136670162,234.0542939131277,234.6658000520478,236.40683901911137,238.39638308441744,240.2477507357716,240.3741291091555,241.0365398372196,242.45715845015184,242.78404346508222,243.38013367916955,244.70437397802795,245.2594915951343,245.2783099001564,247.4114171737375,247.91673990924897,249.4001077598411,251.14432500823597,251.65696853717174,254.4938845486879,254.63644822414182,256.07072435017335,256.2359042438807,259.1065641788702,259.19302394094404,259.2940364002037,259.39782918506216,262.30886042835954,264.5325864157921,265.0194627292511,266.09616896723486,270.3150848691153,271.71830366222883,271.8323813444789,271.9662344098077,272.26974940368535,273.9389156849906,274.0071250321985,274.8097722685805,277.3926340095941,277.9369364485364,278.0885223959248,278.36113407077136,278.4770807432647,278.7941954517717,279.16359666353844,279.39567090273835,281.4510833618544,282.02488678589356,282.08411579678335,285.5232854043352,287.562144831595,288.3620930755544,290.3002505517018,291.45532822695725,294.8944837598317,297.74859660432463,298.8559435301683,300.39086738519467,301.1531690976161,302.4237359606693,303.703058715084,304.9254648011874,306.56424731517666,306.9692978386984,307.3505461216713,311.54114186927103,312.34100312711007,317.33436384230646,323.25671567277277,361.71286793055606,365.42672978482216],\"yaxis\":\"y\",\"type\":\"scatter\"}],                        {\"template\":{\"data\":{\"histogram2dcontour\":[{\"type\":\"histogram2dcontour\",\"colorbar\":{\"outlinewidth\":0,\"ticks\":\"\"},\"colorscale\":[[0.0,\"#0d0887\"],[0.1111111111111111,\"#46039f\"],[0.2222222222222222,\"#7201a8\"],[0.3333333333333333,\"#9c179e\"],[0.4444444444444444,\"#bd3786\"],[0.5555555555555556,\"#d8576b\"],[0.6666666666666666,\"#ed7953\"],[0.7777777777777778,\"#fb9f3a\"],[0.8888888888888888,\"#fdca26\"],[1.0,\"#f0f921\"]]}],\"choropleth\":[{\"type\":\"choropleth\",\"colorbar\":{\"outlinewidth\":0,\"ticks\":\"\"}}],\"histogram2d\":[{\"type\":\"histogram2d\",\"colorbar\":{\"outlinewidth\":0,\"ticks\":\"\"},\"colorscale\":[[0.0,\"#0d0887\"],[0.1111111111111111,\"#46039f\"],[0.2222222222222222,\"#7201a8\"],[0.3333333333333333,\"#9c179e\"],[0.4444444444444444,\"#bd3786\"],[0.5555555555555556,\"#d8576b\"],[0.6666666666666666,\"#ed7953\"],[0.7777777777777778,\"#fb9f3a\"],[0.8888888888888888,\"#fdca26\"],[1.0,\"#f0f921\"]]}],\"heatmap\":[{\"type\":\"heatmap\",\"colorbar\":{\"outlinewidth\":0,\"ticks\":\"\"},\"colorscale\":[[0.0,\"#0d0887\"],[0.1111111111111111,\"#46039f\"],[0.2222222222222222,\"#7201a8\"],[0.3333333333333333,\"#9c179e\"],[0.4444444444444444,\"#bd3786\"],[0.5555555555555556,\"#d8576b\"],[0.6666666666666666,\"#ed7953\"],[0.7777777777777778,\"#fb9f3a\"],[0.8888888888888888,\"#fdca26\"],[1.0,\"#f0f921\"]]}],\"heatmapgl\":[{\"type\":\"heatmapgl\",\"colorbar\":{\"outlinewidth\":0,\"ticks\":\"\"},\"colorscale\":[[0.0,\"#0d0887\"],[0.1111111111111111,\"#46039f\"],[0.2222222222222222,\"#7201a8\"],[0.3333333333333333,\"#9c179e\"],[0.4444444444444444,\"#bd3786\"],[0.5555555555555556,\"#d8576b\"],[0.6666666666666666,\"#ed7953\"],[0.7777777777777778,\"#fb9f3a\"],[0.8888888888888888,\"#fdca26\"],[1.0,\"#f0f921\"]]}],\"contourcarpet\":[{\"type\":\"contourcarpet\",\"colorbar\":{\"outlinewidth\":0,\"ticks\":\"\"}}],\"contour\":[{\"type\":\"contour\",\"colorbar\":{\"outlinewidth\":0,\"ticks\":\"\"},\"colorscale\":[[0.0,\"#0d0887\"],[0.1111111111111111,\"#46039f\"],[0.2222222222222222,\"#7201a8\"],[0.3333333333333333,\"#9c179e\"],[0.4444444444444444,\"#bd3786\"],[0.5555555555555556,\"#d8576b\"],[0.6666666666666666,\"#ed7953\"],[0.7777777777777778,\"#fb9f3a\"],[0.8888888888888888,\"#fdca26\"],[1.0,\"#f0f921\"]]}],\"surface\":[{\"type\":\"surface\",\"colorbar\":{\"outlinewidth\":0,\"ticks\":\"\"},\"colorscale\":[[0.0,\"#0d0887\"],[0.1111111111111111,\"#46039f\"],[0.2222222222222222,\"#7201a8\"],[0.3333333333333333,\"#9c179e\"],[0.4444444444444444,\"#bd3786\"],[0.5555555555555556,\"#d8576b\"],[0.6666666666666666,\"#ed7953\"],[0.7777777777777778,\"#fb9f3a\"],[0.8888888888888888,\"#fdca26\"],[1.0,\"#f0f921\"]]}],\"mesh3d\":[{\"type\":\"mesh3d\",\"colorbar\":{\"outlinewidth\":0,\"ticks\":\"\"}}],\"scatter\":[{\"fillpattern\":{\"fillmode\":\"overlay\",\"size\":10,\"solidity\":0.2},\"type\":\"scatter\"}],\"parcoords\":[{\"type\":\"parcoords\",\"line\":{\"colorbar\":{\"outlinewidth\":0,\"ticks\":\"\"}}}],\"scatterpolargl\":[{\"type\":\"scatterpolargl\",\"marker\":{\"colorbar\":{\"outlinewidth\":0,\"ticks\":\"\"}}}],\"bar\":[{\"error_x\":{\"color\":\"#2a3f5f\"},\"error_y\":{\"color\":\"#2a3f5f\"},\"marker\":{\"line\":{\"color\":\"#E5ECF6\",\"width\":0.5},\"pattern\":{\"fillmode\":\"overlay\",\"size\":10,\"solidity\":0.2}},\"type\":\"bar\"}],\"scattergeo\":[{\"type\":\"scattergeo\",\"marker\":{\"colorbar\":{\"outlinewidth\":0,\"ticks\":\"\"}}}],\"scatterpolar\":[{\"type\":\"scatterpolar\",\"marker\":{\"colorbar\":{\"outlinewidth\":0,\"ticks\":\"\"}}}],\"histogram\":[{\"marker\":{\"pattern\":{\"fillmode\":\"overlay\",\"size\":10,\"solidity\":0.2}},\"type\":\"histogram\"}],\"scattergl\":[{\"type\":\"scattergl\",\"marker\":{\"colorbar\":{\"outlinewidth\":0,\"ticks\":\"\"}}}],\"scatter3d\":[{\"type\":\"scatter3d\",\"line\":{\"colorbar\":{\"outlinewidth\":0,\"ticks\":\"\"}},\"marker\":{\"colorbar\":{\"outlinewidth\":0,\"ticks\":\"\"}}}],\"scattermapbox\":[{\"type\":\"scattermapbox\",\"marker\":{\"colorbar\":{\"outlinewidth\":0,\"ticks\":\"\"}}}],\"scatterternary\":[{\"type\":\"scatterternary\",\"marker\":{\"colorbar\":{\"outlinewidth\":0,\"ticks\":\"\"}}}],\"scattercarpet\":[{\"type\":\"scattercarpet\",\"marker\":{\"colorbar\":{\"outlinewidth\":0,\"ticks\":\"\"}}}],\"carpet\":[{\"aaxis\":{\"endlinecolor\":\"#2a3f5f\",\"gridcolor\":\"white\",\"linecolor\":\"white\",\"minorgridcolor\":\"white\",\"startlinecolor\":\"#2a3f5f\"},\"baxis\":{\"endlinecolor\":\"#2a3f5f\",\"gridcolor\":\"white\",\"linecolor\":\"white\",\"minorgridcolor\":\"white\",\"startlinecolor\":\"#2a3f5f\"},\"type\":\"carpet\"}],\"table\":[{\"cells\":{\"fill\":{\"color\":\"#EBF0F8\"},\"line\":{\"color\":\"white\"}},\"header\":{\"fill\":{\"color\":\"#C8D4E3\"},\"line\":{\"color\":\"white\"}},\"type\":\"table\"}],\"barpolar\":[{\"marker\":{\"line\":{\"color\":\"#E5ECF6\",\"width\":0.5},\"pattern\":{\"fillmode\":\"overlay\",\"size\":10,\"solidity\":0.2}},\"type\":\"barpolar\"}],\"pie\":[{\"automargin\":true,\"type\":\"pie\"}]},\"layout\":{\"autotypenumbers\":\"strict\",\"colorway\":[\"#636efa\",\"#EF553B\",\"#00cc96\",\"#ab63fa\",\"#FFA15A\",\"#19d3f3\",\"#FF6692\",\"#B6E880\",\"#FF97FF\",\"#FECB52\"],\"font\":{\"color\":\"#2a3f5f\"},\"hovermode\":\"closest\",\"hoverlabel\":{\"align\":\"left\"},\"paper_bgcolor\":\"white\",\"plot_bgcolor\":\"#E5ECF6\",\"polar\":{\"bgcolor\":\"#E5ECF6\",\"angularaxis\":{\"gridcolor\":\"white\",\"linecolor\":\"white\",\"ticks\":\"\"},\"radialaxis\":{\"gridcolor\":\"white\",\"linecolor\":\"white\",\"ticks\":\"\"}},\"ternary\":{\"bgcolor\":\"#E5ECF6\",\"aaxis\":{\"gridcolor\":\"white\",\"linecolor\":\"white\",\"ticks\":\"\"},\"baxis\":{\"gridcolor\":\"white\",\"linecolor\":\"white\",\"ticks\":\"\"},\"caxis\":{\"gridcolor\":\"white\",\"linecolor\":\"white\",\"ticks\":\"\"}},\"coloraxis\":{\"colorbar\":{\"outlinewidth\":0,\"ticks\":\"\"}},\"colorscale\":{\"sequential\":[[0.0,\"#0d0887\"],[0.1111111111111111,\"#46039f\"],[0.2222222222222222,\"#7201a8\"],[0.3333333333333333,\"#9c179e\"],[0.4444444444444444,\"#bd3786\"],[0.5555555555555556,\"#d8576b\"],[0.6666666666666666,\"#ed7953\"],[0.7777777777777778,\"#fb9f3a\"],[0.8888888888888888,\"#fdca26\"],[1.0,\"#f0f921\"]],\"sequentialminus\":[[0.0,\"#0d0887\"],[0.1111111111111111,\"#46039f\"],[0.2222222222222222,\"#7201a8\"],[0.3333333333333333,\"#9c179e\"],[0.4444444444444444,\"#bd3786\"],[0.5555555555555556,\"#d8576b\"],[0.6666666666666666,\"#ed7953\"],[0.7777777777777778,\"#fb9f3a\"],[0.8888888888888888,\"#fdca26\"],[1.0,\"#f0f921\"]],\"diverging\":[[0,\"#8e0152\"],[0.1,\"#c51b7d\"],[0.2,\"#de77ae\"],[0.3,\"#f1b6da\"],[0.4,\"#fde0ef\"],[0.5,\"#f7f7f7\"],[0.6,\"#e6f5d0\"],[0.7,\"#b8e186\"],[0.8,\"#7fbc41\"],[0.9,\"#4d9221\"],[1,\"#276419\"]]},\"xaxis\":{\"gridcolor\":\"white\",\"linecolor\":\"white\",\"ticks\":\"\",\"title\":{\"standoff\":15},\"zerolinecolor\":\"white\",\"automargin\":true,\"zerolinewidth\":2},\"yaxis\":{\"gridcolor\":\"white\",\"linecolor\":\"white\",\"ticks\":\"\",\"title\":{\"standoff\":15},\"zerolinecolor\":\"white\",\"automargin\":true,\"zerolinewidth\":2},\"scene\":{\"xaxis\":{\"backgroundcolor\":\"#E5ECF6\",\"gridcolor\":\"white\",\"linecolor\":\"white\",\"showbackground\":true,\"ticks\":\"\",\"zerolinecolor\":\"white\",\"gridwidth\":2},\"yaxis\":{\"backgroundcolor\":\"#E5ECF6\",\"gridcolor\":\"white\",\"linecolor\":\"white\",\"showbackground\":true,\"ticks\":\"\",\"zerolinecolor\":\"white\",\"gridwidth\":2},\"zaxis\":{\"backgroundcolor\":\"#E5ECF6\",\"gridcolor\":\"white\",\"linecolor\":\"white\",\"showbackground\":true,\"ticks\":\"\",\"zerolinecolor\":\"white\",\"gridwidth\":2}},\"shapedefaults\":{\"line\":{\"color\":\"#2a3f5f\"}},\"annotationdefaults\":{\"arrowcolor\":\"#2a3f5f\",\"arrowhead\":0,\"arrowwidth\":1},\"geo\":{\"bgcolor\":\"white\",\"landcolor\":\"#E5ECF6\",\"subunitcolor\":\"white\",\"showland\":true,\"showlakes\":true,\"lakecolor\":\"white\"},\"title\":{\"x\":0.05},\"mapbox\":{\"style\":\"light\"}}},\"xaxis\":{\"anchor\":\"y\",\"domain\":[0.0,1.0],\"title\":{\"text\":\"weekly_gross_overall\"}},\"yaxis\":{\"anchor\":\"x\",\"domain\":[0.0,1.0],\"title\":{\"text\":\"avg_ticket_price\"}},\"legend\":{\"tracegroupgap\":0},\"margin\":{\"t\":60},\"title\":{\"text\":\"Weekly Gross Overall Income vs. Average Ticket Price - Show is Hamilton\"}},                        {\"responsive\": true}                    ).then(function(){\n",
       "                            \n",
       "var gd = document.getElementById('c3ad4e1a-c10d-4157-9f71-df798e977560');\n",
       "var x = new MutationObserver(function (mutations, observer) {{\n",
       "        var display = window.getComputedStyle(gd).display;\n",
       "        if (!display || display === 'none') {{\n",
       "            console.log([gd, 'removed!']);\n",
       "            Plotly.purge(gd);\n",
       "            observer.disconnect();\n",
       "        }}\n",
       "}});\n",
       "\n",
       "// Listen for the removal of the full notebook cells\n",
       "var notebookContainer = gd.closest('#notebook-container');\n",
       "if (notebookContainer) {{\n",
       "    x.observe(notebookContainer, {childList: true});\n",
       "}}\n",
       "\n",
       "// Listen for the clearing of the current output cell\n",
       "var outputEl = gd.closest('.output');\n",
       "if (outputEl) {{\n",
       "    x.observe(outputEl, {childList: true});\n",
       "}}\n",
       "\n",
       "                        })                };                });            </script>        </div>"
      ]
     },
     "metadata": {},
     "output_type": "display_data"
    }
   ],
   "source": [
    "# Title needs to reflect boolean selection\n",
    "\n",
    "fig = px.scatter(broadway[broadway.Hamilton=='Yes'], x=\"weekly_gross_overall\", y=\"avg_ticket_price\", trendline=\"ols\")\n",
    "fig.update_layout(title=\"Weekly Gross Overall Income vs. Average Ticket Price - Show is Hamilton\")"
   ]
  },
  {
   "cell_type": "markdown",
   "id": "a295ddfa",
   "metadata": {},
   "source": [
    "### Q17: Make two new plots by adding either  `facet_col=\"Hamilton\"` or `color=\"Hamilton\"` to your plotting code from Q2 to examine these two associations introduced above in a more \"side by side\" manner\n",
    "\n",
    "#### Add titles to your figures describing the nature of the new visualizations with respect to `weekly_gross_overall`,  `avg_ticket_price`, and whether or not a show was Hamilton \n",
    "\n",
    "> - Hint 1: Your code for Q2 should have been `px.scatter(broadway, x='weekly_gross_overall', y='avg_ticket_price', trendline=\"ols\")` and make sure to continue to use `trendline=\"ols\"` \n",
    "> - Hint 2: Don't use the boolean selections, like `[broadway.Hamilton=='Yes']` as was initially done above\n",
    "> - Hint 3: Facet wraps allow you to view individual categories in their own graph and colouring allows you to colour a point based on the value of a categorial variable\n",
    "\n",
    "- *Inclusion and correctness of your graphs, including the addition of titles using `fig.update_layout(title=\"...')`, will be manually reviewed and confirmed by your TA*"
   ]
  },
  {
   "cell_type": "code",
   "execution_count": null,
   "id": "bdea0023",
   "metadata": {},
   "outputs": [],
   "source": [
    "# Facet Plot after adding `facet_col=\"Hamilton\"` to the Q2 figure code"
   ]
  },
  {
   "cell_type": "code",
   "execution_count": null,
   "id": "e31f9903",
   "metadata": {},
   "outputs": [],
   "source": [
    "# Single Plot with Colour after adding `color=\"Hamilton\"` to the Q2 figure code"
   ]
  },
  {
   "cell_type": "markdown",
   "id": "ee9640b5",
   "metadata": {},
   "source": [
    "# Looking Forward...\n",
    "\n",
    "We will continue to explore the use of categorical variables in a linear model context, both on their own as sole predictors in a simple linear regression specification (which was not done in this homework) as well as in conjunction with other variables (as was just done above in this homework). This latter ability to simultaneously utilize multiple variables is called multiple linear regression. Using multiple variables together at the same time allows us to perform more powerful analyses than can be done using simple linear regression alone.  This is demonstrated in the figure below, where we demonstrate a multiple linear regression specification which extends a simple linear regression based on `weekly_gross_overall` by adding both the categorical (indicator) variable considered above as well as a \"squared-transformed\" version of the `weekly_gross_overall` variable itself into the same multiple linear regression model. This is indeed still a linear model, but through this multiple linear regression specification (specifically, by adding the \"squared-transformed\" version of the `weekly_gross_overall` variable) we are able to model a quadratic (parabolic) curve in addition to a straight-line curve. "
   ]
  },
  {
   "cell_type": "code",
   "execution_count": null,
   "id": "4ebfab11",
   "metadata": {},
   "outputs": [],
   "source": [
    "import statsmodels.formula.api as smf\n",
    "\n",
    "# Notice that we're no longer using `log_avg_ticket_price` and `weekly_gross_overall_in_100k`\n",
    "# as we've returned to using the original variables `avg_ticket_price` and `weekly_gross_overall`\n",
    "\n",
    "YX = broadway[['avg_ticket_price','weekly_gross_overall', 'Hamilton']].copy()\n",
    "YX['weekly_gross_overall_squared_Hamilton'] = (YX.Hamilton==\"Yes\")*YX.weekly_gross_overall**2\n",
    "model = smf.ols(formula='avg_ticket_price ~ 1 + weekly_gross_overall*Hamilton + weekly_gross_overall_squared_Hamilton', data=YX)\n",
    "fit_model = model.fit()\n",
    "\n",
    "fig = px.scatter(broadway, x='weekly_gross_overall', y='avg_ticket_price', color=\"Hamilton\")\n",
    "\n",
    "YX_subset_sorted = YX[broadway.Hamilton=='Yes'].sort_values('weekly_gross_overall')\n",
    "fig.add_trace(go.Scatter(x=YX_subset_sorted.weekly_gross_overall,\n",
    "                         y=fit_model.predict(YX_subset_sorted),\n",
    "                         mode=\"lines\", line=go.scatter.Line(color=\"red\"), showlegend=False))\n",
    "YX_subset_sorted = YX[broadway.Hamilton=='No'].sort_values('weekly_gross_overall')\n",
    "fig.add_trace(go.Scatter(x=YX_subset_sorted.weekly_gross_overall,\n",
    "                         y=fit_model.predict(YX_subset_sorted),\n",
    "                         mode=\"lines\", line=go.scatter.Line(color=\"blue\"), showlegend=False))"
   ]
  },
  {
   "cell_type": "markdown",
   "id": "85c52fb4",
   "metadata": {},
   "source": [
    "As stated above, the modelled association between the `avg_ticket_price` and `weekly_gross_overall` variables for the shows that are `Hamilton` is now a curved relationship rather than a \"straight-line\" relationship. However, this curved relationship was created through a \"linear model specification\" based on using a \"squared-transformed\" version of the `weekly_gross_overall` variable and including it into the model alongside the original `weekly_gross_overall` variable.  Specifically, the **multiple linear regression specification** providing this relationship modeling is\n",
    "\n",
    "`formula='avg_ticket_price ~ 1 + weekly_gross_overall*Hamilton + weekly_gross_overall_squared_Hamilton'`\n",
    "\n",
    "where the `weekly_gross_overall_squared_Hamilton` term is what provides the curved relationship, while the use of the ***indicator variable*** `Hamilton` in an **interaction** specification alongside `weekly_gross_overall` is what allows there to be two different prediction lines made by the same linear regression model. "
   ]
  },
  {
   "cell_type": "markdown",
   "id": "1e3c5dbd",
   "metadata": {},
   "source": [
    "### Q18: Consider the figure above and comment on (a) the appropriateness of using correlation as a measure to characterize the associations present in the two data subsets induced by whether a show is \"Hamilton\" or not, and (b) the appropriateness of the assumptions of *normality* and *homoskedastic (constant) variance* relative to the two prediction lines of this model.\n",
    "\n",
    "> - Hint 1: **Correlation measures of the <u>uniform strength</u> of \"straight line\" linear association between two variables**\n",
    "> - Hint 2: This is indeed a single linear regression model; but, it's just able to make two different prediction lines due to the interaction with the `Hamilton` indicator variable\n",
    "> - Hint 3: As discussed above, this is still indeed technically a \"linear model\" even though it's able to produce a curved prediction line on the basis of the \"squared-transformed\" version of the `weekly_gross_overall` variable \n",
    "\n",
    "- *Compare your answer against the example answer provided in the **MarkUs** autotesting output*\n"
   ]
  },
  {
   "cell_type": "markdown",
   "id": "10fbd18b",
   "metadata": {},
   "source": [
    "> Answer here..."
   ]
  }
 ],
 "metadata": {
  "kernelspec": {
   "display_name": "Python 3 (ipykernel)",
   "language": "python",
   "name": "python3"
  },
  "language_info": {
   "codemirror_mode": {
    "name": "ipython",
    "version": 3
   },
   "file_extension": ".py",
   "mimetype": "text/x-python",
   "name": "python",
   "nbconvert_exporter": "python",
   "pygments_lexer": "ipython3",
   "version": "3.11.4"
  }
 },
 "nbformat": 4,
 "nbformat_minor": 5
}
